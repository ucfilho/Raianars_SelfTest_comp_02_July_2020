{
  "nbformat": 4,
  "nbformat_minor": 0,
  "metadata": {
    "colab": {
      "name": "Stats_1000_Bent_Cigar_ALL_D_30_JUL_04_2020.ipynb",
      "provenance": [],
      "collapsed_sections": [],
      "authorship_tag": "ABX9TyMu6we1hKARFW4OR89VgeeA",
      "include_colab_link": true
    },
    "kernelspec": {
      "name": "python3",
      "display_name": "Python 3"
    }
  },
  "cells": [
    {
      "cell_type": "markdown",
      "metadata": {
        "id": "view-in-github",
        "colab_type": "text"
      },
      "source": [
        "<a href=\"https://colab.research.google.com/github/ucfilho/Raianars_SelfTest_comp_02_July_2020/blob/master/Stats_1000_Bent_Cigar_ALL_D_30_JUL_04_2020.ipynb\" target=\"_parent\"><img src=\"https://colab.research.google.com/assets/colab-badge.svg\" alt=\"Open In Colab\"/></a>"
      ]
    },
    {
      "cell_type": "code",
      "metadata": {
        "id": "MC26Bm1UyUR5",
        "colab_type": "code",
        "colab": {
          "base_uri": "https://localhost:8080/",
          "height": 110
        },
        "outputId": "7b187ede-a041-4de3-ac51-64c480e97d1d"
      },
      "source": [
        "!pip install pyade-python"
      ],
      "execution_count": 1,
      "outputs": [
        {
          "output_type": "stream",
          "text": [
            "Collecting pyade-python\n",
            "  Downloading https://files.pythonhosted.org/packages/02/e7/aefff90c8de0ad3ff151d51507ec65a2988b7cce9126c342746f77615d9f/pyade_python-1.1-py3-none-any.whl\n",
            "Installing collected packages: pyade-python\n",
            "Successfully installed pyade-python-1.1\n"
          ],
          "name": "stdout"
        }
      ]
    },
    {
      "cell_type": "code",
      "metadata": {
        "id": "rRwqrtCmgzdZ",
        "colab_type": "code",
        "colab": {
          "base_uri": "https://localhost:8080/",
          "height": 237
        },
        "outputId": "55cbf4b2-86e1-4b5b-a2b9-d643c7065281"
      },
      "source": [
        "!pip install PyFDE"
      ],
      "execution_count": 2,
      "outputs": [
        {
          "output_type": "stream",
          "text": [
            "Collecting PyFDE\n",
            "\u001b[?25l  Downloading https://files.pythonhosted.org/packages/72/f9/87f7279554d2682e3827d39c3d3a565b2fd42f7114a779e34a601c6c5079/PyFDE-1.3.0.tar.gz (397kB)\n",
            "\r\u001b[K     |▉                               | 10kB 19.5MB/s eta 0:00:01\r\u001b[K     |█▋                              | 20kB 6.7MB/s eta 0:00:01\r\u001b[K     |██▌                             | 30kB 7.9MB/s eta 0:00:01\r\u001b[K     |███▎                            | 40kB 8.0MB/s eta 0:00:01\r\u001b[K     |████▏                           | 51kB 7.2MB/s eta 0:00:01\r\u001b[K     |█████                           | 61kB 7.6MB/s eta 0:00:01\r\u001b[K     |█████▊                          | 71kB 8.1MB/s eta 0:00:01\r\u001b[K     |██████▋                         | 81kB 8.5MB/s eta 0:00:01\r\u001b[K     |███████▍                        | 92kB 7.9MB/s eta 0:00:01\r\u001b[K     |████████▎                       | 102kB 8.3MB/s eta 0:00:01\r\u001b[K     |█████████                       | 112kB 8.3MB/s eta 0:00:01\r\u001b[K     |██████████                      | 122kB 8.3MB/s eta 0:00:01\r\u001b[K     |██████████▊                     | 133kB 8.3MB/s eta 0:00:01\r\u001b[K     |███████████▌                    | 143kB 8.3MB/s eta 0:00:01\r\u001b[K     |████████████▍                   | 153kB 8.3MB/s eta 0:00:01\r\u001b[K     |█████████████▏                  | 163kB 8.3MB/s eta 0:00:01\r\u001b[K     |██████████████                  | 174kB 8.3MB/s eta 0:00:01\r\u001b[K     |██████████████▉                 | 184kB 8.3MB/s eta 0:00:01\r\u001b[K     |███████████████▊                | 194kB 8.3MB/s eta 0:00:01\r\u001b[K     |████████████████▌               | 204kB 8.3MB/s eta 0:00:01\r\u001b[K     |█████████████████▎              | 215kB 8.3MB/s eta 0:00:01\r\u001b[K     |██████████████████▏             | 225kB 8.3MB/s eta 0:00:01\r\u001b[K     |███████████████████             | 235kB 8.3MB/s eta 0:00:01\r\u001b[K     |███████████████████▉            | 245kB 8.3MB/s eta 0:00:01\r\u001b[K     |████████████████████▋           | 256kB 8.3MB/s eta 0:00:01\r\u001b[K     |█████████████████████▌          | 266kB 8.3MB/s eta 0:00:01\r\u001b[K     |██████████████████████▎         | 276kB 8.3MB/s eta 0:00:01\r\u001b[K     |███████████████████████         | 286kB 8.3MB/s eta 0:00:01\r\u001b[K     |████████████████████████        | 296kB 8.3MB/s eta 0:00:01\r\u001b[K     |████████████████████████▊       | 307kB 8.3MB/s eta 0:00:01\r\u001b[K     |█████████████████████████▋      | 317kB 8.3MB/s eta 0:00:01\r\u001b[K     |██████████████████████████▍     | 327kB 8.3MB/s eta 0:00:01\r\u001b[K     |███████████████████████████▎    | 337kB 8.3MB/s eta 0:00:01\r\u001b[K     |████████████████████████████    | 348kB 8.3MB/s eta 0:00:01\r\u001b[K     |████████████████████████████▉   | 358kB 8.3MB/s eta 0:00:01\r\u001b[K     |█████████████████████████████▊  | 368kB 8.3MB/s eta 0:00:01\r\u001b[K     |██████████████████████████████▌ | 378kB 8.3MB/s eta 0:00:01\r\u001b[K     |███████████████████████████████▍| 389kB 8.3MB/s eta 0:00:01\r\u001b[K     |████████████████████████████████| 399kB 8.3MB/s \n",
            "\u001b[?25hRequirement already satisfied: numpy in /usr/local/lib/python3.6/dist-packages (from PyFDE) (1.18.5)\n",
            "Building wheels for collected packages: PyFDE\n",
            "  Building wheel for PyFDE (setup.py) ... \u001b[?25l\u001b[?25hdone\n",
            "  Created wheel for PyFDE: filename=PyFDE-1.3.0-cp36-cp36m-linux_x86_64.whl size=969302 sha256=dc03501b447cada9f33589a25884885d65dda714fca6ce7a17dc9b560c766621\n",
            "  Stored in directory: /root/.cache/pip/wheels/7d/42/ba/abf21db37934e576c74fc2c9504b5cd97eb6a99e3dec1743c0\n",
            "Successfully built PyFDE\n",
            "Installing collected packages: PyFDE\n",
            "Successfully installed PyFDE-1.3.0\n"
          ],
          "name": "stdout"
        }
      ]
    },
    {
      "cell_type": "code",
      "metadata": {
        "id": "anFukot-ypn6",
        "colab_type": "code",
        "colab": {}
      },
      "source": [
        "import pyade.ilshade \n",
        "import pyade.sade \n",
        "import pyade.jso\n",
        "import pyade.shade\n",
        "import pyade.jade \n",
        "import pyfde\n",
        "import numpy as np\n",
        "import pandas as pd\n",
        "import time"
      ],
      "execution_count": 3,
      "outputs": []
    },
    {
      "cell_type": "code",
      "metadata": {
        "id": "6Oh714_-z1Ia",
        "colab_type": "code",
        "colab": {
          "base_uri": "https://localhost:8080/",
          "height": 163
        },
        "outputId": "b1c74083-e6b3-4aab-fea4-d9289da226da"
      },
      "source": [
        "!git clone https://github.com/ucfilho/Raianars_July_2020 #clonar do Github\n",
        "%cd Raianars_July_2020"
      ],
      "execution_count": 4,
      "outputs": [
        {
          "output_type": "stream",
          "text": [
            "Cloning into 'Raianars_July_2020'...\n",
            "remote: Enumerating objects: 3, done.\u001b[K\n",
            "remote: Counting objects: 100% (3/3), done.\u001b[K\n",
            "remote: Compressing objects: 100% (3/3), done.\u001b[K\n",
            "remote: Total 126 (delta 0), reused 0 (delta 0), pack-reused 123\n",
            "Receiving objects: 100% (126/126), 198.23 KiB | 962.00 KiB/s, done.\n",
            "Resolving deltas: 100% (62/62), done.\n",
            "/content/Raianars_July_2020\n"
          ],
          "name": "stdout"
        }
      ]
    },
    {
      "cell_type": "code",
      "metadata": {
        "id": "LnzftXkky78A",
        "colab_type": "code",
        "colab": {}
      },
      "source": [
        "import Go2Ann\n",
        "import de_soma_Insight\n",
        "import de_bounds_matriz\n",
        "from AvaliaX import AvaliaX\n",
        "from GeraIndices import GeraIndices"
      ],
      "execution_count": 5,
      "outputs": []
    },
    {
      "cell_type": "code",
      "metadata": {
        "id": "HNW92728z7fR",
        "colab_type": "code",
        "colab": {}
      },
      "source": [
        "import Function\n",
        "import Go2MinMax"
      ],
      "execution_count": 6,
      "outputs": []
    },
    {
      "cell_type": "code",
      "metadata": {
        "id": "T_C-e7aH0CZH",
        "colab_type": "code",
        "colab": {}
      },
      "source": [
        "ITE=1000 #10 # PONTOS quantas vezes vai alteral NPAR \n",
        "NPAR=100 # NUMBER OF PARTICLES\n",
        "dim=30\n",
        "RUNS=50\n",
        "fchoice='Bent_Cigar'  #f2\n",
        "Fun=Function.Bent_Cigar\n",
        "\n",
        "MIN,MAX=Go2MinMax.Intervalo(dim,fchoice)\n",
        "bounds = [(0,0)]*dim\n",
        "\n",
        "for i in range(dim):\n",
        "  bounds[i] = (MIN[i],MAX[i])"
      ],
      "execution_count": 7,
      "outputs": []
    },
    {
      "cell_type": "code",
      "metadata": {
        "id": "Nqv5qp9yzQEw",
        "colab_type": "code",
        "colab": {}
      },
      "source": [
        "############################### INPUT INFORMATION (FRANNK)\n",
        "Fc=0.1 # fator de correcao parametros da ANN\n",
        "its=1 #10 # quantas vezes vai usar o NPAR antes de alterar de novo\n",
        "mut=0.5\n",
        "crossp=0.5\n",
        "Fi=mut;CRi=crossp;# para impressão\n",
        "PAR=len(MAX) #NUM DE PARAMETROS A SER OTIMIZADOS"
      ],
      "execution_count": 8,
      "outputs": []
    },
    {
      "cell_type": "code",
      "metadata": {
        "id": "WkbM98uny0QY",
        "colab_type": "code",
        "colab": {
          "base_uri": "https://localhost:8080/",
          "height": 345
        },
        "outputId": "4f276502-ca3a-497f-d0a5-a30b37ea70c1"
      },
      "source": [
        "# IL-Shade\n",
        "\n",
        "BEST_AGENTS=[]\n",
        "start_time = time.time() \n",
        "for i in range(RUNS):\n",
        "  ANSWER_AGENTS=[]\n",
        "  algorithm = pyade.ilshade \n",
        "  params = algorithm.get_default_params(dim=dim) \n",
        "  params['bounds'] = np.array(bounds)\n",
        "  params['max_evals'] = ITE \n",
        "  params['func'] = Fun\n",
        "  params['max_evals'] = ITE\n",
        "  best, fit = algorithm.apply(**params)\n",
        "  for x in best:\n",
        "    ANSWER_AGENTS.append(x)\n",
        "  ANSWER_AGENTS.append(fit)\n",
        "  BEST_AGENTS.append(ANSWER_AGENTS)\n",
        "BEST_AGENTS=np.array(BEST_AGENTS)\n",
        "TIME = (time.time() - start_time)/RUNS\n",
        "BEST_AGENTS=np.array(BEST_AGENTS)\n",
        "BEST_AGENTS_ST= BEST_AGENTS[BEST_AGENTS[:,-1].argsort()]\n",
        "BEST=BEST_AGENTS_ST[0]\n",
        "WORSE=BEST_AGENTS_ST[-1]\n",
        "MEAN=np.mean(BEST_AGENTS,axis=0)\n",
        "MAXFO=BEST_AGENTS[:,-1].max()\n",
        "MINFO=BEST_AGENTS[:,-1].min()\n",
        "STD=BEST_AGENTS[:,-1].std()\n",
        "nome='IL-Shade_Fo-'+str(0)+'_CRo-'+str(0)\n",
        "print(nome,'NPAR',NPAR,'Iterações=',ITE,'Dim=',dim ,\"Min/Max=\",MIN[0],\"/\",MAX[0],'_',Fun.__name__)\n",
        "print( '\\n')\n",
        "print('MÉDIA: ',MEAN[-1])\n",
        "print('MIN __:',MINFO)\n",
        "print('MAX__: ',MAXFO)\n",
        "print('STD __:',STD)\n",
        "print(\"Tempo Médio= %.3f segundos ---\" % (TIME))\n",
        "print(RUNS,'Rodadas') \n",
        "print()\n",
        "print('BEST: ',BEST)"
      ],
      "execution_count": 9,
      "outputs": [
        {
          "output_type": "stream",
          "text": [
            "IL-Shade_Fo-0_CRo-0 NPAR 100 Iterações= 1000 Dim= 30 Min/Max= -100 / 100 _ Bent_Cigar\n",
            "\n",
            "\n",
            "MÉDIA:  1317639.9006433007\n",
            "MIN __: 644021.5904249536\n",
            "MAX__:  2370138.13203943\n",
            "STD __: 375631.08991117345\n",
            "Tempo Médio= 0.086 segundos ---\n",
            "50 Rodadas\n",
            "\n",
            "BEST:  [ 3.75693567e-01 -4.38410248e-02 -2.45948036e-01  1.71882434e-01\n",
            " -2.15595105e-01  3.36284699e-02 -8.44120951e-02  4.62548921e-03\n",
            "  1.65024337e-01  8.05551992e-02  9.29281232e-02  8.00100973e-02\n",
            "  1.74480513e-01  2.13248696e-01  4.88741550e-03  1.93315438e-01\n",
            "  3.87398117e-02 -5.82325536e-02 -3.41768288e-02  1.99396527e-01\n",
            " -2.95365342e-02  8.62333801e-02 -6.15108023e-02 -2.18478376e-02\n",
            "  2.92255288e-01  1.32316627e-01  1.45339176e-01 -1.84562138e-01\n",
            " -3.06399029e-01 -1.57663092e-01  6.44021590e+05]\n"
          ],
          "name": "stdout"
        }
      ]
    },
    {
      "cell_type": "code",
      "metadata": {
        "id": "v4dbY4tSsFMb",
        "colab_type": "code",
        "colab": {
          "base_uri": "https://localhost:8080/",
          "height": 345
        },
        "outputId": "59e16294-1f75-42ad-9a20-7035c9cca39a"
      },
      "source": [
        "# Jso\n",
        "\n",
        "BEST_AGENTS=[]\n",
        "start_time = time.time() \n",
        "for i in range(RUNS):\n",
        "  ANSWER_AGENTS=[]\n",
        "  algorithm = pyade.jso\n",
        "  params = algorithm.get_default_params(dim=dim) \n",
        "  params['bounds'] = np.array(bounds)\n",
        "  params['max_evals'] = ITE \n",
        "  params['func'] = Fun\n",
        "  best, fit = algorithm.apply(**params)\n",
        "  for x in best:\n",
        "    ANSWER_AGENTS.append(x)\n",
        "  ANSWER_AGENTS.append(fit)\n",
        "  BEST_AGENTS.append(ANSWER_AGENTS)\n",
        "BEST_AGENTS=np.array(BEST_AGENTS)\n",
        "TIME = (time.time() - start_time)/RUNS\n",
        "BEST_AGENTS=np.array(BEST_AGENTS)\n",
        "BEST_AGENTS_ST= BEST_AGENTS[BEST_AGENTS[:,-1].argsort()]\n",
        "BEST=BEST_AGENTS_ST[0]\n",
        "WORSE=BEST_AGENTS_ST[-1]\n",
        "MEAN=np.mean(BEST_AGENTS,axis=0)\n",
        "MAXFO=BEST_AGENTS[:,-1].max()\n",
        "MINFO=BEST_AGENTS[:,-1].min()\n",
        "STD=BEST_AGENTS[:,-1].std()\n",
        "nome='Jso-'+str(0)+'_CRo-'+str(0)\n",
        "print(nome,'NPAR',NPAR,'Iterações=',ITE,'Dim=',dim ,\"Min/Max=\",MIN[0],\"/\",MAX[0],'_',Fun.__name__)\n",
        "print( '\\n')\n",
        "print('MÉDIA: ',MEAN[-1])\n",
        "print('MIN __:',MINFO)\n",
        "print('MAX__: ',MAXFO)\n",
        "print('STD __:',STD)\n",
        "print(\"Tempo Médio= %.3f segundos ---\" % (TIME))\n",
        "print(RUNS,'Rodadas') \n",
        "print()\n",
        "print('BEST: ',BEST)"
      ],
      "execution_count": 10,
      "outputs": [
        {
          "output_type": "stream",
          "text": [
            "Jso-0_CRo-0 NPAR 100 Iterações= 1000 Dim= 30 Min/Max= -100 / 100 _ Bent_Cigar\n",
            "\n",
            "\n",
            "MÉDIA:  3318724.882658208\n",
            "MIN __: 1359875.3841928495\n",
            "MAX__:  6021219.078061995\n",
            "STD __: 1021934.4924161298\n",
            "Tempo Médio= 0.046 segundos ---\n",
            "50 Rodadas\n",
            "\n",
            "BEST:  [ 2.09430349e-01  1.48786050e-01 -2.13829692e-01  5.43990830e-02\n",
            " -6.73720390e-02  2.49900807e-01 -4.16066585e-01  4.58215698e-01\n",
            "  1.23940837e-01 -3.27167698e-02  1.61812405e-01  5.76331507e-02\n",
            "  7.79550297e-02  1.25179500e-01  1.11753760e-01 -1.50035803e-01\n",
            "  2.10661802e-02 -4.44108342e-01  1.81494516e-02 -4.13190584e-02\n",
            "  1.62252577e-01  3.48279828e-01 -8.76834839e-02  1.37739813e-01\n",
            " -3.37400864e-01  3.99740688e-01  1.14817628e-01  9.46298677e-02\n",
            " -2.52306352e-01 -5.37002408e-02  1.35987538e+06]\n"
          ],
          "name": "stdout"
        }
      ]
    },
    {
      "cell_type": "code",
      "metadata": {
        "id": "ZkV_dpDa14C8",
        "colab_type": "code",
        "colab": {
          "base_uri": "https://localhost:8080/",
          "height": 345
        },
        "outputId": "ecfea987-2e04-4220-ba5e-9c2e720f835c"
      },
      "source": [
        "# Sade\n",
        "\n",
        "BEST_AGENTS=[]\n",
        "start_time = time.time() \n",
        "for i in range(RUNS):\n",
        "  ANSWER_AGENTS=[]\n",
        "  algorithm = pyade.sade\n",
        "  params = algorithm.get_default_params(dim=dim) \n",
        "  params['bounds'] = np.array(bounds)\n",
        "  params['max_evals'] = ITE \n",
        "  params['func'] = Fun\n",
        "  best, fit = algorithm.apply(**params)\n",
        "  for x in best:\n",
        "    ANSWER_AGENTS.append(x)\n",
        "  ANSWER_AGENTS.append(fit)\n",
        "  BEST_AGENTS.append(ANSWER_AGENTS)\n",
        "BEST_AGENTS=np.array(BEST_AGENTS)\n",
        "TIME = (time.time() - start_time)/RUNS\n",
        "BEST_AGENTS=np.array(BEST_AGENTS)\n",
        "BEST_AGENTS_ST= BEST_AGENTS[BEST_AGENTS[:,-1].argsort()]\n",
        "BEST=BEST_AGENTS_ST[0]\n",
        "WORSE=BEST_AGENTS_ST[-1]\n",
        "MEAN=np.mean(BEST_AGENTS,axis=0)\n",
        "MAXFO=BEST_AGENTS[:,-1].max()\n",
        "MINFO=BEST_AGENTS[:,-1].min()\n",
        "STD=BEST_AGENTS[:,-1].std()\n",
        "nome='Sade_Fo-'+str(0)+'_CRo-'+str(0)\n",
        "print(nome,'NPAR',NPAR,'Iterações=',ITE,'Dim=',dim ,\"Min/Max=\",MIN[0],\"/\",MAX[0],'_',Fun.__name__)\n",
        "print( '\\n')\n",
        "print('MÉDIA: ',MEAN[-1])\n",
        "print('MIN __:',MINFO)\n",
        "print('MAX__: ',MAXFO)\n",
        "print('STD __:',STD)\n",
        "print(\"Tempo Médio= %.3f segundos ---\" % (TIME))\n",
        "print(RUNS,'Rodadas') \n",
        "print()\n",
        "print('BEST: ',BEST)"
      ],
      "execution_count": 11,
      "outputs": [
        {
          "output_type": "stream",
          "text": [
            "Sade_Fo-0_CRo-0 NPAR 100 Iterações= 1000 Dim= 30 Min/Max= -100 / 100 _ Bent_Cigar\n",
            "\n",
            "\n",
            "MÉDIA:  9250268.940036109\n",
            "MIN __: 6745666.659997254\n",
            "MAX__:  11915040.808181493\n",
            "STD __: 1213156.1929618188\n",
            "Tempo Médio= 0.045 segundos ---\n",
            "50 Rodadas\n",
            "\n",
            "BEST:  [ 6.01018394e-01  1.18859630e-01  3.16506423e-02 -3.63102662e-01\n",
            " -1.88520921e-01 -9.11277176e-01  4.76068750e-01 -1.52670528e-02\n",
            "  1.27339792e+00 -1.30122853e-01  3.04365208e-01 -5.97160164e-01\n",
            "  6.34464131e-02  1.98302799e-01 -2.46156021e-01  5.61761330e-02\n",
            "  1.02279552e+00  5.33518127e-01 -4.32953535e-01 -5.77535429e-02\n",
            " -1.41708762e-01  2.17745385e-01  3.28496042e-01 -3.98038667e-01\n",
            " -7.83113371e-03 -8.18105929e-02 -8.19507803e-01  5.32057730e-01\n",
            " -3.90183039e-01  5.84800001e-01  6.74566666e+06]\n"
          ],
          "name": "stdout"
        }
      ]
    },
    {
      "cell_type": "code",
      "metadata": {
        "id": "q77YsFa82zFU",
        "colab_type": "code",
        "colab": {
          "base_uri": "https://localhost:8080/",
          "height": 345
        },
        "outputId": "1154050a-3f9c-4f24-dcee-38a6aa362937"
      },
      "source": [
        "# JADE\n",
        "algorithm = pyade.jso\n",
        "BEST_AGENTS=[]\n",
        "for i in range(RUNS):\n",
        "  ANSWER_AGENTS=[]\n",
        "  solver = pyfde.JADE(Fun, n_dim=dim, n_pop=NPAR, limits=bounds, minimize=True)\n",
        "  solver.p = 0.05\n",
        "  solver.c = 0.1\n",
        "  solver.cr = 0.5\n",
        "  solver.f = 0.5\n",
        "  best, fit = solver.run(n_it=ITE)\n",
        "  for x in best:\n",
        "    ANSWER_AGENTS.append(x)\n",
        "  ANSWER_AGENTS.append(fit)\n",
        "  BEST_AGENTS.append(ANSWER_AGENTS)\n",
        "BEST_AGENTS=np.array(BEST_AGENTS)\n",
        "TIME = (time.time() - start_time)/RUNS\n",
        "BEST_AGENTS=np.array(BEST_AGENTS)\n",
        "BEST_AGENTS_ST= BEST_AGENTS[BEST_AGENTS[:,-1].argsort()]\n",
        "BEST=BEST_AGENTS_ST[0]\n",
        "WORSE=BEST_AGENTS_ST[-1]\n",
        "MEAN=np.mean(BEST_AGENTS,axis=0)\n",
        "MAXFO=BEST_AGENTS[:,-1].max()\n",
        "MINFO=BEST_AGENTS[:,-1].min()\n",
        "STD=BEST_AGENTS[:,-1].std()\n",
        "nome='JADE_Fo-'+str(0)+'_CRo-'+str(0)\n",
        "print(nome,'NPAR',NPAR,'Iterações=',ITE,'Dim=',dim ,\"Min/Max=\",MIN[0],\"/\",MAX[0],'_',Fun.__name__)\n",
        "print( '\\n')\n",
        "print('MÉDIA: ',MEAN[-1])\n",
        "print('MIN __:',MINFO)\n",
        "print('MAX__: ',MAXFO)\n",
        "print('STD __:',STD)\n",
        "print(\"Tempo Médio= %.3f segundos ---\" % (TIME))\n",
        "print(RUNS,'Rodadas') \n",
        "print()\n",
        "print('BEST: ',BEST)"
      ],
      "execution_count": 12,
      "outputs": [
        {
          "output_type": "stream",
          "text": [
            "JADE_Fo-0_CRo-0 NPAR 100 Iterações= 1000 Dim= 30 Min/Max= -100 / 100 _ Bent_Cigar\n",
            "\n",
            "\n",
            "MÉDIA:  -5.093092061315682e-33\n",
            "MIN __: -1.2486906044940502e-31\n",
            "MAX__:  -4.070738889449013e-38\n",
            "STD __: 2.0470197504235014e-32\n",
            "Tempo Médio= 0.987 segundos ---\n",
            "50 Rodadas\n",
            "\n",
            "BEST:  [-7.00397247e-18  1.25341114e-20  4.27257103e-20  3.05063080e-20\n",
            "  1.24040337e-21  7.78122922e-20  2.10467323e-20  5.89301875e-20\n",
            " -9.92067379e-20 -5.13941294e-20  1.13535513e-19 -9.12952950e-20\n",
            "  2.83180633e-20  3.08948914e-20  9.25696873e-20  7.79973997e-21\n",
            " -4.77347230e-20 -1.43909949e-20 -1.03516438e-19 -1.04244057e-19\n",
            " -9.46272890e-20 -1.77534915e-20 -6.90046014e-20 -4.75997845e-20\n",
            "  8.07653771e-21 -6.43510869e-21  9.20570863e-20 -7.94943083e-20\n",
            " -3.32934524e-20  1.07078833e-19 -1.24869060e-31]\n"
          ],
          "name": "stdout"
        }
      ]
    },
    {
      "cell_type": "code",
      "metadata": {
        "id": "gXdUgSStzppX",
        "colab_type": "code",
        "colab": {}
      },
      "source": [
        "# FRANNK START HERE !!!!!"
      ],
      "execution_count": 13,
      "outputs": []
    },
    {
      "cell_type": "code",
      "metadata": {
        "id": "raWOfeJBztuj",
        "colab_type": "code",
        "colab": {
          "base_uri": "https://localhost:8080/",
          "height": 145
        },
        "outputId": "81e83437-463a-42c9-fdfd-51024c93b68f"
      },
      "source": [
        "!git clone https://github.com/ucfilho/ANN_read_matrix #clonar do Github\n",
        "%cd ANN_read_matrix"
      ],
      "execution_count": 14,
      "outputs": [
        {
          "output_type": "stream",
          "text": [
            "Cloning into 'ANN_read_matrix'...\n",
            "remote: Enumerating objects: 20, done.\u001b[K\n",
            "remote: Counting objects:   5% (1/20)\u001b[K\rremote: Counting objects:  10% (2/20)\u001b[K\rremote: Counting objects:  15% (3/20)\u001b[K\rremote: Counting objects:  20% (4/20)\u001b[K\rremote: Counting objects:  25% (5/20)\u001b[K\rremote: Counting objects:  30% (6/20)\u001b[K\rremote: Counting objects:  35% (7/20)\u001b[K\rremote: Counting objects:  40% (8/20)\u001b[K\rremote: Counting objects:  45% (9/20)\u001b[K\rremote: Counting objects:  50% (10/20)\u001b[K\rremote: Counting objects:  55% (11/20)\u001b[K\rremote: Counting objects:  60% (12/20)\u001b[K\rremote: Counting objects:  65% (13/20)\u001b[K\rremote: Counting objects:  70% (14/20)\u001b[K\rremote: Counting objects:  75% (15/20)\u001b[K\rremote: Counting objects:  80% (16/20)\u001b[K\rremote: Counting objects:  85% (17/20)\u001b[K\rremote: Counting objects:  90% (18/20)\u001b[K\rremote: Counting objects:  95% (19/20)\u001b[K\rremote: Counting objects: 100% (20/20)\u001b[K\rremote: Counting objects: 100% (20/20), done.\u001b[K\n",
            "remote: Compressing objects:   5% (1/18)\u001b[K\rremote: Compressing objects:  11% (2/18)\u001b[K\rremote: Compressing objects:  16% (3/18)\u001b[K\rremote: Compressing objects:  22% (4/18)\u001b[K\rremote: Compressing objects:  27% (5/18)\u001b[K\rremote: Compressing objects:  33% (6/18)\u001b[K\rremote: Compressing objects:  38% (7/18)\u001b[K\rremote: Compressing objects:  44% (8/18)\u001b[K\rremote: Compressing objects:  50% (9/18)\u001b[K\rremote: Compressing objects:  55% (10/18)\u001b[K\rremote: Compressing objects:  61% (11/18)\u001b[K\rremote: Compressing objects:  66% (12/18)\u001b[K\rremote: Compressing objects:  72% (13/18)\u001b[K\rremote: Compressing objects:  77% (14/18)\u001b[K\rremote: Compressing objects:  83% (15/18)\u001b[K\rremote: Compressing objects:  88% (16/18)\u001b[K\rremote: Compressing objects:  94% (17/18)\u001b[K\rremote: Compressing objects: 100% (18/18)\u001b[K\rremote: Compressing objects: 100% (18/18), done.\u001b[K\n",
            "remote: Total 20 (delta 5), reused 0 (delta 0), pack-reused 0\u001b[K\n",
            "Unpacking objects:   5% (1/20)   \rUnpacking objects:  10% (2/20)   \rUnpacking objects:  15% (3/20)   \rUnpacking objects:  20% (4/20)   \rUnpacking objects:  25% (5/20)   \rUnpacking objects:  30% (6/20)   \rUnpacking objects:  35% (7/20)   \rUnpacking objects:  40% (8/20)   \rUnpacking objects:  45% (9/20)   \rUnpacking objects:  50% (10/20)   \rUnpacking objects:  55% (11/20)   \rUnpacking objects:  60% (12/20)   \rUnpacking objects:  65% (13/20)   \rUnpacking objects:  70% (14/20)   \rUnpacking objects:  75% (15/20)   \rUnpacking objects:  80% (16/20)   \rUnpacking objects:  85% (17/20)   \rUnpacking objects:  90% (18/20)   \rUnpacking objects:  95% (19/20)   \rUnpacking objects: 100% (20/20)   \rUnpacking objects: 100% (20/20), done.\n",
            "/content/Raianars_July_2020/ANN_read_matrix\n"
          ],
          "name": "stdout"
        }
      ]
    },
    {
      "cell_type": "code",
      "metadata": {
        "id": "N2lyPfivzwGv",
        "colab_type": "code",
        "colab": {
          "base_uri": "https://localhost:8080/",
          "height": 1000
        },
        "outputId": "8c6036b4-88d4-43c6-8404-beab2f931cb4"
      },
      "source": [
        "ANN_F=pd.read_csv('ANN_INSIGHT_Valor_F.csv')\n",
        "ANN_CR=pd.read_csv('ANN_INSIGHT_CR.csv')\n",
        "syn0_F,syn1_F,X_max_F,X_min_F=Go2Ann.GetMatriz(ANN_F)\n",
        "syn0_CR,syn1_CR,X_max_CR,X_min_CR=Go2Ann.GetMatriz(ANN_CR)\n",
        "fields = ['DI RELATIVO','FRAC Its','Fo','CRo']\n",
        "\n",
        "#TOTAL=7*dim*its*ITE\n",
        "TOTAL=10*dim*its*ITE\n",
        "TOTAL=int(TOTAL/2)   # CONFERIR SE ESTE EH O MELHOR LUGAR\n",
        "\n",
        "dimensions=len(MAX)\n",
        "start_time = time.time() #INICIALIZA CONTAGEM DO TEMPO\n",
        "\n",
        "MAX_P=np.zeros(ITE) # ATENCAO para variar F e Cr MAX_P passa a ser 3 vezes maior\n",
        "MIN_P=np.zeros(ITE) # ATENCAO para variar F e Cr MIN_P passa a ser 3 vezes maior\n",
        "\n",
        "for i in range(dim):\n",
        "  MAX_P[i]=MAX[i] \n",
        "  MIN_P[i]=MIN[i]\n",
        "\n",
        "rodadas=1\n",
        "for i in range(rodadas):\n",
        "  SOMA=0\n",
        "  pop = np.random.rand(NPAR, dimensions)\n",
        "  diff=np.zeros(PAR)\n",
        "  for ii in range(PAR):\n",
        "    diff[ii] = MAX[ii]-MIN[ii]\n",
        "  X = MIN + pop * diff\n",
        "    \n",
        "  PONTOS=ITE # DIVISOES DA POPULACAO\n",
        "start_time = time.time()\n",
        "BEST_AGENTS=[]\n",
        "MAT_stat=[]\n",
        "for i in range(RUNS):\n",
        "    MAT=[] \n",
        "    mut=Fi\n",
        "    crossp=CRi\n",
        "    SOMA=0\n",
        "    SOMAf=0\n",
        "    start_ite = time.time()\n",
        "    delta_time=(start_ite-start_time)/60\n",
        "    print('ite=',i,'total=50','time=',delta_time)\n",
        "    pop = np.random.rand(NPAR, dim)\n",
        "    diff=np.zeros(PAR)\n",
        "    for ii in range(PAR):\n",
        "      diff[ii] = MAX[ii]-MIN[ii]\n",
        "    X = MIN + pop * diff\n",
        "    Xf = MIN + pop * diff\n",
        "    \n",
        "    DIo=1e99\n",
        "  \n",
        "    CRo=crossp;Fo=mut;\n",
        "    Fitness = np.asarray([Fun(ind) for ind in X])\n",
        "\n",
        "    XY,BEST_XY,BESTo,FOBESTo=AvaliaX(X,Fitness)\n",
        "    nrow,ncol=X.shape\n",
        "\n",
        "    QUANT=17;MAT_INDo=np.zeros((1,QUANT)); # quantos indices esta fazendo\n",
        "    MAT_INDo[0,5]=nrow  # VALOR NP\n",
        "    MAT_INDo[0,6]=Fo    # VALOR Fo   \n",
        "    MAT_INDo[0,7]=CRo   # VALOR CRo\n",
        "  \n",
        "    MAT_INDo=GeraIndices(X,BESTo,FOBESTo,DIo,MAT_INDo,SOMA,TOTAL,syn0_F,\n",
        "                        syn1_F,X_max_F,X_min_F,syn0_CR,syn1_CR,X_max_CR,\n",
        "                        X_min_CR,Fc,fields,Fun)\n",
        "  \n",
        "    DIo=np.copy(MAT_INDo[0,0])\n",
        "    MAT_INDo[0,15]=Fo    # VALOR Fo   \n",
        "    MAT_INDo[0,16]=CRo   # VALOR CRo\n",
        "    #ind_crossp=ITE-1\n",
        "\n",
        "    \n",
        "    for k in range(ITE):\n",
        "      X,BEST,FOBEST,XY,BEST_XY,SOMA= de_soma_Insight.de(MAX,MIN, mut, crossp,NPAR,its,Fun,X,SOMA,TOTAL)\n",
        "      #Xf,BESTf,FOBESTf,XYf,BEST_XYf,SOMAf= de_soma_Insight.de(MAX,MIN, Fi, CRi, NPAR,its,Fun,Xf,SOMAf,TOTAL)\n",
        "\n",
        "      \n",
        "      MAT_IND=GeraIndices(X,BESTo,FOBESTo,DIo,MAT_INDo,SOMA,TOTAL,syn0_F,\n",
        "                          syn1_F,X_max_F,X_min_F,syn0_CR,syn1_CR,X_max_CR,\n",
        "                          X_min_CR,Fc,fields,Fun)\n",
        "    \n",
        "      BESTo=np.copy(BEST);FOBESTo=np.copy(FOBEST);\n",
        "      MAT.append(MAT_IND.ravel())\n",
        "    \n",
        "      MAT_INDo[0,6]=MAT_IND[0,15]   # VALOR Fo   \n",
        "      MAT_INDo[0,7]=MAT_IND[0,16]   # VALOR CRo\n",
        "      mut=MAT_IND[0,15]\n",
        "      crossp=MAT_IND[0,16]\n",
        "\n",
        "      Fitness = np.asarray([Fun(ind) for ind in X])\n",
        "      #Fitnessf = np.asarray([Fun(ind) for ind in Xf])\n",
        "      Maior=np.argmax(Fitness)\n",
        "      #Maiorf=np.argmax(Fitnessf)\n",
        "      Menor=np.argmin(Fitness)\n",
        "      #Menorf=np.argmin(Fitnessf)\n",
        "\n",
        "      #X[Maior,:]=np.copy(Xf[Menorf,:])\n",
        "      #Xf[Maiorf,:]=np.copy(X[Menor,:])\n",
        "      \n",
        "    BEST_AGENTS.append(BEST_XY)\n",
        "    MAT_stat.append(MAT)\n",
        "    #print(\"GlobalParam e Solucao:\", BEST,\"Funcao=\",FOBEST)\n",
        "    \n",
        "############################## Cálculo dos Parâmetros de Avaliação   \n",
        "TIME = (time.time() - start_time)/RUNS\n",
        "BEST_AGENTS=np.array(BEST_AGENTS)\n",
        "BEST_AGENTS_ST= BEST_AGENTS[BEST_AGENTS[:,-1].argsort()]\n",
        "BEST=BEST_AGENTS_ST[0]\n",
        "WORSE=BEST_AGENTS_ST[-1]\n",
        "MEAN=np.mean(BEST_AGENTS,axis=0)\n",
        "MAXFO=BEST_AGENTS[:,-1].max()\n",
        "MINFO=BEST_AGENTS[:,-1].min()\n",
        "STD=BEST_AGENTS[:,-1].std()\n",
        "\n",
        "nome='_ANN_Div3x4_Fo-'+str(Fi)+'_CRo-'+str(CRi)+'_D-'+str(dim)+'_Interv-'+str(ITE)\n",
        "print('DE_POP_VAR_F_CR','TOTAL=',TOTAL,'Iterações=',ITE*its,'Dim=', PAR,\"Min/Max=\",MIN[0],\"/\",MAX[0],'_',Fun.__name__)\n",
        "print(nome, '\\n')\n",
        "print('MÉDIA: ',MEAN[-1])\n",
        "print('MIN __:',MINFO)\n",
        "print('MAX__: ',MAXFO)\n",
        "print('STD __:',STD)\n",
        "print(\"Tempo Médio= %.3f segundos ---\" % (TIME))\n",
        "print(RUNS,'Rodadas') \n",
        "print()\n",
        "print('BEST: ',BEST)"
      ],
      "execution_count": 15,
      "outputs": [
        {
          "output_type": "stream",
          "text": [
            "ite= 0 total=50 time= 9.63608423868815e-06\n",
            "ite= 1 total=50 time= 0.9992420355478923\n",
            "ite= 2 total=50 time= 1.997656027475993\n",
            "ite= 3 total=50 time= 2.9902966062227887\n",
            "ite= 4 total=50 time= 3.987618923187256\n",
            "ite= 5 total=50 time= 4.990316557884216\n",
            "ite= 6 total=50 time= 5.977381682395935\n",
            "ite= 7 total=50 time= 6.978542590141297\n",
            "ite= 8 total=50 time= 7.97884255250295\n",
            "ite= 9 total=50 time= 8.974430771668752\n",
            "ite= 10 total=50 time= 9.975020364920299\n",
            "ite= 11 total=50 time= 10.962283440430959\n",
            "ite= 12 total=50 time= 11.964237884680431\n",
            "ite= 13 total=50 time= 12.966297860940298\n",
            "ite= 14 total=50 time= 13.963055531183878\n",
            "ite= 15 total=50 time= 14.95172511736552\n",
            "ite= 16 total=50 time= 15.952197066942851\n",
            "ite= 17 total=50 time= 16.951316165924073\n",
            "ite= 18 total=50 time= 17.9546414176623\n",
            "ite= 19 total=50 time= 18.952963821093242\n",
            "ite= 20 total=50 time= 19.954833650588988\n",
            "ite= 21 total=50 time= 20.95474225282669\n",
            "ite= 22 total=50 time= 21.95386741558711\n",
            "ite= 23 total=50 time= 22.95239830414454\n",
            "ite= 24 total=50 time= 23.938504095872243\n",
            "ite= 25 total=50 time= 24.934443310896555\n",
            "ite= 26 total=50 time= 25.933892158667245\n",
            "ite= 27 total=50 time= 26.930513501167297\n",
            "ite= 28 total=50 time= 27.98095957438151\n",
            "ite= 29 total=50 time= 28.96882444222768\n",
            "ite= 30 total=50 time= 29.966299053033193\n",
            "ite= 31 total=50 time= 30.965093370278677\n",
            "ite= 32 total=50 time= 31.966274348894753\n",
            "ite= 33 total=50 time= 32.96141676108042\n",
            "ite= 34 total=50 time= 33.96206583182017\n",
            "ite= 35 total=50 time= 34.95911071697871\n",
            "ite= 36 total=50 time= 35.95864252646764\n",
            "ite= 37 total=50 time= 36.95854218006134\n",
            "ite= 38 total=50 time= 38.02867430845897\n",
            "ite= 39 total=50 time= 39.01973016659419\n",
            "ite= 40 total=50 time= 40.01773573557536\n",
            "ite= 41 total=50 time= 41.01183534065883\n",
            "ite= 42 total=50 time= 42.01336197455724\n",
            "ite= 43 total=50 time= 43.01217275063197\n",
            "ite= 44 total=50 time= 44.01306579907735\n",
            "ite= 45 total=50 time= 44.99898095925649\n",
            "ite= 46 total=50 time= 45.99700668255488\n",
            "ite= 47 total=50 time= 46.99843108654022\n",
            "ite= 48 total=50 time= 48.06063183148702\n",
            "ite= 49 total=50 time= 49.05901090701421\n",
            "DE_POP_VAR_F_CR TOTAL= 150000 Iterações= 1000 Dim= 30 Min/Max= -100 / 100 _ Bent_Cigar\n",
            "_ANN_Div3x4_Fo-0.5_CRo-0.5_D-30_Interv-1000 \n",
            "\n",
            "MÉDIA:  9.382905501612513e-09\n",
            "MIN __: 2.1058233889951991e-10\n",
            "MAX__:  1.9735984082015464e-08\n",
            "STD __: 5.122168732803488e-09\n",
            "Tempo Médio= 60.072 segundos ---\n",
            "50 Rodadas\n",
            "\n",
            "BEST:  [ 1.82867237e-06  2.99183856e-09 -3.65931300e-10 -4.52918725e-09\n",
            " -2.81382682e-09  3.15033932e-09  1.61307824e-09 -4.08054734e-09\n",
            " -1.24549781e-09  4.51263226e-09  1.10272106e-09  1.15268816e-09\n",
            "  3.73257294e-09  6.43401226e-10  2.37837121e-09  3.31500153e-09\n",
            "  4.00698339e-09 -4.63368510e-09 -9.57691588e-10  3.09138192e-10\n",
            " -2.63892479e-11 -8.36222931e-11  1.46518756e-09 -2.52922530e-09\n",
            "  3.16828111e-09  3.51143486e-09  5.25688642e-10  1.10377426e-09\n",
            "  3.24255818e-09  1.90386241e-09  2.10582339e-10]\n"
          ],
          "name": "stdout"
        }
      ]
    }
  ]
}