{
  "nbformat": 4,
  "nbformat_minor": 0,
  "metadata": {
    "colab": {
      "name": "Stats_Rastrigin_NO_Frannk_D_30_JUL_03_2020.ipynb",
      "provenance": [],
      "collapsed_sections": [],
      "authorship_tag": "ABX9TyM5J5fVA02/7NTEN/DBvJKS",
      "include_colab_link": true
    },
    "kernelspec": {
      "name": "python3",
      "display_name": "Python 3"
    }
  },
  "cells": [
    {
      "cell_type": "markdown",
      "metadata": {
        "id": "view-in-github",
        "colab_type": "text"
      },
      "source": [
        "<a href=\"https://colab.research.google.com/github/ucfilho/Raianars_SelfTest_comp_02_July_2020/blob/master/Stats_Rastrigin_NO_Frannk_D_30_JUL_03_2020.ipynb\" target=\"_parent\"><img src=\"https://colab.research.google.com/assets/colab-badge.svg\" alt=\"Open In Colab\"/></a>"
      ]
    },
    {
      "cell_type": "code",
      "metadata": {
        "id": "MC26Bm1UyUR5",
        "colab_type": "code",
        "colab": {
          "base_uri": "https://localhost:8080/",
          "height": 35
        },
        "outputId": "77ee1f0f-6f88-4f98-d1a0-5a1cca417b00"
      },
      "source": [
        "!pip install pyade-python"
      ],
      "execution_count": 13,
      "outputs": [
        {
          "output_type": "stream",
          "text": [
            "Requirement already satisfied: pyade-python in /usr/local/lib/python3.6/dist-packages (1.1)\n"
          ],
          "name": "stdout"
        }
      ]
    },
    {
      "cell_type": "code",
      "metadata": {
        "id": "rRwqrtCmgzdZ",
        "colab_type": "code",
        "colab": {
          "base_uri": "https://localhost:8080/",
          "height": 54
        },
        "outputId": "a5dcc2ea-afea-4372-dbe1-e9531ea15d4c"
      },
      "source": [
        "!pip install PyFDE"
      ],
      "execution_count": 14,
      "outputs": [
        {
          "output_type": "stream",
          "text": [
            "Requirement already satisfied: PyFDE in /usr/local/lib/python3.6/dist-packages (1.3.0)\n",
            "Requirement already satisfied: numpy in /usr/local/lib/python3.6/dist-packages (from PyFDE) (1.18.5)\n"
          ],
          "name": "stdout"
        }
      ]
    },
    {
      "cell_type": "code",
      "metadata": {
        "id": "anFukot-ypn6",
        "colab_type": "code",
        "colab": {}
      },
      "source": [
        "import pyade.ilshade \n",
        "import pyade.sade \n",
        "import pyade.jso\n",
        "import pyade.shade\n",
        "import pyade.jade \n",
        "import pyfde\n",
        "import numpy as np\n",
        "import pandas as pd\n",
        "import time"
      ],
      "execution_count": 15,
      "outputs": []
    },
    {
      "cell_type": "code",
      "metadata": {
        "id": "6Oh714_-z1Ia",
        "colab_type": "code",
        "colab": {
          "base_uri": "https://localhost:8080/",
          "height": 163
        },
        "outputId": "3b623368-21d5-40e0-e58e-c95623d6c3f0"
      },
      "source": [
        "!git clone https://github.com/ucfilho/Raianars_July_2020 #clonar do Github\n",
        "%cd Raianars_July_2020"
      ],
      "execution_count": 16,
      "outputs": [
        {
          "output_type": "stream",
          "text": [
            "Cloning into 'Raianars_July_2020'...\n",
            "remote: Enumerating objects: 3, done.\u001b[K\n",
            "remote: Counting objects:  33% (1/3)\u001b[K\rremote: Counting objects:  66% (2/3)\u001b[K\rremote: Counting objects: 100% (3/3)\u001b[K\rremote: Counting objects: 100% (3/3), done.\u001b[K\n",
            "remote: Compressing objects:  33% (1/3)\u001b[K\rremote: Compressing objects:  66% (2/3)\u001b[K\rremote: Compressing objects: 100% (3/3)\u001b[K\rremote: Compressing objects: 100% (3/3), done.\u001b[K\n",
            "Receiving objects:   0% (1/126)   \rReceiving objects:   1% (2/126)   \rReceiving objects:   2% (3/126)   \rReceiving objects:   3% (4/126)   \rReceiving objects:   4% (6/126)   \rReceiving objects:   5% (7/126)   \rReceiving objects:   6% (8/126)   \rReceiving objects:   7% (9/126)   \rReceiving objects:   8% (11/126)   \rReceiving objects:   9% (12/126)   \rReceiving objects:  10% (13/126)   \rReceiving objects:  11% (14/126)   \rReceiving objects:  12% (16/126)   \rReceiving objects:  13% (17/126)   \rReceiving objects:  14% (18/126)   \rReceiving objects:  15% (19/126)   \rReceiving objects:  16% (21/126)   \rReceiving objects:  17% (22/126)   \rReceiving objects:  18% (23/126)   \rReceiving objects:  19% (24/126)   \rReceiving objects:  20% (26/126)   \rReceiving objects:  21% (27/126)   \rReceiving objects:  22% (28/126)   \rReceiving objects:  23% (29/126)   \rReceiving objects:  24% (31/126)   \rReceiving objects:  25% (32/126)   \rReceiving objects:  26% (33/126)   \rReceiving objects:  27% (35/126)   \rReceiving objects:  28% (36/126)   \rReceiving objects:  29% (37/126)   \rReceiving objects:  30% (38/126)   \rReceiving objects:  31% (40/126)   \rReceiving objects:  32% (41/126)   \rReceiving objects:  33% (42/126)   \rReceiving objects:  34% (43/126)   \rReceiving objects:  35% (45/126)   \rReceiving objects:  36% (46/126)   \rReceiving objects:  37% (47/126)   \rReceiving objects:  38% (48/126)   \rReceiving objects:  39% (50/126)   \rReceiving objects:  40% (51/126)   \rremote: Total 126 (delta 0), reused 0 (delta 0), pack-reused 123\u001b[K\n",
            "Receiving objects:  41% (52/126)   \rReceiving objects:  42% (53/126)   \rReceiving objects:  43% (55/126)   \rReceiving objects:  44% (56/126)   \rReceiving objects:  45% (57/126)   \rReceiving objects:  46% (58/126)   \rReceiving objects:  47% (60/126)   \rReceiving objects:  48% (61/126)   \rReceiving objects:  49% (62/126)   \rReceiving objects:  50% (63/126)   \rReceiving objects:  51% (65/126)   \rReceiving objects:  52% (66/126)   \rReceiving objects:  53% (67/126)   \rReceiving objects:  54% (69/126)   \rReceiving objects:  55% (70/126)   \rReceiving objects:  56% (71/126)   \rReceiving objects:  57% (72/126)   \rReceiving objects:  58% (74/126)   \rReceiving objects:  59% (75/126)   \rReceiving objects:  60% (76/126)   \rReceiving objects:  61% (77/126)   \rReceiving objects:  62% (79/126)   \rReceiving objects:  63% (80/126)   \rReceiving objects:  64% (81/126)   \rReceiving objects:  65% (82/126)   \rReceiving objects:  66% (84/126)   \rReceiving objects:  67% (85/126)   \rReceiving objects:  68% (86/126)   \rReceiving objects:  69% (87/126)   \rReceiving objects:  70% (89/126)   \rReceiving objects:  71% (90/126)   \rReceiving objects:  72% (91/126)   \rReceiving objects:  73% (92/126)   \rReceiving objects:  74% (94/126)   \rReceiving objects:  75% (95/126)   \rReceiving objects:  76% (96/126)   \rReceiving objects:  77% (98/126)   \rReceiving objects:  78% (99/126)   \rReceiving objects:  79% (100/126)   \rReceiving objects:  80% (101/126)   \rReceiving objects:  81% (103/126)   \rReceiving objects:  82% (104/126)   \rReceiving objects:  83% (105/126)   \rReceiving objects:  84% (106/126)   \rReceiving objects:  85% (108/126)   \rReceiving objects:  86% (109/126)   \rReceiving objects:  87% (110/126)   \rReceiving objects:  88% (111/126)   \rReceiving objects:  89% (113/126)   \rReceiving objects:  90% (114/126)   \rReceiving objects:  91% (115/126)   \rReceiving objects:  92% (116/126)   \rReceiving objects:  93% (118/126)   \rReceiving objects:  94% (119/126)   \rReceiving objects:  95% (120/126)   \rReceiving objects:  96% (121/126)   \rReceiving objects:  97% (123/126)   \rReceiving objects:  98% (124/126)   \rReceiving objects:  99% (125/126)   \rReceiving objects: 100% (126/126)   \rReceiving objects: 100% (126/126), 198.23 KiB | 5.08 MiB/s, done.\n",
            "Resolving deltas:   0% (0/62)   \rResolving deltas:   8% (5/62)   \rResolving deltas:  64% (40/62)   \rResolving deltas:  80% (50/62)   \rResolving deltas:  85% (53/62)   \rResolving deltas:  87% (54/62)   \rResolving deltas: 100% (62/62)   \rResolving deltas: 100% (62/62), done.\n",
            "/content/Raianars_July_2020/Raianars_July_2020\n"
          ],
          "name": "stdout"
        }
      ]
    },
    {
      "cell_type": "code",
      "metadata": {
        "id": "LnzftXkky78A",
        "colab_type": "code",
        "colab": {}
      },
      "source": [
        "import Go2Ann\n",
        "import de_soma_Insight\n",
        "import de_bounds_matriz\n",
        "from AvaliaX import AvaliaX\n",
        "from GeraIndices import GeraIndices"
      ],
      "execution_count": 17,
      "outputs": []
    },
    {
      "cell_type": "code",
      "metadata": {
        "id": "HNW92728z7fR",
        "colab_type": "code",
        "colab": {}
      },
      "source": [
        "import Function\n",
        "import Go2MinMax"
      ],
      "execution_count": 18,
      "outputs": []
    },
    {
      "cell_type": "code",
      "metadata": {
        "id": "T_C-e7aH0CZH",
        "colab_type": "code",
        "colab": {}
      },
      "source": [
        "ITE=1500 #10 # PONTOS quantas vezes vai alteral NPAR \n",
        "NPAR=100 # NUMBER OF PARTICLES\n",
        "dim=30\n",
        "RUNS=50\n",
        "fchoice='Sphere'  #f2\n",
        "Fun=Function.Sphere\n",
        "\n",
        "MIN,MAX=Go2MinMax.Intervalo(dim,fchoice)\n",
        "bounds = [(0,0)]*dim\n",
        "\n",
        "for i in range(dim):\n",
        "  bounds[i] = (MIN[i],MAX[i])"
      ],
      "execution_count": 19,
      "outputs": []
    },
    {
      "cell_type": "code",
      "metadata": {
        "id": "Nqv5qp9yzQEw",
        "colab_type": "code",
        "colab": {}
      },
      "source": [
        "############################### INPUT INFORMATION (FRANNK)\n",
        "Fc=0.1 # fator de correcao parametros da ANN\n",
        "its=1 #10 # quantas vezes vai usar o NPAR antes de alterar de novo\n",
        "mut=0.5\n",
        "crossp=0.5\n",
        "Fi=mut;CRi=crossp;# para impressão\n",
        "PAR=len(MAX) #NUM DE PARAMETROS A SER OTIMIZADOS"
      ],
      "execution_count": 20,
      "outputs": []
    },
    {
      "cell_type": "code",
      "metadata": {
        "id": "WkbM98uny0QY",
        "colab_type": "code",
        "colab": {
          "base_uri": "https://localhost:8080/",
          "height": 308
        },
        "outputId": "f1d5eb0e-ebf6-42c6-82a4-a9bcaf2057e4"
      },
      "source": [
        "# IL-Shade\n",
        "\n",
        "BEST_AGENTS=[]\n",
        "start_time = time.time() \n",
        "for i in range(RUNS):\n",
        "  ANSWER_AGENTS=[]\n",
        "  algorithm = pyade.ilshade \n",
        "  params = algorithm.get_default_params(dim=dim) \n",
        "  params['bounds'] = np.array(bounds)\n",
        "  params['max_evals'] = ITE \n",
        "  params['func'] = Fun\n",
        "  params['max_evals'] = ITE\n",
        "  best, fit = algorithm.apply(**params)\n",
        "  for x in best:\n",
        "    ANSWER_AGENTS.append(x)\n",
        "  ANSWER_AGENTS.append(fit)\n",
        "  BEST_AGENTS.append(ANSWER_AGENTS)\n",
        "BEST_AGENTS=np.array(BEST_AGENTS)\n",
        "TIME = (time.time() - start_time)/RUNS\n",
        "BEST_AGENTS=np.array(BEST_AGENTS)\n",
        "BEST_AGENTS_ST= BEST_AGENTS[BEST_AGENTS[:,-1].argsort()]\n",
        "BEST=BEST_AGENTS_ST[0]\n",
        "WORSE=BEST_AGENTS_ST[-1]\n",
        "MEAN=np.mean(BEST_AGENTS,axis=0)\n",
        "MAXFO=BEST_AGENTS[:,-1].max()\n",
        "MINFO=BEST_AGENTS[:,-1].min()\n",
        "STD=BEST_AGENTS[:,-1].std()\n",
        "nome='IL-Shade_Fo-'+str(0)+'_CRo-'+str(0)\n",
        "print(nome,'NPAR',NPAR,'Iterações=',ITE,'Dim=',dim ,\"Min/Max=\",MIN[0],\"/\",MAX[0],'_',Fun.__name__)\n",
        "print( '\\n')\n",
        "print('MÉDIA: ',MEAN[-1])\n",
        "print('MIN __:',MINFO)\n",
        "print('MAX__: ',MAXFO)\n",
        "print('STD __:',STD)\n",
        "print(\"Tempo Médio= %.3f segundos ---\" % (TIME))\n",
        "print(RUNS,'Rodadas') \n",
        "print()\n",
        "print('BEST: ',BEST)"
      ],
      "execution_count": 21,
      "outputs": [
        {
          "output_type": "stream",
          "text": [
            "IL-Shade_Fo-0_CRo-0 NPAR 100 Iterações= 1500 Dim= 30 Min/Max= -5.12 / 5.12 _ Sphere\n",
            "\n",
            "\n",
            "MÉDIA:  0.5597797286634799\n",
            "MIN __: 0.2929972676178425\n",
            "MAX__:  0.9418877159724401\n",
            "STD __: 0.1514885822905097\n",
            "Tempo Médio= 0.123 segundos ---\n",
            "50 Rodadas\n",
            "\n",
            "BEST:  [ 0.01280187 -0.02755624 -0.07794044 -0.06116174  0.06607485  0.07373043\n",
            "  0.00958394  0.06426845 -0.08363164  0.02173394  0.05551083  0.03223339\n",
            " -0.04680203  0.15143726 -0.30373565  0.02777359  0.09714012 -0.02719341\n",
            " -0.10042465 -0.00765277 -0.11581987  0.08574311  0.05100432  0.03037212\n",
            " -0.06223736 -0.0957025   0.1428039   0.07354856 -0.00416637 -0.23459585\n",
            "  0.29299727]\n"
          ],
          "name": "stdout"
        }
      ]
    },
    {
      "cell_type": "code",
      "metadata": {
        "id": "v4dbY4tSsFMb",
        "colab_type": "code",
        "colab": {
          "base_uri": "https://localhost:8080/",
          "height": 308
        },
        "outputId": "66f3720c-925f-44c6-f3b6-1db6bcd87094"
      },
      "source": [
        "# Jso\n",
        "\n",
        "BEST_AGENTS=[]\n",
        "start_time = time.time() \n",
        "for i in range(RUNS):\n",
        "  ANSWER_AGENTS=[]\n",
        "  algorithm = pyade.jso\n",
        "  params = algorithm.get_default_params(dim=dim) \n",
        "  params['bounds'] = np.array(bounds)\n",
        "  params['max_evals'] = ITE \n",
        "  params['func'] = Fun\n",
        "  best, fit = algorithm.apply(**params)\n",
        "  for x in best:\n",
        "    ANSWER_AGENTS.append(x)\n",
        "  ANSWER_AGENTS.append(fit)\n",
        "  BEST_AGENTS.append(ANSWER_AGENTS)\n",
        "BEST_AGENTS=np.array(BEST_AGENTS)\n",
        "TIME = (time.time() - start_time)/RUNS\n",
        "BEST_AGENTS=np.array(BEST_AGENTS)\n",
        "BEST_AGENTS_ST= BEST_AGENTS[BEST_AGENTS[:,-1].argsort()]\n",
        "BEST=BEST_AGENTS_ST[0]\n",
        "WORSE=BEST_AGENTS_ST[-1]\n",
        "MEAN=np.mean(BEST_AGENTS,axis=0)\n",
        "MAXFO=BEST_AGENTS[:,-1].max()\n",
        "MINFO=BEST_AGENTS[:,-1].min()\n",
        "STD=BEST_AGENTS[:,-1].std()\n",
        "nome='Jso-'+str(0)+'_CRo-'+str(0)\n",
        "print(nome,'NPAR',NPAR,'Iterações=',ITE,'Dim=',dim ,\"Min/Max=\",MIN[0],\"/\",MAX[0],'_',Fun.__name__)\n",
        "print( '\\n')\n",
        "print('MÉDIA: ',MEAN[-1])\n",
        "print('MIN __:',MINFO)\n",
        "print('MAX__: ',MAXFO)\n",
        "print('STD __:',STD)\n",
        "print(\"Tempo Médio= %.3f segundos ---\" % (TIME))\n",
        "print(RUNS,'Rodadas') \n",
        "print()\n",
        "print('BEST: ',BEST)"
      ],
      "execution_count": 22,
      "outputs": [
        {
          "output_type": "stream",
          "text": [
            "Jso-0_CRo-0 NPAR 100 Iterações= 1500 Dim= 30 Min/Max= -5.12 / 5.12 _ Sphere\n",
            "\n",
            "\n",
            "MÉDIA:  1.1646646649694679\n",
            "MIN __: 0.6108053085336635\n",
            "MAX__:  2.1105713396289056\n",
            "STD __: 0.31090296889954744\n",
            "Tempo Médio= 0.077 segundos ---\n",
            "50 Rodadas\n",
            "\n",
            "BEST:  [ 0.14103087 -0.02125292  0.15710675 -0.19781949  0.21069807 -0.25066578\n",
            " -0.04265167 -0.09139381  0.24713359 -0.16262585 -0.19169462 -0.11453437\n",
            "  0.03532371 -0.0397424  -0.10889211 -0.14534572 -0.08950337 -0.03264647\n",
            "  0.24382255 -0.07264201 -0.02843672 -0.0777873   0.12207535  0.04573567\n",
            " -0.02930753  0.03778083  0.27127604 -0.06919854 -0.24012624 -0.00836416\n",
            "  0.61080531]\n"
          ],
          "name": "stdout"
        }
      ]
    },
    {
      "cell_type": "code",
      "metadata": {
        "id": "ZkV_dpDa14C8",
        "colab_type": "code",
        "colab": {
          "base_uri": "https://localhost:8080/",
          "height": 308
        },
        "outputId": "e35b4291-d8bc-4096-8f48-266e2f0ad90d"
      },
      "source": [
        "# Sade\n",
        "\n",
        "BEST_AGENTS=[]\n",
        "start_time = time.time() \n",
        "for i in range(RUNS):\n",
        "  ANSWER_AGENTS=[]\n",
        "  algorithm = pyade.sade\n",
        "  params = algorithm.get_default_params(dim=dim) \n",
        "  params['bounds'] = np.array(bounds)\n",
        "  params['max_evals'] = ITE \n",
        "  params['func'] = Fun\n",
        "  best, fit = algorithm.apply(**params)\n",
        "  for x in best:\n",
        "    ANSWER_AGENTS.append(x)\n",
        "  ANSWER_AGENTS.append(fit)\n",
        "  BEST_AGENTS.append(ANSWER_AGENTS)\n",
        "BEST_AGENTS=np.array(BEST_AGENTS)\n",
        "TIME = (time.time() - start_time)/RUNS\n",
        "BEST_AGENTS=np.array(BEST_AGENTS)\n",
        "BEST_AGENTS_ST= BEST_AGENTS[BEST_AGENTS[:,-1].argsort()]\n",
        "BEST=BEST_AGENTS_ST[0]\n",
        "WORSE=BEST_AGENTS_ST[-1]\n",
        "MEAN=np.mean(BEST_AGENTS,axis=0)\n",
        "MAXFO=BEST_AGENTS[:,-1].max()\n",
        "MINFO=BEST_AGENTS[:,-1].min()\n",
        "STD=BEST_AGENTS[:,-1].std()\n",
        "nome='Sade_Fo-'+str(0)+'_CRo-'+str(0)\n",
        "print(nome,'NPAR',NPAR,'Iterações=',ITE,'Dim=',dim ,\"Min/Max=\",MIN[0],\"/\",MAX[0],'_',Fun.__name__)\n",
        "print( '\\n')\n",
        "print('MÉDIA: ',MEAN[-1])\n",
        "print('MIN __:',MINFO)\n",
        "print('MAX__: ',MAXFO)\n",
        "print('STD __:',STD)\n",
        "print(\"Tempo Médio= %.3f segundos ---\" % (TIME))\n",
        "print(RUNS,'Rodadas') \n",
        "print()\n",
        "print('BEST: ',BEST)"
      ],
      "execution_count": 23,
      "outputs": [
        {
          "output_type": "stream",
          "text": [
            "Sade_Fo-0_CRo-0 NPAR 100 Iterações= 1500 Dim= 30 Min/Max= -5.12 / 5.12 _ Sphere\n",
            "\n",
            "\n",
            "MÉDIA:  8.78818882060852\n",
            "MIN __: 7.184197840517922\n",
            "MAX__:  11.245567881494026\n",
            "STD __: 0.8368680562478816\n",
            "Tempo Médio= 0.072 segundos ---\n",
            "50 Rodadas\n",
            "\n",
            "BEST:  [-0.22026611  0.15665655  0.88891726  0.13966321 -0.92284324  0.82751045\n",
            " -0.16825774  0.21923183 -0.75480883  0.44325407  0.65296385  0.08434989\n",
            " -0.43161726 -0.12844812  0.86841194 -0.18087256  0.40682515 -0.60483594\n",
            "  0.36032849  0.28314373 -0.6187718   0.65121034 -0.133657   -0.52068403\n",
            "  0.49378526  0.21607165  0.44871818  0.40488335 -0.0784636  -0.01112741\n",
            "  7.18419784]\n"
          ],
          "name": "stdout"
        }
      ]
    },
    {
      "cell_type": "code",
      "metadata": {
        "id": "q77YsFa82zFU",
        "colab_type": "code",
        "colab": {
          "base_uri": "https://localhost:8080/",
          "height": 345
        },
        "outputId": "97fd9bba-ff47-4a59-8657-95280898eb1d"
      },
      "source": [
        "# JADE\n",
        "algorithm = pyade.jso\n",
        "BEST_AGENTS=[]\n",
        "for i in range(RUNS):\n",
        "  ANSWER_AGENTS=[]\n",
        "  solver = pyfde.JADE(Fun, n_dim=dim, n_pop=NPAR, limits=bounds, minimize=True)\n",
        "  solver.p = 0.05\n",
        "  solver.c = 0.1\n",
        "  solver.cr = 0.5\n",
        "  solver.f = 0.5\n",
        "  best, fit = solver.run(n_it=ITE)\n",
        "  fit=(-1)*fit\n",
        "  for x in best:\n",
        "    ANSWER_AGENTS.append(x)\n",
        "  ANSWER_AGENTS.append(fit)\n",
        "  BEST_AGENTS.append(ANSWER_AGENTS)\n",
        "BEST_AGENTS=np.array(BEST_AGENTS)\n",
        "TIME = (time.time() - start_time)/RUNS\n",
        "BEST_AGENTS=np.array(BEST_AGENTS)\n",
        "BEST_AGENTS_ST= BEST_AGENTS[BEST_AGENTS[:,-1].argsort()]\n",
        "BEST=BEST_AGENTS_ST[0]\n",
        "WORSE=BEST_AGENTS_ST[-1]\n",
        "MEAN=np.mean(BEST_AGENTS,axis=0)\n",
        "MAXFO=BEST_AGENTS[:,-1].max()\n",
        "MINFO=BEST_AGENTS[:,-1].min()\n",
        "STD=BEST_AGENTS[:,-1].std()\n",
        "nome='JADE_Fo-'+str(0)+'_CRo-'+str(0)\n",
        "print(nome,'NPAR',NPAR,'Iterações=',ITE,'Dim=',dim ,\"Min/Max=\",MIN[0],\"/\",MAX[0],'_',Fun.__name__)\n",
        "print( '\\n')\n",
        "print('MÉDIA: ',MEAN[-1])\n",
        "print('MIN __:',MINFO)\n",
        "print('MAX__: ',MAXFO)\n",
        "print('STD __:',STD)\n",
        "print(\"Tempo Médio= %.3f segundos ---\" % (TIME))\n",
        "print(RUNS,'Rodadas') \n",
        "print()\n",
        "print('BEST: ',BEST)"
      ],
      "execution_count": 24,
      "outputs": [
        {
          "output_type": "stream",
          "text": [
            "JADE_Fo-0_CRo-0 NPAR 100 Iterações= 1500 Dim= 30 Min/Max= -5.12 / 5.12 _ Sphere\n",
            "\n",
            "\n",
            "MÉDIA:  5.168886264820006e-61\n",
            "MIN __: 5.5585914033695583e-73\n",
            "MAX__:  2.560868442300389e-59\n",
            "STD __: 3.584686101889285e-60\n",
            "Tempo Médio= 1.591 segundos ---\n",
            "50 Rodadas\n",
            "\n",
            "BEST:  [ 1.59501886e-37 -1.23716259e-37  3.28496223e-37  1.08662505e-37\n",
            "  1.26483624e-37 -5.70536974e-38  1.88895249e-38  1.84818703e-38\n",
            "  1.02009897e-37 -1.25289728e-38  1.08007279e-37  9.82348073e-39\n",
            " -1.70516613e-37  7.48372049e-38 -2.20804202e-37 -1.51086541e-37\n",
            "  8.42886353e-38  1.40269973e-38  2.59808365e-38 -2.33197364e-37\n",
            " -1.14458464e-37  7.25432190e-38 -1.07541989e-38 -3.60959398e-37\n",
            " -1.02624836e-37 -5.52000514e-38  4.45139266e-38 -4.11189123e-38\n",
            "  9.05332134e-38 -1.01415236e-37  5.55859140e-73]\n"
          ],
          "name": "stdout"
        }
      ]
    }
  ]
}