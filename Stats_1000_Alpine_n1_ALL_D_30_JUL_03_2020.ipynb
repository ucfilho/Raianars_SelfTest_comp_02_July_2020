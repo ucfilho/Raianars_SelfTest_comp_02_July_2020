{
  "nbformat": 4,
  "nbformat_minor": 0,
  "metadata": {
    "colab": {
      "name": "Stats_1000_Alpine_n1_ALL_D_30_JUL_03_2020.ipynb",
      "provenance": [],
      "collapsed_sections": [],
      "authorship_tag": "ABX9TyOWLnn5Fos73BV/zzLXlVpm",
      "include_colab_link": true
    },
    "kernelspec": {
      "name": "python3",
      "display_name": "Python 3"
    }
  },
  "cells": [
    {
      "cell_type": "markdown",
      "metadata": {
        "id": "view-in-github",
        "colab_type": "text"
      },
      "source": [
        "<a href=\"https://colab.research.google.com/github/ucfilho/Raianars_SelfTest_comp_02_July_2020/blob/master/Stats_1000_Alpine_n1_ALL_D_30_JUL_03_2020.ipynb\" target=\"_parent\"><img src=\"https://colab.research.google.com/assets/colab-badge.svg\" alt=\"Open In Colab\"/></a>"
      ]
    },
    {
      "cell_type": "code",
      "metadata": {
        "id": "MC26Bm1UyUR5",
        "colab_type": "code",
        "colab": {
          "base_uri": "https://localhost:8080/",
          "height": 110
        },
        "outputId": "2b2c75e9-856a-4613-8751-3ef1f97e7963"
      },
      "source": [
        "!pip install pyade-python"
      ],
      "execution_count": 1,
      "outputs": [
        {
          "output_type": "stream",
          "text": [
            "Collecting pyade-python\n",
            "  Downloading https://files.pythonhosted.org/packages/02/e7/aefff90c8de0ad3ff151d51507ec65a2988b7cce9126c342746f77615d9f/pyade_python-1.1-py3-none-any.whl\n",
            "Installing collected packages: pyade-python\n",
            "Successfully installed pyade-python-1.1\n"
          ],
          "name": "stdout"
        }
      ]
    },
    {
      "cell_type": "code",
      "metadata": {
        "id": "rRwqrtCmgzdZ",
        "colab_type": "code",
        "colab": {
          "base_uri": "https://localhost:8080/",
          "height": 237
        },
        "outputId": "793b3a30-cebf-45bd-bf52-e179e5efed92"
      },
      "source": [
        "!pip install PyFDE"
      ],
      "execution_count": 2,
      "outputs": [
        {
          "output_type": "stream",
          "text": [
            "Collecting PyFDE\n",
            "\u001b[?25l  Downloading https://files.pythonhosted.org/packages/72/f9/87f7279554d2682e3827d39c3d3a565b2fd42f7114a779e34a601c6c5079/PyFDE-1.3.0.tar.gz (397kB)\n",
            "\u001b[K     |████████████████████████████████| 399kB 2.8MB/s \n",
            "\u001b[?25hRequirement already satisfied: numpy in /usr/local/lib/python3.6/dist-packages (from PyFDE) (1.18.5)\n",
            "Building wheels for collected packages: PyFDE\n",
            "  Building wheel for PyFDE (setup.py) ... \u001b[?25l\u001b[?25hdone\n",
            "  Created wheel for PyFDE: filename=PyFDE-1.3.0-cp36-cp36m-linux_x86_64.whl size=969269 sha256=9acf07596dc157621ad5c2947f8bccb30930f53fc875ceff3abef4069d613234\n",
            "  Stored in directory: /root/.cache/pip/wheels/7d/42/ba/abf21db37934e576c74fc2c9504b5cd97eb6a99e3dec1743c0\n",
            "Successfully built PyFDE\n",
            "Installing collected packages: PyFDE\n",
            "Successfully installed PyFDE-1.3.0\n"
          ],
          "name": "stdout"
        }
      ]
    },
    {
      "cell_type": "code",
      "metadata": {
        "id": "anFukot-ypn6",
        "colab_type": "code",
        "colab": {}
      },
      "source": [
        "import pyade.ilshade \n",
        "import pyade.sade \n",
        "import pyade.jso\n",
        "import pyade.shade\n",
        "import pyade.jade \n",
        "import pyfde\n",
        "import numpy as np\n",
        "import pandas as pd\n",
        "import time"
      ],
      "execution_count": 3,
      "outputs": []
    },
    {
      "cell_type": "code",
      "metadata": {
        "id": "6Oh714_-z1Ia",
        "colab_type": "code",
        "colab": {
          "base_uri": "https://localhost:8080/",
          "height": 163
        },
        "outputId": "fdfd0724-87a1-4004-d8cf-b4f90d1921d6"
      },
      "source": [
        "!git clone https://github.com/ucfilho/Raianars_July_2020 #clonar do Github\n",
        "%cd Raianars_July_2020"
      ],
      "execution_count": 4,
      "outputs": [
        {
          "output_type": "stream",
          "text": [
            "Cloning into 'Raianars_July_2020'...\n",
            "remote: Enumerating objects: 3, done.\u001b[K\n",
            "remote: Counting objects:  33% (1/3)\u001b[K\rremote: Counting objects:  66% (2/3)\u001b[K\rremote: Counting objects: 100% (3/3)\u001b[K\rremote: Counting objects: 100% (3/3), done.\u001b[K\n",
            "remote: Compressing objects:  33% (1/3)\u001b[K\rremote: Compressing objects:  66% (2/3)\u001b[K\rremote: Compressing objects: 100% (3/3)\u001b[K\rremote: Compressing objects: 100% (3/3), done.\u001b[K\n",
            "Receiving objects:   0% (1/126)   \rReceiving objects:   1% (2/126)   \rReceiving objects:   2% (3/126)   \rReceiving objects:   3% (4/126)   \rReceiving objects:   4% (6/126)   \rReceiving objects:   5% (7/126)   \rReceiving objects:   6% (8/126)   \rReceiving objects:   7% (9/126)   \rReceiving objects:   8% (11/126)   \rReceiving objects:   9% (12/126)   \rReceiving objects:  10% (13/126)   \rReceiving objects:  11% (14/126)   \rReceiving objects:  12% (16/126)   \rReceiving objects:  13% (17/126)   \rReceiving objects:  14% (18/126)   \rReceiving objects:  15% (19/126)   \rReceiving objects:  16% (21/126)   \rReceiving objects:  17% (22/126)   \rReceiving objects:  18% (23/126)   \rReceiving objects:  19% (24/126)   \rReceiving objects:  20% (26/126)   \rReceiving objects:  21% (27/126)   \rReceiving objects:  22% (28/126)   \rReceiving objects:  23% (29/126)   \rReceiving objects:  24% (31/126)   \rReceiving objects:  25% (32/126)   \rReceiving objects:  26% (33/126)   \rReceiving objects:  27% (35/126)   \rReceiving objects:  28% (36/126)   \rReceiving objects:  29% (37/126)   \rReceiving objects:  30% (38/126)   \rReceiving objects:  31% (40/126)   \rReceiving objects:  32% (41/126)   \rReceiving objects:  33% (42/126)   \rReceiving objects:  34% (43/126)   \rReceiving objects:  35% (45/126)   \rReceiving objects:  36% (46/126)   \rReceiving objects:  37% (47/126)   \rReceiving objects:  38% (48/126)   \rReceiving objects:  39% (50/126)   \rReceiving objects:  40% (51/126)   \rremote: Total 126 (delta 0), reused 0 (delta 0), pack-reused 123\u001b[K\n",
            "Receiving objects:  41% (52/126)   \rReceiving objects:  42% (53/126)   \rReceiving objects:  43% (55/126)   \rReceiving objects:  44% (56/126)   \rReceiving objects:  45% (57/126)   \rReceiving objects:  46% (58/126)   \rReceiving objects:  47% (60/126)   \rReceiving objects:  48% (61/126)   \rReceiving objects:  49% (62/126)   \rReceiving objects:  50% (63/126)   \rReceiving objects:  51% (65/126)   \rReceiving objects:  52% (66/126)   \rReceiving objects:  53% (67/126)   \rReceiving objects:  54% (69/126)   \rReceiving objects:  55% (70/126)   \rReceiving objects:  56% (71/126)   \rReceiving objects:  57% (72/126)   \rReceiving objects:  58% (74/126)   \rReceiving objects:  59% (75/126)   \rReceiving objects:  60% (76/126)   \rReceiving objects:  61% (77/126)   \rReceiving objects:  62% (79/126)   \rReceiving objects:  63% (80/126)   \rReceiving objects:  64% (81/126)   \rReceiving objects:  65% (82/126)   \rReceiving objects:  66% (84/126)   \rReceiving objects:  67% (85/126)   \rReceiving objects:  68% (86/126)   \rReceiving objects:  69% (87/126)   \rReceiving objects:  70% (89/126)   \rReceiving objects:  71% (90/126)   \rReceiving objects:  72% (91/126)   \rReceiving objects:  73% (92/126)   \rReceiving objects:  74% (94/126)   \rReceiving objects:  75% (95/126)   \rReceiving objects:  76% (96/126)   \rReceiving objects:  77% (98/126)   \rReceiving objects:  78% (99/126)   \rReceiving objects:  79% (100/126)   \rReceiving objects:  80% (101/126)   \rReceiving objects:  81% (103/126)   \rReceiving objects:  82% (104/126)   \rReceiving objects:  83% (105/126)   \rReceiving objects:  84% (106/126)   \rReceiving objects:  85% (108/126)   \rReceiving objects:  86% (109/126)   \rReceiving objects:  87% (110/126)   \rReceiving objects:  88% (111/126)   \rReceiving objects:  89% (113/126)   \rReceiving objects:  90% (114/126)   \rReceiving objects:  91% (115/126)   \rReceiving objects:  92% (116/126)   \rReceiving objects:  93% (118/126)   \rReceiving objects:  94% (119/126)   \rReceiving objects:  95% (120/126)   \rReceiving objects:  96% (121/126)   \rReceiving objects:  97% (123/126)   \rReceiving objects:  98% (124/126)   \rReceiving objects:  99% (125/126)   \rReceiving objects: 100% (126/126)   \rReceiving objects: 100% (126/126), 198.23 KiB | 5.22 MiB/s, done.\n",
            "Resolving deltas:   0% (0/62)   \rResolving deltas:   8% (5/62)   \rResolving deltas:  64% (40/62)   \rResolving deltas:  80% (50/62)   \rResolving deltas:  85% (53/62)   \rResolving deltas:  87% (54/62)   \rResolving deltas: 100% (62/62)   \rResolving deltas: 100% (62/62), done.\n",
            "/content/Raianars_July_2020\n"
          ],
          "name": "stdout"
        }
      ]
    },
    {
      "cell_type": "code",
      "metadata": {
        "id": "LnzftXkky78A",
        "colab_type": "code",
        "colab": {}
      },
      "source": [
        "import Go2Ann\n",
        "import de_soma_Insight\n",
        "import de_bounds_matriz\n",
        "from AvaliaX import AvaliaX\n",
        "from GeraIndices import GeraIndices"
      ],
      "execution_count": 5,
      "outputs": []
    },
    {
      "cell_type": "code",
      "metadata": {
        "id": "HNW92728z7fR",
        "colab_type": "code",
        "colab": {}
      },
      "source": [
        "import Function\n",
        "import Go2MinMax"
      ],
      "execution_count": 6,
      "outputs": []
    },
    {
      "cell_type": "code",
      "metadata": {
        "id": "T_C-e7aH0CZH",
        "colab_type": "code",
        "colab": {}
      },
      "source": [
        "ITE=1000 #10 # PONTOS quantas vezes vai alteral NPAR \n",
        "NPAR=100 # NUMBER OF PARTICLES\n",
        "dim=30\n",
        "RUNS=50\n",
        "fchoice='Alpine_n1'  #f2\n",
        "Fun=Function.Alpine_n1\n",
        "\n",
        "MIN,MAX=Go2MinMax.Intervalo(dim,fchoice)\n",
        "bounds = [(0,0)]*dim\n",
        "\n",
        "for i in range(dim):\n",
        "  bounds[i] = (MIN[i],MAX[i])"
      ],
      "execution_count": 7,
      "outputs": []
    },
    {
      "cell_type": "code",
      "metadata": {
        "id": "Nqv5qp9yzQEw",
        "colab_type": "code",
        "colab": {}
      },
      "source": [
        "############################### INPUT INFORMATION (FRANNK)\n",
        "Fc=0.1 # fator de correcao parametros da ANN\n",
        "its=1 #10 # quantas vezes vai usar o NPAR antes de alterar de novo\n",
        "mut=0.5\n",
        "crossp=0.5\n",
        "Fi=mut;CRi=crossp;# para impressão\n",
        "PAR=len(MAX) #NUM DE PARAMETROS A SER OTIMIZADOS"
      ],
      "execution_count": 8,
      "outputs": []
    },
    {
      "cell_type": "code",
      "metadata": {
        "id": "WkbM98uny0QY",
        "colab_type": "code",
        "colab": {
          "base_uri": "https://localhost:8080/",
          "height": 308
        },
        "outputId": "e6dd8cf2-41af-424d-f9af-7d39b55e8c1b"
      },
      "source": [
        "# IL-Shade\n",
        "\n",
        "BEST_AGENTS=[]\n",
        "start_time = time.time() \n",
        "for i in range(RUNS):\n",
        "  ANSWER_AGENTS=[]\n",
        "  algorithm = pyade.ilshade \n",
        "  params = algorithm.get_default_params(dim=dim) \n",
        "  params['bounds'] = np.array(bounds)\n",
        "  params['max_evals'] = ITE \n",
        "  params['func'] = Fun\n",
        "  params['max_evals'] = ITE\n",
        "  best, fit = algorithm.apply(**params)\n",
        "  for x in best:\n",
        "    ANSWER_AGENTS.append(x)\n",
        "  ANSWER_AGENTS.append(fit)\n",
        "  BEST_AGENTS.append(ANSWER_AGENTS)\n",
        "BEST_AGENTS=np.array(BEST_AGENTS)\n",
        "TIME = (time.time() - start_time)/RUNS\n",
        "BEST_AGENTS=np.array(BEST_AGENTS)\n",
        "BEST_AGENTS_ST= BEST_AGENTS[BEST_AGENTS[:,-1].argsort()]\n",
        "BEST=BEST_AGENTS_ST[0]\n",
        "WORSE=BEST_AGENTS_ST[-1]\n",
        "MEAN=np.mean(BEST_AGENTS,axis=0)\n",
        "MAXFO=BEST_AGENTS[:,-1].max()\n",
        "MINFO=BEST_AGENTS[:,-1].min()\n",
        "STD=BEST_AGENTS[:,-1].std()\n",
        "nome='IL-Shade_Fo-'+str(0)+'_CRo-'+str(0)\n",
        "print(nome,'NPAR',NPAR,'Iterações=',ITE,'Dim=',dim ,\"Min/Max=\",MIN[0],\"/\",MAX[0],'_',Fun.__name__)\n",
        "print( '\\n')\n",
        "print('MÉDIA: ',MEAN[-1])\n",
        "print('MIN __:',MINFO)\n",
        "print('MAX__: ',MAXFO)\n",
        "print('STD __:',STD)\n",
        "print(\"Tempo Médio= %.3f segundos ---\" % (TIME))\n",
        "print(RUNS,'Rodadas') \n",
        "print()\n",
        "print('BEST: ',BEST)"
      ],
      "execution_count": 9,
      "outputs": [
        {
          "output_type": "stream",
          "text": [
            "IL-Shade_Fo-0_CRo-0 NPAR 100 Iterações= 1000 Dim= 30 Min/Max= -10 / 10 _ Alpine_n1\n",
            "\n",
            "\n",
            "MÉDIA:  1.4829428163229172\n",
            "MIN __: 0.8236548093151371\n",
            "MAX__:  2.721161432833387\n",
            "STD __: 0.44480385254967275\n",
            "Tempo Médio= 0.153 segundos ---\n",
            "50 Rodadas\n",
            "\n",
            "BEST:  [ 0.04167159 -0.05226321  0.06995816 -0.17566301  0.01736289 -0.02870231\n",
            " -0.25449045 -0.07216706 -0.37779465 -0.37260571 -0.19201016 -0.23619165\n",
            " -0.17171401 -0.13109105  0.33276883  0.15940004 -0.15434449 -0.27645721\n",
            " -0.04706376 -0.07608768 -0.26604907  0.14006842 -0.16531585  0.05113955\n",
            " -0.15370984 -0.074545   -0.29317787 -0.12214626 -0.32508323 -0.07548909\n",
            "  0.82365481]\n"
          ],
          "name": "stdout"
        }
      ]
    },
    {
      "cell_type": "code",
      "metadata": {
        "id": "v4dbY4tSsFMb",
        "colab_type": "code",
        "colab": {
          "base_uri": "https://localhost:8080/",
          "height": 308
        },
        "outputId": "ebb837be-d096-4f86-9568-12daef53f7f1"
      },
      "source": [
        "# Jso\n",
        "\n",
        "BEST_AGENTS=[]\n",
        "start_time = time.time() \n",
        "for i in range(RUNS):\n",
        "  ANSWER_AGENTS=[]\n",
        "  algorithm = pyade.jso\n",
        "  params = algorithm.get_default_params(dim=dim) \n",
        "  params['bounds'] = np.array(bounds)\n",
        "  params['max_evals'] = ITE \n",
        "  params['func'] = Fun\n",
        "  best, fit = algorithm.apply(**params)\n",
        "  for x in best:\n",
        "    ANSWER_AGENTS.append(x)\n",
        "  ANSWER_AGENTS.append(fit)\n",
        "  BEST_AGENTS.append(ANSWER_AGENTS)\n",
        "BEST_AGENTS=np.array(BEST_AGENTS)\n",
        "TIME = (time.time() - start_time)/RUNS\n",
        "BEST_AGENTS=np.array(BEST_AGENTS)\n",
        "BEST_AGENTS_ST= BEST_AGENTS[BEST_AGENTS[:,-1].argsort()]\n",
        "BEST=BEST_AGENTS_ST[0]\n",
        "WORSE=BEST_AGENTS_ST[-1]\n",
        "MEAN=np.mean(BEST_AGENTS,axis=0)\n",
        "MAXFO=BEST_AGENTS[:,-1].max()\n",
        "MINFO=BEST_AGENTS[:,-1].min()\n",
        "STD=BEST_AGENTS[:,-1].std()\n",
        "nome='Jso-'+str(0)+'_CRo-'+str(0)\n",
        "print(nome,'NPAR',NPAR,'Iterações=',ITE,'Dim=',dim ,\"Min/Max=\",MIN[0],\"/\",MAX[0],'_',Fun.__name__)\n",
        "print( '\\n')\n",
        "print('MÉDIA: ',MEAN[-1])\n",
        "print('MIN __:',MINFO)\n",
        "print('MAX__: ',MAXFO)\n",
        "print('STD __:',STD)\n",
        "print(\"Tempo Médio= %.3f segundos ---\" % (TIME))\n",
        "print(RUNS,'Rodadas') \n",
        "print()\n",
        "print('BEST: ',BEST)"
      ],
      "execution_count": 10,
      "outputs": [
        {
          "output_type": "stream",
          "text": [
            "Jso-0_CRo-0 NPAR 100 Iterações= 1000 Dim= 30 Min/Max= -10 / 10 _ Alpine_n1\n",
            "\n",
            "\n",
            "MÉDIA:  3.4690995503302946\n",
            "MIN __: 1.308578582018433\n",
            "MAX__:  5.637573032347005\n",
            "STD __: 0.9553979793627408\n",
            "Tempo Médio= 0.093 segundos ---\n",
            "50 Rodadas\n",
            "\n",
            "BEST:  [-0.16945568  0.19812688  0.21295784 -0.32994087  0.23611961 -0.01173457\n",
            " -0.04877398  0.03597538 -0.21872627 -0.07389152  0.14636606 -0.0934396\n",
            "  0.01554511 -0.02356775  0.07867042 -1.001439   -0.1706393  -0.14763405\n",
            " -0.022766   -0.27139197  0.0453867  -0.11121821  0.0441228  -0.09943453\n",
            " -0.14314076 -0.25230068 -0.01214035 -0.11908687 -0.27927323 -0.15701222\n",
            "  1.30857858]\n"
          ],
          "name": "stdout"
        }
      ]
    },
    {
      "cell_type": "code",
      "metadata": {
        "id": "ZkV_dpDa14C8",
        "colab_type": "code",
        "colab": {
          "base_uri": "https://localhost:8080/",
          "height": 308
        },
        "outputId": "9418140e-e46f-4156-80bc-8ddd43897c45"
      },
      "source": [
        "# Sade\n",
        "\n",
        "BEST_AGENTS=[]\n",
        "start_time = time.time() \n",
        "for i in range(RUNS):\n",
        "  ANSWER_AGENTS=[]\n",
        "  algorithm = pyade.sade\n",
        "  params = algorithm.get_default_params(dim=dim) \n",
        "  params['bounds'] = np.array(bounds)\n",
        "  params['max_evals'] = ITE \n",
        "  params['func'] = Fun\n",
        "  best, fit = algorithm.apply(**params)\n",
        "  for x in best:\n",
        "    ANSWER_AGENTS.append(x)\n",
        "  ANSWER_AGENTS.append(fit)\n",
        "  BEST_AGENTS.append(ANSWER_AGENTS)\n",
        "BEST_AGENTS=np.array(BEST_AGENTS)\n",
        "TIME = (time.time() - start_time)/RUNS\n",
        "BEST_AGENTS=np.array(BEST_AGENTS)\n",
        "BEST_AGENTS_ST= BEST_AGENTS[BEST_AGENTS[:,-1].argsort()]\n",
        "BEST=BEST_AGENTS_ST[0]\n",
        "WORSE=BEST_AGENTS_ST[-1]\n",
        "MEAN=np.mean(BEST_AGENTS,axis=0)\n",
        "MAXFO=BEST_AGENTS[:,-1].max()\n",
        "MINFO=BEST_AGENTS[:,-1].min()\n",
        "STD=BEST_AGENTS[:,-1].std()\n",
        "nome='Sade_Fo-'+str(0)+'_CRo-'+str(0)\n",
        "print(nome,'NPAR',NPAR,'Iterações=',ITE,'Dim=',dim ,\"Min/Max=\",MIN[0],\"/\",MAX[0],'_',Fun.__name__)\n",
        "print( '\\n')\n",
        "print('MÉDIA: ',MEAN[-1])\n",
        "print('MIN __:',MINFO)\n",
        "print('MAX__: ',MAXFO)\n",
        "print('STD __:',STD)\n",
        "print(\"Tempo Médio= %.3f segundos ---\" % (TIME))\n",
        "print(RUNS,'Rodadas') \n",
        "print()\n",
        "print('BEST: ',BEST)"
      ],
      "execution_count": 11,
      "outputs": [
        {
          "output_type": "stream",
          "text": [
            "Sade_Fo-0_CRo-0 NPAR 100 Iterações= 1000 Dim= 30 Min/Max= -10 / 10 _ Alpine_n1\n",
            "\n",
            "\n",
            "MÉDIA:  8.338300707370088\n",
            "MIN __: 6.968163815413617\n",
            "MAX__:  10.484967077076956\n",
            "STD __: 0.7842674812199844\n",
            "Tempo Médio= 0.105 segundos ---\n",
            "50 Rodadas\n",
            "\n",
            "BEST:  [ 0.54653646  0.01856456  0.24540335  0.81687287  0.33552826  0.1684054\n",
            "  1.24838439 -0.74236117  0.67945052  0.67004148 -0.56314927 -0.33327933\n",
            "  0.05359597  0.02224738  0.11317208 -0.07104705 -0.70541256  0.36413888\n",
            "  0.29021127  0.56612443 -0.21307195 -0.10215742 -0.17806358 -0.31375115\n",
            "  0.12716931  0.24480786 -0.88257097  0.6769309   0.45435049 -0.24287075\n",
            "  6.96816382]\n"
          ],
          "name": "stdout"
        }
      ]
    },
    {
      "cell_type": "code",
      "metadata": {
        "id": "q77YsFa82zFU",
        "colab_type": "code",
        "colab": {
          "base_uri": "https://localhost:8080/",
          "height": 345
        },
        "outputId": "fd03e518-43ba-427d-bffa-5d9d88d127ae"
      },
      "source": [
        "# JADE\n",
        "algorithm = pyade.jso\n",
        "BEST_AGENTS=[]\n",
        "for i in range(RUNS):\n",
        "  ANSWER_AGENTS=[]\n",
        "  solver = pyfde.JADE(Fun, n_dim=dim, n_pop=NPAR, limits=bounds, minimize=True)\n",
        "  solver.p = 0.05\n",
        "  solver.c = 0.1\n",
        "  solver.cr = 0.5\n",
        "  solver.f = 0.5\n",
        "  best, fit = solver.run(n_it=ITE)\n",
        "  for x in best:\n",
        "    ANSWER_AGENTS.append(x)\n",
        "  ANSWER_AGENTS.append(fit)\n",
        "  BEST_AGENTS.append(ANSWER_AGENTS)\n",
        "BEST_AGENTS=np.array(BEST_AGENTS)\n",
        "TIME = (time.time() - start_time)/RUNS\n",
        "BEST_AGENTS=np.array(BEST_AGENTS)\n",
        "BEST_AGENTS_ST= BEST_AGENTS[BEST_AGENTS[:,-1].argsort()]\n",
        "BEST=BEST_AGENTS_ST[0]\n",
        "WORSE=BEST_AGENTS_ST[-1]\n",
        "MEAN=np.mean(BEST_AGENTS,axis=0)\n",
        "MAXFO=BEST_AGENTS[:,-1].max()\n",
        "MINFO=BEST_AGENTS[:,-1].min()\n",
        "STD=BEST_AGENTS[:,-1].std()\n",
        "nome='JADE_Fo-'+str(0)+'_CRo-'+str(0)\n",
        "print(nome,'NPAR',NPAR,'Iterações=',ITE,'Dim=',dim ,\"Min/Max=\",MIN[0],\"/\",MAX[0],'_',Fun.__name__)\n",
        "print( '\\n')\n",
        "print('MÉDIA: ',MEAN[-1])\n",
        "print('MIN __:',MINFO)\n",
        "print('MAX__: ',MAXFO)\n",
        "print('STD __:',STD)\n",
        "print(\"Tempo Médio= %.3f segundos ---\" % (TIME))\n",
        "print(RUNS,'Rodadas') \n",
        "print()\n",
        "print('BEST: ',BEST)"
      ],
      "execution_count": 12,
      "outputs": [
        {
          "output_type": "stream",
          "text": [
            "JADE_Fo-0_CRo-0 NPAR 100 Iterações= 1000 Dim= 30 Min/Max= -10 / 10 _ Alpine_n1\n",
            "\n",
            "\n",
            "MÉDIA:  -0.0007408459926469542\n",
            "MIN __: -0.0014814072198774226\n",
            "MAX__:  -0.0002277720815537419\n",
            "STD __: 0.0003090395056476765\n",
            "Tempo Médio= 5.778 segundos ---\n",
            "50 Rodadas\n",
            "\n",
            "BEST:  [-1.00086784e-01 -1.00595587e-01  2.82895341e-04  3.95044002e-04\n",
            " -9.99578056e-02 -2.08186617e-04 -1.00384539e-01  7.16515771e-04\n",
            "  1.31538757e-04 -1.00310649e-01 -1.00550099e-01  8.49034383e-04\n",
            "  3.02782171e-04 -9.89971286e-02 -9.97899161e-02 -9.99552931e-02\n",
            " -1.00450054e-01 -9.97855887e-02 -1.00758555e-01 -1.00423030e-01\n",
            " -9.90687096e-02  1.05008984e-03  8.61237250e-04 -1.80868007e-03\n",
            " -7.83043521e-05  2.67372045e-04 -1.01568105e-01  3.13124039e-04\n",
            " -1.65506784e-04 -1.74908165e-04 -1.48140722e-03]\n"
          ],
          "name": "stdout"
        }
      ]
    },
    {
      "cell_type": "code",
      "metadata": {
        "id": "gXdUgSStzppX",
        "colab_type": "code",
        "colab": {}
      },
      "source": [
        "# FRANNK START HERE !!!!!"
      ],
      "execution_count": 13,
      "outputs": []
    },
    {
      "cell_type": "code",
      "metadata": {
        "id": "raWOfeJBztuj",
        "colab_type": "code",
        "colab": {
          "base_uri": "https://localhost:8080/",
          "height": 145
        },
        "outputId": "5b1f4f4f-4c45-406f-dda8-fa660f929343"
      },
      "source": [
        "!git clone https://github.com/ucfilho/ANN_read_matrix #clonar do Github\n",
        "%cd ANN_read_matrix"
      ],
      "execution_count": 14,
      "outputs": [
        {
          "output_type": "stream",
          "text": [
            "Cloning into 'ANN_read_matrix'...\n",
            "remote: Enumerating objects: 20, done.\u001b[K\n",
            "remote: Counting objects:   5% (1/20)\u001b[K\rremote: Counting objects:  10% (2/20)\u001b[K\rremote: Counting objects:  15% (3/20)\u001b[K\rremote: Counting objects:  20% (4/20)\u001b[K\rremote: Counting objects:  25% (5/20)\u001b[K\rremote: Counting objects:  30% (6/20)\u001b[K\rremote: Counting objects:  35% (7/20)\u001b[K\rremote: Counting objects:  40% (8/20)\u001b[K\rremote: Counting objects:  45% (9/20)\u001b[K\rremote: Counting objects:  50% (10/20)\u001b[K\rremote: Counting objects:  55% (11/20)\u001b[K\rremote: Counting objects:  60% (12/20)\u001b[K\rremote: Counting objects:  65% (13/20)\u001b[K\rremote: Counting objects:  70% (14/20)\u001b[K\rremote: Counting objects:  75% (15/20)\u001b[K\rremote: Counting objects:  80% (16/20)\u001b[K\rremote: Counting objects:  85% (17/20)\u001b[K\rremote: Counting objects:  90% (18/20)\u001b[K\rremote: Counting objects:  95% (19/20)\u001b[K\rremote: Counting objects: 100% (20/20)\u001b[K\rremote: Counting objects: 100% (20/20), done.\u001b[K\n",
            "remote: Compressing objects:   5% (1/18)\u001b[K\rremote: Compressing objects:  11% (2/18)\u001b[K\rremote: Compressing objects:  16% (3/18)\u001b[K\rremote: Compressing objects:  22% (4/18)\u001b[K\rremote: Compressing objects:  27% (5/18)\u001b[K\rremote: Compressing objects:  33% (6/18)\u001b[K\rremote: Compressing objects:  38% (7/18)\u001b[K\rremote: Compressing objects:  44% (8/18)\u001b[K\rremote: Compressing objects:  50% (9/18)\u001b[K\rremote: Compressing objects:  55% (10/18)\u001b[K\rremote: Compressing objects:  61% (11/18)\u001b[K\rremote: Compressing objects:  66% (12/18)\u001b[K\rremote: Compressing objects:  72% (13/18)\u001b[K\rremote: Compressing objects:  77% (14/18)\u001b[K\rremote: Compressing objects:  83% (15/18)\u001b[K\rremote: Compressing objects:  88% (16/18)\u001b[K\rremote: Compressing objects:  94% (17/18)\u001b[K\rremote: Compressing objects: 100% (18/18)\u001b[K\rremote: Compressing objects: 100% (18/18), done.\u001b[K\n",
            "remote: Total 20 (delta 5), reused 0 (delta 0), pack-reused 0\u001b[K\n",
            "Unpacking objects:   5% (1/20)   \rUnpacking objects:  10% (2/20)   \rUnpacking objects:  15% (3/20)   \rUnpacking objects:  20% (4/20)   \rUnpacking objects:  25% (5/20)   \rUnpacking objects:  30% (6/20)   \rUnpacking objects:  35% (7/20)   \rUnpacking objects:  40% (8/20)   \rUnpacking objects:  45% (9/20)   \rUnpacking objects:  50% (10/20)   \rUnpacking objects:  55% (11/20)   \rUnpacking objects:  60% (12/20)   \rUnpacking objects:  65% (13/20)   \rUnpacking objects:  70% (14/20)   \rUnpacking objects:  75% (15/20)   \rUnpacking objects:  80% (16/20)   \rUnpacking objects:  85% (17/20)   \rUnpacking objects:  90% (18/20)   \rUnpacking objects:  95% (19/20)   \rUnpacking objects: 100% (20/20)   \rUnpacking objects: 100% (20/20), done.\n",
            "/content/Raianars_July_2020/ANN_read_matrix\n"
          ],
          "name": "stdout"
        }
      ]
    },
    {
      "cell_type": "code",
      "metadata": {
        "id": "N2lyPfivzwGv",
        "colab_type": "code",
        "colab": {
          "base_uri": "https://localhost:8080/",
          "height": 1000
        },
        "outputId": "fd0142f4-5129-4de0-8ccf-b95f52d04013"
      },
      "source": [
        "ANN_F=pd.read_csv('ANN_INSIGHT_Valor_F.csv')\n",
        "ANN_CR=pd.read_csv('ANN_INSIGHT_CR.csv')\n",
        "syn0_F,syn1_F,X_max_F,X_min_F=Go2Ann.GetMatriz(ANN_F)\n",
        "syn0_CR,syn1_CR,X_max_CR,X_min_CR=Go2Ann.GetMatriz(ANN_CR)\n",
        "fields = ['DI RELATIVO','FRAC Its','Fo','CRo']\n",
        "\n",
        "#TOTAL=7*dim*its*ITE\n",
        "TOTAL=10*dim*its*ITE\n",
        "TOTAL=int(TOTAL/2)   # CONFERIR SE ESTE EH O MELHOR LUGAR\n",
        "\n",
        "dimensions=len(MAX)\n",
        "start_time = time.time() #INICIALIZA CONTAGEM DO TEMPO\n",
        "\n",
        "MAX_P=np.zeros(ITE) # ATENCAO para variar F e Cr MAX_P passa a ser 3 vezes maior\n",
        "MIN_P=np.zeros(ITE) # ATENCAO para variar F e Cr MIN_P passa a ser 3 vezes maior\n",
        "\n",
        "for i in range(dim):\n",
        "  MAX_P[i]=MAX[i] \n",
        "  MIN_P[i]=MIN[i]\n",
        "\n",
        "rodadas=1\n",
        "for i in range(rodadas):\n",
        "  SOMA=0\n",
        "  pop = np.random.rand(NPAR, dimensions)\n",
        "  diff=np.zeros(PAR)\n",
        "  for ii in range(PAR):\n",
        "    diff[ii] = MAX[ii]-MIN[ii]\n",
        "  X = MIN + pop * diff\n",
        "    \n",
        "  PONTOS=ITE # DIVISOES DA POPULACAO\n",
        "start_time = time.time()\n",
        "BEST_AGENTS=[]\n",
        "MAT_stat=[]\n",
        "for i in range(RUNS):\n",
        "    MAT=[] \n",
        "    mut=Fi\n",
        "    crossp=CRi\n",
        "    SOMA=0\n",
        "    SOMAf=0\n",
        "    start_ite = time.time()\n",
        "    delta_time=(start_ite-start_time)/60\n",
        "    print('ite=',i,'total=50','time=',delta_time)\n",
        "    pop = np.random.rand(NPAR, dim)\n",
        "    diff=np.zeros(PAR)\n",
        "    for ii in range(PAR):\n",
        "      diff[ii] = MAX[ii]-MIN[ii]\n",
        "    X = MIN + pop * diff\n",
        "    Xf = MIN + pop * diff\n",
        "    \n",
        "    DIo=1e99\n",
        "  \n",
        "    CRo=crossp;Fo=mut;\n",
        "    Fitness = np.asarray([Fun(ind) for ind in X])\n",
        "\n",
        "    XY,BEST_XY,BESTo,FOBESTo=AvaliaX(X,Fitness)\n",
        "    nrow,ncol=X.shape\n",
        "\n",
        "    QUANT=17;MAT_INDo=np.zeros((1,QUANT)); # quantos indices esta fazendo\n",
        "    MAT_INDo[0,5]=nrow  # VALOR NP\n",
        "    MAT_INDo[0,6]=Fo    # VALOR Fo   \n",
        "    MAT_INDo[0,7]=CRo   # VALOR CRo\n",
        "  \n",
        "    MAT_INDo=GeraIndices(X,BESTo,FOBESTo,DIo,MAT_INDo,SOMA,TOTAL,syn0_F,\n",
        "                        syn1_F,X_max_F,X_min_F,syn0_CR,syn1_CR,X_max_CR,\n",
        "                        X_min_CR,Fc,fields,Fun)\n",
        "  \n",
        "    DIo=np.copy(MAT_INDo[0,0])\n",
        "    MAT_INDo[0,15]=Fo    # VALOR Fo   \n",
        "    MAT_INDo[0,16]=CRo   # VALOR CRo\n",
        "    #ind_crossp=ITE-1\n",
        "\n",
        "    \n",
        "    for k in range(ITE):\n",
        "      X,BEST,FOBEST,XY,BEST_XY,SOMA= de_soma_Insight.de(MAX,MIN, mut, crossp,NPAR,its,Fun,X,SOMA,TOTAL)\n",
        "      #Xf,BESTf,FOBESTf,XYf,BEST_XYf,SOMAf= de_soma_Insight.de(MAX,MIN, Fi, CRi, NPAR,its,Fun,Xf,SOMAf,TOTAL)\n",
        "\n",
        "      \n",
        "      MAT_IND=GeraIndices(X,BESTo,FOBESTo,DIo,MAT_INDo,SOMA,TOTAL,syn0_F,\n",
        "                          syn1_F,X_max_F,X_min_F,syn0_CR,syn1_CR,X_max_CR,\n",
        "                          X_min_CR,Fc,fields,Fun)\n",
        "    \n",
        "      BESTo=np.copy(BEST);FOBESTo=np.copy(FOBEST);\n",
        "      MAT.append(MAT_IND.ravel())\n",
        "    \n",
        "      MAT_INDo[0,6]=MAT_IND[0,15]   # VALOR Fo   \n",
        "      MAT_INDo[0,7]=MAT_IND[0,16]   # VALOR CRo\n",
        "      mut=MAT_IND[0,15]\n",
        "      crossp=MAT_IND[0,16]\n",
        "\n",
        "      Fitness = np.asarray([Fun(ind) for ind in X])\n",
        "      #Fitnessf = np.asarray([Fun(ind) for ind in Xf])\n",
        "      Maior=np.argmax(Fitness)\n",
        "      #Maiorf=np.argmax(Fitnessf)\n",
        "      Menor=np.argmin(Fitness)\n",
        "      #Menorf=np.argmin(Fitnessf)\n",
        "\n",
        "      #X[Maior,:]=np.copy(Xf[Menorf,:])\n",
        "      #Xf[Maiorf,:]=np.copy(X[Menor,:])\n",
        "      \n",
        "    BEST_AGENTS.append(BEST_XY)\n",
        "    MAT_stat.append(MAT)\n",
        "    #print(\"GlobalParam e Solucao:\", BEST,\"Funcao=\",FOBEST)\n",
        "    \n",
        "############################## Cálculo dos Parâmetros de Avaliação   \n",
        "TIME = (time.time() - start_time)/RUNS\n",
        "BEST_AGENTS=np.array(BEST_AGENTS)\n",
        "BEST_AGENTS_ST= BEST_AGENTS[BEST_AGENTS[:,-1].argsort()]\n",
        "BEST=BEST_AGENTS_ST[0]\n",
        "WORSE=BEST_AGENTS_ST[-1]\n",
        "MEAN=np.mean(BEST_AGENTS,axis=0)\n",
        "MAXFO=BEST_AGENTS[:,-1].max()\n",
        "MINFO=BEST_AGENTS[:,-1].min()\n",
        "STD=BEST_AGENTS[:,-1].std()\n",
        "\n",
        "nome='_ANN_Div3x4_Fo-'+str(Fi)+'_CRo-'+str(CRi)+'_D-'+str(dim)+'_Interv-'+str(ITE)\n",
        "print('DE_POP_VAR_F_CR','TOTAL=',TOTAL,'Iterações=',ITE*its,'Dim=', PAR,\"Min/Max=\",MIN[0],\"/\",MAX[0],'_',Fun.__name__)\n",
        "print(nome, '\\n')\n",
        "print('MÉDIA: ',MEAN[-1])\n",
        "print('MIN __:',MINFO)\n",
        "print('MAX__: ',MAXFO)\n",
        "print('STD __:',STD)\n",
        "print(\"Tempo Médio= %.3f segundos ---\" % (TIME))\n",
        "print(RUNS,'Rodadas') \n",
        "print()\n",
        "print('BEST: ',BEST)"
      ],
      "execution_count": 15,
      "outputs": [
        {
          "output_type": "stream",
          "text": [
            "ite= 0 total=50 time= 7.776419321695964e-06\n",
            "ite= 1 total=50 time= 1.5296956618626913\n",
            "ite= 2 total=50 time= 3.065126585960388\n",
            "ite= 3 total=50 time= 4.596406483650208\n",
            "ite= 4 total=50 time= 6.1280399282773335\n",
            "ite= 5 total=50 time= 7.6776748975118005\n",
            "ite= 6 total=50 time= 9.194054710865021\n",
            "ite= 7 total=50 time= 10.732680328687032\n",
            "ite= 8 total=50 time= 12.25615853468577\n",
            "ite= 9 total=50 time= 13.774569034576416\n",
            "ite= 10 total=50 time= 15.310037406285604\n",
            "ite= 11 total=50 time= 16.83688428401947\n",
            "ite= 12 total=50 time= 18.354761791229247\n",
            "ite= 13 total=50 time= 19.870293243726096\n",
            "ite= 14 total=50 time= 21.37888147830963\n",
            "ite= 15 total=50 time= 22.903869052728016\n",
            "ite= 16 total=50 time= 24.435901379585268\n",
            "ite= 17 total=50 time= 25.94740153948466\n",
            "ite= 18 total=50 time= 27.475884771347047\n",
            "ite= 19 total=50 time= 29.00743488073349\n",
            "ite= 20 total=50 time= 30.540342005093894\n",
            "ite= 21 total=50 time= 32.0697857538859\n",
            "ite= 22 total=50 time= 33.57574742635091\n",
            "ite= 23 total=50 time= 35.10711566209793\n",
            "ite= 24 total=50 time= 36.647217432657875\n",
            "ite= 25 total=50 time= 38.14514070749283\n",
            "ite= 26 total=50 time= 39.65929255485535\n",
            "ite= 27 total=50 time= 41.19299045801163\n",
            "ite= 28 total=50 time= 42.70525156656901\n",
            "ite= 29 total=50 time= 44.23944128751755\n",
            "ite= 30 total=50 time= 45.758695189158125\n",
            "ite= 31 total=50 time= 47.273593215147656\n",
            "ite= 32 total=50 time= 48.79983563423157\n",
            "ite= 33 total=50 time= 50.31779956817627\n",
            "ite= 34 total=50 time= 51.83438763221105\n",
            "ite= 35 total=50 time= 53.35174406369527\n",
            "ite= 36 total=50 time= 54.86400382121404\n",
            "ite= 37 total=50 time= 56.404036498069765\n",
            "ite= 38 total=50 time= 57.92576644817988\n",
            "ite= 39 total=50 time= 59.44639016787211\n",
            "ite= 40 total=50 time= 60.974651738007864\n",
            "ite= 41 total=50 time= 62.4827600757281\n",
            "ite= 42 total=50 time= 64.00657217899958\n",
            "ite= 43 total=50 time= 65.55816560586294\n",
            "ite= 44 total=50 time= 67.06656646728516\n",
            "ite= 45 total=50 time= 68.59490520954132\n",
            "ite= 46 total=50 time= 70.10028791030248\n",
            "ite= 47 total=50 time= 71.63210158745447\n",
            "ite= 48 total=50 time= 73.15516750415166\n",
            "ite= 49 total=50 time= 74.67050737142563\n",
            "DE_POP_VAR_F_CR TOTAL= 150000 Iterações= 1000 Dim= 30 Min/Max= -10 / 10 _ Alpine_n1\n",
            "_ANN_Div3x4_Fo-0.5_CRo-0.5_D-30_Interv-1000 \n",
            "\n",
            "MÉDIA:  0.00016583837243392397\n",
            "MIN __: 2.4308277342617396e-06\n",
            "MAX__:  0.001793602863745774\n",
            "STD __: 0.0004468858961280002\n",
            "Tempo Médio= 91.432 segundos ---\n",
            "50 Rodadas\n",
            "\n",
            "BEST:  [-1.00167587e-01  2.92937299e-06 -2.27026627e-09  1.60490115e-06\n",
            " -1.00167919e-01 -1.00167613e-01 -1.20754321e-06 -1.00167303e-01\n",
            "  8.90119629e-07  6.64469926e-08 -1.00167842e-01  4.05331174e-08\n",
            " -1.15311301e-08  9.12728133e-07 -1.00167452e-01 -3.14119026e-08\n",
            " -1.12689456e-06 -6.17853967e-07 -3.28130302e-07  8.25546145e-07\n",
            " -1.00164492e-01  2.37067211e-06  1.59105449e-09  1.62584574e-07\n",
            " -3.19086224e-06 -1.00166959e-01  1.37729138e-06 -1.80489588e-08\n",
            " -1.00167603e-01  1.61031690e-06  2.43082773e-06]\n"
          ],
          "name": "stdout"
        }
      ]
    }
  ]
}