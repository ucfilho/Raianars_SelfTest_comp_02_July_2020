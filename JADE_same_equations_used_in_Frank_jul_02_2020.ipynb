{
  "nbformat": 4,
  "nbformat_minor": 0,
  "metadata": {
    "colab": {
      "name": "JADE_same_equations_used_in_Frank_jul_02_2020.ipynb",
      "provenance": [],
      "collapsed_sections": [],
      "authorship_tag": "ABX9TyPzAOAb6EK6NsKhb/CeGsJF",
      "include_colab_link": true
    },
    "kernelspec": {
      "name": "python3",
      "display_name": "Python 3"
    }
  },
  "cells": [
    {
      "cell_type": "markdown",
      "metadata": {
        "id": "view-in-github",
        "colab_type": "text"
      },
      "source": [
        "<a href=\"https://colab.research.google.com/github/ucfilho/Raianars_SelfTest_comp_02_July_2020/blob/master/JADE_same_equations_used_in_Frank_jul_02_2020.ipynb\" target=\"_parent\"><img src=\"https://colab.research.google.com/assets/colab-badge.svg\" alt=\"Open In Colab\"/></a>"
      ]
    },
    {
      "cell_type": "code",
      "metadata": {
        "id": "Es8PhSUedYDe",
        "colab_type": "code",
        "colab": {}
      },
      "source": [
        "import numpy as np\n",
        "from scipy.optimize import differential_evolution"
      ],
      "execution_count": 1,
      "outputs": []
    },
    {
      "cell_type": "code",
      "metadata": {
        "id": "sYDP3gTiHrOg",
        "colab_type": "code",
        "colab": {}
      },
      "source": [
        "# paper Self-adaptive differential evolution 01.pdf\n",
        "# dim= 30, 50 and 100 based \n",
        "# f1 Sphere\n",
        "# f2 Step "
      ],
      "execution_count": 2,
      "outputs": []
    },
    {
      "cell_type": "code",
      "metadata": {
        "id": "FRAi1AGzdeYk",
        "colab_type": "code",
        "colab": {
          "base_uri": "https://localhost:8080/",
          "height": 52
        },
        "outputId": "7d0231f5-bebf-42f8-ea22-20d0c7637f6d"
      },
      "source": [
        "!git clone https://github.com/ucfilho/Raianars_July_2020 #clonar do Github\n",
        "%cd Raianars_July_2020"
      ],
      "execution_count": 3,
      "outputs": [
        {
          "output_type": "stream",
          "text": [
            "fatal: destination path 'Raianars_July_2020' already exists and is not an empty directory.\n",
            "/content/Raianars_July_2020\n"
          ],
          "name": "stdout"
        }
      ]
    },
    {
      "cell_type": "code",
      "metadata": {
        "id": "WPP0AwDbdk4p",
        "colab_type": "code",
        "colab": {}
      },
      "source": [
        "import Function\n",
        "import Go2MinMax"
      ],
      "execution_count": 4,
      "outputs": []
    },
    {
      "cell_type": "code",
      "metadata": {
        "id": "aainD4FVhQhu",
        "colab_type": "code",
        "colab": {}
      },
      "source": [
        "ITE=2000 #10 # PONTOS quantas vezes vai alteral NPAR \n",
        "NPAR=100 # NUMBER OF PARTICLES\n",
        "dim=30\n",
        "\n",
        "fchoice='Schwefel_222'  #f2\n",
        "Fun=Function.Schwefel_222\n",
        "\n",
        "MIN,MAX=Go2MinMax.Intervalo(dim,fchoice)\n",
        "bounds = [(0,0)]*dim\n",
        "\n",
        "for i in range(dim):\n",
        "  bounds[i] = (MIN[i],MAX[i])"
      ],
      "execution_count": 5,
      "outputs": []
    },
    {
      "cell_type": "code",
      "metadata": {
        "id": "4nlypEzsd8z4",
        "colab_type": "code",
        "colab": {}
      },
      "source": [
        "#print(bounds)"
      ],
      "execution_count": 6,
      "outputs": []
    },
    {
      "cell_type": "code",
      "metadata": {
        "id": "s8eOhF9tgGNn",
        "colab_type": "code",
        "colab": {
          "base_uri": "https://localhost:8080/",
          "height": 52
        },
        "outputId": "036e867c-a89f-43f3-e064-e664c79eb87b"
      },
      "source": [
        "!pip install PyFDE"
      ],
      "execution_count": 7,
      "outputs": [
        {
          "output_type": "stream",
          "text": [
            "Requirement already satisfied: PyFDE in /usr/local/lib/python3.6/dist-packages (1.3.0)\n",
            "Requirement already satisfied: numpy in /usr/local/lib/python3.6/dist-packages (from PyFDE) (1.18.5)\n"
          ],
          "name": "stdout"
        }
      ]
    },
    {
      "cell_type": "code",
      "metadata": {
        "id": "RSVcPxfcgHC_",
        "colab_type": "code",
        "colab": {}
      },
      "source": [
        "import pyfde\n",
        "solver = pyfde.JADE(Fun, n_dim=30, n_pop=NPAR, limits=bounds, minimize=True)\n",
        "solver.p = 0.05\n",
        "solver.c = 0.1\n",
        "best, fit = solver.run(n_it=ITE)"
      ],
      "execution_count": 8,
      "outputs": []
    },
    {
      "cell_type": "code",
      "metadata": {
        "id": "z4mYgxbKhqj1",
        "colab_type": "code",
        "colab": {
          "base_uri": "https://localhost:8080/",
          "height": 194
        },
        "outputId": "ebe090ce-eb53-4e23-eddd-96c05ae0e8ff"
      },
      "source": [
        "print(\"**Best solution found**\")\n",
        "print(\"x\",best)\n",
        "print(\"Fitness =\",fit)"
      ],
      "execution_count": 9,
      "outputs": [
        {
          "output_type": "stream",
          "text": [
            "**Best solution found**\n",
            "x [ 3.52649996e-41 -1.37160188e-41  1.71069035e-41 -2.43134831e-41\n",
            "  1.66271055e-41  5.01870303e-41  3.25255766e-41 -4.37413256e-41\n",
            " -2.52712181e-41 -4.70156373e-41  2.80927920e-41 -7.99146267e-42\n",
            " -4.10878025e-41 -7.33266825e-41 -5.93885896e-41 -8.55130947e-42\n",
            "  6.79977964e-41 -4.59823527e-42  6.80681699e-41 -1.24093716e-40\n",
            " -1.59103788e-41 -3.85217103e-41  2.29773432e-41  4.05646469e-41\n",
            " -6.47825137e-41 -9.73379940e-41  6.85411395e-41 -8.94264281e-41\n",
            "  2.59093006e-41  2.47954836e-41]\n",
            "Fitness = -1.2777327930168747e-39\n"
          ],
          "name": "stdout"
        }
      ]
    },
    {
      "cell_type": "code",
      "metadata": {
        "id": "id4T7FD4nEAD",
        "colab_type": "code",
        "colab": {
          "base_uri": "https://localhost:8080/",
          "height": 194
        },
        "outputId": "cef4d3ac-3143-48c3-f491-94d15dd17364"
      },
      "source": [
        "ITE=1000 #10 # PONTOS quantas vezes vai alteral NPAR \n",
        "NPAR=100 # NUMBER OF PARTICLES\n",
        "dim=30\n",
        "\n",
        "fchoice='Rastrigin'  #f2\n",
        "Fun=Function.Rastrigin\n",
        "\n",
        "MIN,MAX=Go2MinMax.Intervalo(dim,fchoice)\n",
        "bounds = [(0,0)]*dim\n",
        "\n",
        "for i in range(dim):\n",
        "  bounds[i] = (MIN[i],MAX[i])\n",
        "\n",
        "solver = pyfde.JADE(Fun, n_dim=dim, n_pop=NPAR, limits=bounds, minimize=True)\n",
        "solver.p = 0.05\n",
        "solver.c = 0.1\n",
        "best, fit = solver.run(n_it=ITE)\n",
        "\n",
        "print(\"**Best solution found**\")\n",
        "print(\"x\",best)\n",
        "print(\"Fitness =\",fit)"
      ],
      "execution_count": 11,
      "outputs": [
        {
          "output_type": "stream",
          "text": [
            "**Best solution found**\n",
            "x [-2.15557833e-05  2.67651756e-04  4.38086222e-05  4.76182049e-05\n",
            " -1.00258348e-05  1.00666745e-04 -1.71804375e-04  9.31162566e-05\n",
            "  1.23736247e-04  3.98426032e-05 -1.22324870e-04 -3.53035668e-05\n",
            "  8.67954268e-05 -1.57769175e-04 -1.09001121e-04  5.47264235e-06\n",
            "  1.87063888e-04 -9.05490034e-06 -4.29795009e-05 -2.18971570e-05\n",
            " -5.29650264e-05  1.92892730e-04 -1.33970848e-04 -2.32857107e-04\n",
            " -1.07109185e-04  7.90938963e-06  1.24942864e-04 -2.38170874e-04\n",
            "  6.56047858e-05  2.90674311e-05]\n",
            "Fitness = -8.744310946440237e-05\n"
          ],
          "name": "stdout"
        }
      ]
    },
    {
      "cell_type": "code",
      "metadata": {
        "id": "jowz7RkMnvG1",
        "colab_type": "code",
        "colab": {
          "base_uri": "https://localhost:8080/",
          "height": 194
        },
        "outputId": "2b86bbac-51eb-497f-9146-9269453199f3"
      },
      "source": [
        "\n",
        "ITE=1500 #10 # PONTOS quantas vezes vai alteral NPAR \n",
        "NPAR=100 # NUMBER OF PARTICLES\n",
        "dim=30\n",
        "\n",
        "fchoice='Sphere'  #f2\n",
        "Fun=Function.Sphere\n",
        "\n",
        "MIN,MAX=Go2MinMax.Intervalo(dim,fchoice)\n",
        "bounds = [(0,0)]*dim\n",
        "\n",
        "for i in range(dim):\n",
        "  bounds[i] = (MIN[i],MAX[i])\n",
        "\n",
        "solver = pyfde.JADE(Fun, n_dim=dim, n_pop=NPAR, limits=bounds, minimize=True)\n",
        "solver.p = 0.05\n",
        "solver.c = 0.1\n",
        "best, fit = solver.run(n_it=ITE)\n",
        "\n",
        "print(\"**Best solution found**\")\n",
        "print('Sphere f2')\n",
        "print(\"x\",best)\n",
        "print(\"Fitness =\",fit)"
      ],
      "execution_count": 12,
      "outputs": [
        {
          "output_type": "stream",
          "text": [
            "**Best solution found**\n",
            "x [ 6.04038248e-34 -8.14561116e-35 -8.00690203e-34 -4.81828951e-34\n",
            " -2.98388979e-34  8.04774417e-34 -4.07476921e-34  5.06843853e-36\n",
            " -4.12849842e-34 -2.25192112e-34  2.82886701e-34  1.33418243e-34\n",
            "  4.56431553e-35  8.93950847e-35  1.26644443e-34  2.43468398e-35\n",
            " -1.84689819e-34 -8.63657499e-35  7.94911471e-34 -2.53036710e-34\n",
            " -5.46481754e-34  5.09105758e-34 -3.75782747e-35  1.13398806e-35\n",
            " -1.20028367e-33  2.19563960e-34  3.11853587e-34  7.60293175e-34\n",
            " -8.20444569e-35 -2.57788103e-34]\n",
            "Fitness = -6.027436865848836e-66\n"
          ],
          "name": "stdout"
        }
      ]
    },
    {
      "cell_type": "code",
      "metadata": {
        "id": "aA8RLHRRo2eT",
        "colab_type": "code",
        "colab": {
          "base_uri": "https://localhost:8080/",
          "height": 105
        },
        "outputId": "21884b99-d707-47f9-e44b-5dffc645f18a"
      },
      "source": [
        "ITE=3000 #10 # PONTOS quantas vezes vai alteral NPAR \n",
        "NPAR=100 # NUMBER OF PARTICLES\n",
        "dim=30\n",
        "\n",
        "fchoice='Rosenbrock'  #f2\n",
        "Fun=Function.Rosenbrock\n",
        "\n",
        "MIN,MAX=Go2MinMax.Intervalo(dim,fchoice)\n",
        "bounds = [(0,0)]*dim\n",
        "\n",
        "for i in range(dim):\n",
        "  bounds[i] = (MIN[i],MAX[i])\n",
        "\n",
        "solver = pyfde.JADE(Fun, n_dim=dim, n_pop=NPAR, limits=bounds, minimize=True)\n",
        "solver.p = 0.05\n",
        "solver.c = 0.1\n",
        "best, fit = solver.run(n_it=ITE)\n",
        "\n",
        "print(\"**Best solution found**\")\n",
        "print('Rosenbrock f5' )\n",
        "print(\"x\",best)\n",
        "print(\"Fitness =\",fit)"
      ],
      "execution_count": 13,
      "outputs": [
        {
          "output_type": "stream",
          "text": [
            "**Best solution found**\n",
            "Rosenbrock f5\n",
            "x [1. 1. 1. 1. 1. 1. 1. 1. 1. 1. 1. 1. 1. 1. 1. 1. 1. 1. 1. 1. 1. 1. 1. 1.\n",
            " 1. 1. 1. 1. 1. 1.]\n",
            "Fitness = -0.0\n"
          ],
          "name": "stdout"
        }
      ]
    },
    {
      "cell_type": "code",
      "metadata": {
        "id": "8wqQlmWwn9u7",
        "colab_type": "code",
        "colab": {
          "base_uri": "https://localhost:8080/",
          "height": 212
        },
        "outputId": "f25d2891-8fe8-497f-9744-5436c0b76f63"
      },
      "source": [
        "ITE=1500 #10 # PONTOS quantas vezes vai alteral NPAR \n",
        "NPAR=100 # NUMBER OF PARTICLES\n",
        "dim=30\n",
        "\n",
        "fchoice='Ackley'  #f10\n",
        "Fun=Function.Ackley\n",
        "\n",
        "MIN,MAX=Go2MinMax.Intervalo(dim,fchoice)\n",
        "bounds = [(0,0)]*dim\n",
        "\n",
        "for i in range(dim):\n",
        "  bounds[i] = (MIN[i],MAX[i])\n",
        "\n",
        "solver = pyfde.JADE(Fun, n_dim=dim, n_pop=NPAR, limits=bounds, minimize=True)\n",
        "solver.p = 0.05\n",
        "solver.c = 0.1\n",
        "best, fit = solver.run(n_it=ITE)\n",
        "\n",
        "print(\"**Best solution found**\")\n",
        "print('Ackley: f10')\n",
        "print(\"x\",best)\n",
        "print(\"Fitness =\",fit)"
      ],
      "execution_count": 14,
      "outputs": [
        {
          "output_type": "stream",
          "text": [
            "**Best solution found**\n",
            "Ackley: f10\n",
            "x [-2.68897726e-17  1.10976736e-15 -1.30261896e-15  2.26907113e-16\n",
            " -1.01517127e-15  1.34306607e-15 -2.67962778e-16  3.58401752e-15\n",
            "  7.53419077e-18  6.80581922e-16  2.17987565e-15  1.08997329e-15\n",
            " -6.54558232e-16 -4.55020964e-16  1.56331678e-15 -1.07134870e-15\n",
            "  8.36652928e-17 -4.37973686e-16 -7.90642280e-16 -9.20064651e-16\n",
            "  2.31010243e-15 -7.03918105e-16 -1.68141390e-15  1.13250444e-15\n",
            "  6.39268323e-16 -2.05725409e-16  1.39879418e-17 -1.62034623e-15\n",
            "  2.00159419e-15 -1.00223744e-15]\n",
            "Fitness = -3.9968028886505635e-15\n"
          ],
          "name": "stdout"
        }
      ]
    },
    {
      "cell_type": "code",
      "metadata": {
        "id": "5ca_T5tJqlF5",
        "colab_type": "code",
        "colab": {
          "base_uri": "https://localhost:8080/",
          "height": 212
        },
        "outputId": "6dce309f-dcf5-480d-a3cf-e4f6e2e71947"
      },
      "source": [
        "ITE=1000 #10 # PONTOS quantas vezes vai alteral NPAR \n",
        "NPAR=100 # NUMBER OF PARTICLES\n",
        "dim=30\n",
        "\n",
        "fchoice='Rastrigin'  #f9\n",
        "Fun=Function.Rastrigin\n",
        "\n",
        "MIN,MAX=Go2MinMax.Intervalo(dim,fchoice)\n",
        "bounds = [(0,0)]*dim\n",
        "\n",
        "for i in range(dim):\n",
        "  bounds[i] = (MIN[i],MAX[i])\n",
        "\n",
        "solver = pyfde.JADE(Fun, n_dim=dim, n_pop=NPAR, limits=bounds, minimize=True)\n",
        "solver.p = 0.05\n",
        "solver.c = 0.1\n",
        "best, fit = solver.run(n_it=ITE)\n",
        "\n",
        "print(\"**Best solution found**\")\n",
        "print('Rastrigin f9')\n",
        "print(\"x\",best)\n",
        "print(\"Fitness =\",fit)"
      ],
      "execution_count": 15,
      "outputs": [
        {
          "output_type": "stream",
          "text": [
            "**Best solution found**\n",
            "Rastrigin f9\n",
            "x [-6.12786537e-05 -8.87656807e-05 -1.31128723e-04 -1.15989861e-04\n",
            " -1.43843691e-05 -1.17324613e-04 -2.27379205e-04 -6.16382130e-05\n",
            " -1.04381822e-04 -1.90868184e-04  2.28359769e-04  1.61198021e-04\n",
            " -3.60883022e-05  2.31380128e-05  4.50974727e-04  4.03162409e-05\n",
            "  1.62919396e-04 -5.09056718e-05  1.80264952e-04  2.79163696e-05\n",
            " -2.40319166e-06  8.86192608e-05  2.05536658e-04  8.06248107e-06\n",
            "  7.90500994e-05 -2.58054471e-05 -1.73896137e-04  4.31821905e-06\n",
            " -1.28881034e-04 -8.36302960e-05]\n",
            "Fitness = -0.0001224896147959953\n"
          ],
          "name": "stdout"
        }
      ]
    },
    {
      "cell_type": "code",
      "metadata": {
        "id": "iT8RGhm-rTYX",
        "colab_type": "code",
        "colab": {
          "base_uri": "https://localhost:8080/",
          "height": 212
        },
        "outputId": "4238c056-af41-4275-d70f-20e15cc1dabc"
      },
      "source": [
        "ITE=500 #10 # PONTOS quantas vezes vai alteral NPAR \n",
        "NPAR=100 # NUMBER OF PARTICLES\n",
        "dim=30\n",
        "\n",
        "fchoice='Griewank'  #f11\n",
        "Fun=Function.Griewank\n",
        "\n",
        "MIN,MAX=Go2MinMax.Intervalo(dim,fchoice)\n",
        "bounds = [(0,0)]*dim\n",
        "\n",
        "for i in range(dim):\n",
        "  bounds[i] = (MIN[i],MAX[i])\n",
        "\n",
        "solver = pyfde.JADE(Fun, n_dim=dim, n_pop=NPAR, limits=bounds, minimize=True)\n",
        "solver.p = 0.05\n",
        "solver.c = 0.1\n",
        "best, fit = solver.run(n_it=ITE)\n",
        "\n",
        "print(\"**Best solution found**\")\n",
        "print('Griewank f11')\n",
        "print(\"x\",best)\n",
        "print(\"Fitness =\",fit)"
      ],
      "execution_count": 17,
      "outputs": [
        {
          "output_type": "stream",
          "text": [
            "**Best solution found**\n",
            "Griewank f11\n",
            "x [-5.37807832e-09  8.70556932e-09 -1.70062568e-08 -7.30582286e-09\n",
            " -1.00684862e-08 -4.07217447e-09  1.78597804e-08  1.96881969e-09\n",
            " -2.50372801e-09  2.38898264e-08 -1.33573561e-09  2.71978129e-08\n",
            "  2.52646144e-10 -2.51575924e-08 -1.39666709e-08 -2.80555121e-08\n",
            " -3.50412074e-08 -2.37048276e-08  8.80991796e-09  5.83618593e-09\n",
            " -7.90204378e-09  5.86213786e-09 -1.68217532e-08  1.53667001e-08\n",
            "  4.26071970e-08 -5.17737095e-08 -8.45213247e-09  3.40964316e-09\n",
            "  1.94904557e-08  3.07237663e-08]\n",
            "Fitness = -0.0\n"
          ],
          "name": "stdout"
        }
      ]
    },
    {
      "cell_type": "code",
      "metadata": {
        "id": "0T2UdsXCsDYv",
        "colab_type": "code",
        "colab": {
          "base_uri": "https://localhost:8080/",
          "height": 158
        },
        "outputId": "8617e4c9-f88f-4cc7-d275-a8bba1294626"
      },
      "source": [
        "ITE=3000 #10 # PONTOS quantas vezes vai alteral NPAR \n",
        "NPAR=100 # NUMBER OF PARTICLES\n",
        "dim=30\n",
        "\n",
        "fchoice='Noisy_Quartic'  #f7\n",
        "Fun=Function.Noisy_Quartic\n",
        "\n",
        "MIN,MAX=Go2MinMax.Intervalo(dim,fchoice)\n",
        "bounds = [(0,0)]*dim\n",
        "\n",
        "for i in range(dim):\n",
        "  bounds[i] = (MIN[i],MAX[i])\n",
        "\n",
        "solver = pyfde.JADE(Fun, n_dim=dim, n_pop=NPAR, limits=bounds, minimize=True)\n",
        "solver.p = 0.05\n",
        "solver.c = 0.1\n",
        "best, fit = solver.run(n_it=ITE)\n",
        "\n",
        "print(\"**Best solution found**\")\n",
        "print('Noisy_Quartic f7')\n",
        "print(\"x\",best)\n",
        "print(\"Fitness =\",fit)"
      ],
      "execution_count": 18,
      "outputs": [
        {
          "output_type": "stream",
          "text": [
            "**Best solution found**\n",
            "Noisy_Quartic f7\n",
            "x [ 0.0071035   0.03030646 -0.04993572  0.04993594 -0.02321911 -0.07169386\n",
            "  0.01927962  0.01460891 -0.02380549  0.02702316 -0.02418056  0.05454285\n",
            "  0.02497504  0.03312691  0.00608491 -0.00749251 -0.00764376  0.04390331\n",
            "  0.00948799  0.02921198 -0.00623163  0.01558551  0.00969657 -0.01354745\n",
            " -0.02936069  0.01303798  0.03420038  0.02365954  0.02670578 -0.02059626]\n",
            "Fitness = -0.0006232765099908118\n"
          ],
          "name": "stdout"
        }
      ]
    },
    {
      "cell_type": "code",
      "metadata": {
        "id": "-tjq-IYRtcWm",
        "colab_type": "code",
        "colab": {
          "base_uri": "https://localhost:8080/",
          "height": 212
        },
        "outputId": "4e375fe6-430f-4b9b-c211-38155e1010d0"
      },
      "source": [
        "ITE=5000 #10 # PONTOS quantas vezes vai alteral NPAR \n",
        "NPAR=100 # NUMBER OF PARTICLES\n",
        "dim=30\n",
        "\n",
        "fchoice='Schwefel_221'  #f4\n",
        "Fun=Function.Schwefel_221\n",
        "\n",
        "MIN,MAX=Go2MinMax.Intervalo(dim,fchoice)\n",
        "bounds = [(0,0)]*dim\n",
        "\n",
        "for i in range(dim):\n",
        "  bounds[i] = (MIN[i],MAX[i])\n",
        "\n",
        "solver = pyfde.JADE(Fun, n_dim=dim, n_pop=NPAR, limits=bounds, minimize=True)\n",
        "solver.p = 0.05\n",
        "solver.c = 0.1\n",
        "best, fit = solver.run(n_it=ITE)\n",
        "\n",
        "print(\"**Best solution found**\")\n",
        "print('Schwefel_221 f4')\n",
        "print(\"x\",best)\n",
        "print(\"Fitness =\",fit)"
      ],
      "execution_count": 21,
      "outputs": [
        {
          "output_type": "stream",
          "text": [
            "**Best solution found**\n",
            "Schwefel_221 f4\n",
            "x [-5.17386125e-27 -5.04027595e-27  2.51801552e-27  3.98467657e-27\n",
            "  8.66637196e-28 -4.24008614e-27 -1.06548781e-28 -2.95699895e-27\n",
            "  2.10235974e-27 -4.49562055e-27 -3.83298515e-27 -4.91758266e-27\n",
            " -2.28525303e-27  3.61090822e-27  5.22006253e-27 -9.68686683e-28\n",
            " -3.92737695e-27 -4.76840721e-27 -5.09755671e-27  2.44192009e-27\n",
            "  2.52051336e-27 -4.56954993e-27 -4.00675365e-27  5.13804118e-27\n",
            " -4.82090230e-27 -1.16660959e-27  5.11733431e-27  2.72265834e-27\n",
            " -7.06636968e-28  2.05834937e-28]\n",
            "Fitness = -5.220062529727467e-27\n"
          ],
          "name": "stdout"
        }
      ]
    },
    {
      "cell_type": "code",
      "metadata": {
        "id": "OMQq4BjBssgg",
        "colab_type": "code",
        "colab": {
          "base_uri": "https://localhost:8080/",
          "height": 212
        },
        "outputId": "3cee53c8-138f-45fb-c6be-9db0f5bb85df"
      },
      "source": [
        "\n",
        "ITE=2000 #10 # PONTOS quantas vezes vai alteral NPAR \n",
        "NPAR=100 # NUMBER OF PARTICLES\n",
        "dim=30\n",
        "\n",
        "fchoice='Schwefel_222'  #f7\n",
        "Fun=Function.Schwefel_222\n",
        "\n",
        "MIN,MAX=Go2MinMax.Intervalo(dim,fchoice)\n",
        "bounds = [(0,0)]*dim\n",
        "\n",
        "for i in range(dim):\n",
        "  bounds[i] = (MIN[i],MAX[i])\n",
        "\n",
        "solver = pyfde.JADE(Fun, n_dim=dim, n_pop=NPAR, limits=bounds, minimize=True)\n",
        "solver.p = 0.05\n",
        "solver.c = 0.1\n",
        "best, fit = solver.run(n_it=ITE)\n",
        "\n",
        "print(\"**Best solution found**\")\n",
        "print('Schwefel_222 f2')\n",
        "print(\"x\",best)\n",
        "print(\"Fitness =\",fit)"
      ],
      "execution_count": 20,
      "outputs": [
        {
          "output_type": "stream",
          "text": [
            "**Best solution found**\n",
            "Schwefel_222 f2\n",
            "x [ 1.63515796e-40  2.93254134e-40 -4.92864605e-41  2.82912038e-41\n",
            "  6.51009833e-42  3.28661290e-40  4.41439213e-41  8.16734309e-41\n",
            "  8.55568634e-41  5.13077423e-40  2.88942633e-40 -6.36135095e-41\n",
            "  2.08463338e-41 -3.03432137e-40  3.25499476e-40 -6.24522666e-43\n",
            " -3.15875085e-40 -5.17320281e-40 -4.54354381e-40  9.71270073e-41\n",
            "  4.90383127e-41  1.79280679e-40  3.28473608e-40 -3.25566771e-40\n",
            "  2.15424256e-40  7.83909944e-41 -4.86193705e-41  1.89672820e-40\n",
            "  2.69095081e-40  1.63376749e-40]\n",
            "Fitness = -5.8285446307111635e-39\n"
          ],
          "name": "stdout"
        }
      ]
    },
    {
      "cell_type": "code",
      "metadata": {
        "id": "zWpZlFYMoed2",
        "colab_type": "code",
        "colab": {}
      },
      "source": [
        "'''\n",
        "f1-SPHERE\n",
        "f2- SCHWEFEL 2.22\n",
        "f3-SCHWEFEL 1.2\n",
        "f4- SCHWEFEL 2.21\n",
        "f5-ROSENBROCK\n",
        "f6 STEP\n",
        "f7 NOISY QUARTIC\n",
        "f8 SCHWEFEL 2.26\n",
        "f9 RASTRIGIN\n",
        "f10 ACKLEY\n",
        "f11 GRIEWANK\n",
        "\n",
        "'''"
      ],
      "execution_count": null,
      "outputs": []
    },
    {
      "cell_type": "code",
      "metadata": {
        "id": "-hDFgnS1p8fk",
        "colab_type": "code",
        "colab": {}
      },
      "source": [
        "'''\n",
        "Jade results using code -same number particles  and iterations described in paper\n",
        "Sphere f1     Fitness = -6.027436865848836e-66\n",
        "Schwefel_222 f2  Fitness = -5.8285446307111635e-39\n",
        "Schwefel_221 f4  Fitness = -5.220062529727467e-27\n",
        "Rosenbrock f5 Fitness = -0.0\n",
        "Noisy_Quartic f7  Fitness = -0.0006232765099908118\n",
        "Rastrigin f9  Fitness = -0.0001224896147959953\n",
        "Ackley  f10   Fitness = -3.9968028886505635e-15\n",
        "Griewank f11  Fitness = -0.0\n",
        "'''\n"
      ],
      "execution_count": null,
      "outputs": []
    }
  ]
}