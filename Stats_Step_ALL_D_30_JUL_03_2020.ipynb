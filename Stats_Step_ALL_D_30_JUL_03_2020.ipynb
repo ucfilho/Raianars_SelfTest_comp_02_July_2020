{
  "nbformat": 4,
  "nbformat_minor": 0,
  "metadata": {
    "colab": {
      "name": "Stats_Step_ALL_D_30_JUL_03_2020.ipynb",
      "provenance": [],
      "collapsed_sections": [],
      "authorship_tag": "ABX9TyMNWt+UcNUV6Alm2wWLy95H",
      "include_colab_link": true
    },
    "kernelspec": {
      "name": "python3",
      "display_name": "Python 3"
    }
  },
  "cells": [
    {
      "cell_type": "markdown",
      "metadata": {
        "id": "view-in-github",
        "colab_type": "text"
      },
      "source": [
        "<a href=\"https://colab.research.google.com/github/ucfilho/Raianars_SelfTest_comp_02_July_2020/blob/master/Stats_Step_ALL_D_30_JUL_03_2020.ipynb\" target=\"_parent\"><img src=\"https://colab.research.google.com/assets/colab-badge.svg\" alt=\"Open In Colab\"/></a>"
      ]
    },
    {
      "cell_type": "code",
      "metadata": {
        "id": "MC26Bm1UyUR5",
        "colab_type": "code",
        "colab": {
          "base_uri": "https://localhost:8080/",
          "height": 110
        },
        "outputId": "cde74981-86c7-441e-dc38-2bd9754a2aba"
      },
      "source": [
        "!pip install pyade-python"
      ],
      "execution_count": null,
      "outputs": [
        {
          "output_type": "stream",
          "text": [
            "Collecting pyade-python\n",
            "  Downloading https://files.pythonhosted.org/packages/02/e7/aefff90c8de0ad3ff151d51507ec65a2988b7cce9126c342746f77615d9f/pyade_python-1.1-py3-none-any.whl\n",
            "Installing collected packages: pyade-python\n",
            "Successfully installed pyade-python-1.1\n"
          ],
          "name": "stdout"
        }
      ]
    },
    {
      "cell_type": "code",
      "metadata": {
        "id": "rRwqrtCmgzdZ",
        "colab_type": "code",
        "colab": {
          "base_uri": "https://localhost:8080/",
          "height": 237
        },
        "outputId": "441c6a22-dd56-48cc-caef-80ed29cdcbf8"
      },
      "source": [
        "!pip install PyFDE"
      ],
      "execution_count": null,
      "outputs": [
        {
          "output_type": "stream",
          "text": [
            "Collecting PyFDE\n",
            "\u001b[?25l  Downloading https://files.pythonhosted.org/packages/72/f9/87f7279554d2682e3827d39c3d3a565b2fd42f7114a779e34a601c6c5079/PyFDE-1.3.0.tar.gz (397kB)\n",
            "\r\u001b[K     |▉                               | 10kB 18.0MB/s eta 0:00:01\r\u001b[K     |█▋                              | 20kB 1.7MB/s eta 0:00:01\r\u001b[K     |██▌                             | 30kB 2.2MB/s eta 0:00:01\r\u001b[K     |███▎                            | 40kB 2.5MB/s eta 0:00:01\r\u001b[K     |████▏                           | 51kB 1.9MB/s eta 0:00:01\r\u001b[K     |█████                           | 61kB 2.2MB/s eta 0:00:01\r\u001b[K     |█████▊                          | 71kB 2.5MB/s eta 0:00:01\r\u001b[K     |██████▋                         | 81kB 2.7MB/s eta 0:00:01\r\u001b[K     |███████▍                        | 92kB 2.8MB/s eta 0:00:01\r\u001b[K     |████████▎                       | 102kB 2.7MB/s eta 0:00:01\r\u001b[K     |█████████                       | 112kB 2.7MB/s eta 0:00:01\r\u001b[K     |██████████                      | 122kB 2.7MB/s eta 0:00:01\r\u001b[K     |██████████▊                     | 133kB 2.7MB/s eta 0:00:01\r\u001b[K     |███████████▌                    | 143kB 2.7MB/s eta 0:00:01\r\u001b[K     |████████████▍                   | 153kB 2.7MB/s eta 0:00:01\r\u001b[K     |█████████████▏                  | 163kB 2.7MB/s eta 0:00:01\r\u001b[K     |██████████████                  | 174kB 2.7MB/s eta 0:00:01\r\u001b[K     |██████████████▉                 | 184kB 2.7MB/s eta 0:00:01\r\u001b[K     |███████████████▊                | 194kB 2.7MB/s eta 0:00:01\r\u001b[K     |████████████████▌               | 204kB 2.7MB/s eta 0:00:01\r\u001b[K     |█████████████████▎              | 215kB 2.7MB/s eta 0:00:01\r\u001b[K     |██████████████████▏             | 225kB 2.7MB/s eta 0:00:01\r\u001b[K     |███████████████████             | 235kB 2.7MB/s eta 0:00:01\r\u001b[K     |███████████████████▉            | 245kB 2.7MB/s eta 0:00:01\r\u001b[K     |████████████████████▋           | 256kB 2.7MB/s eta 0:00:01\r\u001b[K     |█████████████████████▌          | 266kB 2.7MB/s eta 0:00:01\r\u001b[K     |██████████████████████▎         | 276kB 2.7MB/s eta 0:00:01\r\u001b[K     |███████████████████████         | 286kB 2.7MB/s eta 0:00:01\r\u001b[K     |████████████████████████        | 296kB 2.7MB/s eta 0:00:01\r\u001b[K     |████████████████████████▊       | 307kB 2.7MB/s eta 0:00:01\r\u001b[K     |█████████████████████████▋      | 317kB 2.7MB/s eta 0:00:01\r\u001b[K     |██████████████████████████▍     | 327kB 2.7MB/s eta 0:00:01\r\u001b[K     |███████████████████████████▎    | 337kB 2.7MB/s eta 0:00:01\r\u001b[K     |████████████████████████████    | 348kB 2.7MB/s eta 0:00:01\r\u001b[K     |████████████████████████████▉   | 358kB 2.7MB/s eta 0:00:01\r\u001b[K     |█████████████████████████████▊  | 368kB 2.7MB/s eta 0:00:01\r\u001b[K     |██████████████████████████████▌ | 378kB 2.7MB/s eta 0:00:01\r\u001b[K     |███████████████████████████████▍| 389kB 2.7MB/s eta 0:00:01\r\u001b[K     |████████████████████████████████| 399kB 2.7MB/s \n",
            "\u001b[?25hRequirement already satisfied: numpy in /usr/local/lib/python3.6/dist-packages (from PyFDE) (1.18.5)\n",
            "Building wheels for collected packages: PyFDE\n",
            "  Building wheel for PyFDE (setup.py) ... \u001b[?25l\u001b[?25hdone\n",
            "  Created wheel for PyFDE: filename=PyFDE-1.3.0-cp36-cp36m-linux_x86_64.whl size=969291 sha256=d640b466f06128b8e8e4b556c4ada4ef08f67f3ee1b366fd0200e1d3941de332\n",
            "  Stored in directory: /root/.cache/pip/wheels/7d/42/ba/abf21db37934e576c74fc2c9504b5cd97eb6a99e3dec1743c0\n",
            "Successfully built PyFDE\n",
            "Installing collected packages: PyFDE\n",
            "Successfully installed PyFDE-1.3.0\n"
          ],
          "name": "stdout"
        }
      ]
    },
    {
      "cell_type": "code",
      "metadata": {
        "id": "anFukot-ypn6",
        "colab_type": "code",
        "colab": {}
      },
      "source": [
        "import pyade.ilshade \n",
        "import pyade.sade \n",
        "import pyade.jso\n",
        "import pyade.shade\n",
        "import pyade.jade \n",
        "import pyfde\n",
        "import numpy as np\n",
        "import pandas as pd\n",
        "import time"
      ],
      "execution_count": null,
      "outputs": []
    },
    {
      "cell_type": "code",
      "metadata": {
        "id": "6Oh714_-z1Ia",
        "colab_type": "code",
        "colab": {
          "base_uri": "https://localhost:8080/",
          "height": 145
        },
        "outputId": "5354399c-ec6e-452d-827d-5b9603de72c3"
      },
      "source": [
        "!git clone https://github.com/ucfilho/Raianars_July_2020 #clonar do Github\n",
        "%cd Raianars_July_2020"
      ],
      "execution_count": null,
      "outputs": [
        {
          "output_type": "stream",
          "text": [
            "Cloning into 'Raianars_July_2020'...\n",
            "remote: Enumerating objects: 97, done.\u001b[K\n",
            "remote: Counting objects: 100% (97/97), done.\u001b[K\n",
            "remote: Compressing objects: 100% (95/95), done.\u001b[K\n",
            "remote: Total 97 (delta 46), reused 0 (delta 0), pack-reused 0\u001b[K\n",
            "Unpacking objects: 100% (97/97), done.\n",
            "/content/Raianars_July_2020\n"
          ],
          "name": "stdout"
        }
      ]
    },
    {
      "cell_type": "code",
      "metadata": {
        "id": "LnzftXkky78A",
        "colab_type": "code",
        "colab": {}
      },
      "source": [
        "import Go2Ann\n",
        "import de_soma_Insight\n",
        "import de_bounds_matriz\n",
        "from AvaliaX import AvaliaX\n",
        "from GeraIndices import GeraIndices"
      ],
      "execution_count": null,
      "outputs": []
    },
    {
      "cell_type": "code",
      "metadata": {
        "id": "HNW92728z7fR",
        "colab_type": "code",
        "colab": {}
      },
      "source": [
        "import Function\n",
        "import Go2MinMax"
      ],
      "execution_count": null,
      "outputs": []
    },
    {
      "cell_type": "code",
      "metadata": {
        "id": "T_C-e7aH0CZH",
        "colab_type": "code",
        "colab": {}
      },
      "source": [
        "ITE=1000 #10 # PONTOS quantas vezes vai alteral NPAR \n",
        "NPAR=100 # NUMBER OF PARTICLES\n",
        "dim=30\n",
        "RUNS=50\n",
        "fchoice='Step'  #f2\n",
        "Fun=Function.Step\n",
        "\n",
        "MIN,MAX=Go2MinMax.Intervalo(dim,fchoice)\n",
        "bounds = [(0,0)]*dim\n",
        "\n",
        "for i in range(dim):\n",
        "  bounds[i] = (MIN[i],MAX[i])"
      ],
      "execution_count": null,
      "outputs": []
    },
    {
      "cell_type": "code",
      "metadata": {
        "id": "Nqv5qp9yzQEw",
        "colab_type": "code",
        "colab": {}
      },
      "source": [
        "############################### INPUT INFORMATION (FRANNK)\n",
        "Fc=0.1 # fator de correcao parametros da ANN\n",
        "its=1 #10 # quantas vezes vai usar o NPAR antes de alterar de novo\n",
        "mut=0.5\n",
        "crossp=0.5\n",
        "Fi=mut;CRi=crossp;# para impressão\n",
        "PAR=len(MAX) #NUM DE PARAMETROS A SER OTIMIZADOS"
      ],
      "execution_count": null,
      "outputs": []
    },
    {
      "cell_type": "code",
      "metadata": {
        "id": "WkbM98uny0QY",
        "colab_type": "code",
        "colab": {
          "base_uri": "https://localhost:8080/",
          "height": 308
        },
        "outputId": "bcb3dd66-4de8-4009-95b0-9e87c80c9aff"
      },
      "source": [
        "# IL-Shade\n",
        "\n",
        "BEST_AGENTS=[]\n",
        "start_time = time.time() \n",
        "for i in range(RUNS):\n",
        "  ANSWER_AGENTS=[]\n",
        "  algorithm = pyade.ilshade \n",
        "  params = algorithm.get_default_params(dim=dim) \n",
        "  params['bounds'] = np.array(bounds)\n",
        "  params['max_evals'] = ITE \n",
        "  params['func'] = Fun\n",
        "  params['max_evals'] = ITE\n",
        "  best, fit = algorithm.apply(**params)\n",
        "  for x in best:\n",
        "    ANSWER_AGENTS.append(x)\n",
        "  ANSWER_AGENTS.append(fit)\n",
        "  BEST_AGENTS.append(ANSWER_AGENTS)\n",
        "BEST_AGENTS=np.array(BEST_AGENTS)\n",
        "TIME = (time.time() - start_time)/RUNS\n",
        "BEST_AGENTS=np.array(BEST_AGENTS)\n",
        "BEST_AGENTS_ST= BEST_AGENTS[BEST_AGENTS[:,-1].argsort()]\n",
        "BEST=BEST_AGENTS_ST[0]\n",
        "WORSE=BEST_AGENTS_ST[-1]\n",
        "MEAN=np.mean(BEST_AGENTS,axis=0)\n",
        "MAXFO=BEST_AGENTS[:,-1].max()\n",
        "MINFO=BEST_AGENTS[:,-1].min()\n",
        "STD=BEST_AGENTS[:,-1].std()\n",
        "nome='IL-Shade_Fo-'+str(0)+'_CRo-'+str(0)\n",
        "print(nome,'NPAR',NPAR,'Iterações=',ITE,'Dim=',dim ,\"Min/Max=\",MIN[0],\"/\",MAX[0],'_',Fun.__name__)\n",
        "print( '\\n')\n",
        "print('MÉDIA: ',MEAN[-1])\n",
        "print('MIN __:',MINFO)\n",
        "print('MAX__: ',MAXFO)\n",
        "print('STD __:',STD)\n",
        "print(\"Tempo Médio= %.3f segundos ---\" % (TIME))\n",
        "print(RUNS,'Rodadas') \n",
        "print()\n",
        "print('BEST: ',BEST)"
      ],
      "execution_count": null,
      "outputs": [
        {
          "output_type": "stream",
          "text": [
            "IL-Shade_Fo-0_CRo-0 NPAR 100 Iterações= 1000 Dim= 30 Min/Max= -100 / 100 _ Step\n",
            "\n",
            "\n",
            "MÉDIA:  2.4439100722307097\n",
            "MIN __: 1.1120196006238754\n",
            "MAX__:  3.480360029205266\n",
            "STD __: 0.5096811324932498\n",
            "Tempo Médio= 0.091 segundos ---\n",
            "50 Rodadas\n",
            "\n",
            "BEST:  [-0.56700388 -0.27603739 -0.47263193 -0.3950293  -0.32620502 -0.97309181\n",
            " -0.86988822 -0.57279442 -0.34898709 -0.49532966 -0.27709325 -0.54531128\n",
            " -0.29464434 -0.53411599 -0.53162768 -0.37385658 -0.32291868 -0.51463205\n",
            " -0.98144119 -0.37572291 -0.48693024 -0.51386347 -0.59637802 -0.46599533\n",
            " -0.39809026 -0.39880496 -0.35632185 -0.41934562 -0.86183526 -0.71527154\n",
            "  1.1120196 ]\n"
          ],
          "name": "stdout"
        }
      ]
    },
    {
      "cell_type": "code",
      "metadata": {
        "id": "v4dbY4tSsFMb",
        "colab_type": "code",
        "colab": {
          "base_uri": "https://localhost:8080/",
          "height": 308
        },
        "outputId": "fea097d8-89d1-484d-9fa8-b27d864a9bc4"
      },
      "source": [
        "# Jso\n",
        "\n",
        "BEST_AGENTS=[]\n",
        "start_time = time.time() \n",
        "for i in range(RUNS):\n",
        "  ANSWER_AGENTS=[]\n",
        "  algorithm = pyade.jso\n",
        "  params = algorithm.get_default_params(dim=dim) \n",
        "  params['bounds'] = np.array(bounds)\n",
        "  params['max_evals'] = ITE \n",
        "  params['func'] = Fun\n",
        "  best, fit = algorithm.apply(**params)\n",
        "  for x in best:\n",
        "    ANSWER_AGENTS.append(x)\n",
        "  ANSWER_AGENTS.append(fit)\n",
        "  BEST_AGENTS.append(ANSWER_AGENTS)\n",
        "BEST_AGENTS=np.array(BEST_AGENTS)\n",
        "TIME = (time.time() - start_time)/RUNS\n",
        "BEST_AGENTS=np.array(BEST_AGENTS)\n",
        "BEST_AGENTS_ST= BEST_AGENTS[BEST_AGENTS[:,-1].argsort()]\n",
        "BEST=BEST_AGENTS_ST[0]\n",
        "WORSE=BEST_AGENTS_ST[-1]\n",
        "MEAN=np.mean(BEST_AGENTS,axis=0)\n",
        "MAXFO=BEST_AGENTS[:,-1].max()\n",
        "MINFO=BEST_AGENTS[:,-1].min()\n",
        "STD=BEST_AGENTS[:,-1].std()\n",
        "nome='Jso-'+str(0)+'_CRo-'+str(0)\n",
        "print(nome,'NPAR',NPAR,'Iterações=',ITE,'Dim=',dim ,\"Min/Max=\",MIN[0],\"/\",MAX[0],'_',Fun.__name__)\n",
        "print( '\\n')\n",
        "print('MÉDIA: ',MEAN[-1])\n",
        "print('MIN __:',MINFO)\n",
        "print('MAX__: ',MAXFO)\n",
        "print('STD __:',STD)\n",
        "print(\"Tempo Médio= %.3f segundos ---\" % (TIME))\n",
        "print(RUNS,'Rodadas') \n",
        "print()\n",
        "print('BEST: ',BEST)"
      ],
      "execution_count": null,
      "outputs": [
        {
          "output_type": "stream",
          "text": [
            "Jso-0_CRo-0 NPAR 100 Iterações= 1000 Dim= 30 Min/Max= -100 / 100 _ Step\n",
            "\n",
            "\n",
            "MÉDIA:  5.286436726239163\n",
            "MIN __: 3.1139986845970338\n",
            "MAX__:  8.782942477322631\n",
            "STD __: 1.1719040881445\n",
            "Tempo Médio= 0.051 segundos ---\n",
            "50 Rodadas\n",
            "\n",
            "BEST:  [-0.41926455 -0.02743589 -0.4761577  -0.24980616  0.11436554 -0.49044704\n",
            "  0.05698507 -0.36943122 -0.869556   -0.49365696 -0.4322614  -0.36591637\n",
            " -0.35252718 -0.50745727  0.27591304 -0.58502341 -0.33507251 -0.61213551\n",
            " -0.55559846 -0.67811555 -0.54095968 -0.18467394 -0.09693162 -0.18239542\n",
            " -0.0376294  -0.06238761  0.0349654  -0.74449928 -0.15040079 -0.38418448\n",
            "  3.11399868]\n"
          ],
          "name": "stdout"
        }
      ]
    },
    {
      "cell_type": "code",
      "metadata": {
        "id": "ZkV_dpDa14C8",
        "colab_type": "code",
        "colab": {
          "base_uri": "https://localhost:8080/",
          "height": 345
        },
        "outputId": "515fe7e0-f88b-4ae6-dbbb-59cdedcf61b7"
      },
      "source": [
        "# Sade\n",
        "\n",
        "BEST_AGENTS=[]\n",
        "start_time = time.time() \n",
        "for i in range(RUNS):\n",
        "  ANSWER_AGENTS=[]\n",
        "  algorithm = pyade.sade\n",
        "  params = algorithm.get_default_params(dim=dim) \n",
        "  params['bounds'] = np.array(bounds)\n",
        "  params['max_evals'] = ITE \n",
        "  params['func'] = Fun\n",
        "  best, fit = algorithm.apply(**params)\n",
        "  for x in best:\n",
        "    ANSWER_AGENTS.append(x)\n",
        "  ANSWER_AGENTS.append(fit)\n",
        "  BEST_AGENTS.append(ANSWER_AGENTS)\n",
        "BEST_AGENTS=np.array(BEST_AGENTS)\n",
        "TIME = (time.time() - start_time)/RUNS\n",
        "BEST_AGENTS=np.array(BEST_AGENTS)\n",
        "BEST_AGENTS_ST= BEST_AGENTS[BEST_AGENTS[:,-1].argsort()]\n",
        "BEST=BEST_AGENTS_ST[0]\n",
        "WORSE=BEST_AGENTS_ST[-1]\n",
        "MEAN=np.mean(BEST_AGENTS,axis=0)\n",
        "MAXFO=BEST_AGENTS[:,-1].max()\n",
        "MINFO=BEST_AGENTS[:,-1].min()\n",
        "STD=BEST_AGENTS[:,-1].std()\n",
        "nome='Sade_Fo-'+str(0)+'_CRo-'+str(0)\n",
        "print(nome,'NPAR',NPAR,'Iterações=',ITE,'Dim=',dim ,\"Min/Max=\",MIN[0],\"/\",MAX[0],'_',Fun.__name__)\n",
        "print( '\\n')\n",
        "print('MÉDIA: ',MEAN[-1])\n",
        "print('MIN __:',MINFO)\n",
        "print('MAX__: ',MAXFO)\n",
        "print('STD __:',STD)\n",
        "print(\"Tempo Médio= %.3f segundos ---\" % (TIME))\n",
        "print(RUNS,'Rodadas') \n",
        "print()\n",
        "print('BEST: ',BEST)"
      ],
      "execution_count": null,
      "outputs": [
        {
          "output_type": "stream",
          "text": [
            "Sade_Fo-0_CRo-0 NPAR 100 Iterações= 1000 Dim= 30 Min/Max= -100 / 100 _ Step\n",
            "\n",
            "\n",
            "MÉDIA:  12.650740172184134\n",
            "MIN __: 9.497416831779478\n",
            "MAX__:  15.031596623351817\n",
            "STD __: 1.3068167007094558\n",
            "Tempo Médio= 0.051 segundos ---\n",
            "50 Rodadas\n",
            "\n",
            "BEST:  [-7.38147497e-02 -8.76996457e-01 -3.97790999e-01 -8.69192994e-02\n",
            " -4.16649532e-01 -4.47489371e-01  5.18134619e-01 -6.30735421e-02\n",
            "  6.95532336e-02 -1.30592487e+00  8.15875076e-02  2.62378610e-01\n",
            " -6.01351500e-01 -6.11390363e-01  6.16283855e-01  2.30252138e-01\n",
            " -7.87319760e-01 -5.10883579e-01 -1.47606972e+00 -5.16778245e-01\n",
            "  2.88970669e-01 -3.43786539e-01 -4.56576264e-01 -9.89368690e-01\n",
            " -2.91727149e-01 -1.50248332e-01 -4.53098087e-01  7.96512019e-01\n",
            " -3.23391511e-01  5.97538306e-03  9.49741683e+00]\n"
          ],
          "name": "stdout"
        }
      ]
    },
    {
      "cell_type": "code",
      "metadata": {
        "id": "q77YsFa82zFU",
        "colab_type": "code",
        "colab": {
          "base_uri": "https://localhost:8080/",
          "height": 254
        },
        "outputId": "6f802db5-4db7-4d92-e4de-8054f9829eff"
      },
      "source": [
        "# JADE\n",
        "algorithm = pyade.jso\n",
        "BEST_AGENTS=[]\n",
        "for i in range(RUNS):\n",
        "  ANSWER_AGENTS=[]\n",
        "  solver = pyfde.JADE(Fun, n_dim=dim, n_pop=NPAR, limits=bounds, minimize=True)\n",
        "  solver.p = 0.05\n",
        "  solver.c = 0.1\n",
        "  solver.cr = 0.5\n",
        "  solver.f = 0.5\n",
        "  best, fit = solver.run(n_it=ITE)\n",
        "  for x in best:\n",
        "    ANSWER_AGENTS.append(x)\n",
        "  ANSWER_AGENTS.append(fit)\n",
        "  BEST_AGENTS.append(ANSWER_AGENTS)\n",
        "BEST_AGENTS=np.array(BEST_AGENTS)\n",
        "TIME = (time.time() - start_time)/RUNS\n",
        "BEST_AGENTS=np.array(BEST_AGENTS)\n",
        "BEST_AGENTS_ST= BEST_AGENTS[BEST_AGENTS[:,-1].argsort()]\n",
        "BEST=BEST_AGENTS_ST[0]\n",
        "WORSE=BEST_AGENTS_ST[-1]\n",
        "MEAN=np.mean(BEST_AGENTS,axis=0)\n",
        "MAXFO=BEST_AGENTS[:,-1].max()\n",
        "MINFO=BEST_AGENTS[:,-1].min()\n",
        "STD=BEST_AGENTS[:,-1].std()\n",
        "nome='JADE_Fo-'+str(0)+'_CRo-'+str(0)\n",
        "print(nome,'NPAR',NPAR,'Iterações=',ITE,'Dim=',dim ,\"Min/Max=\",MIN[0],\"/\",MAX[0],'_',Fun.__name__)\n",
        "print( '\\n')\n",
        "print('MÉDIA: ',MEAN[-1])\n",
        "print('MIN __:',MINFO)\n",
        "print('MAX__: ',MAXFO)\n",
        "print('STD __:',STD)\n",
        "print(\"Tempo Médio= %.3f segundos ---\" % (TIME))\n",
        "print(RUNS,'Rodadas') \n",
        "print()\n",
        "print('BEST: ',BEST)"
      ],
      "execution_count": null,
      "outputs": [
        {
          "output_type": "stream",
          "text": [
            "JADE_Fo-0_CRo-0 NPAR 100 Iterações= 1000 Dim= 30 Min/Max= -100 / 100 _ Step\n",
            "\n",
            "\n",
            "MÉDIA:  0.0\n",
            "MIN __: -0.0\n",
            "MAX__:  -0.0\n",
            "STD __: 0.0\n",
            "Tempo Médio= 1.122 segundos ---\n",
            "50 Rodadas\n",
            "\n",
            "BEST:  [-0.5 -0.5 -0.5 -0.5 -0.5 -0.5 -0.5 -0.5 -0.5 -0.5 -0.5 -0.5 -0.5 -0.5\n",
            " -0.5 -0.5 -0.5 -0.5 -0.5 -0.5 -0.5 -0.5 -0.5 -0.5 -0.5 -0.5 -0.5 -0.5\n",
            " -0.5 -0.5 -0. ]\n"
          ],
          "name": "stdout"
        }
      ]
    },
    {
      "cell_type": "code",
      "metadata": {
        "id": "gXdUgSStzppX",
        "colab_type": "code",
        "colab": {}
      },
      "source": [
        "# FRANNK START HERE !!!!!"
      ],
      "execution_count": null,
      "outputs": []
    },
    {
      "cell_type": "code",
      "metadata": {
        "id": "raWOfeJBztuj",
        "colab_type": "code",
        "colab": {
          "base_uri": "https://localhost:8080/",
          "height": 145
        },
        "outputId": "6db6a705-f1e4-46e9-9651-bd893b4c8fcf"
      },
      "source": [
        "!git clone https://github.com/ucfilho/ANN_read_matrix #clonar do Github\n",
        "%cd ANN_read_matrix"
      ],
      "execution_count": null,
      "outputs": [
        {
          "output_type": "stream",
          "text": [
            "Cloning into 'ANN_read_matrix'...\n",
            "remote: Enumerating objects: 20, done.\u001b[K\n",
            "remote: Counting objects: 100% (20/20), done.\u001b[K\n",
            "remote: Compressing objects: 100% (18/18), done.\u001b[K\n",
            "remote: Total 20 (delta 5), reused 0 (delta 0), pack-reused 0\u001b[K\n",
            "Unpacking objects: 100% (20/20), done.\n",
            "/content/Raianars_July_2020/ANN_read_matrix\n"
          ],
          "name": "stdout"
        }
      ]
    },
    {
      "cell_type": "code",
      "metadata": {
        "id": "N2lyPfivzwGv",
        "colab_type": "code",
        "colab": {
          "base_uri": "https://localhost:8080/",
          "height": 1000
        },
        "outputId": "4197ca74-a0d5-409c-d020-5aebc6b1033f"
      },
      "source": [
        "ANN_F=pd.read_csv('ANN_INSIGHT_Valor_F.csv')\n",
        "ANN_CR=pd.read_csv('ANN_INSIGHT_CR.csv')\n",
        "syn0_F,syn1_F,X_max_F,X_min_F=Go2Ann.GetMatriz(ANN_F)\n",
        "syn0_CR,syn1_CR,X_max_CR,X_min_CR=Go2Ann.GetMatriz(ANN_CR)\n",
        "fields = ['DI RELATIVO','FRAC Its','Fo','CRo']\n",
        "\n",
        "#TOTAL=7*dim*its*ITE\n",
        "TOTAL=10*dim*its*ITE\n",
        "TOTAL=int(TOTAL/2)   # CONFERIR SE ESTE EH O MELHOR LUGAR\n",
        "\n",
        "dimensions=len(MAX)\n",
        "start_time = time.time() #INICIALIZA CONTAGEM DO TEMPO\n",
        "\n",
        "MAX_P=np.zeros(ITE) # ATENCAO para variar F e Cr MAX_P passa a ser 3 vezes maior\n",
        "MIN_P=np.zeros(ITE) # ATENCAO para variar F e Cr MIN_P passa a ser 3 vezes maior\n",
        "\n",
        "for i in range(dim):\n",
        "  MAX_P[i]=MAX[i] \n",
        "  MIN_P[i]=MIN[i]\n",
        "\n",
        "rodadas=1\n",
        "for i in range(rodadas):\n",
        "  SOMA=0\n",
        "  pop = np.random.rand(NPAR, dimensions)\n",
        "  diff=np.zeros(PAR)\n",
        "  for ii in range(PAR):\n",
        "    diff[ii] = MAX[ii]-MIN[ii]\n",
        "  X = MIN + pop * diff\n",
        "    \n",
        "  PONTOS=ITE # DIVISOES DA POPULACAO\n",
        "start_time = time.time()\n",
        "BEST_AGENTS=[]\n",
        "MAT_stat=[]\n",
        "for i in range(RUNS):\n",
        "    MAT=[] \n",
        "    mut=Fi\n",
        "    crossp=CRi\n",
        "    SOMA=0\n",
        "    SOMAf=0\n",
        "    start_ite = time.time()\n",
        "    delta_time=(start_ite-start_time)/60\n",
        "    print('ite=',i,'total=50','time=',delta_time)\n",
        "    pop = np.random.rand(NPAR, dim)\n",
        "    diff=np.zeros(PAR)\n",
        "    for ii in range(PAR):\n",
        "      diff[ii] = MAX[ii]-MIN[ii]\n",
        "    X = MIN + pop * diff\n",
        "    Xf = MIN + pop * diff\n",
        "    \n",
        "    DIo=1e99\n",
        "  \n",
        "    CRo=crossp;Fo=mut;\n",
        "    Fitness = np.asarray([Fun(ind) for ind in X])\n",
        "\n",
        "    XY,BEST_XY,BESTo,FOBESTo=AvaliaX(X,Fitness)\n",
        "    nrow,ncol=X.shape\n",
        "\n",
        "    QUANT=17;MAT_INDo=np.zeros((1,QUANT)); # quantos indices esta fazendo\n",
        "    MAT_INDo[0,5]=nrow  # VALOR NP\n",
        "    MAT_INDo[0,6]=Fo    # VALOR Fo   \n",
        "    MAT_INDo[0,7]=CRo   # VALOR CRo\n",
        "  \n",
        "    MAT_INDo=GeraIndices(X,BESTo,FOBESTo,DIo,MAT_INDo,SOMA,TOTAL,syn0_F,\n",
        "                        syn1_F,X_max_F,X_min_F,syn0_CR,syn1_CR,X_max_CR,\n",
        "                        X_min_CR,Fc,fields,Fun)\n",
        "  \n",
        "    DIo=np.copy(MAT_INDo[0,0])\n",
        "    MAT_INDo[0,15]=Fo    # VALOR Fo   \n",
        "    MAT_INDo[0,16]=CRo   # VALOR CRo\n",
        "    #ind_crossp=ITE-1\n",
        "\n",
        "    \n",
        "    for k in range(ITE):\n",
        "      X,BEST,FOBEST,XY,BEST_XY,SOMA= de_soma_Insight.de(MAX,MIN, mut, crossp,NPAR,its,Fun,X,SOMA,TOTAL)\n",
        "      #Xf,BESTf,FOBESTf,XYf,BEST_XYf,SOMAf= de_soma_Insight.de(MAX,MIN, Fi, CRi, NPAR,its,Fun,Xf,SOMAf,TOTAL)\n",
        "\n",
        "      \n",
        "      MAT_IND=GeraIndices(X,BESTo,FOBESTo,DIo,MAT_INDo,SOMA,TOTAL,syn0_F,\n",
        "                          syn1_F,X_max_F,X_min_F,syn0_CR,syn1_CR,X_max_CR,\n",
        "                          X_min_CR,Fc,fields,Fun)\n",
        "    \n",
        "      BESTo=np.copy(BEST);FOBESTo=np.copy(FOBEST);\n",
        "      MAT.append(MAT_IND.ravel())\n",
        "    \n",
        "      MAT_INDo[0,6]=MAT_IND[0,15]   # VALOR Fo   \n",
        "      MAT_INDo[0,7]=MAT_IND[0,16]   # VALOR CRo\n",
        "      mut=MAT_IND[0,15]\n",
        "      crossp=MAT_IND[0,16]\n",
        "\n",
        "      Fitness = np.asarray([Fun(ind) for ind in X])\n",
        "      #Fitnessf = np.asarray([Fun(ind) for ind in Xf])\n",
        "      Maior=np.argmax(Fitness)\n",
        "      #Maiorf=np.argmax(Fitnessf)\n",
        "      Menor=np.argmin(Fitness)\n",
        "      #Menorf=np.argmin(Fitnessf)\n",
        "\n",
        "      #X[Maior,:]=np.copy(Xf[Menorf,:])\n",
        "      #Xf[Maiorf,:]=np.copy(X[Menor,:])\n",
        "      \n",
        "    BEST_AGENTS.append(BEST_XY)\n",
        "    MAT_stat.append(MAT)\n",
        "    #print(\"GlobalParam e Solucao:\", BEST,\"Funcao=\",FOBEST)\n",
        "    \n",
        "############################## Cálculo dos Parâmetros de Avaliação   \n",
        "TIME = (time.time() - start_time)/RUNS\n",
        "BEST_AGENTS=np.array(BEST_AGENTS)\n",
        "BEST_AGENTS_ST= BEST_AGENTS[BEST_AGENTS[:,-1].argsort()]\n",
        "BEST=BEST_AGENTS_ST[0]\n",
        "WORSE=BEST_AGENTS_ST[-1]\n",
        "MEAN=np.mean(BEST_AGENTS,axis=0)\n",
        "MAXFO=BEST_AGENTS[:,-1].max()\n",
        "MINFO=BEST_AGENTS[:,-1].min()\n",
        "STD=BEST_AGENTS[:,-1].std()\n",
        "\n",
        "nome='_ANN_Div3x4_Fo-'+str(Fi)+'_CRo-'+str(CRi)+'_D-'+str(dim)+'_Interv-'+str(ITE)\n",
        "print('DE_POP_VAR_F_CR','TOTAL=',TOTAL,'Iterações=',ITE*its,'Dim=', PAR,\"Min/Max=\",MIN[0],\"/\",MAX[0],'_',Fun.__name__)\n",
        "print(nome, '\\n')\n",
        "print('MÉDIA: ',MEAN[-1])\n",
        "print('MIN __:',MINFO)\n",
        "print('MAX__: ',MAXFO)\n",
        "print('STD __:',STD)\n",
        "print(\"Tempo Médio= %.3f segundos ---\" % (TIME))\n",
        "print(RUNS,'Rodadas') \n",
        "print()\n",
        "print('BEST: ',BEST)"
      ],
      "execution_count": null,
      "outputs": [
        {
          "output_type": "stream",
          "text": [
            "ite= 0 total=50 time= 8.09033711751302e-06\n",
            "ite= 1 total=50 time= 1.0335516611735025\n",
            "ite= 2 total=50 time= 2.0663421869277956\n",
            "ite= 3 total=50 time= 3.0896121581395466\n",
            "ite= 4 total=50 time= 4.114530193805694\n",
            "ite= 5 total=50 time= 5.151422794659933\n",
            "ite= 6 total=50 time= 6.185955818494161\n",
            "ite= 7 total=50 time= 7.224257111549377\n",
            "ite= 8 total=50 time= 8.277220439910888\n",
            "ite= 9 total=50 time= 9.323284447193146\n",
            "ite= 10 total=50 time= 10.422191298007965\n",
            "ite= 11 total=50 time= 11.444336112340292\n",
            "ite= 12 total=50 time= 12.483929868539175\n",
            "ite= 13 total=50 time= 13.521857301394144\n",
            "ite= 14 total=50 time= 14.55564750432968\n",
            "ite= 15 total=50 time= 15.59257994890213\n",
            "ite= 16 total=50 time= 16.6339941740036\n",
            "ite= 17 total=50 time= 17.668872781594594\n",
            "ite= 18 total=50 time= 18.691408336162567\n",
            "ite= 19 total=50 time= 19.724404354890186\n",
            "ite= 20 total=50 time= 20.84006634155909\n",
            "ite= 21 total=50 time= 21.874220232168835\n",
            "ite= 22 total=50 time= 22.91469318072001\n",
            "ite= 23 total=50 time= 23.950887775421144\n",
            "ite= 24 total=50 time= 24.995679450035095\n",
            "ite= 25 total=50 time= 26.02489231824875\n",
            "ite= 26 total=50 time= 27.059641587734223\n",
            "ite= 27 total=50 time= 28.083166114489238\n",
            "ite= 28 total=50 time= 29.11979410648346\n",
            "ite= 29 total=50 time= 30.22174126704534\n",
            "ite= 30 total=50 time= 31.252802654107413\n",
            "ite= 31 total=50 time= 32.29085105260213\n",
            "ite= 32 total=50 time= 33.331078350543976\n",
            "ite= 33 total=50 time= 34.360483690102896\n",
            "ite= 34 total=50 time= 35.400569740931196\n",
            "ite= 35 total=50 time= 36.440684243043265\n",
            "ite= 36 total=50 time= 37.487030013402304\n",
            "ite= 37 total=50 time= 38.52719614108403\n",
            "ite= 38 total=50 time= 39.56098215977351\n",
            "ite= 39 total=50 time= 40.67804454565048\n",
            "ite= 40 total=50 time= 41.715733702977495\n",
            "ite= 41 total=50 time= 42.743635125954945\n",
            "ite= 42 total=50 time= 43.785056829452515\n",
            "ite= 43 total=50 time= 44.828724936644235\n",
            "ite= 44 total=50 time= 45.87156904935837\n",
            "ite= 45 total=50 time= 46.914428162574765\n",
            "ite= 46 total=50 time= 47.95770532290141\n",
            "ite= 47 total=50 time= 49.00385748545329\n",
            "ite= 48 total=50 time= 50.03250967264175\n",
            "ite= 49 total=50 time= 51.15958555539449\n",
            "DE_POP_VAR_F_CR TOTAL= 150000 Iterações= 1000 Dim= 30 Min/Max= -100 / 100 _ Step\n",
            "_ANN_Div3x4_Fo-0.5_CRo-0.5_D-30_Interv-1000 \n",
            "\n",
            "MÉDIA:  1.1287981301160106e-14\n",
            "MIN __: 2.3213527451539715e-16\n",
            "MAX__:  2.902229570975108e-14\n",
            "STD __: 6.911706417568469e-15\n",
            "Tempo Médio= 62.623 segundos ---\n",
            "50 Rodadas\n",
            "\n",
            "BEST:  [-5.00000003e-01 -5.00000002e-01 -5.00000001e-01 -4.99999998e-01\n",
            " -4.99999994e-01 -4.99999999e-01 -4.99999999e-01 -4.99999999e-01\n",
            " -5.00000002e-01 -4.99999995e-01 -4.99999997e-01 -4.99999999e-01\n",
            " -5.00000001e-01 -5.00000000e-01 -5.00000000e-01 -5.00000001e-01\n",
            " -5.00000000e-01 -5.00000001e-01 -5.00000000e-01 -5.00000003e-01\n",
            " -5.00000003e-01 -4.99999994e-01 -4.99999999e-01 -5.00000004e-01\n",
            " -4.99999998e-01 -4.99999999e-01 -5.00000005e-01 -5.00000000e-01\n",
            " -5.00000006e-01 -5.00000001e-01  2.32135275e-16]\n"
          ],
          "name": "stdout"
        }
      ]
    }
  ]
}