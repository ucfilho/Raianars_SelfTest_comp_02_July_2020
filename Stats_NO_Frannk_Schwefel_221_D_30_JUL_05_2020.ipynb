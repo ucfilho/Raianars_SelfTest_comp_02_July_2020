{
  "nbformat": 4,
  "nbformat_minor": 0,
  "metadata": {
    "colab": {
      "name": "Stats_NO_Frannk_Schwefel_221_D_30_JUL_05_2020.ipynb",
      "provenance": [],
      "collapsed_sections": [],
      "authorship_tag": "ABX9TyMvYTZz3Ts9LMzN0eJPIevY",
      "include_colab_link": true
    },
    "kernelspec": {
      "name": "python3",
      "display_name": "Python 3"
    }
  },
  "cells": [
    {
      "cell_type": "markdown",
      "metadata": {
        "id": "view-in-github",
        "colab_type": "text"
      },
      "source": [
        "<a href=\"https://colab.research.google.com/github/ucfilho/Raianars_SelfTest_comp_02_July_2020/blob/master/Stats_NO_Frannk_Schwefel_221_D_30_JUL_05_2020.ipynb\" target=\"_parent\"><img src=\"https://colab.research.google.com/assets/colab-badge.svg\" alt=\"Open In Colab\"/></a>"
      ]
    },
    {
      "cell_type": "code",
      "metadata": {
        "id": "MC26Bm1UyUR5",
        "colab_type": "code",
        "colab": {
          "base_uri": "https://localhost:8080/",
          "height": 110
        },
        "outputId": "3421c17d-29cf-467f-b123-aa516c9373db"
      },
      "source": [
        "!pip install pyade-python"
      ],
      "execution_count": 1,
      "outputs": [
        {
          "output_type": "stream",
          "text": [
            "Collecting pyade-python\n",
            "  Downloading https://files.pythonhosted.org/packages/02/e7/aefff90c8de0ad3ff151d51507ec65a2988b7cce9126c342746f77615d9f/pyade_python-1.1-py3-none-any.whl\n",
            "Installing collected packages: pyade-python\n",
            "Successfully installed pyade-python-1.1\n"
          ],
          "name": "stdout"
        }
      ]
    },
    {
      "cell_type": "code",
      "metadata": {
        "id": "rRwqrtCmgzdZ",
        "colab_type": "code",
        "colab": {
          "base_uri": "https://localhost:8080/",
          "height": 237
        },
        "outputId": "ae61b6a8-e0b1-4ccb-d11d-659156fe1125"
      },
      "source": [
        "!pip install PyFDE"
      ],
      "execution_count": 2,
      "outputs": [
        {
          "output_type": "stream",
          "text": [
            "Collecting PyFDE\n",
            "\u001b[?25l  Downloading https://files.pythonhosted.org/packages/72/f9/87f7279554d2682e3827d39c3d3a565b2fd42f7114a779e34a601c6c5079/PyFDE-1.3.0.tar.gz (397kB)\n",
            "\r\u001b[K     |▉                               | 10kB 18.1MB/s eta 0:00:01\r\u001b[K     |█▋                              | 20kB 7.0MB/s eta 0:00:01\r\u001b[K     |██▌                             | 30kB 8.1MB/s eta 0:00:01\r\u001b[K     |███▎                            | 40kB 8.9MB/s eta 0:00:01\r\u001b[K     |████▏                           | 51kB 7.1MB/s eta 0:00:01\r\u001b[K     |█████                           | 61kB 7.5MB/s eta 0:00:01\r\u001b[K     |█████▊                          | 71kB 7.9MB/s eta 0:00:01\r\u001b[K     |██████▋                         | 81kB 8.7MB/s eta 0:00:01\r\u001b[K     |███████▍                        | 92kB 8.0MB/s eta 0:00:01\r\u001b[K     |████████▎                       | 102kB 8.2MB/s eta 0:00:01\r\u001b[K     |█████████                       | 112kB 8.2MB/s eta 0:00:01\r\u001b[K     |██████████                      | 122kB 8.2MB/s eta 0:00:01\r\u001b[K     |██████████▊                     | 133kB 8.2MB/s eta 0:00:01\r\u001b[K     |███████████▌                    | 143kB 8.2MB/s eta 0:00:01\r\u001b[K     |████████████▍                   | 153kB 8.2MB/s eta 0:00:01\r\u001b[K     |█████████████▏                  | 163kB 8.2MB/s eta 0:00:01\r\u001b[K     |██████████████                  | 174kB 8.2MB/s eta 0:00:01\r\u001b[K     |██████████████▉                 | 184kB 8.2MB/s eta 0:00:01\r\u001b[K     |███████████████▊                | 194kB 8.2MB/s eta 0:00:01\r\u001b[K     |████████████████▌               | 204kB 8.2MB/s eta 0:00:01\r\u001b[K     |█████████████████▎              | 215kB 8.2MB/s eta 0:00:01\r\u001b[K     |██████████████████▏             | 225kB 8.2MB/s eta 0:00:01\r\u001b[K     |███████████████████             | 235kB 8.2MB/s eta 0:00:01\r\u001b[K     |███████████████████▉            | 245kB 8.2MB/s eta 0:00:01\r\u001b[K     |████████████████████▋           | 256kB 8.2MB/s eta 0:00:01\r\u001b[K     |█████████████████████▌          | 266kB 8.2MB/s eta 0:00:01\r\u001b[K     |██████████████████████▎         | 276kB 8.2MB/s eta 0:00:01\r\u001b[K     |███████████████████████         | 286kB 8.2MB/s eta 0:00:01\r\u001b[K     |████████████████████████        | 296kB 8.2MB/s eta 0:00:01\r\u001b[K     |████████████████████████▊       | 307kB 8.2MB/s eta 0:00:01\r\u001b[K     |█████████████████████████▋      | 317kB 8.2MB/s eta 0:00:01\r\u001b[K     |██████████████████████████▍     | 327kB 8.2MB/s eta 0:00:01\r\u001b[K     |███████████████████████████▎    | 337kB 8.2MB/s eta 0:00:01\r\u001b[K     |████████████████████████████    | 348kB 8.2MB/s eta 0:00:01\r\u001b[K     |████████████████████████████▉   | 358kB 8.2MB/s eta 0:00:01\r\u001b[K     |█████████████████████████████▊  | 368kB 8.2MB/s eta 0:00:01\r\u001b[K     |██████████████████████████████▌ | 378kB 8.2MB/s eta 0:00:01\r\u001b[K     |███████████████████████████████▍| 389kB 8.2MB/s eta 0:00:01\r\u001b[K     |████████████████████████████████| 399kB 8.2MB/s \n",
            "\u001b[?25hRequirement already satisfied: numpy in /usr/local/lib/python3.6/dist-packages (from PyFDE) (1.18.5)\n",
            "Building wheels for collected packages: PyFDE\n",
            "  Building wheel for PyFDE (setup.py) ... \u001b[?25l\u001b[?25hdone\n",
            "  Created wheel for PyFDE: filename=PyFDE-1.3.0-cp36-cp36m-linux_x86_64.whl size=969275 sha256=9295353d24a26ba44c2b44840607607a8475591e8a5e225975787bff9d3839c8\n",
            "  Stored in directory: /root/.cache/pip/wheels/7d/42/ba/abf21db37934e576c74fc2c9504b5cd97eb6a99e3dec1743c0\n",
            "Successfully built PyFDE\n",
            "Installing collected packages: PyFDE\n",
            "Successfully installed PyFDE-1.3.0\n"
          ],
          "name": "stdout"
        }
      ]
    },
    {
      "cell_type": "code",
      "metadata": {
        "id": "anFukot-ypn6",
        "colab_type": "code",
        "colab": {}
      },
      "source": [
        "import pyade.ilshade \n",
        "import pyade.sade \n",
        "import pyade.jso\n",
        "import pyade.shade\n",
        "import pyade.jade \n",
        "import pyfde\n",
        "import numpy as np\n",
        "import pandas as pd\n",
        "import time"
      ],
      "execution_count": 3,
      "outputs": []
    },
    {
      "cell_type": "code",
      "metadata": {
        "id": "6Oh714_-z1Ia",
        "colab_type": "code",
        "colab": {
          "base_uri": "https://localhost:8080/",
          "height": 163
        },
        "outputId": "9b0eb9c5-ed78-4560-b7f8-589b3afa88d8"
      },
      "source": [
        "!git clone https://github.com/ucfilho/Raianars_July_2020 #clonar do Github\n",
        "%cd Raianars_July_2020"
      ],
      "execution_count": 4,
      "outputs": [
        {
          "output_type": "stream",
          "text": [
            "Cloning into 'Raianars_July_2020'...\n",
            "remote: Enumerating objects: 3, done.\u001b[K\n",
            "remote: Counting objects: 100% (3/3), done.\u001b[K\n",
            "remote: Compressing objects: 100% (3/3), done.\u001b[K\n",
            "remote: Total 126 (delta 0), reused 0 (delta 0), pack-reused 123\u001b[K\n",
            "Receiving objects: 100% (126/126), 198.23 KiB | 990.00 KiB/s, done.\n",
            "Resolving deltas: 100% (62/62), done.\n",
            "/content/Raianars_July_2020\n"
          ],
          "name": "stdout"
        }
      ]
    },
    {
      "cell_type": "code",
      "metadata": {
        "id": "LnzftXkky78A",
        "colab_type": "code",
        "colab": {}
      },
      "source": [
        "import Go2Ann\n",
        "import de_soma_Insight\n",
        "import de_bounds_matriz\n",
        "from AvaliaX import AvaliaX\n",
        "from GeraIndices import GeraIndices"
      ],
      "execution_count": 5,
      "outputs": []
    },
    {
      "cell_type": "code",
      "metadata": {
        "id": "HNW92728z7fR",
        "colab_type": "code",
        "colab": {}
      },
      "source": [
        "import Function\n",
        "import Go2MinMax"
      ],
      "execution_count": 6,
      "outputs": []
    },
    {
      "cell_type": "code",
      "metadata": {
        "id": "T_C-e7aH0CZH",
        "colab_type": "code",
        "colab": {}
      },
      "source": [
        "ITE=5000 #10 # PONTOS quantas vezes vai alteral NPAR \n",
        "NPAR=100 # NUMBER OF PARTICLES\n",
        "dim=30\n",
        "RUNS=50\n",
        "fchoice='Schwefel_221'  \n",
        "Fun=Function.Schwefel_221\n",
        "\n",
        "MIN,MAX=Go2MinMax.Intervalo(dim,fchoice)\n",
        "bounds = [(0,0)]*dim\n",
        "\n",
        "for i in range(dim):\n",
        "  bounds[i] = (MIN[i],MAX[i])"
      ],
      "execution_count": 7,
      "outputs": []
    },
    {
      "cell_type": "code",
      "metadata": {
        "id": "Nqv5qp9yzQEw",
        "colab_type": "code",
        "colab": {}
      },
      "source": [
        "############################### INPUT INFORMATION (FRANNK)\n",
        "Fc=0.1 # fator de correcao parametros da ANN\n",
        "its=1 #10 # quantas vezes vai usar o NPAR antes de alterar de novo\n",
        "mut=0.5\n",
        "crossp=0.5\n",
        "Fi=mut;CRi=crossp;# para impressão\n",
        "PAR=len(MAX) #NUM DE PARAMETROS A SER OTIMIZADOS"
      ],
      "execution_count": 8,
      "outputs": []
    },
    {
      "cell_type": "code",
      "metadata": {
        "id": "WkbM98uny0QY",
        "colab_type": "code",
        "colab": {
          "base_uri": "https://localhost:8080/",
          "height": 308
        },
        "outputId": "938e5546-77c3-4fe0-e908-374fd1460986"
      },
      "source": [
        "# IL-Shade\n",
        "\n",
        "BEST_AGENTS=[]\n",
        "start_time = time.time() \n",
        "for i in range(RUNS):\n",
        "  ANSWER_AGENTS=[]\n",
        "  algorithm = pyade.ilshade \n",
        "  params = algorithm.get_default_params(dim=dim) \n",
        "  params['bounds'] = np.array(bounds)\n",
        "  params['max_evals'] = ITE \n",
        "  params['func'] = Fun\n",
        "  params['max_evals'] = ITE\n",
        "  best, fit = algorithm.apply(**params)\n",
        "  for x in best:\n",
        "    ANSWER_AGENTS.append(x)\n",
        "  ANSWER_AGENTS.append(fit)\n",
        "  BEST_AGENTS.append(ANSWER_AGENTS)\n",
        "BEST_AGENTS=np.array(BEST_AGENTS)\n",
        "TIME = (time.time() - start_time)/RUNS\n",
        "BEST_AGENTS=np.array(BEST_AGENTS)\n",
        "BEST_AGENTS_ST= BEST_AGENTS[BEST_AGENTS[:,-1].argsort()]\n",
        "BEST=BEST_AGENTS_ST[0]\n",
        "WORSE=BEST_AGENTS_ST[-1]\n",
        "MEAN=np.mean(BEST_AGENTS,axis=0)\n",
        "MAXFO=BEST_AGENTS[:,-1].max()\n",
        "MINFO=BEST_AGENTS[:,-1].min()\n",
        "STD=BEST_AGENTS[:,-1].std()\n",
        "nome='IL-Shade_Fo-'+str(0)+'_CRo-'+str(0)\n",
        "print(nome,'NPAR',NPAR,'Iterações=',ITE,'Dim=',dim ,\"Min/Max=\",MIN[0],\"/\",MAX[0],'_',Fun.__name__)\n",
        "print( '\\n')\n",
        "print('MÉDIA: ',MEAN[-1])\n",
        "print('MIN __:',MINFO)\n",
        "print('MAX__: ',MAXFO)\n",
        "print('STD __:',STD)\n",
        "print(\"Tempo Médio= %.3f segundos ---\" % (TIME))\n",
        "print(RUNS,'Rodadas') \n",
        "print()\n",
        "print('BEST: ',BEST)"
      ],
      "execution_count": 9,
      "outputs": [
        {
          "output_type": "stream",
          "text": [
            "IL-Shade_Fo-0_CRo-0 NPAR 100 Iterações= 5000 Dim= 30 Min/Max= -100 / 100 _ Schwefel_221\n",
            "\n",
            "\n",
            "MÉDIA:  0.10349286093510664\n",
            "MIN __: 0.07045356735076475\n",
            "MAX__:  0.14323528624821466\n",
            "STD __: 0.018419166597304807\n",
            "Tempo Médio= 0.338 segundos ---\n",
            "50 Rodadas\n",
            "\n",
            "BEST:  [ 0.00982086 -0.04614173 -0.06065425 -0.06055109  0.01461683  0.06477484\n",
            " -0.06221538  0.06462489 -0.05208862  0.04410186  0.06847391  0.05603048\n",
            " -0.01542105 -0.04635345 -0.06640761  0.00867703  0.06533479 -0.03188525\n",
            "  0.07045357  0.00109238  0.02624467  0.05407385  0.06755724  0.01029977\n",
            "  0.04479808  0.05825509 -0.01009201 -0.00854778 -0.05137648  0.03006452\n",
            "  0.07045357]\n"
          ],
          "name": "stdout"
        }
      ]
    },
    {
      "cell_type": "code",
      "metadata": {
        "id": "v4dbY4tSsFMb",
        "colab_type": "code",
        "colab": {
          "base_uri": "https://localhost:8080/",
          "height": 308
        },
        "outputId": "9d8eac04-38f9-4e4d-cc3f-0557e880934d"
      },
      "source": [
        "# Jso\n",
        "\n",
        "BEST_AGENTS=[]\n",
        "start_time = time.time() \n",
        "for i in range(RUNS):\n",
        "  ANSWER_AGENTS=[]\n",
        "  algorithm = pyade.jso\n",
        "  params = algorithm.get_default_params(dim=dim) \n",
        "  params['bounds'] = np.array(bounds)\n",
        "  params['max_evals'] = ITE \n",
        "  params['func'] = Fun\n",
        "  best, fit = algorithm.apply(**params)\n",
        "  for x in best:\n",
        "    ANSWER_AGENTS.append(x)\n",
        "  ANSWER_AGENTS.append(fit)\n",
        "  BEST_AGENTS.append(ANSWER_AGENTS)\n",
        "BEST_AGENTS=np.array(BEST_AGENTS)\n",
        "TIME = (time.time() - start_time)/RUNS\n",
        "BEST_AGENTS=np.array(BEST_AGENTS)\n",
        "BEST_AGENTS_ST= BEST_AGENTS[BEST_AGENTS[:,-1].argsort()]\n",
        "BEST=BEST_AGENTS_ST[0]\n",
        "WORSE=BEST_AGENTS_ST[-1]\n",
        "MEAN=np.mean(BEST_AGENTS,axis=0)\n",
        "MAXFO=BEST_AGENTS[:,-1].max()\n",
        "MINFO=BEST_AGENTS[:,-1].min()\n",
        "STD=BEST_AGENTS[:,-1].std()\n",
        "nome='Jso-'+str(0)+'_CRo-'+str(0)\n",
        "print(nome,'NPAR',NPAR,'Iterações=',ITE,'Dim=',dim ,\"Min/Max=\",MIN[0],\"/\",MAX[0],'_',Fun.__name__)\n",
        "print( '\\n')\n",
        "print('MÉDIA: ',MEAN[-1])\n",
        "print('MIN __:',MINFO)\n",
        "print('MAX__: ',MAXFO)\n",
        "print('STD __:',STD)\n",
        "print(\"Tempo Médio= %.3f segundos ---\" % (TIME))\n",
        "print(RUNS,'Rodadas') \n",
        "print()\n",
        "print('BEST: ',BEST)"
      ],
      "execution_count": 10,
      "outputs": [
        {
          "output_type": "stream",
          "text": [
            "Jso-0_CRo-0 NPAR 100 Iterações= 5000 Dim= 30 Min/Max= -100 / 100 _ Schwefel_221\n",
            "\n",
            "\n",
            "MÉDIA:  0.1481601894756278\n",
            "MIN __: 0.1029968117781259\n",
            "MAX__:  0.19557594904167425\n",
            "STD __: 0.021534203428986022\n",
            "Tempo Médio= 0.250 segundos ---\n",
            "50 Rodadas\n",
            "\n",
            "BEST:  [-0.05032899  0.10016877 -0.10299681 -0.00131891 -0.04202822 -0.04405855\n",
            "  0.02780017 -0.0561946  -0.00396629 -0.00748684 -0.06875309  0.03662075\n",
            " -0.03961373  0.06288447 -0.04546014 -0.05464352 -0.02595511 -0.07818221\n",
            "  0.07548674 -0.00882657  0.0143661   0.03345807 -0.04248608  0.0250202\n",
            "  0.08180207  0.05296493 -0.0016679  -0.03733935 -0.0922543  -0.05652683\n",
            "  0.10299681]\n"
          ],
          "name": "stdout"
        }
      ]
    },
    {
      "cell_type": "code",
      "metadata": {
        "id": "ZkV_dpDa14C8",
        "colab_type": "code",
        "colab": {
          "base_uri": "https://localhost:8080/",
          "height": 308
        },
        "outputId": "20edc400-e573-4000-86ce-1a85f6be8e6e"
      },
      "source": [
        "# Sade\n",
        "\n",
        "BEST_AGENTS=[]\n",
        "start_time = time.time() \n",
        "for i in range(RUNS):\n",
        "  ANSWER_AGENTS=[]\n",
        "  algorithm = pyade.sade\n",
        "  params = algorithm.get_default_params(dim=dim) \n",
        "  params['bounds'] = np.array(bounds)\n",
        "  params['max_evals'] = ITE \n",
        "  params['func'] = Fun\n",
        "  best, fit = algorithm.apply(**params)\n",
        "  for x in best:\n",
        "    ANSWER_AGENTS.append(x)\n",
        "  ANSWER_AGENTS.append(fit)\n",
        "  BEST_AGENTS.append(ANSWER_AGENTS)\n",
        "BEST_AGENTS=np.array(BEST_AGENTS)\n",
        "TIME = (time.time() - start_time)/RUNS\n",
        "BEST_AGENTS=np.array(BEST_AGENTS)\n",
        "BEST_AGENTS_ST= BEST_AGENTS[BEST_AGENTS[:,-1].argsort()]\n",
        "BEST=BEST_AGENTS_ST[0]\n",
        "WORSE=BEST_AGENTS_ST[-1]\n",
        "MEAN=np.mean(BEST_AGENTS,axis=0)\n",
        "MAXFO=BEST_AGENTS[:,-1].max()\n",
        "MINFO=BEST_AGENTS[:,-1].min()\n",
        "STD=BEST_AGENTS[:,-1].std()\n",
        "nome='Sade_Fo-'+str(0)+'_CRo-'+str(0)\n",
        "print(nome,'NPAR',NPAR,'Iterações=',ITE,'Dim=',dim ,\"Min/Max=\",MIN[0],\"/\",MAX[0],'_',Fun.__name__)\n",
        "print( '\\n')\n",
        "print('MÉDIA: ',MEAN[-1])\n",
        "print('MIN __:',MINFO)\n",
        "print('MAX__: ',MAXFO)\n",
        "print('STD __:',STD)\n",
        "print(\"Tempo Médio= %.3f segundos ---\" % (TIME))\n",
        "print(RUNS,'Rodadas') \n",
        "print()\n",
        "print('BEST: ',BEST)"
      ],
      "execution_count": 11,
      "outputs": [
        {
          "output_type": "stream",
          "text": [
            "Sade_Fo-0_CRo-0 NPAR 100 Iterações= 5000 Dim= 30 Min/Max= -100 / 100 _ Schwefel_221\n",
            "\n",
            "\n",
            "MÉDIA:  0.8703340176134067\n",
            "MIN __: 0.7282309568707936\n",
            "MAX__:  1.0130546865172414\n",
            "STD __: 0.06800833632844196\n",
            "Tempo Médio= 0.163 segundos ---\n",
            "50 Rodadas\n",
            "\n",
            "BEST:  [-0.64499967  0.56133406  0.43155316 -0.50376222 -0.28955519  0.44615546\n",
            " -0.2022121   0.6522808  -0.6152154  -0.27181832  0.23781854  0.27627895\n",
            "  0.69405995  0.37445486 -0.31239491  0.46423704 -0.0845979  -0.49504202\n",
            "  0.65845736  0.50450928 -0.03865459  0.72823096  0.39575356 -0.02721173\n",
            " -0.7160519  -0.31737231 -0.56873615 -0.53940106 -0.62456069 -0.47457195\n",
            "  0.72823096]\n"
          ],
          "name": "stdout"
        }
      ]
    },
    {
      "cell_type": "code",
      "metadata": {
        "id": "q77YsFa82zFU",
        "colab_type": "code",
        "colab": {
          "base_uri": "https://localhost:8080/",
          "height": 345
        },
        "outputId": "ac799168-8073-4909-cb4d-9f3dd8c076ff"
      },
      "source": [
        "# JADE\n",
        "algorithm = pyade.jso\n",
        "BEST_AGENTS=[]\n",
        "for i in range(RUNS):\n",
        "  ANSWER_AGENTS=[]\n",
        "  solver = pyfde.JADE(Fun, n_dim=dim, n_pop=NPAR, limits=bounds, minimize=True)\n",
        "  solver.p = 0.05\n",
        "  solver.c = 0.1\n",
        "  solver.cr = 0.5\n",
        "  solver.f = 0.5\n",
        "  best, fit = solver.run(n_it=ITE)\n",
        "  fit=(-1)*fit\n",
        "  for x in best:\n",
        "    ANSWER_AGENTS.append(x)\n",
        "  ANSWER_AGENTS.append(fit)\n",
        "  BEST_AGENTS.append(ANSWER_AGENTS)\n",
        "BEST_AGENTS=np.array(BEST_AGENTS)\n",
        "TIME = (time.time() - start_time)/RUNS\n",
        "BEST_AGENTS=np.array(BEST_AGENTS)\n",
        "BEST_AGENTS_ST= BEST_AGENTS[BEST_AGENTS[:,-1].argsort()]\n",
        "BEST=BEST_AGENTS_ST[0]\n",
        "WORSE=BEST_AGENTS_ST[-1]\n",
        "MEAN=np.mean(BEST_AGENTS,axis=0)\n",
        "MAXFO=BEST_AGENTS[:,-1].max()\n",
        "MINFO=BEST_AGENTS[:,-1].min()\n",
        "STD=BEST_AGENTS[:,-1].std()\n",
        "nome='JADE_Fo-'+str(0)+'_CRo-'+str(0)\n",
        "print(nome,'NPAR',NPAR,'Iterações=',ITE,'Dim=',dim ,\"Min/Max=\",MIN[0],\"/\",MAX[0],'_',Fun.__name__)\n",
        "print( '\\n')\n",
        "print('MÉDIA: ',MEAN[-1])\n",
        "print('MIN __:',MINFO)\n",
        "print('MAX__: ',MAXFO)\n",
        "print('STD __:',STD)\n",
        "print(\"Tempo Médio= %.3f segundos ---\" % (TIME))\n",
        "print(RUNS,'Rodadas') \n",
        "print()\n",
        "print('BEST: ',BEST)"
      ],
      "execution_count": 12,
      "outputs": [
        {
          "output_type": "stream",
          "text": [
            "JADE_Fo-0_CRo-0 NPAR 100 Iterações= 5000 Dim= 30 Min/Max= -100 / 100 _ Schwefel_221\n",
            "\n",
            "\n",
            "MÉDIA:  1.2523895065502815e-23\n",
            "MIN __: 9.740209186938015e-29\n",
            "MAX__:  2.4308979496142065e-22\n",
            "STD __: 4.684343042923884e-23\n",
            "Tempo Médio= 4.827 segundos ---\n",
            "50 Rodadas\n",
            "\n",
            "BEST:  [-3.62994449e-29  9.44475402e-29  1.40060698e-30 -9.53400749e-29\n",
            "  9.73627059e-30  9.13375416e-29 -9.74020919e-29 -4.09168990e-29\n",
            "  9.71803710e-29  7.73746637e-29 -2.41625219e-29  3.24218198e-29\n",
            "  6.91143275e-29  7.35073342e-29 -6.72243231e-29 -7.17333735e-29\n",
            " -9.65327878e-29 -8.01044407e-29  9.46586689e-29 -7.20220221e-29\n",
            "  1.30839839e-30 -3.36144851e-29 -6.05098863e-29 -9.49819391e-29\n",
            "  8.44736293e-29  6.11944665e-29  9.68345515e-29 -9.63969629e-29\n",
            "  8.01109460e-29 -9.23928807e-29  9.74020919e-29]\n"
          ],
          "name": "stdout"
        }
      ]
    }
  ]
}