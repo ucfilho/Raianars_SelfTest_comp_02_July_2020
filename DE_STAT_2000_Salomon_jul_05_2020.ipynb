{
  "nbformat": 4,
  "nbformat_minor": 0,
  "metadata": {
    "accelerator": "GPU",
    "colab": {
      "name": "DE_STAT_2000_Salomon_jul_05_2020.ipynb",
      "provenance": [],
      "collapsed_sections": [],
      "include_colab_link": true
    },
    "kernelspec": {
      "display_name": "Python 3",
      "language": "python",
      "name": "python3"
    },
    "language_info": {
      "codemirror_mode": {
        "name": "ipython",
        "version": 3
      },
      "file_extension": ".py",
      "mimetype": "text/x-python",
      "name": "python",
      "nbconvert_exporter": "python",
      "pygments_lexer": "ipython3",
      "version": "3.6.1"
    }
  },
  "cells": [
    {
      "cell_type": "markdown",
      "metadata": {
        "id": "view-in-github",
        "colab_type": "text"
      },
      "source": [
        "<a href=\"https://colab.research.google.com/github/ucfilho/Raianars_SelfTest_comp_02_July_2020/blob/master/DE_STAT_2000_Salomon_jul_05_2020.ipynb\" target=\"_parent\"><img src=\"https://colab.research.google.com/assets/colab-badge.svg\" alt=\"Open In Colab\"/></a>"
      ]
    },
    {
      "cell_type": "code",
      "metadata": {
        "colab_type": "code",
        "id": "cG5nOUQ9Eucw",
        "colab": {}
      },
      "source": [
        "# Noisy_Quartic\n",
        "# In the paper Ngen=3000 NPAR=100 RUNS=50 dim=30\n",
        "# JADE: Adaptive Differential Evolution with Optional External Archive\n"
      ],
      "execution_count": 1,
      "outputs": []
    },
    {
      "cell_type": "code",
      "metadata": {
        "colab_type": "code",
        "id": "v1OxgXboBKoG",
        "colab": {}
      },
      "source": [
        "import time\n",
        "import matplotlib.pyplot as plt\n",
        "import numpy as np\n",
        "from random import randint"
      ],
      "execution_count": 2,
      "outputs": []
    },
    {
      "cell_type": "code",
      "metadata": {
        "id": "qMRpE0dGULCI",
        "colab_type": "code",
        "colab": {
          "base_uri": "https://localhost:8080/",
          "height": 54
        },
        "outputId": "77927483-a4fd-4d8e-96f4-cce9d0159bae"
      },
      "source": [
        "!git clone https://github.com/ucfilho/Raianars_July_2020 #clonar do Github\n",
        "%cd Raianars_July_2020"
      ],
      "execution_count": 3,
      "outputs": [
        {
          "output_type": "stream",
          "text": [
            "fatal: destination path 'Raianars_July_2020' already exists and is not an empty directory.\n",
            "/content/Raianars_July_2020\n"
          ],
          "name": "stdout"
        }
      ]
    },
    {
      "cell_type": "code",
      "metadata": {
        "colab_type": "code",
        "id": "_E15mKFURR6O",
        "colab": {}
      },
      "source": [
        "import de_soma_Insight\n",
        "import de_bounds_matriz\n",
        "import Function\n",
        "import Go2MinMax\n",
        "from AvaliaX import AvaliaX\n",
        "\n",
        "\n",
        "############################### DADOS DE ENTRADA \n",
        "its=1 #10 # quantas vezes vai usar o NPAR antes de alterar de novo\n",
        "ITE=2000 #10 # PONTOS quantas vezes vai alteral NPAR \n",
        "NPAR=100 # NUMBER OF PARTICLES\n",
        "dim=30\n",
        "RUNS=50\n",
        "fchoice='Salomon' \n",
        "Fun=Function.Salomon\n",
        "\n",
        "mut=0.5\n",
        "crossp=0.5\n",
        "\n",
        "\n",
        "#fchoice='Rastrigin' #fchoice='Michalewicz' #fchoice='Schwefel'\n",
        "fchoice='Step'\n",
        "Fun=Function.Step\n",
        "\n",
        "MIN,MAX=Go2MinMax.Intervalo(dim,fchoice)\n",
        "\n",
        "TOTAL=10*dim*its*ITE\n",
        "SOMA=0"
      ],
      "execution_count": 4,
      "outputs": []
    },
    {
      "cell_type": "code",
      "metadata": {
        "colab_type": "code",
        "id": "rnX8ttNopd1G",
        "colab": {
          "base_uri": "https://localhost:8080/",
          "height": 926
        },
        "outputId": "6353b196-d3b9-4e15-df36-af003b4046b5"
      },
      "source": [
        "start_time = time.time()\n",
        "BEST_AGENTS=[]\n",
        "MAT_stat=[]\n",
        "\n",
        "for i in range(RUNS):\n",
        "\n",
        "    pop = np.random.rand(NPAR, dim)\n",
        "    diff=np.zeros(dim)\n",
        "    for ii in range(dim):\n",
        "      diff[ii] = MAX[ii]-MIN[ii]\n",
        "    X = MIN + pop * diff\n",
        "\n",
        "    for k in range(ITE):\n",
        "      X,BEST,FOBEST,XY,BEST_XY,SOMA= de_soma_Insight.de(MAX,MIN, mut, crossp,dim,its,Fun,X,SOMA,TOTAL)\n",
        "\n",
        "    start_run = (time.time()-start_time)/60\n",
        "    print('run=',i,'total=50','Fobj=',FOBEST,'Time=',start_run)  \n",
        "    BEST_AGENTS.append(BEST_XY)"
      ],
      "execution_count": 5,
      "outputs": [
        {
          "output_type": "stream",
          "text": [
            "run= 0 total=50 Fobj= 1.6526019666797993e-29 Time= 0.3433380325635274\n",
            "run= 1 total=50 Fobj= 1.268032275384556e-29 Time= 0.6869898597399394\n",
            "run= 2 total=50 Fobj= 6.77619191633205e-30 Time= 1.0271827975908916\n",
            "run= 3 total=50 Fobj= 3.4235330691427505e-30 Time= 1.3671167016029357\n",
            "run= 4 total=50 Fobj= 3.1307917175958906e-30 Time= 1.7075037797292074\n",
            "run= 5 total=50 Fobj= 8.927070478223716e-30 Time= 2.0505372563997906\n",
            "run= 6 total=50 Fobj= 2.173065274851006e-29 Time= 2.3913225372632345\n",
            "run= 7 total=50 Fobj= 6.228611514543872e-29 Time= 2.734564685821533\n",
            "run= 8 total=50 Fobj= 1.027676218325029e-29 Time= 3.0771236777305604\n",
            "run= 9 total=50 Fobj= 3.9849801665305174e-29 Time= 3.4214308977127077\n",
            "run= 10 total=50 Fobj= 79051.51546976894 Time= 3.6141873915990193\n",
            "run= 11 total=50 Fobj= 61755.917301417816 Time= 3.806735563278198\n",
            "run= 12 total=50 Fobj= 65118.21237691331 Time= 3.9998233596483868\n",
            "run= 13 total=50 Fobj= 60312.13477243619 Time= 4.192156080404917\n",
            "run= 14 total=50 Fobj= 64865.53913273383 Time= 4.384393688042959\n",
            "run= 15 total=50 Fobj= 62427.03705802478 Time= 4.577736322085062\n",
            "run= 16 total=50 Fobj= 71629.55620816778 Time= 4.77154108285904\n",
            "run= 17 total=50 Fobj= 59242.875311979864 Time= 4.9632797837257385\n",
            "run= 18 total=50 Fobj= 79003.60619705082 Time= 5.156680774688721\n",
            "run= 19 total=50 Fobj= 71115.59684434316 Time= 5.349174622694651\n",
            "run= 20 total=50 Fobj= 75444.77769718472 Time= 5.543612396717071\n",
            "run= 21 total=50 Fobj= 65126.208417296424 Time= 5.736085804303487\n",
            "run= 22 total=50 Fobj= 67649.47407194607 Time= 5.9302694996198015\n",
            "run= 23 total=50 Fobj= 65220.94460212053 Time= 6.122875308990478\n",
            "run= 24 total=50 Fobj= 73182.14881906676 Time= 6.314513723055522\n",
            "run= 25 total=50 Fobj= 70339.48625103285 Time= 6.507826177279155\n",
            "run= 26 total=50 Fobj= 58752.070635273536 Time= 6.699910469849905\n",
            "run= 27 total=50 Fobj= 62558.95719273102 Time= 6.892932283878326\n",
            "run= 28 total=50 Fobj= 74758.8921443474 Time= 7.084846142927805\n",
            "run= 29 total=50 Fobj= 65622.99461007105 Time= 7.278475002447764\n",
            "run= 30 total=50 Fobj= 64612.234429784694 Time= 7.473598551750183\n",
            "run= 31 total=50 Fobj= 61441.24959031366 Time= 7.6677132447560625\n",
            "run= 32 total=50 Fobj= 65095.79303373389 Time= 7.860128506024679\n",
            "run= 33 total=50 Fobj= 63369.519435626054 Time= 8.05417819817861\n",
            "run= 34 total=50 Fobj= 61036.64159597998 Time= 8.24737389087677\n",
            "run= 35 total=50 Fobj= 80620.75069518182 Time= 8.44167065223058\n",
            "run= 36 total=50 Fobj= 80230.43080706598 Time= 8.634780899683635\n",
            "run= 37 total=50 Fobj= 70133.43064631317 Time= 8.827401645978291\n",
            "run= 38 total=50 Fobj= 76060.4099894853 Time= 9.021612807114918\n",
            "run= 39 total=50 Fobj= 78677.11878498919 Time= 9.214087347189585\n",
            "run= 40 total=50 Fobj= 66857.99141920969 Time= 9.407326209545136\n",
            "run= 41 total=50 Fobj= 67975.30743856299 Time= 9.60022052526474\n",
            "run= 42 total=50 Fobj= 74663.25466666355 Time= 9.791981899738312\n",
            "run= 43 total=50 Fobj= 72681.2381160661 Time= 9.984399795532227\n",
            "run= 44 total=50 Fobj= 71175.02033874835 Time= 10.178828259309133\n",
            "run= 45 total=50 Fobj= 80662.5287052597 Time= 10.371232990423838\n",
            "run= 46 total=50 Fobj= 67021.75889691786 Time= 10.564559531211852\n",
            "run= 47 total=50 Fobj= 61307.848617225616 Time= 10.757976162433625\n",
            "run= 48 total=50 Fobj= 51186.027761401914 Time= 10.9518253048261\n",
            "run= 49 total=50 Fobj= 80562.28543628332 Time= 11.14439065059026\n"
          ],
          "name": "stdout"
        }
      ]
    },
    {
      "cell_type": "code",
      "metadata": {
        "id": "VAbHty3zbVND",
        "colab_type": "code",
        "colab": {}
      },
      "source": [
        ""
      ],
      "execution_count": 5,
      "outputs": []
    },
    {
      "cell_type": "code",
      "metadata": {
        "colab_type": "code",
        "id": "lNSN5X-wskcx",
        "colab": {
          "base_uri": "https://localhost:8080/",
          "height": 345
        },
        "outputId": "2bb2eae4-51d3-4fae-beeb-0499badb22d2"
      },
      "source": [
        "############################## Cálculo dos Parâmetros de Avaliação   \n",
        "TIME = (time.time() - start_time)/RUNS\n",
        "BEST_AGENTS=np.array(BEST_AGENTS)\n",
        "BEST_AGENTS_ST= BEST_AGENTS[BEST_AGENTS[:,-1].argsort()]\n",
        "BEST=BEST_AGENTS_ST[0]\n",
        "WORSE=BEST_AGENTS_ST[-1]\n",
        "MEAN=np.mean(BEST_AGENTS,axis=0)\n",
        "MAXFO=BEST_AGENTS[:,-1].max()\n",
        "MINFO=BEST_AGENTS[:,-1].min()\n",
        "STD=BEST_AGENTS[:,-1].std()\n",
        "\n",
        "nome='_DE_STAT_Fo-'+str(mut)+'_CRo-'+str(crossp)+'_D-'+str(dim)+'_Interv-'+str(ITE)\n",
        "print('DE_POP_VAR_F_CR','TOTAL=',TOTAL,'Iterações=',ITE*its,'Dim=', dim,\"Min/Max=\",MIN[0],\"/\",MAX[0],'_',Fun.__name__)\n",
        "print(nome, '\\n')\n",
        "#print('BEST: ',BEST)\n",
        "#print('MÉDIA: ',MEAN)\n",
        "print('MÉDIA: ',MEAN[-1])\n",
        "print('MIN __:',MINFO)\n",
        "print('MAX__: ',MAXFO)\n",
        "print('STD __:',STD)\n",
        "print(\"Tempo Médio= %.3f segundos ---\" % (TIME))\n",
        "print(RUNS,'Rodadas') \n",
        "print()\n",
        "print('BEST: ',BEST)\n",
        "# print('melhor=',BEST_AGENTS[BEST_INDEX])"
      ],
      "execution_count": 6,
      "outputs": [
        {
          "output_type": "stream",
          "text": [
            "DE_POP_VAR_F_CR TOTAL= 600000 Iterações= 2000 Dim= 30 Min/Max= -100 / 100 _ Step\n",
            "_DE_STAT_Fo-0.5_CRo-0.5_D-30_Interv-2000 \n",
            "\n",
            "MÉDIA:  54970.975710374405\n",
            "MIN __: 3.1307917175958906e-30\n",
            "MAX__:  80662.5287052597\n",
            "STD __: 28235.494092585966\n",
            "Tempo Médio= 13.374 segundos ---\n",
            "50 Rodadas\n",
            "\n",
            "BEST:  [-5.00000000e-01 -5.00000000e-01 -5.00000000e-01 -5.00000000e-01\n",
            " -5.00000000e-01 -5.00000000e-01 -5.00000000e-01 -5.00000000e-01\n",
            " -5.00000000e-01 -5.00000000e-01 -5.00000000e-01 -5.00000000e-01\n",
            " -5.00000000e-01 -5.00000000e-01 -5.00000000e-01 -5.00000000e-01\n",
            " -5.00000000e-01 -5.00000000e-01 -5.00000000e-01 -5.00000000e-01\n",
            " -5.00000000e-01 -5.00000000e-01 -5.00000000e-01 -5.00000000e-01\n",
            " -5.00000000e-01 -5.00000000e-01 -5.00000000e-01 -5.00000000e-01\n",
            " -5.00000000e-01 -5.00000000e-01  3.13079172e-30]\n"
          ],
          "name": "stdout"
        }
      ]
    }
  ]
}