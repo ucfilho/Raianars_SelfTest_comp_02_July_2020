{
  "nbformat": 4,
  "nbformat_minor": 0,
  "metadata": {
    "accelerator": "GPU",
    "colab": {
      "name": "DE_STAT_2000_Griewank_D_10_jul_08_2020.ipynb",
      "provenance": [],
      "collapsed_sections": [],
      "include_colab_link": true
    },
    "kernelspec": {
      "display_name": "Python 3",
      "language": "python",
      "name": "python3"
    },
    "language_info": {
      "codemirror_mode": {
        "name": "ipython",
        "version": 3
      },
      "file_extension": ".py",
      "mimetype": "text/x-python",
      "name": "python",
      "nbconvert_exporter": "python",
      "pygments_lexer": "ipython3",
      "version": "3.6.1"
    }
  },
  "cells": [
    {
      "cell_type": "markdown",
      "metadata": {
        "id": "view-in-github",
        "colab_type": "text"
      },
      "source": [
        "<a href=\"https://colab.research.google.com/github/ucfilho/Raianars_SelfTest_comp_02_July_2020/blob/master/DE_STAT_2000_Griewank_D_10_jul_08_2020.ipynb\" target=\"_parent\"><img src=\"https://colab.research.google.com/assets/colab-badge.svg\" alt=\"Open In Colab\"/></a>"
      ]
    },
    {
      "cell_type": "code",
      "metadata": {
        "colab_type": "code",
        "id": "cG5nOUQ9Eucw",
        "colab": {}
      },
      "source": [
        "# Noisy_Quartic\n",
        "# In the paper Ngen=3000 NPAR=100 RUNS=50 dim=30\n",
        "# JADE: Adaptive Differential Evolution with Optional External Archive\n"
      ],
      "execution_count": 1,
      "outputs": []
    },
    {
      "cell_type": "code",
      "metadata": {
        "colab_type": "code",
        "id": "v1OxgXboBKoG",
        "colab": {}
      },
      "source": [
        "import time\n",
        "import matplotlib.pyplot as plt\n",
        "import numpy as np\n",
        "from random import randint"
      ],
      "execution_count": 2,
      "outputs": []
    },
    {
      "cell_type": "code",
      "metadata": {
        "id": "qMRpE0dGULCI",
        "colab_type": "code",
        "colab": {
          "base_uri": "https://localhost:8080/",
          "height": 158
        },
        "outputId": "e9423df5-ad19-497f-d04d-9dbd2c58bb04"
      },
      "source": [
        "!git clone https://github.com/ucfilho/Raianars_July_2020 #clonar do Github\n",
        "%cd Raianars_July_2020"
      ],
      "execution_count": 3,
      "outputs": [
        {
          "output_type": "stream",
          "text": [
            "Cloning into 'Raianars_July_2020'...\n",
            "remote: Enumerating objects: 15, done.\u001b[K\n",
            "remote: Counting objects: 100% (15/15), done.\u001b[K\n",
            "remote: Compressing objects: 100% (15/15), done.\u001b[K\n",
            "remote: Total 138 (delta 7), reused 0 (delta 0), pack-reused 123\u001b[K\n",
            "Receiving objects: 100% (138/138), 201.58 KiB | 3.95 MiB/s, done.\n",
            "Resolving deltas: 100% (69/69), done.\n",
            "/content/Raianars_July_2020\n"
          ],
          "name": "stdout"
        }
      ]
    },
    {
      "cell_type": "code",
      "metadata": {
        "colab_type": "code",
        "id": "_E15mKFURR6O",
        "colab": {}
      },
      "source": [
        "import de_soma_Insight\n",
        "import de_bounds_matriz\n",
        "import Function\n",
        "import Go2MinMax\n",
        "from AvaliaX import AvaliaX\n",
        "\n",
        "\n",
        "############################### DADOS DE ENTRADA \n",
        "RUNS=50 #NÚMERO DE RODADAS\n",
        "its=1 #10 # quantas vezes vai usar o NPAR antes de alterar de novo\n",
        "ITE=2000 #10 # PONTOS quantas vezes vai alteral NPAR \n",
        "NPAR=100\n",
        "\n",
        "mut=0.5\n",
        "crossp=0.5\n",
        "dim=10\n",
        "\n",
        "#fchoice='Rastrigin' #fchoice='Michalewicz' #fchoice='Schwefel'\n",
        "fchoice='Griewank'  \n",
        "Fun=Function.Griewank\n",
        "\n",
        "MIN,MAX=Go2MinMax.Intervalo(dim,fchoice)\n",
        "\n",
        "TOTAL=10*dim*its*ITE\n",
        "SOMA=0"
      ],
      "execution_count": 4,
      "outputs": []
    },
    {
      "cell_type": "code",
      "metadata": {
        "colab_type": "code",
        "id": "rnX8ttNopd1G",
        "colab": {
          "base_uri": "https://localhost:8080/",
          "height": 905
        },
        "outputId": "7b07eebe-55f7-4171-a462-bcb87be29d16"
      },
      "source": [
        "start_time = time.time()\n",
        "BEST_AGENTS=[]\n",
        "MAT_stat=[]\n",
        "\n",
        "for i in range(RUNS):\n",
        "\n",
        "    pop = np.random.rand(NPAR, dim)\n",
        "    diff=np.zeros(dim)\n",
        "    for ii in range(dim):\n",
        "      diff[ii] = MAX[ii]-MIN[ii]\n",
        "    X = MIN + pop * diff\n",
        "\n",
        "    SOMA=0\n",
        "\n",
        "    for k in range(ITE):\n",
        "      X,BEST,FOBEST,XY,BEST_XY,SOMA= de_soma_Insight.de(MAX,MIN, mut, crossp,dim,its,Fun,X,SOMA,TOTAL)\n",
        "\n",
        "    start_run = (time.time()-start_time)/60\n",
        "    print('run=',i,'total=50','Fobj=',FOBEST,'Time=',start_run)  \n",
        "    BEST_AGENTS.append(BEST_XY)"
      ],
      "execution_count": 5,
      "outputs": [
        {
          "output_type": "stream",
          "text": [
            "run= 0 total=50 Fobj= 0.0092593708182096 Time= 0.09383399883906046\n",
            "run= 1 total=50 Fobj= 8.714599204440177e-05 Time= 0.18747979402542114\n",
            "run= 2 total=50 Fobj= 0.12143651714966308 Time= 0.2801982561747233\n",
            "run= 3 total=50 Fobj= 0.007396040556129191 Time= 0.37343111832936604\n",
            "run= 4 total=50 Fobj= 0.034768924442837856 Time= 0.46550265153249104\n",
            "run= 5 total=50 Fobj= 0.022151645387996632 Time= 0.5581182718276978\n",
            "run= 6 total=50 Fobj= 0.016132943287576862 Time= 0.6502430160840352\n",
            "run= 7 total=50 Fobj= 0.015376418834104122 Time= 0.7430041074752808\n",
            "run= 8 total=50 Fobj= 0.49308841322454255 Time= 0.8351611495018005\n",
            "run= 9 total=50 Fobj= 0.024809553589943856 Time= 0.927549397945404\n",
            "run= 10 total=50 Fobj= 0.16242661274621883 Time= 1.0202985604604085\n",
            "run= 11 total=50 Fobj= 0.027250550332433177 Time= 1.112491528193156\n",
            "run= 12 total=50 Fobj= 0.01360110371453549 Time= 1.2056366880734761\n",
            "run= 13 total=50 Fobj= 0.5275513060005085 Time= 1.2975239872932434\n",
            "run= 14 total=50 Fobj= 0.06887799173927844 Time= 1.3913162469863891\n",
            "run= 15 total=50 Fobj= 0.032086220071352534 Time= 1.483783209323883\n",
            "run= 16 total=50 Fobj= 0.05419174748427902 Time= 1.5767964919408162\n",
            "run= 17 total=50 Fobj= 0.05250902422704984 Time= 1.668740483125051\n",
            "run= 18 total=50 Fobj= 0.03948528805675244 Time= 1.7601102272669473\n",
            "run= 19 total=50 Fobj= 0.8986444259461867 Time= 1.851842494805654\n",
            "run= 20 total=50 Fobj= 0.007459668039689116 Time= 1.9437787731488545\n",
            "run= 21 total=50 Fobj= 0.009975764896854589 Time= 2.037101423740387\n",
            "run= 22 total=50 Fobj= 0.027020964397138636 Time= 2.129010073343913\n",
            "run= 23 total=50 Fobj= 0.10713563266845383 Time= 2.2222675681114197\n",
            "run= 24 total=50 Fobj= 0.0035283134474974887 Time= 2.314449306329091\n",
            "run= 25 total=50 Fobj= 0.03691875383949794 Time= 2.4084979852040607\n",
            "run= 26 total=50 Fobj= 0.0099641610361616 Time= 2.5013892531394957\n",
            "run= 27 total=50 Fobj= 3.882421619185799 Time= 2.594360423088074\n",
            "run= 28 total=50 Fobj= 0.03447825619051792 Time= 2.6868744532267255\n",
            "run= 29 total=50 Fobj= 0.020589030263700625 Time= 2.7801811496416726\n",
            "run= 30 total=50 Fobj= 0.05906775293374655 Time= 2.8734304149945578\n",
            "run= 31 total=50 Fobj= 0.07221813899669927 Time= 2.9657785932223004\n",
            "run= 32 total=50 Fobj= 0.09121624088975089 Time= 3.0583547989527387\n",
            "run= 33 total=50 Fobj= 0.029870007558340572 Time= 3.149780976772308\n",
            "run= 34 total=50 Fobj= 0.037828946609628655 Time= 3.2432901938756307\n",
            "run= 35 total=50 Fobj= 1.8116865010561247 Time= 3.334943457444509\n",
            "run= 36 total=50 Fobj= 0.04215276235480636 Time= 3.4268174012502035\n",
            "run= 37 total=50 Fobj= 0.05229932924860736 Time= 3.5190295775731406\n",
            "run= 38 total=50 Fobj= 0.017582337381997104 Time= 3.6119799415270486\n",
            "run= 39 total=50 Fobj= 0.03214965053801799 Time= 3.703806249300639\n",
            "run= 40 total=50 Fobj= 0.0777197138202178 Time= 3.79568696419398\n",
            "run= 41 total=50 Fobj= 0.2734762135165919 Time= 3.887603199481964\n",
            "run= 42 total=50 Fobj= 0.10641549993132426 Time= 3.9806161681811014\n",
            "run= 43 total=50 Fobj= 0.007396196721185189 Time= 4.07240492105484\n",
            "run= 44 total=50 Fobj= 0.9836275879425043 Time= 4.166881450017294\n",
            "run= 45 total=50 Fobj= 0.022199779493063176 Time= 4.260567756493886\n",
            "run= 46 total=50 Fobj= 1.0310125231619045 Time= 4.353584019343058\n",
            "run= 47 total=50 Fobj= 0.03197791504860281 Time= 4.447467172145844\n",
            "run= 48 total=50 Fobj= 0.3066716711872658 Time= 4.5417401949564615\n",
            "run= 49 total=50 Fobj= 0.012144416731439511 Time= 4.636159773667654\n"
          ],
          "name": "stdout"
        }
      ]
    },
    {
      "cell_type": "code",
      "metadata": {
        "colab_type": "code",
        "id": "lNSN5X-wskcx",
        "colab": {
          "base_uri": "https://localhost:8080/",
          "height": 247
        },
        "outputId": "a264b649-9167-4f63-eac2-99d2f8996abd"
      },
      "source": [
        "############################## Cálculo dos Parâmetros de Avaliação   \n",
        "TIME = (time.time() - start_time)/RUNS\n",
        "BEST_AGENTS=np.array(BEST_AGENTS)\n",
        "BEST_AGENTS_ST= BEST_AGENTS[BEST_AGENTS[:,-1].argsort()]\n",
        "BEST=BEST_AGENTS_ST[0]\n",
        "WORSE=BEST_AGENTS_ST[-1]\n",
        "MEAN=np.mean(BEST_AGENTS,axis=0)\n",
        "MAXFO=BEST_AGENTS[:,-1].max()\n",
        "MINFO=BEST_AGENTS[:,-1].min()\n",
        "STD=BEST_AGENTS[:,-1].std()\n",
        "\n",
        "nome='_DE_STAT_Fo-'+str(mut)+'_CRo-'+str(crossp)+'_D-'+str(dim)+'_Interv-'+str(ITE)\n",
        "print('DE_F_CR','TOTAL=',TOTAL,'Iterações=',ITE*its,'Dim=', dim,\"Min/Max=\",MIN[0],\"/\",MAX[0],'_',Fun.__name__)\n",
        "print(nome, '\\n')\n",
        "#print('BEST: ',BEST)\n",
        "#print('MÉDIA: ',MEAN)\n",
        "print('MÉDIA: ',MEAN[-1])\n",
        "print('MIN __:',MINFO)\n",
        "print('MAX__: ',MAXFO)\n",
        "print('STD __:',STD)\n",
        "print(\"Tempo Médio= %.3f segundos ---\" % (TIME))\n",
        "print(RUNS,'Rodadas') \n",
        "print()\n",
        "print('BEST: ',BEST)\n",
        "# print('melhor=',BEST_AGENTS[BEST_INDEX])"
      ],
      "execution_count": 6,
      "outputs": [
        {
          "output_type": "stream",
          "text": [
            "DE_F_CR TOTAL= 200000 Iterações= 2000 Dim= 10 Min/Max= -600 / 600 _ Griewank\n",
            "_DE_STAT_Fo-0.5_CRo-0.5_D-10_Interv-2000 \n",
            "\n",
            "MÉDIA:  0.2371867318537754\n",
            "MIN __: 8.714599204440177e-05\n",
            "MAX__:  3.882421619185799\n",
            "STD __: 0.6194942316095977\n",
            "Tempo Médio= 5.564 segundos ---\n",
            "50 Rodadas\n",
            "\n",
            "BEST:  [ 4.41045795e-09 -1.28526840e-08 -1.05216724e-08 -2.63777060e-02\n",
            " -3.93293581e-06  1.59620787e-08 -7.31803883e-05  1.47382818e-08\n",
            "  4.10732964e-08 -2.64565654e-08  8.71459920e-05]\n"
          ],
          "name": "stdout"
        }
      ]
    }
  ]
}