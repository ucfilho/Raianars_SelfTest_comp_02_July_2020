{
  "nbformat": 4,
  "nbformat_minor": 0,
  "metadata": {
    "colab": {
      "name": "Stats_1000_Step_ALL_D_30_JUL_03_2020.ipynb",
      "provenance": [],
      "collapsed_sections": [],
      "authorship_tag": "ABX9TyMNWt+UcNUV6Alm2wWLy95H",
      "include_colab_link": true
    },
    "kernelspec": {
      "name": "python3",
      "display_name": "Python 3"
    }
  },
  "cells": [
    {
      "cell_type": "markdown",
      "metadata": {
        "id": "view-in-github",
        "colab_type": "text"
      },
      "source": [
        "<a href=\"https://colab.research.google.com/github/ucfilho/Raianars_SelfTest_comp_02_July_2020/blob/master/Stats_1000_Step_ALL_D_30_JUL_03_2020.ipynb\" target=\"_parent\"><img src=\"https://colab.research.google.com/assets/colab-badge.svg\" alt=\"Open In Colab\"/></a>"
      ]
    },
    {
      "cell_type": "code",
      "metadata": {
        "id": "MC26Bm1UyUR5",
        "colab_type": "code",
        "colab": {
          "base_uri": "https://localhost:8080/",
          "height": 110
        },
        "outputId": "9fafb037-ed13-4ff7-923a-debdd962b96f"
      },
      "source": [
        "!pip install pyade-python"
      ],
      "execution_count": 1,
      "outputs": [
        {
          "output_type": "stream",
          "text": [
            "Collecting pyade-python\n",
            "  Downloading https://files.pythonhosted.org/packages/02/e7/aefff90c8de0ad3ff151d51507ec65a2988b7cce9126c342746f77615d9f/pyade_python-1.1-py3-none-any.whl\n",
            "Installing collected packages: pyade-python\n",
            "Successfully installed pyade-python-1.1\n"
          ],
          "name": "stdout"
        }
      ]
    },
    {
      "cell_type": "code",
      "metadata": {
        "id": "rRwqrtCmgzdZ",
        "colab_type": "code",
        "colab": {
          "base_uri": "https://localhost:8080/",
          "height": 237
        },
        "outputId": "1197d893-5bd1-427a-adff-40e2024fad81"
      },
      "source": [
        "!pip install PyFDE"
      ],
      "execution_count": 2,
      "outputs": [
        {
          "output_type": "stream",
          "text": [
            "Collecting PyFDE\n",
            "\u001b[?25l  Downloading https://files.pythonhosted.org/packages/72/f9/87f7279554d2682e3827d39c3d3a565b2fd42f7114a779e34a601c6c5079/PyFDE-1.3.0.tar.gz (397kB)\n",
            "\r\u001b[K     |▉                               | 10kB 17.1MB/s eta 0:00:01\r\u001b[K     |█▋                              | 20kB 1.7MB/s eta 0:00:01\r\u001b[K     |██▌                             | 30kB 2.1MB/s eta 0:00:01\r\u001b[K     |███▎                            | 40kB 2.5MB/s eta 0:00:01\r\u001b[K     |████▏                           | 51kB 2.0MB/s eta 0:00:01\r\u001b[K     |█████                           | 61kB 2.2MB/s eta 0:00:01\r\u001b[K     |█████▊                          | 71kB 2.4MB/s eta 0:00:01\r\u001b[K     |██████▋                         | 81kB 2.7MB/s eta 0:00:01\r\u001b[K     |███████▍                        | 92kB 2.9MB/s eta 0:00:01\r\u001b[K     |████████▎                       | 102kB 2.8MB/s eta 0:00:01\r\u001b[K     |█████████                       | 112kB 2.8MB/s eta 0:00:01\r\u001b[K     |██████████                      | 122kB 2.8MB/s eta 0:00:01\r\u001b[K     |██████████▊                     | 133kB 2.8MB/s eta 0:00:01\r\u001b[K     |███████████▌                    | 143kB 2.8MB/s eta 0:00:01\r\u001b[K     |████████████▍                   | 153kB 2.8MB/s eta 0:00:01\r\u001b[K     |█████████████▏                  | 163kB 2.8MB/s eta 0:00:01\r\u001b[K     |██████████████                  | 174kB 2.8MB/s eta 0:00:01\r\u001b[K     |██████████████▉                 | 184kB 2.8MB/s eta 0:00:01\r\u001b[K     |███████████████▊                | 194kB 2.8MB/s eta 0:00:01\r\u001b[K     |████████████████▌               | 204kB 2.8MB/s eta 0:00:01\r\u001b[K     |█████████████████▎              | 215kB 2.8MB/s eta 0:00:01\r\u001b[K     |██████████████████▏             | 225kB 2.8MB/s eta 0:00:01\r\u001b[K     |███████████████████             | 235kB 2.8MB/s eta 0:00:01\r\u001b[K     |███████████████████▉            | 245kB 2.8MB/s eta 0:00:01\r\u001b[K     |████████████████████▋           | 256kB 2.8MB/s eta 0:00:01\r\u001b[K     |█████████████████████▌          | 266kB 2.8MB/s eta 0:00:01\r\u001b[K     |██████████████████████▎         | 276kB 2.8MB/s eta 0:00:01\r\u001b[K     |███████████████████████         | 286kB 2.8MB/s eta 0:00:01\r\u001b[K     |████████████████████████        | 296kB 2.8MB/s eta 0:00:01\r\u001b[K     |████████████████████████▊       | 307kB 2.8MB/s eta 0:00:01\r\u001b[K     |█████████████████████████▋      | 317kB 2.8MB/s eta 0:00:01\r\u001b[K     |██████████████████████████▍     | 327kB 2.8MB/s eta 0:00:01\r\u001b[K     |███████████████████████████▎    | 337kB 2.8MB/s eta 0:00:01\r\u001b[K     |████████████████████████████    | 348kB 2.8MB/s eta 0:00:01\r\u001b[K     |████████████████████████████▉   | 358kB 2.8MB/s eta 0:00:01\r\u001b[K     |█████████████████████████████▊  | 368kB 2.8MB/s eta 0:00:01\r\u001b[K     |██████████████████████████████▌ | 378kB 2.8MB/s eta 0:00:01\r\u001b[K     |███████████████████████████████▍| 389kB 2.8MB/s eta 0:00:01\r\u001b[K     |████████████████████████████████| 399kB 2.8MB/s \n",
            "\u001b[?25hRequirement already satisfied: numpy in /usr/local/lib/python3.6/dist-packages (from PyFDE) (1.18.5)\n",
            "Building wheels for collected packages: PyFDE\n",
            "  Building wheel for PyFDE (setup.py) ... \u001b[?25l\u001b[?25hdone\n",
            "  Created wheel for PyFDE: filename=PyFDE-1.3.0-cp36-cp36m-linux_x86_64.whl size=969278 sha256=b46080b19e537e8490ede4c0fcb78949453f106840d9ea2a852322a2b9e91e2d\n",
            "  Stored in directory: /root/.cache/pip/wheels/7d/42/ba/abf21db37934e576c74fc2c9504b5cd97eb6a99e3dec1743c0\n",
            "Successfully built PyFDE\n",
            "Installing collected packages: PyFDE\n",
            "Successfully installed PyFDE-1.3.0\n"
          ],
          "name": "stdout"
        }
      ]
    },
    {
      "cell_type": "code",
      "metadata": {
        "id": "anFukot-ypn6",
        "colab_type": "code",
        "colab": {}
      },
      "source": [
        "import pyade.ilshade \n",
        "import pyade.sade \n",
        "import pyade.jso\n",
        "import pyade.shade\n",
        "import pyade.jade \n",
        "import pyfde\n",
        "import numpy as np\n",
        "import pandas as pd\n",
        "import time"
      ],
      "execution_count": 3,
      "outputs": []
    },
    {
      "cell_type": "code",
      "metadata": {
        "id": "6Oh714_-z1Ia",
        "colab_type": "code",
        "colab": {
          "base_uri": "https://localhost:8080/",
          "height": 163
        },
        "outputId": "e1e59637-27c4-4b10-80ca-c227d3f9fd9f"
      },
      "source": [
        "!git clone https://github.com/ucfilho/Raianars_July_2020 #clonar do Github\n",
        "%cd Raianars_July_2020"
      ],
      "execution_count": 4,
      "outputs": [
        {
          "output_type": "stream",
          "text": [
            "Cloning into 'Raianars_July_2020'...\n",
            "remote: Enumerating objects: 3, done.\u001b[K\n",
            "remote: Counting objects:  33% (1/3)\u001b[K\rremote: Counting objects:  66% (2/3)\u001b[K\rremote: Counting objects: 100% (3/3)\u001b[K\rremote: Counting objects: 100% (3/3), done.\u001b[K\n",
            "remote: Compressing objects:  33% (1/3)\u001b[K\rremote: Compressing objects:  66% (2/3)\u001b[K\rremote: Compressing objects: 100% (3/3)\u001b[K\rremote: Compressing objects: 100% (3/3), done.\u001b[K\n",
            "Receiving objects:   0% (1/126)   \rReceiving objects:   1% (2/126)   \rReceiving objects:   2% (3/126)   \rReceiving objects:   3% (4/126)   \rReceiving objects:   4% (6/126)   \rReceiving objects:   5% (7/126)   \rReceiving objects:   6% (8/126)   \rReceiving objects:   7% (9/126)   \rReceiving objects:   8% (11/126)   \rReceiving objects:   9% (12/126)   \rReceiving objects:  10% (13/126)   \rReceiving objects:  11% (14/126)   \rReceiving objects:  12% (16/126)   \rReceiving objects:  13% (17/126)   \rReceiving objects:  14% (18/126)   \rReceiving objects:  15% (19/126)   \rReceiving objects:  16% (21/126)   \rReceiving objects:  17% (22/126)   \rReceiving objects:  18% (23/126)   \rReceiving objects:  19% (24/126)   \rReceiving objects:  20% (26/126)   \rReceiving objects:  21% (27/126)   \rReceiving objects:  22% (28/126)   \rReceiving objects:  23% (29/126)   \rReceiving objects:  24% (31/126)   \rReceiving objects:  25% (32/126)   \rReceiving objects:  26% (33/126)   \rReceiving objects:  27% (35/126)   \rReceiving objects:  28% (36/126)   \rReceiving objects:  29% (37/126)   \rReceiving objects:  30% (38/126)   \rReceiving objects:  31% (40/126)   \rReceiving objects:  32% (41/126)   \rReceiving objects:  33% (42/126)   \rReceiving objects:  34% (43/126)   \rReceiving objects:  35% (45/126)   \rReceiving objects:  36% (46/126)   \rReceiving objects:  37% (47/126)   \rReceiving objects:  38% (48/126)   \rReceiving objects:  39% (50/126)   \rReceiving objects:  40% (51/126)   \rremote: Total 126 (delta 0), reused 0 (delta 0), pack-reused 123\u001b[K\n",
            "Receiving objects:  41% (52/126)   \rReceiving objects:  42% (53/126)   \rReceiving objects:  43% (55/126)   \rReceiving objects:  44% (56/126)   \rReceiving objects:  45% (57/126)   \rReceiving objects:  46% (58/126)   \rReceiving objects:  47% (60/126)   \rReceiving objects:  48% (61/126)   \rReceiving objects:  49% (62/126)   \rReceiving objects:  50% (63/126)   \rReceiving objects:  51% (65/126)   \rReceiving objects:  52% (66/126)   \rReceiving objects:  53% (67/126)   \rReceiving objects:  54% (69/126)   \rReceiving objects:  55% (70/126)   \rReceiving objects:  56% (71/126)   \rReceiving objects:  57% (72/126)   \rReceiving objects:  58% (74/126)   \rReceiving objects:  59% (75/126)   \rReceiving objects:  60% (76/126)   \rReceiving objects:  61% (77/126)   \rReceiving objects:  62% (79/126)   \rReceiving objects:  63% (80/126)   \rReceiving objects:  64% (81/126)   \rReceiving objects:  65% (82/126)   \rReceiving objects:  66% (84/126)   \rReceiving objects:  67% (85/126)   \rReceiving objects:  68% (86/126)   \rReceiving objects:  69% (87/126)   \rReceiving objects:  70% (89/126)   \rReceiving objects:  71% (90/126)   \rReceiving objects:  72% (91/126)   \rReceiving objects:  73% (92/126)   \rReceiving objects:  74% (94/126)   \rReceiving objects:  75% (95/126)   \rReceiving objects:  76% (96/126)   \rReceiving objects:  77% (98/126)   \rReceiving objects:  78% (99/126)   \rReceiving objects:  79% (100/126)   \rReceiving objects:  80% (101/126)   \rReceiving objects:  81% (103/126)   \rReceiving objects:  82% (104/126)   \rReceiving objects:  83% (105/126)   \rReceiving objects:  84% (106/126)   \rReceiving objects:  85% (108/126)   \rReceiving objects:  86% (109/126)   \rReceiving objects:  87% (110/126)   \rReceiving objects:  88% (111/126)   \rReceiving objects:  89% (113/126)   \rReceiving objects:  90% (114/126)   \rReceiving objects:  91% (115/126)   \rReceiving objects:  92% (116/126)   \rReceiving objects:  93% (118/126)   \rReceiving objects:  94% (119/126)   \rReceiving objects:  95% (120/126)   \rReceiving objects:  96% (121/126)   \rReceiving objects:  97% (123/126)   \rReceiving objects:  98% (124/126)   \rReceiving objects:  99% (125/126)   \rReceiving objects: 100% (126/126)   \rReceiving objects: 100% (126/126), 198.23 KiB | 4.31 MiB/s, done.\n",
            "Resolving deltas:   0% (0/62)   \rResolving deltas:   8% (5/62)   \rResolving deltas:  64% (40/62)   \rResolving deltas:  80% (50/62)   \rResolving deltas:  85% (53/62)   \rResolving deltas:  87% (54/62)   \rResolving deltas: 100% (62/62)   \rResolving deltas: 100% (62/62), done.\n",
            "/content/Raianars_July_2020\n"
          ],
          "name": "stdout"
        }
      ]
    },
    {
      "cell_type": "code",
      "metadata": {
        "id": "LnzftXkky78A",
        "colab_type": "code",
        "colab": {}
      },
      "source": [
        "import Go2Ann\n",
        "import de_soma_Insight\n",
        "import de_bounds_matriz\n",
        "from AvaliaX import AvaliaX\n",
        "from GeraIndices import GeraIndices"
      ],
      "execution_count": 5,
      "outputs": []
    },
    {
      "cell_type": "code",
      "metadata": {
        "id": "HNW92728z7fR",
        "colab_type": "code",
        "colab": {}
      },
      "source": [
        "import Function\n",
        "import Go2MinMax"
      ],
      "execution_count": 6,
      "outputs": []
    },
    {
      "cell_type": "code",
      "metadata": {
        "id": "T_C-e7aH0CZH",
        "colab_type": "code",
        "colab": {}
      },
      "source": [
        "ITE=1000 #10 # PONTOS quantas vezes vai alteral NPAR \n",
        "NPAR=100 # NUMBER OF PARTICLES\n",
        "dim=30\n",
        "RUNS=50\n",
        "fchoice='Step'  #f2\n",
        "Fun=Function.Step\n",
        "\n",
        "MIN,MAX=Go2MinMax.Intervalo(dim,fchoice)\n",
        "bounds = [(0,0)]*dim\n",
        "\n",
        "for i in range(dim):\n",
        "  bounds[i] = (MIN[i],MAX[i])"
      ],
      "execution_count": 7,
      "outputs": []
    },
    {
      "cell_type": "code",
      "metadata": {
        "id": "Nqv5qp9yzQEw",
        "colab_type": "code",
        "colab": {}
      },
      "source": [
        "############################### INPUT INFORMATION (FRANNK)\n",
        "Fc=0.1 # fator de correcao parametros da ANN\n",
        "its=1 #10 # quantas vezes vai usar o NPAR antes de alterar de novo\n",
        "mut=0.5\n",
        "crossp=0.5\n",
        "Fi=mut;CRi=crossp;# para impressão\n",
        "PAR=len(MAX) #NUM DE PARAMETROS A SER OTIMIZADOS"
      ],
      "execution_count": 8,
      "outputs": []
    },
    {
      "cell_type": "code",
      "metadata": {
        "id": "WkbM98uny0QY",
        "colab_type": "code",
        "colab": {
          "base_uri": "https://localhost:8080/",
          "height": 308
        },
        "outputId": "18bc753f-177b-4301-f149-258788449f9d"
      },
      "source": [
        "# IL-Shade\n",
        "\n",
        "BEST_AGENTS=[]\n",
        "start_time = time.time() \n",
        "for i in range(RUNS):\n",
        "  ANSWER_AGENTS=[]\n",
        "  algorithm = pyade.ilshade \n",
        "  params = algorithm.get_default_params(dim=dim) \n",
        "  params['bounds'] = np.array(bounds)\n",
        "  params['max_evals'] = ITE \n",
        "  params['func'] = Fun\n",
        "  params['max_evals'] = ITE\n",
        "  best, fit = algorithm.apply(**params)\n",
        "  for x in best:\n",
        "    ANSWER_AGENTS.append(x)\n",
        "  ANSWER_AGENTS.append(fit)\n",
        "  BEST_AGENTS.append(ANSWER_AGENTS)\n",
        "BEST_AGENTS=np.array(BEST_AGENTS)\n",
        "TIME = (time.time() - start_time)/RUNS\n",
        "BEST_AGENTS=np.array(BEST_AGENTS)\n",
        "BEST_AGENTS_ST= BEST_AGENTS[BEST_AGENTS[:,-1].argsort()]\n",
        "BEST=BEST_AGENTS_ST[0]\n",
        "WORSE=BEST_AGENTS_ST[-1]\n",
        "MEAN=np.mean(BEST_AGENTS,axis=0)\n",
        "MAXFO=BEST_AGENTS[:,-1].max()\n",
        "MINFO=BEST_AGENTS[:,-1].min()\n",
        "STD=BEST_AGENTS[:,-1].std()\n",
        "nome='IL-Shade_Fo-'+str(0)+'_CRo-'+str(0)\n",
        "print(nome,'NPAR',NPAR,'Iterações=',ITE,'Dim=',dim ,\"Min/Max=\",MIN[0],\"/\",MAX[0],'_',Fun.__name__)\n",
        "print( '\\n')\n",
        "print('MÉDIA: ',MEAN[-1])\n",
        "print('MIN __:',MINFO)\n",
        "print('MAX__: ',MAXFO)\n",
        "print('STD __:',STD)\n",
        "print(\"Tempo Médio= %.3f segundos ---\" % (TIME))\n",
        "print(RUNS,'Rodadas') \n",
        "print()\n",
        "print('BEST: ',BEST)"
      ],
      "execution_count": 9,
      "outputs": [
        {
          "output_type": "stream",
          "text": [
            "IL-Shade_Fo-0_CRo-0 NPAR 100 Iterações= 1000 Dim= 30 Min/Max= -100 / 100 _ Step\n",
            "\n",
            "\n",
            "MÉDIA:  2.446556699139745\n",
            "MIN __: 1.2639515464732103\n",
            "MAX__:  3.6140763339144772\n",
            "STD __: 0.6067773138737884\n",
            "Tempo Médio= 0.092 segundos ---\n",
            "50 Rodadas\n",
            "\n",
            "BEST:  [-0.51144856 -0.72955999 -0.40373822 -0.28774141 -0.31232123 -0.44020484\n",
            " -0.32961066 -0.46030645 -0.4232284  -0.35864143 -0.72501899 -0.62739163\n",
            " -0.35036166 -0.30046232 -0.57911862 -0.91470428 -0.18245163 -0.26385981\n",
            " -0.15075429 -0.38378053 -0.09467509 -0.5587433  -0.79460206 -0.63429188\n",
            " -0.6253209  -0.47013955 -0.42607602 -0.86502404 -0.40226728 -0.34279705\n",
            "  1.26395155]\n"
          ],
          "name": "stdout"
        }
      ]
    },
    {
      "cell_type": "code",
      "metadata": {
        "id": "v4dbY4tSsFMb",
        "colab_type": "code",
        "colab": {
          "base_uri": "https://localhost:8080/",
          "height": 308
        },
        "outputId": "8185a831-b43f-4ed5-d03d-427d6eedc0a8"
      },
      "source": [
        "# Jso\n",
        "\n",
        "BEST_AGENTS=[]\n",
        "start_time = time.time() \n",
        "for i in range(RUNS):\n",
        "  ANSWER_AGENTS=[]\n",
        "  algorithm = pyade.jso\n",
        "  params = algorithm.get_default_params(dim=dim) \n",
        "  params['bounds'] = np.array(bounds)\n",
        "  params['max_evals'] = ITE \n",
        "  params['func'] = Fun\n",
        "  best, fit = algorithm.apply(**params)\n",
        "  for x in best:\n",
        "    ANSWER_AGENTS.append(x)\n",
        "  ANSWER_AGENTS.append(fit)\n",
        "  BEST_AGENTS.append(ANSWER_AGENTS)\n",
        "BEST_AGENTS=np.array(BEST_AGENTS)\n",
        "TIME = (time.time() - start_time)/RUNS\n",
        "BEST_AGENTS=np.array(BEST_AGENTS)\n",
        "BEST_AGENTS_ST= BEST_AGENTS[BEST_AGENTS[:,-1].argsort()]\n",
        "BEST=BEST_AGENTS_ST[0]\n",
        "WORSE=BEST_AGENTS_ST[-1]\n",
        "MEAN=np.mean(BEST_AGENTS,axis=0)\n",
        "MAXFO=BEST_AGENTS[:,-1].max()\n",
        "MINFO=BEST_AGENTS[:,-1].min()\n",
        "STD=BEST_AGENTS[:,-1].std()\n",
        "nome='Jso-'+str(0)+'_CRo-'+str(0)\n",
        "print(nome,'NPAR',NPAR,'Iterações=',ITE,'Dim=',dim ,\"Min/Max=\",MIN[0],\"/\",MAX[0],'_',Fun.__name__)\n",
        "print( '\\n')\n",
        "print('MÉDIA: ',MEAN[-1])\n",
        "print('MIN __:',MINFO)\n",
        "print('MAX__: ',MAXFO)\n",
        "print('STD __:',STD)\n",
        "print(\"Tempo Médio= %.3f segundos ---\" % (TIME))\n",
        "print(RUNS,'Rodadas') \n",
        "print()\n",
        "print('BEST: ',BEST)"
      ],
      "execution_count": 10,
      "outputs": [
        {
          "output_type": "stream",
          "text": [
            "Jso-0_CRo-0 NPAR 100 Iterações= 1000 Dim= 30 Min/Max= -100 / 100 _ Step\n",
            "\n",
            "\n",
            "MÉDIA:  5.395628632256089\n",
            "MIN __: 2.8589234915826363\n",
            "MAX__:  9.403798481397114\n",
            "STD __: 1.5343659609074367\n",
            "Tempo Médio= 0.050 segundos ---\n",
            "50 Rodadas\n",
            "\n",
            "BEST:  [-0.63264846 -0.20259565 -0.55349839 -0.34591461 -0.35362464 -0.05431582\n",
            " -0.22339375 -0.21224039 -0.15693456 -0.12789551 -1.13681319 -0.28409937\n",
            " -0.51677706 -0.08512767  0.05266474 -0.44757809 -0.42175197 -0.34519223\n",
            " -0.50793937 -0.4445326  -0.22531197 -0.36941503 -0.13154408  0.29948826\n",
            " -0.16341038 -0.2715404  -0.37394967 -0.76718368 -0.46694789 -0.4409994\n",
            "  2.85892349]\n"
          ],
          "name": "stdout"
        }
      ]
    },
    {
      "cell_type": "code",
      "metadata": {
        "id": "ZkV_dpDa14C8",
        "colab_type": "code",
        "colab": {
          "base_uri": "https://localhost:8080/",
          "height": 345
        },
        "outputId": "1800bae5-f4c2-41f2-e137-77ee13659e14"
      },
      "source": [
        "# Sade\n",
        "\n",
        "BEST_AGENTS=[]\n",
        "start_time = time.time() \n",
        "for i in range(RUNS):\n",
        "  ANSWER_AGENTS=[]\n",
        "  algorithm = pyade.sade\n",
        "  params = algorithm.get_default_params(dim=dim) \n",
        "  params['bounds'] = np.array(bounds)\n",
        "  params['max_evals'] = ITE \n",
        "  params['func'] = Fun\n",
        "  best, fit = algorithm.apply(**params)\n",
        "  for x in best:\n",
        "    ANSWER_AGENTS.append(x)\n",
        "  ANSWER_AGENTS.append(fit)\n",
        "  BEST_AGENTS.append(ANSWER_AGENTS)\n",
        "BEST_AGENTS=np.array(BEST_AGENTS)\n",
        "TIME = (time.time() - start_time)/RUNS\n",
        "BEST_AGENTS=np.array(BEST_AGENTS)\n",
        "BEST_AGENTS_ST= BEST_AGENTS[BEST_AGENTS[:,-1].argsort()]\n",
        "BEST=BEST_AGENTS_ST[0]\n",
        "WORSE=BEST_AGENTS_ST[-1]\n",
        "MEAN=np.mean(BEST_AGENTS,axis=0)\n",
        "MAXFO=BEST_AGENTS[:,-1].max()\n",
        "MINFO=BEST_AGENTS[:,-1].min()\n",
        "STD=BEST_AGENTS[:,-1].std()\n",
        "nome='Sade_Fo-'+str(0)+'_CRo-'+str(0)\n",
        "print(nome,'NPAR',NPAR,'Iterações=',ITE,'Dim=',dim ,\"Min/Max=\",MIN[0],\"/\",MAX[0],'_',Fun.__name__)\n",
        "print( '\\n')\n",
        "print('MÉDIA: ',MEAN[-1])\n",
        "print('MIN __:',MINFO)\n",
        "print('MAX__: ',MAXFO)\n",
        "print('STD __:',STD)\n",
        "print(\"Tempo Médio= %.3f segundos ---\" % (TIME))\n",
        "print(RUNS,'Rodadas') \n",
        "print()\n",
        "print('BEST: ',BEST)"
      ],
      "execution_count": 11,
      "outputs": [
        {
          "output_type": "stream",
          "text": [
            "Sade_Fo-0_CRo-0 NPAR 100 Iterações= 1000 Dim= 30 Min/Max= -100 / 100 _ Step\n",
            "\n",
            "\n",
            "MÉDIA:  13.001323574909236\n",
            "MIN __: 9.471523380357297\n",
            "MAX__:  16.465568258782234\n",
            "STD __: 1.6709919968438443\n",
            "Tempo Médio= 0.051 segundos ---\n",
            "50 Rodadas\n",
            "\n",
            "BEST:  [-7.67332334e-01 -7.81914333e-01 -5.92383618e-01  5.94985920e-02\n",
            "  2.28385984e-01 -5.62197035e-01 -1.08649444e+00  3.37313585e-01\n",
            " -3.22070136e-01 -5.27024760e-01 -1.08422298e-01 -5.07455709e-01\n",
            " -8.27214054e-01  2.09146906e-01  4.56322513e-02 -2.58440964e-01\n",
            " -8.60962152e-01 -2.47430545e-01 -1.35018394e-01 -9.70627444e-01\n",
            " -1.11299695e+00 -7.20863669e-01  2.77540978e-03  4.28310239e-01\n",
            " -4.22370260e-01  1.32286476e+00 -3.86901944e-01 -7.64420088e-01\n",
            " -6.56529614e-01  3.62422642e-01  9.47152338e+00]\n"
          ],
          "name": "stdout"
        }
      ]
    },
    {
      "cell_type": "code",
      "metadata": {
        "id": "q77YsFa82zFU",
        "colab_type": "code",
        "colab": {
          "base_uri": "https://localhost:8080/",
          "height": 254
        },
        "outputId": "d97a0205-a91c-4f88-a87a-70eeebf083bd"
      },
      "source": [
        "# JADE\n",
        "algorithm = pyade.jso\n",
        "BEST_AGENTS=[]\n",
        "for i in range(RUNS):\n",
        "  ANSWER_AGENTS=[]\n",
        "  solver = pyfde.JADE(Fun, n_dim=dim, n_pop=NPAR, limits=bounds, minimize=True)\n",
        "  solver.p = 0.05\n",
        "  solver.c = 0.1\n",
        "  solver.cr = 0.5\n",
        "  solver.f = 0.5\n",
        "  best, fit = solver.run(n_it=ITE)\n",
        "  for x in best:\n",
        "    ANSWER_AGENTS.append(x)\n",
        "  ANSWER_AGENTS.append(fit)\n",
        "  BEST_AGENTS.append(ANSWER_AGENTS)\n",
        "BEST_AGENTS=np.array(BEST_AGENTS)\n",
        "TIME = (time.time() - start_time)/RUNS\n",
        "BEST_AGENTS=np.array(BEST_AGENTS)\n",
        "BEST_AGENTS_ST= BEST_AGENTS[BEST_AGENTS[:,-1].argsort()]\n",
        "BEST=BEST_AGENTS_ST[0]\n",
        "WORSE=BEST_AGENTS_ST[-1]\n",
        "MEAN=np.mean(BEST_AGENTS,axis=0)\n",
        "MAXFO=BEST_AGENTS[:,-1].max()\n",
        "MINFO=BEST_AGENTS[:,-1].min()\n",
        "STD=BEST_AGENTS[:,-1].std()\n",
        "nome='JADE_Fo-'+str(0)+'_CRo-'+str(0)\n",
        "print(nome,'NPAR',NPAR,'Iterações=',ITE,'Dim=',dim ,\"Min/Max=\",MIN[0],\"/\",MAX[0],'_',Fun.__name__)\n",
        "print( '\\n')\n",
        "print('MÉDIA: ',MEAN[-1])\n",
        "print('MIN __:',MINFO)\n",
        "print('MAX__: ',MAXFO)\n",
        "print('STD __:',STD)\n",
        "print(\"Tempo Médio= %.3f segundos ---\" % (TIME))\n",
        "print(RUNS,'Rodadas') \n",
        "print()\n",
        "print('BEST: ',BEST)"
      ],
      "execution_count": 12,
      "outputs": [
        {
          "output_type": "stream",
          "text": [
            "JADE_Fo-0_CRo-0 NPAR 100 Iterações= 1000 Dim= 30 Min/Max= -100 / 100 _ Step\n",
            "\n",
            "\n",
            "MÉDIA:  0.0\n",
            "MIN __: -0.0\n",
            "MAX__:  -0.0\n",
            "STD __: 0.0\n",
            "Tempo Médio= 1.120 segundos ---\n",
            "50 Rodadas\n",
            "\n",
            "BEST:  [-0.5 -0.5 -0.5 -0.5 -0.5 -0.5 -0.5 -0.5 -0.5 -0.5 -0.5 -0.5 -0.5 -0.5\n",
            " -0.5 -0.5 -0.5 -0.5 -0.5 -0.5 -0.5 -0.5 -0.5 -0.5 -0.5 -0.5 -0.5 -0.5\n",
            " -0.5 -0.5 -0. ]\n"
          ],
          "name": "stdout"
        }
      ]
    },
    {
      "cell_type": "code",
      "metadata": {
        "id": "gXdUgSStzppX",
        "colab_type": "code",
        "colab": {}
      },
      "source": [
        "# FRANNK START HERE !!!!!"
      ],
      "execution_count": 13,
      "outputs": []
    },
    {
      "cell_type": "code",
      "metadata": {
        "id": "raWOfeJBztuj",
        "colab_type": "code",
        "colab": {
          "base_uri": "https://localhost:8080/",
          "height": 145
        },
        "outputId": "78d5a8df-8ddb-482e-f5ad-bdc952a9512f"
      },
      "source": [
        "!git clone https://github.com/ucfilho/ANN_read_matrix #clonar do Github\n",
        "%cd ANN_read_matrix"
      ],
      "execution_count": 14,
      "outputs": [
        {
          "output_type": "stream",
          "text": [
            "Cloning into 'ANN_read_matrix'...\n",
            "remote: Enumerating objects: 20, done.\u001b[K\n",
            "remote: Counting objects:   5% (1/20)\u001b[K\rremote: Counting objects:  10% (2/20)\u001b[K\rremote: Counting objects:  15% (3/20)\u001b[K\rremote: Counting objects:  20% (4/20)\u001b[K\rremote: Counting objects:  25% (5/20)\u001b[K\rremote: Counting objects:  30% (6/20)\u001b[K\rremote: Counting objects:  35% (7/20)\u001b[K\rremote: Counting objects:  40% (8/20)\u001b[K\rremote: Counting objects:  45% (9/20)\u001b[K\rremote: Counting objects:  50% (10/20)\u001b[K\rremote: Counting objects:  55% (11/20)\u001b[K\rremote: Counting objects:  60% (12/20)\u001b[K\rremote: Counting objects:  65% (13/20)\u001b[K\rremote: Counting objects:  70% (14/20)\u001b[K\rremote: Counting objects:  75% (15/20)\u001b[K\rremote: Counting objects:  80% (16/20)\u001b[K\rremote: Counting objects:  85% (17/20)\u001b[K\rremote: Counting objects:  90% (18/20)\u001b[K\rremote: Counting objects:  95% (19/20)\u001b[K\rremote: Counting objects: 100% (20/20)\u001b[K\rremote: Counting objects: 100% (20/20), done.\u001b[K\n",
            "remote: Compressing objects:   5% (1/18)\u001b[K\rremote: Compressing objects:  11% (2/18)\u001b[K\rremote: Compressing objects:  16% (3/18)\u001b[K\rremote: Compressing objects:  22% (4/18)\u001b[K\rremote: Compressing objects:  27% (5/18)\u001b[K\rremote: Compressing objects:  33% (6/18)\u001b[K\rremote: Compressing objects:  38% (7/18)\u001b[K\rremote: Compressing objects:  44% (8/18)\u001b[K\rremote: Compressing objects:  50% (9/18)\u001b[K\rremote: Compressing objects:  55% (10/18)\u001b[K\rremote: Compressing objects:  61% (11/18)\u001b[K\rremote: Compressing objects:  66% (12/18)\u001b[K\rremote: Compressing objects:  72% (13/18)\u001b[K\rremote: Compressing objects:  77% (14/18)\u001b[K\rremote: Compressing objects:  83% (15/18)\u001b[K\rremote: Compressing objects:  88% (16/18)\u001b[K\rremote: Compressing objects:  94% (17/18)\u001b[K\rremote: Compressing objects: 100% (18/18)\u001b[K\rremote: Compressing objects: 100% (18/18), done.\u001b[K\n",
            "remote: Total 20 (delta 5), reused 0 (delta 0), pack-reused 0\u001b[K\n",
            "Unpacking objects:   5% (1/20)   \rUnpacking objects:  10% (2/20)   \rUnpacking objects:  15% (3/20)   \rUnpacking objects:  20% (4/20)   \rUnpacking objects:  25% (5/20)   \rUnpacking objects:  30% (6/20)   \rUnpacking objects:  35% (7/20)   \rUnpacking objects:  40% (8/20)   \rUnpacking objects:  45% (9/20)   \rUnpacking objects:  50% (10/20)   \rUnpacking objects:  55% (11/20)   \rUnpacking objects:  60% (12/20)   \rUnpacking objects:  65% (13/20)   \rUnpacking objects:  70% (14/20)   \rUnpacking objects:  75% (15/20)   \rUnpacking objects:  80% (16/20)   \rUnpacking objects:  85% (17/20)   \rUnpacking objects:  90% (18/20)   \rUnpacking objects:  95% (19/20)   \rUnpacking objects: 100% (20/20)   \rUnpacking objects: 100% (20/20), done.\n",
            "/content/Raianars_July_2020/ANN_read_matrix\n"
          ],
          "name": "stdout"
        }
      ]
    },
    {
      "cell_type": "code",
      "metadata": {
        "id": "N2lyPfivzwGv",
        "colab_type": "code",
        "colab": {
          "base_uri": "https://localhost:8080/",
          "height": 1000
        },
        "outputId": "be69d40a-01f5-4bb1-d58a-7c0602f9e1e4"
      },
      "source": [
        "ANN_F=pd.read_csv('ANN_INSIGHT_Valor_F.csv')\n",
        "ANN_CR=pd.read_csv('ANN_INSIGHT_CR.csv')\n",
        "syn0_F,syn1_F,X_max_F,X_min_F=Go2Ann.GetMatriz(ANN_F)\n",
        "syn0_CR,syn1_CR,X_max_CR,X_min_CR=Go2Ann.GetMatriz(ANN_CR)\n",
        "fields = ['DI RELATIVO','FRAC Its','Fo','CRo']\n",
        "\n",
        "#TOTAL=7*dim*its*ITE\n",
        "TOTAL=10*dim*its*ITE\n",
        "TOTAL=int(TOTAL/2)   # CONFERIR SE ESTE EH O MELHOR LUGAR\n",
        "\n",
        "dimensions=len(MAX)\n",
        "start_time = time.time() #INICIALIZA CONTAGEM DO TEMPO\n",
        "\n",
        "MAX_P=np.zeros(ITE) # ATENCAO para variar F e Cr MAX_P passa a ser 3 vezes maior\n",
        "MIN_P=np.zeros(ITE) # ATENCAO para variar F e Cr MIN_P passa a ser 3 vezes maior\n",
        "\n",
        "for i in range(dim):\n",
        "  MAX_P[i]=MAX[i] \n",
        "  MIN_P[i]=MIN[i]\n",
        "\n",
        "rodadas=1\n",
        "for i in range(rodadas):\n",
        "  SOMA=0\n",
        "  pop = np.random.rand(NPAR, dimensions)\n",
        "  diff=np.zeros(PAR)\n",
        "  for ii in range(PAR):\n",
        "    diff[ii] = MAX[ii]-MIN[ii]\n",
        "  X = MIN + pop * diff\n",
        "    \n",
        "  PONTOS=ITE # DIVISOES DA POPULACAO\n",
        "start_time = time.time()\n",
        "BEST_AGENTS=[]\n",
        "MAT_stat=[]\n",
        "for i in range(RUNS):\n",
        "    MAT=[] \n",
        "    mut=Fi\n",
        "    crossp=CRi\n",
        "    SOMA=0\n",
        "    SOMAf=0\n",
        "    start_ite = time.time()\n",
        "    delta_time=(start_ite-start_time)/60\n",
        "    print('ite=',i,'total=50','time=',delta_time)\n",
        "    pop = np.random.rand(NPAR, dim)\n",
        "    diff=np.zeros(PAR)\n",
        "    for ii in range(PAR):\n",
        "      diff[ii] = MAX[ii]-MIN[ii]\n",
        "    X = MIN + pop * diff\n",
        "    Xf = MIN + pop * diff\n",
        "    \n",
        "    DIo=1e99\n",
        "  \n",
        "    CRo=crossp;Fo=mut;\n",
        "    Fitness = np.asarray([Fun(ind) for ind in X])\n",
        "\n",
        "    XY,BEST_XY,BESTo,FOBESTo=AvaliaX(X,Fitness)\n",
        "    nrow,ncol=X.shape\n",
        "\n",
        "    QUANT=17;MAT_INDo=np.zeros((1,QUANT)); # quantos indices esta fazendo\n",
        "    MAT_INDo[0,5]=nrow  # VALOR NP\n",
        "    MAT_INDo[0,6]=Fo    # VALOR Fo   \n",
        "    MAT_INDo[0,7]=CRo   # VALOR CRo\n",
        "  \n",
        "    MAT_INDo=GeraIndices(X,BESTo,FOBESTo,DIo,MAT_INDo,SOMA,TOTAL,syn0_F,\n",
        "                        syn1_F,X_max_F,X_min_F,syn0_CR,syn1_CR,X_max_CR,\n",
        "                        X_min_CR,Fc,fields,Fun)\n",
        "  \n",
        "    DIo=np.copy(MAT_INDo[0,0])\n",
        "    MAT_INDo[0,15]=Fo    # VALOR Fo   \n",
        "    MAT_INDo[0,16]=CRo   # VALOR CRo\n",
        "    #ind_crossp=ITE-1\n",
        "\n",
        "    \n",
        "    for k in range(ITE):\n",
        "      X,BEST,FOBEST,XY,BEST_XY,SOMA= de_soma_Insight.de(MAX,MIN, mut, crossp,NPAR,its,Fun,X,SOMA,TOTAL)\n",
        "      #Xf,BESTf,FOBESTf,XYf,BEST_XYf,SOMAf= de_soma_Insight.de(MAX,MIN, Fi, CRi, NPAR,its,Fun,Xf,SOMAf,TOTAL)\n",
        "\n",
        "      \n",
        "      MAT_IND=GeraIndices(X,BESTo,FOBESTo,DIo,MAT_INDo,SOMA,TOTAL,syn0_F,\n",
        "                          syn1_F,X_max_F,X_min_F,syn0_CR,syn1_CR,X_max_CR,\n",
        "                          X_min_CR,Fc,fields,Fun)\n",
        "    \n",
        "      BESTo=np.copy(BEST);FOBESTo=np.copy(FOBEST);\n",
        "      MAT.append(MAT_IND.ravel())\n",
        "    \n",
        "      MAT_INDo[0,6]=MAT_IND[0,15]   # VALOR Fo   \n",
        "      MAT_INDo[0,7]=MAT_IND[0,16]   # VALOR CRo\n",
        "      mut=MAT_IND[0,15]\n",
        "      crossp=MAT_IND[0,16]\n",
        "\n",
        "      Fitness = np.asarray([Fun(ind) for ind in X])\n",
        "      #Fitnessf = np.asarray([Fun(ind) for ind in Xf])\n",
        "      Maior=np.argmax(Fitness)\n",
        "      #Maiorf=np.argmax(Fitnessf)\n",
        "      Menor=np.argmin(Fitness)\n",
        "      #Menorf=np.argmin(Fitnessf)\n",
        "\n",
        "      #X[Maior,:]=np.copy(Xf[Menorf,:])\n",
        "      #Xf[Maiorf,:]=np.copy(X[Menor,:])\n",
        "      \n",
        "    BEST_AGENTS.append(BEST_XY)\n",
        "    MAT_stat.append(MAT)\n",
        "    #print(\"GlobalParam e Solucao:\", BEST,\"Funcao=\",FOBEST)\n",
        "    \n",
        "############################## Cálculo dos Parâmetros de Avaliação   \n",
        "TIME = (time.time() - start_time)/RUNS\n",
        "BEST_AGENTS=np.array(BEST_AGENTS)\n",
        "BEST_AGENTS_ST= BEST_AGENTS[BEST_AGENTS[:,-1].argsort()]\n",
        "BEST=BEST_AGENTS_ST[0]\n",
        "WORSE=BEST_AGENTS_ST[-1]\n",
        "MEAN=np.mean(BEST_AGENTS,axis=0)\n",
        "MAXFO=BEST_AGENTS[:,-1].max()\n",
        "MINFO=BEST_AGENTS[:,-1].min()\n",
        "STD=BEST_AGENTS[:,-1].std()\n",
        "\n",
        "nome='_ANN_Div3x4_Fo-'+str(Fi)+'_CRo-'+str(CRi)+'_D-'+str(dim)+'_Interv-'+str(ITE)\n",
        "print('DE_POP_VAR_F_CR','TOTAL=',TOTAL,'Iterações=',ITE*its,'Dim=', PAR,\"Min/Max=\",MIN[0],\"/\",MAX[0],'_',Fun.__name__)\n",
        "print(nome, '\\n')\n",
        "print('MÉDIA: ',MEAN[-1])\n",
        "print('MIN __:',MINFO)\n",
        "print('MAX__: ',MAXFO)\n",
        "print('STD __:',STD)\n",
        "print(\"Tempo Médio= %.3f segundos ---\" % (TIME))\n",
        "print(RUNS,'Rodadas') \n",
        "print()\n",
        "print('BEST: ',BEST)"
      ],
      "execution_count": 15,
      "outputs": [
        {
          "output_type": "stream",
          "text": [
            "ite= 0 total=50 time= 7.836023966471354e-06\n",
            "ite= 1 total=50 time= 1.047052756945292\n",
            "ite= 2 total=50 time= 2.077510706583659\n",
            "ite= 3 total=50 time= 3.114498778184255\n",
            "ite= 4 total=50 time= 4.151062361399332\n",
            "ite= 5 total=50 time= 5.183198630809784\n",
            "ite= 6 total=50 time= 6.224719909826915\n",
            "ite= 7 total=50 time= 7.252164522806804\n",
            "ite= 8 total=50 time= 8.295836182435353\n",
            "ite= 9 total=50 time= 9.342043856779734\n",
            "ite= 10 total=50 time= 10.380247108141582\n",
            "ite= 11 total=50 time= 11.423509609699249\n",
            "ite= 12 total=50 time= 12.468550546964009\n",
            "ite= 13 total=50 time= 13.512257432937622\n",
            "ite= 14 total=50 time= 14.548325530687968\n",
            "ite= 15 total=50 time= 15.588960476716359\n",
            "ite= 16 total=50 time= 16.632522428035735\n",
            "ite= 17 total=50 time= 17.659304269154866\n",
            "ite= 18 total=50 time= 18.704927257696788\n",
            "ite= 19 total=50 time= 19.743498659133913\n",
            "ite= 20 total=50 time= 20.786247690518696\n",
            "ite= 21 total=50 time= 21.824168264865875\n",
            "ite= 22 total=50 time= 22.857640381654104\n",
            "ite= 23 total=50 time= 23.88619020382563\n",
            "ite= 24 total=50 time= 24.933883702754976\n",
            "ite= 25 total=50 time= 25.97370629310608\n",
            "ite= 26 total=50 time= 27.011809786160786\n",
            "ite= 27 total=50 time= 28.049662776788075\n",
            "ite= 28 total=50 time= 29.082665463288624\n",
            "ite= 29 total=50 time= 30.126521583398183\n",
            "ite= 30 total=50 time= 31.157872009277344\n",
            "ite= 31 total=50 time= 32.18710517883301\n",
            "ite= 32 total=50 time= 33.23029472827911\n",
            "ite= 33 total=50 time= 34.26079550981522\n",
            "ite= 34 total=50 time= 35.29004762570063\n",
            "ite= 35 total=50 time= 36.32876291275024\n",
            "ite= 36 total=50 time= 37.36085657676061\n",
            "ite= 37 total=50 time= 38.396850593884785\n",
            "ite= 38 total=50 time= 39.44017417033513\n",
            "ite= 39 total=50 time= 40.48419071038564\n",
            "ite= 40 total=50 time= 41.52156600554784\n",
            "ite= 41 total=50 time= 42.549025654792786\n",
            "ite= 42 total=50 time= 43.58884330590566\n",
            "ite= 43 total=50 time= 44.61832109689713\n",
            "ite= 44 total=50 time= 45.64648982683818\n",
            "ite= 45 total=50 time= 46.690049695968625\n",
            "ite= 46 total=50 time= 47.72538084586461\n",
            "ite= 47 total=50 time= 48.75711190700531\n",
            "ite= 48 total=50 time= 49.79140158891678\n",
            "ite= 49 total=50 time= 50.819139202435814\n",
            "DE_POP_VAR_F_CR TOTAL= 150000 Iterações= 1000 Dim= 30 Min/Max= -100 / 100 _ Step\n",
            "_ANN_Div3x4_Fo-0.5_CRo-0.5_D-30_Interv-1000 \n",
            "\n",
            "MÉDIA:  8.761966705233636e-15\n",
            "MIN __: 2.1223439606188226e-16\n",
            "MAX__:  3.015107128723136e-14\n",
            "STD __: 7.716380984625733e-15\n",
            "Tempo Médio= 62.227 segundos ---\n",
            "50 Rodadas\n",
            "\n",
            "BEST:  [-4.99999999e-01 -4.99999995e-01 -4.99999999e-01 -4.99999996e-01\n",
            " -5.00000005e-01 -4.99999999e-01 -4.99999999e-01 -4.99999997e-01\n",
            " -5.00000001e-01 -4.99999998e-01 -5.00000001e-01 -5.00000002e-01\n",
            " -4.99999999e-01 -4.99999997e-01 -5.00000002e-01 -5.00000003e-01\n",
            " -4.99999998e-01 -4.99999997e-01 -5.00000002e-01 -4.99999999e-01\n",
            " -5.00000000e-01 -4.99999998e-01 -4.99999998e-01 -5.00000006e-01\n",
            " -4.99999999e-01 -5.00000004e-01 -4.99999998e-01 -4.99999999e-01\n",
            " -4.99999999e-01 -5.00000002e-01  2.12234396e-16]\n"
          ],
          "name": "stdout"
        }
      ]
    }
  ]
}