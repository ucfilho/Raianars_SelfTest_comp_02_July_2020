{
  "nbformat": 4,
  "nbformat_minor": 0,
  "metadata": {
    "accelerator": "GPU",
    "colab": {
      "name": "DE_STAT_2000_Schwefel_222_D_30_jul_23_2020.ipynb",
      "provenance": [],
      "collapsed_sections": [],
      "include_colab_link": true
    },
    "kernelspec": {
      "display_name": "Python 3",
      "language": "python",
      "name": "python3"
    },
    "language_info": {
      "codemirror_mode": {
        "name": "ipython",
        "version": 3
      },
      "file_extension": ".py",
      "mimetype": "text/x-python",
      "name": "python",
      "nbconvert_exporter": "python",
      "pygments_lexer": "ipython3",
      "version": "3.6.1"
    }
  },
  "cells": [
    {
      "cell_type": "markdown",
      "metadata": {
        "id": "view-in-github",
        "colab_type": "text"
      },
      "source": [
        "<a href=\"https://colab.research.google.com/github/ucfilho/Raianars_SelfTest_comp_02_July_2020/blob/master/DE_STAT_2000_Schwefel_222_D_30_jul_23_2020.ipynb\" target=\"_parent\"><img src=\"https://colab.research.google.com/assets/colab-badge.svg\" alt=\"Open In Colab\"/></a>"
      ]
    },
    {
      "cell_type": "code",
      "metadata": {
        "colab_type": "code",
        "id": "cG5nOUQ9Eucw",
        "colab": {}
      },
      "source": [
        "# Noisy_Quartic\n",
        "# In the paper Ngen=3000 NPAR=100 RUNS=50 dim=30\n",
        "# JADE: Adaptive Differential Evolution with Optional External Archive\n"
      ],
      "execution_count": 1,
      "outputs": []
    },
    {
      "cell_type": "code",
      "metadata": {
        "colab_type": "code",
        "id": "v1OxgXboBKoG",
        "colab": {}
      },
      "source": [
        "import time\n",
        "import matplotlib.pyplot as plt\n",
        "import numpy as np\n",
        "from random import randint"
      ],
      "execution_count": 2,
      "outputs": []
    },
    {
      "cell_type": "code",
      "metadata": {
        "id": "qMRpE0dGULCI",
        "colab_type": "code",
        "colab": {
          "base_uri": "https://localhost:8080/",
          "height": 158
        },
        "outputId": "b0222702-0889-4c47-e601-b199eb56d19c"
      },
      "source": [
        "!git clone https://github.com/ucfilho/Raianars_July_2020 #clonar do Github\n",
        "%cd Raianars_July_2020"
      ],
      "execution_count": 3,
      "outputs": [
        {
          "output_type": "stream",
          "text": [
            "Cloning into 'Raianars_July_2020'...\n",
            "remote: Enumerating objects: 43, done.\u001b[K\n",
            "remote: Counting objects: 100% (43/43), done.\u001b[K\n",
            "remote: Compressing objects: 100% (43/43), done.\u001b[K\n",
            "remote: Total 166 (delta 21), reused 0 (delta 0), pack-reused 123\u001b[K\n",
            "Receiving objects: 100% (166/166), 324.96 KiB | 1.13 MiB/s, done.\n",
            "Resolving deltas: 100% (83/83), done.\n",
            "/content/Raianars_July_2020\n"
          ],
          "name": "stdout"
        }
      ]
    },
    {
      "cell_type": "code",
      "metadata": {
        "colab_type": "code",
        "id": "_E15mKFURR6O",
        "colab": {}
      },
      "source": [
        "import de_soma_Insight\n",
        "import de_bounds_matriz\n",
        "import Function\n",
        "import Go2MinMax\n",
        "from AvaliaX import AvaliaX\n",
        "\n",
        "\n",
        "############################### DADOS DE ENTRADA \n",
        "RUNS=50 #NÚMERO DE RODADAS\n",
        "its=1 #10 # quantas vezes vai usar o NPAR antes de alterar de novo\n",
        "ITE=2000 #10 # PONTOS quantas vezes vai alteral NPAR \n",
        "NPAR=100\n",
        "\n",
        "mut=0.5\n",
        "crossp=0.5\n",
        "dim=30\n",
        "\n",
        "#fchoice='Rastrigin' #fchoice='Michalewicz' #fchoice='Schwefel'\n",
        "fchoice='Schwefel_222'  \n",
        "Fun=Function.Schwefel_222\n",
        "\n",
        "MIN,MAX=Go2MinMax.Intervalo(dim,fchoice)\n",
        "\n",
        "TOTAL=10*dim*its*ITE\n",
        "SOMA=0"
      ],
      "execution_count": 4,
      "outputs": []
    },
    {
      "cell_type": "code",
      "metadata": {
        "colab_type": "code",
        "id": "rnX8ttNopd1G",
        "colab": {
          "base_uri": "https://localhost:8080/",
          "height": 830
        },
        "outputId": "7d360d0d-be8a-4292-d6fa-8336d39fd2f5"
      },
      "source": [
        "start_time = time.time()\n",
        "BEST_AGENTS=[]\n",
        "MAT_stat=[]\n",
        "\n",
        "for i in range(RUNS):\n",
        "\n",
        "    pop = np.random.rand(NPAR, dim)\n",
        "    diff=np.zeros(dim)\n",
        "    for ii in range(dim):\n",
        "      diff[ii] = MAX[ii]-MIN[ii]\n",
        "    X = MIN + pop * diff\n",
        "\n",
        "    SOMA=0\n",
        "\n",
        "    for k in range(ITE):\n",
        "      X,BEST,FOBEST,XY,BEST_XY,SOMA= de_soma_Insight.de(MAX,MIN, mut, crossp,dim,its,Fun,X,SOMA,TOTAL)\n",
        "\n",
        "    start_run = (time.time()-start_time)/60\n",
        "    print('run=',i,'total=50','Fobj=',FOBEST,'Time=',start_run)  \n",
        "    BEST_AGENTS.append(BEST_XY)"
      ],
      "execution_count": 5,
      "outputs": [
        {
          "output_type": "stream",
          "text": [
            "run= 0 total=50 Fobj= 2.0144808672991758e-17 Time= 0.2611782948176066\n",
            "run= 1 total=50 Fobj= 2.414086452607794e-17 Time= 0.5160239775975545\n",
            "run= 2 total=50 Fobj= 1.4415186911291095e-17 Time= 0.7714316884676615\n",
            "run= 3 total=50 Fobj= 2.1560682338130376e-17 Time= 1.0257787823677063\n",
            "run= 4 total=50 Fobj= 1.6300056585106695e-17 Time= 1.2790054241816202\n",
            "run= 5 total=50 Fobj= 1.9892985536223886e-17 Time= 1.5356770356496174\n",
            "run= 6 total=50 Fobj= 1.0679256831381577e-17 Time= 1.7877408663431804\n",
            "run= 7 total=50 Fobj= 2.1922302231094098e-17 Time= 2.0388405958811444\n",
            "run= 8 total=50 Fobj= 1.542686733105325e-17 Time= 2.2885191837946572\n",
            "run= 9 total=50 Fobj= 2.0510641927875455e-17 Time= 2.539655391375224\n",
            "run= 10 total=50 Fobj= 4.429499628907966e-17 Time= 2.7932732780774434\n",
            "run= 11 total=50 Fobj= 1.223908108904627e-17 Time= 3.0459795077641805\n",
            "run= 12 total=50 Fobj= 9.226578960116152e-18 Time= 3.2956771850585938\n",
            "run= 13 total=50 Fobj= 2.0516344351959524e-17 Time= 3.5464747389157614\n",
            "run= 14 total=50 Fobj= 2.0609830106858997e-17 Time= 3.7951180934906006\n",
            "run= 15 total=50 Fobj= 2.5156952145193684e-17 Time= 4.0454239050547285\n",
            "run= 16 total=50 Fobj= 1.0732095328118411e-17 Time= 4.297557576497396\n",
            "run= 17 total=50 Fobj= 1.863599496007851e-17 Time= 4.551051612695058\n",
            "run= 18 total=50 Fobj= 1.4463528593646645e-17 Time= 4.805623781681061\n",
            "run= 19 total=50 Fobj= 2.493691225462411e-17 Time= 5.057818961143494\n",
            "run= 20 total=50 Fobj= 1.9229646025119322e-17 Time= 5.3092696150143945\n",
            "run= 21 total=50 Fobj= 3.0557286933354746e-17 Time= 5.5628706296285\n",
            "run= 22 total=50 Fobj= 1.6162975690951503e-17 Time= 5.813930368423462\n",
            "run= 23 total=50 Fobj= 3.6110917749164445e-17 Time= 6.063784539699554\n",
            "run= 24 total=50 Fobj= 2.516981939901857e-17 Time= 6.319717188676198\n",
            "run= 25 total=50 Fobj= 2.1452012957194227e-17 Time= 6.569589348634084\n",
            "run= 26 total=50 Fobj= 3.3905627931989615e-17 Time= 6.819516849517822\n",
            "run= 27 total=50 Fobj= 1.414339199362543e-17 Time= 7.070026099681854\n",
            "run= 28 total=50 Fobj= 9.868018321436137e-18 Time= 7.321769372622172\n",
            "run= 29 total=50 Fobj= 2.735327220447393e-17 Time= 7.570795400937398\n",
            "run= 30 total=50 Fobj= 1.4199793694220424e-17 Time= 7.821996859709421\n",
            "run= 31 total=50 Fobj= 1.496231742306803e-17 Time= 8.073852169513703\n",
            "run= 32 total=50 Fobj= 1.6644533643317916e-17 Time= 8.326676972707112\n",
            "run= 33 total=50 Fobj= 7.857016651476585e-17 Time= 8.5811674396197\n",
            "run= 34 total=50 Fobj= 3.9796662258616166e-17 Time= 8.835169466336568\n",
            "run= 35 total=50 Fobj= 3.5095035577805127e-17 Time= 9.089027361075084\n",
            "run= 36 total=50 Fobj= 1.7413006683981187e-17 Time= 9.342071771621704\n",
            "run= 37 total=50 Fobj= 1.2806388680259959e-17 Time= 9.593652447064718\n",
            "run= 38 total=50 Fobj= 2.953857327491605e-17 Time= 9.847001059850056\n",
            "run= 39 total=50 Fobj= 2.5179860487460216e-17 Time= 10.105491530895232\n",
            "run= 40 total=50 Fobj= 2.5531911115294688e-17 Time= 10.358090178171794\n",
            "run= 41 total=50 Fobj= 1.6716944287323862e-17 Time= 10.609743734200796\n",
            "run= 42 total=50 Fobj= 6.020484309484309e-17 Time= 10.865938886006672\n",
            "run= 43 total=50 Fobj= 1.1618803816399243e-17 Time= 11.115364257494608\n",
            "run= 44 total=50 Fobj= 2.3965151207636674e-17 Time= 11.368736072381337\n",
            "run= 45 total=50 Fobj= 5.0421491600890555e-17 Time= 11.617313690980275\n",
            "run= 46 total=50 Fobj= 1.0085179582632309e-17 Time= 11.86703318754832\n",
            "run= 47 total=50 Fobj= 5.0687288418129526e-17 Time= 12.121419576803843\n",
            "run= 48 total=50 Fobj= 2.0645573727829686e-17 Time= 12.3705255707105\n",
            "run= 49 total=50 Fobj= 2.4164678003422692e-17 Time= 12.623454928398132\n"
          ],
          "name": "stdout"
        }
      ]
    },
    {
      "cell_type": "code",
      "metadata": {
        "colab_type": "code",
        "id": "lNSN5X-wskcx",
        "colab": {
          "base_uri": "https://localhost:8080/",
          "height": 310
        },
        "outputId": "2f991d38-a691-45ad-e3b7-450673df6c30"
      },
      "source": [
        "############################## Cálculo dos Parâmetros de Avaliação   \n",
        "TIME = (time.time() - start_time)/RUNS\n",
        "BEST_AGENTS=np.array(BEST_AGENTS)\n",
        "BEST_AGENTS_ST= BEST_AGENTS[BEST_AGENTS[:,-1].argsort()]\n",
        "BEST=BEST_AGENTS_ST[0]\n",
        "WORSE=BEST_AGENTS_ST[-1]\n",
        "MEAN=np.mean(BEST_AGENTS,axis=0)\n",
        "MAXFO=BEST_AGENTS[:,-1].max()\n",
        "MINFO=BEST_AGENTS[:,-1].min()\n",
        "STD=BEST_AGENTS[:,-1].std()\n",
        "\n",
        "nome='_DE_STAT_Fo-'+str(mut)+'_CRo-'+str(crossp)+'_D-'+str(dim)+'_Interv-'+str(ITE)\n",
        "print('DE_F_CR','TOTAL=',TOTAL,'Iterações=',ITE*its,'Dim=', dim,\"Min/Max=\",MIN[0],\"/\",MAX[0],'_',Fun.__name__)\n",
        "print(nome, '\\n')\n",
        "#print('BEST: ',BEST)\n",
        "#print('MÉDIA: ',MEAN)\n",
        "print('MÉDIA: ',MEAN[-1])\n",
        "print('MIN __:',MINFO)\n",
        "print('MAX__: ',MAXFO)\n",
        "print('STD __:',STD)\n",
        "print(\"Tempo Médio= %.3f segundos ---\" % (TIME))\n",
        "print(RUNS,'Rodadas') \n",
        "print()\n",
        "print('BEST: ',BEST)\n",
        "# print('melhor=',BEST_AGENTS[BEST_INDEX])"
      ],
      "execution_count": 6,
      "outputs": [
        {
          "output_type": "stream",
          "text": [
            "DE_F_CR TOTAL= 600000 Iterações= 2000 Dim= 30 Min/Max= -10 / 10 _ Schwefel_222\n",
            "_DE_STAT_Fo-0.5_CRo-0.5_D-30_Interv-2000 \n",
            "\n",
            "MÉDIA:  2.3960142785381783e-17\n",
            "MIN __: 9.226578960116152e-18\n",
            "MAX__:  7.857016651476585e-17\n",
            "STD __: 1.3529236649669504e-17\n",
            "Tempo Médio= 15.149 segundos ---\n",
            "50 Rodadas\n",
            "\n",
            "BEST:  [-3.24324259e-19 -1.09834324e-19 -3.96099578e-19 -3.59974272e-19\n",
            "  2.93477003e-19  4.84375688e-19 -1.08732412e-19  4.45906881e-19\n",
            "  6.73052667e-19  2.97112904e-19  4.05260068e-20  1.98638095e-21\n",
            " -5.57267970e-20 -4.11378413e-19 -2.18398082e-19 -1.51440950e-19\n",
            "  1.11461964e-18  1.96900757e-19 -7.40581799e-20 -1.73042952e-19\n",
            " -2.11385014e-19 -2.69901832e-19  7.66293974e-19  6.17055723e-19\n",
            " -5.65860681e-20  2.96536332e-20  2.51529098e-19  3.20460042e-19\n",
            "  5.98242370e-19  1.74503055e-19  9.22657896e-18]\n"
          ],
          "name": "stdout"
        }
      ]
    }
  ]
}