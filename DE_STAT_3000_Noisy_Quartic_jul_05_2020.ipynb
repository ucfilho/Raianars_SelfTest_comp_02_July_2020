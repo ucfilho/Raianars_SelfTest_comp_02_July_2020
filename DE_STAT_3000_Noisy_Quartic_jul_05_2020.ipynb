{
  "nbformat": 4,
  "nbformat_minor": 0,
  "metadata": {
    "accelerator": "GPU",
    "colab": {
      "name": "DE_STAT_3000_Noisy_Quartic_jul_05_2020.ipynb",
      "provenance": [],
      "collapsed_sections": [],
      "include_colab_link": true
    },
    "kernelspec": {
      "display_name": "Python 3",
      "language": "python",
      "name": "python3"
    },
    "language_info": {
      "codemirror_mode": {
        "name": "ipython",
        "version": 3
      },
      "file_extension": ".py",
      "mimetype": "text/x-python",
      "name": "python",
      "nbconvert_exporter": "python",
      "pygments_lexer": "ipython3",
      "version": "3.6.1"
    }
  },
  "cells": [
    {
      "cell_type": "markdown",
      "metadata": {
        "id": "view-in-github",
        "colab_type": "text"
      },
      "source": [
        "<a href=\"https://colab.research.google.com/github/ucfilho/Raianars_SelfTest_comp_02_July_2020/blob/master/DE_STAT_3000_Noisy_Quartic_jul_05_2020.ipynb\" target=\"_parent\"><img src=\"https://colab.research.google.com/assets/colab-badge.svg\" alt=\"Open In Colab\"/></a>"
      ]
    },
    {
      "cell_type": "code",
      "metadata": {
        "colab_type": "code",
        "id": "cG5nOUQ9Eucw",
        "colab": {}
      },
      "source": [
        "# Noisy_Quartic\n",
        "# In the paper Ngen=3000 NPAR=100 RUNS=50 dim=30\n",
        "# JADE: Adaptive Differential Evolution with Optional External Archive\n"
      ],
      "execution_count": 1,
      "outputs": []
    },
    {
      "cell_type": "code",
      "metadata": {
        "colab_type": "code",
        "id": "v1OxgXboBKoG",
        "colab": {}
      },
      "source": [
        "import time\n",
        "import matplotlib.pyplot as plt\n",
        "import numpy as np\n",
        "from random import randint"
      ],
      "execution_count": 2,
      "outputs": []
    },
    {
      "cell_type": "code",
      "metadata": {
        "id": "qMRpE0dGULCI",
        "colab_type": "code",
        "colab": {
          "base_uri": "https://localhost:8080/",
          "height": 158
        },
        "outputId": "87b066d6-b1d9-45cd-90d1-1787db13e7f9"
      },
      "source": [
        "!git clone https://github.com/ucfilho/Raianars_July_2020 #clonar do Github\n",
        "%cd Raianars_July_2020"
      ],
      "execution_count": 3,
      "outputs": [
        {
          "output_type": "stream",
          "text": [
            "Cloning into 'Raianars_July_2020'...\n",
            "remote: Enumerating objects: 9, done.\u001b[K\n",
            "remote: Counting objects:  11% (1/9)\u001b[K\rremote: Counting objects:  22% (2/9)\u001b[K\rremote: Counting objects:  33% (3/9)\u001b[K\rremote: Counting objects:  44% (4/9)\u001b[K\rremote: Counting objects:  55% (5/9)\u001b[K\rremote: Counting objects:  66% (6/9)\u001b[K\rremote: Counting objects:  77% (7/9)\u001b[K\rremote: Counting objects:  88% (8/9)\u001b[K\rremote: Counting objects: 100% (9/9)\u001b[K\rremote: Counting objects: 100% (9/9), done.\u001b[K\n",
            "remote: Compressing objects: 100% (9/9), done.\u001b[K\n",
            "remote: Total 132 (delta 3), reused 0 (delta 0), pack-reused 123\u001b[K\n",
            "Receiving objects: 100% (132/132), 200.33 KiB | 6.91 MiB/s, done.\n",
            "Resolving deltas: 100% (65/65), done.\n",
            "/content/Raianars_July_2020\n"
          ],
          "name": "stdout"
        }
      ]
    },
    {
      "cell_type": "code",
      "metadata": {
        "colab_type": "code",
        "id": "_E15mKFURR6O",
        "colab": {}
      },
      "source": [
        "import de_soma_Insight\n",
        "import de_bounds_matriz\n",
        "import Function\n",
        "import Go2MinMax\n",
        "from AvaliaX import AvaliaX\n",
        "\n",
        "\n",
        "############################### DADOS DE ENTRADA \n",
        "RUNS=50 #NÚMERO DE RODADAS\n",
        "its=1 #10 # quantas vezes vai usar o NPAR antes de alterar de novo\n",
        "ITE=3000 #10 # PONTOS quantas vezes vai alteral NPAR \n",
        "NPAR=100\n",
        "\n",
        "mut=0.5\n",
        "crossp=0.5\n",
        "dim=30\n",
        "\n",
        "#fchoice='Rastrigin' #fchoice='Michalewicz' #fchoice='Schwefel'\n",
        "fchoice='Noisy_Quartic'\n",
        "Fun=Function.Noisy_Quartic\n",
        "\n",
        "MIN,MAX=Go2MinMax.Intervalo(dim,fchoice)\n",
        "\n",
        "TOTAL=10*dim*its*ITE\n"
      ],
      "execution_count": 4,
      "outputs": []
    },
    {
      "cell_type": "code",
      "metadata": {
        "colab_type": "code",
        "id": "rnX8ttNopd1G",
        "colab": {
          "base_uri": "https://localhost:8080/",
          "height": 905
        },
        "outputId": "d6b57bba-bc2d-4054-d433-1bba5401b2ea"
      },
      "source": [
        "start_time = time.time()\n",
        "BEST_AGENTS=[]\n",
        "MAT_stat=[]\n",
        "\n",
        "for i in range(RUNS):\n",
        "\n",
        "    pop = np.random.rand(NPAR, dim)\n",
        "    diff=np.zeros(dim)\n",
        "    for ii in range(dim):\n",
        "      diff[ii] = MAX[ii]-MIN[ii]\n",
        "    X = MIN + pop * diff\n",
        "\n",
        "    SOMA=0\n",
        "\n",
        "    for k in range(ITE):\n",
        "      X,BEST,FOBEST,XY,BEST_XY,SOMA= de_soma_Insight.de(MAX,MIN, mut, crossp,dim,its,Fun,X,SOMA,TOTAL)\n",
        "\n",
        "    start_run = (time.time()-start_time)/60\n",
        "    print('run=',i,'total=50','Fobj=',FOBEST,'Time=',start_run)  \n",
        "    BEST_AGENTS.append(BEST_XY)"
      ],
      "execution_count": 5,
      "outputs": [
        {
          "output_type": "stream",
          "text": [
            "run= 0 total=50 Fobj= 0.5239813525858761 Time= 0.5655799031257629\n",
            "run= 1 total=50 Fobj= 0.39780214091513155 Time= 1.1314210494359334\n",
            "run= 2 total=50 Fobj= 0.3571543584931093 Time= 1.6977716445922852\n",
            "run= 3 total=50 Fobj= 0.6119553547898324 Time= 2.2780902703603108\n",
            "run= 4 total=50 Fobj= 0.22993445032781923 Time= 2.852075477441152\n",
            "run= 5 total=50 Fobj= 0.4690391089401013 Time= 3.4236099481582642\n",
            "run= 6 total=50 Fobj= 0.1759586174040218 Time= 3.998595436414083\n",
            "run= 7 total=50 Fobj= 0.3931209655926832 Time= 4.589884471893311\n",
            "run= 8 total=50 Fobj= 0.37375559593587326 Time= 5.160937555631002\n",
            "run= 9 total=50 Fobj= 0.3492140892256705 Time= 5.730854324499766\n",
            "run= 10 total=50 Fobj= 0.2693698516014541 Time= 6.301333896319071\n",
            "run= 11 total=50 Fobj= 0.4226774852036489 Time= 6.874341777960459\n",
            "run= 12 total=50 Fobj= 0.15992058947495016 Time= 7.459254491329193\n",
            "run= 13 total=50 Fobj= 0.39840051967000967 Time= 8.029269317785898\n",
            "run= 14 total=50 Fobj= 0.29458343096215905 Time= 8.59928584098816\n",
            "run= 15 total=50 Fobj= 0.2970740586633082 Time= 9.170850658416748\n",
            "run= 16 total=50 Fobj= 0.3524199045563873 Time= 9.757643512884776\n",
            "run= 17 total=50 Fobj= 0.11021603042334863 Time= 10.328598304589589\n",
            "run= 18 total=50 Fobj= 0.28843276773110793 Time= 10.902187554041545\n",
            "run= 19 total=50 Fobj= 0.4425821042218846 Time= 11.476477857430776\n",
            "run= 20 total=50 Fobj= 0.49644124944408063 Time= 12.052115015188853\n",
            "run= 21 total=50 Fobj= 0.3540529150711992 Time= 12.634285100301106\n",
            "run= 22 total=50 Fobj= 0.31720727818436295 Time= 13.208479154109956\n",
            "run= 23 total=50 Fobj= 0.18814154859872123 Time= 13.783275747299195\n",
            "run= 24 total=50 Fobj= 0.32925656337853004 Time= 14.355217254161834\n",
            "run= 25 total=50 Fobj= 0.3591253507750455 Time= 14.943593188126881\n",
            "run= 26 total=50 Fobj= 0.2641132767516834 Time= 15.518892749150593\n",
            "run= 27 total=50 Fobj= 0.4010691498199937 Time= 16.104714600245156\n",
            "run= 28 total=50 Fobj= 0.43489977896164106 Time= 16.689454877376555\n",
            "run= 29 total=50 Fobj= 0.46226331755860245 Time= 17.285923822720846\n",
            "run= 30 total=50 Fobj= 0.38589648402377275 Time= 17.86801464955012\n",
            "run= 31 total=50 Fobj= 0.6288344602336002 Time= 18.441642427444457\n",
            "run= 32 total=50 Fobj= 0.2762654535194421 Time= 19.019428280989327\n",
            "run= 33 total=50 Fobj= 0.3036469538768069 Time= 19.61216387351354\n",
            "run= 34 total=50 Fobj= 0.4924144219248343 Time= 20.22065849304199\n",
            "run= 35 total=50 Fobj= 0.4100120269056144 Time= 20.79861985842387\n",
            "run= 36 total=50 Fobj= 0.5242320396722367 Time= 21.374058190981547\n",
            "run= 37 total=50 Fobj= 0.2743948724247848 Time= 21.95014044443766\n",
            "run= 38 total=50 Fobj= 0.29115385598197796 Time= 22.53422104517619\n",
            "run= 39 total=50 Fobj= 0.47897479625382766 Time= 23.105854960282645\n",
            "run= 40 total=50 Fobj= 0.5932687256542858 Time= 23.6797350247701\n",
            "run= 41 total=50 Fobj= 0.42062197011106894 Time= 24.251669538021087\n",
            "run= 42 total=50 Fobj= 0.36793490761093406 Time= 24.824090282122295\n",
            "run= 43 total=50 Fobj= 0.47195711900257836 Time= 25.41117588678996\n",
            "run= 44 total=50 Fobj= 0.3497375329727304 Time= 25.98476651509603\n",
            "run= 45 total=50 Fobj= 0.3742387487422364 Time= 26.560474888483682\n",
            "run= 46 total=50 Fobj= 0.3567324898574309 Time= 27.132775191466013\n",
            "run= 47 total=50 Fobj= 0.3557719221517003 Time= 27.720890164375305\n",
            "run= 48 total=50 Fobj= 0.36679447454774944 Time= 28.294617255528767\n",
            "run= 49 total=50 Fobj= 0.33810885321310113 Time= 28.869981642564138\n"
          ],
          "name": "stdout"
        }
      ]
    },
    {
      "cell_type": "code",
      "metadata": {
        "colab_type": "code",
        "id": "lNSN5X-wskcx",
        "colab": {
          "base_uri": "https://localhost:8080/",
          "height": 301
        },
        "outputId": "88f2b95f-d62f-4b09-8e33-7797c75df0f7"
      },
      "source": [
        "############################## Cálculo dos Parâmetros de Avaliação   \n",
        "TIME = (time.time() - start_time)/RUNS\n",
        "BEST_AGENTS=np.array(BEST_AGENTS)\n",
        "BEST_AGENTS_ST= BEST_AGENTS[BEST_AGENTS[:,-1].argsort()]\n",
        "BEST=BEST_AGENTS_ST[0]\n",
        "WORSE=BEST_AGENTS_ST[-1]\n",
        "MEAN=np.mean(BEST_AGENTS,axis=0)\n",
        "MAXFO=BEST_AGENTS[:,-1].max()\n",
        "MINFO=BEST_AGENTS[:,-1].min()\n",
        "STD=BEST_AGENTS[:,-1].std()\n",
        "\n",
        "nome='_DE_STAT_Fo-'+str(mut)+'_CRo-'+str(crossp)+'_D-'+str(dim)+'_Interv-'+str(ITE)\n",
        "print('DE_POP_VAR_F_CR','TOTAL=',TOTAL,'Iterações=',ITE*its,'Dim=', dim,\"Min/Max=\",MIN[0],\"/\",MAX[0],'_',Fun.__name__)\n",
        "print(nome, '\\n')\n",
        "#print('BEST: ',BEST)\n",
        "#print('MÉDIA: ',MEAN)\n",
        "print('MÉDIA: ',MEAN[-1])\n",
        "print('MIN __:',MINFO)\n",
        "print('MAX__: ',MAXFO)\n",
        "print('STD __:',STD)\n",
        "print(\"Tempo Médio= %.3f segundos ---\" % (TIME))\n",
        "print(RUNS,'Rodadas') \n",
        "print()\n",
        "print('BEST: ',BEST)\n",
        "# print('melhor=',BEST_AGENTS[BEST_INDEX])"
      ],
      "execution_count": 6,
      "outputs": [
        {
          "output_type": "stream",
          "text": [
            "DE_POP_VAR_F_CR TOTAL= 900000 Iterações= 3000 Dim= 30 Min/Max= -1.28 / 1.28 _ Noisy_Quartic\n",
            "_DE_STAT_Fo-0.5_CRo-0.5_D-30_Interv-3000 \n",
            "\n",
            "MÉDIA:  0.3717031062788591\n",
            "MIN __: 0.11021603042334863\n",
            "MAX__:  0.6288344602336002\n",
            "STD __: 0.108732761889305\n",
            "Tempo Médio= 34.645 segundos ---\n",
            "50 Rodadas\n",
            "\n",
            "BEST:  [ 0.02818938  0.32129492  0.1520175   0.01192382 -0.10650719  0.08622935\n",
            " -0.01460796  0.27684357 -0.03245383  0.14029845 -0.04242084  0.05589484\n",
            " -0.04880548  0.01534981  0.03713187  0.08768964  0.00172268  0.10997655\n",
            "  0.09428757 -0.08458217  0.04780086 -0.05598404 -0.01588218 -0.16726582\n",
            "  0.06602203  0.02869392 -0.06002216 -0.02065244 -0.08848254  0.02112612\n",
            "  0.11021603]\n"
          ],
          "name": "stdout"
        }
      ]
    }
  ]
}