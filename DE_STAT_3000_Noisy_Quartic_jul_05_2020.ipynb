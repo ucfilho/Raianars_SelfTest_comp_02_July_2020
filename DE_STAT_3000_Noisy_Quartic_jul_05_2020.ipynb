{
  "nbformat": 4,
  "nbformat_minor": 0,
  "metadata": {
    "accelerator": "GPU",
    "colab": {
      "name": "DE_STAT_3000_Noisy_Quartic_jul_05_2020.ipynb",
      "provenance": [],
      "collapsed_sections": [],
      "include_colab_link": true
    },
    "kernelspec": {
      "display_name": "Python 3",
      "language": "python",
      "name": "python3"
    },
    "language_info": {
      "codemirror_mode": {
        "name": "ipython",
        "version": 3
      },
      "file_extension": ".py",
      "mimetype": "text/x-python",
      "name": "python",
      "nbconvert_exporter": "python",
      "pygments_lexer": "ipython3",
      "version": "3.6.1"
    }
  },
  "cells": [
    {
      "cell_type": "markdown",
      "metadata": {
        "id": "view-in-github",
        "colab_type": "text"
      },
      "source": [
        "<a href=\"https://colab.research.google.com/github/ucfilho/Raianars_SelfTest_comp_02_July_2020/blob/master/DE_STAT_3000_Noisy_Quartic_jul_05_2020.ipynb\" target=\"_parent\"><img src=\"https://colab.research.google.com/assets/colab-badge.svg\" alt=\"Open In Colab\"/></a>"
      ]
    },
    {
      "cell_type": "code",
      "metadata": {
        "colab_type": "code",
        "id": "cG5nOUQ9Eucw",
        "colab": {}
      },
      "source": [
        "# Noisy_Quartic\n",
        "# In the paper Ngen=3000 NPAR=100 RUNS=50 dim=30\n",
        "# JADE: Adaptive Differential Evolution with Optional External Archive\n"
      ],
      "execution_count": 1,
      "outputs": []
    },
    {
      "cell_type": "code",
      "metadata": {
        "colab_type": "code",
        "id": "v1OxgXboBKoG",
        "colab": {}
      },
      "source": [
        "import time\n",
        "import matplotlib.pyplot as plt\n",
        "import numpy as np\n",
        "from random import randint"
      ],
      "execution_count": 2,
      "outputs": []
    },
    {
      "cell_type": "code",
      "metadata": {
        "id": "qMRpE0dGULCI",
        "colab_type": "code",
        "colab": {
          "base_uri": "https://localhost:8080/",
          "height": 163
        },
        "outputId": "47107961-78b5-4871-d221-8642ac328c6f"
      },
      "source": [
        "!git clone https://github.com/ucfilho/Raianars_July_2020 #clonar do Github\n",
        "%cd Raianars_July_2020"
      ],
      "execution_count": 3,
      "outputs": [
        {
          "output_type": "stream",
          "text": [
            "Cloning into 'Raianars_July_2020'...\n",
            "remote: Enumerating objects: 3, done.\u001b[K\n",
            "remote: Counting objects: 100% (3/3), done.\u001b[K\n",
            "remote: Compressing objects: 100% (3/3), done.\u001b[K\n",
            "remote: Total 126 (delta 0), reused 0 (delta 0), pack-reused 123\u001b[K\n",
            "Receiving objects: 100% (126/126), 198.23 KiB | 789.00 KiB/s, done.\n",
            "Resolving deltas: 100% (62/62), done.\n",
            "/content/Raianars_July_2020\n"
          ],
          "name": "stdout"
        }
      ]
    },
    {
      "cell_type": "code",
      "metadata": {
        "colab_type": "code",
        "id": "_E15mKFURR6O",
        "colab": {}
      },
      "source": [
        "import de_soma_Insight\n",
        "import de_bounds_matriz\n",
        "import Function\n",
        "import Go2MinMax\n",
        "from AvaliaX import AvaliaX\n",
        "\n",
        "\n",
        "############################### DADOS DE ENTRADA \n",
        "RUNS=50 #NÚMERO DE RODADAS\n",
        "its=1 #10 # quantas vezes vai usar o NPAR antes de alterar de novo\n",
        "ITE=3000 #10 # PONTOS quantas vezes vai alteral NPAR \n",
        "NPAR=100\n",
        "\n",
        "mut=0.5\n",
        "crossp=0.5\n",
        "dim=30\n",
        "\n",
        "#fchoice='Rastrigin' #fchoice='Michalewicz' #fchoice='Schwefel'\n",
        "fchoice='Noisy_Quartic'\n",
        "Fun=Function.Noisy_Quartic\n",
        "\n",
        "MIN,MAX=Go2MinMax.Intervalo(dim,fchoice)\n",
        "\n",
        "TOTAL=10*dim*its*ITE\n",
        "SOMA=0"
      ],
      "execution_count": 4,
      "outputs": []
    },
    {
      "cell_type": "code",
      "metadata": {
        "colab_type": "code",
        "id": "rnX8ttNopd1G",
        "colab": {
          "base_uri": "https://localhost:8080/",
          "height": 926
        },
        "outputId": "461b0ccf-feb0-47c0-f411-944c9ef44b1c"
      },
      "source": [
        "start_time = time.time()\n",
        "BEST_AGENTS=[]\n",
        "MAT_stat=[]\n",
        "\n",
        "for i in range(RUNS):\n",
        "\n",
        "    pop = np.random.rand(NPAR, dim)\n",
        "    diff=np.zeros(dim)\n",
        "    for ii in range(dim):\n",
        "      diff[ii] = MAX[ii]-MIN[ii]\n",
        "    X = MIN + pop * diff\n",
        "\n",
        "    for k in range(ITE):\n",
        "      X,BEST,FOBEST,XY,BEST_XY,SOMA= de_soma_Insight.de(MAX,MIN, mut, crossp,dim,its,Fun,X,SOMA,TOTAL)\n",
        "\n",
        "    start_run = (time.time()-start_time)/60\n",
        "    print('run=',i,'total=50','Fobj=',FOBEST,'Time=',start_run)  \n",
        "    BEST_AGENTS.append(BEST_XY)"
      ],
      "execution_count": 5,
      "outputs": [
        {
          "output_type": "stream",
          "text": [
            "run= 0 total=50 Fobj= 0.3065266334187536 Time= 0.5673603336016337\n",
            "run= 1 total=50 Fobj= 0.43587955146728014 Time= 1.1348480343818665\n",
            "run= 2 total=50 Fobj= 0.2765133885393223 Time= 1.6999809781710307\n",
            "run= 3 total=50 Fobj= 0.2810432543999305 Time= 2.261589789390564\n",
            "run= 4 total=50 Fobj= 0.364775616641883 Time= 2.825132656097412\n",
            "run= 5 total=50 Fobj= 0.30416770090193757 Time= 3.3881744583447775\n",
            "run= 6 total=50 Fobj= 0.5184944814837349 Time= 3.951141039530436\n",
            "run= 7 total=50 Fobj= 0.47410645622764397 Time= 4.513537073135376\n",
            "run= 8 total=50 Fobj= 0.2661822190101261 Time= 5.078912528355916\n",
            "run= 9 total=50 Fobj= 0.23152747674307958 Time= 5.640599687894185\n",
            "run= 10 total=50 Fobj= 105.45495854608686 Time= 5.957538898785909\n",
            "run= 11 total=50 Fobj= 150.6303128879486 Time= 6.2754655639330545\n",
            "run= 12 total=50 Fobj= 125.0944431385084 Time= 6.595490070184072\n",
            "run= 13 total=50 Fobj= 135.2981643261653 Time= 6.914579566319784\n",
            "run= 14 total=50 Fobj= 135.78925151091005 Time= 7.235988895098369\n",
            "run= 15 total=50 Fobj= 118.3346223971111 Time= 7.552399349212647\n",
            "run= 16 total=50 Fobj= 98.97650285456659 Time= 7.871196063359578\n",
            "run= 17 total=50 Fobj= 96.11620975451918 Time= 8.19050901333491\n",
            "run= 18 total=50 Fobj= 151.3488517945493 Time= 8.506513432661693\n",
            "run= 19 total=50 Fobj= 122.56928617474715 Time= 8.82554561694463\n",
            "run= 20 total=50 Fobj= 119.67821147600114 Time= 9.14434281984965\n",
            "run= 21 total=50 Fobj= 108.14240665033668 Time= 9.463449120521545\n",
            "run= 22 total=50 Fobj= 138.9665690892271 Time= 9.780734574794769\n",
            "run= 23 total=50 Fobj= 114.28034571593494 Time= 10.099340176582336\n",
            "run= 24 total=50 Fobj= 111.7468938306484 Time= 10.416493252913158\n",
            "run= 25 total=50 Fobj= 143.95641025360598 Time= 10.733019359906514\n",
            "run= 26 total=50 Fobj= 160.38837585480073 Time= 11.050547027587891\n",
            "run= 27 total=50 Fobj= 117.45598858482487 Time= 11.367709652582805\n",
            "run= 28 total=50 Fobj= 93.97711200862449 Time= 11.68410572608312\n",
            "run= 29 total=50 Fobj= 100.53275011315064 Time= 12.003242965539297\n",
            "run= 30 total=50 Fobj= 98.21096424984866 Time= 12.32025178273519\n",
            "run= 31 total=50 Fobj= 161.34587511718664 Time= 12.636686376730601\n",
            "run= 32 total=50 Fobj= 79.4399426394541 Time= 12.956261773904165\n",
            "run= 33 total=50 Fobj= 82.8688468470729 Time= 13.273904188474019\n",
            "run= 34 total=50 Fobj= 90.66637769844625 Time= 13.593656059106191\n",
            "run= 35 total=50 Fobj= 116.55512747385784 Time= 13.912085239092509\n",
            "run= 36 total=50 Fobj= 140.93482676635037 Time= 14.228436883290609\n",
            "run= 37 total=50 Fobj= 156.7966478009167 Time= 14.547399075826009\n",
            "run= 38 total=50 Fobj= 124.94432799880475 Time= 14.864183167616526\n",
            "run= 39 total=50 Fobj= 103.78862332944328 Time= 15.181934559345246\n",
            "run= 40 total=50 Fobj= 139.03482982107116 Time= 15.501169196764629\n",
            "run= 41 total=50 Fobj= 125.98290634125159 Time= 15.818956152598064\n",
            "run= 42 total=50 Fobj= 116.45252850396484 Time= 16.136770276228585\n",
            "run= 43 total=50 Fobj= 185.67777076159595 Time= 16.454295281569163\n",
            "run= 44 total=50 Fobj= 130.74165944526558 Time= 16.771100640296936\n",
            "run= 45 total=50 Fobj= 120.11134697903398 Time= 17.087782001495363\n",
            "run= 46 total=50 Fobj= 125.70845460715037 Time= 17.404083069165548\n",
            "run= 47 total=50 Fobj= 153.50244612179526 Time= 17.720100728670754\n",
            "run= 48 total=50 Fobj= 142.41043156267588 Time= 18.034545187155405\n",
            "run= 49 total=50 Fobj= 95.90481419901369 Time= 18.354103593031564\n"
          ],
          "name": "stdout"
        }
      ]
    },
    {
      "cell_type": "code",
      "metadata": {
        "colab_type": "code",
        "id": "lNSN5X-wskcx",
        "colab": {
          "base_uri": "https://localhost:8080/",
          "height": 308
        },
        "outputId": "242dc026-90f0-439e-92f2-b2205320d23d"
      },
      "source": [
        "############################## Cálculo dos Parâmetros de Avaliação   \n",
        "TIME = (time.time() - start_time)/RUNS\n",
        "BEST_AGENTS=np.array(BEST_AGENTS)\n",
        "BEST_AGENTS_ST= BEST_AGENTS[BEST_AGENTS[:,-1].argsort()]\n",
        "BEST=BEST_AGENTS_ST[0]\n",
        "WORSE=BEST_AGENTS_ST[-1]\n",
        "MEAN=np.mean(BEST_AGENTS,axis=0)\n",
        "MAXFO=BEST_AGENTS[:,-1].max()\n",
        "MINFO=BEST_AGENTS[:,-1].min()\n",
        "STD=BEST_AGENTS[:,-1].std()\n",
        "\n",
        "nome='_DE_STAT_Fo-'+str(mut)+'_CRo-'+str(crossp)+'_D-'+str(dim)+'_Interv-'+str(ITE)\n",
        "print('DE_POP_VAR_F_CR','TOTAL=',TOTAL,'Iterações=',ITE*its,'Dim=', dim,\"Min/Max=\",MIN[0],\"/\",MAX[0],'_',Fun.__name__)\n",
        "print(nome, '\\n')\n",
        "#print('BEST: ',BEST)\n",
        "#print('MÉDIA: ',MEAN)\n",
        "print('MÉDIA: ',MEAN[-1])\n",
        "print('MIN __:',MINFO)\n",
        "print('MAX__: ',MAXFO)\n",
        "print('STD __:',STD)\n",
        "print(\"Tempo Médio= %.3f segundos ---\" % (TIME))\n",
        "print(RUNS,'Rodadas') \n",
        "print()\n",
        "print('BEST: ',BEST)\n",
        "# print('melhor=',BEST_AGENTS[BEST_INDEX])"
      ],
      "execution_count": 6,
      "outputs": [
        {
          "output_type": "stream",
          "text": [
            "DE_POP_VAR_F_CR TOTAL= 900000 Iterações= 3000 Dim= 30 Min/Max= -1.28 / 1.28 _ Noisy_Quartic\n",
            "_DE_STAT_Fo-0.5_CRo-0.5_D-30_Interv-3000 \n",
            "\n",
            "MÉDIA:  98.86551264010599\n",
            "MIN __: 0.23152747674307958\n",
            "MAX__:  185.67777076159595\n",
            "STD __: 53.59249740657251\n",
            "Tempo Médio= 22.026 segundos ---\n",
            "50 Rodadas\n",
            "\n",
            "BEST:  [ 0.37356571  0.24639671  0.2753471   0.05170351 -0.04650232 -0.11594829\n",
            " -0.04488656  0.06790489  0.00855204 -0.00152967 -0.09017553  0.03813685\n",
            "  0.02214801 -0.05244171 -0.03543695  0.09489675  0.16801398 -0.13223622\n",
            "  0.07277206  0.05596306  0.17186113  0.04965173  0.11426079 -0.08641645\n",
            "  0.03138632  0.00944974 -0.10239046 -0.18254627 -0.11637516  0.02283466\n",
            "  0.23152748]\n"
          ],
          "name": "stdout"
        }
      ]
    }
  ]
}