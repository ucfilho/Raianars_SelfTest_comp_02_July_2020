{
  "nbformat": 4,
  "nbformat_minor": 0,
  "metadata": {
    "colab": {
      "name": "Stats_1000_Salomon_ALL_D_30_JUL_03_2020.ipynb",
      "provenance": [],
      "collapsed_sections": [],
      "authorship_tag": "ABX9TyPp0pLmhmHPePh2LuZkqsZs",
      "include_colab_link": true
    },
    "kernelspec": {
      "name": "python3",
      "display_name": "Python 3"
    }
  },
  "cells": [
    {
      "cell_type": "markdown",
      "metadata": {
        "id": "view-in-github",
        "colab_type": "text"
      },
      "source": [
        "<a href=\"https://colab.research.google.com/github/ucfilho/Raianars_SelfTest_comp_02_July_2020/blob/master/Stats_1000_Salomon_ALL_D_30_JUL_03_2020.ipynb\" target=\"_parent\"><img src=\"https://colab.research.google.com/assets/colab-badge.svg\" alt=\"Open In Colab\"/></a>"
      ]
    },
    {
      "cell_type": "code",
      "metadata": {
        "id": "MC26Bm1UyUR5",
        "colab_type": "code",
        "colab": {
          "base_uri": "https://localhost:8080/",
          "height": 110
        },
        "outputId": "be01a8a9-ad20-4977-b7f5-8bf2918a7bdc"
      },
      "source": [
        "!pip install pyade-python"
      ],
      "execution_count": 1,
      "outputs": [
        {
          "output_type": "stream",
          "text": [
            "Collecting pyade-python\n",
            "  Downloading https://files.pythonhosted.org/packages/02/e7/aefff90c8de0ad3ff151d51507ec65a2988b7cce9126c342746f77615d9f/pyade_python-1.1-py3-none-any.whl\n",
            "Installing collected packages: pyade-python\n",
            "Successfully installed pyade-python-1.1\n"
          ],
          "name": "stdout"
        }
      ]
    },
    {
      "cell_type": "code",
      "metadata": {
        "id": "rRwqrtCmgzdZ",
        "colab_type": "code",
        "colab": {
          "base_uri": "https://localhost:8080/",
          "height": 237
        },
        "outputId": "fe23d2e8-d2a4-485d-bb6d-4c1691d49fb4"
      },
      "source": [
        "!pip install PyFDE"
      ],
      "execution_count": 2,
      "outputs": [
        {
          "output_type": "stream",
          "text": [
            "Collecting PyFDE\n",
            "\u001b[?25l  Downloading https://files.pythonhosted.org/packages/72/f9/87f7279554d2682e3827d39c3d3a565b2fd42f7114a779e34a601c6c5079/PyFDE-1.3.0.tar.gz (397kB)\n",
            "\r\u001b[K     |▉                               | 10kB 17.5MB/s eta 0:00:01\r\u001b[K     |█▋                              | 20kB 1.6MB/s eta 0:00:01\r\u001b[K     |██▌                             | 30kB 2.1MB/s eta 0:00:01\r\u001b[K     |███▎                            | 40kB 2.4MB/s eta 0:00:01\r\u001b[K     |████▏                           | 51kB 1.9MB/s eta 0:00:01\r\u001b[K     |█████                           | 61kB 2.1MB/s eta 0:00:01\r\u001b[K     |█████▊                          | 71kB 2.4MB/s eta 0:00:01\r\u001b[K     |██████▋                         | 81kB 2.6MB/s eta 0:00:01\r\u001b[K     |███████▍                        | 92kB 2.7MB/s eta 0:00:01\r\u001b[K     |████████▎                       | 102kB 2.6MB/s eta 0:00:01\r\u001b[K     |█████████                       | 112kB 2.6MB/s eta 0:00:01\r\u001b[K     |██████████                      | 122kB 2.6MB/s eta 0:00:01\r\u001b[K     |██████████▊                     | 133kB 2.6MB/s eta 0:00:01\r\u001b[K     |███████████▌                    | 143kB 2.6MB/s eta 0:00:01\r\u001b[K     |████████████▍                   | 153kB 2.6MB/s eta 0:00:01\r\u001b[K     |█████████████▏                  | 163kB 2.6MB/s eta 0:00:01\r\u001b[K     |██████████████                  | 174kB 2.6MB/s eta 0:00:01\r\u001b[K     |██████████████▉                 | 184kB 2.6MB/s eta 0:00:01\r\u001b[K     |███████████████▊                | 194kB 2.6MB/s eta 0:00:01\r\u001b[K     |████████████████▌               | 204kB 2.6MB/s eta 0:00:01\r\u001b[K     |█████████████████▎              | 215kB 2.6MB/s eta 0:00:01\r\u001b[K     |██████████████████▏             | 225kB 2.6MB/s eta 0:00:01\r\u001b[K     |███████████████████             | 235kB 2.6MB/s eta 0:00:01\r\u001b[K     |███████████████████▉            | 245kB 2.6MB/s eta 0:00:01\r\u001b[K     |████████████████████▋           | 256kB 2.6MB/s eta 0:00:01\r\u001b[K     |█████████████████████▌          | 266kB 2.6MB/s eta 0:00:01\r\u001b[K     |██████████████████████▎         | 276kB 2.6MB/s eta 0:00:01\r\u001b[K     |███████████████████████         | 286kB 2.6MB/s eta 0:00:01\r\u001b[K     |████████████████████████        | 296kB 2.6MB/s eta 0:00:01\r\u001b[K     |████████████████████████▊       | 307kB 2.6MB/s eta 0:00:01\r\u001b[K     |█████████████████████████▋      | 317kB 2.6MB/s eta 0:00:01\r\u001b[K     |██████████████████████████▍     | 327kB 2.6MB/s eta 0:00:01\r\u001b[K     |███████████████████████████▎    | 337kB 2.6MB/s eta 0:00:01\r\u001b[K     |████████████████████████████    | 348kB 2.6MB/s eta 0:00:01\r\u001b[K     |████████████████████████████▉   | 358kB 2.6MB/s eta 0:00:01\r\u001b[K     |█████████████████████████████▊  | 368kB 2.6MB/s eta 0:00:01\r\u001b[K     |██████████████████████████████▌ | 378kB 2.6MB/s eta 0:00:01\r\u001b[K     |███████████████████████████████▍| 389kB 2.6MB/s eta 0:00:01\r\u001b[K     |████████████████████████████████| 399kB 2.6MB/s \n",
            "\u001b[?25hRequirement already satisfied: numpy in /usr/local/lib/python3.6/dist-packages (from PyFDE) (1.18.5)\n",
            "Building wheels for collected packages: PyFDE\n",
            "  Building wheel for PyFDE (setup.py) ... \u001b[?25l\u001b[?25hdone\n",
            "  Created wheel for PyFDE: filename=PyFDE-1.3.0-cp36-cp36m-linux_x86_64.whl size=969301 sha256=4b39826b4b48aae316bbef7868ecb185b2e60d963c66498764ef7ea506b63835\n",
            "  Stored in directory: /root/.cache/pip/wheels/7d/42/ba/abf21db37934e576c74fc2c9504b5cd97eb6a99e3dec1743c0\n",
            "Successfully built PyFDE\n",
            "Installing collected packages: PyFDE\n",
            "Successfully installed PyFDE-1.3.0\n"
          ],
          "name": "stdout"
        }
      ]
    },
    {
      "cell_type": "code",
      "metadata": {
        "id": "anFukot-ypn6",
        "colab_type": "code",
        "colab": {}
      },
      "source": [
        "import pyade.ilshade \n",
        "import pyade.sade \n",
        "import pyade.jso\n",
        "import pyade.shade\n",
        "import pyade.jade \n",
        "import pyfde\n",
        "import numpy as np\n",
        "import pandas as pd\n",
        "import time"
      ],
      "execution_count": 3,
      "outputs": []
    },
    {
      "cell_type": "code",
      "metadata": {
        "id": "6Oh714_-z1Ia",
        "colab_type": "code",
        "colab": {
          "base_uri": "https://localhost:8080/",
          "height": 163
        },
        "outputId": "c203df89-b589-4721-c8a2-a66e96526bdf"
      },
      "source": [
        "!git clone https://github.com/ucfilho/Raianars_July_2020 #clonar do Github\n",
        "%cd Raianars_July_2020"
      ],
      "execution_count": 4,
      "outputs": [
        {
          "output_type": "stream",
          "text": [
            "Cloning into 'Raianars_July_2020'...\n",
            "remote: Enumerating objects: 3, done.\u001b[K\n",
            "remote: Counting objects: 100% (3/3), done.\u001b[K\n",
            "remote: Compressing objects: 100% (3/3), done.\u001b[K\n",
            "remote: Total 126 (delta 0), reused 0 (delta 0), pack-reused 123\u001b[K\n",
            "Receiving objects: 100% (126/126), 198.23 KiB | 548.00 KiB/s, done.\n",
            "Resolving deltas: 100% (62/62), done.\n",
            "/content/Raianars_July_2020\n"
          ],
          "name": "stdout"
        }
      ]
    },
    {
      "cell_type": "code",
      "metadata": {
        "id": "LnzftXkky78A",
        "colab_type": "code",
        "colab": {}
      },
      "source": [
        "import Go2Ann\n",
        "import de_soma_Insight\n",
        "import de_bounds_matriz\n",
        "from AvaliaX import AvaliaX\n",
        "from GeraIndices import GeraIndices"
      ],
      "execution_count": 5,
      "outputs": []
    },
    {
      "cell_type": "code",
      "metadata": {
        "id": "HNW92728z7fR",
        "colab_type": "code",
        "colab": {}
      },
      "source": [
        "import Function\n",
        "import Go2MinMax"
      ],
      "execution_count": 6,
      "outputs": []
    },
    {
      "cell_type": "code",
      "metadata": {
        "id": "T_C-e7aH0CZH",
        "colab_type": "code",
        "colab": {}
      },
      "source": [
        "ITE=1000 #10 # PONTOS quantas vezes vai alteral NPAR \n",
        "NPAR=100 # NUMBER OF PARTICLES\n",
        "dim=30\n",
        "RUNS=50\n",
        "fchoice='Salomon'  #f2\n",
        "Fun=Function.Salomon\n",
        "\n",
        "MIN,MAX=Go2MinMax.Intervalo(dim,fchoice)\n",
        "bounds = [(0,0)]*dim\n",
        "\n",
        "for i in range(dim):\n",
        "  bounds[i] = (MIN[i],MAX[i])"
      ],
      "execution_count": 7,
      "outputs": []
    },
    {
      "cell_type": "code",
      "metadata": {
        "id": "Nqv5qp9yzQEw",
        "colab_type": "code",
        "colab": {}
      },
      "source": [
        "############################### INPUT INFORMATION (FRANNK)\n",
        "Fc=0.1 # fator de correcao parametros da ANN\n",
        "its=1 #10 # quantas vezes vai usar o NPAR antes de alterar de novo\n",
        "mut=0.5\n",
        "crossp=0.5\n",
        "Fi=mut;CRi=crossp;# para impressão\n",
        "PAR=len(MAX) #NUM DE PARAMETROS A SER OTIMIZADOS"
      ],
      "execution_count": 8,
      "outputs": []
    },
    {
      "cell_type": "code",
      "metadata": {
        "id": "WkbM98uny0QY",
        "colab_type": "code",
        "colab": {
          "base_uri": "https://localhost:8080/",
          "height": 308
        },
        "outputId": "b13cd972-01f0-4e8e-9748-133c6e21fe93"
      },
      "source": [
        "# IL-Shade\n",
        "\n",
        "BEST_AGENTS=[]\n",
        "start_time = time.time() \n",
        "for i in range(RUNS):\n",
        "  ANSWER_AGENTS=[]\n",
        "  algorithm = pyade.ilshade \n",
        "  params = algorithm.get_default_params(dim=dim) \n",
        "  params['bounds'] = np.array(bounds)\n",
        "  params['max_evals'] = ITE \n",
        "  params['func'] = Fun\n",
        "  params['max_evals'] = ITE\n",
        "  best, fit = algorithm.apply(**params)\n",
        "  for x in best:\n",
        "    ANSWER_AGENTS.append(x)\n",
        "  ANSWER_AGENTS.append(fit)\n",
        "  BEST_AGENTS.append(ANSWER_AGENTS)\n",
        "BEST_AGENTS=np.array(BEST_AGENTS)\n",
        "TIME = (time.time() - start_time)/RUNS\n",
        "BEST_AGENTS=np.array(BEST_AGENTS)\n",
        "BEST_AGENTS_ST= BEST_AGENTS[BEST_AGENTS[:,-1].argsort()]\n",
        "BEST=BEST_AGENTS_ST[0]\n",
        "WORSE=BEST_AGENTS_ST[-1]\n",
        "MEAN=np.mean(BEST_AGENTS,axis=0)\n",
        "MAXFO=BEST_AGENTS[:,-1].max()\n",
        "MINFO=BEST_AGENTS[:,-1].min()\n",
        "STD=BEST_AGENTS[:,-1].std()\n",
        "nome='IL-Shade_Fo-'+str(0)+'_CRo-'+str(0)\n",
        "print(nome,'NPAR',NPAR,'Iterações=',ITE,'Dim=',dim ,\"Min/Max=\",MIN[0],\"/\",MAX[0],'_',Fun.__name__)\n",
        "print( '\\n')\n",
        "print('MÉDIA: ',MEAN[-1])\n",
        "print('MIN __:',MINFO)\n",
        "print('MAX__: ',MAXFO)\n",
        "print('STD __:',STD)\n",
        "print(\"Tempo Médio= %.3f segundos ---\" % (TIME))\n",
        "print(RUNS,'Rodadas') \n",
        "print()\n",
        "print('BEST: ',BEST)"
      ],
      "execution_count": 9,
      "outputs": [
        {
          "output_type": "stream",
          "text": [
            "IL-Shade_Fo-0_CRo-0 NPAR 100 Iterações= 1000 Dim= 30 Min/Max= -2 / 2 _ Salomon\n",
            "\n",
            "\n",
            "MÉDIA:  0.32129762867972933\n",
            "MIN __: 0.20053240465949576\n",
            "MAX__:  0.40142024514972824\n",
            "STD __: 0.03792539477958591\n",
            "Tempo Médio= 0.086 segundos ---\n",
            "50 Rodadas\n",
            "\n",
            "BEST:  [-0.45029278 -0.01400792 -0.3848062  -0.29755571  0.43514985  0.54333085\n",
            " -0.19571644 -0.24704291  0.40490591 -0.12846445 -0.39873555  0.50655658\n",
            "  0.28704604 -0.41844969 -0.3218176   0.07389103  0.034278   -0.42713389\n",
            "  0.18478695  0.07576701 -0.08732784  0.3220458  -0.45676329 -0.08947435\n",
            " -0.41611426  0.33541964  0.93107593  0.03241973  0.5303457  -0.20147816\n",
            "  0.2005324 ]\n"
          ],
          "name": "stdout"
        }
      ]
    },
    {
      "cell_type": "code",
      "metadata": {
        "id": "v4dbY4tSsFMb",
        "colab_type": "code",
        "colab": {
          "base_uri": "https://localhost:8080/",
          "height": 345
        },
        "outputId": "09734d41-a896-4a3a-c644-1f8b2995c9aa"
      },
      "source": [
        "# Jso\n",
        "\n",
        "BEST_AGENTS=[]\n",
        "start_time = time.time() \n",
        "for i in range(RUNS):\n",
        "  ANSWER_AGENTS=[]\n",
        "  algorithm = pyade.jso\n",
        "  params = algorithm.get_default_params(dim=dim) \n",
        "  params['bounds'] = np.array(bounds)\n",
        "  params['max_evals'] = ITE \n",
        "  params['func'] = Fun\n",
        "  best, fit = algorithm.apply(**params)\n",
        "  for x in best:\n",
        "    ANSWER_AGENTS.append(x)\n",
        "  ANSWER_AGENTS.append(fit)\n",
        "  BEST_AGENTS.append(ANSWER_AGENTS)\n",
        "BEST_AGENTS=np.array(BEST_AGENTS)\n",
        "TIME = (time.time() - start_time)/RUNS\n",
        "BEST_AGENTS=np.array(BEST_AGENTS)\n",
        "BEST_AGENTS_ST= BEST_AGENTS[BEST_AGENTS[:,-1].argsort()]\n",
        "BEST=BEST_AGENTS_ST[0]\n",
        "WORSE=BEST_AGENTS_ST[-1]\n",
        "MEAN=np.mean(BEST_AGENTS,axis=0)\n",
        "MAXFO=BEST_AGENTS[:,-1].max()\n",
        "MINFO=BEST_AGENTS[:,-1].min()\n",
        "STD=BEST_AGENTS[:,-1].std()\n",
        "nome='Jso-'+str(0)+'_CRo-'+str(0)\n",
        "print(nome,'NPAR',NPAR,'Iterações=',ITE,'Dim=',dim ,\"Min/Max=\",MIN[0],\"/\",MAX[0],'_',Fun.__name__)\n",
        "print( '\\n')\n",
        "print('MÉDIA: ',MEAN[-1])\n",
        "print('MIN __:',MINFO)\n",
        "print('MAX__: ',MAXFO)\n",
        "print('STD __:',STD)\n",
        "print(\"Tempo Médio= %.3f segundos ---\" % (TIME))\n",
        "print(RUNS,'Rodadas') \n",
        "print()\n",
        "print('BEST: ',BEST)"
      ],
      "execution_count": 10,
      "outputs": [
        {
          "output_type": "stream",
          "text": [
            "Jso-0_CRo-0 NPAR 100 Iterações= 1000 Dim= 30 Min/Max= -2 / 2 _ Salomon\n",
            "\n",
            "\n",
            "MÉDIA:  0.3487315741598615\n",
            "MIN __: 0.20362745130468096\n",
            "MAX__:  0.40159741878505106\n",
            "STD __: 0.04622284286526031\n",
            "Tempo Médio= 0.048 segundos ---\n",
            "50 Rodadas\n",
            "\n",
            "BEST:  [ 2.83369829e-01 -5.18892596e-01 -1.36583317e-01 -9.19094068e-04\n",
            "  5.35322605e-01 -2.54992981e-01 -1.17840687e-01 -6.39973072e-02\n",
            " -2.40462455e-01  1.83029880e-01 -3.60848701e-02 -1.69183064e-01\n",
            " -8.19124838e-02  2.97357142e-01 -7.22496604e-01  6.72074743e-01\n",
            " -1.13135336e-01  1.57468749e-01  9.73367795e-01  7.43310448e-02\n",
            "  2.59124966e-01  3.53023155e-01  3.01657023e-02 -3.90479196e-01\n",
            "  4.79092039e-01 -5.93065190e-01 -2.62900756e-01 -4.71625449e-02\n",
            " -2.78827509e-01 -2.26409838e-01  2.03627451e-01]\n"
          ],
          "name": "stdout"
        }
      ]
    },
    {
      "cell_type": "code",
      "metadata": {
        "id": "ZkV_dpDa14C8",
        "colab_type": "code",
        "colab": {
          "base_uri": "https://localhost:8080/",
          "height": 308
        },
        "outputId": "394dd551-87bf-4c70-cf83-3488e6b780a3"
      },
      "source": [
        "# Sade\n",
        "\n",
        "BEST_AGENTS=[]\n",
        "start_time = time.time() \n",
        "for i in range(RUNS):\n",
        "  ANSWER_AGENTS=[]\n",
        "  algorithm = pyade.sade\n",
        "  params = algorithm.get_default_params(dim=dim) \n",
        "  params['bounds'] = np.array(bounds)\n",
        "  params['max_evals'] = ITE \n",
        "  params['func'] = Fun\n",
        "  best, fit = algorithm.apply(**params)\n",
        "  for x in best:\n",
        "    ANSWER_AGENTS.append(x)\n",
        "  ANSWER_AGENTS.append(fit)\n",
        "  BEST_AGENTS.append(ANSWER_AGENTS)\n",
        "BEST_AGENTS=np.array(BEST_AGENTS)\n",
        "TIME = (time.time() - start_time)/RUNS\n",
        "BEST_AGENTS=np.array(BEST_AGENTS)\n",
        "BEST_AGENTS_ST= BEST_AGENTS[BEST_AGENTS[:,-1].argsort()]\n",
        "BEST=BEST_AGENTS_ST[0]\n",
        "WORSE=BEST_AGENTS_ST[-1]\n",
        "MEAN=np.mean(BEST_AGENTS,axis=0)\n",
        "MAXFO=BEST_AGENTS[:,-1].max()\n",
        "MINFO=BEST_AGENTS[:,-1].min()\n",
        "STD=BEST_AGENTS[:,-1].std()\n",
        "nome='Sade_Fo-'+str(0)+'_CRo-'+str(0)\n",
        "print(nome,'NPAR',NPAR,'Iterações=',ITE,'Dim=',dim ,\"Min/Max=\",MIN[0],\"/\",MAX[0],'_',Fun.__name__)\n",
        "print( '\\n')\n",
        "print('MÉDIA: ',MEAN[-1])\n",
        "print('MIN __:',MINFO)\n",
        "print('MAX__: ',MAXFO)\n",
        "print('STD __:',STD)\n",
        "print(\"Tempo Médio= %.3f segundos ---\" % (TIME))\n",
        "print(RUNS,'Rodadas') \n",
        "print()\n",
        "print('BEST: ',BEST)"
      ],
      "execution_count": 11,
      "outputs": [
        {
          "output_type": "stream",
          "text": [
            "Sade_Fo-0_CRo-0 NPAR 100 Iterações= 1000 Dim= 30 Min/Max= -2 / 2 _ Salomon\n",
            "\n",
            "\n",
            "MÉDIA:  0.3874389356443542\n",
            "MIN __: 0.30001112176432626\n",
            "MAX__:  0.40847042601978967\n",
            "STD __: 0.030646857977494547\n",
            "Tempo Médio= 0.049 segundos ---\n",
            "50 Rodadas\n",
            "\n",
            "BEST:  [-0.13832994  0.09829217 -0.11836066  0.1874576   0.11030029  1.30585913\n",
            " -0.02348954 -0.0098544  -0.55505434  0.24504635  0.45105309 -0.85660019\n",
            "  0.44396571 -0.04480118 -0.72695729 -0.1255103   0.01132419  0.35808791\n",
            " -0.04227425  1.33087779  0.1344037   0.7860564   0.00807032  0.29531858\n",
            " -0.38047676  0.3147832  -0.93684792 -0.80756355 -0.7636738   0.37784945\n",
            "  0.30001112]\n"
          ],
          "name": "stdout"
        }
      ]
    },
    {
      "cell_type": "code",
      "metadata": {
        "id": "q77YsFa82zFU",
        "colab_type": "code",
        "colab": {
          "base_uri": "https://localhost:8080/",
          "height": 345
        },
        "outputId": "5765fe7e-639c-4125-9d70-750f086e34a1"
      },
      "source": [
        "# JADE\n",
        "algorithm = pyade.jso\n",
        "BEST_AGENTS=[]\n",
        "for i in range(RUNS):\n",
        "  ANSWER_AGENTS=[]\n",
        "  solver = pyfde.JADE(Fun, n_dim=dim, n_pop=NPAR, limits=bounds, minimize=True)\n",
        "  solver.p = 0.05\n",
        "  solver.c = 0.1\n",
        "  solver.cr = 0.5\n",
        "  solver.f = 0.5\n",
        "  best, fit = solver.run(n_it=ITE)\n",
        "  for x in best:\n",
        "    ANSWER_AGENTS.append(x)\n",
        "  ANSWER_AGENTS.append(fit)\n",
        "  BEST_AGENTS.append(ANSWER_AGENTS)\n",
        "BEST_AGENTS=np.array(BEST_AGENTS)\n",
        "TIME = (time.time() - start_time)/RUNS\n",
        "BEST_AGENTS=np.array(BEST_AGENTS)\n",
        "BEST_AGENTS_ST= BEST_AGENTS[BEST_AGENTS[:,-1].argsort()]\n",
        "BEST=BEST_AGENTS_ST[0]\n",
        "WORSE=BEST_AGENTS_ST[-1]\n",
        "MEAN=np.mean(BEST_AGENTS,axis=0)\n",
        "MAXFO=BEST_AGENTS[:,-1].max()\n",
        "MINFO=BEST_AGENTS[:,-1].min()\n",
        "STD=BEST_AGENTS[:,-1].std()\n",
        "nome='JADE_Fo-'+str(0)+'_CRo-'+str(0)\n",
        "print(nome,'NPAR',NPAR,'Iterações=',ITE,'Dim=',dim ,\"Min/Max=\",MIN[0],\"/\",MAX[0],'_',Fun.__name__)\n",
        "print( '\\n')\n",
        "print('MÉDIA: ',MEAN[-1])\n",
        "print('MIN __:',MINFO)\n",
        "print('MAX__: ',MAXFO)\n",
        "print('STD __:',STD)\n",
        "print(\"Tempo Médio= %.3f segundos ---\" % (TIME))\n",
        "print(RUNS,'Rodadas') \n",
        "print()\n",
        "print('BEST: ',BEST)"
      ],
      "execution_count": 12,
      "outputs": [
        {
          "output_type": "stream",
          "text": [
            "JADE_Fo-0_CRo-0 NPAR 100 Iterações= 1000 Dim= 30 Min/Max= -2 / 2 _ Salomon\n",
            "\n",
            "\n",
            "MÉDIA:  -0.18987336356370707\n",
            "MIN __: -0.19987334831526385\n",
            "MAX__:  -0.09987334596672198\n",
            "STD __: 0.029999947254182945\n",
            "Tempo Médio= 1.312 segundos ---\n",
            "50 Rodadas\n",
            "\n",
            "BEST:  [-7.04574637e-01  4.16222499e-02 -2.77514261e-01 -1.95265819e-01\n",
            " -2.79103878e-01  6.56182954e-01 -8.89244670e-01  7.35256688e-01\n",
            " -4.72859574e-01 -4.00152248e-01 -3.20375696e-01  4.14207269e-01\n",
            " -2.80018647e-02  3.08035520e-01  1.32893638e-01 -7.44828692e-02\n",
            "  7.60390291e-04 -1.97723727e-01 -4.90795270e-03  6.00718815e-02\n",
            " -2.95494220e-01  5.61716496e-02  1.87727422e-01 -5.66976583e-02\n",
            " -4.22168632e-01  8.55477175e-02 -3.79321456e-02  2.28944507e-02\n",
            "  2.16958706e-01  5.94689135e-01 -1.99873348e-01]\n"
          ],
          "name": "stdout"
        }
      ]
    },
    {
      "cell_type": "code",
      "metadata": {
        "id": "gXdUgSStzppX",
        "colab_type": "code",
        "colab": {}
      },
      "source": [
        "# FRANNK START HERE !!!!!"
      ],
      "execution_count": 13,
      "outputs": []
    },
    {
      "cell_type": "code",
      "metadata": {
        "id": "raWOfeJBztuj",
        "colab_type": "code",
        "colab": {
          "base_uri": "https://localhost:8080/",
          "height": 145
        },
        "outputId": "ba384f52-b0bb-4683-c33c-db4bdc967528"
      },
      "source": [
        "!git clone https://github.com/ucfilho/ANN_read_matrix #clonar do Github\n",
        "%cd ANN_read_matrix"
      ],
      "execution_count": 14,
      "outputs": [
        {
          "output_type": "stream",
          "text": [
            "Cloning into 'ANN_read_matrix'...\n",
            "remote: Enumerating objects: 20, done.\u001b[K\n",
            "remote: Counting objects: 100% (20/20), done.\u001b[K\n",
            "remote: Compressing objects: 100% (18/18), done.\u001b[K\n",
            "remote: Total 20 (delta 5), reused 0 (delta 0), pack-reused 0\u001b[K\n",
            "Unpacking objects: 100% (20/20), done.\n",
            "/content/Raianars_July_2020/ANN_read_matrix\n"
          ],
          "name": "stdout"
        }
      ]
    },
    {
      "cell_type": "code",
      "metadata": {
        "id": "N2lyPfivzwGv",
        "colab_type": "code",
        "colab": {
          "base_uri": "https://localhost:8080/",
          "height": 1000
        },
        "outputId": "8f66759d-c180-49f4-a7c5-864cbe8831d5"
      },
      "source": [
        "ANN_F=pd.read_csv('ANN_INSIGHT_Valor_F.csv')\n",
        "ANN_CR=pd.read_csv('ANN_INSIGHT_CR.csv')\n",
        "syn0_F,syn1_F,X_max_F,X_min_F=Go2Ann.GetMatriz(ANN_F)\n",
        "syn0_CR,syn1_CR,X_max_CR,X_min_CR=Go2Ann.GetMatriz(ANN_CR)\n",
        "fields = ['DI RELATIVO','FRAC Its','Fo','CRo']\n",
        "\n",
        "#TOTAL=7*dim*its*ITE\n",
        "TOTAL=10*dim*its*ITE\n",
        "TOTAL=int(TOTAL/2)   # CONFERIR SE ESTE EH O MELHOR LUGAR\n",
        "\n",
        "dimensions=len(MAX)\n",
        "start_time = time.time() #INICIALIZA CONTAGEM DO TEMPO\n",
        "\n",
        "MAX_P=np.zeros(ITE) # ATENCAO para variar F e Cr MAX_P passa a ser 3 vezes maior\n",
        "MIN_P=np.zeros(ITE) # ATENCAO para variar F e Cr MIN_P passa a ser 3 vezes maior\n",
        "\n",
        "for i in range(dim):\n",
        "  MAX_P[i]=MAX[i] \n",
        "  MIN_P[i]=MIN[i]\n",
        "\n",
        "rodadas=1\n",
        "for i in range(rodadas):\n",
        "  SOMA=0\n",
        "  pop = np.random.rand(NPAR, dimensions)\n",
        "  diff=np.zeros(PAR)\n",
        "  for ii in range(PAR):\n",
        "    diff[ii] = MAX[ii]-MIN[ii]\n",
        "  X = MIN + pop * diff\n",
        "    \n",
        "  PONTOS=ITE # DIVISOES DA POPULACAO\n",
        "start_time = time.time()\n",
        "BEST_AGENTS=[]\n",
        "MAT_stat=[]\n",
        "for i in range(RUNS):\n",
        "    MAT=[] \n",
        "    mut=Fi\n",
        "    crossp=CRi\n",
        "    SOMA=0\n",
        "    SOMAf=0\n",
        "    start_ite = time.time()\n",
        "    delta_time=(start_ite-start_time)/60\n",
        "    print('ite=',i,'total=50','time=',delta_time)\n",
        "    pop = np.random.rand(NPAR, dim)\n",
        "    diff=np.zeros(PAR)\n",
        "    for ii in range(PAR):\n",
        "      diff[ii] = MAX[ii]-MIN[ii]\n",
        "    X = MIN + pop * diff\n",
        "    Xf = MIN + pop * diff\n",
        "    \n",
        "    DIo=1e99\n",
        "  \n",
        "    CRo=crossp;Fo=mut;\n",
        "    Fitness = np.asarray([Fun(ind) for ind in X])\n",
        "\n",
        "    XY,BEST_XY,BESTo,FOBESTo=AvaliaX(X,Fitness)\n",
        "    nrow,ncol=X.shape\n",
        "\n",
        "    QUANT=17;MAT_INDo=np.zeros((1,QUANT)); # quantos indices esta fazendo\n",
        "    MAT_INDo[0,5]=nrow  # VALOR NP\n",
        "    MAT_INDo[0,6]=Fo    # VALOR Fo   \n",
        "    MAT_INDo[0,7]=CRo   # VALOR CRo\n",
        "  \n",
        "    MAT_INDo=GeraIndices(X,BESTo,FOBESTo,DIo,MAT_INDo,SOMA,TOTAL,syn0_F,\n",
        "                        syn1_F,X_max_F,X_min_F,syn0_CR,syn1_CR,X_max_CR,\n",
        "                        X_min_CR,Fc,fields,Fun)\n",
        "  \n",
        "    DIo=np.copy(MAT_INDo[0,0])\n",
        "    MAT_INDo[0,15]=Fo    # VALOR Fo   \n",
        "    MAT_INDo[0,16]=CRo   # VALOR CRo\n",
        "    #ind_crossp=ITE-1\n",
        "\n",
        "    \n",
        "    for k in range(ITE):\n",
        "      X,BEST,FOBEST,XY,BEST_XY,SOMA= de_soma_Insight.de(MAX,MIN, mut, crossp,NPAR,its,Fun,X,SOMA,TOTAL)\n",
        "      #Xf,BESTf,FOBESTf,XYf,BEST_XYf,SOMAf= de_soma_Insight.de(MAX,MIN, Fi, CRi, NPAR,its,Fun,Xf,SOMAf,TOTAL)\n",
        "\n",
        "      \n",
        "      MAT_IND=GeraIndices(X,BESTo,FOBESTo,DIo,MAT_INDo,SOMA,TOTAL,syn0_F,\n",
        "                          syn1_F,X_max_F,X_min_F,syn0_CR,syn1_CR,X_max_CR,\n",
        "                          X_min_CR,Fc,fields,Fun)\n",
        "    \n",
        "      BESTo=np.copy(BEST);FOBESTo=np.copy(FOBEST);\n",
        "      MAT.append(MAT_IND.ravel())\n",
        "    \n",
        "      MAT_INDo[0,6]=MAT_IND[0,15]   # VALOR Fo   \n",
        "      MAT_INDo[0,7]=MAT_IND[0,16]   # VALOR CRo\n",
        "      mut=MAT_IND[0,15]\n",
        "      crossp=MAT_IND[0,16]\n",
        "\n",
        "      Fitness = np.asarray([Fun(ind) for ind in X])\n",
        "      #Fitnessf = np.asarray([Fun(ind) for ind in Xf])\n",
        "      Maior=np.argmax(Fitness)\n",
        "      #Maiorf=np.argmax(Fitnessf)\n",
        "      Menor=np.argmin(Fitness)\n",
        "      #Menorf=np.argmin(Fitnessf)\n",
        "\n",
        "      #X[Maior,:]=np.copy(Xf[Menorf,:])\n",
        "      #Xf[Maiorf,:]=np.copy(X[Menor,:])\n",
        "      \n",
        "    BEST_AGENTS.append(BEST_XY)\n",
        "    MAT_stat.append(MAT)\n",
        "    #print(\"GlobalParam e Solucao:\", BEST,\"Funcao=\",FOBEST)\n",
        "    \n",
        "############################## Cálculo dos Parâmetros de Avaliação   \n",
        "TIME = (time.time() - start_time)/RUNS\n",
        "BEST_AGENTS=np.array(BEST_AGENTS)\n",
        "BEST_AGENTS_ST= BEST_AGENTS[BEST_AGENTS[:,-1].argsort()]\n",
        "BEST=BEST_AGENTS_ST[0]\n",
        "WORSE=BEST_AGENTS_ST[-1]\n",
        "MEAN=np.mean(BEST_AGENTS,axis=0)\n",
        "MAXFO=BEST_AGENTS[:,-1].max()\n",
        "MINFO=BEST_AGENTS[:,-1].min()\n",
        "STD=BEST_AGENTS[:,-1].std()\n",
        "\n",
        "nome='_ANN_Div3x4_Fo-'+str(Fi)+'_CRo-'+str(CRi)+'_D-'+str(dim)+'_Interv-'+str(ITE)\n",
        "print('DE_POP_VAR_F_CR','TOTAL=',TOTAL,'Iterações=',ITE*its,'Dim=', PAR,\"Min/Max=\",MIN[0],\"/\",MAX[0],'_',Fun.__name__)\n",
        "print(nome, '\\n')\n",
        "print('MÉDIA: ',MEAN[-1])\n",
        "print('MIN __:',MINFO)\n",
        "print('MAX__: ',MAXFO)\n",
        "print('STD __:',STD)\n",
        "print(\"Tempo Médio= %.3f segundos ---\" % (TIME))\n",
        "print(RUNS,'Rodadas') \n",
        "print()\n",
        "print('BEST: ',BEST)"
      ],
      "execution_count": 15,
      "outputs": [
        {
          "output_type": "stream",
          "text": [
            "ite= 0 total=50 time= 8.678436279296875e-06\n",
            "ite= 1 total=50 time= 1.0111896077791849\n",
            "ite= 2 total=50 time= 2.0267644921938577\n",
            "ite= 3 total=50 time= 3.038713284333547\n",
            "ite= 4 total=50 time= 4.051622287432353\n",
            "ite= 5 total=50 time= 5.065476143360138\n",
            "ite= 6 total=50 time= 6.076929215590159\n",
            "ite= 7 total=50 time= 7.0931918025016785\n",
            "ite= 8 total=50 time= 8.107087290287017\n",
            "ite= 9 total=50 time= 9.117777514457703\n",
            "ite= 10 total=50 time= 10.129118617375692\n",
            "ite= 11 total=50 time= 11.139675978819529\n",
            "ite= 12 total=50 time= 12.15019985040029\n",
            "ite= 13 total=50 time= 13.161996185779572\n",
            "ite= 14 total=50 time= 14.173126534620922\n",
            "ite= 15 total=50 time= 15.184102555116018\n",
            "ite= 16 total=50 time= 16.19601263999939\n",
            "ite= 17 total=50 time= 17.206964361667634\n",
            "ite= 18 total=50 time= 18.22033472061157\n",
            "ite= 19 total=50 time= 19.23082458972931\n",
            "ite= 20 total=50 time= 20.242554219563804\n",
            "ite= 21 total=50 time= 21.29164762099584\n",
            "ite= 22 total=50 time= 22.33391619126002\n",
            "ite= 23 total=50 time= 23.350026400883994\n",
            "ite= 24 total=50 time= 24.364209691683453\n",
            "ite= 25 total=50 time= 25.376456209023793\n",
            "ite= 26 total=50 time= 26.388120822111766\n",
            "ite= 27 total=50 time= 27.401443211237588\n",
            "ite= 28 total=50 time= 28.417071970303855\n",
            "ite= 29 total=50 time= 29.429907774925233\n",
            "ite= 30 total=50 time= 30.442533282438912\n",
            "ite= 31 total=50 time= 31.519510535399117\n",
            "ite= 32 total=50 time= 32.544483760992684\n",
            "ite= 33 total=50 time= 33.55891262292862\n",
            "ite= 34 total=50 time= 34.573894580205284\n",
            "ite= 35 total=50 time= 35.58414090077083\n",
            "ite= 36 total=50 time= 36.59463783899943\n",
            "ite= 37 total=50 time= 37.60578014850616\n",
            "ite= 38 total=50 time= 38.61954273780187\n",
            "ite= 39 total=50 time= 39.628611489137015\n",
            "ite= 40 total=50 time= 40.63883932431539\n",
            "ite= 41 total=50 time= 41.71703692674637\n",
            "ite= 42 total=50 time= 42.72730549573898\n",
            "ite= 43 total=50 time= 43.73789158264796\n",
            "ite= 44 total=50 time= 44.74534125328064\n",
            "ite= 45 total=50 time= 45.75477434794108\n",
            "ite= 46 total=50 time= 46.76312316656113\n",
            "ite= 47 total=50 time= 47.771884485085806\n",
            "ite= 48 total=50 time= 48.780731642246245\n",
            "ite= 49 total=50 time= 49.79103360970815\n",
            "DE_POP_VAR_F_CR TOTAL= 150000 Iterações= 1000 Dim= 30 Min/Max= -2 / 2 _ Salomon\n",
            "_ANN_Div3x4_Fo-0.5_CRo-0.5_D-30_Interv-1000 \n",
            "\n",
            "MÉDIA:  0.5058733669005647\n",
            "MIN __: 0.4998733458468176\n",
            "MAX__:  0.5998733461027039\n",
            "STD __: 0.023748678876966592\n",
            "Tempo Médio= 60.962 segundos ---\n",
            "50 Rodadas\n",
            "\n",
            "BEST:  [ 1.15848723 -1.01753447  1.17003016  1.32804565 -0.04273924  0.02666934\n",
            " -0.6807951   0.46237875  0.50554864  0.96118214 -1.10845312  0.17680718\n",
            " -0.56732338  1.56801414  1.31611395 -0.13237405 -0.45444596 -0.67080141\n",
            "  1.0688917  -1.16975304  0.0990839   0.59006526 -1.53977922 -1.07217967\n",
            " -2.          0.11415436  0.100755   -0.11962368 -0.41436871  0.74840375\n",
            "  0.49987335]\n"
          ],
          "name": "stdout"
        }
      ]
    }
  ]
}