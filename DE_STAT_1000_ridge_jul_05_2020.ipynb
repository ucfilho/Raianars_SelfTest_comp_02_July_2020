{
  "nbformat": 4,
  "nbformat_minor": 0,
  "metadata": {
    "accelerator": "GPU",
    "colab": {
      "name": "DE_STAT_1000_ridge_jul_05_2020.ipynb",
      "provenance": [],
      "collapsed_sections": [],
      "include_colab_link": true
    },
    "kernelspec": {
      "display_name": "Python 3",
      "language": "python",
      "name": "python3"
    },
    "language_info": {
      "codemirror_mode": {
        "name": "ipython",
        "version": 3
      },
      "file_extension": ".py",
      "mimetype": "text/x-python",
      "name": "python",
      "nbconvert_exporter": "python",
      "pygments_lexer": "ipython3",
      "version": "3.6.1"
    }
  },
  "cells": [
    {
      "cell_type": "markdown",
      "metadata": {
        "id": "view-in-github",
        "colab_type": "text"
      },
      "source": [
        "<a href=\"https://colab.research.google.com/github/ucfilho/Raianars_SelfTest_comp_02_July_2020/blob/master/DE_STAT_1000_ridge_jul_05_2020.ipynb\" target=\"_parent\"><img src=\"https://colab.research.google.com/assets/colab-badge.svg\" alt=\"Open In Colab\"/></a>"
      ]
    },
    {
      "cell_type": "code",
      "metadata": {
        "colab_type": "code",
        "id": "cG5nOUQ9Eucw",
        "colab": {}
      },
      "source": [
        "# Noisy_Quartic\n",
        "# In the paper Ngen=3000 NPAR=100 RUNS=50 dim=30\n",
        "# JADE: Adaptive Differential Evolution with Optional External Archive\n"
      ],
      "execution_count": 1,
      "outputs": []
    },
    {
      "cell_type": "code",
      "metadata": {
        "colab_type": "code",
        "id": "v1OxgXboBKoG",
        "colab": {}
      },
      "source": [
        "import time\n",
        "import matplotlib.pyplot as plt\n",
        "import numpy as np\n",
        "from random import randint"
      ],
      "execution_count": 2,
      "outputs": []
    },
    {
      "cell_type": "code",
      "metadata": {
        "id": "qMRpE0dGULCI",
        "colab_type": "code",
        "colab": {
          "base_uri": "https://localhost:8080/",
          "height": 54
        },
        "outputId": "e1410bd9-0e61-4cd9-d8ac-4dbd9207ad67"
      },
      "source": [
        "!git clone https://github.com/ucfilho/Raianars_July_2020 #clonar do Github\n",
        "%cd Raianars_July_2020"
      ],
      "execution_count": 3,
      "outputs": [
        {
          "output_type": "stream",
          "text": [
            "fatal: destination path 'Raianars_July_2020' already exists and is not an empty directory.\n",
            "/content/Raianars_July_2020\n"
          ],
          "name": "stdout"
        }
      ]
    },
    {
      "cell_type": "code",
      "metadata": {
        "colab_type": "code",
        "id": "_E15mKFURR6O",
        "colab": {}
      },
      "source": [
        "import de_soma_Insight\n",
        "import de_bounds_matriz\n",
        "import Function\n",
        "import Go2MinMax\n",
        "from AvaliaX import AvaliaX\n",
        "\n",
        "\n",
        "############################### DADOS DE ENTRADA \n",
        "RUNS=50 #NÚMERO DE RODADAS\n",
        "its=1 #10 # quantas vezes vai usar o NPAR antes de alterar de novo\n",
        "ITE=1000 #10 # PONTOS quantas vezes vai alteral NPAR \n",
        "NPAR=100\n",
        "\n",
        "mut=0.5\n",
        "crossp=0.5\n",
        "dim=30\n",
        "\n",
        "#fchoice='Rastrigin' #fchoice='Michalewicz' #fchoice='Schwefel'\n",
        "fchoice='ridge'  \n",
        "Fun=Function.ridge\n",
        "\n",
        "MIN,MAX=Go2MinMax.Intervalo(dim,fchoice)\n",
        "\n",
        "TOTAL=10*dim*its*ITE\n",
        "SOMA=0"
      ],
      "execution_count": 4,
      "outputs": []
    },
    {
      "cell_type": "code",
      "metadata": {
        "colab_type": "code",
        "id": "rnX8ttNopd1G",
        "colab": {
          "base_uri": "https://localhost:8080/",
          "height": 926
        },
        "outputId": "f28aeeb1-5b08-49b2-bae0-4bb596840c71"
      },
      "source": [
        "start_time = time.time()\n",
        "BEST_AGENTS=[]\n",
        "MAT_stat=[]\n",
        "\n",
        "for i in range(RUNS):\n",
        "\n",
        "    pop = np.random.rand(NPAR, dim)\n",
        "    diff=np.zeros(dim)\n",
        "    for ii in range(dim):\n",
        "      diff[ii] = MAX[ii]-MIN[ii]\n",
        "    X = MIN + pop * diff\n",
        "\n",
        "    for k in range(ITE):\n",
        "      X,BEST,FOBEST,XY,BEST_XY,SOMA= de_soma_Insight.de(MAX,MIN, mut, crossp,dim,its,Fun,X,SOMA,TOTAL)\n",
        "\n",
        "    start_run = (time.time()-start_time)/60\n",
        "    print('run=',i,'total=50','Fobj=',FOBEST,'Time=',start_run)  \n",
        "    BEST_AGENTS.append(BEST_XY)"
      ],
      "execution_count": 5,
      "outputs": [
        {
          "output_type": "stream",
          "text": [
            "run= 0 total=50 Fobj= -2.0 Time= 0.12709675232569376\n",
            "run= 1 total=50 Fobj= -2.0 Time= 0.25374108950297036\n",
            "run= 2 total=50 Fobj= -2.0 Time= 0.38044917980829873\n",
            "run= 3 total=50 Fobj= -2.0 Time= 0.5077777862548828\n",
            "run= 4 total=50 Fobj= -2.0 Time= 0.634701422850291\n",
            "run= 5 total=50 Fobj= -2.0 Time= 0.7623674392700195\n",
            "run= 6 total=50 Fobj= -2.0 Time= 0.8894049843152364\n",
            "run= 7 total=50 Fobj= -2.0 Time= 1.0153854529062907\n",
            "run= 8 total=50 Fobj= -2.0 Time= 1.1428267161051433\n",
            "run= 9 total=50 Fobj= -2.0 Time= 1.2735297481218975\n",
            "run= 10 total=50 Fobj= 1.0217136835608978 Time= 1.3522434512774149\n",
            "run= 11 total=50 Fobj= 0.9886614317210571 Time= 1.430096439520518\n",
            "run= 12 total=50 Fobj= 0.7926606729494456 Time= 1.506605120499929\n",
            "run= 13 total=50 Fobj= 0.8105708560112439 Time= 1.583050274848938\n",
            "run= 14 total=50 Fobj= 1.3115774811800245 Time= 1.6596909761428833\n",
            "run= 15 total=50 Fobj= 0.8490651455087495 Time= 1.7363699873288472\n",
            "run= 16 total=50 Fobj= 1.1946951407657687 Time= 1.814332083861033\n",
            "run= 17 total=50 Fobj= 1.0512549762738623 Time= 1.8916969458262125\n",
            "run= 18 total=50 Fobj= 0.9676242917068123 Time= 1.968517271677653\n",
            "run= 19 total=50 Fobj= 0.8736740540872274 Time= 2.0453378796577453\n",
            "run= 20 total=50 Fobj= 0.8901948110232007 Time= 2.1225412686665854\n",
            "run= 21 total=50 Fobj= 0.9101953490586094 Time= 2.1997052232424417\n",
            "run= 22 total=50 Fobj= 1.3661292899825859 Time= 2.2771156350771586\n",
            "run= 23 total=50 Fobj= 0.9522166186908119 Time= 2.3552068789800007\n",
            "run= 24 total=50 Fobj= 0.9794027984206131 Time= 2.4354378978411355\n",
            "run= 25 total=50 Fobj= 0.8794765495631136 Time= 2.5139021317164105\n",
            "run= 26 total=50 Fobj= 1.026135376459155 Time= 2.5916767636934916\n",
            "run= 27 total=50 Fobj= 1.1471032650643282 Time= 2.6688372254371644\n",
            "run= 28 total=50 Fobj= 0.8976405244445851 Time= 2.745816711584727\n",
            "run= 29 total=50 Fobj= 0.8370646342632506 Time= 2.8236227154731752\n",
            "run= 30 total=50 Fobj= 0.8950149623197565 Time= 2.9016368349393207\n",
            "run= 31 total=50 Fobj= 0.9998408777870282 Time= 2.9792654196421307\n",
            "run= 32 total=50 Fobj= 0.914965741773063 Time= 3.0568799018859862\n",
            "run= 33 total=50 Fobj= 1.0971628852446438 Time= 3.1339459896087645\n",
            "run= 34 total=50 Fobj= 0.9304361002892105 Time= 3.2105849544207254\n",
            "run= 35 total=50 Fobj= 0.8942113817118096 Time= 3.287785057226817\n",
            "run= 36 total=50 Fobj= 1.143690540803715 Time= 3.3654195785522463\n",
            "run= 37 total=50 Fobj= 1.1105965456245874 Time= 3.44395112991333\n",
            "run= 38 total=50 Fobj= 0.8841802519150992 Time= 3.5221918702125548\n",
            "run= 39 total=50 Fobj= 0.9571200999328546 Time= 3.6000813563664753\n",
            "run= 40 total=50 Fobj= 0.9212693600808808 Time= 3.6788614908854167\n",
            "run= 41 total=50 Fobj= 0.9060973672668502 Time= 3.758178921540578\n",
            "run= 42 total=50 Fobj= 0.8381174867743049 Time= 3.838842451572418\n",
            "run= 43 total=50 Fobj= 1.0366652142908062 Time= 3.918351721763611\n",
            "run= 44 total=50 Fobj= 0.8660310937134432 Time= 3.996244243780772\n",
            "run= 45 total=50 Fobj= 0.869984294728146 Time= 4.07436823050181\n",
            "run= 46 total=50 Fobj= 0.9457444020300749 Time= 4.152374653021495\n",
            "run= 47 total=50 Fobj= 0.7744847782664062 Time= 4.230459626515707\n",
            "run= 48 total=50 Fobj= 1.0881155179130233 Time= 4.308288772900899\n",
            "run= 49 total=50 Fobj= 0.906114956721642 Time= 4.385951419671376\n"
          ],
          "name": "stdout"
        }
      ]
    },
    {
      "cell_type": "code",
      "metadata": {
        "colab_type": "code",
        "id": "lNSN5X-wskcx",
        "colab": {
          "base_uri": "https://localhost:8080/",
          "height": 345
        },
        "outputId": "1a969f71-7ae8-45d3-e442-d45192cbf9ea"
      },
      "source": [
        "############################## Cálculo dos Parâmetros de Avaliação   \n",
        "TIME = (time.time() - start_time)/RUNS\n",
        "BEST_AGENTS=np.array(BEST_AGENTS)\n",
        "BEST_AGENTS_ST= BEST_AGENTS[BEST_AGENTS[:,-1].argsort()]\n",
        "BEST=BEST_AGENTS_ST[0]\n",
        "WORSE=BEST_AGENTS_ST[-1]\n",
        "MEAN=np.mean(BEST_AGENTS,axis=0)\n",
        "MAXFO=BEST_AGENTS[:,-1].max()\n",
        "MINFO=BEST_AGENTS[:,-1].min()\n",
        "STD=BEST_AGENTS[:,-1].std()\n",
        "\n",
        "nome='_DE_STAT_Fo-'+str(mut)+'_CRo-'+str(crossp)+'_D-'+str(dim)+'_Interv-'+str(ITE)\n",
        "print('DE_POP_VAR_F_CR','TOTAL=',TOTAL,'Iterações=',ITE*its,'Dim=', dim,\"Min/Max=\",MIN[0],\"/\",MAX[0],'_',Fun.__name__)\n",
        "print(nome, '\\n')\n",
        "#print('BEST: ',BEST)\n",
        "#print('MÉDIA: ',MEAN)\n",
        "print('MÉDIA: ',MEAN[-1])\n",
        "print('MIN __:',MINFO)\n",
        "print('MAX__: ',MAXFO)\n",
        "print('STD __:',STD)\n",
        "print(\"Tempo Médio= %.3f segundos ---\" % (TIME))\n",
        "print(RUNS,'Rodadas') \n",
        "print()\n",
        "print('BEST: ',BEST)\n",
        "# print('melhor=',BEST_AGENTS[BEST_INDEX])"
      ],
      "execution_count": 6,
      "outputs": [
        {
          "output_type": "stream",
          "text": [
            "DE_POP_VAR_F_CR TOTAL= 300000 Iterações= 1000 Dim= 30 Min/Max= -2 / 2 _ ridge\n",
            "_DE_STAT_Fo-0.5_CRo-0.5_D-30_Interv-1000 \n",
            "\n",
            "MÉDIA:  0.3745380161984537\n",
            "MIN __: -2.0\n",
            "MAX__:  1.3661292899825859\n",
            "STD __: 1.1930393692983223\n",
            "Tempo Médio= 5.264 segundos ---\n",
            "50 Rodadas\n",
            "\n",
            "BEST:  [-2.00000000e+00 -9.47521706e-09 -5.17701524e-09 -5.63188337e-09\n",
            " -2.04541359e-08 -9.86816527e-09  1.98935113e-08  1.24263155e-08\n",
            "  2.21803671e-10 -1.09361221e-08  7.77663195e-09  1.44370626e-08\n",
            " -9.24926161e-09 -6.31104813e-10  9.78006673e-09  1.19825917e-08\n",
            "  2.07964199e-08 -6.18756827e-09  9.86219632e-09  2.09384033e-08\n",
            " -1.17968016e-08 -1.01745303e-08  1.68209818e-08  5.80722450e-09\n",
            "  6.38963585e-09 -1.66314098e-09 -3.00617024e-09 -1.06418121e-09\n",
            "  2.09538964e-09  1.37508878e-08 -2.00000000e+00]\n"
          ],
          "name": "stdout"
        }
      ]
    }
  ]
}