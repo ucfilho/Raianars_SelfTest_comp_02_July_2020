{
  "nbformat": 4,
  "nbformat_minor": 0,
  "metadata": {
    "accelerator": "GPU",
    "colab": {
      "name": "DE_STAT_1000_ridge_jul_05_2020.ipynb",
      "provenance": [],
      "collapsed_sections": [],
      "include_colab_link": true
    },
    "kernelspec": {
      "display_name": "Python 3",
      "language": "python",
      "name": "python3"
    },
    "language_info": {
      "codemirror_mode": {
        "name": "ipython",
        "version": 3
      },
      "file_extension": ".py",
      "mimetype": "text/x-python",
      "name": "python",
      "nbconvert_exporter": "python",
      "pygments_lexer": "ipython3",
      "version": "3.6.1"
    }
  },
  "cells": [
    {
      "cell_type": "markdown",
      "metadata": {
        "id": "view-in-github",
        "colab_type": "text"
      },
      "source": [
        "<a href=\"https://colab.research.google.com/github/ucfilho/Raianars_SelfTest_comp_02_July_2020/blob/master/DE_STAT_1000_ridge_jul_05_2020.ipynb\" target=\"_parent\"><img src=\"https://colab.research.google.com/assets/colab-badge.svg\" alt=\"Open In Colab\"/></a>"
      ]
    },
    {
      "cell_type": "code",
      "metadata": {
        "colab_type": "code",
        "id": "cG5nOUQ9Eucw",
        "colab": {}
      },
      "source": [
        "# Noisy_Quartic\n",
        "# In the paper Ngen=3000 NPAR=100 RUNS=50 dim=30\n",
        "# JADE: Adaptive Differential Evolution with Optional External Archive\n"
      ],
      "execution_count": 1,
      "outputs": []
    },
    {
      "cell_type": "code",
      "metadata": {
        "colab_type": "code",
        "id": "v1OxgXboBKoG",
        "colab": {}
      },
      "source": [
        "import time\n",
        "import matplotlib.pyplot as plt\n",
        "import numpy as np\n",
        "from random import randint"
      ],
      "execution_count": 2,
      "outputs": []
    },
    {
      "cell_type": "code",
      "metadata": {
        "id": "qMRpE0dGULCI",
        "colab_type": "code",
        "colab": {
          "base_uri": "https://localhost:8080/",
          "height": 158
        },
        "outputId": "0030e492-61df-4125-9053-475463321d97"
      },
      "source": [
        "!git clone https://github.com/ucfilho/Raianars_July_2020 #clonar do Github\n",
        "%cd Raianars_July_2020"
      ],
      "execution_count": 3,
      "outputs": [
        {
          "output_type": "stream",
          "text": [
            "Cloning into 'Raianars_July_2020'...\n",
            "remote: Enumerating objects: 9, done.\u001b[K\n",
            "remote: Counting objects: 100% (9/9), done.\u001b[K\n",
            "remote: Compressing objects: 100% (9/9), done.\u001b[K\n",
            "remote: Total 132 (delta 3), reused 0 (delta 0), pack-reused 123\u001b[K\n",
            "Receiving objects: 100% (132/132), 200.33 KiB | 1000.00 KiB/s, done.\n",
            "Resolving deltas: 100% (65/65), done.\n",
            "/content/Raianars_July_2020\n"
          ],
          "name": "stdout"
        }
      ]
    },
    {
      "cell_type": "code",
      "metadata": {
        "colab_type": "code",
        "id": "_E15mKFURR6O",
        "colab": {}
      },
      "source": [
        "import de_soma_Insight\n",
        "import de_bounds_matriz\n",
        "import Function\n",
        "import Go2MinMax\n",
        "from AvaliaX import AvaliaX\n",
        "\n",
        "\n",
        "############################### DADOS DE ENTRADA \n",
        "RUNS=50 #NÚMERO DE RODADAS\n",
        "its=1 #10 # quantas vezes vai usar o NPAR antes de alterar de novo\n",
        "ITE=1000 #10 # PONTOS quantas vezes vai alteral NPAR \n",
        "NPAR=100\n",
        "\n",
        "mut=0.5\n",
        "crossp=0.5\n",
        "dim=30\n",
        "\n",
        "#fchoice='Rastrigin' #fchoice='Michalewicz' #fchoice='Schwefel'\n",
        "fchoice='ridge'  \n",
        "Fun=Function.ridge\n",
        "\n",
        "MIN,MAX=Go2MinMax.Intervalo(dim,fchoice)\n",
        "\n",
        "TOTAL=10*dim*its*ITE\n",
        "SOMA=0"
      ],
      "execution_count": 4,
      "outputs": []
    },
    {
      "cell_type": "code",
      "metadata": {
        "colab_type": "code",
        "id": "rnX8ttNopd1G",
        "colab": {
          "base_uri": "https://localhost:8080/",
          "height": 905
        },
        "outputId": "13cd3e0d-d6dd-4986-9fc3-685db1d574d1"
      },
      "source": [
        "start_time = time.time()\n",
        "BEST_AGENTS=[]\n",
        "MAT_stat=[]\n",
        "\n",
        "for i in range(RUNS):\n",
        "\n",
        "    pop = np.random.rand(NPAR, dim)\n",
        "    diff=np.zeros(dim)\n",
        "    for ii in range(dim):\n",
        "      diff[ii] = MAX[ii]-MIN[ii]\n",
        "    X = MIN + pop * diff\n",
        "    SOMA=0\n",
        "    for k in range(ITE):\n",
        "      X,BEST,FOBEST,XY,BEST_XY,SOMA= de_soma_Insight.de(MAX,MIN, mut, crossp,dim,its,Fun,X,SOMA,TOTAL)\n",
        "\n",
        "    start_run = (time.time()-start_time)/60\n",
        "    print('run=',i,'total=50','Fobj=',FOBEST,'Time=',start_run)  \n",
        "    BEST_AGENTS.append(BEST_XY)"
      ],
      "execution_count": 5,
      "outputs": [
        {
          "output_type": "stream",
          "text": [
            "run= 0 total=50 Fobj= -2.0 Time= 0.1844562530517578\n",
            "run= 1 total=50 Fobj= -2.0 Time= 0.36941882769266765\n",
            "run= 2 total=50 Fobj= -2.0 Time= 0.5543063998222351\n",
            "run= 3 total=50 Fobj= -2.0 Time= 0.7389299829800924\n",
            "run= 4 total=50 Fobj= -2.0 Time= 0.9244880278905233\n",
            "run= 5 total=50 Fobj= -2.0 Time= 1.10860382715861\n",
            "run= 6 total=50 Fobj= -2.0 Time= 1.2928512374560037\n",
            "run= 7 total=50 Fobj= -2.0 Time= 1.476024866104126\n",
            "run= 8 total=50 Fobj= -2.0 Time= 1.659333070119222\n",
            "run= 9 total=50 Fobj= -2.0 Time= 1.8438259720802308\n",
            "run= 10 total=50 Fobj= -2.0 Time= 2.027105915546417\n",
            "run= 11 total=50 Fobj= -2.0 Time= 2.2100263118743895\n",
            "run= 12 total=50 Fobj= -2.0 Time= 2.391956822077433\n",
            "run= 13 total=50 Fobj= -2.0 Time= 2.5747419357299806\n",
            "run= 14 total=50 Fobj= -2.0 Time= 2.7575610677401223\n",
            "run= 15 total=50 Fobj= -2.0 Time= 2.9407803813616433\n",
            "run= 16 total=50 Fobj= -2.0 Time= 3.123542340596517\n",
            "run= 17 total=50 Fobj= -2.0 Time= 3.3061508973439535\n",
            "run= 18 total=50 Fobj= -2.0 Time= 3.4887009620666505\n",
            "run= 19 total=50 Fobj= -2.0 Time= 3.672266228993734\n",
            "run= 20 total=50 Fobj= -2.0 Time= 3.855026733875275\n",
            "run= 21 total=50 Fobj= -2.0 Time= 4.0384676059087115\n",
            "run= 22 total=50 Fobj= -2.0 Time= 4.220760043462118\n",
            "run= 23 total=50 Fobj= -2.0 Time= 4.403564782937368\n",
            "run= 24 total=50 Fobj= -2.0 Time= 4.587081011136373\n",
            "run= 25 total=50 Fobj= -2.0 Time= 4.769562832514445\n",
            "run= 26 total=50 Fobj= -2.0 Time= 4.951964426040649\n",
            "run= 27 total=50 Fobj= -2.0 Time= 5.134748605887095\n",
            "run= 28 total=50 Fobj= -2.0 Time= 5.3177630265553795\n",
            "run= 29 total=50 Fobj= -2.0 Time= 5.500744179884593\n",
            "run= 30 total=50 Fobj= -2.0 Time= 5.683920768896739\n",
            "run= 31 total=50 Fobj= -2.0 Time= 5.867232672373453\n",
            "run= 32 total=50 Fobj= -2.0 Time= 6.04963432153066\n",
            "run= 33 total=50 Fobj= -2.0 Time= 6.23379107316335\n",
            "run= 34 total=50 Fobj= -2.0 Time= 6.416952220598857\n",
            "run= 35 total=50 Fobj= -2.0 Time= 6.602024833361308\n",
            "run= 36 total=50 Fobj= -2.0 Time= 6.78842704296112\n",
            "run= 37 total=50 Fobj= -2.0 Time= 6.9725471377372745\n",
            "run= 38 total=50 Fobj= -2.0 Time= 7.156565546989441\n",
            "run= 39 total=50 Fobj= -2.0 Time= 7.340919427076975\n",
            "run= 40 total=50 Fobj= -2.0 Time= 7.524656740824382\n",
            "run= 41 total=50 Fobj= -2.0 Time= 7.711715094248453\n",
            "run= 42 total=50 Fobj= -2.0 Time= 7.897328615188599\n",
            "run= 43 total=50 Fobj= -2.0 Time= 8.081393412748973\n",
            "run= 44 total=50 Fobj= -2.0 Time= 8.264499525229136\n",
            "run= 45 total=50 Fobj= -2.0 Time= 8.447128355503082\n",
            "run= 46 total=50 Fobj= -2.0 Time= 8.631673773129782\n",
            "run= 47 total=50 Fobj= -2.0 Time= 8.814751426378885\n",
            "run= 48 total=50 Fobj= -2.0 Time= 8.998862894376119\n",
            "run= 49 total=50 Fobj= -2.0 Time= 9.18333355585734\n"
          ],
          "name": "stdout"
        }
      ]
    },
    {
      "cell_type": "code",
      "metadata": {
        "colab_type": "code",
        "id": "lNSN5X-wskcx",
        "colab": {
          "base_uri": "https://localhost:8080/",
          "height": 336
        },
        "outputId": "769f732b-680e-42da-ea1a-4b0d884b688d"
      },
      "source": [
        "############################## Cálculo dos Parâmetros de Avaliação   \n",
        "TIME = (time.time() - start_time)/RUNS\n",
        "BEST_AGENTS=np.array(BEST_AGENTS)\n",
        "BEST_AGENTS_ST= BEST_AGENTS[BEST_AGENTS[:,-1].argsort()]\n",
        "BEST=BEST_AGENTS_ST[0]\n",
        "WORSE=BEST_AGENTS_ST[-1]\n",
        "MEAN=np.mean(BEST_AGENTS,axis=0)\n",
        "MAXFO=BEST_AGENTS[:,-1].max()\n",
        "MINFO=BEST_AGENTS[:,-1].min()\n",
        "STD=BEST_AGENTS[:,-1].std()\n",
        "\n",
        "nome='_DE_STAT_Fo-'+str(mut)+'_CRo-'+str(crossp)+'_D-'+str(dim)+'_Interv-'+str(ITE)\n",
        "print('DE_POP_VAR_F_CR','TOTAL=',TOTAL,'Iterações=',ITE*its,'Dim=', dim,\"Min/Max=\",MIN[0],\"/\",MAX[0],'_',Fun.__name__)\n",
        "print(nome, '\\n')\n",
        "#print('BEST: ',BEST)\n",
        "#print('MÉDIA: ',MEAN)\n",
        "print('MÉDIA: ',MEAN[-1])\n",
        "print('MIN __:',MINFO)\n",
        "print('MAX__: ',MAXFO)\n",
        "print('STD __:',STD)\n",
        "print(\"Tempo Médio= %.3f segundos ---\" % (TIME))\n",
        "print(RUNS,'Rodadas') \n",
        "print()\n",
        "print('BEST: ',BEST)\n",
        "# print('melhor=',BEST_AGENTS[BEST_INDEX])"
      ],
      "execution_count": 6,
      "outputs": [
        {
          "output_type": "stream",
          "text": [
            "DE_POP_VAR_F_CR TOTAL= 300000 Iterações= 1000 Dim= 30 Min/Max= -2 / 2 _ ridge\n",
            "_DE_STAT_Fo-0.5_CRo-0.5_D-30_Interv-1000 \n",
            "\n",
            "MÉDIA:  -2.0\n",
            "MIN __: -2.0\n",
            "MAX__:  -2.0\n",
            "STD __: 0.0\n",
            "Tempo Médio= 11.020 segundos ---\n",
            "50 Rodadas\n",
            "\n",
            "BEST:  [-2.00000000e+00 -7.76631655e-09  2.53782136e-09  1.70493883e-08\n",
            " -1.27934869e-08 -1.20835708e-08 -2.29089077e-09 -3.14593266e-09\n",
            "  8.25788851e-09  1.00040287e-08 -1.30838792e-09  1.94435833e-08\n",
            " -1.49656577e-09  3.62628285e-09 -2.54367280e-09 -1.16987234e-08\n",
            "  2.38942735e-09  4.74149983e-09  2.07330866e-08 -3.71098537e-09\n",
            "  1.86209106e-08 -1.01500373e-08 -1.47165425e-08  1.08935579e-08\n",
            " -1.97948670e-08  3.77847397e-09  9.07046396e-11  4.46450500e-09\n",
            " -4.51260936e-09 -4.91050815e-09 -2.00000000e+00]\n"
          ],
          "name": "stdout"
        }
      ]
    }
  ]
}