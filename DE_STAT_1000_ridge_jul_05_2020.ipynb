{
  "nbformat": 4,
  "nbformat_minor": 0,
  "metadata": {
    "accelerator": "GPU",
    "colab": {
      "name": "DE_STAT_1000_ridge_jul_05_2020.ipynb",
      "provenance": [],
      "collapsed_sections": [],
      "include_colab_link": true
    },
    "kernelspec": {
      "display_name": "Python 3",
      "language": "python",
      "name": "python3"
    },
    "language_info": {
      "codemirror_mode": {
        "name": "ipython",
        "version": 3
      },
      "file_extension": ".py",
      "mimetype": "text/x-python",
      "name": "python",
      "nbconvert_exporter": "python",
      "pygments_lexer": "ipython3",
      "version": "3.6.1"
    }
  },
  "cells": [
    {
      "cell_type": "markdown",
      "metadata": {
        "id": "view-in-github",
        "colab_type": "text"
      },
      "source": [
        "<a href=\"https://colab.research.google.com/github/ucfilho/Raianars_SelfTest_comp_02_July_2020/blob/master/DE_STAT_1000_ridge_jul_05_2020.ipynb\" target=\"_parent\"><img src=\"https://colab.research.google.com/assets/colab-badge.svg\" alt=\"Open In Colab\"/></a>"
      ]
    },
    {
      "cell_type": "code",
      "metadata": {
        "colab_type": "code",
        "id": "cG5nOUQ9Eucw",
        "colab": {}
      },
      "source": [
        "# Noisy_Quartic\n",
        "# In the paper Ngen=3000 NPAR=100 RUNS=50 dim=30\n",
        "# JADE: Adaptive Differential Evolution with Optional External Archive\n"
      ],
      "execution_count": 1,
      "outputs": []
    },
    {
      "cell_type": "code",
      "metadata": {
        "colab_type": "code",
        "id": "v1OxgXboBKoG",
        "colab": {}
      },
      "source": [
        "import time\n",
        "import matplotlib.pyplot as plt\n",
        "import numpy as np\n",
        "from random import randint"
      ],
      "execution_count": 2,
      "outputs": []
    },
    {
      "cell_type": "code",
      "metadata": {
        "id": "qMRpE0dGULCI",
        "colab_type": "code",
        "colab": {
          "base_uri": "https://localhost:8080/",
          "height": 163
        },
        "outputId": "fdc02c85-3a66-462e-df29-4564e2a5ed2e"
      },
      "source": [
        "!git clone https://github.com/ucfilho/Raianars_July_2020 #clonar do Github\n",
        "%cd Raianars_July_2020"
      ],
      "execution_count": 3,
      "outputs": [
        {
          "output_type": "stream",
          "text": [
            "Cloning into 'Raianars_July_2020'...\n",
            "remote: Enumerating objects: 3, done.\u001b[K\n",
            "remote: Counting objects:  33% (1/3)\u001b[K\rremote: Counting objects:  66% (2/3)\u001b[K\rremote: Counting objects: 100% (3/3)\u001b[K\rremote: Counting objects: 100% (3/3), done.\u001b[K\n",
            "remote: Compressing objects:  33% (1/3)\u001b[K\rremote: Compressing objects:  66% (2/3)\u001b[K\rremote: Compressing objects: 100% (3/3)\u001b[K\rremote: Compressing objects: 100% (3/3), done.\u001b[K\n",
            "remote: Total 126 (delta 0), reused 0 (delta 0), pack-reused 123\u001b[K\n",
            "Receiving objects: 100% (126/126), 198.23 KiB | 12.39 MiB/s, done.\n",
            "Resolving deltas: 100% (62/62), done.\n",
            "/content/Raianars_July_2020\n"
          ],
          "name": "stdout"
        }
      ]
    },
    {
      "cell_type": "code",
      "metadata": {
        "colab_type": "code",
        "id": "_E15mKFURR6O",
        "colab": {}
      },
      "source": [
        "import de_soma_Insight\n",
        "import de_bounds_matriz\n",
        "import Function\n",
        "import Go2MinMax\n",
        "from AvaliaX import AvaliaX\n",
        "\n",
        "\n",
        "############################### DADOS DE ENTRADA \n",
        "RUNS=50 #NÚMERO DE RODADAS\n",
        "its=1 #10 # quantas vezes vai usar o NPAR antes de alterar de novo\n",
        "ITE=3000 #10 # PONTOS quantas vezes vai alteral NPAR \n",
        "NPAR=100\n",
        "\n",
        "mut=0.5\n",
        "crossp=0.5\n",
        "dim=30\n",
        "\n",
        "#fchoice='Rastrigin' #fchoice='Michalewicz' #fchoice='Schwefel'\n",
        "fchoice='ridge'  \n",
        "Fun=Function.ridge\n",
        "\n",
        "MIN,MAX=Go2MinMax.Intervalo(dim,fchoice)\n",
        "\n",
        "TOTAL=10*dim*its*ITE\n",
        "SOMA=0"
      ],
      "execution_count": 4,
      "outputs": []
    },
    {
      "cell_type": "code",
      "metadata": {
        "colab_type": "code",
        "id": "rnX8ttNopd1G",
        "colab": {
          "base_uri": "https://localhost:8080/",
          "height": 926
        },
        "outputId": "cf11a7db-a45b-43bf-a2fd-947b76a90f83"
      },
      "source": [
        "start_time = time.time()\n",
        "BEST_AGENTS=[]\n",
        "MAT_stat=[]\n",
        "\n",
        "for i in range(RUNS):\n",
        "\n",
        "    pop = np.random.rand(NPAR, dim)\n",
        "    diff=np.zeros(dim)\n",
        "    for ii in range(dim):\n",
        "      diff[ii] = MAX[ii]-MIN[ii]\n",
        "    X = MIN + pop * diff\n",
        "\n",
        "    for k in range(ITE):\n",
        "      X,BEST,FOBEST,XY,BEST_XY,SOMA= de_soma_Insight.de(MAX,MIN, mut, crossp,dim,its,Fun,X,SOMA,TOTAL)\n",
        "\n",
        "    start_run = (time.time()-start_time)/60\n",
        "    print('run=',i,'total=50','Fobj=',FOBEST,'Time=',start_run)  \n",
        "    BEST_AGENTS.append(BEST_XY)"
      ],
      "execution_count": 5,
      "outputs": [
        {
          "output_type": "stream",
          "text": [
            "run= 0 total=50 Fobj= -2.0 Time= 0.36978707313537595\n",
            "run= 1 total=50 Fobj= -2.0 Time= 0.7422449906667073\n",
            "run= 2 total=50 Fobj= -2.0 Time= 1.1115382790565491\n",
            "run= 3 total=50 Fobj= -2.0 Time= 1.4866031805674236\n",
            "run= 4 total=50 Fobj= -2.0 Time= 1.8547581553459167\n",
            "run= 5 total=50 Fobj= -2.0 Time= 2.2258397459983827\n",
            "run= 6 total=50 Fobj= -2.0 Time= 2.5949170708656313\n",
            "run= 7 total=50 Fobj= -2.0 Time= 2.969217602411906\n",
            "run= 8 total=50 Fobj= -2.0 Time= 3.3427503228187563\n",
            "run= 9 total=50 Fobj= -2.0 Time= 3.713093626499176\n",
            "run= 10 total=50 Fobj= 0.9537602767601117 Time= 3.9383417129516602\n",
            "run= 11 total=50 Fobj= 1.1648988467396482 Time= 4.161818035443624\n",
            "run= 12 total=50 Fobj= 1.057189796342588 Time= 4.384784491856893\n",
            "run= 13 total=50 Fobj= 0.8768254296247875 Time= 4.608474830786387\n",
            "run= 14 total=50 Fobj= 0.9528632746168437 Time= 4.831478881835937\n",
            "run= 15 total=50 Fobj= 0.9442067105228888 Time= 5.0532807350158695\n",
            "run= 16 total=50 Fobj= 1.0860863500437965 Time= 5.276571687062582\n",
            "run= 17 total=50 Fobj= 1.4062118059414597 Time= 5.498793359597524\n",
            "run= 18 total=50 Fobj= 0.8977973858819066 Time= 5.721163217226664\n",
            "run= 19 total=50 Fobj= 0.9884192733709467 Time= 5.945240139961243\n",
            "run= 20 total=50 Fobj= 1.0114602070094585 Time= 6.168285779158274\n",
            "run= 21 total=50 Fobj= 0.8116436371601958 Time= 6.392572434743245\n",
            "run= 22 total=50 Fobj= 1.314473777791048 Time= 6.618906299273173\n",
            "run= 23 total=50 Fobj= 0.8257028408719211 Time= 6.842403729756673\n",
            "run= 24 total=50 Fobj= 1.1385355358845493 Time= 7.0655629952748615\n",
            "run= 25 total=50 Fobj= 0.9761800983787929 Time= 7.291234632333119\n",
            "run= 26 total=50 Fobj= 0.8917196658325799 Time= 7.516179267565409\n",
            "run= 27 total=50 Fobj= 0.9857177697128616 Time= 7.739237753550212\n",
            "run= 28 total=50 Fobj= 0.8541098711195589 Time= 7.964491629600525\n",
            "run= 29 total=50 Fobj= 0.9589497026291687 Time= 8.18796507914861\n",
            "run= 30 total=50 Fobj= 1.0030614892751655 Time= 8.413116117318472\n",
            "run= 31 total=50 Fobj= 0.831573364020886 Time= 8.63850383758545\n",
            "run= 32 total=50 Fobj= 0.8602060536761993 Time= 8.862814597288768\n",
            "run= 33 total=50 Fobj= 1.3274444197233373 Time= 9.089402556419373\n",
            "run= 34 total=50 Fobj= 1.0123258041881775 Time= 9.313435820738475\n",
            "run= 35 total=50 Fobj= 0.9178961224072446 Time= 9.539656813939413\n",
            "run= 36 total=50 Fobj= 0.8005189781079243 Time= 9.764553344249725\n",
            "run= 37 total=50 Fobj= 1.0587834117625006 Time= 9.99161656300227\n",
            "run= 38 total=50 Fobj= 0.9595986326149566 Time= 10.217020865281423\n",
            "run= 39 total=50 Fobj= 0.9349441889484233 Time= 10.445253582795461\n",
            "run= 40 total=50 Fobj= 0.9440441771159933 Time= 10.672395078341166\n",
            "run= 41 total=50 Fobj= 0.9193101890083404 Time= 10.898366367816925\n",
            "run= 42 total=50 Fobj= 1.0784763702446098 Time= 11.12412086725235\n",
            "run= 43 total=50 Fobj= 0.9196607467579336 Time= 11.352831081549327\n",
            "run= 44 total=50 Fobj= 0.9892574127976568 Time= 11.580457683404287\n",
            "run= 45 total=50 Fobj= 0.984238763310116 Time= 11.810005974769592\n",
            "run= 46 total=50 Fobj= 0.9757267398997507 Time= 12.037093571821849\n",
            "run= 47 total=50 Fobj= 1.0347208926199047 Time= 12.263749774297079\n",
            "run= 48 total=50 Fobj= 1.0821019052997674 Time= 12.49346692164739\n",
            "run= 49 total=50 Fobj= 0.8820566542121919 Time= 12.72359458208084\n"
          ],
          "name": "stdout"
        }
      ]
    },
    {
      "cell_type": "code",
      "metadata": {
        "colab_type": "code",
        "id": "lNSN5X-wskcx",
        "colab": {
          "base_uri": "https://localhost:8080/",
          "height": 345
        },
        "outputId": "ef684004-45a3-49e6-a0f6-b97aaca31fee"
      },
      "source": [
        "############################## Cálculo dos Parâmetros de Avaliação   \n",
        "TIME = (time.time() - start_time)/RUNS\n",
        "BEST_AGENTS=np.array(BEST_AGENTS)\n",
        "BEST_AGENTS_ST= BEST_AGENTS[BEST_AGENTS[:,-1].argsort()]\n",
        "BEST=BEST_AGENTS_ST[0]\n",
        "WORSE=BEST_AGENTS_ST[-1]\n",
        "MEAN=np.mean(BEST_AGENTS,axis=0)\n",
        "MAXFO=BEST_AGENTS[:,-1].max()\n",
        "MINFO=BEST_AGENTS[:,-1].min()\n",
        "STD=BEST_AGENTS[:,-1].std()\n",
        "\n",
        "nome='_DE_STAT_Fo-'+str(mut)+'_CRo-'+str(crossp)+'_D-'+str(dim)+'_Interv-'+str(ITE)\n",
        "print('DE_POP_VAR_F_CR','TOTAL=',TOTAL,'Iterações=',ITE*its,'Dim=', dim,\"Min/Max=\",MIN[0],\"/\",MAX[0],'_',Fun.__name__)\n",
        "print(nome, '\\n')\n",
        "#print('BEST: ',BEST)\n",
        "#print('MÉDIA: ',MEAN)\n",
        "print('MÉDIA: ',MEAN[-1])\n",
        "print('MIN __:',MINFO)\n",
        "print('MAX__: ',MAXFO)\n",
        "print('STD __:',STD)\n",
        "print(\"Tempo Médio= %.3f segundos ---\" % (TIME))\n",
        "print(RUNS,'Rodadas') \n",
        "print()\n",
        "print('BEST: ',BEST)\n",
        "# print('melhor=',BEST_AGENTS[BEST_INDEX])"
      ],
      "execution_count": 6,
      "outputs": [
        {
          "output_type": "stream",
          "text": [
            "DE_POP_VAR_F_CR TOTAL= 900000 Iterações= 3000 Dim= 30 Min/Max= -2 / 2 _ ridge\n",
            "_DE_STAT_Fo-0.5_CRo-0.5_D-30_Interv-3000 \n",
            "\n",
            "MÉDIA:  0.3922539714445239\n",
            "MIN __: -2.0\n",
            "MAX__:  1.4062118059414597\n",
            "STD __: 1.2020323884526387\n",
            "Tempo Médio= 15.269 segundos ---\n",
            "50 Rodadas\n",
            "\n",
            "BEST:  [-2.00000000e+00  6.68266254e-09 -3.81710686e-09 -1.86918915e-08\n",
            " -9.19854179e-09 -1.38273076e-09  5.72552059e-09  7.78224754e-09\n",
            "  1.27413087e-08 -7.78166932e-09  1.32893391e-08  5.35635443e-09\n",
            " -1.80716582e-08  1.57923889e-08  8.12080119e-10 -2.57711094e-09\n",
            "  7.63897652e-09 -1.07111619e-09  1.41134432e-08 -1.09954945e-09\n",
            " -7.40074080e-10  1.34860970e-09 -2.92899804e-09  2.00597402e-08\n",
            " -2.07313321e-08  1.57902957e-08  7.40347000e-09 -1.02137374e-08\n",
            "  7.27105588e-09  8.24198670e-09 -2.00000000e+00]\n"
          ],
          "name": "stdout"
        }
      ]
    }
  ]
}