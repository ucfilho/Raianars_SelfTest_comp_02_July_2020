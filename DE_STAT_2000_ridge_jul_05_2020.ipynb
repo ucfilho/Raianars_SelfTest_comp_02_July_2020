{
  "nbformat": 4,
  "nbformat_minor": 0,
  "metadata": {
    "accelerator": "GPU",
    "colab": {
      "name": "DE_STAT_2000_ridge_jul_05_2020.ipynb",
      "provenance": [],
      "collapsed_sections": [],
      "include_colab_link": true
    },
    "kernelspec": {
      "display_name": "Python 3",
      "language": "python",
      "name": "python3"
    },
    "language_info": {
      "codemirror_mode": {
        "name": "ipython",
        "version": 3
      },
      "file_extension": ".py",
      "mimetype": "text/x-python",
      "name": "python",
      "nbconvert_exporter": "python",
      "pygments_lexer": "ipython3",
      "version": "3.6.1"
    }
  },
  "cells": [
    {
      "cell_type": "markdown",
      "metadata": {
        "id": "view-in-github",
        "colab_type": "text"
      },
      "source": [
        "<a href=\"https://colab.research.google.com/github/ucfilho/Raianars_SelfTest_comp_02_July_2020/blob/master/DE_STAT_2000_ridge_jul_05_2020.ipynb\" target=\"_parent\"><img src=\"https://colab.research.google.com/assets/colab-badge.svg\" alt=\"Open In Colab\"/></a>"
      ]
    },
    {
      "cell_type": "code",
      "metadata": {
        "colab_type": "code",
        "id": "cG5nOUQ9Eucw",
        "colab": {}
      },
      "source": [
        "# Noisy_Quartic\n",
        "# In the paper Ngen=3000 NPAR=100 RUNS=50 dim=30\n",
        "# JADE: Adaptive Differential Evolution with Optional External Archive\n"
      ],
      "execution_count": 1,
      "outputs": []
    },
    {
      "cell_type": "code",
      "metadata": {
        "colab_type": "code",
        "id": "v1OxgXboBKoG",
        "colab": {}
      },
      "source": [
        "import time\n",
        "import matplotlib.pyplot as plt\n",
        "import numpy as np\n",
        "from random import randint"
      ],
      "execution_count": 2,
      "outputs": []
    },
    {
      "cell_type": "code",
      "metadata": {
        "id": "qMRpE0dGULCI",
        "colab_type": "code",
        "colab": {
          "base_uri": "https://localhost:8080/",
          "height": 54
        },
        "outputId": "36019b3c-d4d1-43d5-9c67-b92c849b93a4"
      },
      "source": [
        "!git clone https://github.com/ucfilho/Raianars_July_2020 #clonar do Github\n",
        "%cd Raianars_July_2020"
      ],
      "execution_count": 3,
      "outputs": [
        {
          "output_type": "stream",
          "text": [
            "fatal: destination path 'Raianars_July_2020' already exists and is not an empty directory.\n",
            "/content/Raianars_July_2020\n"
          ],
          "name": "stdout"
        }
      ]
    },
    {
      "cell_type": "code",
      "metadata": {
        "colab_type": "code",
        "id": "_E15mKFURR6O",
        "colab": {}
      },
      "source": [
        "import de_soma_Insight\n",
        "import de_bounds_matriz\n",
        "import Function\n",
        "import Go2MinMax\n",
        "from AvaliaX import AvaliaX\n",
        "\n",
        "\n",
        "############################### DADOS DE ENTRADA \n",
        "RUNS=50 #NÚMERO DE RODADAS\n",
        "its=1 #10 # quantas vezes vai usar o NPAR antes de alterar de novo\n",
        "ITE=2000 #10 # PONTOS quantas vezes vai alteral NPAR \n",
        "NPAR=100\n",
        "\n",
        "mut=0.5\n",
        "crossp=0.5\n",
        "dim=30\n",
        "\n",
        "#fchoice='Rastrigin' #fchoice='Michalewicz' #fchoice='Schwefel'\n",
        "fchoice='ridge'  \n",
        "Fun=Function.ridge\n",
        "\n",
        "MIN,MAX=Go2MinMax.Intervalo(dim,fchoice)\n",
        "\n",
        "TOTAL=10*dim*its*ITE\n",
        "SOMA=0"
      ],
      "execution_count": 4,
      "outputs": []
    },
    {
      "cell_type": "code",
      "metadata": {
        "colab_type": "code",
        "id": "rnX8ttNopd1G",
        "colab": {
          "base_uri": "https://localhost:8080/",
          "height": 926
        },
        "outputId": "0350a236-bac3-4684-b695-bc5c91b43a5e"
      },
      "source": [
        "start_time = time.time()\n",
        "BEST_AGENTS=[]\n",
        "MAT_stat=[]\n",
        "\n",
        "for i in range(RUNS):\n",
        "\n",
        "    pop = np.random.rand(NPAR, dim)\n",
        "    diff=np.zeros(dim)\n",
        "    for ii in range(dim):\n",
        "      diff[ii] = MAX[ii]-MIN[ii]\n",
        "    X = MIN + pop * diff\n",
        "\n",
        "    for k in range(ITE):\n",
        "      X,BEST,FOBEST,XY,BEST_XY,SOMA= de_soma_Insight.de(MAX,MIN, mut, crossp,dim,its,Fun,X,SOMA,TOTAL)\n",
        "\n",
        "    start_run = (time.time()-start_time)/60\n",
        "    print('run=',i,'total=50','Fobj=',FOBEST,'Time=',start_run)  \n",
        "    BEST_AGENTS.append(BEST_XY)"
      ],
      "execution_count": 5,
      "outputs": [
        {
          "output_type": "stream",
          "text": [
            "run= 0 total=50 Fobj= -2.0 Time= 0.2546050786972046\n",
            "run= 1 total=50 Fobj= -2.0 Time= 0.5138700445493062\n",
            "run= 2 total=50 Fobj= -2.0 Time= 0.7666658401489258\n",
            "run= 3 total=50 Fobj= -2.0 Time= 1.018386431535085\n",
            "run= 4 total=50 Fobj= -2.0 Time= 1.2710572520891825\n",
            "run= 5 total=50 Fobj= -2.0 Time= 1.5218276063601175\n",
            "run= 6 total=50 Fobj= -2.0 Time= 1.7774258534113565\n",
            "run= 7 total=50 Fobj= -2.0 Time= 2.0333124001820884\n",
            "run= 8 total=50 Fobj= -2.0 Time= 2.2884341359138487\n",
            "run= 9 total=50 Fobj= -2.0 Time= 2.5406591335932416\n",
            "run= 10 total=50 Fobj= 1.2082633830255087 Time= 2.6938089450200398\n",
            "run= 11 total=50 Fobj= 1.1921877636878992 Time= 2.8464696764945985\n",
            "run= 12 total=50 Fobj= 0.7818259928593947 Time= 3.00029620329539\n",
            "run= 13 total=50 Fobj= 0.902605915789394 Time= 3.1534889221191404\n",
            "run= 14 total=50 Fobj= 1.0215790659409105 Time= 3.3059776504834493\n",
            "run= 15 total=50 Fobj= 0.9773669666315357 Time= 3.4572250604629517\n",
            "run= 16 total=50 Fobj= 0.9185436785058827 Time= 3.611268119017283\n",
            "run= 17 total=50 Fobj= 1.2747537425515745 Time= 3.762661099433899\n",
            "run= 18 total=50 Fobj= 1.5689963930267634 Time= 3.91513854265213\n",
            "run= 19 total=50 Fobj= 0.949790383996838 Time= 4.066826303799947\n",
            "run= 20 total=50 Fobj= 0.9457503214530583 Time= 4.220181242624919\n",
            "run= 21 total=50 Fobj= 1.016220055004926 Time= 4.37467813094457\n",
            "run= 22 total=50 Fobj= 0.8943304243074759 Time= 4.527470521132151\n",
            "run= 23 total=50 Fobj= 0.9044081688755927 Time= 4.6803020199139915\n",
            "run= 24 total=50 Fobj= 1.0256592876325916 Time= 4.831377768516541\n",
            "run= 25 total=50 Fobj= 1.0781782091252152 Time= 4.9825523853302\n",
            "run= 26 total=50 Fobj= 0.9126186774920191 Time= 5.133354194959005\n",
            "run= 27 total=50 Fobj= 1.0927806174786237 Time= 5.285910761356353\n",
            "run= 28 total=50 Fobj= 0.964634585291102 Time= 5.4406381964683534\n",
            "run= 29 total=50 Fobj= 0.8449275877475952 Time= 5.59627933104833\n",
            "run= 30 total=50 Fobj= 1.0399649499166874 Time= 5.751968808968862\n",
            "run= 31 total=50 Fobj= 1.1251362115863537 Time= 5.903746159871419\n",
            "run= 32 total=50 Fobj= 1.0345733836948052 Time= 6.055257177352905\n",
            "run= 33 total=50 Fobj= 0.9330279802358383 Time= 6.207485763231913\n",
            "run= 34 total=50 Fobj= 0.8859538698365723 Time= 6.358659617106119\n",
            "run= 35 total=50 Fobj= 1.0575368741598283 Time= 6.509618759155273\n",
            "run= 36 total=50 Fobj= 0.9329954586258613 Time= 6.662039724985759\n",
            "run= 37 total=50 Fobj= 0.9093738294363689 Time= 6.814273643493652\n",
            "run= 38 total=50 Fobj= 0.9285566213254106 Time= 6.965909294287363\n",
            "run= 39 total=50 Fobj= 1.0017457198544886 Time= 7.119110135237376\n",
            "run= 40 total=50 Fobj= 1.034510698264937 Time= 7.271434537569681\n",
            "run= 41 total=50 Fobj= 0.8489413649534758 Time= 7.422609814008077\n",
            "run= 42 total=50 Fobj= 0.8897660656727795 Time= 7.5755006074905396\n",
            "run= 43 total=50 Fobj= 0.8538732414621966 Time= 7.73101178407669\n",
            "run= 44 total=50 Fobj= 0.9131968458743218 Time= 7.882442033290863\n",
            "run= 45 total=50 Fobj= 1.0442543585711808 Time= 8.033690158526102\n",
            "run= 46 total=50 Fobj= 1.1426339033692647 Time= 8.184448432922363\n",
            "run= 47 total=50 Fobj= 0.9365664755111669 Time= 8.340231609344482\n",
            "run= 48 total=50 Fobj= 1.1861823867206316 Time= 8.49571344057719\n",
            "run= 49 total=50 Fobj= 0.8234666210449033 Time= 8.64848419825236\n"
          ],
          "name": "stdout"
        }
      ]
    },
    {
      "cell_type": "code",
      "metadata": {
        "colab_type": "code",
        "id": "lNSN5X-wskcx",
        "colab": {
          "base_uri": "https://localhost:8080/",
          "height": 345
        },
        "outputId": "17c2b46e-1453-4de7-95db-66c1e811b506"
      },
      "source": [
        "############################## Cálculo dos Parâmetros de Avaliação   \n",
        "TIME = (time.time() - start_time)/RUNS\n",
        "BEST_AGENTS=np.array(BEST_AGENTS)\n",
        "BEST_AGENTS_ST= BEST_AGENTS[BEST_AGENTS[:,-1].argsort()]\n",
        "BEST=BEST_AGENTS_ST[0]\n",
        "WORSE=BEST_AGENTS_ST[-1]\n",
        "MEAN=np.mean(BEST_AGENTS,axis=0)\n",
        "MAXFO=BEST_AGENTS[:,-1].max()\n",
        "MINFO=BEST_AGENTS[:,-1].min()\n",
        "STD=BEST_AGENTS[:,-1].std()\n",
        "\n",
        "nome='_DE_STAT_Fo-'+str(mut)+'_CRo-'+str(crossp)+'_D-'+str(dim)+'_Interv-'+str(ITE)\n",
        "print('DE_POP_VAR_F_CR','TOTAL=',TOTAL,'Iterações=',ITE*its,'Dim=', dim,\"Min/Max=\",MIN[0],\"/\",MAX[0],'_',Fun.__name__)\n",
        "print(nome, '\\n')\n",
        "#print('BEST: ',BEST)\n",
        "#print('MÉDIA: ',MEAN)\n",
        "print('MÉDIA: ',MEAN[-1])\n",
        "print('MIN __:',MINFO)\n",
        "print('MAX__: ',MAXFO)\n",
        "print('STD __:',STD)\n",
        "print(\"Tempo Médio= %.3f segundos ---\" % (TIME))\n",
        "print(RUNS,'Rodadas') \n",
        "print()\n",
        "print('BEST: ',BEST)\n",
        "# print('melhor=',BEST_AGENTS[BEST_INDEX])"
      ],
      "execution_count": 6,
      "outputs": [
        {
          "output_type": "stream",
          "text": [
            "DE_POP_VAR_F_CR TOTAL= 600000 Iterações= 2000 Dim= 30 Min/Max= -2 / 2 _ ridge\n",
            "_DE_STAT_Fo-0.5_CRo-0.5_D-30_Interv-2000 \n",
            "\n",
            "MÉDIA:  0.3999535616108195\n",
            "MIN __: -2.0\n",
            "MAX__:  1.5689963930267634\n",
            "STD __: 1.2068975014373242\n",
            "Tempo Médio= 10.379 segundos ---\n",
            "50 Rodadas\n",
            "\n",
            "BEST:  [-2.00000000e+00  1.95572868e-08 -2.72845018e-09  5.80634840e-10\n",
            "  1.23210923e-08  1.33209843e-08 -9.78405038e-10  2.33368726e-09\n",
            "  9.64653188e-09 -1.93959585e-08 -1.29993838e-08  3.63422116e-09\n",
            "  2.03601726e-08  3.13097121e-09 -6.42072727e-09 -9.64105498e-09\n",
            "  1.32740789e-08 -9.72098320e-09 -7.24505311e-09 -7.71394313e-09\n",
            "  1.10365012e-08  7.11494421e-09 -5.38591108e-09  6.08721162e-09\n",
            " -1.24160848e-08 -4.98941753e-09 -8.59156468e-09 -1.13075871e-08\n",
            " -3.42751492e-09  2.76085373e-09 -2.00000000e+00]\n"
          ],
          "name": "stdout"
        }
      ]
    }
  ]
}