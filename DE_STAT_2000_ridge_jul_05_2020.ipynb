{
  "nbformat": 4,
  "nbformat_minor": 0,
  "metadata": {
    "accelerator": "GPU",
    "colab": {
      "name": "DE_STAT_2000_ridge_jul_05_2020.ipynb",
      "provenance": [],
      "collapsed_sections": [],
      "include_colab_link": true
    },
    "kernelspec": {
      "display_name": "Python 3",
      "language": "python",
      "name": "python3"
    },
    "language_info": {
      "codemirror_mode": {
        "name": "ipython",
        "version": 3
      },
      "file_extension": ".py",
      "mimetype": "text/x-python",
      "name": "python",
      "nbconvert_exporter": "python",
      "pygments_lexer": "ipython3",
      "version": "3.6.1"
    }
  },
  "cells": [
    {
      "cell_type": "markdown",
      "metadata": {
        "id": "view-in-github",
        "colab_type": "text"
      },
      "source": [
        "<a href=\"https://colab.research.google.com/github/ucfilho/Raianars_SelfTest_comp_02_July_2020/blob/master/DE_STAT_2000_ridge_jul_05_2020.ipynb\" target=\"_parent\"><img src=\"https://colab.research.google.com/assets/colab-badge.svg\" alt=\"Open In Colab\"/></a>"
      ]
    },
    {
      "cell_type": "code",
      "metadata": {
        "colab_type": "code",
        "id": "cG5nOUQ9Eucw",
        "colab": {}
      },
      "source": [
        "# Noisy_Quartic\n",
        "# In the paper Ngen=3000 NPAR=100 RUNS=50 dim=30\n",
        "# JADE: Adaptive Differential Evolution with Optional External Archive\n"
      ],
      "execution_count": 1,
      "outputs": []
    },
    {
      "cell_type": "code",
      "metadata": {
        "colab_type": "code",
        "id": "v1OxgXboBKoG",
        "colab": {}
      },
      "source": [
        "import time\n",
        "import matplotlib.pyplot as plt\n",
        "import numpy as np\n",
        "from random import randint"
      ],
      "execution_count": 2,
      "outputs": []
    },
    {
      "cell_type": "code",
      "metadata": {
        "id": "qMRpE0dGULCI",
        "colab_type": "code",
        "colab": {
          "base_uri": "https://localhost:8080/",
          "height": 158
        },
        "outputId": "fdb8a53e-430a-4a21-f34b-a734bc06267a"
      },
      "source": [
        "!git clone https://github.com/ucfilho/Raianars_July_2020 #clonar do Github\n",
        "%cd Raianars_July_2020"
      ],
      "execution_count": 3,
      "outputs": [
        {
          "output_type": "stream",
          "text": [
            "Cloning into 'Raianars_July_2020'...\n",
            "remote: Enumerating objects: 9, done.\u001b[K\n",
            "remote: Counting objects: 100% (9/9), done.\u001b[K\n",
            "remote: Compressing objects: 100% (9/9), done.\u001b[K\n",
            "remote: Total 132 (delta 3), reused 0 (delta 0), pack-reused 123\u001b[K\n",
            "Receiving objects: 100% (132/132), 200.33 KiB | 3.04 MiB/s, done.\n",
            "Resolving deltas: 100% (65/65), done.\n",
            "/content/Raianars_July_2020\n"
          ],
          "name": "stdout"
        }
      ]
    },
    {
      "cell_type": "code",
      "metadata": {
        "colab_type": "code",
        "id": "_E15mKFURR6O",
        "colab": {}
      },
      "source": [
        "import de_soma_Insight\n",
        "import de_bounds_matriz\n",
        "import Function\n",
        "import Go2MinMax\n",
        "from AvaliaX import AvaliaX\n",
        "\n",
        "\n",
        "############################### DADOS DE ENTRADA \n",
        "RUNS=50 #NÚMERO DE RODADAS\n",
        "its=1 #10 # quantas vezes vai usar o NPAR antes de alterar de novo\n",
        "ITE=2000 #10 # PONTOS quantas vezes vai alteral NPAR \n",
        "NPAR=100\n",
        "\n",
        "mut=0.5\n",
        "crossp=0.5\n",
        "dim=30\n",
        "\n",
        "#fchoice='Rastrigin' #fchoice='Michalewicz' #fchoice='Schwefel'\n",
        "fchoice='ridge'  \n",
        "Fun=Function.ridge\n",
        "\n",
        "MIN,MAX=Go2MinMax.Intervalo(dim,fchoice)\n",
        "\n",
        "TOTAL=10*dim*its*ITE\n"
      ],
      "execution_count": 4,
      "outputs": []
    },
    {
      "cell_type": "code",
      "metadata": {
        "colab_type": "code",
        "id": "rnX8ttNopd1G",
        "colab": {
          "base_uri": "https://localhost:8080/",
          "height": 905
        },
        "outputId": "8514c23f-3370-4ac0-b07d-1a43e7238da1"
      },
      "source": [
        "start_time = time.time()\n",
        "BEST_AGENTS=[]\n",
        "MAT_stat=[]\n",
        "\n",
        "for i in range(RUNS):\n",
        "\n",
        "    pop = np.random.rand(NPAR, dim)\n",
        "    diff=np.zeros(dim)\n",
        "    for ii in range(dim):\n",
        "      diff[ii] = MAX[ii]-MIN[ii]\n",
        "    X = MIN + pop * diff\n",
        "\n",
        "    SOMA=0\n",
        "\n",
        "    for k in range(ITE):\n",
        "      X,BEST,FOBEST,XY,BEST_XY,SOMA= de_soma_Insight.de(MAX,MIN, mut, crossp,dim,its,Fun,X,SOMA,TOTAL)\n",
        "\n",
        "    start_run = (time.time()-start_time)/60\n",
        "    print('run=',i,'total=50','Fobj=',FOBEST,'Time=',start_run)  \n",
        "    BEST_AGENTS.append(BEST_XY)"
      ],
      "execution_count": 5,
      "outputs": [
        {
          "output_type": "stream",
          "text": [
            "run= 0 total=50 Fobj= -2.0 Time= 0.30406593084335326\n",
            "run= 1 total=50 Fobj= -2.0 Time= 0.6092286507288615\n",
            "run= 2 total=50 Fobj= -2.0 Time= 0.9099567453066508\n",
            "run= 3 total=50 Fobj= -2.0 Time= 1.213313388824463\n",
            "run= 4 total=50 Fobj= -2.0 Time= 1.526867719491323\n",
            "run= 5 total=50 Fobj= -2.0 Time= 1.8328136841456095\n",
            "run= 6 total=50 Fobj= -2.0 Time= 2.1357410033543904\n",
            "run= 7 total=50 Fobj= -2.0 Time= 2.4384811878204347\n",
            "run= 8 total=50 Fobj= -2.0 Time= 2.741875716050466\n",
            "run= 9 total=50 Fobj= -2.0 Time= 3.043794047832489\n",
            "run= 10 total=50 Fobj= -2.0 Time= 3.3455493887265524\n",
            "run= 11 total=50 Fobj= -2.0 Time= 3.6506582935651144\n",
            "run= 12 total=50 Fobj= -2.0 Time= 3.9510653257369994\n",
            "run= 13 total=50 Fobj= -2.0 Time= 4.261516439914703\n",
            "run= 14 total=50 Fobj= -2.0 Time= 4.563569347063701\n",
            "run= 15 total=50 Fobj= -2.0 Time= 4.864689739545186\n",
            "run= 16 total=50 Fobj= -2.0 Time= 5.169051551818848\n",
            "run= 17 total=50 Fobj= -2.0 Time= 5.472338879108429\n",
            "run= 18 total=50 Fobj= -2.0 Time= 5.7781203111012776\n",
            "run= 19 total=50 Fobj= -2.0 Time= 6.087539986769358\n",
            "run= 20 total=50 Fobj= -2.0 Time= 6.3931881864865625\n",
            "run= 21 total=50 Fobj= -2.0 Time= 6.709643177191416\n",
            "run= 22 total=50 Fobj= -2.0 Time= 7.011553355058035\n",
            "run= 23 total=50 Fobj= -2.0 Time= 7.318084220091502\n",
            "run= 24 total=50 Fobj= -2.0 Time= 7.621372620264689\n",
            "run= 25 total=50 Fobj= -2.0 Time= 7.925426081816355\n",
            "run= 26 total=50 Fobj= -2.0 Time= 8.228203372160594\n",
            "run= 27 total=50 Fobj= -2.0 Time= 8.5326638062795\n",
            "run= 28 total=50 Fobj= -2.0 Time= 8.837919954458872\n",
            "run= 29 total=50 Fobj= -2.0 Time= 9.143408846855163\n",
            "run= 30 total=50 Fobj= -2.0 Time= 9.458628519376118\n",
            "run= 31 total=50 Fobj= -2.0 Time= 9.764695715904235\n",
            "run= 32 total=50 Fobj= -2.0 Time= 10.067209943135579\n",
            "run= 33 total=50 Fobj= -2.0 Time= 10.371408987045289\n",
            "run= 34 total=50 Fobj= -2.0 Time= 10.679135433832805\n",
            "run= 35 total=50 Fobj= -2.0 Time= 10.981929552555084\n",
            "run= 36 total=50 Fobj= -2.0 Time= 11.282163914044698\n",
            "run= 37 total=50 Fobj= -2.0 Time= 11.58278375864029\n",
            "run= 38 total=50 Fobj= -2.0 Time= 11.893615690867106\n",
            "run= 39 total=50 Fobj= -2.0 Time= 12.200836340586344\n",
            "run= 40 total=50 Fobj= -2.0 Time= 12.51193271478017\n",
            "run= 41 total=50 Fobj= -2.0 Time= 12.82470722993215\n",
            "run= 42 total=50 Fobj= -2.0 Time= 13.128848965962728\n",
            "run= 43 total=50 Fobj= -2.0 Time= 13.433353674411773\n",
            "run= 44 total=50 Fobj= -2.0 Time= 13.73754814863205\n",
            "run= 45 total=50 Fobj= -2.0 Time= 14.040466519196828\n",
            "run= 46 total=50 Fobj= -2.0 Time= 14.35127847592036\n",
            "run= 47 total=50 Fobj= -2.0 Time= 14.654541409015655\n",
            "run= 48 total=50 Fobj= -2.0 Time= 14.95678004026413\n",
            "run= 49 total=50 Fobj= -2.0 Time= 15.258487288157145\n"
          ],
          "name": "stdout"
        }
      ]
    },
    {
      "cell_type": "code",
      "metadata": {
        "colab_type": "code",
        "id": "lNSN5X-wskcx",
        "colab": {
          "base_uri": "https://localhost:8080/",
          "height": 336
        },
        "outputId": "23fce0ef-1f25-4e03-8797-2cf965cfb36b"
      },
      "source": [
        "############################## Cálculo dos Parâmetros de Avaliação   \n",
        "TIME = (time.time() - start_time)/RUNS\n",
        "BEST_AGENTS=np.array(BEST_AGENTS)\n",
        "BEST_AGENTS_ST= BEST_AGENTS[BEST_AGENTS[:,-1].argsort()]\n",
        "BEST=BEST_AGENTS_ST[0]\n",
        "WORSE=BEST_AGENTS_ST[-1]\n",
        "MEAN=np.mean(BEST_AGENTS,axis=0)\n",
        "MAXFO=BEST_AGENTS[:,-1].max()\n",
        "MINFO=BEST_AGENTS[:,-1].min()\n",
        "STD=BEST_AGENTS[:,-1].std()\n",
        "\n",
        "nome='_DE_STAT_Fo-'+str(mut)+'_CRo-'+str(crossp)+'_D-'+str(dim)+'_Interv-'+str(ITE)\n",
        "print('DE_POP_VAR_F_CR','TOTAL=',TOTAL,'Iterações=',ITE*its,'Dim=', dim,\"Min/Max=\",MIN[0],\"/\",MAX[0],'_',Fun.__name__)\n",
        "print(nome, '\\n')\n",
        "#print('BEST: ',BEST)\n",
        "#print('MÉDIA: ',MEAN)\n",
        "print('MÉDIA: ',MEAN[-1])\n",
        "print('MIN __:',MINFO)\n",
        "print('MAX__: ',MAXFO)\n",
        "print('STD __:',STD)\n",
        "print(\"Tempo Médio= %.3f segundos ---\" % (TIME))\n",
        "print(RUNS,'Rodadas') \n",
        "print()\n",
        "print('BEST: ',BEST)\n",
        "# print('melhor=',BEST_AGENTS[BEST_INDEX])"
      ],
      "execution_count": 6,
      "outputs": [
        {
          "output_type": "stream",
          "text": [
            "DE_POP_VAR_F_CR TOTAL= 600000 Iterações= 2000 Dim= 30 Min/Max= -2 / 2 _ ridge\n",
            "_DE_STAT_Fo-0.5_CRo-0.5_D-30_Interv-2000 \n",
            "\n",
            "MÉDIA:  -2.0\n",
            "MIN __: -2.0\n",
            "MAX__:  -2.0\n",
            "STD __: 0.0\n",
            "Tempo Médio= 18.311 segundos ---\n",
            "50 Rodadas\n",
            "\n",
            "BEST:  [-2.00000000e+00 -1.54741904e-08 -1.16400321e-08 -1.97068673e-08\n",
            "  3.28959593e-09  1.99277802e-09 -1.26185763e-08 -1.62827835e-08\n",
            "  8.66974987e-09 -1.72616604e-08 -6.93220440e-09 -1.91858729e-09\n",
            " -1.20610406e-08  1.94465440e-08  1.33319774e-08 -1.29006896e-08\n",
            " -2.91706106e-09  1.54064502e-08  1.91830187e-08  1.81245891e-08\n",
            " -1.49738095e-08 -8.12444803e-09 -1.06509138e-09 -8.16917109e-09\n",
            " -3.75952738e-09 -2.80706622e-09 -2.09434927e-08 -4.95467778e-09\n",
            "  9.47976553e-09 -7.31344689e-09 -2.00000000e+00]\n"
          ],
          "name": "stdout"
        }
      ]
    }
  ]
}