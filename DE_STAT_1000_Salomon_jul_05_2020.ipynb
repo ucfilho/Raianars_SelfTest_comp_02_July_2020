{
  "nbformat": 4,
  "nbformat_minor": 0,
  "metadata": {
    "accelerator": "GPU",
    "colab": {
      "name": "DE_STAT_1000_Salomon_jul_05_2020.ipynb",
      "provenance": [],
      "collapsed_sections": [],
      "include_colab_link": true
    },
    "kernelspec": {
      "display_name": "Python 3",
      "language": "python",
      "name": "python3"
    },
    "language_info": {
      "codemirror_mode": {
        "name": "ipython",
        "version": 3
      },
      "file_extension": ".py",
      "mimetype": "text/x-python",
      "name": "python",
      "nbconvert_exporter": "python",
      "pygments_lexer": "ipython3",
      "version": "3.6.1"
    }
  },
  "cells": [
    {
      "cell_type": "markdown",
      "metadata": {
        "id": "view-in-github",
        "colab_type": "text"
      },
      "source": [
        "<a href=\"https://colab.research.google.com/github/ucfilho/Raianars_SelfTest_comp_02_July_2020/blob/master/DE_STAT_1000_Salomon_jul_05_2020.ipynb\" target=\"_parent\"><img src=\"https://colab.research.google.com/assets/colab-badge.svg\" alt=\"Open In Colab\"/></a>"
      ]
    },
    {
      "cell_type": "code",
      "metadata": {
        "colab_type": "code",
        "id": "cG5nOUQ9Eucw",
        "colab": {}
      },
      "source": [
        "# Noisy_Quartic\n",
        "# In the paper Ngen=3000 NPAR=100 RUNS=50 dim=30\n",
        "# JADE: Adaptive Differential Evolution with Optional External Archive\n"
      ],
      "execution_count": 1,
      "outputs": []
    },
    {
      "cell_type": "code",
      "metadata": {
        "colab_type": "code",
        "id": "v1OxgXboBKoG",
        "colab": {}
      },
      "source": [
        "import time\n",
        "import matplotlib.pyplot as plt\n",
        "import numpy as np\n",
        "from random import randint"
      ],
      "execution_count": 2,
      "outputs": []
    },
    {
      "cell_type": "code",
      "metadata": {
        "id": "qMRpE0dGULCI",
        "colab_type": "code",
        "colab": {
          "base_uri": "https://localhost:8080/",
          "height": 163
        },
        "outputId": "331bfbdb-169f-47e1-865d-626854a0bf2e"
      },
      "source": [
        "!git clone https://github.com/ucfilho/Raianars_July_2020 #clonar do Github\n",
        "%cd Raianars_July_2020"
      ],
      "execution_count": 3,
      "outputs": [
        {
          "output_type": "stream",
          "text": [
            "Cloning into 'Raianars_July_2020'...\n",
            "remote: Enumerating objects: 3, done.\u001b[K\n",
            "remote: Counting objects:  33% (1/3)\u001b[K\rremote: Counting objects:  66% (2/3)\u001b[K\rremote: Counting objects: 100% (3/3)\u001b[K\rremote: Counting objects: 100% (3/3), done.\u001b[K\n",
            "remote: Compressing objects:  33% (1/3)\u001b[K\rremote: Compressing objects:  66% (2/3)\u001b[K\rremote: Compressing objects: 100% (3/3)\u001b[K\rremote: Compressing objects: 100% (3/3), done.\u001b[K\n",
            "Receiving objects:   0% (1/126)   \rReceiving objects:   1% (2/126)   \rReceiving objects:   2% (3/126)   \rReceiving objects:   3% (4/126)   \rReceiving objects:   4% (6/126)   \rReceiving objects:   5% (7/126)   \rReceiving objects:   6% (8/126)   \rReceiving objects:   7% (9/126)   \rReceiving objects:   8% (11/126)   \rReceiving objects:   9% (12/126)   \rReceiving objects:  10% (13/126)   \rReceiving objects:  11% (14/126)   \rReceiving objects:  12% (16/126)   \rReceiving objects:  13% (17/126)   \rReceiving objects:  14% (18/126)   \rReceiving objects:  15% (19/126)   \rReceiving objects:  16% (21/126)   \rReceiving objects:  17% (22/126)   \rReceiving objects:  18% (23/126)   \rReceiving objects:  19% (24/126)   \rReceiving objects:  20% (26/126)   \rReceiving objects:  21% (27/126)   \rReceiving objects:  22% (28/126)   \rReceiving objects:  23% (29/126)   \rReceiving objects:  24% (31/126)   \rReceiving objects:  25% (32/126)   \rReceiving objects:  26% (33/126)   \rReceiving objects:  27% (35/126)   \rReceiving objects:  28% (36/126)   \rReceiving objects:  29% (37/126)   \rReceiving objects:  30% (38/126)   \rReceiving objects:  31% (40/126)   \rReceiving objects:  32% (41/126)   \rReceiving objects:  33% (42/126)   \rReceiving objects:  34% (43/126)   \rReceiving objects:  35% (45/126)   \rReceiving objects:  36% (46/126)   \rReceiving objects:  37% (47/126)   \rReceiving objects:  38% (48/126)   \rReceiving objects:  39% (50/126)   \rReceiving objects:  40% (51/126)   \rremote: Total 126 (delta 0), reused 0 (delta 0), pack-reused 123\u001b[K\n",
            "Receiving objects:  41% (52/126)   \rReceiving objects:  42% (53/126)   \rReceiving objects:  43% (55/126)   \rReceiving objects:  44% (56/126)   \rReceiving objects:  45% (57/126)   \rReceiving objects:  46% (58/126)   \rReceiving objects:  47% (60/126)   \rReceiving objects:  48% (61/126)   \rReceiving objects:  49% (62/126)   \rReceiving objects:  50% (63/126)   \rReceiving objects:  51% (65/126)   \rReceiving objects:  52% (66/126)   \rReceiving objects:  53% (67/126)   \rReceiving objects:  54% (69/126)   \rReceiving objects:  55% (70/126)   \rReceiving objects:  56% (71/126)   \rReceiving objects:  57% (72/126)   \rReceiving objects:  58% (74/126)   \rReceiving objects:  59% (75/126)   \rReceiving objects:  60% (76/126)   \rReceiving objects:  61% (77/126)   \rReceiving objects:  62% (79/126)   \rReceiving objects:  63% (80/126)   \rReceiving objects:  64% (81/126)   \rReceiving objects:  65% (82/126)   \rReceiving objects:  66% (84/126)   \rReceiving objects:  67% (85/126)   \rReceiving objects:  68% (86/126)   \rReceiving objects:  69% (87/126)   \rReceiving objects:  70% (89/126)   \rReceiving objects:  71% (90/126)   \rReceiving objects:  72% (91/126)   \rReceiving objects:  73% (92/126)   \rReceiving objects:  74% (94/126)   \rReceiving objects:  75% (95/126)   \rReceiving objects:  76% (96/126)   \rReceiving objects:  77% (98/126)   \rReceiving objects:  78% (99/126)   \rReceiving objects:  79% (100/126)   \rReceiving objects:  80% (101/126)   \rReceiving objects:  81% (103/126)   \rReceiving objects:  82% (104/126)   \rReceiving objects:  83% (105/126)   \rReceiving objects:  84% (106/126)   \rReceiving objects:  85% (108/126)   \rReceiving objects:  86% (109/126)   \rReceiving objects:  87% (110/126)   \rReceiving objects:  88% (111/126)   \rReceiving objects:  89% (113/126)   \rReceiving objects:  90% (114/126)   \rReceiving objects:  91% (115/126)   \rReceiving objects:  92% (116/126)   \rReceiving objects:  93% (118/126)   \rReceiving objects:  94% (119/126)   \rReceiving objects:  95% (120/126)   \rReceiving objects:  96% (121/126)   \rReceiving objects:  97% (123/126)   \rReceiving objects:  98% (124/126)   \rReceiving objects:  99% (125/126)   \rReceiving objects: 100% (126/126)   \rReceiving objects: 100% (126/126), 198.23 KiB | 19.82 MiB/s, done.\n",
            "Resolving deltas:   0% (0/62)   \rResolving deltas:  61% (38/62)   \rResolving deltas:  64% (40/62)   \rResolving deltas:  66% (41/62)   \rResolving deltas:  67% (42/62)   \rResolving deltas:  70% (44/62)   \rResolving deltas:  95% (59/62)   \rResolving deltas: 100% (62/62)   \rResolving deltas: 100% (62/62), done.\n",
            "/content/Raianars_July_2020\n"
          ],
          "name": "stdout"
        }
      ]
    },
    {
      "cell_type": "code",
      "metadata": {
        "colab_type": "code",
        "id": "_E15mKFURR6O",
        "colab": {}
      },
      "source": [
        "import de_soma_Insight\n",
        "import de_bounds_matriz\n",
        "import Function\n",
        "import Go2MinMax\n",
        "from AvaliaX import AvaliaX\n",
        "\n",
        "\n",
        "############################### DADOS DE ENTRADA \n",
        "its=1 #10 # quantas vezes vai usar o NPAR antes de alterar de novo\n",
        "ITE=1000 #10 # PONTOS quantas vezes vai alteral NPAR \n",
        "NPAR=100 # NUMBER OF PARTICLES\n",
        "dim=30\n",
        "RUNS=50\n",
        "fchoice='Salomon'  #f2\n",
        "Fun=Function.Salomon\n",
        "\n",
        "mut=0.5\n",
        "crossp=0.5\n",
        "\n",
        "\n",
        "#fchoice='Rastrigin' #fchoice='Michalewicz' #fchoice='Schwefel'\n",
        "fchoice='Noisy_Quartic'\n",
        "Fun=Function.Noisy_Quartic\n",
        "\n",
        "MIN,MAX=Go2MinMax.Intervalo(dim,fchoice)\n",
        "\n",
        "TOTAL=10*dim*its*ITE\n",
        "SOMA=0"
      ],
      "execution_count": 4,
      "outputs": []
    },
    {
      "cell_type": "code",
      "metadata": {
        "colab_type": "code",
        "id": "rnX8ttNopd1G",
        "colab": {
          "base_uri": "https://localhost:8080/",
          "height": 926
        },
        "outputId": "0510c673-15a4-407f-95ea-ca680491a2d7"
      },
      "source": [
        "start_time = time.time()\n",
        "BEST_AGENTS=[]\n",
        "MAT_stat=[]\n",
        "\n",
        "for i in range(RUNS):\n",
        "\n",
        "    pop = np.random.rand(NPAR, dim)\n",
        "    diff=np.zeros(dim)\n",
        "    for ii in range(dim):\n",
        "      diff[ii] = MAX[ii]-MIN[ii]\n",
        "    X = MIN + pop * diff\n",
        "\n",
        "    for k in range(ITE):\n",
        "      X,BEST,FOBEST,XY,BEST_XY,SOMA= de_soma_Insight.de(MAX,MIN, mut, crossp,dim,its,Fun,X,SOMA,TOTAL)\n",
        "\n",
        "    start_run = (time.time()-start_time)/60\n",
        "    print('run=',i,'total=50','Fobj=',FOBEST,'Time=',start_run)  \n",
        "    BEST_AGENTS.append(BEST_XY)"
      ],
      "execution_count": 5,
      "outputs": [
        {
          "output_type": "stream",
          "text": [
            "run= 0 total=50 Fobj= 0.29431543966585316 Time= 0.15520142714182536\n",
            "run= 1 total=50 Fobj= 0.3433532401111533 Time= 0.310085658232371\n",
            "run= 2 total=50 Fobj= 0.3222091219759966 Time= 0.4645479361216227\n",
            "run= 3 total=50 Fobj= 0.09614286476820633 Time= 0.6194406469662984\n",
            "run= 4 total=50 Fobj= 0.1854479979973617 Time= 0.7732295393943787\n",
            "run= 5 total=50 Fobj= 0.4823891482436592 Time= 0.928843100865682\n",
            "run= 6 total=50 Fobj= 0.6260029033060452 Time= 1.0831055363019308\n",
            "run= 7 total=50 Fobj= 0.3699766696365929 Time= 1.236704421043396\n",
            "run= 8 total=50 Fobj= 0.4297746904969583 Time= 1.3926566282908122\n",
            "run= 9 total=50 Fobj= 0.4811296880919238 Time= 1.5451767762502036\n",
            "run= 10 total=50 Fobj= 108.49939558406491 Time= 1.6348617831865946\n",
            "run= 11 total=50 Fobj= 88.08019904875137 Time= 1.7262098431587218\n",
            "run= 12 total=50 Fobj= 119.11468863692276 Time= 1.817414363225301\n",
            "run= 13 total=50 Fobj= 108.23758829334491 Time= 1.9090580463409423\n",
            "run= 14 total=50 Fobj= 89.66385244824542 Time= 2.0037245829900105\n",
            "run= 15 total=50 Fobj= 135.16912823257832 Time= 2.101138412952423\n",
            "run= 16 total=50 Fobj= 95.10556181637718 Time= 2.195157539844513\n",
            "run= 17 total=50 Fobj= 158.67141464411662 Time= 2.291096301873525\n",
            "run= 18 total=50 Fobj= 134.52101061095152 Time= 2.387481653690338\n",
            "run= 19 total=50 Fobj= 75.69466527888007 Time= 2.4821993668874103\n",
            "run= 20 total=50 Fobj= 88.57342943376133 Time= 2.578150379657745\n",
            "run= 21 total=50 Fobj= 136.62078420408287 Time= 2.673608942826589\n",
            "run= 22 total=50 Fobj= 125.58015719864729 Time= 2.768495770295461\n",
            "run= 23 total=50 Fobj= 165.74829990276177 Time= 2.8629916350046796\n",
            "run= 24 total=50 Fobj= 104.54448094581498 Time= 2.9554781675338746\n",
            "run= 25 total=50 Fobj= 132.0933947323497 Time= 3.048478444417318\n",
            "run= 26 total=50 Fobj= 99.3830790771234 Time= 3.1414805094401044\n",
            "run= 27 total=50 Fobj= 118.75315077275073 Time= 3.2337158203125\n",
            "run= 28 total=50 Fobj= 128.6029969737696 Time= 3.3265323003133136\n",
            "run= 29 total=50 Fobj= 92.23993432123343 Time= 3.4196183959643047\n",
            "run= 30 total=50 Fobj= 76.94473008044925 Time= 3.5142094373703\n",
            "run= 31 total=50 Fobj= 145.60718505519625 Time= 3.6084580461184186\n",
            "run= 32 total=50 Fobj= 136.38533648582697 Time= 3.7023838639259337\n",
            "run= 33 total=50 Fobj= 132.11478657296104 Time= 3.7968708594640095\n",
            "run= 34 total=50 Fobj= 81.13316458927149 Time= 3.8914854407310484\n",
            "run= 35 total=50 Fobj= 140.01536104555802 Time= 3.9865150610605875\n",
            "run= 36 total=50 Fobj= 131.166983298312 Time= 4.0806238373120625\n",
            "run= 37 total=50 Fobj= 137.40963151237696 Time= 4.174259575208028\n",
            "run= 38 total=50 Fobj= 140.58896532666216 Time= 4.266034340858459\n",
            "run= 39 total=50 Fobj= 160.59082850499263 Time= 4.360505282878876\n",
            "run= 40 total=50 Fobj= 119.4766229068113 Time= 4.454776263236999\n",
            "run= 41 total=50 Fobj= 151.5198202958092 Time= 4.547525723775228\n",
            "run= 42 total=50 Fobj= 133.45915036503314 Time= 4.6397637009620665\n",
            "run= 43 total=50 Fobj= 110.58169661231997 Time= 4.732198258241017\n",
            "run= 44 total=50 Fobj= 164.81734507695097 Time= 4.8257246295611065\n",
            "run= 45 total=50 Fobj= 124.76103836098665 Time= 4.920429754257202\n",
            "run= 46 total=50 Fobj= 134.13709532613674 Time= 5.014653325080872\n",
            "run= 47 total=50 Fobj= 128.49724417404965 Time= 5.107747066020965\n",
            "run= 48 total=50 Fobj= 122.57467396780288 Time= 5.200187293688456\n",
            "run= 49 total=50 Fobj= 94.22429671824244 Time= 5.293997065226237\n"
          ],
          "name": "stdout"
        }
      ]
    },
    {
      "cell_type": "code",
      "metadata": {
        "id": "VAbHty3zbVND",
        "colab_type": "code",
        "colab": {}
      },
      "source": [
        ""
      ],
      "execution_count": 5,
      "outputs": []
    },
    {
      "cell_type": "code",
      "metadata": {
        "colab_type": "code",
        "id": "lNSN5X-wskcx",
        "colab": {
          "base_uri": "https://localhost:8080/",
          "height": 308
        },
        "outputId": "ac13054a-69bb-4bd4-ec78-39df8059d1c0"
      },
      "source": [
        "############################## Cálculo dos Parâmetros de Avaliação   \n",
        "TIME = (time.time() - start_time)/RUNS\n",
        "BEST_AGENTS=np.array(BEST_AGENTS)\n",
        "BEST_AGENTS_ST= BEST_AGENTS[BEST_AGENTS[:,-1].argsort()]\n",
        "BEST=BEST_AGENTS_ST[0]\n",
        "WORSE=BEST_AGENTS_ST[-1]\n",
        "MEAN=np.mean(BEST_AGENTS,axis=0)\n",
        "MAXFO=BEST_AGENTS[:,-1].max()\n",
        "MINFO=BEST_AGENTS[:,-1].min()\n",
        "STD=BEST_AGENTS[:,-1].std()\n",
        "\n",
        "nome='_DE_STAT_Fo-'+str(mut)+'_CRo-'+str(crossp)+'_D-'+str(dim)+'_Interv-'+str(ITE)\n",
        "print('DE_POP_VAR_F_CR','TOTAL=',TOTAL,'Iterações=',ITE*its,'Dim=', dim,\"Min/Max=\",MIN[0],\"/\",MAX[0],'_',Fun.__name__)\n",
        "print(nome, '\\n')\n",
        "#print('BEST: ',BEST)\n",
        "#print('MÉDIA: ',MEAN)\n",
        "print('MÉDIA: ',MEAN[-1])\n",
        "print('MIN __:',MINFO)\n",
        "print('MAX__: ',MAXFO)\n",
        "print('STD __:',STD)\n",
        "print(\"Tempo Médio= %.3f segundos ---\" % (TIME))\n",
        "print(RUNS,'Rodadas') \n",
        "print()\n",
        "print('BEST: ',BEST)\n",
        "# print('melhor=',BEST_AGENTS[BEST_INDEX])"
      ],
      "execution_count": 6,
      "outputs": [
        {
          "output_type": "stream",
          "text": [
            "DE_POP_VAR_F_CR TOTAL= 300000 Iterações= 1000 Dim= 30 Min/Max= -1.28 / 1.28 _ Noisy_Quartic\n",
            "_DE_STAT_Fo-0.5_CRo-0.5_D-30_Interv-1000 \n",
            "\n",
            "MÉDIA:  97.4906782039314\n",
            "MIN __: 0.09614286476820633\n",
            "MAX__:  165.74829990276177\n",
            "STD __: 53.13076684320154\n",
            "Tempo Médio= 6.353 segundos ---\n",
            "50 Rodadas\n",
            "\n",
            "BEST:  [ 0.1059835   0.11187484  0.0334398   0.16487412  0.06096675  0.23476856\n",
            " -0.07032656  0.0426455  -0.07454922  0.20670827  0.05357841  0.09097135\n",
            " -0.12969677 -0.05557715 -0.06845271  0.17307049  0.10893438 -0.05425336\n",
            "  0.00819907 -0.05667775 -0.02458653 -0.00715232 -0.03182443 -0.02616344\n",
            " -0.03948236  0.04428235  0.08989456  0.07981335  0.07520046 -0.15507562\n",
            "  0.09614286]\n"
          ],
          "name": "stdout"
        }
      ]
    }
  ]
}