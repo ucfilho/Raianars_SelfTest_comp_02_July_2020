{
  "nbformat": 4,
  "nbformat_minor": 0,
  "metadata": {
    "accelerator": "GPU",
    "colab": {
      "name": "DE_STAT_1000_Salomon_jul_05_2020.ipynb",
      "provenance": [],
      "collapsed_sections": [],
      "include_colab_link": true
    },
    "kernelspec": {
      "display_name": "Python 3",
      "language": "python",
      "name": "python3"
    },
    "language_info": {
      "codemirror_mode": {
        "name": "ipython",
        "version": 3
      },
      "file_extension": ".py",
      "mimetype": "text/x-python",
      "name": "python",
      "nbconvert_exporter": "python",
      "pygments_lexer": "ipython3",
      "version": "3.6.1"
    }
  },
  "cells": [
    {
      "cell_type": "markdown",
      "metadata": {
        "id": "view-in-github",
        "colab_type": "text"
      },
      "source": [
        "<a href=\"https://colab.research.google.com/github/ucfilho/Raianars_SelfTest_comp_02_July_2020/blob/master/DE_STAT_1000_Salomon_jul_05_2020.ipynb\" target=\"_parent\"><img src=\"https://colab.research.google.com/assets/colab-badge.svg\" alt=\"Open In Colab\"/></a>"
      ]
    },
    {
      "cell_type": "code",
      "metadata": {
        "colab_type": "code",
        "id": "cG5nOUQ9Eucw",
        "colab": {}
      },
      "source": [
        "# Noisy_Quartic\n",
        "# In the paper Ngen=3000 NPAR=100 RUNS=50 dim=30\n",
        "# JADE: Adaptive Differential Evolution with Optional External Archive\n"
      ],
      "execution_count": 1,
      "outputs": []
    },
    {
      "cell_type": "code",
      "metadata": {
        "colab_type": "code",
        "id": "v1OxgXboBKoG",
        "colab": {}
      },
      "source": [
        "import time\n",
        "import matplotlib.pyplot as plt\n",
        "import numpy as np\n",
        "from random import randint"
      ],
      "execution_count": 2,
      "outputs": []
    },
    {
      "cell_type": "code",
      "metadata": {
        "id": "qMRpE0dGULCI",
        "colab_type": "code",
        "colab": {
          "base_uri": "https://localhost:8080/",
          "height": 158
        },
        "outputId": "2614752c-b762-4c80-de47-6036f383d373"
      },
      "source": [
        "!git clone https://github.com/ucfilho/Raianars_July_2020 #clonar do Github\n",
        "%cd Raianars_July_2020"
      ],
      "execution_count": 3,
      "outputs": [
        {
          "output_type": "stream",
          "text": [
            "Cloning into 'Raianars_July_2020'...\n",
            "remote: Enumerating objects: 9, done.\u001b[K\n",
            "remote: Counting objects: 100% (9/9), done.\u001b[K\n",
            "remote: Compressing objects: 100% (9/9), done.\u001b[K\n",
            "remote: Total 132 (delta 3), reused 0 (delta 0), pack-reused 123\u001b[K\n",
            "Receiving objects: 100% (132/132), 200.33 KiB | 2.82 MiB/s, done.\n",
            "Resolving deltas: 100% (65/65), done.\n",
            "/content/Raianars_July_2020\n"
          ],
          "name": "stdout"
        }
      ]
    },
    {
      "cell_type": "code",
      "metadata": {
        "colab_type": "code",
        "id": "_E15mKFURR6O",
        "colab": {}
      },
      "source": [
        "import de_soma_Insight\n",
        "import de_bounds_matriz\n",
        "import Function\n",
        "import Go2MinMax\n",
        "from AvaliaX import AvaliaX\n",
        "\n",
        "\n",
        "############################### DADOS DE ENTRADA \n",
        "its=1 #10 # quantas vezes vai usar o NPAR antes de alterar de novo\n",
        "ITE=1000 #10 # PONTOS quantas vezes vai alteral NPAR \n",
        "NPAR=100 # NUMBER OF PARTICLES\n",
        "dim=30\n",
        "RUNS=50\n",
        "fchoice='Salomon'  #f2\n",
        "Fun=Function.Salomon\n",
        "\n",
        "mut=0.5\n",
        "crossp=0.5\n",
        "\n",
        "\n",
        "MIN,MAX=Go2MinMax.Intervalo(dim,fchoice)\n",
        "\n",
        "TOTAL=10*dim*its*ITE\n",
        "SOMA=0"
      ],
      "execution_count": 4,
      "outputs": []
    },
    {
      "cell_type": "code",
      "metadata": {
        "colab_type": "code",
        "id": "rnX8ttNopd1G",
        "colab": {
          "base_uri": "https://localhost:8080/",
          "height": 905
        },
        "outputId": "f3f24a6b-1b13-4590-9bfb-ae890109963a"
      },
      "source": [
        "start_time = time.time()\n",
        "BEST_AGENTS=[]\n",
        "MAT_stat=[]\n",
        "\n",
        "for i in range(RUNS):\n",
        "\n",
        "    pop = np.random.rand(NPAR, dim)\n",
        "    diff=np.zeros(dim)\n",
        "    for ii in range(dim):\n",
        "      diff[ii] = MAX[ii]-MIN[ii]\n",
        "    X = MIN + pop * diff\n",
        "\n",
        "    SOMA=0\n",
        "\n",
        "    for k in range(ITE):\n",
        "      X,BEST,FOBEST,XY,BEST_XY,SOMA= de_soma_Insight.de(MAX,MIN, mut, crossp,dim,its,Fun,X,SOMA,TOTAL)\n",
        "\n",
        "    start_run = (time.time()-start_time)/60\n",
        "    print('run=',i,'total=50','Fobj=',FOBEST,'Time=',start_run)  \n",
        "    BEST_AGENTS.append(BEST_XY)"
      ],
      "execution_count": 5,
      "outputs": [
        {
          "output_type": "stream",
          "text": [
            "run= 0 total=50 Fobj= 0.1998744735211529 Time= 0.1660179058710734\n",
            "run= 1 total=50 Fobj= 0.20134794800682868 Time= 0.3219083309173584\n",
            "run= 2 total=50 Fobj= 0.2008454205573149 Time= 0.4793492674827576\n",
            "run= 3 total=50 Fobj= 0.1998873719425832 Time= 0.6346648097038269\n",
            "run= 4 total=50 Fobj= 0.20074293763096004 Time= 0.7905649105707805\n",
            "run= 5 total=50 Fobj= 0.19989074988412725 Time= 0.9469952781995138\n",
            "run= 6 total=50 Fobj= 0.24364340090329709 Time= 1.1082758545875548\n",
            "run= 7 total=50 Fobj= 0.20030506030196527 Time= 1.2685719887415567\n",
            "run= 8 total=50 Fobj= 0.19994871013918022 Time= 1.4245638648668926\n",
            "run= 9 total=50 Fobj= 0.2001672337985958 Time= 1.5818511565526328\n",
            "run= 10 total=50 Fobj= 0.1998842787312324 Time= 1.7386906464894614\n",
            "run= 11 total=50 Fobj= 0.20356129896995448 Time= 1.8962868094444274\n",
            "run= 12 total=50 Fobj= 0.20426324980159383 Time= 2.0536001523335776\n",
            "run= 13 total=50 Fobj= 0.20030819438392405 Time= 2.2080424348513286\n",
            "run= 14 total=50 Fobj= 0.20070197809644102 Time= 2.362994901339213\n",
            "run= 15 total=50 Fobj= 0.19987815651041763 Time= 2.5169848283131917\n",
            "run= 16 total=50 Fobj= 0.19988068683738922 Time= 2.6719104846318564\n",
            "run= 17 total=50 Fobj= 0.20003725833292116 Time= 2.82913916905721\n",
            "run= 18 total=50 Fobj= 0.20004839943780484 Time= 2.9846230149269104\n",
            "run= 19 total=50 Fobj= 0.20273123666483514 Time= 3.139170062541962\n",
            "run= 20 total=50 Fobj= 0.20005334995104654 Time= 3.2962204615275064\n",
            "run= 21 total=50 Fobj= 0.2012725569859673 Time= 3.4511821985244753\n",
            "run= 22 total=50 Fobj= 0.20758131779530778 Time= 3.6053311824798584\n",
            "run= 23 total=50 Fobj= 0.19987355750694027 Time= 3.7591694513956706\n",
            "run= 24 total=50 Fobj= 0.19988050805542962 Time= 3.9127431591351827\n",
            "run= 25 total=50 Fobj= 0.1998927186337539 Time= 4.068028851350149\n",
            "run= 26 total=50 Fobj= 0.1998814492358216 Time= 4.221564491589864\n",
            "run= 27 total=50 Fobj= 0.20098248042759348 Time= 4.376419607798258\n",
            "run= 28 total=50 Fobj= 0.19987450061490708 Time= 4.531031461556752\n",
            "run= 29 total=50 Fobj= 0.19988932371205725 Time= 4.686102215449015\n",
            "run= 30 total=50 Fobj= 0.20004954357877447 Time= 4.842088762919108\n",
            "run= 31 total=50 Fobj= 0.1999021483511685 Time= 4.999673128128052\n",
            "run= 32 total=50 Fobj= 0.19987400405313652 Time= 5.155997848510742\n",
            "run= 33 total=50 Fobj= 0.20551272471668416 Time= 5.321133089065552\n",
            "run= 34 total=50 Fobj= 0.20996111045888544 Time= 5.486334351698558\n",
            "run= 35 total=50 Fobj= 0.2998733841468341 Time= 5.647393409411112\n",
            "run= 36 total=50 Fobj= 0.21904333633303646 Time= 5.801508363087972\n",
            "run= 37 total=50 Fobj= 0.22427992690705292 Time= 5.956090819835663\n",
            "run= 38 total=50 Fobj= 0.19987354065219587 Time= 6.110364981492361\n",
            "run= 39 total=50 Fobj= 0.205053318439053 Time= 6.276656866073608\n",
            "run= 40 total=50 Fobj= 0.2678140035091414 Time= 6.4331362048784895\n",
            "run= 41 total=50 Fobj= 0.2003907627294076 Time= 6.589058550198873\n",
            "run= 42 total=50 Fobj= 0.19989891212983224 Time= 6.743529562155405\n",
            "run= 43 total=50 Fobj= 0.29987334692824835 Time= 6.899698042869568\n",
            "run= 44 total=50 Fobj= 0.19987369437144742 Time= 7.054389560222626\n",
            "run= 45 total=50 Fobj= 0.20523529169567098 Time= 7.208546841144562\n",
            "run= 46 total=50 Fobj= 0.23060919583755235 Time= 7.3621389150619505\n",
            "run= 47 total=50 Fobj= 0.1999133194249952 Time= 7.516689705848694\n",
            "run= 48 total=50 Fobj= 0.19988359187624294 Time= 7.67239488363266\n",
            "run= 49 total=50 Fobj= 0.2002023056527933 Time= 7.827711085478465\n"
          ],
          "name": "stdout"
        }
      ]
    },
    {
      "cell_type": "code",
      "metadata": {
        "id": "VAbHty3zbVND",
        "colab_type": "code",
        "colab": {}
      },
      "source": [
        ""
      ],
      "execution_count": 5,
      "outputs": []
    },
    {
      "cell_type": "code",
      "metadata": {
        "colab_type": "code",
        "id": "lNSN5X-wskcx",
        "colab": {
          "base_uri": "https://localhost:8080/",
          "height": 301
        },
        "outputId": "9fe75659-f2ee-4410-eca0-71af01c0ca7d"
      },
      "source": [
        "############################## Cálculo dos Parâmetros de Avaliação   \n",
        "TIME = (time.time() - start_time)/RUNS\n",
        "BEST_AGENTS=np.array(BEST_AGENTS)\n",
        "BEST_AGENTS_ST= BEST_AGENTS[BEST_AGENTS[:,-1].argsort()]\n",
        "BEST=BEST_AGENTS_ST[0]\n",
        "WORSE=BEST_AGENTS_ST[-1]\n",
        "MEAN=np.mean(BEST_AGENTS,axis=0)\n",
        "MAXFO=BEST_AGENTS[:,-1].max()\n",
        "MINFO=BEST_AGENTS[:,-1].min()\n",
        "STD=BEST_AGENTS[:,-1].std()\n",
        "\n",
        "nome='_DE_STAT_Fo-'+str(mut)+'_CRo-'+str(crossp)+'_D-'+str(dim)+'_Interv-'+str(ITE)\n",
        "print('DE_POP_VAR_F_CR','TOTAL=',TOTAL,'Iterações=',ITE*its,'Dim=', dim,\"Min/Max=\",MIN[0],\"/\",MAX[0],'_',Fun.__name__)\n",
        "print(nome, '\\n')\n",
        "#print('BEST: ',BEST)\n",
        "#print('MÉDIA: ',MEAN)\n",
        "print('MÉDIA: ',MEAN[-1])\n",
        "print('MIN __:',MINFO)\n",
        "print('MAX__: ',MAXFO)\n",
        "print('STD __:',STD)\n",
        "print(\"Tempo Médio= %.3f segundos ---\" % (TIME))\n",
        "print(RUNS,'Rodadas') \n",
        "print()\n",
        "print('BEST: ',BEST)\n",
        "# print('melhor=',BEST_AGENTS[BEST_INDEX])"
      ],
      "execution_count": 6,
      "outputs": [
        {
          "output_type": "stream",
          "text": [
            "DE_POP_VAR_F_CR TOTAL= 300000 Iterações= 1000 Dim= 30 Min/Max= -2 / 2 _ Salomon\n",
            "_DE_STAT_Fo-0.5_CRo-0.5_D-30_Interv-1000 \n",
            "\n",
            "MÉDIA:  0.20868494538326987\n",
            "MIN __: 0.19987354065219587\n",
            "MAX__:  0.2998733841468341\n",
            "STD __: 0.02229606533161815\n",
            "Tempo Médio= 9.394 segundos ---\n",
            "50 Rodadas\n",
            "\n",
            "BEST:  [-0.27915945  0.65732663  0.28263573 -0.19382934  0.17786574 -0.12804445\n",
            " -0.50164437  0.05282609  0.36093454 -0.13173844  0.33298628  0.41053248\n",
            "  0.6232411  -0.51792084 -0.03537198  0.09446541  0.18041626  0.80432258\n",
            "  0.08177484 -0.0594761  -0.65581386  0.15155632  0.46888466 -0.04117415\n",
            " -0.2886858  -0.26503192  0.04769712 -0.11435404  0.61422676 -0.23647857\n",
            "  0.19987354]\n"
          ],
          "name": "stdout"
        }
      ]
    }
  ]
}