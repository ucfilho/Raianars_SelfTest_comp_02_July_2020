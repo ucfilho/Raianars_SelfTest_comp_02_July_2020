{
  "nbformat": 4,
  "nbformat_minor": 0,
  "metadata": {
    "colab": {
      "name": "Stats_Bent_Cigar_ALL_D_30_JUL_04_2020.ipynb",
      "provenance": [],
      "collapsed_sections": [],
      "authorship_tag": "ABX9TyMu6we1hKARFW4OR89VgeeA",
      "include_colab_link": true
    },
    "kernelspec": {
      "name": "python3",
      "display_name": "Python 3"
    }
  },
  "cells": [
    {
      "cell_type": "markdown",
      "metadata": {
        "id": "view-in-github",
        "colab_type": "text"
      },
      "source": [
        "<a href=\"https://colab.research.google.com/github/ucfilho/Raianars_SelfTest_comp_02_July_2020/blob/master/Stats_Bent_Cigar_ALL_D_30_JUL_04_2020.ipynb\" target=\"_parent\"><img src=\"https://colab.research.google.com/assets/colab-badge.svg\" alt=\"Open In Colab\"/></a>"
      ]
    },
    {
      "cell_type": "code",
      "metadata": {
        "id": "MC26Bm1UyUR5",
        "colab_type": "code",
        "colab": {
          "base_uri": "https://localhost:8080/",
          "height": 110
        },
        "outputId": "b760d6f1-1409-4a80-b39e-7a55a526d7fb"
      },
      "source": [
        "!pip install pyade-python"
      ],
      "execution_count": 1,
      "outputs": [
        {
          "output_type": "stream",
          "text": [
            "Collecting pyade-python\n",
            "  Downloading https://files.pythonhosted.org/packages/02/e7/aefff90c8de0ad3ff151d51507ec65a2988b7cce9126c342746f77615d9f/pyade_python-1.1-py3-none-any.whl\n",
            "Installing collected packages: pyade-python\n",
            "Successfully installed pyade-python-1.1\n"
          ],
          "name": "stdout"
        }
      ]
    },
    {
      "cell_type": "code",
      "metadata": {
        "id": "rRwqrtCmgzdZ",
        "colab_type": "code",
        "colab": {
          "base_uri": "https://localhost:8080/",
          "height": 237
        },
        "outputId": "6aeb03f1-dbdb-486b-b03a-1de2a7abd922"
      },
      "source": [
        "!pip install PyFDE"
      ],
      "execution_count": 2,
      "outputs": [
        {
          "output_type": "stream",
          "text": [
            "Collecting PyFDE\n",
            "\u001b[?25l  Downloading https://files.pythonhosted.org/packages/72/f9/87f7279554d2682e3827d39c3d3a565b2fd42f7114a779e34a601c6c5079/PyFDE-1.3.0.tar.gz (397kB)\n",
            "\r\u001b[K     |▉                               | 10kB 17.7MB/s eta 0:00:01\r\u001b[K     |█▋                              | 20kB 5.5MB/s eta 0:00:01\r\u001b[K     |██▌                             | 30kB 7.6MB/s eta 0:00:01\r\u001b[K     |███▎                            | 40kB 8.3MB/s eta 0:00:01\r\u001b[K     |████▏                           | 51kB 6.6MB/s eta 0:00:01\r\u001b[K     |█████                           | 61kB 7.0MB/s eta 0:00:01\r\u001b[K     |█████▊                          | 71kB 7.6MB/s eta 0:00:01\r\u001b[K     |██████▋                         | 81kB 8.4MB/s eta 0:00:01\r\u001b[K     |███████▍                        | 92kB 8.7MB/s eta 0:00:01\r\u001b[K     |████████▎                       | 102kB 8.7MB/s eta 0:00:01\r\u001b[K     |█████████                       | 112kB 8.7MB/s eta 0:00:01\r\u001b[K     |██████████                      | 122kB 8.7MB/s eta 0:00:01\r\u001b[K     |██████████▊                     | 133kB 8.7MB/s eta 0:00:01\r\u001b[K     |███████████▌                    | 143kB 8.7MB/s eta 0:00:01\r\u001b[K     |████████████▍                   | 153kB 8.7MB/s eta 0:00:01\r\u001b[K     |█████████████▏                  | 163kB 8.7MB/s eta 0:00:01\r\u001b[K     |██████████████                  | 174kB 8.7MB/s eta 0:00:01\r\u001b[K     |██████████████▉                 | 184kB 8.7MB/s eta 0:00:01\r\u001b[K     |███████████████▊                | 194kB 8.7MB/s eta 0:00:01\r\u001b[K     |████████████████▌               | 204kB 8.7MB/s eta 0:00:01\r\u001b[K     |█████████████████▎              | 215kB 8.7MB/s eta 0:00:01\r\u001b[K     |██████████████████▏             | 225kB 8.7MB/s eta 0:00:01\r\u001b[K     |███████████████████             | 235kB 8.7MB/s eta 0:00:01\r\u001b[K     |███████████████████▉            | 245kB 8.7MB/s eta 0:00:01\r\u001b[K     |████████████████████▋           | 256kB 8.7MB/s eta 0:00:01\r\u001b[K     |█████████████████████▌          | 266kB 8.7MB/s eta 0:00:01\r\u001b[K     |██████████████████████▎         | 276kB 8.7MB/s eta 0:00:01\r\u001b[K     |███████████████████████         | 286kB 8.7MB/s eta 0:00:01\r\u001b[K     |████████████████████████        | 296kB 8.7MB/s eta 0:00:01\r\u001b[K     |████████████████████████▊       | 307kB 8.7MB/s eta 0:00:01\r\u001b[K     |█████████████████████████▋      | 317kB 8.7MB/s eta 0:00:01\r\u001b[K     |██████████████████████████▍     | 327kB 8.7MB/s eta 0:00:01\r\u001b[K     |███████████████████████████▎    | 337kB 8.7MB/s eta 0:00:01\r\u001b[K     |████████████████████████████    | 348kB 8.7MB/s eta 0:00:01\r\u001b[K     |████████████████████████████▉   | 358kB 8.7MB/s eta 0:00:01\r\u001b[K     |█████████████████████████████▊  | 368kB 8.7MB/s eta 0:00:01\r\u001b[K     |██████████████████████████████▌ | 378kB 8.7MB/s eta 0:00:01\r\u001b[K     |███████████████████████████████▍| 389kB 8.7MB/s eta 0:00:01\r\u001b[K     |████████████████████████████████| 399kB 8.7MB/s \n",
            "\u001b[?25hRequirement already satisfied: numpy in /usr/local/lib/python3.6/dist-packages (from PyFDE) (1.18.5)\n",
            "Building wheels for collected packages: PyFDE\n",
            "  Building wheel for PyFDE (setup.py) ... \u001b[?25l\u001b[?25hdone\n",
            "  Created wheel for PyFDE: filename=PyFDE-1.3.0-cp36-cp36m-linux_x86_64.whl size=969288 sha256=f8e76ddf8d007bc2af5969800e0bfb84589e09b1ee23dd513f2cb7564d28fc02\n",
            "  Stored in directory: /root/.cache/pip/wheels/7d/42/ba/abf21db37934e576c74fc2c9504b5cd97eb6a99e3dec1743c0\n",
            "Successfully built PyFDE\n",
            "Installing collected packages: PyFDE\n",
            "Successfully installed PyFDE-1.3.0\n"
          ],
          "name": "stdout"
        }
      ]
    },
    {
      "cell_type": "code",
      "metadata": {
        "id": "anFukot-ypn6",
        "colab_type": "code",
        "colab": {}
      },
      "source": [
        "import pyade.ilshade \n",
        "import pyade.sade \n",
        "import pyade.jso\n",
        "import pyade.shade\n",
        "import pyade.jade \n",
        "import pyfde\n",
        "import numpy as np\n",
        "import pandas as pd\n",
        "import time"
      ],
      "execution_count": 3,
      "outputs": []
    },
    {
      "cell_type": "code",
      "metadata": {
        "id": "6Oh714_-z1Ia",
        "colab_type": "code",
        "colab": {
          "base_uri": "https://localhost:8080/",
          "height": 163
        },
        "outputId": "6a4cacc1-f56f-40ae-e6bc-30e195f465fb"
      },
      "source": [
        "!git clone https://github.com/ucfilho/Raianars_July_2020 #clonar do Github\n",
        "%cd Raianars_July_2020"
      ],
      "execution_count": 4,
      "outputs": [
        {
          "output_type": "stream",
          "text": [
            "Cloning into 'Raianars_July_2020'...\n",
            "remote: Enumerating objects: 3, done.\u001b[K\n",
            "remote: Counting objects:  33% (1/3)\u001b[K\rremote: Counting objects:  66% (2/3)\u001b[K\rremote: Counting objects: 100% (3/3)\u001b[K\rremote: Counting objects: 100% (3/3), done.\u001b[K\n",
            "remote: Compressing objects: 100% (3/3), done.\u001b[K\n",
            "remote: Total 126 (delta 0), reused 0 (delta 0), pack-reused 123\u001b[K\n",
            "Receiving objects: 100% (126/126), 198.23 KiB | 786.00 KiB/s, done.\n",
            "Resolving deltas: 100% (62/62), done.\n",
            "/content/Raianars_July_2020\n"
          ],
          "name": "stdout"
        }
      ]
    },
    {
      "cell_type": "code",
      "metadata": {
        "id": "LnzftXkky78A",
        "colab_type": "code",
        "colab": {}
      },
      "source": [
        "import Go2Ann\n",
        "import de_soma_Insight\n",
        "import de_bounds_matriz\n",
        "from AvaliaX import AvaliaX\n",
        "from GeraIndices import GeraIndices"
      ],
      "execution_count": 5,
      "outputs": []
    },
    {
      "cell_type": "code",
      "metadata": {
        "id": "HNW92728z7fR",
        "colab_type": "code",
        "colab": {}
      },
      "source": [
        "import Function\n",
        "import Go2MinMax"
      ],
      "execution_count": 6,
      "outputs": []
    },
    {
      "cell_type": "code",
      "metadata": {
        "id": "T_C-e7aH0CZH",
        "colab_type": "code",
        "colab": {}
      },
      "source": [
        "ITE=1000 #10 # PONTOS quantas vezes vai alteral NPAR \n",
        "NPAR=100 # NUMBER OF PARTICLES\n",
        "dim=30\n",
        "RUNS=50\n",
        "fchoice='Bent_Cigar'  #f2\n",
        "Fun=Function.Bent_Cigar\n",
        "\n",
        "MIN,MAX=Go2MinMax.Intervalo(dim,fchoice)\n",
        "bounds = [(0,0)]*dim\n",
        "\n",
        "for i in range(dim):\n",
        "  bounds[i] = (MIN[i],MAX[i])"
      ],
      "execution_count": 7,
      "outputs": []
    },
    {
      "cell_type": "code",
      "metadata": {
        "id": "Nqv5qp9yzQEw",
        "colab_type": "code",
        "colab": {}
      },
      "source": [
        "############################### INPUT INFORMATION (FRANNK)\n",
        "Fc=0.1 # fator de correcao parametros da ANN\n",
        "its=1 #10 # quantas vezes vai usar o NPAR antes de alterar de novo\n",
        "mut=0.5\n",
        "crossp=0.5\n",
        "Fi=mut;CRi=crossp;# para impressão\n",
        "PAR=len(MAX) #NUM DE PARAMETROS A SER OTIMIZADOS"
      ],
      "execution_count": 8,
      "outputs": []
    },
    {
      "cell_type": "code",
      "metadata": {
        "id": "WkbM98uny0QY",
        "colab_type": "code",
        "colab": {
          "base_uri": "https://localhost:8080/",
          "height": 345
        },
        "outputId": "f6854de6-5229-4727-ac6e-08ecdb1089f5"
      },
      "source": [
        "# IL-Shade\n",
        "\n",
        "BEST_AGENTS=[]\n",
        "start_time = time.time() \n",
        "for i in range(RUNS):\n",
        "  ANSWER_AGENTS=[]\n",
        "  algorithm = pyade.ilshade \n",
        "  params = algorithm.get_default_params(dim=dim) \n",
        "  params['bounds'] = np.array(bounds)\n",
        "  params['max_evals'] = ITE \n",
        "  params['func'] = Fun\n",
        "  params['max_evals'] = ITE\n",
        "  best, fit = algorithm.apply(**params)\n",
        "  for x in best:\n",
        "    ANSWER_AGENTS.append(x)\n",
        "  ANSWER_AGENTS.append(fit)\n",
        "  BEST_AGENTS.append(ANSWER_AGENTS)\n",
        "BEST_AGENTS=np.array(BEST_AGENTS)\n",
        "TIME = (time.time() - start_time)/RUNS\n",
        "BEST_AGENTS=np.array(BEST_AGENTS)\n",
        "BEST_AGENTS_ST= BEST_AGENTS[BEST_AGENTS[:,-1].argsort()]\n",
        "BEST=BEST_AGENTS_ST[0]\n",
        "WORSE=BEST_AGENTS_ST[-1]\n",
        "MEAN=np.mean(BEST_AGENTS,axis=0)\n",
        "MAXFO=BEST_AGENTS[:,-1].max()\n",
        "MINFO=BEST_AGENTS[:,-1].min()\n",
        "STD=BEST_AGENTS[:,-1].std()\n",
        "nome='IL-Shade_Fo-'+str(0)+'_CRo-'+str(0)\n",
        "print(nome,'NPAR',NPAR,'Iterações=',ITE,'Dim=',dim ,\"Min/Max=\",MIN[0],\"/\",MAX[0],'_',Fun.__name__)\n",
        "print( '\\n')\n",
        "print('MÉDIA: ',MEAN[-1])\n",
        "print('MIN __:',MINFO)\n",
        "print('MAX__: ',MAXFO)\n",
        "print('STD __:',STD)\n",
        "print(\"Tempo Médio= %.3f segundos ---\" % (TIME))\n",
        "print(RUNS,'Rodadas') \n",
        "print()\n",
        "print('BEST: ',BEST)"
      ],
      "execution_count": 9,
      "outputs": [
        {
          "output_type": "stream",
          "text": [
            "IL-Shade_Fo-0_CRo-0 NPAR 100 Iterações= 1000 Dim= 30 Min/Max= -100 / 100 _ Bent_Cigar\n",
            "\n",
            "\n",
            "MÉDIA:  1292547.6366587821\n",
            "MIN __: 638976.2569061429\n",
            "MAX__:  2298159.2668243423\n",
            "STD __: 340658.5024570297\n",
            "Tempo Médio= 0.086 segundos ---\n",
            "50 Rodadas\n",
            "\n",
            "BEST:  [-1.68716924e-01 -1.36775558e-02 -2.90353657e-01 -6.97700919e-02\n",
            " -1.24537472e-01 -2.29081289e-01 -1.89317627e-01  6.82903668e-02\n",
            "  1.77517167e-02  1.68754189e-01  2.07559793e-01  5.55091994e-02\n",
            " -2.00945426e-01 -9.77124327e-02  1.66339515e-03  1.07882224e-01\n",
            "  2.61377735e-02 -3.10576047e-02  1.38618197e-01  8.00681942e-02\n",
            "  3.17788321e-02  3.31324776e-01 -9.92732768e-03  3.34500307e-02\n",
            "  1.44988495e-02 -9.15206277e-02 -1.92643229e-01 -1.64042414e-01\n",
            "  2.83196795e-01 -1.11869524e-01  6.38976257e+05]\n"
          ],
          "name": "stdout"
        }
      ]
    },
    {
      "cell_type": "code",
      "metadata": {
        "id": "v4dbY4tSsFMb",
        "colab_type": "code",
        "colab": {
          "base_uri": "https://localhost:8080/",
          "height": 345
        },
        "outputId": "1b10a6f8-e713-4f43-8e05-3885e4349f22"
      },
      "source": [
        "# Jso\n",
        "\n",
        "BEST_AGENTS=[]\n",
        "start_time = time.time() \n",
        "for i in range(RUNS):\n",
        "  ANSWER_AGENTS=[]\n",
        "  algorithm = pyade.jso\n",
        "  params = algorithm.get_default_params(dim=dim) \n",
        "  params['bounds'] = np.array(bounds)\n",
        "  params['max_evals'] = ITE \n",
        "  params['func'] = Fun\n",
        "  best, fit = algorithm.apply(**params)\n",
        "  for x in best:\n",
        "    ANSWER_AGENTS.append(x)\n",
        "  ANSWER_AGENTS.append(fit)\n",
        "  BEST_AGENTS.append(ANSWER_AGENTS)\n",
        "BEST_AGENTS=np.array(BEST_AGENTS)\n",
        "TIME = (time.time() - start_time)/RUNS\n",
        "BEST_AGENTS=np.array(BEST_AGENTS)\n",
        "BEST_AGENTS_ST= BEST_AGENTS[BEST_AGENTS[:,-1].argsort()]\n",
        "BEST=BEST_AGENTS_ST[0]\n",
        "WORSE=BEST_AGENTS_ST[-1]\n",
        "MEAN=np.mean(BEST_AGENTS,axis=0)\n",
        "MAXFO=BEST_AGENTS[:,-1].max()\n",
        "MINFO=BEST_AGENTS[:,-1].min()\n",
        "STD=BEST_AGENTS[:,-1].std()\n",
        "nome='Jso-'+str(0)+'_CRo-'+str(0)\n",
        "print(nome,'NPAR',NPAR,'Iterações=',ITE,'Dim=',dim ,\"Min/Max=\",MIN[0],\"/\",MAX[0],'_',Fun.__name__)\n",
        "print( '\\n')\n",
        "print('MÉDIA: ',MEAN[-1])\n",
        "print('MIN __:',MINFO)\n",
        "print('MAX__: ',MAXFO)\n",
        "print('STD __:',STD)\n",
        "print(\"Tempo Médio= %.3f segundos ---\" % (TIME))\n",
        "print(RUNS,'Rodadas') \n",
        "print()\n",
        "print('BEST: ',BEST)"
      ],
      "execution_count": 10,
      "outputs": [
        {
          "output_type": "stream",
          "text": [
            "Jso-0_CRo-0 NPAR 100 Iterações= 1000 Dim= 30 Min/Max= -100 / 100 _ Bent_Cigar\n",
            "\n",
            "\n",
            "MÉDIA:  3696189.7881799424\n",
            "MIN __: 1723340.2977673882\n",
            "MAX__:  5298195.6084970245\n",
            "STD __: 852714.4221524823\n",
            "Tempo Médio= 0.045 segundos ---\n",
            "50 Rodadas\n",
            "\n",
            "BEST:  [-3.34459900e-02  4.88750604e-02 -2.37181197e-01 -5.13100959e-02\n",
            "  1.45531498e-01 -2.63358260e-01 -6.10172952e-02  1.06135513e-01\n",
            " -1.37154722e-02 -4.14850002e-01  2.05387600e-01  9.96133135e-02\n",
            "  3.35923076e-01 -3.68993208e-01  4.13664012e-01 -3.06226065e-01\n",
            "  9.73726459e-02  3.03657118e-02 -1.69332810e-01  3.19251510e-01\n",
            "  9.35405576e-02 -2.00130035e-01  2.79884121e-01 -3.33054520e-01\n",
            " -1.03125212e-01  2.47229288e-01  5.94910508e-02 -1.25795075e-01\n",
            " -5.47722402e-01 -2.19247379e-01  1.72334030e+06]\n"
          ],
          "name": "stdout"
        }
      ]
    },
    {
      "cell_type": "code",
      "metadata": {
        "id": "ZkV_dpDa14C8",
        "colab_type": "code",
        "colab": {
          "base_uri": "https://localhost:8080/",
          "height": 345
        },
        "outputId": "ff80e5b0-0b7e-40c4-e6f2-e58a0388544e"
      },
      "source": [
        "# Sade\n",
        "\n",
        "BEST_AGENTS=[]\n",
        "start_time = time.time() \n",
        "for i in range(RUNS):\n",
        "  ANSWER_AGENTS=[]\n",
        "  algorithm = pyade.sade\n",
        "  params = algorithm.get_default_params(dim=dim) \n",
        "  params['bounds'] = np.array(bounds)\n",
        "  params['max_evals'] = ITE \n",
        "  params['func'] = Fun\n",
        "  best, fit = algorithm.apply(**params)\n",
        "  for x in best:\n",
        "    ANSWER_AGENTS.append(x)\n",
        "  ANSWER_AGENTS.append(fit)\n",
        "  BEST_AGENTS.append(ANSWER_AGENTS)\n",
        "BEST_AGENTS=np.array(BEST_AGENTS)\n",
        "TIME = (time.time() - start_time)/RUNS\n",
        "BEST_AGENTS=np.array(BEST_AGENTS)\n",
        "BEST_AGENTS_ST= BEST_AGENTS[BEST_AGENTS[:,-1].argsort()]\n",
        "BEST=BEST_AGENTS_ST[0]\n",
        "WORSE=BEST_AGENTS_ST[-1]\n",
        "MEAN=np.mean(BEST_AGENTS,axis=0)\n",
        "MAXFO=BEST_AGENTS[:,-1].max()\n",
        "MINFO=BEST_AGENTS[:,-1].min()\n",
        "STD=BEST_AGENTS[:,-1].std()\n",
        "nome='Sade_Fo-'+str(0)+'_CRo-'+str(0)\n",
        "print(nome,'NPAR',NPAR,'Iterações=',ITE,'Dim=',dim ,\"Min/Max=\",MIN[0],\"/\",MAX[0],'_',Fun.__name__)\n",
        "print( '\\n')\n",
        "print('MÉDIA: ',MEAN[-1])\n",
        "print('MIN __:',MINFO)\n",
        "print('MAX__: ',MAXFO)\n",
        "print('STD __:',STD)\n",
        "print(\"Tempo Médio= %.3f segundos ---\" % (TIME))\n",
        "print(RUNS,'Rodadas') \n",
        "print()\n",
        "print('BEST: ',BEST)"
      ],
      "execution_count": 11,
      "outputs": [
        {
          "output_type": "stream",
          "text": [
            "Sade_Fo-0_CRo-0 NPAR 100 Iterações= 1000 Dim= 30 Min/Max= -100 / 100 _ Bent_Cigar\n",
            "\n",
            "\n",
            "MÉDIA:  9477239.609391231\n",
            "MIN __: 7139294.467109071\n",
            "MAX__:  11467796.690331737\n",
            "STD __: 947507.4966964411\n",
            "Tempo Médio= 0.046 segundos ---\n",
            "50 Rodadas\n",
            "\n",
            "BEST:  [-7.24273135e-01 -2.05450072e-01 -4.86197411e-03 -9.79641640e-02\n",
            " -2.31177277e-01  8.82165990e-02  4.39919797e-01 -8.69587239e-01\n",
            " -1.90830629e-01 -1.69442966e-01 -2.80224308e-01  1.02226245e-01\n",
            "  4.11902995e-01  1.00578487e-02  2.89657683e-01 -1.28866279e+00\n",
            "  6.96749449e-01  5.03102363e-01  5.83978145e-02  1.11761215e+00\n",
            " -3.61803085e-01  3.26557231e-01  9.47661909e-02 -2.08115282e-01\n",
            " -8.16416083e-01 -7.87707203e-02  2.92871993e-01 -7.38438626e-01\n",
            " -2.11517844e-01 -6.15375671e-01  7.13929447e+06]\n"
          ],
          "name": "stdout"
        }
      ]
    },
    {
      "cell_type": "code",
      "metadata": {
        "id": "q77YsFa82zFU",
        "colab_type": "code",
        "colab": {
          "base_uri": "https://localhost:8080/",
          "height": 345
        },
        "outputId": "9b7f12a5-d06d-466f-a026-779c3b8d7bf7"
      },
      "source": [
        "# JADE\n",
        "algorithm = pyade.jso\n",
        "BEST_AGENTS=[]\n",
        "for i in range(RUNS):\n",
        "  ANSWER_AGENTS=[]\n",
        "  solver = pyfde.JADE(Fun, n_dim=dim, n_pop=NPAR, limits=bounds, minimize=True)\n",
        "  solver.p = 0.05\n",
        "  solver.c = 0.1\n",
        "  solver.cr = 0.5\n",
        "  solver.f = 0.5\n",
        "  best, fit = solver.run(n_it=ITE)\n",
        "  for x in best:\n",
        "    ANSWER_AGENTS.append(x)\n",
        "  ANSWER_AGENTS.append(fit)\n",
        "  BEST_AGENTS.append(ANSWER_AGENTS)\n",
        "BEST_AGENTS=np.array(BEST_AGENTS)\n",
        "TIME = (time.time() - start_time)/RUNS\n",
        "BEST_AGENTS=np.array(BEST_AGENTS)\n",
        "BEST_AGENTS_ST= BEST_AGENTS[BEST_AGENTS[:,-1].argsort()]\n",
        "BEST=BEST_AGENTS_ST[0]\n",
        "WORSE=BEST_AGENTS_ST[-1]\n",
        "MEAN=np.mean(BEST_AGENTS,axis=0)\n",
        "MAXFO=BEST_AGENTS[:,-1].max()\n",
        "MINFO=BEST_AGENTS[:,-1].min()\n",
        "STD=BEST_AGENTS[:,-1].std()\n",
        "nome='JADE_Fo-'+str(0)+'_CRo-'+str(0)\n",
        "print(nome,'NPAR',NPAR,'Iterações=',ITE,'Dim=',dim ,\"Min/Max=\",MIN[0],\"/\",MAX[0],'_',Fun.__name__)\n",
        "print( '\\n')\n",
        "print('MÉDIA: ',MEAN[-1])\n",
        "print('MIN __:',MINFO)\n",
        "print('MAX__: ',MAXFO)\n",
        "print('STD __:',STD)\n",
        "print(\"Tempo Médio= %.3f segundos ---\" % (TIME))\n",
        "print(RUNS,'Rodadas') \n",
        "print()\n",
        "print('BEST: ',BEST)"
      ],
      "execution_count": 12,
      "outputs": [
        {
          "output_type": "stream",
          "text": [
            "JADE_Fo-0_CRo-0 NPAR 100 Iterações= 1000 Dim= 30 Min/Max= -100 / 100 _ Bent_Cigar\n",
            "\n",
            "\n",
            "MÉDIA:  -7.667732548600374e-34\n",
            "MIN __: -1.1248294416379589e-32\n",
            "MAX__:  -2.632770938480946e-39\n",
            "STD __: 2.1041564219036646e-33\n",
            "Tempo Médio= 1.016 segundos ---\n",
            "50 Rodadas\n",
            "\n",
            "BEST:  [ 7.33291310e-18  3.17176623e-20  3.90823058e-20  3.08083890e-20\n",
            " -1.53673105e-20 -6.66415260e-21 -1.10530637e-20 -8.61049505e-22\n",
            "  3.26026420e-20  2.29722488e-20 -2.73849743e-21  1.84331983e-20\n",
            " -4.00998635e-20 -8.91480655e-21 -2.04129776e-21 -1.06036540e-20\n",
            " -4.41826950e-21  2.38797444e-20 -5.57462943e-21 -9.87554163e-21\n",
            " -2.94064594e-20 -3.84353121e-21  1.34175753e-20 -9.24686670e-21\n",
            " -6.33831489e-22  1.32411300e-20 -1.73722151e-20  1.08224078e-20\n",
            "  1.99162424e-20  2.66780377e-20 -1.12482944e-32]\n"
          ],
          "name": "stdout"
        }
      ]
    },
    {
      "cell_type": "code",
      "metadata": {
        "id": "gXdUgSStzppX",
        "colab_type": "code",
        "colab": {}
      },
      "source": [
        "# FRANNK START HERE !!!!!"
      ],
      "execution_count": 13,
      "outputs": []
    },
    {
      "cell_type": "code",
      "metadata": {
        "id": "raWOfeJBztuj",
        "colab_type": "code",
        "colab": {
          "base_uri": "https://localhost:8080/",
          "height": 145
        },
        "outputId": "9a93df22-91b9-45fb-e5cd-03ff02b2c1f4"
      },
      "source": [
        "!git clone https://github.com/ucfilho/ANN_read_matrix #clonar do Github\n",
        "%cd ANN_read_matrix"
      ],
      "execution_count": 14,
      "outputs": [
        {
          "output_type": "stream",
          "text": [
            "Cloning into 'ANN_read_matrix'...\n",
            "remote: Enumerating objects: 20, done.\u001b[K\n",
            "remote: Counting objects:   5% (1/20)\u001b[K\rremote: Counting objects:  10% (2/20)\u001b[K\rremote: Counting objects:  15% (3/20)\u001b[K\rremote: Counting objects:  20% (4/20)\u001b[K\rremote: Counting objects:  25% (5/20)\u001b[K\rremote: Counting objects:  30% (6/20)\u001b[K\rremote: Counting objects:  35% (7/20)\u001b[K\rremote: Counting objects:  40% (8/20)\u001b[K\rremote: Counting objects:  45% (9/20)\u001b[K\rremote: Counting objects:  50% (10/20)\u001b[K\rremote: Counting objects:  55% (11/20)\u001b[K\rremote: Counting objects:  60% (12/20)\u001b[K\rremote: Counting objects:  65% (13/20)\u001b[K\rremote: Counting objects:  70% (14/20)\u001b[K\rremote: Counting objects:  75% (15/20)\u001b[K\rremote: Counting objects:  80% (16/20)\u001b[K\rremote: Counting objects:  85% (17/20)\u001b[K\rremote: Counting objects:  90% (18/20)\u001b[K\rremote: Counting objects:  95% (19/20)\u001b[K\rremote: Counting objects: 100% (20/20)\u001b[K\rremote: Counting objects: 100% (20/20), done.\u001b[K\n",
            "remote: Compressing objects:   5% (1/18)\u001b[K\rremote: Compressing objects:  11% (2/18)\u001b[K\rremote: Compressing objects:  16% (3/18)\u001b[K\rremote: Compressing objects:  22% (4/18)\u001b[K\rremote: Compressing objects:  27% (5/18)\u001b[K\rremote: Compressing objects:  33% (6/18)\u001b[K\rremote: Compressing objects:  38% (7/18)\u001b[K\rremote: Compressing objects:  44% (8/18)\u001b[K\rremote: Compressing objects:  50% (9/18)\u001b[K\rremote: Compressing objects:  55% (10/18)\u001b[K\rremote: Compressing objects:  61% (11/18)\u001b[K\rremote: Compressing objects:  66% (12/18)\u001b[K\rremote: Compressing objects:  72% (13/18)\u001b[K\rremote: Compressing objects:  77% (14/18)\u001b[K\rremote: Compressing objects:  83% (15/18)\u001b[K\rremote: Compressing objects:  88% (16/18)\u001b[K\rremote: Compressing objects:  94% (17/18)\u001b[K\rremote: Compressing objects: 100% (18/18)\u001b[K\rremote: Compressing objects: 100% (18/18), done.\u001b[K\n",
            "remote: Total 20 (delta 5), reused 0 (delta 0), pack-reused 0\u001b[K\n",
            "Unpacking objects:   5% (1/20)   \rUnpacking objects:  10% (2/20)   \rUnpacking objects:  15% (3/20)   \rUnpacking objects:  20% (4/20)   \rUnpacking objects:  25% (5/20)   \rUnpacking objects:  30% (6/20)   \rUnpacking objects:  35% (7/20)   \rUnpacking objects:  40% (8/20)   \rUnpacking objects:  45% (9/20)   \rUnpacking objects:  50% (10/20)   \rUnpacking objects:  55% (11/20)   \rUnpacking objects:  60% (12/20)   \rUnpacking objects:  65% (13/20)   \rUnpacking objects:  70% (14/20)   \rUnpacking objects:  75% (15/20)   \rUnpacking objects:  80% (16/20)   \rUnpacking objects:  85% (17/20)   \rUnpacking objects:  90% (18/20)   \rUnpacking objects:  95% (19/20)   \rUnpacking objects: 100% (20/20)   \rUnpacking objects: 100% (20/20), done.\n",
            "/content/Raianars_July_2020/ANN_read_matrix\n"
          ],
          "name": "stdout"
        }
      ]
    },
    {
      "cell_type": "code",
      "metadata": {
        "id": "N2lyPfivzwGv",
        "colab_type": "code",
        "colab": {
          "base_uri": "https://localhost:8080/",
          "height": 1000
        },
        "outputId": "cd6c53c4-8a45-4fd3-af5c-7af419fa0370"
      },
      "source": [
        "ANN_F=pd.read_csv('ANN_INSIGHT_Valor_F.csv')\n",
        "ANN_CR=pd.read_csv('ANN_INSIGHT_CR.csv')\n",
        "syn0_F,syn1_F,X_max_F,X_min_F=Go2Ann.GetMatriz(ANN_F)\n",
        "syn0_CR,syn1_CR,X_max_CR,X_min_CR=Go2Ann.GetMatriz(ANN_CR)\n",
        "fields = ['DI RELATIVO','FRAC Its','Fo','CRo']\n",
        "\n",
        "#TOTAL=7*dim*its*ITE\n",
        "TOTAL=10*dim*its*ITE\n",
        "TOTAL=int(TOTAL/2)   # CONFERIR SE ESTE EH O MELHOR LUGAR\n",
        "\n",
        "dimensions=len(MAX)\n",
        "start_time = time.time() #INICIALIZA CONTAGEM DO TEMPO\n",
        "\n",
        "MAX_P=np.zeros(ITE) # ATENCAO para variar F e Cr MAX_P passa a ser 3 vezes maior\n",
        "MIN_P=np.zeros(ITE) # ATENCAO para variar F e Cr MIN_P passa a ser 3 vezes maior\n",
        "\n",
        "for i in range(dim):\n",
        "  MAX_P[i]=MAX[i] \n",
        "  MIN_P[i]=MIN[i]\n",
        "\n",
        "rodadas=1\n",
        "for i in range(rodadas):\n",
        "  SOMA=0\n",
        "  pop = np.random.rand(NPAR, dimensions)\n",
        "  diff=np.zeros(PAR)\n",
        "  for ii in range(PAR):\n",
        "    diff[ii] = MAX[ii]-MIN[ii]\n",
        "  X = MIN + pop * diff\n",
        "    \n",
        "  PONTOS=ITE # DIVISOES DA POPULACAO\n",
        "start_time = time.time()\n",
        "BEST_AGENTS=[]\n",
        "MAT_stat=[]\n",
        "for i in range(RUNS):\n",
        "    MAT=[] \n",
        "    mut=Fi\n",
        "    crossp=CRi\n",
        "    SOMA=0\n",
        "    SOMAf=0\n",
        "    start_ite = time.time()\n",
        "    delta_time=(start_ite-start_time)/60\n",
        "    print('ite=',i,'total=50','time=',delta_time)\n",
        "    pop = np.random.rand(NPAR, dim)\n",
        "    diff=np.zeros(PAR)\n",
        "    for ii in range(PAR):\n",
        "      diff[ii] = MAX[ii]-MIN[ii]\n",
        "    X = MIN + pop * diff\n",
        "    Xf = MIN + pop * diff\n",
        "    \n",
        "    DIo=1e99\n",
        "  \n",
        "    CRo=crossp;Fo=mut;\n",
        "    Fitness = np.asarray([Fun(ind) for ind in X])\n",
        "\n",
        "    XY,BEST_XY,BESTo,FOBESTo=AvaliaX(X,Fitness)\n",
        "    nrow,ncol=X.shape\n",
        "\n",
        "    QUANT=17;MAT_INDo=np.zeros((1,QUANT)); # quantos indices esta fazendo\n",
        "    MAT_INDo[0,5]=nrow  # VALOR NP\n",
        "    MAT_INDo[0,6]=Fo    # VALOR Fo   \n",
        "    MAT_INDo[0,7]=CRo   # VALOR CRo\n",
        "  \n",
        "    MAT_INDo=GeraIndices(X,BESTo,FOBESTo,DIo,MAT_INDo,SOMA,TOTAL,syn0_F,\n",
        "                        syn1_F,X_max_F,X_min_F,syn0_CR,syn1_CR,X_max_CR,\n",
        "                        X_min_CR,Fc,fields,Fun)\n",
        "  \n",
        "    DIo=np.copy(MAT_INDo[0,0])\n",
        "    MAT_INDo[0,15]=Fo    # VALOR Fo   \n",
        "    MAT_INDo[0,16]=CRo   # VALOR CRo\n",
        "    #ind_crossp=ITE-1\n",
        "\n",
        "    \n",
        "    for k in range(ITE):\n",
        "      X,BEST,FOBEST,XY,BEST_XY,SOMA= de_soma_Insight.de(MAX,MIN, mut, crossp,NPAR,its,Fun,X,SOMA,TOTAL)\n",
        "      #Xf,BESTf,FOBESTf,XYf,BEST_XYf,SOMAf= de_soma_Insight.de(MAX,MIN, Fi, CRi, NPAR,its,Fun,Xf,SOMAf,TOTAL)\n",
        "\n",
        "      \n",
        "      MAT_IND=GeraIndices(X,BESTo,FOBESTo,DIo,MAT_INDo,SOMA,TOTAL,syn0_F,\n",
        "                          syn1_F,X_max_F,X_min_F,syn0_CR,syn1_CR,X_max_CR,\n",
        "                          X_min_CR,Fc,fields,Fun)\n",
        "    \n",
        "      BESTo=np.copy(BEST);FOBESTo=np.copy(FOBEST);\n",
        "      MAT.append(MAT_IND.ravel())\n",
        "    \n",
        "      MAT_INDo[0,6]=MAT_IND[0,15]   # VALOR Fo   \n",
        "      MAT_INDo[0,7]=MAT_IND[0,16]   # VALOR CRo\n",
        "      mut=MAT_IND[0,15]\n",
        "      crossp=MAT_IND[0,16]\n",
        "\n",
        "      Fitness = np.asarray([Fun(ind) for ind in X])\n",
        "      #Fitnessf = np.asarray([Fun(ind) for ind in Xf])\n",
        "      Maior=np.argmax(Fitness)\n",
        "      #Maiorf=np.argmax(Fitnessf)\n",
        "      Menor=np.argmin(Fitness)\n",
        "      #Menorf=np.argmin(Fitnessf)\n",
        "\n",
        "      #X[Maior,:]=np.copy(Xf[Menorf,:])\n",
        "      #Xf[Maiorf,:]=np.copy(X[Menor,:])\n",
        "      \n",
        "    BEST_AGENTS.append(BEST_XY)\n",
        "    MAT_stat.append(MAT)\n",
        "    #print(\"GlobalParam e Solucao:\", BEST,\"Funcao=\",FOBEST)\n",
        "    \n",
        "############################## Cálculo dos Parâmetros de Avaliação   \n",
        "TIME = (time.time() - start_time)/RUNS\n",
        "BEST_AGENTS=np.array(BEST_AGENTS)\n",
        "BEST_AGENTS_ST= BEST_AGENTS[BEST_AGENTS[:,-1].argsort()]\n",
        "BEST=BEST_AGENTS_ST[0]\n",
        "WORSE=BEST_AGENTS_ST[-1]\n",
        "MEAN=np.mean(BEST_AGENTS,axis=0)\n",
        "MAXFO=BEST_AGENTS[:,-1].max()\n",
        "MINFO=BEST_AGENTS[:,-1].min()\n",
        "STD=BEST_AGENTS[:,-1].std()\n",
        "\n",
        "nome='_ANN_Div3x4_Fo-'+str(Fi)+'_CRo-'+str(CRi)+'_D-'+str(dim)+'_Interv-'+str(ITE)\n",
        "print('DE_POP_VAR_F_CR','TOTAL=',TOTAL,'Iterações=',ITE*its,'Dim=', PAR,\"Min/Max=\",MIN[0],\"/\",MAX[0],'_',Fun.__name__)\n",
        "print(nome, '\\n')\n",
        "print('MÉDIA: ',MEAN[-1])\n",
        "print('MIN __:',MINFO)\n",
        "print('MAX__: ',MAXFO)\n",
        "print('STD __:',STD)\n",
        "print(\"Tempo Médio= %.3f segundos ---\" % (TIME))\n",
        "print(RUNS,'Rodadas') \n",
        "print()\n",
        "print('BEST: ',BEST)"
      ],
      "execution_count": 15,
      "outputs": [
        {
          "output_type": "stream",
          "text": [
            "ite= 0 total=50 time= 8.96453857421875e-06\n",
            "ite= 1 total=50 time= 0.9798076589902242\n",
            "ite= 2 total=50 time= 1.9617946068445842\n",
            "ite= 3 total=50 time= 2.9444639841715494\n",
            "ite= 4 total=50 time= 3.926913603146871\n",
            "ite= 5 total=50 time= 4.896622800827027\n",
            "ite= 6 total=50 time= 5.878383231163025\n",
            "ite= 7 total=50 time= 6.856625282764435\n",
            "ite= 8 total=50 time= 7.840094260374705\n",
            "ite= 9 total=50 time= 8.82321122487386\n",
            "ite= 10 total=50 time= 9.80483900308609\n",
            "ite= 11 total=50 time= 10.770110754172007\n",
            "ite= 12 total=50 time= 11.751364346345266\n",
            "ite= 13 total=50 time= 12.72144980430603\n",
            "ite= 14 total=50 time= 13.702687124411264\n",
            "ite= 15 total=50 time= 14.680037887891134\n",
            "ite= 16 total=50 time= 15.646913739045461\n",
            "ite= 17 total=50 time= 16.624420948823293\n",
            "ite= 18 total=50 time= 17.59845452308655\n",
            "ite= 19 total=50 time= 18.579032039642335\n",
            "ite= 20 total=50 time= 19.550605988502504\n",
            "ite= 21 total=50 time= 20.516851115226746\n",
            "ite= 22 total=50 time= 21.493380852540334\n",
            "ite= 23 total=50 time= 22.468621301651\n",
            "ite= 24 total=50 time= 23.445774547259013\n",
            "ite= 25 total=50 time= 24.418598930040996\n",
            "ite= 26 total=50 time= 25.39542893568675\n",
            "ite= 27 total=50 time= 26.36980422735214\n",
            "ite= 28 total=50 time= 27.34984922806422\n",
            "ite= 29 total=50 time= 28.329599916934967\n",
            "ite= 30 total=50 time= 29.311051456133523\n",
            "ite= 31 total=50 time= 30.288173627853393\n",
            "ite= 32 total=50 time= 31.26682714621226\n",
            "ite= 33 total=50 time= 32.23946667512258\n",
            "ite= 34 total=50 time= 33.219881502787274\n",
            "ite= 35 total=50 time= 34.202359501520796\n",
            "ite= 36 total=50 time= 35.18333620627721\n",
            "ite= 37 total=50 time= 36.15695622762044\n",
            "ite= 38 total=50 time= 37.12474946180979\n",
            "ite= 39 total=50 time= 38.10455006758372\n",
            "ite= 40 total=50 time= 39.08676606814067\n",
            "ite= 41 total=50 time= 40.066377778848015\n",
            "ite= 42 total=50 time= 41.04610248406728\n",
            "ite= 43 total=50 time= 42.02552621364593\n",
            "ite= 44 total=50 time= 43.00522465308507\n",
            "ite= 45 total=50 time= 43.980951607227325\n",
            "ite= 46 total=50 time= 45.02724016110103\n",
            "ite= 47 total=50 time= 46.007115773359935\n",
            "ite= 48 total=50 time= 46.98597126801808\n",
            "ite= 49 total=50 time= 47.96554002761841\n",
            "DE_POP_VAR_F_CR TOTAL= 150000 Iterações= 1000 Dim= 30 Min/Max= -100 / 100 _ Bent_Cigar\n",
            "_ANN_Div3x4_Fo-0.5_CRo-0.5_D-30_Interv-1000 \n",
            "\n",
            "MÉDIA:  9.154895201946147e-09\n",
            "MIN __: 1.1589334445393195e-10\n",
            "MAX__:  2.4553222624801806e-08\n",
            "STD __: 5.606511403297171e-09\n",
            "Tempo Médio= 58.735 segundos ---\n",
            "50 Rodadas\n",
            "\n",
            "BEST:  [-1.27945566e-06 -4.99101484e-10 -1.29616728e-09  2.26967670e-09\n",
            " -1.80750064e-09  4.33597417e-09  2.23012983e-09  2.46678077e-09\n",
            " -9.99221386e-10  3.20547049e-09  1.11153529e-09 -1.65137064e-09\n",
            "  2.33102563e-09  1.84059074e-09  1.80392891e-09  8.51035550e-11\n",
            " -1.73551076e-09 -2.96719845e-09  2.87243908e-09 -1.91936040e-09\n",
            " -1.21899602e-10  1.12183789e-09 -1.43603585e-09  1.06500561e-09\n",
            "  2.19847586e-09 -2.89275320e-09 -1.16071002e-09  1.11172562e-09\n",
            "  1.29569359e-09  1.02294096e-09  1.15893344e-10]\n"
          ],
          "name": "stdout"
        }
      ]
    }
  ]
}