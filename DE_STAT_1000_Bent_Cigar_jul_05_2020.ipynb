{
  "nbformat": 4,
  "nbformat_minor": 0,
  "metadata": {
    "accelerator": "GPU",
    "colab": {
      "name": "DE_STAT_1000_Bent_Cigar_jul_05_2020.ipynb",
      "provenance": [],
      "collapsed_sections": [],
      "include_colab_link": true
    },
    "kernelspec": {
      "display_name": "Python 3",
      "language": "python",
      "name": "python3"
    },
    "language_info": {
      "codemirror_mode": {
        "name": "ipython",
        "version": 3
      },
      "file_extension": ".py",
      "mimetype": "text/x-python",
      "name": "python",
      "nbconvert_exporter": "python",
      "pygments_lexer": "ipython3",
      "version": "3.6.1"
    }
  },
  "cells": [
    {
      "cell_type": "markdown",
      "metadata": {
        "id": "view-in-github",
        "colab_type": "text"
      },
      "source": [
        "<a href=\"https://colab.research.google.com/github/ucfilho/Raianars_SelfTest_comp_02_July_2020/blob/master/DE_STAT_1000_Bent_Cigar_jul_05_2020.ipynb\" target=\"_parent\"><img src=\"https://colab.research.google.com/assets/colab-badge.svg\" alt=\"Open In Colab\"/></a>"
      ]
    },
    {
      "cell_type": "code",
      "metadata": {
        "colab_type": "code",
        "id": "cG5nOUQ9Eucw",
        "colab": {}
      },
      "source": [
        "# Noisy_Quartic\n",
        "# In the paper Ngen=3000 NPAR=100 RUNS=50 dim=30\n",
        "# JADE: Adaptive Differential Evolution with Optional External Archive\n"
      ],
      "execution_count": 1,
      "outputs": []
    },
    {
      "cell_type": "code",
      "metadata": {
        "colab_type": "code",
        "id": "v1OxgXboBKoG",
        "colab": {}
      },
      "source": [
        "import time\n",
        "import matplotlib.pyplot as plt\n",
        "import numpy as np\n",
        "from random import randint"
      ],
      "execution_count": 2,
      "outputs": []
    },
    {
      "cell_type": "code",
      "metadata": {
        "id": "qMRpE0dGULCI",
        "colab_type": "code",
        "colab": {
          "base_uri": "https://localhost:8080/",
          "height": 163
        },
        "outputId": "82639041-3bb5-4019-a012-191e4511e720"
      },
      "source": [
        "!git clone https://github.com/ucfilho/Raianars_July_2020 #clonar do Github\n",
        "%cd Raianars_July_2020"
      ],
      "execution_count": 3,
      "outputs": [
        {
          "output_type": "stream",
          "text": [
            "Cloning into 'Raianars_July_2020'...\n",
            "remote: Enumerating objects: 3, done.\u001b[K\n",
            "remote: Counting objects: 100% (3/3), done.\u001b[K\n",
            "remote: Compressing objects: 100% (3/3), done.\u001b[K\n",
            "remote: Total 126 (delta 0), reused 0 (delta 0), pack-reused 123\u001b[K\n",
            "Receiving objects: 100% (126/126), 198.23 KiB | 931.00 KiB/s, done.\n",
            "Resolving deltas: 100% (62/62), done.\n",
            "/content/Raianars_July_2020\n"
          ],
          "name": "stdout"
        }
      ]
    },
    {
      "cell_type": "code",
      "metadata": {
        "colab_type": "code",
        "id": "_E15mKFURR6O",
        "colab": {}
      },
      "source": [
        "import de_soma_Insight\n",
        "import de_bounds_matriz\n",
        "import Function\n",
        "import Go2MinMax\n",
        "from AvaliaX import AvaliaX\n",
        "\n",
        "\n",
        "############################### DADOS DE ENTRADA \n",
        "its=1 #10 # quantas vezes vai usar o NPAR antes de alterar de novo\n",
        "ITE=1000 #10 # PONTOS quantas vezes vai alteral NPAR \n",
        "NPAR=100 # NUMBER OF PARTICLES\n",
        "dim=30\n",
        "RUNS=50\n",
        "fchoice='Bent_Cigar'  \n",
        "Fun=Function.Bent_Cigar\n",
        "\n",
        "mut=0.5\n",
        "crossp=0.5\n",
        "\n",
        "\n",
        "#fchoice='Rastrigin' #fchoice='Michalewicz' #fchoice='Schwefel'\n",
        "fchoice='Noisy_Quartic'\n",
        "Fun=Function.Noisy_Quartic\n",
        "\n",
        "MIN,MAX=Go2MinMax.Intervalo(dim,fchoice)\n",
        "\n",
        "TOTAL=10*dim*its*ITE\n",
        "SOMA=0"
      ],
      "execution_count": 4,
      "outputs": []
    },
    {
      "cell_type": "code",
      "metadata": {
        "colab_type": "code",
        "id": "rnX8ttNopd1G",
        "colab": {
          "base_uri": "https://localhost:8080/",
          "height": 926
        },
        "outputId": "27bbfc49-c4be-4879-96c0-af583905c13d"
      },
      "source": [
        "start_time = time.time()\n",
        "BEST_AGENTS=[]\n",
        "MAT_stat=[]\n",
        "\n",
        "for i in range(RUNS):\n",
        "\n",
        "    pop = np.random.rand(NPAR, dim)\n",
        "    diff=np.zeros(dim)\n",
        "    for ii in range(dim):\n",
        "      diff[ii] = MAX[ii]-MIN[ii]\n",
        "    X = MIN + pop * diff\n",
        "\n",
        "    for k in range(ITE):\n",
        "      X,BEST,FOBEST,XY,BEST_XY,SOMA= de_soma_Insight.de(MAX,MIN, mut, crossp,dim,its,Fun,X,SOMA,TOTAL)\n",
        "\n",
        "    start_run = (time.time()-start_time)/60\n",
        "    print('run=',i,'total=50','Fobj=',FOBEST,'Time=',start_run)  \n",
        "    BEST_AGENTS.append(BEST_XY)"
      ],
      "execution_count": 5,
      "outputs": [
        {
          "output_type": "stream",
          "text": [
            "run= 0 total=50 Fobj= 0.3659204439857989 Time= 0.15710866848627728\n",
            "run= 1 total=50 Fobj= 0.2999217473190576 Time= 0.30824371178944904\n",
            "run= 2 total=50 Fobj= 0.3118614283441449 Time= 0.46283324956893923\n",
            "run= 3 total=50 Fobj= 0.41983301549013863 Time= 0.6164048790931702\n",
            "run= 4 total=50 Fobj= 0.3813479453249681 Time= 0.770173446337382\n",
            "run= 5 total=50 Fobj= 0.24408688456103336 Time= 0.9237024903297424\n",
            "run= 6 total=50 Fobj= 0.4903468832489444 Time= 1.0715924859046937\n",
            "run= 7 total=50 Fobj= 0.43578351855025177 Time= 1.2190462112426759\n",
            "run= 8 total=50 Fobj= 0.5374779484185017 Time= 1.36699720621109\n",
            "run= 9 total=50 Fobj= 0.4326062153716758 Time= 1.5157192468643188\n",
            "run= 10 total=50 Fobj= 128.11494659797424 Time= 1.6034818609555563\n",
            "run= 11 total=50 Fobj= 146.85409816816835 Time= 1.691962472597758\n",
            "run= 12 total=50 Fobj= 121.28664189432423 Time= 1.7800131559371948\n",
            "run= 13 total=50 Fobj= 114.99340217763603 Time= 1.8688508907953898\n",
            "run= 14 total=50 Fobj= 118.09616302372528 Time= 1.957366402943929\n",
            "run= 15 total=50 Fobj= 90.38733512716226 Time= 2.046586573123932\n",
            "run= 16 total=50 Fobj= 71.24716501510663 Time= 2.1351617574691772\n",
            "run= 17 total=50 Fobj= 129.55820422008918 Time= 2.22490044037501\n",
            "run= 18 total=50 Fobj= 154.59311396186493 Time= 2.3122830152511598\n",
            "run= 19 total=50 Fobj= 121.81886669952735 Time= 2.3993799765904744\n",
            "run= 20 total=50 Fobj= 78.98216990631703 Time= 2.4873735229174296\n",
            "run= 21 total=50 Fobj= 128.54086254091442 Time= 2.580348853270213\n",
            "run= 22 total=50 Fobj= 127.12501532341385 Time= 2.6718817472457888\n",
            "run= 23 total=50 Fobj= 133.90995487873664 Time= 2.766443653901418\n",
            "run= 24 total=50 Fobj= 109.07421392837718 Time= 2.856115480264028\n",
            "run= 25 total=50 Fobj= 100.61614112176765 Time= 2.9479400912920632\n",
            "run= 26 total=50 Fobj= 138.51971920977624 Time= 3.0418036858240765\n",
            "run= 27 total=50 Fobj= 133.4786282122529 Time= 3.133282156785329\n",
            "run= 28 total=50 Fobj= 138.44592776070402 Time= 3.2267422477404275\n",
            "run= 29 total=50 Fobj= 89.9010388024508 Time= 3.3197101354599\n",
            "run= 30 total=50 Fobj= 106.16076839463322 Time= 3.4118380308151246\n",
            "run= 31 total=50 Fobj= 142.65145184033318 Time= 3.504532015323639\n",
            "run= 32 total=50 Fobj= 152.61663123237395 Time= 3.5925469597180686\n",
            "run= 33 total=50 Fobj= 89.11142540036668 Time= 3.68023460706075\n",
            "run= 34 total=50 Fobj= 119.80421244006811 Time= 3.7684873223304747\n",
            "run= 35 total=50 Fobj= 133.14654759574725 Time= 3.8563879768053693\n",
            "run= 36 total=50 Fobj= 129.67349250360527 Time= 3.9472084561983745\n",
            "run= 37 total=50 Fobj= 96.80423094110716 Time= 4.0386114319165545\n",
            "run= 38 total=50 Fobj= 95.67832804520272 Time= 4.128763512770335\n",
            "run= 39 total=50 Fobj= 95.05022924612372 Time= 4.217785998185476\n",
            "run= 40 total=50 Fobj= 134.7396692342745 Time= 4.30674535036087\n",
            "run= 41 total=50 Fobj= 109.24731492706849 Time= 4.396743043263753\n",
            "run= 42 total=50 Fobj= 107.83704769449324 Time= 4.485496354103089\n",
            "run= 43 total=50 Fobj= 112.45218144828861 Time= 4.573946253458659\n",
            "run= 44 total=50 Fobj= 124.3111295667802 Time= 4.663062540690104\n",
            "run= 45 total=50 Fobj= 102.85856558928944 Time= 4.751168370246887\n",
            "run= 46 total=50 Fobj= 81.45251123386535 Time= 4.840762786070505\n",
            "run= 47 total=50 Fobj= 97.93327158544528 Time= 4.929377961158752\n",
            "run= 48 total=50 Fobj= 118.15989606887723 Time= 5.01836447318395\n",
            "run= 49 total=50 Fobj= 140.77679556479254 Time= 5.1069775501887005\n"
          ],
          "name": "stdout"
        }
      ]
    },
    {
      "cell_type": "code",
      "metadata": {
        "id": "VAbHty3zbVND",
        "colab_type": "code",
        "colab": {}
      },
      "source": [
        ""
      ],
      "execution_count": 5,
      "outputs": []
    },
    {
      "cell_type": "code",
      "metadata": {
        "colab_type": "code",
        "id": "lNSN5X-wskcx",
        "colab": {
          "base_uri": "https://localhost:8080/",
          "height": 308
        },
        "outputId": "cff514de-a058-412a-d542-48383437be2f"
      },
      "source": [
        "############################## Cálculo dos Parâmetros de Avaliação   \n",
        "TIME = (time.time() - start_time)/RUNS\n",
        "BEST_AGENTS=np.array(BEST_AGENTS)\n",
        "BEST_AGENTS_ST= BEST_AGENTS[BEST_AGENTS[:,-1].argsort()]\n",
        "BEST=BEST_AGENTS_ST[0]\n",
        "WORSE=BEST_AGENTS_ST[-1]\n",
        "MEAN=np.mean(BEST_AGENTS,axis=0)\n",
        "MAXFO=BEST_AGENTS[:,-1].max()\n",
        "MINFO=BEST_AGENTS[:,-1].min()\n",
        "STD=BEST_AGENTS[:,-1].std()\n",
        "\n",
        "nome='_DE_STAT_Fo-'+str(mut)+'_CRo-'+str(crossp)+'_D-'+str(dim)+'_Interv-'+str(ITE)\n",
        "print('DE_POP_VAR_F_CR','TOTAL=',TOTAL,'Iterações=',ITE*its,'Dim=', dim,\"Min/Max=\",MIN[0],\"/\",MAX[0],'_',Fun.__name__)\n",
        "print(nome, '\\n')\n",
        "#print('BEST: ',BEST)\n",
        "#print('MÉDIA: ',MEAN)\n",
        "print('MÉDIA: ',MEAN[-1])\n",
        "print('MIN __:',MINFO)\n",
        "print('MAX__: ',MAXFO)\n",
        "print('STD __:',STD)\n",
        "print(\"Tempo Médio= %.3f segundos ---\" % (TIME))\n",
        "print(RUNS,'Rodadas') \n",
        "print()\n",
        "print('BEST: ',BEST)\n",
        "# print('melhor=',BEST_AGENTS[BEST_INDEX])"
      ],
      "execution_count": 6,
      "outputs": [
        {
          "output_type": "stream",
          "text": [
            "DE_POP_VAR_F_CR TOTAL= 300000 Iterações= 1000 Dim= 30 Min/Max= -1.28 / 1.28 _ Noisy_Quartic\n",
            "_DE_STAT_Fo-0.5_CRo-0.5_D-30_Interv-1000 \n",
            "\n",
            "MÉDIA:  93.39856990307278\n",
            "MIN __: 0.24408688456103336\n",
            "MAX__:  154.59311396186493\n",
            "STD __: 50.06125422887331\n",
            "Tempo Médio= 6.129 segundos ---\n",
            "50 Rodadas\n",
            "\n",
            "BEST:  [-0.20011985  0.21421469 -0.19809152  0.12020128 -0.0919116   0.06729502\n",
            " -0.09004088 -0.00964399 -0.09813796  0.15331333  0.16444296 -0.15213696\n",
            " -0.05035916 -0.06342644  0.03767732  0.11818246  0.01500457 -0.18788626\n",
            " -0.00480236 -0.14938756  0.21523545 -0.03021161  0.02925274 -0.06659801\n",
            "  0.02092804  0.10427867  0.05508567  0.07438834  0.19678273  0.00565406\n",
            "  0.24408688]\n"
          ],
          "name": "stdout"
        }
      ]
    }
  ]
}