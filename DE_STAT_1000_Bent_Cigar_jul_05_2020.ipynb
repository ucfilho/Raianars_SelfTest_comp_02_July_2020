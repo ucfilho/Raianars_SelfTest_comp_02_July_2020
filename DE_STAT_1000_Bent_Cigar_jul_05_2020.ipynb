{
  "nbformat": 4,
  "nbformat_minor": 0,
  "metadata": {
    "accelerator": "GPU",
    "colab": {
      "name": "DE_STAT_1000_Bent_Cigar_jul_05_2020.ipynb",
      "provenance": [],
      "collapsed_sections": [],
      "include_colab_link": true
    },
    "kernelspec": {
      "display_name": "Python 3",
      "language": "python",
      "name": "python3"
    },
    "language_info": {
      "codemirror_mode": {
        "name": "ipython",
        "version": 3
      },
      "file_extension": ".py",
      "mimetype": "text/x-python",
      "name": "python",
      "nbconvert_exporter": "python",
      "pygments_lexer": "ipython3",
      "version": "3.6.1"
    }
  },
  "cells": [
    {
      "cell_type": "markdown",
      "metadata": {
        "id": "view-in-github",
        "colab_type": "text"
      },
      "source": [
        "<a href=\"https://colab.research.google.com/github/ucfilho/Raianars_SelfTest_comp_02_July_2020/blob/master/DE_STAT_1000_Bent_Cigar_jul_05_2020.ipynb\" target=\"_parent\"><img src=\"https://colab.research.google.com/assets/colab-badge.svg\" alt=\"Open In Colab\"/></a>"
      ]
    },
    {
      "cell_type": "code",
      "metadata": {
        "colab_type": "code",
        "id": "cG5nOUQ9Eucw",
        "colab": {}
      },
      "source": [
        "# Noisy_Quartic\n",
        "# In the paper Ngen=3000 NPAR=100 RUNS=50 dim=30\n",
        "# JADE: Adaptive Differential Evolution with Optional External Archive\n"
      ],
      "execution_count": 1,
      "outputs": []
    },
    {
      "cell_type": "code",
      "metadata": {
        "colab_type": "code",
        "id": "v1OxgXboBKoG",
        "colab": {}
      },
      "source": [
        "import time\n",
        "import matplotlib.pyplot as plt\n",
        "import numpy as np\n",
        "from random import randint"
      ],
      "execution_count": 2,
      "outputs": []
    },
    {
      "cell_type": "code",
      "metadata": {
        "id": "qMRpE0dGULCI",
        "colab_type": "code",
        "colab": {
          "base_uri": "https://localhost:8080/",
          "height": 158
        },
        "outputId": "5a86f329-86c2-4b68-88a2-7fd785b1d662"
      },
      "source": [
        "!git clone https://github.com/ucfilho/Raianars_July_2020 #clonar do Github\n",
        "%cd Raianars_July_2020"
      ],
      "execution_count": 3,
      "outputs": [
        {
          "output_type": "stream",
          "text": [
            "Cloning into 'Raianars_July_2020'...\n",
            "remote: Enumerating objects: 9, done.\u001b[K\n",
            "remote: Counting objects: 100% (9/9), done.\u001b[K\n",
            "remote: Compressing objects: 100% (9/9), done.\u001b[K\n",
            "remote: Total 132 (delta 3), reused 0 (delta 0), pack-reused 123\u001b[K\n",
            "Receiving objects: 100% (132/132), 200.33 KiB | 505.00 KiB/s, done.\n",
            "Resolving deltas: 100% (65/65), done.\n",
            "/content/Raianars_July_2020\n"
          ],
          "name": "stdout"
        }
      ]
    },
    {
      "cell_type": "code",
      "metadata": {
        "colab_type": "code",
        "id": "_E15mKFURR6O",
        "colab": {}
      },
      "source": [
        "import de_soma_Insight\n",
        "import de_bounds_matriz\n",
        "import Function\n",
        "import Go2MinMax\n",
        "from AvaliaX import AvaliaX\n",
        "\n",
        "\n",
        "############################### DADOS DE ENTRADA \n",
        "its=1 #10 # quantas vezes vai usar o NPAR antes de alterar de novo\n",
        "ITE=1000 #10 # PONTOS quantas vezes vai alteral NPAR \n",
        "NPAR=100 # NUMBER OF PARTICLES\n",
        "dim=30\n",
        "RUNS=50\n",
        "fchoice='Bent_Cigar'  \n",
        "Fun=Function.Bent_Cigar\n",
        "\n",
        "mut=0.5\n",
        "crossp=0.5\n",
        "\n",
        "\n",
        "#fchoice='Rastrigin' #fchoice='Michalewicz' #fchoice='Schwefel'\n",
        "fchoice='Noisy_Quartic'\n",
        "Fun=Function.Noisy_Quartic\n",
        "\n",
        "MIN,MAX=Go2MinMax.Intervalo(dim,fchoice)\n",
        "\n",
        "TOTAL=10*dim*its*ITE\n",
        "SOMA=0"
      ],
      "execution_count": 4,
      "outputs": []
    },
    {
      "cell_type": "code",
      "metadata": {
        "colab_type": "code",
        "id": "rnX8ttNopd1G",
        "colab": {
          "base_uri": "https://localhost:8080/",
          "height": 905
        },
        "outputId": "47431185-b10d-46c3-ad3a-0593a26b201a"
      },
      "source": [
        "start_time = time.time()\n",
        "BEST_AGENTS=[]\n",
        "MAT_stat=[]\n",
        "\n",
        "for i in range(RUNS):\n",
        "\n",
        "    pop = np.random.rand(NPAR, dim)\n",
        "    diff=np.zeros(dim)\n",
        "    for ii in range(dim):\n",
        "      diff[ii] = MAX[ii]-MIN[ii]\n",
        "    X = MIN + pop * diff\n",
        "    \n",
        "    SOMA=0\n",
        "\n",
        "    for k in range(ITE):\n",
        "      X,BEST,FOBEST,XY,BEST_XY,SOMA= de_soma_Insight.de(MAX,MIN, mut, crossp,dim,its,Fun,X,SOMA,TOTAL)\n",
        "\n",
        "    start_run = (time.time()-start_time)/60\n",
        "    print('run=',i,'total=50','Fobj=',FOBEST,'Time=',start_run)  \n",
        "    BEST_AGENTS.append(BEST_XY)"
      ],
      "execution_count": 5,
      "outputs": [
        {
          "output_type": "stream",
          "text": [
            "run= 0 total=50 Fobj= 0.2870642359819895 Time= 0.16753109296162924\n",
            "run= 1 total=50 Fobj= 0.5183592098108823 Time= 0.3341203570365906\n",
            "run= 2 total=50 Fobj= 0.3368433229866192 Time= 0.5010807077089946\n",
            "run= 3 total=50 Fobj= 0.62707381836596 Time= 0.6695718566576639\n",
            "run= 4 total=50 Fobj= 0.528338472013211 Time= 0.8369998375574748\n",
            "run= 5 total=50 Fobj= 0.40474990724800053 Time= 1.0053167303403219\n",
            "run= 6 total=50 Fobj= 0.4694208096018516 Time= 1.1730082551638286\n",
            "run= 7 total=50 Fobj= 0.37350991488618723 Time= 1.339656694730123\n",
            "run= 8 total=50 Fobj= 0.42975067574655146 Time= 1.5065619627634683\n",
            "run= 9 total=50 Fobj= 0.4145909306755501 Time= 1.6787413318951925\n",
            "run= 10 total=50 Fobj= 0.41216044864765655 Time= 1.8509588837623596\n",
            "run= 11 total=50 Fobj= 0.5458712364619166 Time= 2.018964648246765\n",
            "run= 12 total=50 Fobj= 0.36735386301370476 Time= 2.186114279429118\n",
            "run= 13 total=50 Fobj= 0.5318009256730747 Time= 2.354488555590312\n",
            "run= 14 total=50 Fobj= 0.37125055776068694 Time= 2.523112459977468\n",
            "run= 15 total=50 Fobj= 0.3029923916110191 Time= 2.689465264479319\n",
            "run= 16 total=50 Fobj= 0.7399270136455316 Time= 2.856939955552419\n",
            "run= 17 total=50 Fobj= 0.5890157435652363 Time= 3.0240610599517823\n",
            "run= 18 total=50 Fobj= 0.3505643124981184 Time= 3.1940882444381713\n",
            "run= 19 total=50 Fobj= 0.20202507213899595 Time= 3.36386501789093\n",
            "run= 20 total=50 Fobj= 0.43962064767201986 Time= 3.5318676153818767\n",
            "run= 21 total=50 Fobj= 0.4033087705815931 Time= 3.7012396931648253\n",
            "run= 22 total=50 Fobj= 0.6624584525741942 Time= 3.869992021719615\n",
            "run= 23 total=50 Fobj= 0.5022692839185972 Time= 4.038786967595418\n",
            "run= 24 total=50 Fobj= 0.3065145480809776 Time= 4.205755480130514\n",
            "run= 25 total=50 Fobj= 0.5167107435909388 Time= 4.372772145271301\n",
            "run= 26 total=50 Fobj= 0.39948001458614385 Time= 4.541222576300303\n",
            "run= 27 total=50 Fobj= 0.3197931930407697 Time= 4.710089588165284\n",
            "run= 28 total=50 Fobj= 0.4620341048456557 Time= 4.877515709400177\n",
            "run= 29 total=50 Fobj= 0.34226344216333027 Time= 5.0476341088612875\n",
            "run= 30 total=50 Fobj= 0.4360775323775473 Time= 5.216189924875895\n",
            "run= 31 total=50 Fobj= 0.25557583478396895 Time= 5.383579965432485\n",
            "run= 32 total=50 Fobj= 0.35906165634871445 Time= 5.550522792339325\n",
            "run= 33 total=50 Fobj= 0.40574851631641834 Time= 5.719337960084279\n",
            "run= 34 total=50 Fobj= 0.40646210372014685 Time= 5.887614011764526\n",
            "run= 35 total=50 Fobj= 0.2955756138524903 Time= 6.056156361103058\n",
            "run= 36 total=50 Fobj= 0.27690858998022294 Time= 6.22413059870402\n",
            "run= 37 total=50 Fobj= 0.5086486613660149 Time= 6.392941462993622\n",
            "run= 38 total=50 Fobj= 0.46174752106584865 Time= 6.56102823416392\n",
            "run= 39 total=50 Fobj= 0.4993731346818926 Time= 6.7316535671552025\n",
            "run= 40 total=50 Fobj= 0.39132405573601314 Time= 6.904445008436839\n",
            "run= 41 total=50 Fobj= 0.32952935168529407 Time= 7.0844292084376015\n",
            "run= 42 total=50 Fobj= 0.5500955824420832 Time= 7.313379720846812\n",
            "run= 43 total=50 Fobj= 0.2857361506559636 Time= 7.4810869534810385\n",
            "run= 44 total=50 Fobj= 0.34546805906841727 Time= 7.648678839206696\n",
            "run= 45 total=50 Fobj= 0.5870728506181182 Time= 7.8160986105601\n",
            "run= 46 total=50 Fobj= 0.3373162217636408 Time= 7.985515403747558\n",
            "run= 47 total=50 Fobj= 0.5140123805803563 Time= 8.153310449918111\n",
            "run= 48 total=50 Fobj= 0.40129669661029155 Time= 8.321007903416952\n",
            "run= 49 total=50 Fobj= 0.36478352342867704 Time= 8.488868900140126\n"
          ],
          "name": "stdout"
        }
      ]
    },
    {
      "cell_type": "code",
      "metadata": {
        "id": "VAbHty3zbVND",
        "colab_type": "code",
        "colab": {}
      },
      "source": [
        ""
      ],
      "execution_count": 5,
      "outputs": []
    },
    {
      "cell_type": "code",
      "metadata": {
        "colab_type": "code",
        "id": "lNSN5X-wskcx",
        "colab": {
          "base_uri": "https://localhost:8080/",
          "height": 301
        },
        "outputId": "6a626487-d48a-47a0-a0d1-41128b154c57"
      },
      "source": [
        "############################## Cálculo dos Parâmetros de Avaliação   \n",
        "TIME = (time.time() - start_time)/RUNS\n",
        "BEST_AGENTS=np.array(BEST_AGENTS)\n",
        "BEST_AGENTS_ST= BEST_AGENTS[BEST_AGENTS[:,-1].argsort()]\n",
        "BEST=BEST_AGENTS_ST[0]\n",
        "WORSE=BEST_AGENTS_ST[-1]\n",
        "MEAN=np.mean(BEST_AGENTS,axis=0)\n",
        "MAXFO=BEST_AGENTS[:,-1].max()\n",
        "MINFO=BEST_AGENTS[:,-1].min()\n",
        "STD=BEST_AGENTS[:,-1].std()\n",
        "\n",
        "nome='_DE_STAT_Fo-'+str(mut)+'_CRo-'+str(crossp)+'_D-'+str(dim)+'_Interv-'+str(ITE)\n",
        "print('DE_POP_VAR_F_CR','TOTAL=',TOTAL,'Iterações=',ITE*its,'Dim=', dim,\"Min/Max=\",MIN[0],\"/\",MAX[0],'_',Fun.__name__)\n",
        "print(nome, '\\n')\n",
        "#print('BEST: ',BEST)\n",
        "#print('MÉDIA: ',MEAN)\n",
        "print('MÉDIA: ',MEAN[-1])\n",
        "print('MIN __:',MINFO)\n",
        "print('MAX__: ',MAXFO)\n",
        "print('STD __:',STD)\n",
        "print(\"Tempo Médio= %.3f segundos ---\" % (TIME))\n",
        "print(RUNS,'Rodadas') \n",
        "print()\n",
        "print('BEST: ',BEST)\n",
        "# print('melhor=',BEST_AGENTS[BEST_INDEX])"
      ],
      "execution_count": 6,
      "outputs": [
        {
          "output_type": "stream",
          "text": [
            "DE_POP_VAR_F_CR TOTAL= 300000 Iterações= 1000 Dim= 30 Min/Max= -1.28 / 1.28 _ Noisy_Quartic\n",
            "_DE_STAT_Fo-0.5_CRo-0.5_D-30_Interv-1000 \n",
            "\n",
            "MÉDIA:  0.42337860200938165\n",
            "MIN __: 0.20202507213899595\n",
            "MAX__:  0.7399270136455316\n",
            "STD __: 0.1104753632341039\n",
            "Tempo Médio= 10.187 segundos ---\n",
            "50 Rodadas\n",
            "\n",
            "BEST:  [ 0.03625398 -0.01710102  0.03647813  0.02884362 -0.19278209  0.18426905\n",
            " -0.07786773  0.2282144  -0.05029468  0.08210958  0.15859676 -0.03960136\n",
            " -0.01671092 -0.0154363   0.09469008  0.2065224   0.10287873 -0.06395426\n",
            "  0.08933797 -0.07102339  0.09242573  0.09236758 -0.00730086 -0.04182919\n",
            "  0.05779579 -0.08112679 -0.01755188  0.0939193  -0.101455    0.03031115\n",
            "  0.20202507]\n"
          ],
          "name": "stdout"
        }
      ]
    }
  ]
}