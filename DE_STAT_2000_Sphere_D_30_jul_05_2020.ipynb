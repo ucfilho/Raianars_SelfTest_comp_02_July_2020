{
  "nbformat": 4,
  "nbformat_minor": 0,
  "metadata": {
    "accelerator": "GPU",
    "colab": {
      "name": "DE_STAT_2000_Sphere_D_30_jul_05_2020.ipynb",
      "provenance": [],
      "collapsed_sections": [],
      "include_colab_link": true
    },
    "kernelspec": {
      "display_name": "Python 3",
      "language": "python",
      "name": "python3"
    },
    "language_info": {
      "codemirror_mode": {
        "name": "ipython",
        "version": 3
      },
      "file_extension": ".py",
      "mimetype": "text/x-python",
      "name": "python",
      "nbconvert_exporter": "python",
      "pygments_lexer": "ipython3",
      "version": "3.6.1"
    }
  },
  "cells": [
    {
      "cell_type": "markdown",
      "metadata": {
        "id": "view-in-github",
        "colab_type": "text"
      },
      "source": [
        "<a href=\"https://colab.research.google.com/github/ucfilho/Raianars_SelfTest_comp_02_July_2020/blob/master/DE_STAT_2000_Sphere_D_30_jul_05_2020.ipynb\" target=\"_parent\"><img src=\"https://colab.research.google.com/assets/colab-badge.svg\" alt=\"Open In Colab\"/></a>"
      ]
    },
    {
      "cell_type": "code",
      "metadata": {
        "colab_type": "code",
        "id": "cG5nOUQ9Eucw",
        "colab": {}
      },
      "source": [
        "# Noisy_Quartic\n",
        "# In the paper Ngen=3000 NPAR=100 RUNS=50 dim=30\n",
        "# JADE: Adaptive Differential Evolution with Optional External Archive\n"
      ],
      "execution_count": 1,
      "outputs": []
    },
    {
      "cell_type": "code",
      "metadata": {
        "colab_type": "code",
        "id": "v1OxgXboBKoG",
        "colab": {}
      },
      "source": [
        "import time\n",
        "import matplotlib.pyplot as plt\n",
        "import numpy as np\n",
        "from random import randint"
      ],
      "execution_count": 2,
      "outputs": []
    },
    {
      "cell_type": "code",
      "metadata": {
        "id": "qMRpE0dGULCI",
        "colab_type": "code",
        "colab": {
          "base_uri": "https://localhost:8080/",
          "height": 52
        },
        "outputId": "46d9b72b-94d4-4551-bf06-815acf32b336"
      },
      "source": [
        "!git clone https://github.com/ucfilho/Raianars_July_2020 #clonar do Github\n",
        "%cd Raianars_July_2020"
      ],
      "execution_count": 3,
      "outputs": [
        {
          "output_type": "stream",
          "text": [
            "fatal: destination path 'Raianars_July_2020' already exists and is not an empty directory.\n",
            "/content/Raianars_July_2020\n"
          ],
          "name": "stdout"
        }
      ]
    },
    {
      "cell_type": "code",
      "metadata": {
        "colab_type": "code",
        "id": "_E15mKFURR6O",
        "colab": {}
      },
      "source": [
        "import de_soma_Insight\n",
        "import de_bounds_matriz\n",
        "import Function\n",
        "import Go2MinMax\n",
        "from AvaliaX import AvaliaX\n",
        "\n",
        "\n",
        "############################### DADOS DE ENTRADA \n",
        "RUNS=50 #NÚMERO DE RODADAS\n",
        "its=1 #10 # quantas vezes vai usar o NPAR antes de alterar de novo\n",
        "ITE=2000 #10 # PONTOS quantas vezes vai alteral NPAR \n",
        "NPAR=100\n",
        "\n",
        "mut=0.5\n",
        "crossp=0.5\n",
        "dim=30\n",
        "\n",
        "#fchoice='Rastrigin' #fchoice='Michalewicz' #fchoice='Schwefel'\n",
        "fchoice='Sphere'  \n",
        "Fun=Function.Sphere\n",
        "\n",
        "MIN,MAX=Go2MinMax.Intervalo(dim,fchoice)\n",
        "\n",
        "TOTAL=10*dim*its*ITE\n",
        "SOMA=0"
      ],
      "execution_count": 4,
      "outputs": []
    },
    {
      "cell_type": "code",
      "metadata": {
        "colab_type": "code",
        "id": "rnX8ttNopd1G",
        "colab": {
          "base_uri": "https://localhost:8080/",
          "height": 905
        },
        "outputId": "758be849-0be0-4ded-dc51-c04cf0c9a234"
      },
      "source": [
        "start_time = time.time()\n",
        "BEST_AGENTS=[]\n",
        "MAT_stat=[]\n",
        "\n",
        "for i in range(RUNS):\n",
        "\n",
        "    pop = np.random.rand(NPAR, dim)\n",
        "    diff=np.zeros(dim)\n",
        "    for ii in range(dim):\n",
        "      diff[ii] = MAX[ii]-MIN[ii]\n",
        "    X = MIN + pop * diff\n",
        "\n",
        "    SOMA=0\n",
        "\n",
        "    for k in range(ITE):\n",
        "      X,BEST,FOBEST,XY,BEST_XY,SOMA= de_soma_Insight.de(MAX,MIN, mut, crossp,dim,its,Fun,X,SOMA,TOTAL)\n",
        "\n",
        "    start_run = (time.time()-start_time)/60\n",
        "    print('run=',i,'total=50','Fobj=',FOBEST,'Time=',start_run)  \n",
        "    BEST_AGENTS.append(BEST_XY)"
      ],
      "execution_count": 5,
      "outputs": [
        {
          "output_type": "stream",
          "text": [
            "run= 0 total=50 Fobj= 1.1664647887026932e-32 Time= 0.33362991412480675\n",
            "run= 1 total=50 Fobj= 6.15208685198786e-32 Time= 0.6655779321988423\n",
            "run= 2 total=50 Fobj= 3.408016289682308e-32 Time= 0.998421577612559\n",
            "run= 3 total=50 Fobj= 1.8311350387807653e-31 Time= 1.3316120942433676\n",
            "run= 4 total=50 Fobj= 1.3579450595713159e-31 Time= 1.6618879199028016\n",
            "run= 5 total=50 Fobj= 1.4221027558760102e-31 Time= 1.9905979911486307\n",
            "run= 6 total=50 Fobj= 6.902375175917966e-32 Time= 2.3179144263267517\n",
            "run= 7 total=50 Fobj= 2.644605057527172e-32 Time= 2.644941842556\n",
            "run= 8 total=50 Fobj= 8.685854006296943e-32 Time= 2.973149784406026\n",
            "run= 9 total=50 Fobj= 1.7090467893462807e-31 Time= 3.300373955567678\n",
            "run= 10 total=50 Fobj= 3.0530960959205866e-32 Time= 3.6295058091481525\n",
            "run= 11 total=50 Fobj= 8.667397382477722e-32 Time= 3.959885334968567\n",
            "run= 12 total=50 Fobj= 3.51772888044018e-32 Time= 4.289143717288971\n",
            "run= 13 total=50 Fobj= 8.872101851646407e-32 Time= 4.618650591373443\n",
            "run= 14 total=50 Fobj= 8.170487457225436e-33 Time= 4.948393877347311\n",
            "run= 15 total=50 Fobj= 3.646631420842257e-32 Time= 5.2779416958491\n",
            "run= 16 total=50 Fobj= 5.572215752869302e-32 Time= 5.608414435386658\n",
            "run= 17 total=50 Fobj= 1.2484044944144136e-31 Time= 5.938243091106415\n",
            "run= 18 total=50 Fobj= 3.5521068890709403e-32 Time= 6.270874726772308\n",
            "run= 19 total=50 Fobj= 1.0268704743022425e-31 Time= 6.599157623449961\n",
            "run= 20 total=50 Fobj= 2.606655566199268e-31 Time= 6.926996950308482\n",
            "run= 21 total=50 Fobj= 9.664243537923823e-33 Time= 7.25705246925354\n",
            "run= 22 total=50 Fobj= 1.195175739624649e-31 Time= 7.587363163630168\n",
            "run= 23 total=50 Fobj= 7.169777361571834e-32 Time= 7.918807299931844\n",
            "run= 24 total=50 Fobj= 4.9262234850019545e-32 Time= 8.249973452091217\n",
            "run= 25 total=50 Fobj= 1.0210926250578337e-31 Time= 8.580600015322368\n",
            "run= 26 total=50 Fobj= 8.235509501163267e-32 Time= 8.91054454644521\n",
            "run= 27 total=50 Fobj= 1.3779126815251205e-31 Time= 9.240340824921926\n",
            "run= 28 total=50 Fobj= 1.702098666647757e-31 Time= 9.570039594173432\n",
            "run= 29 total=50 Fobj= 4.977584826455291e-32 Time= 9.901229659716288\n",
            "run= 30 total=50 Fobj= 8.451878055509308e-33 Time= 10.233287485440572\n",
            "run= 31 total=50 Fobj= 2.600727096843425e-32 Time= 10.566588950157165\n",
            "run= 32 total=50 Fobj= 7.802809834373632e-33 Time= 10.89871967236201\n",
            "run= 33 total=50 Fobj= 1.792242761861789e-31 Time= 11.231060834725698\n",
            "run= 34 total=50 Fobj= 7.148477496370966e-32 Time= 11.567081987857819\n",
            "run= 35 total=50 Fobj= 9.727045450346616e-32 Time= 11.899619340896606\n",
            "run= 36 total=50 Fobj= 1.3726272593795414e-31 Time= 12.231895299752553\n",
            "run= 37 total=50 Fobj= 9.98612050610152e-32 Time= 12.563542652130128\n",
            "run= 38 total=50 Fobj= 7.475093013047589e-32 Time= 12.894694681962331\n",
            "run= 39 total=50 Fobj= 1.1184270037285162e-31 Time= 13.226682968934377\n",
            "run= 40 total=50 Fobj= 2.7043214736037194e-32 Time= 13.557869875431061\n",
            "run= 41 total=50 Fobj= 4.8713025452190295e-32 Time= 13.887187620004019\n",
            "run= 42 total=50 Fobj= 1.41390909163739e-32 Time= 14.219350826740264\n",
            "run= 43 total=50 Fobj= 7.486086141499528e-33 Time= 14.551825320720672\n",
            "run= 44 total=50 Fobj= 2.1628313611273348e-32 Time= 14.883660614490509\n",
            "run= 45 total=50 Fobj= 9.887070424426313e-32 Time= 15.21671673854192\n",
            "run= 46 total=50 Fobj= 3.496271980769075e-32 Time= 15.550792586803436\n",
            "run= 47 total=50 Fobj= 6.938439361004544e-32 Time= 15.88303562005361\n",
            "run= 48 total=50 Fobj= 3.6391367383645575e-32 Time= 16.214623578389485\n",
            "run= 49 total=50 Fobj= 2.337839072605911e-32 Time= 16.54937584400177\n"
          ],
          "name": "stdout"
        }
      ]
    },
    {
      "cell_type": "code",
      "metadata": {
        "colab_type": "code",
        "id": "lNSN5X-wskcx",
        "colab": {
          "base_uri": "https://localhost:8080/",
          "height": 336
        },
        "outputId": "8fa7c48c-978a-4b15-fbb4-9eb757e06324"
      },
      "source": [
        "############################## Cálculo dos Parâmetros de Avaliação   \n",
        "TIME = (time.time() - start_time)/RUNS\n",
        "BEST_AGENTS=np.array(BEST_AGENTS)\n",
        "BEST_AGENTS_ST= BEST_AGENTS[BEST_AGENTS[:,-1].argsort()]\n",
        "BEST=BEST_AGENTS_ST[0]\n",
        "WORSE=BEST_AGENTS_ST[-1]\n",
        "MEAN=np.mean(BEST_AGENTS,axis=0)\n",
        "MAXFO=BEST_AGENTS[:,-1].max()\n",
        "MINFO=BEST_AGENTS[:,-1].min()\n",
        "STD=BEST_AGENTS[:,-1].std()\n",
        "\n",
        "nome='_DE_STAT_Fo-'+str(mut)+'_CRo-'+str(crossp)+'_D-'+str(dim)+'_Interv-'+str(ITE)\n",
        "print('DE','TOTAL=',TOTAL,'Iterações=',ITE*its,'Dim=', dim,\"Min/Max=\",MIN[0],\"/\",MAX[0],'_',Fun.__name__)\n",
        "print(nome, '\\n')\n",
        "#print('BEST: ',BEST)\n",
        "#print('MÉDIA: ',MEAN)\n",
        "print('MÉDIA: ',MEAN[-1])\n",
        "print('MIN __:',MINFO)\n",
        "print('MAX__: ',MAXFO)\n",
        "print('STD __:',STD)\n",
        "print(\"Tempo Médio= %.3f segundos ---\" % (TIME))\n",
        "print(RUNS,'Rodadas') \n",
        "print()\n",
        "print('BEST: ',BEST)\n",
        "# print('melhor=',BEST_AGENTS[BEST_INDEX])"
      ],
      "execution_count": 6,
      "outputs": [
        {
          "output_type": "stream",
          "text": [
            "DE TOTAL= 600000 Iterações= 2000 Dim= 30 Min/Max= -5.12 / 5.12 _ Sphere\n",
            "_DE_STAT_Fo-0.5_CRo-0.5_D-30_Interv-2000 \n",
            "\n",
            "MÉDIA:  7.550265617897016e-32\n",
            "MIN __: 7.486086141499528e-33\n",
            "MAX__:  2.606655566199268e-31\n",
            "STD __: 5.610086664687084e-32\n",
            "Tempo Médio= 19.860 segundos ---\n",
            "50 Rodadas\n",
            "\n",
            "BEST:  [ 1.70611212e-17  4.45353277e-18 -1.55482168e-18  1.97801150e-17\n",
            "  1.16501259e-18  1.20537485e-17 -1.35289386e-17 -3.31853351e-18\n",
            "  1.43314050e-18  4.47797406e-18 -2.00705593e-17 -2.56830995e-17\n",
            "  9.35782727e-19  2.54439138e-17 -1.62485334e-17 -1.15276740e-17\n",
            " -1.02517545e-17 -1.80228713e-18 -6.95478921e-18  1.25018209e-17\n",
            " -2.69774384e-17 -2.64998071e-19  5.22147444e-19  1.83516864e-17\n",
            " -2.79717103e-17  3.40994657e-17 -1.37744002e-17 -5.90802195e-18\n",
            "  2.72473944e-17  4.57264566e-18  7.48608614e-33]\n"
          ],
          "name": "stdout"
        }
      ]
    }
  ]
}