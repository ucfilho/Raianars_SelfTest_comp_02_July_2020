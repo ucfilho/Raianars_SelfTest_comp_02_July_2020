{
  "nbformat": 4,
  "nbformat_minor": 0,
  "metadata": {
    "colab": {
      "name": "JADE_stat_jul_03_2020.ipynb",
      "provenance": [],
      "collapsed_sections": [],
      "authorship_tag": "ABX9TyORoN2d3othIB22pHM8XOSJ",
      "include_colab_link": true
    },
    "kernelspec": {
      "name": "python3",
      "display_name": "Python 3"
    }
  },
  "cells": [
    {
      "cell_type": "markdown",
      "metadata": {
        "id": "view-in-github",
        "colab_type": "text"
      },
      "source": [
        "<a href=\"https://colab.research.google.com/github/ucfilho/Raianars_SelfTest_comp_02_July_2020/blob/master/JADE_stat_jul_03_2020.ipynb\" target=\"_parent\"><img src=\"https://colab.research.google.com/assets/colab-badge.svg\" alt=\"Open In Colab\"/></a>"
      ]
    },
    {
      "cell_type": "code",
      "metadata": {
        "id": "Es8PhSUedYDe",
        "colab_type": "code",
        "colab": {}
      },
      "source": [
        "import numpy as np\n",
        "import time"
      ],
      "execution_count": 1,
      "outputs": []
    },
    {
      "cell_type": "code",
      "metadata": {
        "id": "s8eOhF9tgGNn",
        "colab_type": "code",
        "colab": {
          "base_uri": "https://localhost:8080/",
          "height": 71
        },
        "outputId": "45aa125e-793a-4c0a-fdfb-09a979191e32"
      },
      "source": [
        "!pip install PyFDE"
      ],
      "execution_count": 2,
      "outputs": [
        {
          "output_type": "stream",
          "text": [
            "Requirement already satisfied: PyFDE in /usr/local/lib/python3.6/dist-packages (1.3.0)\n",
            "Requirement already satisfied: numpy in /usr/local/lib/python3.6/dist-packages (from PyFDE) (1.18.5)\n"
          ],
          "name": "stdout"
        }
      ]
    },
    {
      "cell_type": "code",
      "metadata": {
        "id": "vjMW5TARZbKD",
        "colab_type": "code",
        "colab": {}
      },
      "source": [
        "import pyfde"
      ],
      "execution_count": 3,
      "outputs": []
    },
    {
      "cell_type": "code",
      "metadata": {
        "id": "sYDP3gTiHrOg",
        "colab_type": "code",
        "colab": {}
      },
      "source": [
        "# paper Self-adaptive differential evolution 01.pdf\n",
        "# dim= 30, 50 and 100 based \n",
        "# f1 Sphere\n",
        "# f2 Step "
      ],
      "execution_count": 4,
      "outputs": []
    },
    {
      "cell_type": "code",
      "metadata": {
        "id": "FRAi1AGzdeYk",
        "colab_type": "code",
        "colab": {
          "base_uri": "https://localhost:8080/",
          "height": 71
        },
        "outputId": "67033a9a-ace1-4a3c-f2b0-080a1e99335c"
      },
      "source": [
        "!git clone https://github.com/ucfilho/Raianars_July_2020 #clonar do Github\n",
        "%cd Raianars_July_2020"
      ],
      "execution_count": 5,
      "outputs": [
        {
          "output_type": "stream",
          "text": [
            "fatal: destination path 'Raianars_July_2020' already exists and is not an empty directory.\n",
            "/content/Raianars_July_2020\n"
          ],
          "name": "stdout"
        }
      ]
    },
    {
      "cell_type": "code",
      "metadata": {
        "id": "WPP0AwDbdk4p",
        "colab_type": "code",
        "colab": {}
      },
      "source": [
        "import Function\n",
        "import Go2MinMax"
      ],
      "execution_count": 6,
      "outputs": []
    },
    {
      "cell_type": "code",
      "metadata": {
        "id": "aainD4FVhQhu",
        "colab_type": "code",
        "colab": {}
      },
      "source": [
        "ITE=100 #10 # PONTOS quantas vezes vai alteral NPAR \n",
        "NPAR=100 # NUMBER OF PARTICLES\n",
        "dim=3\n",
        "\n",
        "fchoice='Schwefel_12'  #f2\n",
        "Fun=Function.Schwefel_12\n",
        "start_time = time.time() #INICIALIZA CONTAGEM DO TEMPO\n",
        "MIN,MAX=Go2MinMax.Intervalo(dim,fchoice)\n",
        "bounds = [(0,0)]*dim\n",
        "\n",
        "for i in range(dim):\n",
        "  bounds[i] = (MIN[i],MAX[i])"
      ],
      "execution_count": 7,
      "outputs": []
    },
    {
      "cell_type": "code",
      "metadata": {
        "id": "4nlypEzsd8z4",
        "colab_type": "code",
        "colab": {}
      },
      "source": [
        "#print(bounds)"
      ],
      "execution_count": 8,
      "outputs": []
    },
    {
      "cell_type": "code",
      "metadata": {
        "id": "RSVcPxfcgHC_",
        "colab_type": "code",
        "colab": {}
      },
      "source": [
        "\n",
        "solver = pyfde.JADE(Fun, n_dim=dim, n_pop=NPAR, limits=bounds, minimize=True)\n",
        "solver.p = 0.05\n",
        "solver.c = 0.1\n",
        "best, fit = solver.run(n_it=ITE)"
      ],
      "execution_count": 9,
      "outputs": []
    },
    {
      "cell_type": "code",
      "metadata": {
        "id": "z4mYgxbKhqj1",
        "colab_type": "code",
        "colab": {
          "base_uri": "https://localhost:8080/",
          "height": 68
        },
        "outputId": "b50515a2-e355-443d-a33b-b0ae0e0fbcab"
      },
      "source": [
        "print(\"**Best solution found**\")\n",
        "print(\"x\",best)\n",
        "print(\"Fitness =\",fit)"
      ],
      "execution_count": 10,
      "outputs": [
        {
          "output_type": "stream",
          "text": [
            "**Best solution found**\n",
            "x [-1.67461710e-06 -4.68556568e-06  2.48763688e-05]\n",
            "Fitness = -3.861054105723733e-10\n"
          ],
          "name": "stdout"
        }
      ]
    },
    {
      "cell_type": "code",
      "metadata": {
        "id": "TG7mRKwoTV6Q",
        "colab_type": "code",
        "colab": {
          "base_uri": "https://localhost:8080/",
          "height": 360
        },
        "outputId": "200f411a-476d-42ed-ae49-0e662fef9364"
      },
      "source": [
        "\n",
        "BEST_AGENTS=[]\n",
        "RUNS=20\n",
        "for i in range(RUNS):\n",
        "  ANSWER_AGENTS=[]\n",
        "  solver = pyfde.JADE(Fun, n_dim=dim, n_pop=NPAR, limits=bounds, minimize=True)\n",
        "  solver.p = 0.05\n",
        "  solver.c = 0.1\n",
        "  best, fit = solver.run(n_it=ITE)\n",
        "  for x in best:\n",
        "    ANSWER_AGENTS.append(x)\n",
        "  ANSWER_AGENTS.append(fit)\n",
        "  BEST_AGENTS.append(ANSWER_AGENTS)\n",
        "BEST_AGENTS=np.array(BEST_AGENTS)\n",
        "print(BEST_AGENTS)"
      ],
      "execution_count": 11,
      "outputs": [
        {
          "output_type": "stream",
          "text": [
            "[[ 8.19449896e-06 -5.92407622e-06  3.66611071e-06 -1.07547062e-10]\n",
            " [-1.81811567e-05  4.33794608e-05 -2.67118371e-05 -9.67799771e-10]\n",
            " [ 1.39713197e-05 -8.40226143e-06 -1.60193280e-05 -3.35420321e-10]\n",
            " [ 7.66494609e-06 -1.22681155e-05  9.60622310e-06 -1.04971113e-10]\n",
            " [-8.70221242e-06  2.32090759e-05  2.43841241e-05 -1.79868651e-09]\n",
            " [-2.70336732e-07  3.76354699e-05 -2.90510191e-05 -1.46535075e-09]\n",
            " [-3.40755561e-06 -7.23078422e-06  1.85502589e-05 -1.87384172e-10]\n",
            " [-4.13562482e-06  1.72718814e-05 -1.96585589e-05 -2.32205056e-10]\n",
            " [-1.61429040e-05  5.23672160e-06  8.89318191e-06 -3.83590337e-10]\n",
            " [ 7.17768628e-06 -2.29981671e-05  1.28132435e-05 -3.10850271e-10]\n",
            " [ 7.39569430e-06  4.68107304e-06 -2.17125939e-05 -2.93393756e-10]\n",
            " [ 1.14519736e-05 -5.11261999e-06 -9.89440122e-06 -1.83973467e-10]\n",
            " [ 5.89238296e-06 -1.02389565e-05  3.16702567e-06 -5.50042117e-11]\n",
            " [-3.11839449e-06  1.13338151e-05  9.23565300e-06 -3.81757491e-10]\n",
            " [-6.73785461e-07 -2.67822824e-06  5.75713777e-06 -1.74746045e-11]\n",
            " [-1.91460829e-05  1.37766490e-05 -8.07197676e-07 -4.33554085e-10]\n",
            " [-8.73317607e-06  2.20635475e-05 -1.19556394e-05 -2.55857054e-10]\n",
            " [-1.39417803e-05  4.66792616e-06  1.58174286e-05 -3.23195975e-10]\n",
            " [ 1.57986567e-06  7.82476330e-06 -1.10243557e-05 -9.35665363e-11]\n",
            " [ 1.86092885e-05 -3.44163123e-05  7.60469620e-06 -6.63445797e-10]]\n"
          ],
          "name": "stdout"
        }
      ]
    },
    {
      "cell_type": "code",
      "metadata": {
        "id": "k5jGfDo9Xz-S",
        "colab_type": "code",
        "colab": {}
      },
      "source": [
        "TIME = (time.time() - start_time)/RUNS\n",
        "BEST_AGENTS=np.array(BEST_AGENTS)\n",
        "BEST_AGENTS_ST= BEST_AGENTS[BEST_AGENTS[:,-1].argsort()]\n",
        "BEST=BEST_AGENTS_ST[0]\n",
        "WORSE=BEST_AGENTS_ST[-1]\n",
        "MEAN=np.mean(BEST_AGENTS,axis=0)\n",
        "MAXFO=BEST_AGENTS[:,-1].max()\n",
        "MINFO=BEST_AGENTS[:,-1].min()\n",
        "STD=BEST_AGENTS[:,-1].std()"
      ],
      "execution_count": 12,
      "outputs": []
    },
    {
      "cell_type": "code",
      "metadata": {
        "id": "RqWylruKYCII",
        "colab_type": "code",
        "colab": {
          "base_uri": "https://localhost:8080/",
          "height": 206
        },
        "outputId": "7e410a49-6392-4cb0-8081-dbeec154b00f"
      },
      "source": [
        "nome='JADE_Fo-'+str(0)+'_CRo-'+str(0)\n",
        "print(nome,'NPAR',NPAR,'Iterações=',ITE,'Dim=',dim ,\"Min/Max=\",MIN[0],\"/\",MAX[0],'_',Fun.__name__)\n",
        "print( '\\n')\n",
        "#print('BEST: ',BEST)\n",
        "#print('MÉDIA: ',MEAN)\n",
        "print('MÉDIA: ',MEAN[-1])\n",
        "print('MIN __:',MINFO)\n",
        "print('MAX__: ',MAXFO)\n",
        "print('STD __:',STD)\n",
        "print(\"Tempo Médio= %.3f segundos ---\" % (TIME))\n",
        "print(RUNS,'Rodadas') \n",
        "print()\n",
        "print('BEST: ',BEST)"
      ],
      "execution_count": 13,
      "outputs": [
        {
          "output_type": "stream",
          "text": [
            "JADE_Fo-0_CRo-0 NPAR 100 Iterações= 100 Dim= 3 Min/Max= -100 / 100 _ Schwefel_12\n",
            "\n",
            "\n",
            "MÉDIA:  -4.2975141723447264e-10\n",
            "MIN __: -1.7986865109968656e-09\n",
            "MAX__:  -1.747460446581882e-11\n",
            "STD __: 4.565702960390752e-10\n",
            "Tempo Médio= 0.043 segundos ---\n",
            "20 Rodadas\n",
            "\n",
            "BEST:  [-8.70221242e-06  2.32090759e-05  2.43841241e-05 -1.79868651e-09]\n"
          ],
          "name": "stdout"
        }
      ]
    },
    {
      "cell_type": "code",
      "metadata": {
        "id": "jz-UIcJ9UDuR",
        "colab_type": "code",
        "colab": {
          "base_uri": "https://localhost:8080/",
          "height": 34
        },
        "outputId": "8453a75c-b3ca-4336-a8c2-8c665a634e55"
      },
      "source": [
        "fit"
      ],
      "execution_count": 14,
      "outputs": [
        {
          "output_type": "execute_result",
          "data": {
            "text/plain": [
              "-6.634457968580622e-10"
            ]
          },
          "metadata": {
            "tags": []
          },
          "execution_count": 14
        }
      ]
    }
  ]
}