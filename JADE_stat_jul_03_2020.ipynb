{
  "nbformat": 4,
  "nbformat_minor": 0,
  "metadata": {
    "colab": {
      "name": "JADE_stat_jul_03_2020.ipynb",
      "provenance": [],
      "collapsed_sections": [],
      "authorship_tag": "ABX9TyOH4YHZFxxpNUlcMvcpsdzV",
      "include_colab_link": true
    },
    "kernelspec": {
      "name": "python3",
      "display_name": "Python 3"
    }
  },
  "cells": [
    {
      "cell_type": "markdown",
      "metadata": {
        "id": "view-in-github",
        "colab_type": "text"
      },
      "source": [
        "<a href=\"https://colab.research.google.com/github/ucfilho/Raianars_SelfTest_comp_02_July_2020/blob/master/JADE_stat_jul_03_2020.ipynb\" target=\"_parent\"><img src=\"https://colab.research.google.com/assets/colab-badge.svg\" alt=\"Open In Colab\"/></a>"
      ]
    },
    {
      "cell_type": "code",
      "metadata": {
        "id": "Es8PhSUedYDe",
        "colab_type": "code",
        "colab": {}
      },
      "source": [
        "import numpy as np\n",
        "import time"
      ],
      "execution_count": 1,
      "outputs": []
    },
    {
      "cell_type": "code",
      "metadata": {
        "id": "s8eOhF9tgGNn",
        "colab_type": "code",
        "colab": {
          "base_uri": "https://localhost:8080/",
          "height": 71
        },
        "outputId": "e42e70a4-03b5-4d50-f996-033dd9a14557"
      },
      "source": [
        "!pip install PyFDE"
      ],
      "execution_count": 2,
      "outputs": [
        {
          "output_type": "stream",
          "text": [
            "Requirement already satisfied: PyFDE in /usr/local/lib/python3.6/dist-packages (1.3.0)\n",
            "Requirement already satisfied: numpy in /usr/local/lib/python3.6/dist-packages (from PyFDE) (1.18.5)\n"
          ],
          "name": "stdout"
        }
      ]
    },
    {
      "cell_type": "code",
      "metadata": {
        "id": "vjMW5TARZbKD",
        "colab_type": "code",
        "colab": {}
      },
      "source": [
        "import pyfde"
      ],
      "execution_count": 3,
      "outputs": []
    },
    {
      "cell_type": "code",
      "metadata": {
        "id": "sYDP3gTiHrOg",
        "colab_type": "code",
        "colab": {}
      },
      "source": [
        "# paper Self-adaptive differential evolution 01.pdf\n",
        "# dim= 30, 50 and 100 based \n",
        "# f1 Sphere\n",
        "# f2 Step "
      ],
      "execution_count": 4,
      "outputs": []
    },
    {
      "cell_type": "code",
      "metadata": {
        "id": "FRAi1AGzdeYk",
        "colab_type": "code",
        "colab": {
          "base_uri": "https://localhost:8080/",
          "height": 71
        },
        "outputId": "65c2d979-a6ba-4f58-e3ec-49bc4c99ab31"
      },
      "source": [
        "!git clone https://github.com/ucfilho/Raianars_July_2020 #clonar do Github\n",
        "%cd Raianars_July_2020"
      ],
      "execution_count": 5,
      "outputs": [
        {
          "output_type": "stream",
          "text": [
            "fatal: destination path 'Raianars_July_2020' already exists and is not an empty directory.\n",
            "/content/Raianars_July_2020\n"
          ],
          "name": "stdout"
        }
      ]
    },
    {
      "cell_type": "code",
      "metadata": {
        "id": "WPP0AwDbdk4p",
        "colab_type": "code",
        "colab": {}
      },
      "source": [
        "import Function\n",
        "import Go2MinMax"
      ],
      "execution_count": 6,
      "outputs": []
    },
    {
      "cell_type": "code",
      "metadata": {
        "id": "aainD4FVhQhu",
        "colab_type": "code",
        "colab": {}
      },
      "source": [
        "ITE=100 #10 # PONTOS quantas vezes vai alteral NPAR \n",
        "NPAR=100 # NUMBER OF PARTICLES\n",
        "dim=3\n",
        "\n",
        "fchoice='Schwefel_12'  #f2\n",
        "Fun=Function.Schwefel_12\n",
        "start_time = time.time() #INICIALIZA CONTAGEM DO TEMPO\n",
        "MIN,MAX=Go2MinMax.Intervalo(dim,fchoice)\n",
        "bounds = [(0,0)]*dim\n",
        "\n",
        "for i in range(dim):\n",
        "  bounds[i] = (MIN[i],MAX[i])"
      ],
      "execution_count": 7,
      "outputs": []
    },
    {
      "cell_type": "code",
      "metadata": {
        "id": "4nlypEzsd8z4",
        "colab_type": "code",
        "colab": {}
      },
      "source": [
        "#print(bounds)"
      ],
      "execution_count": 8,
      "outputs": []
    },
    {
      "cell_type": "code",
      "metadata": {
        "id": "TG7mRKwoTV6Q",
        "colab_type": "code",
        "colab": {
          "base_uri": "https://localhost:8080/",
          "height": 360
        },
        "outputId": "543205bd-40bc-4e08-be3a-4b8093392248"
      },
      "source": [
        "\n",
        "BEST_AGENTS=[]\n",
        "RUNS=20\n",
        "for i in range(RUNS):\n",
        "  ANSWER_AGENTS=[]\n",
        "  solver = pyfde.JADE(Fun, n_dim=dim, n_pop=NPAR, limits=bounds, minimize=True)\n",
        "  solver.p = 0.05\n",
        "  solver.c = 0.1\n",
        "  solver.cr = 0.5\n",
        "  solver.f = 0.5\n",
        "  best, fit = solver.run(n_it=ITE)\n",
        "  for x in best:\n",
        "    ANSWER_AGENTS.append(x)\n",
        "  ANSWER_AGENTS.append(fit)\n",
        "  BEST_AGENTS.append(ANSWER_AGENTS)\n",
        "BEST_AGENTS=np.array(BEST_AGENTS)\n",
        "print(BEST_AGENTS)"
      ],
      "execution_count": 9,
      "outputs": [
        {
          "output_type": "stream",
          "text": [
            "[[ 1.34293471e-08 -7.97323802e-09 -1.06060089e-08 -2.36637958e-16]\n",
            " [-1.47798433e-08  2.08916466e-08 -1.76270932e-09 -2.74712526e-16]\n",
            " [-1.08068093e-08 -2.79262318e-09  2.97530063e-09 -4.14603868e-16]\n",
            " [ 2.57648253e-08 -4.77626571e-09 -2.23619897e-08 -1.10623217e-15]\n",
            " [-1.80420342e-09  3.82643602e-09 -6.75775189e-09 -2.97697176e-17]\n",
            " [ 3.84468609e-10  4.11666283e-09 -2.23065102e-08 -3.37439513e-16]\n",
            " [ 3.54836673e-09 -4.93718909e-09  1.32448485e-08 -1.55085089e-16]\n",
            " [ 3.80112731e-09 -3.40287046e-09 -5.50410526e-09 -4.06768653e-17]\n",
            " [ 7.84794398e-10  1.50575703e-08 -3.22006219e-08 -5.19189000e-16]\n",
            " [ 1.04827167e-08 -2.72012849e-09  9.64959921e-09 -4.73329393e-16]\n",
            " [-6.63859656e-09 -4.72918865e-09  4.30484586e-09 -2.23182617e-16]\n",
            " [-3.47090431e-08  1.28150216e-08  1.81568425e-08 -1.69803236e-15]\n",
            " [ 3.21643692e-08 -4.44558868e-08  3.81367563e-08 -1.85360441e-15]\n",
            " [ 8.77541840e-10  1.17387760e-08 -3.19428806e-09 -2.48716203e-16]\n",
            " [ 2.84545610e-09 -3.95423393e-09 -4.68269774e-09 -4.28671979e-17]\n",
            " [ 2.09395873e-08 -3.03955304e-08  4.32009753e-09 -5.54258087e-16]\n",
            " [ 4.15429751e-09  5.51572617e-09  8.65321578e-09 -4.46508650e-16]\n",
            " [-4.78195538e-09  2.46956700e-09  5.11042295e-09 -3.60432347e-17]\n",
            " [-7.31435896e-09  2.59206114e-08 -1.81900502e-08 -3.99865701e-16]\n",
            " [-2.38316244e-09  1.47995530e-08 -1.80169882e-08 -1.91212912e-16]]\n"
          ],
          "name": "stdout"
        }
      ]
    },
    {
      "cell_type": "code",
      "metadata": {
        "id": "k5jGfDo9Xz-S",
        "colab_type": "code",
        "colab": {}
      },
      "source": [
        "TIME = (time.time() - start_time)/RUNS\n",
        "BEST_AGENTS=np.array(BEST_AGENTS)\n",
        "BEST_AGENTS_ST= BEST_AGENTS[BEST_AGENTS[:,-1].argsort()]\n",
        "BEST=BEST_AGENTS_ST[0]\n",
        "WORSE=BEST_AGENTS_ST[-1]\n",
        "MEAN=np.mean(BEST_AGENTS,axis=0)\n",
        "MAXFO=BEST_AGENTS[:,-1].max()\n",
        "MINFO=BEST_AGENTS[:,-1].min()\n",
        "STD=BEST_AGENTS[:,-1].std()"
      ],
      "execution_count": 10,
      "outputs": []
    },
    {
      "cell_type": "code",
      "metadata": {
        "id": "RqWylruKYCII",
        "colab_type": "code",
        "colab": {
          "base_uri": "https://localhost:8080/",
          "height": 206
        },
        "outputId": "f99edd65-d017-42e8-9921-93dafe4c5f4a"
      },
      "source": [
        "nome='JADE_Fo-'+str(0)+'_CRo-'+str(0)\n",
        "print(nome,'NPAR',NPAR,'Iterações=',ITE,'Dim=',dim ,\"Min/Max=\",MIN[0],\"/\",MAX[0],'_',Fun.__name__)\n",
        "print( '\\n')\n",
        "#print('BEST: ',BEST)\n",
        "#print('MÉDIA: ',MEAN)\n",
        "print('MÉDIA: ',MEAN[-1])\n",
        "print('MIN __:',MINFO)\n",
        "print('MAX__: ',MAXFO)\n",
        "print('STD __:',STD)\n",
        "print(\"Tempo Médio= %.3f segundos ---\" % (TIME))\n",
        "print(RUNS,'Rodadas') \n",
        "print()\n",
        "print('BEST: ',BEST)"
      ],
      "execution_count": 11,
      "outputs": [
        {
          "output_type": "stream",
          "text": [
            "JADE_Fo-0_CRo-0 NPAR 100 Iterações= 100 Dim= 3 Min/Max= -100 / 100 _ Schwefel_12\n",
            "\n",
            "\n",
            "MÉDIA:  -4.640983733436768e-16\n",
            "MIN __: -1.853604410463703e-15\n",
            "MAX__:  -2.976971755980746e-17\n",
            "STD __: 4.99520627572188e-16\n",
            "Tempo Médio= 0.041 segundos ---\n",
            "20 Rodadas\n",
            "\n",
            "BEST:  [ 3.21643692e-08 -4.44558868e-08  3.81367563e-08 -1.85360441e-15]\n"
          ],
          "name": "stdout"
        }
      ]
    },
    {
      "cell_type": "code",
      "metadata": {
        "id": "jz-UIcJ9UDuR",
        "colab_type": "code",
        "colab": {
          "base_uri": "https://localhost:8080/",
          "height": 34
        },
        "outputId": "99c0ebda-f270-42e0-e1b0-b91cde5f2b92"
      },
      "source": [
        "fit"
      ],
      "execution_count": 12,
      "outputs": [
        {
          "output_type": "execute_result",
          "data": {
            "text/plain": [
              "-1.912129116018296e-16"
            ]
          },
          "metadata": {
            "tags": []
          },
          "execution_count": 12
        }
      ]
    }
  ]
}