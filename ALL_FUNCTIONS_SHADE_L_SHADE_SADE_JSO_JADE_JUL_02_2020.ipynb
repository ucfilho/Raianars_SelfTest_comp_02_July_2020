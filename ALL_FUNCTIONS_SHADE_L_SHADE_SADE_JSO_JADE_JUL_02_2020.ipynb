{
  "nbformat": 4,
  "nbformat_minor": 0,
  "metadata": {
    "colab": {
      "name": "ALL_FUNCTIONS_SHADE_L_SHADE_SADE_JSO_JADE_JUL_02_2020.ipynb",
      "provenance": [],
      "collapsed_sections": [],
      "authorship_tag": "ABX9TyOXUOeYb7vnSXhSZ8R3SNVp",
      "include_colab_link": true
    },
    "kernelspec": {
      "name": "python3",
      "display_name": "Python 3"
    }
  },
  "cells": [
    {
      "cell_type": "markdown",
      "metadata": {
        "id": "view-in-github",
        "colab_type": "text"
      },
      "source": [
        "<a href=\"https://colab.research.google.com/github/ucfilho/Raianars_SelfTest_comp_02_July_2020/blob/master/ALL_FUNCTIONS_SHADE_L_SHADE_SADE_JSO_JADE_JUL_02_2020.ipynb\" target=\"_parent\"><img src=\"https://colab.research.google.com/assets/colab-badge.svg\" alt=\"Open In Colab\"/></a>"
      ]
    },
    {
      "cell_type": "code",
      "metadata": {
        "id": "MC26Bm1UyUR5",
        "colab_type": "code",
        "colab": {
          "base_uri": "https://localhost:8080/",
          "height": 34
        },
        "outputId": "f984a07b-7889-4854-e384-2a0b1bd4144b"
      },
      "source": [
        "!pip install pyade-python"
      ],
      "execution_count": 1,
      "outputs": [
        {
          "output_type": "stream",
          "text": [
            "Requirement already satisfied: pyade-python in /usr/local/lib/python3.6/dist-packages (1.1)\n"
          ],
          "name": "stdout"
        }
      ]
    },
    {
      "cell_type": "code",
      "metadata": {
        "id": "anFukot-ypn6",
        "colab_type": "code",
        "colab": {}
      },
      "source": [
        "import pyade.ilshade \n",
        "import pyade.sade \n",
        "import pyade.jso\n",
        "import pyade.shade\n",
        "import pyade.jade \n",
        "import numpy as np"
      ],
      "execution_count": 2,
      "outputs": []
    },
    {
      "cell_type": "code",
      "metadata": {
        "id": "6Oh714_-z1Ia",
        "colab_type": "code",
        "colab": {
          "base_uri": "https://localhost:8080/",
          "height": 52
        },
        "outputId": "6778bc67-365b-4a7e-d847-5ce45228e3b9"
      },
      "source": [
        "!git clone https://github.com/ucfilho/Raianars_July_2020 #clonar do Github\n",
        "%cd Raianars_July_2020"
      ],
      "execution_count": 3,
      "outputs": [
        {
          "output_type": "stream",
          "text": [
            "fatal: destination path 'Raianars_July_2020' already exists and is not an empty directory.\n",
            "/content/Raianars_July_2020\n"
          ],
          "name": "stdout"
        }
      ]
    },
    {
      "cell_type": "code",
      "metadata": {
        "id": "HNW92728z7fR",
        "colab_type": "code",
        "colab": {}
      },
      "source": [
        "import Function\n",
        "import Go2MinMax"
      ],
      "execution_count": 4,
      "outputs": []
    },
    {
      "cell_type": "code",
      "metadata": {
        "id": "T_C-e7aH0CZH",
        "colab_type": "code",
        "colab": {}
      },
      "source": [
        "ITE=2000 #10 # PONTOS quantas vezes vai alteral NPAR \n",
        "NPAR=100 # NUMBER OF PARTICLES\n",
        "dim=30\n",
        "\n",
        "fchoice='Schwefel_222'  #f2\n",
        "Fun=Function.Schwefel_222\n",
        "\n",
        "MIN,MAX=Go2MinMax.Intervalo(dim,fchoice)\n",
        "bounds = [(0,0)]*dim\n",
        "\n",
        "for i in range(dim):\n",
        "  bounds[i] = (MIN[i],MAX[i])"
      ],
      "execution_count": 5,
      "outputs": []
    },
    {
      "cell_type": "code",
      "metadata": {
        "id": "WkbM98uny0QY",
        "colab_type": "code",
        "colab": {}
      },
      "source": [
        "# You may want to use a variable so its easier to change it if we want\n",
        "algorithm = pyade.ilshade \n",
        "\n",
        "# We get default parameters for a problem with two variables\n",
        "params = algorithm.get_default_params(dim=dim) \n",
        "\n",
        "# We define the boundaries of the variables\n",
        "params['bounds'] = np.array(bounds) \n",
        "\n",
        "# We indicate the function we want to minimize\n",
        "params['func'] = Fun\n",
        "\n",
        "# We indicate number of iterations\n",
        "params['max_evals'] = ITE\n",
        "\n",
        "# We run the algorithm and obtain the results\n",
        "solution, fitness = algorithm.apply(**params)"
      ],
      "execution_count": 6,
      "outputs": []
    },
    {
      "cell_type": "code",
      "metadata": {
        "id": "GbED5kWly59-",
        "colab_type": "code",
        "colab": {
          "base_uri": "https://localhost:8080/",
          "height": 176
        },
        "outputId": "2ea90669-8ecf-437a-ef3c-fe53eb9dc1e1"
      },
      "source": [
        "print('solution',solution)\n",
        "print('fitness',fitness)"
      ],
      "execution_count": 7,
      "outputs": [
        {
          "output_type": "stream",
          "text": [
            "solution [ 4.55182509e-02 -3.57248080e-02  1.03661455e-01  3.64457344e-02\n",
            " -6.97669412e-02 -8.33367493e-02  5.61746643e-02 -3.74584082e-03\n",
            "  4.01258753e-02 -2.54062375e-02 -3.52345353e-02  2.67271317e-03\n",
            "  1.24079184e-04 -6.63500016e-02 -3.13456132e-02 -6.23468471e-02\n",
            "  2.25534447e-02  1.46921148e-01  2.23931997e-02 -7.21751115e-02\n",
            "  5.37222679e-02 -1.24476037e-02  7.94421437e-03 -2.40706037e-02\n",
            " -3.44993529e-03 -2.20278472e-02  1.36998350e-01  1.10873947e-01\n",
            " -6.91637946e-03  8.14593443e-02]\n",
            "fitness 1.4219337439706288\n"
          ],
          "name": "stdout"
        }
      ]
    },
    {
      "cell_type": "code",
      "metadata": {
        "id": "YCUUNLh211s4",
        "colab_type": "code",
        "colab": {}
      },
      "source": [
        "# You may want to use a variable so its easier to change it if we want\n",
        "algorithm = pyade.sade\n",
        "\n",
        "# We get default parameters for a problem with two variables\n",
        "params = algorithm.get_default_params(dim=dim) \n",
        "\n",
        "# We define the boundaries of the variables\n",
        "params['bounds'] = np.array(bounds) \n",
        "\n",
        "# We indicate the function we want to minimize\n",
        "params['func'] = Fun\n",
        "\n",
        "# We indicate number of iterations\n",
        "params['max_evals'] = ITE\n",
        "\n",
        "# We run the algorithm and obtain the results\n",
        "solution, fitness = algorithm.apply(**params)"
      ],
      "execution_count": 8,
      "outputs": []
    },
    {
      "cell_type": "code",
      "metadata": {
        "id": "ZkV_dpDa14C8",
        "colab_type": "code",
        "colab": {
          "base_uri": "https://localhost:8080/",
          "height": 123
        },
        "outputId": "60d3fc57-312e-45d8-8678-6f86ae1daae5"
      },
      "source": [
        "print('solution',solution)\n",
        "print('fitness',fitness)"
      ],
      "execution_count": 9,
      "outputs": [
        {
          "output_type": "stream",
          "text": [
            "solution [-0.97877717 -0.94745294  1.35495037 -0.12328896  0.43901887  0.66120686\n",
            "  0.57002353 -0.21247539 -0.08841758  0.66471419 -0.53415844  0.08979233\n",
            " -0.66355581  0.2845983   0.30720752 -0.28407551 -0.96680207 -0.04146448\n",
            "  0.12432796 -0.09061524  0.23371159 -0.26193511 -0.31195435  0.0192601\n",
            " -0.19090942  0.54569466 -0.41029997  0.37310419  0.72924618  0.12693981]\n",
            "fitness 12.629978914571172\n"
          ],
          "name": "stdout"
        }
      ]
    },
    {
      "cell_type": "code",
      "metadata": {
        "id": "q77YsFa82zFU",
        "colab_type": "code",
        "colab": {}
      },
      "source": [
        "# You may want to use a variable so its easier to change it if we want\n",
        "algorithm = pyade.jso\n",
        "\n",
        "# We get default parameters for a problem with two variables\n",
        "params = algorithm.get_default_params(dim=dim) \n",
        "\n",
        "# We define the boundaries of the variables\n",
        "params['bounds'] = np.array(bounds) \n",
        "\n",
        "# We indicate the function we want to minimize\n",
        "params['func'] = Fun\n",
        "\n",
        "# We indicate number of iterations\n",
        "params['max_evals'] = ITE\n",
        "\n",
        "# We run the algorithm and obtain the results\n",
        "solution, fitness = algorithm.apply(**params)"
      ],
      "execution_count": 10,
      "outputs": []
    },
    {
      "cell_type": "code",
      "metadata": {
        "id": "J0fJawlF29np",
        "colab_type": "code",
        "colab": {
          "base_uri": "https://localhost:8080/",
          "height": 123
        },
        "outputId": "631841ce-7c43-415c-92d6-51f24d8a469a"
      },
      "source": [
        "print('solution',solution)\n",
        "print('fitness',fitness)"
      ],
      "execution_count": 11,
      "outputs": [
        {
          "output_type": "stream",
          "text": [
            "solution [ 0.22624991 -0.08587745 -0.02480354  0.0846577   0.11522508 -0.08788927\n",
            " -0.40723321  0.09817419  0.08701442 -0.0296534  -0.21301724 -0.11115757\n",
            "  0.02877899 -0.17912261 -0.00998886  0.35555735  0.02858573 -0.24406262\n",
            " -0.01480938 -0.25818117  0.07512199  0.15284277 -0.15280641  0.08391265\n",
            " -0.14428109 -0.03821052  0.17189065  0.06356509  0.16937885 -0.03604499]\n",
            "fitness 3.7780947133655944\n"
          ],
          "name": "stdout"
        }
      ]
    },
    {
      "cell_type": "code",
      "metadata": {
        "id": "DsHsq3p-4NbH",
        "colab_type": "code",
        "colab": {}
      },
      "source": [
        "# You may want to use a variable so its easier to change it if we want\n",
        "algorithm = pyade.shade \n",
        "\n",
        "# We get default parameters for a problem with two variables\n",
        "params = algorithm.get_default_params(dim=dim) \n",
        "\n",
        "# We define the boundaries of the variables\n",
        "params['bounds'] = np.array(bounds) \n",
        "\n",
        "# We indicate the function we want to minimize\n",
        "params['func'] = Fun\n",
        "\n",
        "# We indicate number of iterations\n",
        "params['max_evals'] = ITE\n",
        "\n",
        "# We run the algorithm and obtain the results\n",
        "solution, fitness = algorithm.apply(**params)"
      ],
      "execution_count": 12,
      "outputs": []
    },
    {
      "cell_type": "code",
      "metadata": {
        "id": "f3NQPULa4pTa",
        "colab_type": "code",
        "colab": {
          "base_uri": "https://localhost:8080/",
          "height": 123
        },
        "outputId": "2a52fd85-b7c9-486e-f9d4-915d1cf918ed"
      },
      "source": [
        "print('solution',solution)\n",
        "print('fitness',fitness)"
      ],
      "execution_count": 13,
      "outputs": [
        {
          "output_type": "stream",
          "text": [
            "solution [ 0.00348073 -0.28266249 -0.50155902  0.66523972 -0.11573055 -0.01798652\n",
            " -0.20129909 -0.02868058 -0.44910335 -0.43846034 -0.45715486 -0.05747235\n",
            " -0.2097396  -0.29538568  0.37038593  0.10263892  0.62217205 -1.19240249\n",
            "  0.30650045 -0.2699362  -0.17753256 -0.16486019 -0.48293316  1.11770094\n",
            " -0.23813158  0.04931743 -0.94167802  0.13912808  0.22593856 -0.08377535]\n",
            "fitness 10.20898678274768\n"
          ],
          "name": "stdout"
        }
      ]
    },
    {
      "cell_type": "code",
      "metadata": {
        "id": "wfhfUJUY5Nom",
        "colab_type": "code",
        "colab": {
          "base_uri": "https://localhost:8080/",
          "height": 88
        },
        "outputId": "454adee2-d3fd-4f38-d6fa-f6abc529b0b0"
      },
      "source": [
        "'''\n",
        "# THIS NEED TO BE FIXED....\n",
        "\n",
        "# You may want to use a variable so its easier to change it if we want\n",
        "algorithm = pyade.jade\n",
        "\n",
        "# We get default parameters for a problem with two variables\n",
        "params = algorithm.get_default_params(dim=dim) \n",
        "\n",
        "# We define the boundaries of the variables\n",
        "params['bounds'] = np.array(bounds) \n",
        "\n",
        "# We indicate the function we want to minimize\n",
        "params['func'] = Fun\n",
        "\n",
        "# We indicate number of iterations\n",
        "params['max_evals'] = ITE\n",
        "\n",
        "# We run the algorithm and obtain the results\n",
        "solution, fitness = algorithm.apply(**params)\n",
        "\n",
        "'''"
      ],
      "execution_count": 14,
      "outputs": [
        {
          "output_type": "execute_result",
          "data": {
            "application/vnd.google.colaboratory.intrinsic": {
              "type": "string"
            },
            "text/plain": [
              "\"\\n# THIS NEED TO BE FIXED....\\n\\n# You may want to use a variable so its easier to change it if we want\\nalgorithm = pyade.jade\\n\\n# We get default parameters for a problem with two variables\\nparams = algorithm.get_default_params(dim=dim) \\n\\n# We define the boundaries of the variables\\nparams['bounds'] = np.array(bounds) \\n\\n# We indicate the function we want to minimize\\nparams['func'] = Fun\\n\\n# We indicate number of iterations\\nparams['max_evals'] = ITE\\n\\n# We run the algorithm and obtain the results\\nsolution, fitness = algorithm.apply(**params)\\n\\n\""
            ]
          },
          "metadata": {
            "tags": []
          },
          "execution_count": 14
        }
      ]
    },
    {
      "cell_type": "code",
      "metadata": {
        "id": "p1DfjXMW3Q5O",
        "colab_type": "code",
        "colab": {
          "base_uri": "https://localhost:8080/",
          "height": 53
        },
        "outputId": "d04d5c51-1ef0-4899-a874-699263f0ddae"
      },
      "source": [
        "'''\n",
        "Results Schwefel_222\n",
        "IL-Shade   fitness 0.0006875981648137053\n",
        "JSO        fitness 3.700588073830152\n",
        "SADE       fitness 13.125746785514972\n",
        "SHADE      fitness 11.208025184433664\n",
        "'''"
      ],
      "execution_count": 15,
      "outputs": [
        {
          "output_type": "execute_result",
          "data": {
            "application/vnd.google.colaboratory.intrinsic": {
              "type": "string"
            },
            "text/plain": [
              "'\\nResults Schwefel_222\\nIL-Shade   fitness 0.0006875981648137053\\nJSO        fitness 3.700588073830152\\nSADE       fitness 13.125746785514972\\nSHADE      fitness 11.208025184433664\\n'"
            ]
          },
          "metadata": {
            "tags": []
          },
          "execution_count": 15
        }
      ]
    }
  ]
}