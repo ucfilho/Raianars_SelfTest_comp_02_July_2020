{
  "nbformat": 4,
  "nbformat_minor": 0,
  "metadata": {
    "accelerator": "GPU",
    "colab": {
      "name": "DE_STAT_2000_Sphere_jul_05_2020.ipynb",
      "provenance": [],
      "collapsed_sections": [],
      "include_colab_link": true
    },
    "kernelspec": {
      "display_name": "Python 3",
      "language": "python",
      "name": "python3"
    },
    "language_info": {
      "codemirror_mode": {
        "name": "ipython",
        "version": 3
      },
      "file_extension": ".py",
      "mimetype": "text/x-python",
      "name": "python",
      "nbconvert_exporter": "python",
      "pygments_lexer": "ipython3",
      "version": "3.6.1"
    }
  },
  "cells": [
    {
      "cell_type": "markdown",
      "metadata": {
        "id": "view-in-github",
        "colab_type": "text"
      },
      "source": [
        "<a href=\"https://colab.research.google.com/github/ucfilho/Raianars_SelfTest_comp_02_July_2020/blob/master/DE_STAT_2000_Sphere_D10_jul_05_2020.ipynb\" target=\"_parent\"><img src=\"https://colab.research.google.com/assets/colab-badge.svg\" alt=\"Open In Colab\"/></a>"
      ]
    },
    {
      "cell_type": "code",
      "metadata": {
        "colab_type": "code",
        "id": "cG5nOUQ9Eucw",
        "colab": {}
      },
      "source": [
        "# Noisy_Quartic\n",
        "# In the paper Ngen=3000 NPAR=100 RUNS=50 dim=30\n",
        "# JADE: Adaptive Differential Evolution with Optional External Archive\n"
      ],
      "execution_count": 1,
      "outputs": []
    },
    {
      "cell_type": "code",
      "metadata": {
        "colab_type": "code",
        "id": "v1OxgXboBKoG",
        "colab": {}
      },
      "source": [
        "import time\n",
        "import matplotlib.pyplot as plt\n",
        "import numpy as np\n",
        "from random import randint"
      ],
      "execution_count": 2,
      "outputs": []
    },
    {
      "cell_type": "code",
      "metadata": {
        "id": "qMRpE0dGULCI",
        "colab_type": "code",
        "colab": {
          "base_uri": "https://localhost:8080/",
          "height": 158
        },
        "outputId": "40c7b10d-4882-425f-a98a-fb33f3acdb0e"
      },
      "source": [
        "!git clone https://github.com/ucfilho/Raianars_July_2020 #clonar do Github\n",
        "%cd Raianars_July_2020"
      ],
      "execution_count": 3,
      "outputs": [
        {
          "output_type": "stream",
          "text": [
            "Cloning into 'Raianars_July_2020'...\n",
            "remote: Enumerating objects: 9, done.\u001b[K\n",
            "remote: Counting objects: 100% (9/9), done.\u001b[K\n",
            "remote: Compressing objects: 100% (9/9), done.\u001b[K\n",
            "remote: Total 132 (delta 3), reused 0 (delta 0), pack-reused 123\u001b[K\n",
            "Receiving objects: 100% (132/132), 200.33 KiB | 382.00 KiB/s, done.\n",
            "Resolving deltas: 100% (65/65), done.\n",
            "/content/Raianars_July_2020\n"
          ],
          "name": "stdout"
        }
      ]
    },
    {
      "cell_type": "code",
      "metadata": {
        "colab_type": "code",
        "id": "_E15mKFURR6O",
        "colab": {}
      },
      "source": [
        "import de_soma_Insight\n",
        "import de_bounds_matriz\n",
        "import Function\n",
        "import Go2MinMax\n",
        "from AvaliaX import AvaliaX\n",
        "\n",
        "\n",
        "############################### DADOS DE ENTRADA \n",
        "RUNS=50 #NÚMERO DE RODADAS\n",
        "its=1 #10 # quantas vezes vai usar o NPAR antes de alterar de novo\n",
        "ITE=2000 #10 # PONTOS quantas vezes vai alteral NPAR \n",
        "NPAR=100\n",
        "\n",
        "mut=0.5\n",
        "crossp=0.5\n",
        "dim=10\n",
        "\n",
        "#fchoice='Rastrigin' #fchoice='Michalewicz' #fchoice='Schwefel'\n",
        "fchoice='Sphere'  \n",
        "Fun=Function.Sphere\n",
        "\n",
        "MIN,MAX=Go2MinMax.Intervalo(dim,fchoice)\n",
        "\n",
        "TOTAL=10*dim*its*ITE\n",
        "SOMA=0"
      ],
      "execution_count": 4,
      "outputs": []
    },
    {
      "cell_type": "code",
      "metadata": {
        "colab_type": "code",
        "id": "rnX8ttNopd1G",
        "colab": {
          "base_uri": "https://localhost:8080/",
          "height": 905
        },
        "outputId": "6da05044-68da-4b54-b762-6fbbc8566bea"
      },
      "source": [
        "start_time = time.time()\n",
        "BEST_AGENTS=[]\n",
        "MAT_stat=[]\n",
        "\n",
        "for i in range(RUNS):\n",
        "\n",
        "    pop = np.random.rand(NPAR, dim)\n",
        "    diff=np.zeros(dim)\n",
        "    for ii in range(dim):\n",
        "      diff[ii] = MAX[ii]-MIN[ii]\n",
        "    X = MIN + pop * diff\n",
        "\n",
        "    SOMA=0\n",
        "\n",
        "    for k in range(ITE):\n",
        "      X,BEST,FOBEST,XY,BEST_XY,SOMA= de_soma_Insight.de(MAX,MIN, mut, crossp,dim,its,Fun,X,SOMA,TOTAL)\n",
        "\n",
        "    start_run = (time.time()-start_time)/60\n",
        "    print('run=',i,'total=50','Fobj=',FOBEST,'Time=',start_run)  \n",
        "    BEST_AGENTS.append(BEST_XY)"
      ],
      "execution_count": 5,
      "outputs": [
        {
          "output_type": "stream",
          "text": [
            "run= 0 total=50 Fobj= 1.1781270198705752e-05 Time= 0.057841169834136966\n",
            "run= 1 total=50 Fobj= 1.3183651899456833e-06 Time= 0.11534825166066488\n",
            "run= 2 total=50 Fobj= 0.0002699018702615029 Time= 0.17292988300323486\n",
            "run= 3 total=50 Fobj= 0.007023059685896097 Time= 0.23027793169021607\n",
            "run= 4 total=50 Fobj= 0.00010506551031608949 Time= 0.28785394032796224\n",
            "run= 5 total=50 Fobj= 4.571297664172418e-07 Time= 0.3446641445159912\n",
            "run= 6 total=50 Fobj= 3.163519979083584e-08 Time= 0.40197219848632815\n",
            "run= 7 total=50 Fobj= 0.0004314203119168129 Time= 0.46000284353892007\n",
            "run= 8 total=50 Fobj= 4.308042377229263e-13 Time= 0.5172513047854106\n",
            "run= 9 total=50 Fobj= 5.254561924405862e-12 Time= 0.5745870669682821\n",
            "run= 10 total=50 Fobj= 6.177846956715429e-05 Time= 0.6315053502718607\n",
            "run= 11 total=50 Fobj= 2.115001937511617e-07 Time= 0.6885485212008159\n",
            "run= 12 total=50 Fobj= 0.40446301641315185 Time= 0.744990348815918\n",
            "run= 13 total=50 Fobj= 0.002971158606367442 Time= 0.8020097653071085\n",
            "run= 14 total=50 Fobj= 0.009587781563127487 Time= 0.8590233325958252\n",
            "run= 15 total=50 Fobj= 0.001315158262729807 Time= 0.9165963411331177\n",
            "run= 16 total=50 Fobj= 0.04411280046808565 Time= 0.9741095900535583\n",
            "run= 17 total=50 Fobj= 0.00010659895162369507 Time= 1.0310293316841126\n",
            "run= 18 total=50 Fobj= 0.009587611456557793 Time= 1.0885116140047708\n",
            "run= 19 total=50 Fobj= 3.091413388175986e-08 Time= 1.1456074277559916\n",
            "run= 20 total=50 Fobj= 1.1224874880556964e-07 Time= 1.2026455799738567\n",
            "run= 21 total=50 Fobj= 0.0003935252468901762 Time= 1.2601179321606955\n",
            "run= 22 total=50 Fobj= 0.023088703039331596 Time= 1.317024040222168\n",
            "run= 23 total=50 Fobj= 0.05673735123966086 Time= 1.374090842405955\n",
            "run= 24 total=50 Fobj= 0.007140816296819237 Time= 1.4315080602963766\n",
            "run= 25 total=50 Fobj= 0.00011478021919403034 Time= 1.4882510781288147\n",
            "run= 26 total=50 Fobj= 2.3688193250564162e-05 Time= 1.5456162611643474\n",
            "run= 27 total=50 Fobj= 0.015354718803107266 Time= 1.604124653339386\n",
            "run= 28 total=50 Fobj= 0.9713482861038689 Time= 1.6603675802548727\n",
            "run= 29 total=50 Fobj= 0.00015540625069588587 Time= 1.716998275121053\n",
            "run= 30 total=50 Fobj= 0.016717590802692958 Time= 1.7748774925867716\n",
            "run= 31 total=50 Fobj= 3.935696905297523e-07 Time= 1.831946603457133\n",
            "run= 32 total=50 Fobj= 0.32889507374004495 Time= 1.8890557726224264\n",
            "run= 33 total=50 Fobj= 3.108545710743702e-09 Time= 1.9465867042541505\n",
            "run= 34 total=50 Fobj= 0.061105810662027193 Time= 2.0032386144002277\n",
            "run= 35 total=50 Fobj= 0.15850096795874127 Time= 2.0599825501441957\n",
            "run= 36 total=50 Fobj= 8.915419509986296e-07 Time= 2.117155106862386\n",
            "run= 37 total=50 Fobj= 3.2121208448042884e-05 Time= 2.1744814991950987\n",
            "run= 38 total=50 Fobj= 9.414174332320637e-10 Time= 2.2319665789604186\n",
            "run= 39 total=50 Fobj= 0.019542810485054865 Time= 2.2881534973780315\n",
            "run= 40 total=50 Fobj= 0.0037084819150302525 Time= 2.344418207804362\n",
            "run= 41 total=50 Fobj= 0.08402831049553477 Time= 2.401424992084503\n",
            "run= 42 total=50 Fobj= 0.21135129514320547 Time= 2.457316521803538\n",
            "run= 43 total=50 Fobj= 0.045408512663858855 Time= 2.51413418451945\n",
            "run= 44 total=50 Fobj= 0.000182426629224926 Time= 2.5709914565086365\n",
            "run= 45 total=50 Fobj= 2.881741597982206e-06 Time= 2.6267698884010313\n",
            "run= 46 total=50 Fobj= 0.25767774135362337 Time= 2.6828649242719016\n",
            "run= 47 total=50 Fobj= 2.3140329490043683e-05 Time= 2.7389098445574445\n",
            "run= 48 total=50 Fobj= 8.266898180244056e-08 Time= 2.7961440364519756\n",
            "run= 49 total=50 Fobj= 0.4800500573929423 Time= 2.853372359275818\n"
          ],
          "name": "stdout"
        }
      ]
    },
    {
      "cell_type": "code",
      "metadata": {
        "colab_type": "code",
        "id": "lNSN5X-wskcx",
        "colab": {
          "base_uri": "https://localhost:8080/",
          "height": 247
        },
        "outputId": "b2c67724-8af7-4172-ef39-f6b40667f6a8"
      },
      "source": [
        "############################## Cálculo dos Parâmetros de Avaliação   \n",
        "TIME = (time.time() - start_time)/RUNS\n",
        "BEST_AGENTS=np.array(BEST_AGENTS)\n",
        "BEST_AGENTS_ST= BEST_AGENTS[BEST_AGENTS[:,-1].argsort()]\n",
        "BEST=BEST_AGENTS_ST[0]\n",
        "WORSE=BEST_AGENTS_ST[-1]\n",
        "MEAN=np.mean(BEST_AGENTS,axis=0)\n",
        "MAXFO=BEST_AGENTS[:,-1].max()\n",
        "MINFO=BEST_AGENTS[:,-1].min()\n",
        "STD=BEST_AGENTS[:,-1].std()\n",
        "\n",
        "nome='_DE_STAT_Fo-'+str(mut)+'_CRo-'+str(crossp)+'_D-'+str(dim)+'_Interv-'+str(ITE)\n",
        "print('DE','TOTAL=',TOTAL,'Iterações=',ITE*its,'Dim=', dim,\"Min/Max=\",MIN[0],\"/\",MAX[0],'_',Fun.__name__)\n",
        "print(nome, '\\n')\n",
        "#print('BEST: ',BEST)\n",
        "#print('MÉDIA: ',MEAN)\n",
        "print('MÉDIA: ',MEAN[-1])\n",
        "print('MIN __:',MINFO)\n",
        "print('MAX__: ',MAXFO)\n",
        "print('STD __:',STD)\n",
        "print(\"Tempo Médio= %.3f segundos ---\" % (TIME))\n",
        "print(RUNS,'Rodadas') \n",
        "print()\n",
        "print('BEST: ',BEST)\n",
        "# print('melhor=',BEST_AGENTS[BEST_INDEX])"
      ],
      "execution_count": 6,
      "outputs": [
        {
          "output_type": "stream",
          "text": [
            "DE_POP_VAR_F_CR TOTAL= 200000 Iterações= 2000 Dim= 10 Min/Max= -5.12 / 5.12 _ Sphere\n",
            "_DE_STAT_Fo-0.5_CRo-0.5_D-10_Interv-2000 \n",
            "\n",
            "MÉDIA:  0.06443270328767281\n",
            "MIN __: 4.308042377229263e-13\n",
            "MAX__:  0.9713482861038689\n",
            "STD __: 0.16697903168166744\n",
            "Tempo Médio= 3.425 segundos ---\n",
            "50 Rodadas\n",
            "\n",
            "BEST:  [-6.45495730e-07  3.36320906e-15  1.09278061e-14  1.17022050e-07\n",
            " -2.10902610e-08 -3.00700630e-15  1.24895401e-13 -2.63358811e-15\n",
            " -7.35931717e-10 -3.07277036e-15  4.30804238e-13]\n"
          ],
          "name": "stdout"
        }
      ]
    }
  ]
}