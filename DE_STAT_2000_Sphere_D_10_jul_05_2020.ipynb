{
  "nbformat": 4,
  "nbformat_minor": 0,
  "metadata": {
    "accelerator": "GPU",
    "colab": {
      "name": "DE_STAT_2000_Sphere_D_10_jul_05_2020.ipynb",
      "provenance": [],
      "collapsed_sections": [],
      "include_colab_link": true
    },
    "kernelspec": {
      "display_name": "Python 3",
      "language": "python",
      "name": "python3"
    },
    "language_info": {
      "codemirror_mode": {
        "name": "ipython",
        "version": 3
      },
      "file_extension": ".py",
      "mimetype": "text/x-python",
      "name": "python",
      "nbconvert_exporter": "python",
      "pygments_lexer": "ipython3",
      "version": "3.6.1"
    }
  },
  "cells": [
    {
      "cell_type": "markdown",
      "metadata": {
        "id": "view-in-github",
        "colab_type": "text"
      },
      "source": [
        "<a href=\"https://colab.research.google.com/github/ucfilho/Raianars_SelfTest_comp_02_July_2020/blob/master/DE_STAT_2000_Sphere_D_10_jul_05_2020.ipynb\" target=\"_parent\"><img src=\"https://colab.research.google.com/assets/colab-badge.svg\" alt=\"Open In Colab\"/></a>"
      ]
    },
    {
      "cell_type": "code",
      "metadata": {
        "colab_type": "code",
        "id": "cG5nOUQ9Eucw",
        "colab": {}
      },
      "source": [
        "# Noisy_Quartic\n",
        "# In the paper Ngen=3000 NPAR=100 RUNS=50 dim=30\n",
        "# JADE: Adaptive Differential Evolution with Optional External Archive\n"
      ],
      "execution_count": 1,
      "outputs": []
    },
    {
      "cell_type": "code",
      "metadata": {
        "colab_type": "code",
        "id": "v1OxgXboBKoG",
        "colab": {}
      },
      "source": [
        "import time\n",
        "import matplotlib.pyplot as plt\n",
        "import numpy as np\n",
        "from random import randint"
      ],
      "execution_count": 2,
      "outputs": []
    },
    {
      "cell_type": "code",
      "metadata": {
        "id": "qMRpE0dGULCI",
        "colab_type": "code",
        "colab": {
          "base_uri": "https://localhost:8080/",
          "height": 52
        },
        "outputId": "fee7dfc5-c2d9-477e-8687-8f0087ed5abe"
      },
      "source": [
        "!git clone https://github.com/ucfilho/Raianars_July_2020 #clonar do Github\n",
        "%cd Raianars_July_2020"
      ],
      "execution_count": 3,
      "outputs": [
        {
          "output_type": "stream",
          "text": [
            "fatal: destination path 'Raianars_July_2020' already exists and is not an empty directory.\n",
            "/content/Raianars_July_2020\n"
          ],
          "name": "stdout"
        }
      ]
    },
    {
      "cell_type": "code",
      "metadata": {
        "colab_type": "code",
        "id": "_E15mKFURR6O",
        "colab": {}
      },
      "source": [
        "import de_soma_Insight\n",
        "import de_bounds_matriz\n",
        "import Function\n",
        "import Go2MinMax\n",
        "from AvaliaX import AvaliaX\n",
        "\n",
        "\n",
        "############################### DADOS DE ENTRADA \n",
        "RUNS=50 #NÚMERO DE RODADAS\n",
        "its=1 #10 # quantas vezes vai usar o NPAR antes de alterar de novo\n",
        "ITE=2000 #10 # PONTOS quantas vezes vai alteral NPAR \n",
        "NPAR=100\n",
        "\n",
        "mut=0.5\n",
        "crossp=0.5\n",
        "dim=10\n",
        "\n",
        "#fchoice='Rastrigin' #fchoice='Michalewicz' #fchoice='Schwefel'\n",
        "fchoice='Sphere'  \n",
        "Fun=Function.Sphere\n",
        "\n",
        "MIN,MAX=Go2MinMax.Intervalo(dim,fchoice)\n",
        "\n",
        "TOTAL=10*dim*its*ITE\n",
        "SOMA=0"
      ],
      "execution_count": 4,
      "outputs": []
    },
    {
      "cell_type": "code",
      "metadata": {
        "colab_type": "code",
        "id": "rnX8ttNopd1G",
        "colab": {
          "base_uri": "https://localhost:8080/",
          "height": 905
        },
        "outputId": "3e6873c5-3597-4104-9649-8176c315b9c2"
      },
      "source": [
        "start_time = time.time()\n",
        "BEST_AGENTS=[]\n",
        "MAT_stat=[]\n",
        "\n",
        "for i in range(RUNS):\n",
        "\n",
        "    pop = np.random.rand(NPAR, dim)\n",
        "    diff=np.zeros(dim)\n",
        "    for ii in range(dim):\n",
        "      diff[ii] = MAX[ii]-MIN[ii]\n",
        "    X = MIN + pop * diff\n",
        "\n",
        "    SOMA=0\n",
        "\n",
        "    for k in range(ITE):\n",
        "      X,BEST,FOBEST,XY,BEST_XY,SOMA= de_soma_Insight.de(MAX,MIN, mut, crossp,dim,its,Fun,X,SOMA,TOTAL)\n",
        "\n",
        "    start_run = (time.time()-start_time)/60\n",
        "    print('run=',i,'total=50','Fobj=',FOBEST,'Time=',start_run)  \n",
        "    BEST_AGENTS.append(BEST_XY)"
      ],
      "execution_count": 5,
      "outputs": [
        {
          "output_type": "stream",
          "text": [
            "run= 0 total=50 Fobj= 0.0008444554719703008 Time= 0.06149137814839681\n",
            "run= 1 total=50 Fobj= 0.009550515761243763 Time= 0.12202799320220947\n",
            "run= 2 total=50 Fobj= 0.004868209095555401 Time= 0.1827385663986206\n",
            "run= 3 total=50 Fobj= 0.002410102239922366 Time= 0.24384284019470215\n",
            "run= 4 total=50 Fobj= 0.02506016288351782 Time= 0.3038581689198812\n",
            "run= 5 total=50 Fobj= 2.3907450550445338e-08 Time= 0.3641162912050883\n",
            "run= 6 total=50 Fobj= 0.0665712907317506 Time= 0.425257404645284\n",
            "run= 7 total=50 Fobj= 7.807536343720742e-06 Time= 0.48581080039342245\n",
            "run= 8 total=50 Fobj= 1.844243318733696e-05 Time= 0.5463356574376425\n",
            "run= 9 total=50 Fobj= 1.1301401959348967e-06 Time= 0.6066783944765727\n",
            "run= 10 total=50 Fobj= 5.3185009524094864e-05 Time= 0.6671114722887675\n",
            "run= 11 total=50 Fobj= 0.0001257217489317778 Time= 0.7278790990511577\n",
            "run= 12 total=50 Fobj= 6.435749682256529e-08 Time= 0.7889216224352519\n",
            "run= 13 total=50 Fobj= 0.0003157742297303689 Time= 0.8506380756696065\n",
            "run= 14 total=50 Fobj= 0.013354757973048519 Time= 0.9111032406489055\n",
            "run= 15 total=50 Fobj= 0.3456817089375721 Time= 0.9712307810783386\n",
            "run= 16 total=50 Fobj= 4.401182097694949e-05 Time= 1.0318337003389995\n",
            "run= 17 total=50 Fobj= 1.4295648972158195e-05 Time= 1.0934164245923361\n",
            "run= 18 total=50 Fobj= 2.650490688195472e-07 Time= 1.154347570737203\n",
            "run= 19 total=50 Fobj= 3.250890112588076e-05 Time= 1.2156130949656168\n",
            "run= 20 total=50 Fobj= 4.5275368092785456e-08 Time= 1.2775691986083983\n",
            "run= 21 total=50 Fobj= 1.0679849750172676e-05 Time= 1.3381530165672302\n",
            "run= 22 total=50 Fobj= 6.154126972485322e-05 Time= 1.3989663521448772\n",
            "run= 23 total=50 Fobj= 0.00021290565131871892 Time= 1.460164757569631\n",
            "run= 24 total=50 Fobj= 2.8369307064944272e-06 Time= 1.5210407614707946\n",
            "run= 25 total=50 Fobj= 0.10096249785290437 Time= 1.5814050078392028\n",
            "run= 26 total=50 Fobj= 3.886660705578915e-08 Time= 1.641934855779012\n",
            "run= 27 total=50 Fobj= 0.08836483197734357 Time= 1.7023152550061544\n",
            "run= 28 total=50 Fobj= 0.00012492585179183348 Time= 1.7620362003644308\n",
            "run= 29 total=50 Fobj= 0.000201515004588173 Time= 1.82303386926651\n",
            "run= 30 total=50 Fobj= 5.111581049555491e-11 Time= 1.8825186332066854\n",
            "run= 31 total=50 Fobj= 1.937723803649376e-13 Time= 1.9435489972432454\n",
            "run= 32 total=50 Fobj= 0.00016084240740744365 Time= 2.0050939838091533\n",
            "run= 33 total=50 Fobj= 0.0001121537491837593 Time= 2.065889044602712\n",
            "run= 34 total=50 Fobj= 3.5212782305129965e-05 Time= 2.1259482304255166\n",
            "run= 35 total=50 Fobj= 5.029734759150987e-05 Time= 2.186200435956319\n",
            "run= 36 total=50 Fobj= 1.3194383937675184e-16 Time= 2.247458446025848\n",
            "run= 37 total=50 Fobj= 0.008270131584131563 Time= 2.3091221412022906\n",
            "run= 38 total=50 Fobj= 0.18867677884108766 Time= 2.3699217955271403\n",
            "run= 39 total=50 Fobj= 3.2999678989534065e-05 Time= 2.4305811405181883\n",
            "run= 40 total=50 Fobj= 0.22588586580597636 Time= 2.490534317493439\n",
            "run= 41 total=50 Fobj= 7.31741012820556e-13 Time= 2.551103349526723\n",
            "run= 42 total=50 Fobj= 1.5827973747819264e-05 Time= 2.611277397473653\n",
            "run= 43 total=50 Fobj= 4.285332082079961e-10 Time= 2.6734482844670615\n",
            "run= 44 total=50 Fobj= 0.004847163966381736 Time= 2.7366239349047343\n",
            "run= 45 total=50 Fobj= 0.00619051535698305 Time= 2.7976441939671832\n",
            "run= 46 total=50 Fobj= 0.012314040641704114 Time= 2.8567516843477887\n",
            "run= 47 total=50 Fobj= 1.4854402620286512e-06 Time= 2.9171380321184794\n",
            "run= 48 total=50 Fobj= 0.17840218749931513 Time= 2.978027097384135\n",
            "run= 49 total=50 Fobj= 0.03565795177667629 Time= 3.037866238753001\n"
          ],
          "name": "stdout"
        }
      ]
    },
    {
      "cell_type": "code",
      "metadata": {
        "colab_type": "code",
        "id": "lNSN5X-wskcx",
        "colab": {
          "base_uri": "https://localhost:8080/",
          "height": 247
        },
        "outputId": "96472716-fb75-432a-d1dc-1ea759f317f5"
      },
      "source": [
        "############################## Cálculo dos Parâmetros de Avaliação   \n",
        "TIME = (time.time() - start_time)/RUNS\n",
        "BEST_AGENTS=np.array(BEST_AGENTS)\n",
        "BEST_AGENTS_ST= BEST_AGENTS[BEST_AGENTS[:,-1].argsort()]\n",
        "BEST=BEST_AGENTS_ST[0]\n",
        "WORSE=BEST_AGENTS_ST[-1]\n",
        "MEAN=np.mean(BEST_AGENTS,axis=0)\n",
        "MAXFO=BEST_AGENTS[:,-1].max()\n",
        "MINFO=BEST_AGENTS[:,-1].min()\n",
        "STD=BEST_AGENTS[:,-1].std()\n",
        "\n",
        "nome='_DE_STAT_Fo-'+str(mut)+'_CRo-'+str(crossp)+'_D-'+str(dim)+'_Interv-'+str(ITE)\n",
        "print('DE','TOTAL=',TOTAL,'Iterações=',ITE*its,'Dim=', dim,\"Min/Max=\",MIN[0],\"/\",MAX[0],'_',Fun.__name__)\n",
        "print(nome, '\\n')\n",
        "#print('BEST: ',BEST)\n",
        "#print('MÉDIA: ',MEAN)\n",
        "print('MÉDIA: ',MEAN[-1])\n",
        "print('MIN __:',MINFO)\n",
        "print('MAX__: ',MAXFO)\n",
        "print('STD __:',STD)\n",
        "print(\"Tempo Médio= %.3f segundos ---\" % (TIME))\n",
        "print(RUNS,'Rodadas') \n",
        "print()\n",
        "print('BEST: ',BEST)\n",
        "# print('melhor=',BEST_AGENTS[BEST_INDEX])"
      ],
      "execution_count": 6,
      "outputs": [
        {
          "output_type": "stream",
          "text": [
            "DE TOTAL= 200000 Iterações= 2000 Dim= 10 Min/Max= -5.12 / 5.12 _ Sphere\n",
            "_DE_STAT_Fo-0.5_CRo-0.5_D-10_Interv-2000 \n",
            "\n",
            "MÉDIA:  0.02639099415480012\n",
            "MIN __: 1.3194383937675184e-16\n",
            "MAX__:  0.3456817089375721\n",
            "STD __: 0.06753328316384341\n",
            "Tempo Médio= 3.646 segundos ---\n",
            "50 Rodadas\n",
            "\n",
            "BEST:  [-1.00639979e-15 -1.13167039e-08 -2.86928097e-16 -1.94943813e-09\n",
            " -1.64320506e-12  1.08305964e-14 -4.90381024e-12 -3.67655216e-13\n",
            "  2.75164705e-10 -5.90981727e-14  1.31943839e-16]\n"
          ],
          "name": "stdout"
        }
      ]
    }
  ]
}