{
  "nbformat": 4,
  "nbformat_minor": 0,
  "metadata": {
    "colab": {
      "name": "Stats_2000_Bent_Cigar_ALL_D_10_JUL_04_2020.ipynb",
      "provenance": [],
      "collapsed_sections": [],
      "authorship_tag": "ABX9TyNtqREB3ogxC79jwY/jItcS",
      "include_colab_link": true
    },
    "kernelspec": {
      "name": "python3",
      "display_name": "Python 3"
    }
  },
  "cells": [
    {
      "cell_type": "markdown",
      "metadata": {
        "id": "view-in-github",
        "colab_type": "text"
      },
      "source": [
        "<a href=\"https://colab.research.google.com/github/ucfilho/Raianars_SelfTest_comp_02_July_2020/blob/master/Stats_2000_Bent_Cigar_ALL_D_10_JUL_04_2020.ipynb\" target=\"_parent\"><img src=\"https://colab.research.google.com/assets/colab-badge.svg\" alt=\"Open In Colab\"/></a>"
      ]
    },
    {
      "cell_type": "code",
      "metadata": {
        "id": "MC26Bm1UyUR5",
        "colab_type": "code",
        "colab": {
          "base_uri": "https://localhost:8080/",
          "height": 34
        },
        "outputId": "65cdcd9c-98c4-4617-f226-1240fa6ead54"
      },
      "source": [
        "!pip install pyade-python"
      ],
      "execution_count": 1,
      "outputs": [
        {
          "output_type": "stream",
          "text": [
            "Requirement already satisfied: pyade-python in /usr/local/lib/python3.6/dist-packages (1.1)\n"
          ],
          "name": "stdout"
        }
      ]
    },
    {
      "cell_type": "code",
      "metadata": {
        "id": "rRwqrtCmgzdZ",
        "colab_type": "code",
        "colab": {
          "base_uri": "https://localhost:8080/",
          "height": 52
        },
        "outputId": "8ade8cb9-734a-42d1-db12-80779511db41"
      },
      "source": [
        "!pip install PyFDE"
      ],
      "execution_count": 2,
      "outputs": [
        {
          "output_type": "stream",
          "text": [
            "Requirement already satisfied: PyFDE in /usr/local/lib/python3.6/dist-packages (1.3.0)\n",
            "Requirement already satisfied: numpy in /usr/local/lib/python3.6/dist-packages (from PyFDE) (1.18.5)\n"
          ],
          "name": "stdout"
        }
      ]
    },
    {
      "cell_type": "code",
      "metadata": {
        "id": "anFukot-ypn6",
        "colab_type": "code",
        "colab": {}
      },
      "source": [
        "import pyade.ilshade \n",
        "import pyade.sade \n",
        "import pyade.jso\n",
        "import pyade.shade\n",
        "import pyade.jade \n",
        "import pyfde\n",
        "import numpy as np\n",
        "import pandas as pd\n",
        "import time"
      ],
      "execution_count": 3,
      "outputs": []
    },
    {
      "cell_type": "code",
      "metadata": {
        "id": "6Oh714_-z1Ia",
        "colab_type": "code",
        "colab": {
          "base_uri": "https://localhost:8080/",
          "height": 52
        },
        "outputId": "337c95c7-b46d-4107-efb6-c67b28a6e237"
      },
      "source": [
        "!git clone https://github.com/ucfilho/Raianars_July_2020 #clonar do Github\n",
        "%cd Raianars_July_2020"
      ],
      "execution_count": 4,
      "outputs": [
        {
          "output_type": "stream",
          "text": [
            "fatal: destination path 'Raianars_July_2020' already exists and is not an empty directory.\n",
            "/content/Raianars_July_2020\n"
          ],
          "name": "stdout"
        }
      ]
    },
    {
      "cell_type": "code",
      "metadata": {
        "id": "LnzftXkky78A",
        "colab_type": "code",
        "colab": {}
      },
      "source": [
        "import Go2Ann\n",
        "import de_soma_Insight\n",
        "import de_bounds_matriz\n",
        "from AvaliaX import AvaliaX\n",
        "from GeraIndices import GeraIndices"
      ],
      "execution_count": 5,
      "outputs": []
    },
    {
      "cell_type": "code",
      "metadata": {
        "id": "HNW92728z7fR",
        "colab_type": "code",
        "colab": {}
      },
      "source": [
        "import Function\n",
        "import Go2MinMax"
      ],
      "execution_count": 6,
      "outputs": []
    },
    {
      "cell_type": "code",
      "metadata": {
        "id": "T_C-e7aH0CZH",
        "colab_type": "code",
        "colab": {}
      },
      "source": [
        "ITE=2000 #10 # PONTOS quantas vezes vai alteral NPAR \n",
        "NPAR=100 # NUMBER OF PARTICLES\n",
        "dim=10\n",
        "RUNS=50\n",
        "fchoice='Bent_Cigar'  \n",
        "Fun=Function.Bent_Cigar\n",
        "\n",
        "MIN,MAX=Go2MinMax.Intervalo(dim,fchoice)\n",
        "bounds = [(0,0)]*dim\n",
        "\n",
        "for i in range(dim):\n",
        "  bounds[i] = (MIN[i],MAX[i])"
      ],
      "execution_count": 7,
      "outputs": []
    },
    {
      "cell_type": "code",
      "metadata": {
        "id": "Nqv5qp9yzQEw",
        "colab_type": "code",
        "colab": {}
      },
      "source": [
        "############################### INPUT INFORMATION (FRANNK)\n",
        "Fc=0.1 # fator de correcao parametros da ANN\n",
        "its=1 #10 # quantas vezes vai usar o NPAR antes de alterar de novo\n",
        "mut=0.5\n",
        "crossp=0.5\n",
        "Fi=mut;CRi=crossp;# para impressão\n",
        "PAR=len(MAX) #NUM DE PARAMETROS A SER OTIMIZADOS"
      ],
      "execution_count": 8,
      "outputs": []
    },
    {
      "cell_type": "code",
      "metadata": {
        "id": "WkbM98uny0QY",
        "colab_type": "code",
        "colab": {
          "base_uri": "https://localhost:8080/",
          "height": 247
        },
        "outputId": "5c69778d-b93f-4d2a-8bd5-7e8aa90dae5b"
      },
      "source": [
        "# IL-Shade\n",
        "\n",
        "BEST_AGENTS=[]\n",
        "start_time = time.time() \n",
        "for i in range(RUNS):\n",
        "  ANSWER_AGENTS=[]\n",
        "  algorithm = pyade.ilshade \n",
        "  params = algorithm.get_default_params(dim=dim) \n",
        "  params['bounds'] = np.array(bounds)\n",
        "  params['max_evals'] = ITE \n",
        "  params['func'] = Fun\n",
        "  params['max_evals'] = ITE\n",
        "  best, fit = algorithm.apply(**params)\n",
        "  for x in best:\n",
        "    ANSWER_AGENTS.append(x)\n",
        "  ANSWER_AGENTS.append(fit)\n",
        "  BEST_AGENTS.append(ANSWER_AGENTS)\n",
        "BEST_AGENTS=np.array(BEST_AGENTS)\n",
        "TIME = (time.time() - start_time)/RUNS\n",
        "BEST_AGENTS=np.array(BEST_AGENTS)\n",
        "BEST_AGENTS_ST= BEST_AGENTS[BEST_AGENTS[:,-1].argsort()]\n",
        "BEST=BEST_AGENTS_ST[0]\n",
        "WORSE=BEST_AGENTS_ST[-1]\n",
        "MEAN=np.mean(BEST_AGENTS,axis=0)\n",
        "MAXFO=BEST_AGENTS[:,-1].max()\n",
        "MINFO=BEST_AGENTS[:,-1].min()\n",
        "STD=BEST_AGENTS[:,-1].std()\n",
        "nome='IL-Shade_Fo-'+str(0)+'_CRo-'+str(0)\n",
        "print(nome,'NPAR',NPAR,'Iterações=',ITE,'Dim=',dim ,\"Min/Max=\",MIN[0],\"/\",MAX[0],'_',Fun.__name__)\n",
        "print( '\\n')\n",
        "print('MÉDIA: ',MEAN[-1])\n",
        "print('MIN __:',MINFO)\n",
        "print('MAX__: ',MAXFO)\n",
        "print('STD __:',STD)\n",
        "print(\"Tempo Médio= %.3f segundos ---\" % (TIME))\n",
        "print(RUNS,'Rodadas') \n",
        "print()\n",
        "print('BEST: ',BEST)"
      ],
      "execution_count": 9,
      "outputs": [
        {
          "output_type": "stream",
          "text": [
            "IL-Shade_Fo-0_CRo-0 NPAR 100 Iterações= 2000 Dim= 10 Min/Max= -100 / 100 _ Bent_Cigar\n",
            "\n",
            "\n",
            "MÉDIA:  68.4659140463291\n",
            "MIN __: 3.925967403233224\n",
            "MAX__:  270.73429718524795\n",
            "STD __: 69.04148804865791\n",
            "Tempo Médio= 0.151 segundos ---\n",
            "50 Rodadas\n",
            "\n",
            "BEST:  [-9.15526657e-01  9.75678544e-04  1.72803783e-04  1.04704033e-03\n",
            " -6.54073971e-04 -1.42823705e-04 -3.42050903e-04 -6.48127181e-04\n",
            "  1.27814293e-04  8.97752349e-05  3.92596740e+00]\n"
          ],
          "name": "stdout"
        }
      ]
    },
    {
      "cell_type": "code",
      "metadata": {
        "id": "v4dbY4tSsFMb",
        "colab_type": "code",
        "colab": {
          "base_uri": "https://localhost:8080/",
          "height": 247
        },
        "outputId": "92e4f5c0-ded8-4f9c-e924-309530982231"
      },
      "source": [
        "# Jso\n",
        "\n",
        "BEST_AGENTS=[]\n",
        "start_time = time.time() \n",
        "for i in range(RUNS):\n",
        "  ANSWER_AGENTS=[]\n",
        "  algorithm = pyade.jso\n",
        "  params = algorithm.get_default_params(dim=dim) \n",
        "  params['bounds'] = np.array(bounds)\n",
        "  params['max_evals'] = ITE \n",
        "  params['func'] = Fun\n",
        "  best, fit = algorithm.apply(**params)\n",
        "  for x in best:\n",
        "    ANSWER_AGENTS.append(x)\n",
        "  ANSWER_AGENTS.append(fit)\n",
        "  BEST_AGENTS.append(ANSWER_AGENTS)\n",
        "BEST_AGENTS=np.array(BEST_AGENTS)\n",
        "TIME = (time.time() - start_time)/RUNS\n",
        "BEST_AGENTS=np.array(BEST_AGENTS)\n",
        "BEST_AGENTS_ST= BEST_AGENTS[BEST_AGENTS[:,-1].argsort()]\n",
        "BEST=BEST_AGENTS_ST[0]\n",
        "WORSE=BEST_AGENTS_ST[-1]\n",
        "MEAN=np.mean(BEST_AGENTS,axis=0)\n",
        "MAXFO=BEST_AGENTS[:,-1].max()\n",
        "MINFO=BEST_AGENTS[:,-1].min()\n",
        "STD=BEST_AGENTS[:,-1].std()\n",
        "nome='Jso-'+str(0)+'_CRo-'+str(0)\n",
        "print(nome,'NPAR',NPAR,'Iterações=',ITE,'Dim=',dim ,\"Min/Max=\",MIN[0],\"/\",MAX[0],'_',Fun.__name__)\n",
        "print( '\\n')\n",
        "print('MÉDIA: ',MEAN[-1])\n",
        "print('MIN __:',MINFO)\n",
        "print('MAX__: ',MAXFO)\n",
        "print('STD __:',STD)\n",
        "print(\"Tempo Médio= %.3f segundos ---\" % (TIME))\n",
        "print(RUNS,'Rodadas') \n",
        "print()\n",
        "print('BEST: ',BEST)"
      ],
      "execution_count": 10,
      "outputs": [
        {
          "output_type": "stream",
          "text": [
            "Jso-0_CRo-0 NPAR 100 Iterações= 2000 Dim= 10 Min/Max= -100 / 100 _ Bent_Cigar\n",
            "\n",
            "\n",
            "MÉDIA:  173.46716517734848\n",
            "MIN __: 20.810738308112864\n",
            "MAX__:  875.5545616517974\n",
            "STD __: 155.73962352823713\n",
            "Tempo Médio= 0.109 segundos ---\n",
            "50 Rodadas\n",
            "\n",
            "BEST:  [ 2.39746871e+00  1.81044015e-03  1.83730894e-03 -8.65350323e-04\n",
            " -1.09572084e-03  1.91737235e-03  5.91574179e-04 -7.41977970e-04\n",
            "  3.41756918e-04 -1.32907609e-03  2.08107383e+01]\n"
          ],
          "name": "stdout"
        }
      ]
    },
    {
      "cell_type": "code",
      "metadata": {
        "id": "ZkV_dpDa14C8",
        "colab_type": "code",
        "colab": {
          "base_uri": "https://localhost:8080/",
          "height": 247
        },
        "outputId": "114390df-0dfa-45d9-b3fe-7b7d7b3164ca"
      },
      "source": [
        "# Sade\n",
        "\n",
        "BEST_AGENTS=[]\n",
        "start_time = time.time() \n",
        "for i in range(RUNS):\n",
        "  ANSWER_AGENTS=[]\n",
        "  algorithm = pyade.sade\n",
        "  params = algorithm.get_default_params(dim=dim) \n",
        "  params['bounds'] = np.array(bounds)\n",
        "  params['max_evals'] = ITE \n",
        "  params['func'] = Fun\n",
        "  best, fit = algorithm.apply(**params)\n",
        "  for x in best:\n",
        "    ANSWER_AGENTS.append(x)\n",
        "  ANSWER_AGENTS.append(fit)\n",
        "  BEST_AGENTS.append(ANSWER_AGENTS)\n",
        "BEST_AGENTS=np.array(BEST_AGENTS)\n",
        "TIME = (time.time() - start_time)/RUNS\n",
        "BEST_AGENTS=np.array(BEST_AGENTS)\n",
        "BEST_AGENTS_ST= BEST_AGENTS[BEST_AGENTS[:,-1].argsort()]\n",
        "BEST=BEST_AGENTS_ST[0]\n",
        "WORSE=BEST_AGENTS_ST[-1]\n",
        "MEAN=np.mean(BEST_AGENTS,axis=0)\n",
        "MAXFO=BEST_AGENTS[:,-1].max()\n",
        "MINFO=BEST_AGENTS[:,-1].min()\n",
        "STD=BEST_AGENTS[:,-1].std()\n",
        "nome='Sade_Fo-'+str(0)+'_CRo-'+str(0)\n",
        "print(nome,'NPAR',NPAR,'Iterações=',ITE,'Dim=',dim ,\"Min/Max=\",MIN[0],\"/\",MAX[0],'_',Fun.__name__)\n",
        "print( '\\n')\n",
        "print('MÉDIA: ',MEAN[-1])\n",
        "print('MIN __:',MINFO)\n",
        "print('MAX__: ',MAXFO)\n",
        "print('STD __:',STD)\n",
        "print(\"Tempo Médio= %.3f segundos ---\" % (TIME))\n",
        "print(RUNS,'Rodadas') \n",
        "print()\n",
        "print('BEST: ',BEST)"
      ],
      "execution_count": 11,
      "outputs": [
        {
          "output_type": "stream",
          "text": [
            "Sade_Fo-0_CRo-0 NPAR 100 Iterações= 2000 Dim= 10 Min/Max= -100 / 100 _ Bent_Cigar\n",
            "\n",
            "\n",
            "MÉDIA:  102450.91130665256\n",
            "MIN __: 37227.00894422681\n",
            "MAX__:  171600.4878094482\n",
            "STD __: 35038.008221842014\n",
            "Tempo Médio= 0.067 segundos ---\n",
            "50 Rodadas\n",
            "\n",
            "BEST:  [-3.02734797e+00  1.29466623e-01  7.14724980e-02  5.25321910e-02\n",
            "  3.87233232e-02 -4.62295144e-02  4.50052413e-02 -2.19582903e-02\n",
            "  7.42314442e-02  3.05561639e-02  3.72270089e+04]\n"
          ],
          "name": "stdout"
        }
      ]
    },
    {
      "cell_type": "code",
      "metadata": {
        "id": "q77YsFa82zFU",
        "colab_type": "code",
        "colab": {
          "base_uri": "https://localhost:8080/",
          "height": 247
        },
        "outputId": "e5dc83ae-980b-4c39-c14e-c131cd633648"
      },
      "source": [
        "# JADE\n",
        "algorithm = pyade.jso\n",
        "BEST_AGENTS=[]\n",
        "for i in range(RUNS):\n",
        "  ANSWER_AGENTS=[]\n",
        "  solver = pyfde.JADE(Fun, n_dim=dim, n_pop=NPAR, limits=bounds, minimize=True)\n",
        "  solver.p = 0.05\n",
        "  solver.c = 0.1\n",
        "  solver.cr = 0.5\n",
        "  solver.f = 0.5\n",
        "  best, fit = solver.run(n_it=ITE)\n",
        "  for x in best:\n",
        "    ANSWER_AGENTS.append(x)\n",
        "  ANSWER_AGENTS.append(fit)\n",
        "  BEST_AGENTS.append(ANSWER_AGENTS)\n",
        "BEST_AGENTS=np.array(BEST_AGENTS)\n",
        "TIME = (time.time() - start_time)/RUNS\n",
        "BEST_AGENTS=np.array(BEST_AGENTS)\n",
        "BEST_AGENTS_ST= BEST_AGENTS[BEST_AGENTS[:,-1].argsort()]\n",
        "BEST=BEST_AGENTS_ST[0]\n",
        "WORSE=BEST_AGENTS_ST[-1]\n",
        "MEAN=np.mean(BEST_AGENTS,axis=0)\n",
        "MAXFO=BEST_AGENTS[:,-1].max()\n",
        "MINFO=BEST_AGENTS[:,-1].min()\n",
        "STD=BEST_AGENTS[:,-1].std()\n",
        "nome='JADE_Fo-'+str(0)+'_CRo-'+str(0)\n",
        "print(nome,'NPAR',NPAR,'Iterações=',ITE,'Dim=',dim ,\"Min/Max=\",MIN[0],\"/\",MAX[0],'_',Fun.__name__)\n",
        "print( '\\n')\n",
        "print('MÉDIA: ',MEAN[-1])\n",
        "print('MIN __:',MINFO)\n",
        "print('MAX__: ',MAXFO)\n",
        "print('STD __:',STD)\n",
        "print(\"Tempo Médio= %.3f segundos ---\" % (TIME))\n",
        "print(RUNS,'Rodadas') \n",
        "print()\n",
        "print('BEST: ',BEST)"
      ],
      "execution_count": 12,
      "outputs": [
        {
          "output_type": "stream",
          "text": [
            "JADE_Fo-0_CRo-0 NPAR 100 Iterações= 2000 Dim= 10 Min/Max= -100 / 100 _ Bent_Cigar\n",
            "\n",
            "\n",
            "MÉDIA:  -2.5479173223974977e-81\n",
            "MIN __: -1.273582856581977e-79\n",
            "MAX__:  -9.454484274807157e-109\n",
            "STD __: 1.7830053336563453e-80\n",
            "Tempo Médio= 0.950 segundos ---\n",
            "50 Rodadas\n",
            "\n",
            "BEST:  [-1.44731099e-41  5.72609636e-44 -1.08489158e-43 -1.26460192e-44\n",
            " -8.49442067e-44 -8.72574022e-44 -3.05296719e-43 -4.34579306e-44\n",
            " -4.20196270e-44 -1.58264854e-44 -1.27358286e-79]\n"
          ],
          "name": "stdout"
        }
      ]
    },
    {
      "cell_type": "code",
      "metadata": {
        "id": "gXdUgSStzppX",
        "colab_type": "code",
        "colab": {}
      },
      "source": [
        "# FRANNK START HERE !!!!!"
      ],
      "execution_count": 13,
      "outputs": []
    },
    {
      "cell_type": "code",
      "metadata": {
        "id": "raWOfeJBztuj",
        "colab_type": "code",
        "colab": {
          "base_uri": "https://localhost:8080/",
          "height": 52
        },
        "outputId": "177a2227-2bbc-431c-bf59-bc3fbd603511"
      },
      "source": [
        "!git clone https://github.com/ucfilho/ANN_read_matrix #clonar do Github\n",
        "%cd ANN_read_matrix"
      ],
      "execution_count": 14,
      "outputs": [
        {
          "output_type": "stream",
          "text": [
            "fatal: destination path 'ANN_read_matrix' already exists and is not an empty directory.\n",
            "/content/Raianars_July_2020/ANN_read_matrix\n"
          ],
          "name": "stdout"
        }
      ]
    },
    {
      "cell_type": "code",
      "metadata": {
        "id": "N2lyPfivzwGv",
        "colab_type": "code",
        "colab": {
          "base_uri": "https://localhost:8080/",
          "height": 1000
        },
        "outputId": "9bdff013-09a7-4325-cab6-58c86c062778"
      },
      "source": [
        "ANN_F=pd.read_csv('ANN_INSIGHT_Valor_F.csv')\n",
        "ANN_CR=pd.read_csv('ANN_INSIGHT_CR.csv')\n",
        "syn0_F,syn1_F,X_max_F,X_min_F=Go2Ann.GetMatriz(ANN_F)\n",
        "syn0_CR,syn1_CR,X_max_CR,X_min_CR=Go2Ann.GetMatriz(ANN_CR)\n",
        "fields = ['DI RELATIVO','FRAC Its','Fo','CRo']\n",
        "\n",
        "#TOTAL=7*dim*its*ITE\n",
        "TOTAL=10*dim*its*ITE\n",
        "TOTAL=int(TOTAL/2)   # CONFERIR SE ESTE EH O MELHOR LUGAR\n",
        "\n",
        "dimensions=len(MAX)\n",
        "start_time = time.time() #INICIALIZA CONTAGEM DO TEMPO\n",
        "\n",
        "MAX_P=np.zeros(ITE) # ATENCAO para variar F e Cr MAX_P passa a ser 3 vezes maior\n",
        "MIN_P=np.zeros(ITE) # ATENCAO para variar F e Cr MIN_P passa a ser 3 vezes maior\n",
        "\n",
        "for i in range(dim):\n",
        "  MAX_P[i]=MAX[i] \n",
        "  MIN_P[i]=MIN[i]\n",
        "\n",
        "rodadas=1\n",
        "for i in range(rodadas):\n",
        "  SOMA=0\n",
        "  pop = np.random.rand(NPAR, dimensions)\n",
        "  diff=np.zeros(PAR)\n",
        "  for ii in range(PAR):\n",
        "    diff[ii] = MAX[ii]-MIN[ii]\n",
        "  X = MIN + pop * diff\n",
        "    \n",
        "  PONTOS=ITE # DIVISOES DA POPULACAO\n",
        "start_time = time.time()\n",
        "BEST_AGENTS=[]\n",
        "MAT_stat=[]\n",
        "for i in range(RUNS):\n",
        "    MAT=[] \n",
        "    mut=Fi\n",
        "    crossp=CRi\n",
        "    SOMA=0\n",
        "    SOMAf=0\n",
        "    start_ite = time.time()\n",
        "    delta_time=(start_ite-start_time)/60\n",
        "    print('ite=',i,'total=50','time=',delta_time)\n",
        "    pop = np.random.rand(NPAR, dim)\n",
        "    diff=np.zeros(PAR)\n",
        "    for ii in range(PAR):\n",
        "      diff[ii] = MAX[ii]-MIN[ii]\n",
        "    X = MIN + pop * diff\n",
        "    Xf = MIN + pop * diff\n",
        "    \n",
        "    DIo=1e99\n",
        "  \n",
        "    CRo=crossp;Fo=mut;\n",
        "    Fitness = np.asarray([Fun(ind) for ind in X])\n",
        "\n",
        "    XY,BEST_XY,BESTo,FOBESTo=AvaliaX(X,Fitness)\n",
        "    nrow,ncol=X.shape\n",
        "\n",
        "    QUANT=17;MAT_INDo=np.zeros((1,QUANT)); # quantos indices esta fazendo\n",
        "    MAT_INDo[0,5]=nrow  # VALOR NP\n",
        "    MAT_INDo[0,6]=Fo    # VALOR Fo   \n",
        "    MAT_INDo[0,7]=CRo   # VALOR CRo\n",
        "  \n",
        "    MAT_INDo=GeraIndices(X,BESTo,FOBESTo,DIo,MAT_INDo,SOMA,TOTAL,syn0_F,\n",
        "                        syn1_F,X_max_F,X_min_F,syn0_CR,syn1_CR,X_max_CR,\n",
        "                        X_min_CR,Fc,fields,Fun)\n",
        "  \n",
        "    DIo=np.copy(MAT_INDo[0,0])\n",
        "    MAT_INDo[0,15]=Fo    # VALOR Fo   \n",
        "    MAT_INDo[0,16]=CRo   # VALOR CRo\n",
        "    #ind_crossp=ITE-1\n",
        "\n",
        "    \n",
        "    for k in range(ITE):\n",
        "      X,BEST,FOBEST,XY,BEST_XY,SOMA= de_soma_Insight.de(MAX,MIN, mut, crossp,NPAR,its,Fun,X,SOMA,TOTAL)\n",
        "      #Xf,BESTf,FOBESTf,XYf,BEST_XYf,SOMAf= de_soma_Insight.de(MAX,MIN, Fi, CRi, NPAR,its,Fun,Xf,SOMAf,TOTAL)\n",
        "\n",
        "      \n",
        "      MAT_IND=GeraIndices(X,BESTo,FOBESTo,DIo,MAT_INDo,SOMA,TOTAL,syn0_F,\n",
        "                          syn1_F,X_max_F,X_min_F,syn0_CR,syn1_CR,X_max_CR,\n",
        "                          X_min_CR,Fc,fields,Fun)\n",
        "    \n",
        "      BESTo=np.copy(BEST);FOBESTo=np.copy(FOBEST);\n",
        "      MAT.append(MAT_IND.ravel())\n",
        "    \n",
        "      MAT_INDo[0,6]=MAT_IND[0,15]   # VALOR Fo   \n",
        "      MAT_INDo[0,7]=MAT_IND[0,16]   # VALOR CRo\n",
        "      mut=MAT_IND[0,15]\n",
        "      crossp=MAT_IND[0,16]\n",
        "\n",
        "      Fitness = np.asarray([Fun(ind) for ind in X])\n",
        "      #Fitnessf = np.asarray([Fun(ind) for ind in Xf])\n",
        "      Maior=np.argmax(Fitness)\n",
        "      #Maiorf=np.argmax(Fitnessf)\n",
        "      Menor=np.argmin(Fitness)\n",
        "      #Menorf=np.argmin(Fitnessf)\n",
        "\n",
        "      #X[Maior,:]=np.copy(Xf[Menorf,:])\n",
        "      #Xf[Maiorf,:]=np.copy(X[Menor,:])\n",
        "      \n",
        "    BEST_AGENTS.append(BEST_XY)\n",
        "    MAT_stat.append(MAT)\n",
        "    #print(\"GlobalParam e Solucao:\", BEST,\"Funcao=\",FOBEST)\n",
        "    \n",
        "############################## Cálculo dos Parâmetros de Avaliação   \n",
        "TIME = (time.time() - start_time)/RUNS\n",
        "BEST_AGENTS=np.array(BEST_AGENTS)\n",
        "BEST_AGENTS_ST= BEST_AGENTS[BEST_AGENTS[:,-1].argsort()]\n",
        "BEST=BEST_AGENTS_ST[0]\n",
        "WORSE=BEST_AGENTS_ST[-1]\n",
        "MEAN=np.mean(BEST_AGENTS,axis=0)\n",
        "MAXFO=BEST_AGENTS[:,-1].max()\n",
        "MINFO=BEST_AGENTS[:,-1].min()\n",
        "STD=BEST_AGENTS[:,-1].std()\n",
        "\n",
        "nome='_ANN_Div3x4_Fo-'+str(Fi)+'_CRo-'+str(CRi)+'_D-'+str(dim)+'_Interv-'+str(ITE)\n",
        "print('DE_POP_VAR_F_CR','TOTAL=',TOTAL,'Iterações=',ITE*its,'Dim=', PAR,\"Min/Max=\",MIN[0],\"/\",MAX[0],'_',Fun.__name__)\n",
        "print(nome, '\\n')\n",
        "print('MÉDIA: ',MEAN[-1])\n",
        "print('MIN __:',MINFO)\n",
        "print('MAX__: ',MAXFO)\n",
        "print('STD __:',STD)\n",
        "print(\"Tempo Médio= %.3f segundos ---\" % (TIME))\n",
        "print(RUNS,'Rodadas') \n",
        "print()\n",
        "print('BEST: ',BEST)"
      ],
      "execution_count": 15,
      "outputs": [
        {
          "output_type": "stream",
          "text": [
            "ite= 0 total=50 time= 9.906291961669921e-06\n",
            "ite= 1 total=50 time= 0.8517444690068563\n",
            "ite= 2 total=50 time= 1.6033491134643554\n",
            "ite= 3 total=50 time= 2.351901618639628\n",
            "ite= 4 total=50 time= 3.1009956200917563\n",
            "ite= 5 total=50 time= 3.8479844093322755\n",
            "ite= 6 total=50 time= 4.596181869506836\n",
            "ite= 7 total=50 time= 5.347033731142679\n",
            "ite= 8 total=50 time= 6.095895425478617\n",
            "ite= 9 total=50 time= 6.836882174015045\n",
            "ite= 10 total=50 time= 7.575652054945627\n",
            "ite= 11 total=50 time= 8.313231333096821\n",
            "ite= 12 total=50 time= 9.051887778441111\n",
            "ite= 13 total=50 time= 9.790594617525736\n",
            "ite= 14 total=50 time= 10.52939262787501\n",
            "ite= 15 total=50 time= 11.269257573286692\n",
            "ite= 16 total=50 time= 12.003082871437073\n",
            "ite= 17 total=50 time= 12.737704900900523\n",
            "ite= 18 total=50 time= 13.476667710145314\n",
            "ite= 19 total=50 time= 14.215009605884552\n",
            "ite= 20 total=50 time= 14.954484724998474\n",
            "ite= 21 total=50 time= 15.69786791006724\n",
            "ite= 22 total=50 time= 16.441648614406585\n",
            "ite= 23 total=50 time= 17.186646167437235\n",
            "ite= 24 total=50 time= 17.928541791439056\n",
            "ite= 25 total=50 time= 18.677814102172853\n",
            "ite= 26 total=50 time= 19.427159094810484\n",
            "ite= 27 total=50 time= 20.17337606350581\n",
            "ite= 28 total=50 time= 20.922309041023254\n",
            "ite= 29 total=50 time= 21.660417731602987\n",
            "ite= 30 total=50 time= 22.402170817057293\n",
            "ite= 31 total=50 time= 23.144972932338714\n",
            "ite= 32 total=50 time= 23.885260001818338\n",
            "ite= 33 total=50 time= 24.626893464724223\n",
            "ite= 34 total=50 time= 25.374688784281414\n",
            "ite= 35 total=50 time= 26.119766461849213\n",
            "ite= 36 total=50 time= 26.871203303337097\n",
            "ite= 37 total=50 time= 27.621028951803844\n",
            "ite= 38 total=50 time= 28.37146759033203\n",
            "ite= 39 total=50 time= 29.12146371603012\n",
            "ite= 40 total=50 time= 29.87053010861079\n",
            "ite= 41 total=50 time= 30.61629807551702\n",
            "ite= 42 total=50 time= 31.36897357702255\n",
            "ite= 43 total=50 time= 32.118169383207956\n",
            "ite= 44 total=50 time= 32.87007848421732\n",
            "ite= 45 total=50 time= 33.62356069485347\n",
            "ite= 46 total=50 time= 34.3755144516627\n",
            "ite= 47 total=50 time= 35.129804070790605\n",
            "ite= 48 total=50 time= 35.87763990958532\n",
            "ite= 49 total=50 time= 36.63564211527507\n",
            "DE_POP_VAR_F_CR TOTAL= 100000 Iterações= 2000 Dim= 10 Min/Max= -100 / 100 _ Bent_Cigar\n",
            "_ANN_Div3x4_Fo-0.5_CRo-0.5_D-10_Interv-2000 \n",
            "\n",
            "MÉDIA:  5.003708981488246e-42\n",
            "MIN __: 7.477294408969491e-43\n",
            "MAX__:  1.8950246597813165e-41\n",
            "STD __: 4.014179081956625e-42\n",
            "Tempo Médio= 44.871 segundos ---\n",
            "50 Rodadas\n",
            "\n",
            "BEST:  [ 4.21552192e-22 -4.74939838e-25 -4.17216044e-25  1.25536013e-25\n",
            " -5.50876842e-26  1.19050955e-26 -2.44368876e-25 -1.05675654e-25\n",
            " -1.65116816e-25 -2.30875255e-25  7.47729441e-43]\n"
          ],
          "name": "stdout"
        }
      ]
    }
  ]
}