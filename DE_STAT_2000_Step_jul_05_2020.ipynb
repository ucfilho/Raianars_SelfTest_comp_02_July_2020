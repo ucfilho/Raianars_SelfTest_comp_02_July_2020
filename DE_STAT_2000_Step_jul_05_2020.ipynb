{
  "nbformat": 4,
  "nbformat_minor": 0,
  "metadata": {
    "accelerator": "GPU",
    "colab": {
      "name": "DE_STAT_2000_Step_jul_05_2020.ipynb",
      "provenance": [],
      "collapsed_sections": [],
      "include_colab_link": true
    },
    "kernelspec": {
      "display_name": "Python 3",
      "language": "python",
      "name": "python3"
    },
    "language_info": {
      "codemirror_mode": {
        "name": "ipython",
        "version": 3
      },
      "file_extension": ".py",
      "mimetype": "text/x-python",
      "name": "python",
      "nbconvert_exporter": "python",
      "pygments_lexer": "ipython3",
      "version": "3.6.1"
    }
  },
  "cells": [
    {
      "cell_type": "markdown",
      "metadata": {
        "id": "view-in-github",
        "colab_type": "text"
      },
      "source": [
        "<a href=\"https://colab.research.google.com/github/ucfilho/Raianars_SelfTest_comp_02_July_2020/blob/master/DE_STAT_2000_Step_jul_05_2020.ipynb\" target=\"_parent\"><img src=\"https://colab.research.google.com/assets/colab-badge.svg\" alt=\"Open In Colab\"/></a>"
      ]
    },
    {
      "cell_type": "code",
      "metadata": {
        "colab_type": "code",
        "id": "cG5nOUQ9Eucw",
        "colab": {}
      },
      "source": [
        "# Noisy_Quartic\n",
        "# In the paper Ngen=3000 NPAR=100 RUNS=50 dim=30\n",
        "# JADE: Adaptive Differential Evolution with Optional External Archive\n"
      ],
      "execution_count": 1,
      "outputs": []
    },
    {
      "cell_type": "code",
      "metadata": {
        "colab_type": "code",
        "id": "v1OxgXboBKoG",
        "colab": {}
      },
      "source": [
        "import time\n",
        "import matplotlib.pyplot as plt\n",
        "import numpy as np\n",
        "from random import randint"
      ],
      "execution_count": 2,
      "outputs": []
    },
    {
      "cell_type": "code",
      "metadata": {
        "id": "qMRpE0dGULCI",
        "colab_type": "code",
        "colab": {
          "base_uri": "https://localhost:8080/",
          "height": 158
        },
        "outputId": "7945d832-e7e8-4f90-b8ca-924a7dca0504"
      },
      "source": [
        "!git clone https://github.com/ucfilho/Raianars_July_2020 #clonar do Github\n",
        "%cd Raianars_July_2020"
      ],
      "execution_count": 3,
      "outputs": [
        {
          "output_type": "stream",
          "text": [
            "Cloning into 'Raianars_July_2020'...\n",
            "remote: Enumerating objects: 9, done.\u001b[K\n",
            "remote: Counting objects: 100% (9/9), done.\u001b[K\n",
            "remote: Compressing objects: 100% (9/9), done.\u001b[K\n",
            "remote: Total 132 (delta 3), reused 0 (delta 0), pack-reused 123\u001b[K\n",
            "Receiving objects: 100% (132/132), 200.33 KiB | 10.02 MiB/s, done.\n",
            "Resolving deltas: 100% (65/65), done.\n",
            "/content/Raianars_July_2020\n"
          ],
          "name": "stdout"
        }
      ]
    },
    {
      "cell_type": "code",
      "metadata": {
        "colab_type": "code",
        "id": "_E15mKFURR6O",
        "colab": {}
      },
      "source": [
        "import de_soma_Insight\n",
        "import de_bounds_matriz\n",
        "import Function\n",
        "import Go2MinMax\n",
        "from AvaliaX import AvaliaX\n",
        "\n",
        "\n",
        "############################### DADOS DE ENTRADA \n",
        "its=1 #10 # quantas vezes vai usar o NPAR antes de alterar de novo\n",
        "ITE=2000 #10 # PONTOS quantas vezes vai alteral NPAR \n",
        "NPAR=100 # NUMBER OF PARTICLES\n",
        "dim=30\n",
        "RUNS=50\n",
        "fchoice='Step' \n",
        "Fun=Function.Step\n",
        "\n",
        "mut=0.5\n",
        "crossp=0.5\n",
        "\n",
        "\n",
        "MIN,MAX=Go2MinMax.Intervalo(dim,fchoice)\n",
        "\n",
        "TOTAL=10*dim*its*ITE\n"
      ],
      "execution_count": 4,
      "outputs": []
    },
    {
      "cell_type": "code",
      "metadata": {
        "colab_type": "code",
        "id": "rnX8ttNopd1G",
        "colab": {
          "base_uri": "https://localhost:8080/",
          "height": 905
        },
        "outputId": "6c9171d7-d0d7-42e8-c5a8-a70279f78bd2"
      },
      "source": [
        "start_time = time.time()\n",
        "BEST_AGENTS=[]\n",
        "MAT_stat=[]\n",
        "\n",
        "for i in range(RUNS):\n",
        "\n",
        "    pop = np.random.rand(NPAR, dim)\n",
        "    diff=np.zeros(dim)\n",
        "    for ii in range(dim):\n",
        "      diff[ii] = MAX[ii]-MIN[ii]\n",
        "    X = MIN + pop * diff\n",
        "\n",
        "    SOMA=0\n",
        "\n",
        "    for k in range(ITE):\n",
        "      X,BEST,FOBEST,XY,BEST_XY,SOMA= de_soma_Insight.de(MAX,MIN, mut, crossp,dim,its,Fun,X,SOMA,TOTAL)\n",
        "\n",
        "    start_run = (time.time()-start_time)/60\n",
        "    print('run=',i,'total=50','Fobj=',FOBEST,'Time=',start_run)  \n",
        "    BEST_AGENTS.append(BEST_XY)"
      ],
      "execution_count": 5,
      "outputs": [
        {
          "output_type": "stream",
          "text": [
            "run= 0 total=50 Fobj= 9.62656823402516e-29 Time= 0.3004435340563456\n",
            "run= 1 total=50 Fobj= 2.695685624559926e-29 Time= 0.6016767899195353\n",
            "run= 2 total=50 Fobj= 2.106196987181881e-29 Time= 0.9031448841094971\n",
            "run= 3 total=50 Fobj= 6.064368208886528e-30 Time= 1.2038709799448648\n",
            "run= 4 total=50 Fobj= 3.005375159617394e-29 Time= 1.504423725605011\n",
            "run= 5 total=50 Fobj= 4.295594147961291e-30 Time= 1.8047090331713358\n",
            "run= 6 total=50 Fobj= 8.658981029965012e-30 Time= 2.107142674922943\n",
            "run= 7 total=50 Fobj= 2.0214560696288428e-29 Time= 2.4100804726282754\n",
            "run= 8 total=50 Fobj= 5.147317406567102e-29 Time= 2.7101813991864523\n",
            "run= 9 total=50 Fobj= 3.885756255795687e-30 Time= 3.0111560185750323\n",
            "run= 10 total=50 Fobj= 5.679182220009081e-30 Time= 3.3115812579790753\n",
            "run= 11 total=50 Fobj= 3.812416843513421e-29 Time= 3.616430199146271\n",
            "run= 12 total=50 Fobj= 3.360670715757951e-29 Time= 3.9169443329175313\n",
            "run= 13 total=50 Fobj= 5.835105508306672e-29 Time= 4.216990486780802\n",
            "run= 14 total=50 Fobj= 1.7777103758671942e-29 Time= 4.516939306259156\n",
            "run= 15 total=50 Fobj= 1.7465873479658965e-29 Time= 4.818056627114614\n",
            "run= 16 total=50 Fobj= 8.286120992731644e-30 Time= 5.117706469694773\n",
            "run= 17 total=50 Fobj= 6.683747279001463e-30 Time= 5.416831350326538\n",
            "run= 18 total=50 Fobj= 2.354256764018957e-30 Time= 5.716537050406138\n",
            "run= 19 total=50 Fobj= 1.1309060633441849e-30 Time= 6.015677658716838\n",
            "run= 20 total=50 Fobj= 4.0275046997025876e-29 Time= 6.316180189450582\n",
            "run= 21 total=50 Fobj= 1.968146328768204e-29 Time= 6.616768062114716\n",
            "run= 22 total=50 Fobj= 1.078828917647954e-29 Time= 6.917715807755788\n",
            "run= 23 total=50 Fobj= 9.613317836007776e-29 Time= 7.217077831427257\n",
            "run= 24 total=50 Fobj= 2.4848194068088566e-28 Time= 7.520352498690287\n",
            "run= 25 total=50 Fobj= 9.723943252013378e-29 Time= 7.818514772256216\n",
            "run= 26 total=50 Fobj= 1.529157560964355e-28 Time= 8.11990783214569\n",
            "run= 27 total=50 Fobj= 5.0936995169153614e-30 Time= 8.419482346375784\n",
            "run= 28 total=50 Fobj= 1.4156355463223938e-29 Time= 8.721485837300618\n",
            "run= 29 total=50 Fobj= 1.7558318116989552e-29 Time= 9.021823461850484\n",
            "run= 30 total=50 Fobj= 5.622482842446321e-29 Time= 9.321663880348206\n",
            "run= 31 total=50 Fobj= 1.5080801836529812e-29 Time= 9.620530919233959\n",
            "run= 32 total=50 Fobj= 1.4563111867478523e-29 Time= 9.923930660883586\n",
            "run= 33 total=50 Fobj= 4.599737004778923e-29 Time= 10.225523134072622\n",
            "run= 34 total=50 Fobj= 1.9082730186570937e-28 Time= 10.52564203341802\n",
            "run= 35 total=50 Fobj= 3.427539003427076e-29 Time= 10.825422096252442\n",
            "run= 36 total=50 Fobj= 1.932092920209275e-29 Time= 11.125202854474386\n",
            "run= 37 total=50 Fobj= 1.6584567937107365e-29 Time= 11.4247372229894\n",
            "run= 38 total=50 Fobj= 1.1750945999882056e-28 Time= 11.725871201356252\n",
            "run= 39 total=50 Fobj= 6.62026862803446e-29 Time= 12.027715380986532\n",
            "run= 40 total=50 Fobj= 3.633074247092082e-30 Time= 12.329101212819417\n",
            "run= 41 total=50 Fobj= 1.6371945271247015e-29 Time= 12.630189951260885\n",
            "run= 42 total=50 Fobj= 5.811686200182923e-30 Time= 12.929567960898082\n",
            "run= 43 total=50 Fobj= 1.2288973789146075e-29 Time= 13.230270564556122\n",
            "run= 44 total=50 Fobj= 1.9635240969016747e-29 Time= 13.528870288530985\n",
            "run= 45 total=50 Fobj= 6.967244166815264e-30 Time= 13.832668725649516\n",
            "run= 46 total=50 Fobj= 1.4492237645525072e-29 Time= 14.131609086195628\n",
            "run= 47 total=50 Fobj= 1.538895062763177e-29 Time= 14.432545332113902\n",
            "run= 48 total=50 Fobj= 1.815304528381633e-29 Time= 14.73241331577301\n",
            "run= 49 total=50 Fobj= 2.267666953719307e-29 Time= 15.032414162158966\n"
          ],
          "name": "stdout"
        }
      ]
    },
    {
      "cell_type": "code",
      "metadata": {
        "id": "VAbHty3zbVND",
        "colab_type": "code",
        "colab": {}
      },
      "source": [
        ""
      ],
      "execution_count": 5,
      "outputs": []
    },
    {
      "cell_type": "code",
      "metadata": {
        "colab_type": "code",
        "id": "lNSN5X-wskcx",
        "colab": {
          "base_uri": "https://localhost:8080/",
          "height": 336
        },
        "outputId": "3dd3fbcb-0e2e-4048-aa0b-40dce5d06b10"
      },
      "source": [
        "############################## Cálculo dos Parâmetros de Avaliação   \n",
        "TIME = (time.time() - start_time)/RUNS\n",
        "BEST_AGENTS=np.array(BEST_AGENTS)\n",
        "BEST_AGENTS_ST= BEST_AGENTS[BEST_AGENTS[:,-1].argsort()]\n",
        "BEST=BEST_AGENTS_ST[0]\n",
        "WORSE=BEST_AGENTS_ST[-1]\n",
        "MEAN=np.mean(BEST_AGENTS,axis=0)\n",
        "MAXFO=BEST_AGENTS[:,-1].max()\n",
        "MINFO=BEST_AGENTS[:,-1].min()\n",
        "STD=BEST_AGENTS[:,-1].std()\n",
        "\n",
        "nome='_DE_STAT_Fo-'+str(mut)+'_CRo-'+str(crossp)+'_D-'+str(dim)+'_Interv-'+str(ITE)\n",
        "print('DE_POP_VAR_F_CR','TOTAL=',TOTAL,'Iterações=',ITE*its,'Dim=', dim,\"Min/Max=\",MIN[0],\"/\",MAX[0],'_',Fun.__name__)\n",
        "print(nome, '\\n')\n",
        "#print('BEST: ',BEST)\n",
        "#print('MÉDIA: ',MEAN)\n",
        "print('MÉDIA: ',MEAN[-1])\n",
        "print('MIN __:',MINFO)\n",
        "print('MAX__: ',MAXFO)\n",
        "print('STD __:',STD)\n",
        "print(\"Tempo Médio= %.3f segundos ---\" % (TIME))\n",
        "print(RUNS,'Rodadas') \n",
        "print()\n",
        "print('BEST: ',BEST)\n",
        "# print('melhor=',BEST_AGENTS[BEST_INDEX])"
      ],
      "execution_count": 6,
      "outputs": [
        {
          "output_type": "stream",
          "text": [
            "DE_POP_VAR_F_CR TOTAL= 600000 Iterações= 2000 Dim= 30 Min/Max= -100 / 100 _ Step\n",
            "_DE_STAT_Fo-0.5_CRo-0.5_D-30_Interv-2000 \n",
            "\n",
            "MÉDIA:  3.7454376222794994e-29\n",
            "MIN __: 1.1309060633441849e-30\n",
            "MAX__:  2.4848194068088566e-28\n",
            "STD __: 4.939321211087049e-29\n",
            "Tempo Médio= 18.040 segundos ---\n",
            "50 Rodadas\n",
            "\n",
            "BEST:  [-5.00000000e-01 -5.00000000e-01 -5.00000000e-01 -5.00000000e-01\n",
            " -5.00000000e-01 -5.00000000e-01 -5.00000000e-01 -5.00000000e-01\n",
            " -5.00000000e-01 -5.00000000e-01 -5.00000000e-01 -5.00000000e-01\n",
            " -5.00000000e-01 -5.00000000e-01 -5.00000000e-01 -5.00000000e-01\n",
            " -5.00000000e-01 -5.00000000e-01 -5.00000000e-01 -5.00000000e-01\n",
            " -5.00000000e-01 -5.00000000e-01 -5.00000000e-01 -5.00000000e-01\n",
            " -5.00000000e-01 -5.00000000e-01 -5.00000000e-01 -5.00000000e-01\n",
            " -5.00000000e-01 -5.00000000e-01  1.13090606e-30]\n"
          ],
          "name": "stdout"
        }
      ]
    }
  ]
}