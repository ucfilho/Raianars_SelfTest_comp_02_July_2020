{
  "nbformat": 4,
  "nbformat_minor": 0,
  "metadata": {
    "accelerator": "GPU",
    "colab": {
      "name": "DE_STAT_2000_Step_jul_05_2020.ipynb",
      "provenance": [],
      "collapsed_sections": [],
      "include_colab_link": true
    },
    "kernelspec": {
      "display_name": "Python 3",
      "language": "python",
      "name": "python3"
    },
    "language_info": {
      "codemirror_mode": {
        "name": "ipython",
        "version": 3
      },
      "file_extension": ".py",
      "mimetype": "text/x-python",
      "name": "python",
      "nbconvert_exporter": "python",
      "pygments_lexer": "ipython3",
      "version": "3.6.1"
    }
  },
  "cells": [
    {
      "cell_type": "markdown",
      "metadata": {
        "id": "view-in-github",
        "colab_type": "text"
      },
      "source": [
        "<a href=\"https://colab.research.google.com/github/ucfilho/Raianars_SelfTest_comp_02_July_2020/blob/master/DE_STAT_2000_Step_jul_05_2020.ipynb\" target=\"_parent\"><img src=\"https://colab.research.google.com/assets/colab-badge.svg\" alt=\"Open In Colab\"/></a>"
      ]
    },
    {
      "cell_type": "code",
      "metadata": {
        "colab_type": "code",
        "id": "cG5nOUQ9Eucw",
        "colab": {}
      },
      "source": [
        "# Noisy_Quartic\n",
        "# In the paper Ngen=3000 NPAR=100 RUNS=50 dim=30\n",
        "# JADE: Adaptive Differential Evolution with Optional External Archive\n"
      ],
      "execution_count": 1,
      "outputs": []
    },
    {
      "cell_type": "code",
      "metadata": {
        "colab_type": "code",
        "id": "v1OxgXboBKoG",
        "colab": {}
      },
      "source": [
        "import time\n",
        "import matplotlib.pyplot as plt\n",
        "import numpy as np\n",
        "from random import randint"
      ],
      "execution_count": 2,
      "outputs": []
    },
    {
      "cell_type": "code",
      "metadata": {
        "id": "qMRpE0dGULCI",
        "colab_type": "code",
        "colab": {
          "base_uri": "https://localhost:8080/",
          "height": 54
        },
        "outputId": "a2345a1b-a0eb-4ecb-e2c0-e539edc1dbb0"
      },
      "source": [
        "!git clone https://github.com/ucfilho/Raianars_July_2020 #clonar do Github\n",
        "%cd Raianars_July_2020"
      ],
      "execution_count": 3,
      "outputs": [
        {
          "output_type": "stream",
          "text": [
            "fatal: destination path 'Raianars_July_2020' already exists and is not an empty directory.\n",
            "/content/Raianars_July_2020\n"
          ],
          "name": "stdout"
        }
      ]
    },
    {
      "cell_type": "code",
      "metadata": {
        "colab_type": "code",
        "id": "_E15mKFURR6O",
        "colab": {}
      },
      "source": [
        "import de_soma_Insight\n",
        "import de_bounds_matriz\n",
        "import Function\n",
        "import Go2MinMax\n",
        "from AvaliaX import AvaliaX\n",
        "\n",
        "\n",
        "############################### DADOS DE ENTRADA \n",
        "its=1 #10 # quantas vezes vai usar o NPAR antes de alterar de novo\n",
        "ITE=2000 #10 # PONTOS quantas vezes vai alteral NPAR \n",
        "NPAR=100 # NUMBER OF PARTICLES\n",
        "dim=30\n",
        "RUNS=50\n",
        "fchoice='Step' \n",
        "Fun=Function.Step\n",
        "\n",
        "mut=0.5\n",
        "crossp=0.5\n",
        "\n",
        "\n",
        "#fchoice='Rastrigin' #fchoice='Michalewicz' #fchoice='Schwefel'\n",
        "fchoice='Step'\n",
        "Fun=Function.Step\n",
        "\n",
        "MIN,MAX=Go2MinMax.Intervalo(dim,fchoice)\n",
        "\n",
        "TOTAL=10*dim*its*ITE\n",
        "SOMA=0"
      ],
      "execution_count": 4,
      "outputs": []
    },
    {
      "cell_type": "code",
      "metadata": {
        "colab_type": "code",
        "id": "rnX8ttNopd1G",
        "colab": {
          "base_uri": "https://localhost:8080/",
          "height": 926
        },
        "outputId": "cfb6b4f1-7f36-4aae-d934-c474f2f94575"
      },
      "source": [
        "start_time = time.time()\n",
        "BEST_AGENTS=[]\n",
        "MAT_stat=[]\n",
        "\n",
        "for i in range(RUNS):\n",
        "\n",
        "    pop = np.random.rand(NPAR, dim)\n",
        "    diff=np.zeros(dim)\n",
        "    for ii in range(dim):\n",
        "      diff[ii] = MAX[ii]-MIN[ii]\n",
        "    X = MIN + pop * diff\n",
        "\n",
        "    for k in range(ITE):\n",
        "      X,BEST,FOBEST,XY,BEST_XY,SOMA= de_soma_Insight.de(MAX,MIN, mut, crossp,dim,its,Fun,X,SOMA,TOTAL)\n",
        "\n",
        "    start_run = (time.time()-start_time)/60\n",
        "    print('run=',i,'total=50','Fobj=',FOBEST,'Time=',start_run)  \n",
        "    BEST_AGENTS.append(BEST_XY)"
      ],
      "execution_count": 5,
      "outputs": [
        {
          "output_type": "stream",
          "text": [
            "run= 0 total=50 Fobj= 3.265144590516344e-29 Time= 0.34830142656962076\n",
            "run= 1 total=50 Fobj= 3.741850770351073e-29 Time= 0.6993384758631388\n",
            "run= 2 total=50 Fobj= 1.7690822097163394e-29 Time= 1.0459161837895712\n",
            "run= 3 total=50 Fobj= 1.5342728308966476e-29 Time= 1.3910457452138265\n",
            "run= 4 total=50 Fobj= 4.424708491433011e-29 Time= 1.7375330964724223\n",
            "run= 5 total=50 Fobj= 1.9786233876656706e-29 Time= 2.0842191338539124\n",
            "run= 6 total=50 Fobj= 1.4778816021249893e-29 Time= 2.430663792292277\n",
            "run= 7 total=50 Fobj= 5.401848308017319e-30 Time= 2.7776424407958986\n",
            "run= 8 total=50 Fobj= 5.569481250376784e-29 Time= 3.124367626508077\n",
            "run= 9 total=50 Fobj= 2.530517872529277e-29 Time= 3.471441837151845\n",
            "run= 10 total=50 Fobj= 61706.747909242535 Time= 3.6674211661020917\n",
            "run= 11 total=50 Fobj= 71351.78477757871 Time= 3.8635247786839804\n",
            "run= 12 total=50 Fobj= 63444.195180462375 Time= 4.05977824529012\n",
            "run= 13 total=50 Fobj= 52324.585310092196 Time= 4.255457242329915\n",
            "run= 14 total=50 Fobj= 70659.13759930864 Time= 4.451263197263082\n",
            "run= 15 total=50 Fobj= 57949.14729863453 Time= 4.649104964733124\n",
            "run= 16 total=50 Fobj= 68609.7529110258 Time= 4.844962616761525\n",
            "run= 17 total=50 Fobj= 63448.91707025745 Time= 5.042163089911143\n",
            "run= 18 total=50 Fobj= 67268.40102708065 Time= 5.241259821256002\n",
            "run= 19 total=50 Fobj= 67901.93300818781 Time= 5.438868188858033\n",
            "run= 20 total=50 Fobj= 75225.73714022922 Time= 5.63930990298589\n",
            "run= 21 total=50 Fobj= 68958.41709268438 Time= 5.834381568431854\n",
            "run= 22 total=50 Fobj= 59668.515429618 Time= 6.032825517654419\n",
            "run= 23 total=50 Fobj= 53478.68314502803 Time= 6.229271642367045\n",
            "run= 24 total=50 Fobj= 75155.57000809631 Time= 6.427593111991882\n",
            "run= 25 total=50 Fobj= 77681.04298922577 Time= 6.626137109597524\n",
            "run= 26 total=50 Fobj= 63580.07853871217 Time= 6.821457131703695\n",
            "run= 27 total=50 Fobj= 78309.04382194718 Time= 7.01713361342748\n",
            "run= 28 total=50 Fobj= 68387.55800672263 Time= 7.2134376764297485\n",
            "run= 29 total=50 Fobj= 71716.88585582985 Time= 7.41104371547699\n",
            "run= 30 total=50 Fobj= 65650.78356500354 Time= 7.605915542443594\n",
            "run= 31 total=50 Fobj= 77091.08215508949 Time= 7.802186481157938\n",
            "run= 32 total=50 Fobj= 69835.91495790605 Time= 7.997645982106527\n",
            "run= 33 total=50 Fobj= 58100.841913702585 Time= 8.192964307467143\n",
            "run= 34 total=50 Fobj= 58861.7885742651 Time= 8.392022903760274\n",
            "run= 35 total=50 Fobj= 39890.984135614475 Time= 8.588845698038737\n",
            "run= 36 total=50 Fobj= 68392.03578298732 Time= 8.784892849127452\n",
            "run= 37 total=50 Fobj= 75528.30766158241 Time= 8.98043713569641\n",
            "run= 38 total=50 Fobj= 57215.96463991659 Time= 9.175049606959025\n",
            "run= 39 total=50 Fobj= 78369.45687443535 Time= 9.373940559228261\n",
            "run= 40 total=50 Fobj= 63182.40043133046 Time= 9.574533732732137\n",
            "run= 41 total=50 Fobj= 71318.82755248748 Time= 9.770609291394551\n",
            "run= 42 total=50 Fobj= 69819.20301279753 Time= 9.96657069126765\n",
            "run= 43 total=50 Fobj= 66495.93340196036 Time= 10.162194617589314\n",
            "run= 44 total=50 Fobj= 60663.79294149571 Time= 10.357819338639578\n",
            "run= 45 total=50 Fobj= 76231.40227064728 Time= 10.556016763051352\n",
            "run= 46 total=50 Fobj= 61027.14929508881 Time= 10.752440452575684\n",
            "run= 47 total=50 Fobj= 64847.79420606414 Time= 10.947487942377727\n",
            "run= 48 total=50 Fobj= 77336.41083149874 Time= 11.142098661263784\n",
            "run= 49 total=50 Fobj= 65287.487767591025 Time= 11.339013663927714\n"
          ],
          "name": "stdout"
        }
      ]
    },
    {
      "cell_type": "code",
      "metadata": {
        "id": "VAbHty3zbVND",
        "colab_type": "code",
        "colab": {}
      },
      "source": [
        ""
      ],
      "execution_count": 5,
      "outputs": []
    },
    {
      "cell_type": "code",
      "metadata": {
        "colab_type": "code",
        "id": "lNSN5X-wskcx",
        "colab": {
          "base_uri": "https://localhost:8080/",
          "height": 345
        },
        "outputId": "a33f8b1b-e382-49d7-a9ac-08a425ecebc5"
      },
      "source": [
        "############################## Cálculo dos Parâmetros de Avaliação   \n",
        "TIME = (time.time() - start_time)/RUNS\n",
        "BEST_AGENTS=np.array(BEST_AGENTS)\n",
        "BEST_AGENTS_ST= BEST_AGENTS[BEST_AGENTS[:,-1].argsort()]\n",
        "BEST=BEST_AGENTS_ST[0]\n",
        "WORSE=BEST_AGENTS_ST[-1]\n",
        "MEAN=np.mean(BEST_AGENTS,axis=0)\n",
        "MAXFO=BEST_AGENTS[:,-1].max()\n",
        "MINFO=BEST_AGENTS[:,-1].min()\n",
        "STD=BEST_AGENTS[:,-1].std()\n",
        "\n",
        "nome='_DE_STAT_Fo-'+str(mut)+'_CRo-'+str(crossp)+'_D-'+str(dim)+'_Interv-'+str(ITE)\n",
        "print('DE_POP_VAR_F_CR','TOTAL=',TOTAL,'Iterações=',ITE*its,'Dim=', dim,\"Min/Max=\",MIN[0],\"/\",MAX[0],'_',Fun.__name__)\n",
        "print(nome, '\\n')\n",
        "#print('BEST: ',BEST)\n",
        "#print('MÉDIA: ',MEAN)\n",
        "print('MÉDIA: ',MEAN[-1])\n",
        "print('MIN __:',MINFO)\n",
        "print('MAX__: ',MAXFO)\n",
        "print('STD __:',STD)\n",
        "print(\"Tempo Médio= %.3f segundos ---\" % (TIME))\n",
        "print(RUNS,'Rodadas') \n",
        "print()\n",
        "print('BEST: ',BEST)\n",
        "# print('melhor=',BEST_AGENTS[BEST_INDEX])"
      ],
      "execution_count": 6,
      "outputs": [
        {
          "output_type": "stream",
          "text": [
            "DE_POP_VAR_F_CR TOTAL= 600000 Iterações= 2000 Dim= 30 Min/Max= -100 / 100 _ Step\n",
            "_DE_STAT_Fo-0.5_CRo-0.5_D-30_Interv-2000 \n",
            "\n",
            "MÉDIA:  53239.47392182858\n",
            "MIN __: 5.401848308017319e-30\n",
            "MAX__:  78369.45687443535\n",
            "STD __: 27593.38698062063\n",
            "Tempo Médio= 13.608 segundos ---\n",
            "50 Rodadas\n",
            "\n",
            "BEST:  [-5.00000000e-01 -5.00000000e-01 -5.00000000e-01 -5.00000000e-01\n",
            " -5.00000000e-01 -5.00000000e-01 -5.00000000e-01 -5.00000000e-01\n",
            " -5.00000000e-01 -5.00000000e-01 -5.00000000e-01 -5.00000000e-01\n",
            " -5.00000000e-01 -5.00000000e-01 -5.00000000e-01 -5.00000000e-01\n",
            " -5.00000000e-01 -5.00000000e-01 -5.00000000e-01 -5.00000000e-01\n",
            " -5.00000000e-01 -5.00000000e-01 -5.00000000e-01 -5.00000000e-01\n",
            " -5.00000000e-01 -5.00000000e-01 -5.00000000e-01 -5.00000000e-01\n",
            " -5.00000000e-01 -5.00000000e-01  5.40184831e-30]\n"
          ],
          "name": "stdout"
        }
      ]
    }
  ]
}