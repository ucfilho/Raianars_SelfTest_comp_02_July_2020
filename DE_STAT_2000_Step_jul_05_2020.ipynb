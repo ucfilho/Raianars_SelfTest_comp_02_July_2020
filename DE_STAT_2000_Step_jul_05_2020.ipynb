{
  "nbformat": 4,
  "nbformat_minor": 0,
  "metadata": {
    "accelerator": "GPU",
    "colab": {
      "name": "DE_STAT_2000_Step_jul_05_2020.ipynb",
      "provenance": [],
      "collapsed_sections": [],
      "include_colab_link": true
    },
    "kernelspec": {
      "display_name": "Python 3",
      "language": "python",
      "name": "python3"
    },
    "language_info": {
      "codemirror_mode": {
        "name": "ipython",
        "version": 3
      },
      "file_extension": ".py",
      "mimetype": "text/x-python",
      "name": "python",
      "nbconvert_exporter": "python",
      "pygments_lexer": "ipython3",
      "version": "3.6.1"
    }
  },
  "cells": [
    {
      "cell_type": "markdown",
      "metadata": {
        "id": "view-in-github",
        "colab_type": "text"
      },
      "source": [
        "<a href=\"https://colab.research.google.com/github/ucfilho/Raianars_SelfTest_comp_02_July_2020/blob/master/DE_STAT_2000_Step_jul_05_2020.ipynb\" target=\"_parent\"><img src=\"https://colab.research.google.com/assets/colab-badge.svg\" alt=\"Open In Colab\"/></a>"
      ]
    },
    {
      "cell_type": "code",
      "metadata": {
        "colab_type": "code",
        "id": "cG5nOUQ9Eucw",
        "colab": {}
      },
      "source": [
        "# Noisy_Quartic\n",
        "# In the paper Ngen=3000 NPAR=100 RUNS=50 dim=30\n",
        "# JADE: Adaptive Differential Evolution with Optional External Archive\n"
      ],
      "execution_count": 1,
      "outputs": []
    },
    {
      "cell_type": "code",
      "metadata": {
        "colab_type": "code",
        "id": "v1OxgXboBKoG",
        "colab": {}
      },
      "source": [
        "import time\n",
        "import matplotlib.pyplot as plt\n",
        "import numpy as np\n",
        "from random import randint"
      ],
      "execution_count": 2,
      "outputs": []
    },
    {
      "cell_type": "code",
      "metadata": {
        "id": "qMRpE0dGULCI",
        "colab_type": "code",
        "colab": {
          "base_uri": "https://localhost:8080/",
          "height": 54
        },
        "outputId": "b1e860b1-1dd1-4284-a70b-af1a0940f865"
      },
      "source": [
        "!git clone https://github.com/ucfilho/Raianars_July_2020 #clonar do Github\n",
        "%cd Raianars_July_2020"
      ],
      "execution_count": 3,
      "outputs": [
        {
          "output_type": "stream",
          "text": [
            "fatal: destination path 'Raianars_July_2020' already exists and is not an empty directory.\n",
            "/content/Raianars_July_2020\n"
          ],
          "name": "stdout"
        }
      ]
    },
    {
      "cell_type": "code",
      "metadata": {
        "colab_type": "code",
        "id": "_E15mKFURR6O",
        "colab": {}
      },
      "source": [
        "import de_soma_Insight\n",
        "import de_bounds_matriz\n",
        "import Function\n",
        "import Go2MinMax\n",
        "from AvaliaX import AvaliaX\n",
        "\n",
        "\n",
        "############################### DADOS DE ENTRADA \n",
        "its=1 #10 # quantas vezes vai usar o NPAR antes de alterar de novo\n",
        "ITE=2000 #10 # PONTOS quantas vezes vai alteral NPAR \n",
        "NPAR=100 # NUMBER OF PARTICLES\n",
        "dim=30\n",
        "RUNS=50\n",
        "fchoice='Step' \n",
        "Fun=Function.Step\n",
        "\n",
        "mut=0.5\n",
        "crossp=0.5\n",
        "\n",
        "\n",
        "#fchoice='Rastrigin' #fchoice='Michalewicz' #fchoice='Schwefel'\n",
        "fchoice='Noisy_Quartic'\n",
        "Fun=Function.Noisy_Quartic\n",
        "\n",
        "MIN,MAX=Go2MinMax.Intervalo(dim,fchoice)\n",
        "\n",
        "TOTAL=10*dim*its*ITE\n",
        "SOMA=0"
      ],
      "execution_count": 4,
      "outputs": []
    },
    {
      "cell_type": "code",
      "metadata": {
        "colab_type": "code",
        "id": "rnX8ttNopd1G",
        "colab": {
          "base_uri": "https://localhost:8080/",
          "height": 926
        },
        "outputId": "f809f9f6-b27a-45f0-bf2a-a5135474febe"
      },
      "source": [
        "start_time = time.time()\n",
        "BEST_AGENTS=[]\n",
        "MAT_stat=[]\n",
        "\n",
        "for i in range(RUNS):\n",
        "\n",
        "    pop = np.random.rand(NPAR, dim)\n",
        "    diff=np.zeros(dim)\n",
        "    for ii in range(dim):\n",
        "      diff[ii] = MAX[ii]-MIN[ii]\n",
        "    X = MIN + pop * diff\n",
        "\n",
        "    for k in range(ITE):\n",
        "      X,BEST,FOBEST,XY,BEST_XY,SOMA= de_soma_Insight.de(MAX,MIN, mut, crossp,dim,its,Fun,X,SOMA,TOTAL)\n",
        "\n",
        "    start_run = (time.time()-start_time)/60\n",
        "    print('run=',i,'total=50','Fobj=',FOBEST,'Time=',start_run)  \n",
        "    BEST_AGENTS.append(BEST_XY)"
      ],
      "execution_count": 5,
      "outputs": [
        {
          "output_type": "stream",
          "text": [
            "run= 0 total=50 Fobj= 0.34824832928280514 Time= 0.37696210940678915\n",
            "run= 1 total=50 Fobj= 0.4586610352614723 Time= 0.7577309012413025\n",
            "run= 2 total=50 Fobj= 0.38574462440165985 Time= 1.1387018362681072\n",
            "run= 3 total=50 Fobj= 0.2636275593342521 Time= 1.5160873532295227\n",
            "run= 4 total=50 Fobj= 0.4869426350576169 Time= 1.8947274406750998\n",
            "run= 5 total=50 Fobj= 0.4522742793640635 Time= 2.2757166226704917\n",
            "run= 6 total=50 Fobj= 0.39708924274927776 Time= 2.6574379444122314\n",
            "run= 7 total=50 Fobj= 0.25987942171899275 Time= 3.037453063329061\n",
            "run= 8 total=50 Fobj= 0.3444886173700908 Time= 3.4119761109352114\n",
            "run= 9 total=50 Fobj= 0.43313612307579796 Time= 3.790733726819356\n",
            "run= 10 total=50 Fobj= 136.57006212792655 Time= 4.007523012161255\n",
            "run= 11 total=50 Fobj= 105.79087532794739 Time= 4.225163801511129\n",
            "run= 12 total=50 Fobj= 155.2114710293862 Time= 4.44153029123942\n",
            "run= 13 total=50 Fobj= 124.0245476490069 Time= 4.657829717795054\n",
            "run= 14 total=50 Fobj= 135.57740558071768 Time= 4.8736135522524515\n",
            "run= 15 total=50 Fobj= 125.57879075087858 Time= 5.089749614397685\n",
            "run= 16 total=50 Fobj= 68.10743713766277 Time= 5.304317168394724\n",
            "run= 17 total=50 Fobj= 63.08406201489361 Time= 5.522185862064362\n",
            "run= 18 total=50 Fobj= 137.53627762083784 Time= 5.740910379091899\n",
            "run= 19 total=50 Fobj= 125.7862759828796 Time= 5.960442586739858\n",
            "run= 20 total=50 Fobj= 119.272027815675 Time= 6.177528647581736\n",
            "run= 21 total=50 Fobj= 109.02049462580759 Time= 6.391640345255534\n",
            "run= 22 total=50 Fobj= 177.09771719815555 Time= 6.606967385609945\n",
            "run= 23 total=50 Fobj= 110.8373224148267 Time= 6.820977465311686\n",
            "run= 24 total=50 Fobj= 128.75622996802545 Time= 7.039667546749115\n",
            "run= 25 total=50 Fobj= 109.50693943719473 Time= 7.258529170354207\n",
            "run= 26 total=50 Fobj= 122.64140144098853 Time= 7.4761816461881\n",
            "run= 27 total=50 Fobj= 85.11175746832156 Time= 7.694736512502034\n",
            "run= 28 total=50 Fobj= 148.90745250517207 Time= 7.9116830945014955\n",
            "run= 29 total=50 Fobj= 166.6941569338545 Time= 8.127659372488658\n",
            "run= 30 total=50 Fobj= 128.55265713274602 Time= 8.34397219022115\n",
            "run= 31 total=50 Fobj= 120.22660078370996 Time= 8.561449257532756\n",
            "run= 32 total=50 Fobj= 85.90919162410336 Time= 8.778003215789795\n",
            "run= 33 total=50 Fobj= 124.79653224754406 Time= 8.993065098921457\n",
            "run= 34 total=50 Fobj= 92.1474753877744 Time= 9.211431316534679\n",
            "run= 35 total=50 Fobj= 101.27427177905174 Time= 9.429352366924286\n",
            "run= 36 total=50 Fobj= 177.34677059140054 Time= 9.647278579076131\n",
            "run= 37 total=50 Fobj= 79.18353975319448 Time= 9.86219341357549\n",
            "run= 38 total=50 Fobj= 123.45003283123704 Time= 10.07763112783432\n",
            "run= 39 total=50 Fobj= 123.17009374629984 Time= 10.293813832600911\n",
            "run= 40 total=50 Fobj= 102.10797350172028 Time= 10.514183966318766\n",
            "run= 41 total=50 Fobj= 98.35538934801126 Time= 10.730254626274109\n",
            "run= 42 total=50 Fobj= 83.68988496726085 Time= 10.94867836634318\n",
            "run= 43 total=50 Fobj= 76.85193309722435 Time= 11.168593366940817\n",
            "run= 44 total=50 Fobj= 94.25473340718412 Time= 11.387083144982656\n",
            "run= 45 total=50 Fobj= 112.5565862850405 Time= 11.603528587023417\n",
            "run= 46 total=50 Fobj= 137.56225808900493 Time= 11.819611851374308\n",
            "run= 47 total=50 Fobj= 103.04832758592414 Time= 12.039385239283243\n",
            "run= 48 total=50 Fobj= 115.75831801969264 Time= 12.255260896682739\n",
            "run= 49 total=50 Fobj= 140.87620112631956 Time= 12.47283614873886\n"
          ],
          "name": "stdout"
        }
      ]
    },
    {
      "cell_type": "code",
      "metadata": {
        "id": "VAbHty3zbVND",
        "colab_type": "code",
        "colab": {}
      },
      "source": [
        ""
      ],
      "execution_count": 5,
      "outputs": []
    },
    {
      "cell_type": "code",
      "metadata": {
        "colab_type": "code",
        "id": "lNSN5X-wskcx",
        "colab": {
          "base_uri": "https://localhost:8080/",
          "height": 308
        },
        "outputId": "6b0bf95d-eb59-42a1-f663-a42646fd6799"
      },
      "source": [
        "############################## Cálculo dos Parâmetros de Avaliação   \n",
        "TIME = (time.time() - start_time)/RUNS\n",
        "BEST_AGENTS=np.array(BEST_AGENTS)\n",
        "BEST_AGENTS_ST= BEST_AGENTS[BEST_AGENTS[:,-1].argsort()]\n",
        "BEST=BEST_AGENTS_ST[0]\n",
        "WORSE=BEST_AGENTS_ST[-1]\n",
        "MEAN=np.mean(BEST_AGENTS,axis=0)\n",
        "MAXFO=BEST_AGENTS[:,-1].max()\n",
        "MINFO=BEST_AGENTS[:,-1].min()\n",
        "STD=BEST_AGENTS[:,-1].std()\n",
        "\n",
        "nome='_DE_STAT_Fo-'+str(mut)+'_CRo-'+str(crossp)+'_D-'+str(dim)+'_Interv-'+str(ITE)\n",
        "print('DE_POP_VAR_F_CR','TOTAL=',TOTAL,'Iterações=',ITE*its,'Dim=', dim,\"Min/Max=\",MIN[0],\"/\",MAX[0],'_',Fun.__name__)\n",
        "print(nome, '\\n')\n",
        "#print('BEST: ',BEST)\n",
        "#print('MÉDIA: ',MEAN)\n",
        "print('MÉDIA: ',MEAN[-1])\n",
        "print('MIN __:',MINFO)\n",
        "print('MAX__: ',MAXFO)\n",
        "print('STD __:',STD)\n",
        "print(\"Tempo Médio= %.3f segundos ---\" % (TIME))\n",
        "print(RUNS,'Rodadas') \n",
        "print()\n",
        "print('BEST: ',BEST)\n",
        "# print('melhor=',BEST_AGENTS[BEST_INDEX])"
      ],
      "execution_count": 6,
      "outputs": [
        {
          "output_type": "stream",
          "text": [
            "DE_POP_VAR_F_CR TOTAL= 600000 Iterações= 2000 Dim= 30 Min/Max= -1.28 / 1.28 _ Noisy_Quartic\n",
            "_DE_STAT_Fo-0.5_CRo-0.5_D-30_Interv-2000 \n",
            "\n",
            "MÉDIA:  93.60123136404437\n",
            "MIN __: 0.25987942171899275\n",
            "MAX__:  177.34677059140054\n",
            "STD __: 52.44182032259475\n",
            "Tempo Médio= 14.968 segundos ---\n",
            "50 Rodadas\n",
            "\n",
            "BEST:  [-0.0991928  -0.11492798 -0.08953599  0.03782775 -0.01837186  0.24241034\n",
            " -0.18797415 -0.203051   -0.06991347 -0.19679067  0.02839461  0.05550851\n",
            "  0.00732835  0.11534587  0.1702748  -0.01050258 -0.14676322  0.09031764\n",
            " -0.05153758 -0.24842385  0.03447288 -0.12511983  0.17520906  0.12565119\n",
            " -0.18099024 -0.07842756  0.00242555  0.12401037  0.11982186  0.16706894\n",
            "  0.25987942]\n"
          ],
          "name": "stdout"
        }
      ]
    }
  ]
}