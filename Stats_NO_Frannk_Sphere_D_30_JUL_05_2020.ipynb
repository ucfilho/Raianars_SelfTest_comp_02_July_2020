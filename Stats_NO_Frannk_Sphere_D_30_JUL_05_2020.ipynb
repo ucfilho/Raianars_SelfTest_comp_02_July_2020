{
  "nbformat": 4,
  "nbformat_minor": 0,
  "metadata": {
    "colab": {
      "name": "Stats_NO_Frannk_Sphere_D_30_JUL_05_2020.ipynb",
      "provenance": [],
      "collapsed_sections": [],
      "authorship_tag": "ABX9TyM5J5fVA02/7NTEN/DBvJKS",
      "include_colab_link": true
    },
    "kernelspec": {
      "name": "python3",
      "display_name": "Python 3"
    }
  },
  "cells": [
    {
      "cell_type": "markdown",
      "metadata": {
        "id": "view-in-github",
        "colab_type": "text"
      },
      "source": [
        "<a href=\"https://colab.research.google.com/github/ucfilho/Raianars_SelfTest_comp_02_July_2020/blob/master/Stats_NO_Frannk_Sphere_D_30_JUL_05_2020.ipynb\" target=\"_parent\"><img src=\"https://colab.research.google.com/assets/colab-badge.svg\" alt=\"Open In Colab\"/></a>"
      ]
    },
    {
      "cell_type": "code",
      "metadata": {
        "id": "MC26Bm1UyUR5",
        "colab_type": "code",
        "colab": {
          "base_uri": "https://localhost:8080/",
          "height": 110
        },
        "outputId": "893debee-b0e2-495f-c20b-ddf7f1dd9bf8"
      },
      "source": [
        "!pip install pyade-python"
      ],
      "execution_count": null,
      "outputs": [
        {
          "output_type": "stream",
          "text": [
            "Collecting pyade-python\n",
            "  Downloading https://files.pythonhosted.org/packages/02/e7/aefff90c8de0ad3ff151d51507ec65a2988b7cce9126c342746f77615d9f/pyade_python-1.1-py3-none-any.whl\n",
            "Installing collected packages: pyade-python\n",
            "Successfully installed pyade-python-1.1\n"
          ],
          "name": "stdout"
        }
      ]
    },
    {
      "cell_type": "code",
      "metadata": {
        "id": "rRwqrtCmgzdZ",
        "colab_type": "code",
        "colab": {
          "base_uri": "https://localhost:8080/",
          "height": 237
        },
        "outputId": "88df97a0-5860-448f-c6f3-97508e922f58"
      },
      "source": [
        "!pip install PyFDE"
      ],
      "execution_count": null,
      "outputs": [
        {
          "output_type": "stream",
          "text": [
            "Collecting PyFDE\n",
            "\u001b[?25l  Downloading https://files.pythonhosted.org/packages/72/f9/87f7279554d2682e3827d39c3d3a565b2fd42f7114a779e34a601c6c5079/PyFDE-1.3.0.tar.gz (397kB)\n",
            "\u001b[K     |████████████████████████████████| 399kB 2.8MB/s \n",
            "\u001b[?25hRequirement already satisfied: numpy in /usr/local/lib/python3.6/dist-packages (from PyFDE) (1.18.5)\n",
            "Building wheels for collected packages: PyFDE\n",
            "  Building wheel for PyFDE (setup.py) ... \u001b[?25l\u001b[?25hdone\n",
            "  Created wheel for PyFDE: filename=PyFDE-1.3.0-cp36-cp36m-linux_x86_64.whl size=969292 sha256=f8a89cdb7f7784ad8cf2b6bad2ed6fa2e603d6c017b42a0c6c329f1ab4218275\n",
            "  Stored in directory: /root/.cache/pip/wheels/7d/42/ba/abf21db37934e576c74fc2c9504b5cd97eb6a99e3dec1743c0\n",
            "Successfully built PyFDE\n",
            "Installing collected packages: PyFDE\n",
            "Successfully installed PyFDE-1.3.0\n"
          ],
          "name": "stdout"
        }
      ]
    },
    {
      "cell_type": "code",
      "metadata": {
        "id": "anFukot-ypn6",
        "colab_type": "code",
        "colab": {}
      },
      "source": [
        "import pyade.ilshade \n",
        "import pyade.sade \n",
        "import pyade.jso\n",
        "import pyade.shade\n",
        "import pyade.jade \n",
        "import pyfde\n",
        "import numpy as np\n",
        "import pandas as pd\n",
        "import time"
      ],
      "execution_count": null,
      "outputs": []
    },
    {
      "cell_type": "code",
      "metadata": {
        "id": "6Oh714_-z1Ia",
        "colab_type": "code",
        "colab": {
          "base_uri": "https://localhost:8080/",
          "height": 163
        },
        "outputId": "2f36ed07-940b-4b1d-e584-bcb15a198918"
      },
      "source": [
        "!git clone https://github.com/ucfilho/Raianars_July_2020 #clonar do Github\n",
        "%cd Raianars_July_2020"
      ],
      "execution_count": null,
      "outputs": [
        {
          "output_type": "stream",
          "text": [
            "Cloning into 'Raianars_July_2020'...\n",
            "remote: Enumerating objects: 3, done.\u001b[K\n",
            "remote: Counting objects:  33% (1/3)\u001b[K\rremote: Counting objects:  66% (2/3)\u001b[K\rremote: Counting objects: 100% (3/3)\u001b[K\rremote: Counting objects: 100% (3/3), done.\u001b[K\n",
            "remote: Compressing objects:  33% (1/3)\u001b[K\rremote: Compressing objects:  66% (2/3)\u001b[K\rremote: Compressing objects: 100% (3/3)\u001b[K\rremote: Compressing objects: 100% (3/3), done.\u001b[K\n",
            "Receiving objects:   0% (1/126)   \rReceiving objects:   1% (2/126)   \rReceiving objects:   2% (3/126)   \rReceiving objects:   3% (4/126)   \rReceiving objects:   4% (6/126)   \rReceiving objects:   5% (7/126)   \rReceiving objects:   6% (8/126)   \rReceiving objects:   7% (9/126)   \rReceiving objects:   8% (11/126)   \rReceiving objects:   9% (12/126)   \rReceiving objects:  10% (13/126)   \rReceiving objects:  11% (14/126)   \rReceiving objects:  12% (16/126)   \rReceiving objects:  13% (17/126)   \rReceiving objects:  14% (18/126)   \rReceiving objects:  15% (19/126)   \rReceiving objects:  16% (21/126)   \rReceiving objects:  17% (22/126)   \rReceiving objects:  18% (23/126)   \rReceiving objects:  19% (24/126)   \rReceiving objects:  20% (26/126)   \rReceiving objects:  21% (27/126)   \rReceiving objects:  22% (28/126)   \rReceiving objects:  23% (29/126)   \rReceiving objects:  24% (31/126)   \rReceiving objects:  25% (32/126)   \rReceiving objects:  26% (33/126)   \rReceiving objects:  27% (35/126)   \rReceiving objects:  28% (36/126)   \rReceiving objects:  29% (37/126)   \rReceiving objects:  30% (38/126)   \rReceiving objects:  31% (40/126)   \rReceiving objects:  32% (41/126)   \rReceiving objects:  33% (42/126)   \rReceiving objects:  34% (43/126)   \rReceiving objects:  35% (45/126)   \rReceiving objects:  36% (46/126)   \rReceiving objects:  37% (47/126)   \rReceiving objects:  38% (48/126)   \rReceiving objects:  39% (50/126)   \rReceiving objects:  40% (51/126)   \rReceiving objects:  41% (52/126)   \rremote: Total 126 (delta 0), reused 0 (delta 0), pack-reused 123\u001b[K\n",
            "Receiving objects:  42% (53/126)   \rReceiving objects:  43% (55/126)   \rReceiving objects:  44% (56/126)   \rReceiving objects:  45% (57/126)   \rReceiving objects:  46% (58/126)   \rReceiving objects:  47% (60/126)   \rReceiving objects:  48% (61/126)   \rReceiving objects:  49% (62/126)   \rReceiving objects:  50% (63/126)   \rReceiving objects:  51% (65/126)   \rReceiving objects:  52% (66/126)   \rReceiving objects:  53% (67/126)   \rReceiving objects:  54% (69/126)   \rReceiving objects:  55% (70/126)   \rReceiving objects:  56% (71/126)   \rReceiving objects:  57% (72/126)   \rReceiving objects:  58% (74/126)   \rReceiving objects:  59% (75/126)   \rReceiving objects:  60% (76/126)   \rReceiving objects:  61% (77/126)   \rReceiving objects:  62% (79/126)   \rReceiving objects:  63% (80/126)   \rReceiving objects:  64% (81/126)   \rReceiving objects:  65% (82/126)   \rReceiving objects:  66% (84/126)   \rReceiving objects:  67% (85/126)   \rReceiving objects:  68% (86/126)   \rReceiving objects:  69% (87/126)   \rReceiving objects:  70% (89/126)   \rReceiving objects:  71% (90/126)   \rReceiving objects:  72% (91/126)   \rReceiving objects:  73% (92/126)   \rReceiving objects:  74% (94/126)   \rReceiving objects:  75% (95/126)   \rReceiving objects:  76% (96/126)   \rReceiving objects:  77% (98/126)   \rReceiving objects:  78% (99/126)   \rReceiving objects:  79% (100/126)   \rReceiving objects:  80% (101/126)   \rReceiving objects:  81% (103/126)   \rReceiving objects:  82% (104/126)   \rReceiving objects:  83% (105/126)   \rReceiving objects:  84% (106/126)   \rReceiving objects:  85% (108/126)   \rReceiving objects:  86% (109/126)   \rReceiving objects:  87% (110/126)   \rReceiving objects:  88% (111/126)   \rReceiving objects:  89% (113/126)   \rReceiving objects:  90% (114/126)   \rReceiving objects:  91% (115/126)   \rReceiving objects:  92% (116/126)   \rReceiving objects:  93% (118/126)   \rReceiving objects:  94% (119/126)   \rReceiving objects:  95% (120/126)   \rReceiving objects:  96% (121/126)   \rReceiving objects:  97% (123/126)   \rReceiving objects:  98% (124/126)   \rReceiving objects:  99% (125/126)   \rReceiving objects: 100% (126/126)   \rReceiving objects: 100% (126/126), 198.23 KiB | 5.66 MiB/s, done.\n",
            "Resolving deltas:   0% (0/62)   \rResolving deltas:   9% (6/62)   \rResolving deltas:  64% (40/62)   \rResolving deltas:  79% (49/62)   \rResolving deltas:  82% (51/62)   \rResolving deltas:  88% (55/62)   \rResolving deltas: 100% (62/62)   \rResolving deltas: 100% (62/62), done.\n",
            "/content/Raianars_July_2020\n"
          ],
          "name": "stdout"
        }
      ]
    },
    {
      "cell_type": "code",
      "metadata": {
        "id": "LnzftXkky78A",
        "colab_type": "code",
        "colab": {}
      },
      "source": [
        "import Go2Ann\n",
        "import de_soma_Insight\n",
        "import de_bounds_matriz\n",
        "from AvaliaX import AvaliaX\n",
        "from GeraIndices import GeraIndices"
      ],
      "execution_count": null,
      "outputs": []
    },
    {
      "cell_type": "code",
      "metadata": {
        "id": "HNW92728z7fR",
        "colab_type": "code",
        "colab": {}
      },
      "source": [
        "import Function\n",
        "import Go2MinMax"
      ],
      "execution_count": null,
      "outputs": []
    },
    {
      "cell_type": "code",
      "metadata": {
        "id": "T_C-e7aH0CZH",
        "colab_type": "code",
        "colab": {}
      },
      "source": [
        "ITE=1500 #10 # PONTOS quantas vezes vai alteral NPAR \n",
        "NPAR=100 # NUMBER OF PARTICLES\n",
        "dim=30\n",
        "RUNS=50\n",
        "fchoice='Sphere'  #f2\n",
        "Fun=Function.Sphere\n",
        "\n",
        "MIN,MAX=Go2MinMax.Intervalo(dim,fchoice)\n",
        "bounds = [(0,0)]*dim\n",
        "\n",
        "for i in range(dim):\n",
        "  bounds[i] = (MIN[i],MAX[i])"
      ],
      "execution_count": null,
      "outputs": []
    },
    {
      "cell_type": "code",
      "metadata": {
        "id": "Nqv5qp9yzQEw",
        "colab_type": "code",
        "colab": {}
      },
      "source": [
        "############################### INPUT INFORMATION (FRANNK)\n",
        "Fc=0.1 # fator de correcao parametros da ANN\n",
        "its=1 #10 # quantas vezes vai usar o NPAR antes de alterar de novo\n",
        "mut=0.5\n",
        "crossp=0.5\n",
        "Fi=mut;CRi=crossp;# para impressão\n",
        "PAR=len(MAX) #NUM DE PARAMETROS A SER OTIMIZADOS"
      ],
      "execution_count": null,
      "outputs": []
    },
    {
      "cell_type": "code",
      "metadata": {
        "id": "WkbM98uny0QY",
        "colab_type": "code",
        "colab": {
          "base_uri": "https://localhost:8080/",
          "height": 308
        },
        "outputId": "20db3149-88b4-4982-fe0a-c35b723b4939"
      },
      "source": [
        "# IL-Shade\n",
        "\n",
        "BEST_AGENTS=[]\n",
        "start_time = time.time() \n",
        "for i in range(RUNS):\n",
        "  ANSWER_AGENTS=[]\n",
        "  algorithm = pyade.ilshade \n",
        "  params = algorithm.get_default_params(dim=dim) \n",
        "  params['bounds'] = np.array(bounds)\n",
        "  params['max_evals'] = ITE \n",
        "  params['func'] = Fun\n",
        "  params['max_evals'] = ITE\n",
        "  best, fit = algorithm.apply(**params)\n",
        "  for x in best:\n",
        "    ANSWER_AGENTS.append(x)\n",
        "  ANSWER_AGENTS.append(fit)\n",
        "  BEST_AGENTS.append(ANSWER_AGENTS)\n",
        "BEST_AGENTS=np.array(BEST_AGENTS)\n",
        "TIME = (time.time() - start_time)/RUNS\n",
        "BEST_AGENTS=np.array(BEST_AGENTS)\n",
        "BEST_AGENTS_ST= BEST_AGENTS[BEST_AGENTS[:,-1].argsort()]\n",
        "BEST=BEST_AGENTS_ST[0]\n",
        "WORSE=BEST_AGENTS_ST[-1]\n",
        "MEAN=np.mean(BEST_AGENTS,axis=0)\n",
        "MAXFO=BEST_AGENTS[:,-1].max()\n",
        "MINFO=BEST_AGENTS[:,-1].min()\n",
        "STD=BEST_AGENTS[:,-1].std()\n",
        "nome='IL-Shade_Fo-'+str(0)+'_CRo-'+str(0)\n",
        "print(nome,'NPAR',NPAR,'Iterações=',ITE,'Dim=',dim ,\"Min/Max=\",MIN[0],\"/\",MAX[0],'_',Fun.__name__)\n",
        "print( '\\n')\n",
        "print('MÉDIA: ',MEAN[-1])\n",
        "print('MIN __:',MINFO)\n",
        "print('MAX__: ',MAXFO)\n",
        "print('STD __:',STD)\n",
        "print(\"Tempo Médio= %.3f segundos ---\" % (TIME))\n",
        "print(RUNS,'Rodadas') \n",
        "print()\n",
        "print('BEST: ',BEST)"
      ],
      "execution_count": null,
      "outputs": [
        {
          "output_type": "stream",
          "text": [
            "IL-Shade_Fo-0_CRo-0 NPAR 100 Iterações= 1500 Dim= 30 Min/Max= -5.12 / 5.12 _ Sphere\n",
            "\n",
            "\n",
            "MÉDIA:  0.587234554512058\n",
            "MIN __: 0.3278665830866958\n",
            "MAX__:  1.0663295774278208\n",
            "STD __: 0.1553232767843403\n",
            "Tempo Médio= 0.125 segundos ---\n",
            "50 Rodadas\n",
            "\n",
            "BEST:  [ 0.17883548  0.11773227  0.0578551  -0.02012163 -0.00472247  0.16822029\n",
            "  0.06039461 -0.07197491 -0.03977628 -0.07017832 -0.10355616  0.18194735\n",
            " -0.03558016 -0.13165425 -0.09126884  0.03235797 -0.04948095 -0.06586114\n",
            " -0.08256044  0.18981331  0.01657231  0.01185566  0.15216707  0.06683486\n",
            " -0.11915467  0.25773694  0.06196661 -0.01561022  0.01639576  0.01283383\n",
            "  0.32786658]\n"
          ],
          "name": "stdout"
        }
      ]
    },
    {
      "cell_type": "code",
      "metadata": {
        "id": "v4dbY4tSsFMb",
        "colab_type": "code",
        "colab": {
          "base_uri": "https://localhost:8080/",
          "height": 308
        },
        "outputId": "90244879-ae94-4ac5-bede-54adedd3ecfc"
      },
      "source": [
        "# Jso\n",
        "\n",
        "BEST_AGENTS=[]\n",
        "start_time = time.time() \n",
        "for i in range(RUNS):\n",
        "  ANSWER_AGENTS=[]\n",
        "  algorithm = pyade.jso\n",
        "  params = algorithm.get_default_params(dim=dim) \n",
        "  params['bounds'] = np.array(bounds)\n",
        "  params['max_evals'] = ITE \n",
        "  params['func'] = Fun\n",
        "  best, fit = algorithm.apply(**params)\n",
        "  for x in best:\n",
        "    ANSWER_AGENTS.append(x)\n",
        "  ANSWER_AGENTS.append(fit)\n",
        "  BEST_AGENTS.append(ANSWER_AGENTS)\n",
        "BEST_AGENTS=np.array(BEST_AGENTS)\n",
        "TIME = (time.time() - start_time)/RUNS\n",
        "BEST_AGENTS=np.array(BEST_AGENTS)\n",
        "BEST_AGENTS_ST= BEST_AGENTS[BEST_AGENTS[:,-1].argsort()]\n",
        "BEST=BEST_AGENTS_ST[0]\n",
        "WORSE=BEST_AGENTS_ST[-1]\n",
        "MEAN=np.mean(BEST_AGENTS,axis=0)\n",
        "MAXFO=BEST_AGENTS[:,-1].max()\n",
        "MINFO=BEST_AGENTS[:,-1].min()\n",
        "STD=BEST_AGENTS[:,-1].std()\n",
        "nome='Jso-'+str(0)+'_CRo-'+str(0)\n",
        "print(nome,'NPAR',NPAR,'Iterações=',ITE,'Dim=',dim ,\"Min/Max=\",MIN[0],\"/\",MAX[0],'_',Fun.__name__)\n",
        "print( '\\n')\n",
        "print('MÉDIA: ',MEAN[-1])\n",
        "print('MIN __:',MINFO)\n",
        "print('MAX__: ',MAXFO)\n",
        "print('STD __:',STD)\n",
        "print(\"Tempo Médio= %.3f segundos ---\" % (TIME))\n",
        "print(RUNS,'Rodadas') \n",
        "print()\n",
        "print('BEST: ',BEST)"
      ],
      "execution_count": null,
      "outputs": [
        {
          "output_type": "stream",
          "text": [
            "Jso-0_CRo-0 NPAR 100 Iterações= 1500 Dim= 30 Min/Max= -5.12 / 5.12 _ Sphere\n",
            "\n",
            "\n",
            "MÉDIA:  1.0410534893747383\n",
            "MIN __: 0.5331792392504198\n",
            "MAX__:  1.7047447350900526\n",
            "STD __: 0.24608345338799345\n",
            "Tempo Médio= 0.078 segundos ---\n",
            "50 Rodadas\n",
            "\n",
            "BEST:  [-0.07550488 -0.20433446 -0.19008247  0.07075544 -0.1396105  -0.03305726\n",
            " -0.04716599  0.24836221 -0.31743946 -0.00595934 -0.03748479  0.10252828\n",
            " -0.00522221  0.13084258 -0.31979388 -0.14141712 -0.0458124   0.06150937\n",
            "  0.02888247  0.06212557 -0.06440351  0.02519913  0.04539151  0.06706296\n",
            "  0.00529904  0.01297486  0.02271379 -0.16944745  0.23192389  0.05320877\n",
            "  0.53317924]\n"
          ],
          "name": "stdout"
        }
      ]
    },
    {
      "cell_type": "code",
      "metadata": {
        "id": "ZkV_dpDa14C8",
        "colab_type": "code",
        "colab": {
          "base_uri": "https://localhost:8080/",
          "height": 345
        },
        "outputId": "7dbeacfc-7dd0-4895-d63a-6c40b0c13d21"
      },
      "source": [
        "# Sade\n",
        "\n",
        "BEST_AGENTS=[]\n",
        "start_time = time.time() \n",
        "for i in range(RUNS):\n",
        "  ANSWER_AGENTS=[]\n",
        "  algorithm = pyade.sade\n",
        "  params = algorithm.get_default_params(dim=dim) \n",
        "  params['bounds'] = np.array(bounds)\n",
        "  params['max_evals'] = ITE \n",
        "  params['func'] = Fun\n",
        "  best, fit = algorithm.apply(**params)\n",
        "  for x in best:\n",
        "    ANSWER_AGENTS.append(x)\n",
        "  ANSWER_AGENTS.append(fit)\n",
        "  BEST_AGENTS.append(ANSWER_AGENTS)\n",
        "BEST_AGENTS=np.array(BEST_AGENTS)\n",
        "TIME = (time.time() - start_time)/RUNS\n",
        "BEST_AGENTS=np.array(BEST_AGENTS)\n",
        "BEST_AGENTS_ST= BEST_AGENTS[BEST_AGENTS[:,-1].argsort()]\n",
        "BEST=BEST_AGENTS_ST[0]\n",
        "WORSE=BEST_AGENTS_ST[-1]\n",
        "MEAN=np.mean(BEST_AGENTS,axis=0)\n",
        "MAXFO=BEST_AGENTS[:,-1].max()\n",
        "MINFO=BEST_AGENTS[:,-1].min()\n",
        "STD=BEST_AGENTS[:,-1].std()\n",
        "nome='Sade_Fo-'+str(0)+'_CRo-'+str(0)\n",
        "print(nome,'NPAR',NPAR,'Iterações=',ITE,'Dim=',dim ,\"Min/Max=\",MIN[0],\"/\",MAX[0],'_',Fun.__name__)\n",
        "print( '\\n')\n",
        "print('MÉDIA: ',MEAN[-1])\n",
        "print('MIN __:',MINFO)\n",
        "print('MAX__: ',MAXFO)\n",
        "print('STD __:',STD)\n",
        "print(\"Tempo Médio= %.3f segundos ---\" % (TIME))\n",
        "print(RUNS,'Rodadas') \n",
        "print()\n",
        "print('BEST: ',BEST)"
      ],
      "execution_count": null,
      "outputs": [
        {
          "output_type": "stream",
          "text": [
            "Sade_Fo-0_CRo-0 NPAR 100 Iterações= 1500 Dim= 30 Min/Max= -5.12 / 5.12 _ Sphere\n",
            "\n",
            "\n",
            "MÉDIA:  8.28272316070741\n",
            "MIN __: 5.293861844240701\n",
            "MAX__:  10.427105166811359\n",
            "STD __: 1.1191620445316282\n",
            "Tempo Médio= 0.071 segundos ---\n",
            "50 Rodadas\n",
            "\n",
            "BEST:  [ 2.32588480e-01 -2.29094163e-01  1.46295041e-01  2.18448541e-01\n",
            " -2.13372578e-01 -1.09672750e-01 -1.74303423e-01 -1.63408991e-01\n",
            "  3.62911718e-02  1.98145022e-01 -1.59348933e-01  4.51676379e-01\n",
            "  8.64034383e-02  1.67022421e-01  1.04144891e-01 -2.71996636e-03\n",
            " -2.56264714e-01  1.62478344e-01  1.09951036e-01 -5.33559949e-01\n",
            " -3.50583534e-02 -5.93001892e-01  6.28519461e-01  1.57525508e+00\n",
            "  7.98949706e-01 -3.14124082e-01  1.51747384e-01 -2.42549383e-01\n",
            " -4.98709076e-01  3.95697258e-02  5.29386184e+00]\n"
          ],
          "name": "stdout"
        }
      ]
    },
    {
      "cell_type": "code",
      "metadata": {
        "id": "q77YsFa82zFU",
        "colab_type": "code",
        "colab": {
          "base_uri": "https://localhost:8080/",
          "height": 345
        },
        "outputId": "2cb01d22-88d7-4167-998f-726ac3880532"
      },
      "source": [
        "# JADE\n",
        "algorithm = pyade.jso\n",
        "BEST_AGENTS=[]\n",
        "for i in range(RUNS):\n",
        "  ANSWER_AGENTS=[]\n",
        "  solver = pyfde.JADE(Fun, n_dim=dim, n_pop=NPAR, limits=bounds, minimize=True)\n",
        "  solver.p = 0.05\n",
        "  solver.c = 0.1\n",
        "  solver.cr = 0.5\n",
        "  solver.f = 0.5\n",
        "  best, fit = solver.run(n_it=ITE)\n",
        "  fit=(-1)*fit\n",
        "  for x in best:\n",
        "    ANSWER_AGENTS.append(x)\n",
        "  ANSWER_AGENTS.append(fit)\n",
        "  BEST_AGENTS.append(ANSWER_AGENTS)\n",
        "BEST_AGENTS=np.array(BEST_AGENTS)\n",
        "TIME = (time.time() - start_time)/RUNS\n",
        "BEST_AGENTS=np.array(BEST_AGENTS)\n",
        "BEST_AGENTS_ST= BEST_AGENTS[BEST_AGENTS[:,-1].argsort()]\n",
        "BEST=BEST_AGENTS_ST[0]\n",
        "WORSE=BEST_AGENTS_ST[-1]\n",
        "MEAN=np.mean(BEST_AGENTS,axis=0)\n",
        "MAXFO=BEST_AGENTS[:,-1].max()\n",
        "MINFO=BEST_AGENTS[:,-1].min()\n",
        "STD=BEST_AGENTS[:,-1].std()\n",
        "nome='JADE_Fo-'+str(0)+'_CRo-'+str(0)\n",
        "print(nome,'NPAR',NPAR,'Iterações=',ITE,'Dim=',dim ,\"Min/Max=\",MIN[0],\"/\",MAX[0],'_',Fun.__name__)\n",
        "print( '\\n')\n",
        "print('MÉDIA: ',MEAN[-1])\n",
        "print('MIN __:',MINFO)\n",
        "print('MAX__: ',MAXFO)\n",
        "print('STD __:',STD)\n",
        "print(\"Tempo Médio= %.3f segundos ---\" % (TIME))\n",
        "print(RUNS,'Rodadas') \n",
        "print()\n",
        "print('BEST: ',BEST)"
      ],
      "execution_count": null,
      "outputs": [
        {
          "output_type": "stream",
          "text": [
            "JADE_Fo-0_CRo-0 NPAR 100 Iterações= 1500 Dim= 30 Min/Max= -5.12 / 5.12 _ Sphere\n",
            "\n",
            "\n",
            "MÉDIA:  9.043954116893706e-66\n",
            "MIN __: 3.093357179808408e-74\n",
            "MAX__:  1.900851155393542e-64\n",
            "STD __: 3.7248714571058254e-65\n",
            "Tempo Médio= 1.614 segundos ---\n",
            "50 Rodadas\n",
            "\n",
            "BEST:  [ 6.98561885e-39  3.64402615e-38 -3.10706414e-38 -4.10178638e-38\n",
            " -2.10345050e-38  5.17556812e-39  3.30662687e-39 -3.39161399e-38\n",
            " -5.02101430e-38  7.09131673e-39  1.29346468e-38  1.46443023e-38\n",
            " -4.14867813e-39  2.65768307e-38  1.12881763e-38 -3.24149784e-38\n",
            "  5.93828548e-38 -1.00768316e-38 -4.35469452e-39 -2.45919871e-38\n",
            " -4.36115330e-38 -3.24068627e-38  1.30168481e-38  1.10547485e-38\n",
            "  5.38190315e-38 -5.33607025e-38  2.03586101e-38  5.96051503e-38\n",
            " -5.64299915e-38 -5.73592747e-39  3.09335718e-74]\n"
          ],
          "name": "stdout"
        }
      ]
    }
  ]
}