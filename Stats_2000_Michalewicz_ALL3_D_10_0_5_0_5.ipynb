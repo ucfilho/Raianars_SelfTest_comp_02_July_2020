{
  "nbformat": 4,
  "nbformat_minor": 0,
  "metadata": {
    "colab": {
      "name": "Stats_2000_Michalewicz_ALL3_D_10_0.5_0.5.ipynb",
      "provenance": [],
      "collapsed_sections": [],
      "include_colab_link": true
    },
    "kernelspec": {
      "name": "python3",
      "display_name": "Python 3"
    }
  },
  "cells": [
    {
      "cell_type": "markdown",
      "metadata": {
        "id": "view-in-github",
        "colab_type": "text"
      },
      "source": [
        "<a href=\"https://colab.research.google.com/github/ucfilho/Raianars_SelfTest_comp_02_July_2020/blob/master/Stats_2000_Michalewicz_ALL3_D_10_0_5_0_5.ipynb\" target=\"_parent\"><img src=\"https://colab.research.google.com/assets/colab-badge.svg\" alt=\"Open In Colab\"/></a>"
      ]
    },
    {
      "cell_type": "code",
      "metadata": {
        "id": "MC26Bm1UyUR5",
        "colab_type": "code",
        "colab": {
          "base_uri": "https://localhost:8080/",
          "height": 34
        },
        "outputId": "aa2f1abb-9628-4179-9937-681af3e642a9"
      },
      "source": [
        "!pip install pyade-python"
      ],
      "execution_count": 26,
      "outputs": [
        {
          "output_type": "stream",
          "text": [
            "Requirement already satisfied: pyade-python in /usr/local/lib/python3.6/dist-packages (1.1)\n"
          ],
          "name": "stdout"
        }
      ]
    },
    {
      "cell_type": "code",
      "metadata": {
        "id": "rRwqrtCmgzdZ",
        "colab_type": "code",
        "colab": {
          "base_uri": "https://localhost:8080/",
          "height": 52
        },
        "outputId": "b521cc3e-7cd6-477e-f70d-205228989d66"
      },
      "source": [
        "!pip install PyFDE"
      ],
      "execution_count": 27,
      "outputs": [
        {
          "output_type": "stream",
          "text": [
            "Requirement already satisfied: PyFDE in /usr/local/lib/python3.6/dist-packages (1.3.0)\n",
            "Requirement already satisfied: numpy in /usr/local/lib/python3.6/dist-packages (from PyFDE) (1.18.5)\n"
          ],
          "name": "stdout"
        }
      ]
    },
    {
      "cell_type": "code",
      "metadata": {
        "id": "anFukot-ypn6",
        "colab_type": "code",
        "colab": {}
      },
      "source": [
        "import pyade.ilshade \n",
        "import pyade.sade \n",
        "import pyade.jso\n",
        "import pyade.shade\n",
        "import pyade.jade \n",
        "import pyfde\n",
        "import numpy as np\n",
        "import pandas as pd\n",
        "import time"
      ],
      "execution_count": 28,
      "outputs": []
    },
    {
      "cell_type": "code",
      "metadata": {
        "id": "6Oh714_-z1Ia",
        "colab_type": "code",
        "colab": {
          "base_uri": "https://localhost:8080/",
          "height": 158
        },
        "outputId": "9e04d8aa-137c-4201-96e5-601f7a28d527"
      },
      "source": [
        "!git clone https://github.com/ucfilho/Raianars_July_2020 #clonar do Github\n",
        "%cd Raianars_July_2020"
      ],
      "execution_count": 29,
      "outputs": [
        {
          "output_type": "stream",
          "text": [
            "Cloning into 'Raianars_July_2020'...\n",
            "remote: Enumerating objects: 24, done.\u001b[K\n",
            "remote: Counting objects:   4% (1/24)\u001b[K\rremote: Counting objects:   8% (2/24)\u001b[K\rremote: Counting objects:  12% (3/24)\u001b[K\rremote: Counting objects:  16% (4/24)\u001b[K\rremote: Counting objects:  20% (5/24)\u001b[K\rremote: Counting objects:  25% (6/24)\u001b[K\rremote: Counting objects:  29% (7/24)\u001b[K\rremote: Counting objects:  33% (8/24)\u001b[K\rremote: Counting objects:  37% (9/24)\u001b[K\rremote: Counting objects:  41% (10/24)\u001b[K\rremote: Counting objects:  45% (11/24)\u001b[K\rremote: Counting objects:  50% (12/24)\u001b[K\rremote: Counting objects:  54% (13/24)\u001b[K\rremote: Counting objects:  58% (14/24)\u001b[K\rremote: Counting objects:  62% (15/24)\u001b[K\rremote: Counting objects:  66% (16/24)\u001b[K\rremote: Counting objects:  70% (17/24)\u001b[K\rremote: Counting objects:  75% (18/24)\u001b[K\rremote: Counting objects:  79% (19/24)\u001b[K\rremote: Counting objects:  83% (20/24)\u001b[K\rremote: Counting objects:  87% (21/24)\u001b[K\rremote: Counting objects:  91% (22/24)\u001b[K\rremote: Counting objects:  95% (23/24)\u001b[K\rremote: Counting objects: 100% (24/24)\u001b[K\rremote: Counting objects: 100% (24/24), done.\u001b[K\n",
            "remote: Compressing objects:   4% (1/24)\u001b[K\rremote: Compressing objects:   8% (2/24)\u001b[K\rremote: Compressing objects:  12% (3/24)\u001b[K\rremote: Compressing objects:  16% (4/24)\u001b[K\rremote: Compressing objects:  20% (5/24)\u001b[K\rremote: Compressing objects:  25% (6/24)\u001b[K\rremote: Compressing objects:  29% (7/24)\u001b[K\rremote: Compressing objects:  33% (8/24)\u001b[K\rremote: Compressing objects:  37% (9/24)\u001b[K\rremote: Compressing objects:  41% (10/24)\u001b[K\rremote: Compressing objects:  45% (11/24)\u001b[K\rremote: Compressing objects:  50% (12/24)\u001b[K\rremote: Compressing objects:  54% (13/24)\u001b[K\rremote: Compressing objects:  58% (14/24)\u001b[K\rremote: Compressing objects:  62% (15/24)\u001b[K\rremote: Compressing objects:  66% (16/24)\u001b[K\rremote: Compressing objects:  70% (17/24)\u001b[K\rremote: Compressing objects:  75% (18/24)\u001b[K\rremote: Compressing objects:  79% (19/24)\u001b[K\rremote: Compressing objects:  83% (20/24)\u001b[K\rremote: Compressing objects:  87% (21/24)\u001b[K\rremote: Compressing objects:  91% (22/24)\u001b[K\rremote: Compressing objects:  95% (23/24)\u001b[K\rremote: Compressing objects: 100% (24/24)\u001b[K\rremote: Compressing objects: 100% (24/24), done.\u001b[K\n",
            "Receiving objects:   0% (1/147)   \rReceiving objects:   1% (2/147)   \rReceiving objects:   2% (3/147)   \rReceiving objects:   3% (5/147)   \rReceiving objects:   4% (6/147)   \rReceiving objects:   5% (8/147)   \rReceiving objects:   6% (9/147)   \rReceiving objects:   7% (11/147)   \rReceiving objects:   8% (12/147)   \rReceiving objects:   9% (14/147)   \rReceiving objects:  10% (15/147)   \rReceiving objects:  11% (17/147)   \rReceiving objects:  12% (18/147)   \rReceiving objects:  13% (20/147)   \rReceiving objects:  14% (21/147)   \rReceiving objects:  15% (23/147)   \rReceiving objects:  16% (24/147)   \rReceiving objects:  17% (25/147)   \rReceiving objects:  18% (27/147)   \rReceiving objects:  19% (28/147)   \rReceiving objects:  20% (30/147)   \rReceiving objects:  21% (31/147)   \rReceiving objects:  22% (33/147)   \rReceiving objects:  23% (34/147)   \rReceiving objects:  24% (36/147)   \rReceiving objects:  25% (37/147)   \rReceiving objects:  26% (39/147)   \rReceiving objects:  27% (40/147)   \rReceiving objects:  28% (42/147)   \rReceiving objects:  29% (43/147)   \rReceiving objects:  30% (45/147)   \rReceiving objects:  31% (46/147)   \rReceiving objects:  32% (48/147)   \rReceiving objects:  33% (49/147)   \rReceiving objects:  34% (50/147)   \rremote: Total 147 (delta 12), reused 0 (delta 0), pack-reused 123\u001b[K\n",
            "Receiving objects:  35% (52/147)   \rReceiving objects:  36% (53/147)   \rReceiving objects:  37% (55/147)   \rReceiving objects:  38% (56/147)   \rReceiving objects:  39% (58/147)   \rReceiving objects:  40% (59/147)   \rReceiving objects:  41% (61/147)   \rReceiving objects:  42% (62/147)   \rReceiving objects:  43% (64/147)   \rReceiving objects:  44% (65/147)   \rReceiving objects:  45% (67/147)   \rReceiving objects:  46% (68/147)   \rReceiving objects:  47% (70/147)   \rReceiving objects:  48% (71/147)   \rReceiving objects:  49% (73/147)   \rReceiving objects:  50% (74/147)   \rReceiving objects:  51% (75/147)   \rReceiving objects:  52% (77/147)   \rReceiving objects:  53% (78/147)   \rReceiving objects:  54% (80/147)   \rReceiving objects:  55% (81/147)   \rReceiving objects:  56% (83/147)   \rReceiving objects:  57% (84/147)   \rReceiving objects:  58% (86/147)   \rReceiving objects:  59% (87/147)   \rReceiving objects:  60% (89/147)   \rReceiving objects:  61% (90/147)   \rReceiving objects:  62% (92/147)   \rReceiving objects:  63% (93/147)   \rReceiving objects:  64% (95/147)   \rReceiving objects:  65% (96/147)   \rReceiving objects:  66% (98/147)   \rReceiving objects:  67% (99/147)   \rReceiving objects:  68% (100/147)   \rReceiving objects:  69% (102/147)   \rReceiving objects:  70% (103/147)   \rReceiving objects:  71% (105/147)   \rReceiving objects:  72% (106/147)   \rReceiving objects:  73% (108/147)   \rReceiving objects:  74% (109/147)   \rReceiving objects:  75% (111/147)   \rReceiving objects:  76% (112/147)   \rReceiving objects:  77% (114/147)   \rReceiving objects:  78% (115/147)   \rReceiving objects:  79% (117/147)   \rReceiving objects:  80% (118/147)   \rReceiving objects:  81% (120/147)   \rReceiving objects:  82% (121/147)   \rReceiving objects:  83% (123/147)   \rReceiving objects:  84% (124/147)   \rReceiving objects:  85% (125/147)   \rReceiving objects:  86% (127/147)   \rReceiving objects:  87% (128/147)   \rReceiving objects:  88% (130/147)   \rReceiving objects:  89% (131/147)   \rReceiving objects:  90% (133/147)   \rReceiving objects:  91% (134/147)   \rReceiving objects:  92% (136/147)   \rReceiving objects:  93% (137/147)   \rReceiving objects:  94% (139/147)   \rReceiving objects:  95% (140/147)   \rReceiving objects:  96% (142/147)   \rReceiving objects:  97% (143/147)   \rReceiving objects:  98% (145/147)   \rReceiving objects:  99% (146/147)   \rReceiving objects: 100% (147/147)   \rReceiving objects: 100% (147/147), 204.22 KiB | 12.01 MiB/s, done.\n",
            "Resolving deltas:   0% (0/74)   \rResolving deltas:   9% (7/74)   \rResolving deltas:  54% (40/74)   \rResolving deltas:  68% (51/74)   \rResolving deltas:  71% (53/74)   \rResolving deltas:  72% (54/74)   \rResolving deltas:  86% (64/74)   \rResolving deltas:  95% (71/74)   \rResolving deltas:  97% (72/74)   \rResolving deltas:  98% (73/74)   \rResolving deltas: 100% (74/74)   \rResolving deltas: 100% (74/74), done.\n",
            "/content/Raianars_July_2020/ANN_read_matrix/Raianars_July_2020/Raianars_July_2020/ANN_read_matrix/Raianars_July_2020\n"
          ],
          "name": "stdout"
        }
      ]
    },
    {
      "cell_type": "code",
      "metadata": {
        "id": "LnzftXkky78A",
        "colab_type": "code",
        "colab": {}
      },
      "source": [
        "import Go2Ann\n",
        "import de_soma_Insight\n",
        "import de_bounds_matriz\n",
        "from AvaliaX import AvaliaX\n",
        "from GeraIndices import GeraIndices"
      ],
      "execution_count": 30,
      "outputs": []
    },
    {
      "cell_type": "code",
      "metadata": {
        "id": "HNW92728z7fR",
        "colab_type": "code",
        "colab": {}
      },
      "source": [
        "import Function\n",
        "import Go2MinMax"
      ],
      "execution_count": 31,
      "outputs": []
    },
    {
      "cell_type": "code",
      "metadata": {
        "id": "T_C-e7aH0CZH",
        "colab_type": "code",
        "colab": {}
      },
      "source": [
        "ITE=2000 #10 # PONTOS quantas vezes vai alteral NPAR \n",
        "NPAR=100 # NUMBER OF PARTICLES\n",
        "dim=10\n",
        "RUNS=50\n",
        "fchoice='Michalewicz'  #MS\n",
        "Fun=Function.Michalewicz\n",
        "\n",
        "MIN,MAX=Go2MinMax.Intervalo(dim,fchoice)\n",
        "bounds = [(0,0)]*dim\n",
        "\n",
        "for i in range(dim):\n",
        "  bounds[i] = (MIN[i],MAX[i])\n",
        "\n",
        "start_time = time.time() "
      ],
      "execution_count": 32,
      "outputs": []
    },
    {
      "cell_type": "code",
      "metadata": {
        "id": "Nqv5qp9yzQEw",
        "colab_type": "code",
        "colab": {}
      },
      "source": [
        "############################### INPUT INFORMATION (FRANNK)\n",
        "Fc=0.1 # fator de correcao parametros da ANN\n",
        "its=1 #10 # quantas vezes vai usar o NPAR antes de alterar de novo\n",
        "mut=0.5\n",
        "crossp=0.5\n",
        "Fi=mut;CRi=crossp;# para impressão\n",
        "PAR=len(MAX) #NUM DE PARAMETROS A SER OTIMIZADOS"
      ],
      "execution_count": 33,
      "outputs": []
    },
    {
      "cell_type": "code",
      "metadata": {
        "id": "q77YsFa82zFU",
        "colab_type": "code",
        "colab": {
          "base_uri": "https://localhost:8080/",
          "height": 250
        },
        "outputId": "4aa10fdb-3f16-4b7b-d092-5b5a57fc37b3"
      },
      "source": [
        "# JADE\n",
        "algorithm = pyade.jso\n",
        "BEST_AGENTS=[]\n",
        "for i in range(RUNS):\n",
        "  ANSWER_AGENTS=[]\n",
        "  solver = pyfde.JADE(Fun, n_dim=dim, n_pop=NPAR, limits=bounds, minimize=True)\n",
        "  solver.p = 0.05\n",
        "  solver.c = 0.1\n",
        "  solver.cr = 0.5\n",
        "  solver.f = 0.5\n",
        "  best, fit = solver.run(n_it=ITE)\n",
        "  for x in best:\n",
        "    ANSWER_AGENTS.append(x)\n",
        "  ANSWER_AGENTS.append(fit)\n",
        "  BEST_AGENTS.append(ANSWER_AGENTS)\n",
        "BEST_AGENTS=np.array(BEST_AGENTS)\n",
        "TIME = (time.time() - start_time)/RUNS\n",
        "BEST_AGENTS=np.array(BEST_AGENTS)\n",
        "BEST_AGENTS_ST= BEST_AGENTS[BEST_AGENTS[:,-1].argsort()]\n",
        "BEST=BEST_AGENTS_ST[0]\n",
        "WORSE=BEST_AGENTS_ST[-1]\n",
        "MEAN=np.mean(BEST_AGENTS,axis=0)\n",
        "MAXFO=BEST_AGENTS[:,-1].max()\n",
        "MINFO=BEST_AGENTS[:,-1].min()\n",
        "STD=BEST_AGENTS[:,-1].std()\n",
        "nome='JADE_Fo-'+str(0)+'_CRo-'+str(0)\n",
        "print(nome,'NPAR',NPAR,'Iterações=',ITE,'Dim=',dim ,\"Min/Max=\",MIN[0],\"/\",MAX[0],'_',Fun.__name__)\n",
        "print( '\\n')\n",
        "print('MÉDIA: ',MEAN[-1])\n",
        "print('MIN __:',MINFO)\n",
        "print('MAX__: ',MAXFO)\n",
        "print('STD __:',STD)\n",
        "print(\"Tempo Médio= %.3f segundos ---\" % (TIME))\n",
        "print(RUNS,'Rodadas') \n",
        "print()\n",
        "print('BEST: ',BEST)"
      ],
      "execution_count": 34,
      "outputs": [
        {
          "output_type": "stream",
          "text": [
            "JADE_Fo-0_CRo-0 NPAR 100 Iterações= 2000 Dim= 10 Min/Max= 0 / 3.141592653589793 _ Michalewicz\n",
            "\n",
            "\n",
            "MÉDIA:  9.660151715641348\n",
            "MIN __: 9.660151715641348\n",
            "MAX__:  9.66015171564135\n",
            "STD __: 7.53644380168212e-16\n",
            "Tempo Médio= 1.957 segundos ---\n",
            "50 Rodadas\n",
            "\n",
            "BEST:  [2.20290552 1.57079633 1.28499157 1.92305847 1.72046977 1.57079633\n",
            " 1.45441397 1.75608652 1.65571742 1.57079633 9.66015172]\n"
          ],
          "name": "stdout"
        }
      ]
    },
    {
      "cell_type": "code",
      "metadata": {
        "id": "gXdUgSStzppX",
        "colab_type": "code",
        "colab": {}
      },
      "source": [
        "# FRANNK START HERE !!!!!"
      ],
      "execution_count": 35,
      "outputs": []
    },
    {
      "cell_type": "code",
      "metadata": {
        "id": "raWOfeJBztuj",
        "colab_type": "code",
        "colab": {
          "base_uri": "https://localhost:8080/",
          "height": 161
        },
        "outputId": "ed3aff0c-f9d1-479d-93ae-5d0bb5cd0122"
      },
      "source": [
        "!git clone https://github.com/ucfilho/ANN_read_matrix #clonar do Github\n",
        "%cd ANN_read_matrix"
      ],
      "execution_count": 36,
      "outputs": [
        {
          "output_type": "stream",
          "text": [
            "Cloning into 'ANN_read_matrix'...\n",
            "remote: Enumerating objects: 20, done.\u001b[K\n",
            "remote: Counting objects:   5% (1/20)\u001b[K\rremote: Counting objects:  10% (2/20)\u001b[K\rremote: Counting objects:  15% (3/20)\u001b[K\rremote: Counting objects:  20% (4/20)\u001b[K\rremote: Counting objects:  25% (5/20)\u001b[K\rremote: Counting objects:  30% (6/20)\u001b[K\rremote: Counting objects:  35% (7/20)\u001b[K\rremote: Counting objects:  40% (8/20)\u001b[K\rremote: Counting objects:  45% (9/20)\u001b[K\rremote: Counting objects:  50% (10/20)\u001b[K\rremote: Counting objects:  55% (11/20)\u001b[K\rremote: Counting objects:  60% (12/20)\u001b[K\rremote: Counting objects:  65% (13/20)\u001b[K\rremote: Counting objects:  70% (14/20)\u001b[K\rremote: Counting objects:  75% (15/20)\u001b[K\rremote: Counting objects:  80% (16/20)\u001b[K\rremote: Counting objects:  85% (17/20)\u001b[K\rremote: Counting objects:  90% (18/20)\u001b[K\rremote: Counting objects:  95% (19/20)\u001b[K\rremote: Counting objects: 100% (20/20)\u001b[K\rremote: Counting objects: 100% (20/20), done.\u001b[K\n",
            "remote: Compressing objects:   5% (1/18)\u001b[K\rremote: Compressing objects:  11% (2/18)\u001b[K\rremote: Compressing objects:  16% (3/18)\u001b[K\rremote: Compressing objects:  22% (4/18)\u001b[K\rremote: Compressing objects:  27% (5/18)\u001b[K\rremote: Compressing objects:  33% (6/18)\u001b[K\rremote: Compressing objects:  38% (7/18)\u001b[K\rremote: Compressing objects:  44% (8/18)\u001b[K\rremote: Compressing objects:  50% (9/18)\u001b[K\rremote: Compressing objects:  55% (10/18)\u001b[K\rremote: Compressing objects:  61% (11/18)\u001b[K\rremote: Compressing objects:  66% (12/18)\u001b[K\rremote: Compressing objects:  72% (13/18)\u001b[K\rremote: Compressing objects:  77% (14/18)\u001b[K\rremote: Compressing objects:  83% (15/18)\u001b[K\rremote: Compressing objects:  88% (16/18)\u001b[K\rremote: Compressing objects:  94% (17/18)\u001b[K\rremote: Compressing objects: 100% (18/18)\u001b[K\rremote: Compressing objects: 100% (18/18), done.\u001b[K\n",
            "remote: Total 20 (delta 5), reused 0 (delta 0), pack-reused 0\u001b[K\n",
            "Unpacking objects:   5% (1/20)   \rUnpacking objects:  10% (2/20)   \rUnpacking objects:  15% (3/20)   \rUnpacking objects:  20% (4/20)   \rUnpacking objects:  25% (5/20)   \rUnpacking objects:  30% (6/20)   \rUnpacking objects:  35% (7/20)   \rUnpacking objects:  40% (8/20)   \rUnpacking objects:  45% (9/20)   \rUnpacking objects:  50% (10/20)   \rUnpacking objects:  55% (11/20)   \rUnpacking objects:  60% (12/20)   \rUnpacking objects:  65% (13/20)   \rUnpacking objects:  70% (14/20)   \rUnpacking objects:  75% (15/20)   \rUnpacking objects:  80% (16/20)   \rUnpacking objects:  85% (17/20)   \rUnpacking objects:  90% (18/20)   \rUnpacking objects:  95% (19/20)   \rUnpacking objects: 100% (20/20)   \rUnpacking objects: 100% (20/20), done.\n",
            "/content/Raianars_July_2020/ANN_read_matrix/Raianars_July_2020/Raianars_July_2020/ANN_read_matrix/Raianars_July_2020/ANN_read_matrix\n"
          ],
          "name": "stdout"
        }
      ]
    },
    {
      "cell_type": "code",
      "metadata": {
        "id": "N2lyPfivzwGv",
        "colab_type": "code",
        "colab": {
          "base_uri": "https://localhost:8080/",
          "height": 1000
        },
        "outputId": "9bc508b6-aa2e-4d9a-dbdf-6e7df290a9f1"
      },
      "source": [
        "ANN_F=pd.read_csv('ANN_INSIGHT_Valor_F.csv')\n",
        "ANN_CR=pd.read_csv('ANN_INSIGHT_CR.csv')\n",
        "syn0_F,syn1_F,X_max_F,X_min_F=Go2Ann.GetMatriz(ANN_F)\n",
        "syn0_CR,syn1_CR,X_max_CR,X_min_CR=Go2Ann.GetMatriz(ANN_CR)\n",
        "fields = ['DI RELATIVO','FRAC Its','Fo','CRo']\n",
        "\n",
        "#TOTAL=7*dim*its*ITE\n",
        "TOTAL=10*dim*its*ITE\n",
        "TOTAL=int(TOTAL/2)   # CONFERIR SE ESTE EH O MELHOR LUGAR\n",
        "\n",
        "dimensions=len(MAX)\n",
        "start_time = time.time() #INICIALIZA CONTAGEM DO TEMPO\n",
        "\n",
        "MAX_P=np.zeros(ITE) # ATENCAO para variar F e Cr MAX_P passa a ser 3 vezes maior\n",
        "MIN_P=np.zeros(ITE) # ATENCAO para variar F e Cr MIN_P passa a ser 3 vezes maior\n",
        "\n",
        "for i in range(dim):\n",
        "  MAX_P[i]=MAX[i] \n",
        "  MIN_P[i]=MIN[i]\n",
        "\n",
        "rodadas=1\n",
        "for i in range(rodadas):\n",
        "  SOMA=0\n",
        "  pop = np.random.rand(NPAR, dimensions)\n",
        "  diff=np.zeros(PAR)\n",
        "  for ii in range(PAR):\n",
        "    diff[ii] = MAX[ii]-MIN[ii]\n",
        "  X = MIN + pop * diff\n",
        "    \n",
        "  PONTOS=ITE # DIVISOES DA POPULACAO\n",
        "start_time = time.time()\n",
        "BEST_AGENTS=[]\n",
        "MAT_stat=[]\n",
        "for i in range(RUNS):\n",
        "    MAT=[] \n",
        "    mut=Fi\n",
        "    crossp=CRi\n",
        "    SOMA=0\n",
        "    SOMAf=0\n",
        "    start_ite = time.time()\n",
        "    delta_time=(start_ite-start_time)/60\n",
        "    print('ite=',i,'time=',delta_time)\n",
        "    pop = np.random.rand(NPAR, dim)\n",
        "    diff=np.zeros(PAR)\n",
        "    for ii in range(PAR):\n",
        "      diff[ii] = MAX[ii]-MIN[ii]\n",
        "    X = MIN + pop * diff\n",
        "    Xf = MIN + pop * diff\n",
        "    \n",
        "    DIo=1e99\n",
        "  \n",
        "    CRo=crossp;Fo=mut;\n",
        "    Fitness = np.asarray([Fun(ind) for ind in X])\n",
        "\n",
        "    XY,BEST_XY,BESTo,FOBESTo=AvaliaX(X,Fitness)\n",
        "    nrow,ncol=X.shape\n",
        "\n",
        "    QUANT=17;MAT_INDo=np.zeros((1,QUANT)); # quantos indices esta fazendo\n",
        "    MAT_INDo[0,5]=nrow  # VALOR NP\n",
        "    MAT_INDo[0,6]=Fo    # VALOR Fo   \n",
        "    MAT_INDo[0,7]=CRo   # VALOR CRo\n",
        "  \n",
        "    MAT_INDo=GeraIndices(X,BESTo,FOBESTo,DIo,MAT_INDo,SOMA,TOTAL,syn0_F,\n",
        "                        syn1_F,X_max_F,X_min_F,syn0_CR,syn1_CR,X_max_CR,\n",
        "                        X_min_CR,Fc,fields,Fun)\n",
        "  \n",
        "    DIo=np.copy(MAT_INDo[0,0])\n",
        "    MAT_INDo[0,15]=Fo    # VALOR Fo   \n",
        "    MAT_INDo[0,16]=CRo   # VALOR CRo\n",
        "    #ind_crossp=ITE-1\n",
        "\n",
        "    \n",
        "    for k in range(ITE):\n",
        "      X,BEST,FOBEST,XY,BEST_XY,SOMA= de_soma_Insight.de(MAX,MIN, mut, crossp,NPAR,its,Fun,X,SOMA,TOTAL)\n",
        "      #Xf,BESTf,FOBESTf,XYf,BEST_XYf,SOMAf= de_soma_Insight.de(MAX,MIN, Fi, CRi, NPAR,its,Fun,Xf,SOMAf,TOTAL)\n",
        "\n",
        "      \n",
        "      MAT_IND=GeraIndices(X,BESTo,FOBESTo,DIo,MAT_INDo,SOMA,TOTAL,syn0_F,\n",
        "                          syn1_F,X_max_F,X_min_F,syn0_CR,syn1_CR,X_max_CR,\n",
        "                          X_min_CR,Fc,fields,Fun)\n",
        "    \n",
        "      BESTo=np.copy(BEST);FOBESTo=np.copy(FOBEST);\n",
        "      MAT.append(MAT_IND.ravel())\n",
        "    \n",
        "      MAT_INDo[0,6]=MAT_IND[0,15]   # VALOR Fo   \n",
        "      MAT_INDo[0,7]=MAT_IND[0,16]   # VALOR CRo\n",
        "      mut=MAT_IND[0,15]\n",
        "      crossp=MAT_IND[0,16]\n",
        "\n",
        "      Fitness = np.asarray([Fun(ind) for ind in X])\n",
        "      #Fitnessf = np.asarray([Fun(ind) for ind in Xf])\n",
        "      Maior=np.argmax(Fitness)\n",
        "      #Maiorf=np.argmax(Fitnessf)\n",
        "      Menor=np.argmin(Fitness)\n",
        "      #Menorf=np.argmin(Fitnessf)\n",
        "\n",
        "      #X[Maior,:]=np.copy(Xf[Menorf,:])\n",
        "      #Xf[Maiorf,:]=np.copy(X[Menor,:])\n",
        "      \n",
        "    BEST_AGENTS.append(BEST_XY)\n",
        "    MAT_stat.append(MAT)\n",
        "    #print(\"GlobalParam e Solucao:\", BEST,\"Funcao=\",FOBEST)\n",
        "    \n",
        "############################## Cálculo dos Parâmetros de Avaliação   \n",
        "TIME = (time.time() - start_time)/RUNS\n",
        "BEST_AGENTS=np.array(BEST_AGENTS)\n",
        "BEST_AGENTS_ST= BEST_AGENTS[BEST_AGENTS[:,-1].argsort()]\n",
        "BEST=BEST_AGENTS_ST[0]\n",
        "WORSE=BEST_AGENTS_ST[-1]\n",
        "MEAN=np.mean(BEST_AGENTS,axis=0)\n",
        "MAXFO=BEST_AGENTS[:,-1].max()\n",
        "MINFO=BEST_AGENTS[:,-1].min()\n",
        "STD=BEST_AGENTS[:,-1].std()\n",
        "\n",
        "print()\n",
        "nome='_ANN_Div3x4_Fo-'+str(Fi)+'_CRo-'+str(CRi)+'_D-'+str(dim)+'_Interv-'+str(ITE)\n",
        "print('DE_POP_VAR_F_CR','TOTAL=',TOTAL,'Iterações=',ITE*its,'Dim=', PAR,\"Min/Max=\",MIN[0],\"/\",MAX[0],'_',Fun.__name__)\n",
        "print(nome, '\\n')\n",
        "print('MÉDIA: ',MEAN[-1])\n",
        "print('MIN __:',MINFO)\n",
        "print('MAX__: ',MAXFO)\n",
        "print('STD __:',STD)\n",
        "print(\"Tempo Médio= %.3f segundos ---\" % (TIME))\n",
        "print(RUNS,'Rodadas') \n",
        "print()\n",
        "print('BEST: ',BEST)"
      ],
      "execution_count": 37,
      "outputs": [
        {
          "output_type": "stream",
          "text": [
            "ite= 0 time= 2.712408701578776e-05\n",
            "ite= 1 time= 0.8927593549092611\n",
            "ite= 2 time= 1.7800338466962178\n",
            "ite= 3 time= 2.671600941816966\n",
            "ite= 4 time= 3.5505584041277567\n",
            "ite= 5 time= 4.444760584831238\n",
            "ite= 6 time= 5.3432337760925295\n",
            "ite= 7 time= 6.237502618630727\n",
            "ite= 8 time= 7.137811700503032\n",
            "ite= 9 time= 8.030245812733968\n",
            "ite= 10 time= 8.921990394592285\n",
            "ite= 11 time= 9.818592234452565\n",
            "ite= 12 time= 10.722198176383973\n",
            "ite= 13 time= 11.608834119637807\n",
            "ite= 14 time= 12.511149354775746\n",
            "ite= 15 time= 13.403338734308878\n",
            "ite= 16 time= 14.289268537362416\n",
            "ite= 17 time= 15.18178169329961\n",
            "ite= 18 time= 16.081991358598074\n",
            "ite= 19 time= 16.977493687470755\n",
            "ite= 20 time= 17.86506961186727\n",
            "ite= 21 time= 18.75788213411967\n",
            "ite= 22 time= 19.652173924446107\n",
            "ite= 23 time= 20.54862266778946\n",
            "ite= 24 time= 21.443020407358805\n",
            "ite= 25 time= 22.330466159184773\n",
            "ite= 26 time= 23.221141624450684\n",
            "ite= 27 time= 24.117356745402017\n",
            "ite= 28 time= 25.01439365148544\n",
            "ite= 29 time= 25.907119313875835\n",
            "ite= 30 time= 26.7837912162145\n",
            "ite= 31 time= 27.670749859015146\n",
            "ite= 32 time= 28.56636836528778\n",
            "ite= 33 time= 29.450225698947907\n",
            "ite= 34 time= 30.33286344210307\n",
            "ite= 35 time= 31.224042836825053\n",
            "ite= 36 time= 32.102043513456984\n",
            "ite= 37 time= 32.988439742724104\n",
            "ite= 38 time= 33.86861851612727\n",
            "ite= 39 time= 34.75046045780182\n",
            "ite= 40 time= 35.63390876054764\n",
            "ite= 41 time= 36.527782460053764\n",
            "ite= 42 time= 37.40957962274551\n",
            "ite= 43 time= 38.306567227840425\n",
            "ite= 44 time= 39.19945899645487\n",
            "ite= 45 time= 40.09404987494151\n",
            "ite= 46 time= 40.986312766869865\n",
            "ite= 47 time= 41.8796453555425\n",
            "ite= 48 time= 42.77567139863968\n",
            "ite= 49 time= 43.67188676993052\n",
            "\n",
            "DE_POP_VAR_F_CR TOTAL= 100000 Iterações= 2000 Dim= 10 Min/Max= 0 / 3.141592653589793 _ Michalewicz\n",
            "_ANN_Div3x4_Fo-0.5_CRo-0.5_D-10_Interv-2000 \n",
            "\n",
            "MÉDIA:  -9.660151715641348\n",
            "MIN __: -9.66015171564135\n",
            "MAX__:  -9.660151715641348\n",
            "STD __: 3.552713678800501e-16\n",
            "Tempo Médio= 53.481 segundos ---\n",
            "50 Rodadas\n",
            "\n",
            "BEST:  [ 2.20290552  1.57079633  1.28499157  1.92305847  1.72046977  1.57079633\n",
            "  1.45441397  1.75608652  1.65571742  1.57079633 -9.66015172]\n"
          ],
          "name": "stdout"
        }
      ]
    },
    {
      "cell_type": "code",
      "metadata": {
        "id": "egkWFpw6GiNo",
        "colab_type": "code",
        "colab": {
          "base_uri": "https://localhost:8080/",
          "height": 1000
        },
        "outputId": "416ad150-4949-4fb5-ec1c-538f493d9b23"
      },
      "source": [
        "#DE_ tradicional\n",
        "\n",
        "!git clone https://github.com/ucfilho/Raianars_July_2020 #clonar do Github\n",
        "%cd Raianars_July_2020\n",
        "\n",
        "mut=0.5\n",
        "crossp=0.5\n",
        "\n",
        "SOMA=0\n",
        "start_time = time.time()\n",
        "BEST_AGENTS=[]\n",
        "MAT_stat=[]\n",
        "\n",
        "for i in range(RUNS):\n",
        "\n",
        "    pop = np.random.rand(NPAR, dim)\n",
        "    diff=np.zeros(dim)\n",
        "    for ii in range(dim):\n",
        "      diff[ii] = MAX[ii]-MIN[ii]\n",
        "    X = MIN + pop * diff\n",
        "\n",
        "    SOMA=0\n",
        "\n",
        "    for k in range(ITE):\n",
        "      X,BEST,FOBEST,XY,BEST_XY,SOMA= de_soma_Insight.de(MAX,MIN, mut, crossp,dim,its,Fun,X,SOMA,TOTAL)\n",
        "\n",
        "    start_run = (time.time()-start_time)/60\n",
        "    print('run=',i,'total=50','Fobj=',FOBEST,'Time=',start_run)  \n",
        "    BEST_AGENTS.append(BEST_XY)"
      ],
      "execution_count": 38,
      "outputs": [
        {
          "output_type": "stream",
          "text": [
            "Cloning into 'Raianars_July_2020'...\n",
            "remote: Enumerating objects: 24, done.\u001b[K\n",
            "remote: Counting objects:   4% (1/24)\u001b[K\rremote: Counting objects:   8% (2/24)\u001b[K\rremote: Counting objects:  12% (3/24)\u001b[K\rremote: Counting objects:  16% (4/24)\u001b[K\rremote: Counting objects:  20% (5/24)\u001b[K\rremote: Counting objects:  25% (6/24)\u001b[K\rremote: Counting objects:  29% (7/24)\u001b[K\rremote: Counting objects:  33% (8/24)\u001b[K\rremote: Counting objects:  37% (9/24)\u001b[K\rremote: Counting objects:  41% (10/24)\u001b[K\rremote: Counting objects:  45% (11/24)\u001b[K\rremote: Counting objects:  50% (12/24)\u001b[K\rremote: Counting objects:  54% (13/24)\u001b[K\rremote: Counting objects:  58% (14/24)\u001b[K\rremote: Counting objects:  62% (15/24)\u001b[K\rremote: Counting objects:  66% (16/24)\u001b[K\rremote: Counting objects:  70% (17/24)\u001b[K\rremote: Counting objects:  75% (18/24)\u001b[K\rremote: Counting objects:  79% (19/24)\u001b[K\rremote: Counting objects:  83% (20/24)\u001b[K\rremote: Counting objects:  87% (21/24)\u001b[K\rremote: Counting objects:  91% (22/24)\u001b[K\rremote: Counting objects:  95% (23/24)\u001b[K\rremote: Counting objects: 100% (24/24)\u001b[K\rremote: Counting objects: 100% (24/24), done.\u001b[K\n",
            "remote: Compressing objects:   4% (1/24)\u001b[K\rremote: Compressing objects:   8% (2/24)\u001b[K\rremote: Compressing objects:  12% (3/24)\u001b[K\rremote: Compressing objects:  16% (4/24)\u001b[K\rremote: Compressing objects:  20% (5/24)\u001b[K\rremote: Compressing objects:  25% (6/24)\u001b[K\rremote: Compressing objects:  29% (7/24)\u001b[K\rremote: Compressing objects:  33% (8/24)\u001b[K\rremote: Compressing objects:  37% (9/24)\u001b[K\rremote: Compressing objects:  41% (10/24)\u001b[K\rremote: Compressing objects:  45% (11/24)\u001b[K\rremote: Compressing objects:  50% (12/24)\u001b[K\rremote: Compressing objects:  54% (13/24)\u001b[K\rremote: Compressing objects:  58% (14/24)\u001b[K\rremote: Compressing objects:  62% (15/24)\u001b[K\rremote: Compressing objects:  66% (16/24)\u001b[K\rremote: Compressing objects:  70% (17/24)\u001b[K\rremote: Compressing objects:  75% (18/24)\u001b[K\rremote: Compressing objects:  79% (19/24)\u001b[K\rremote: Compressing objects:  83% (20/24)\u001b[K\rremote: Compressing objects:  87% (21/24)\u001b[K\rremote: Compressing objects:  91% (22/24)\u001b[K\rremote: Compressing objects:  95% (23/24)\u001b[K\rremote: Compressing objects: 100% (24/24)\u001b[K\rremote: Compressing objects: 100% (24/24), done.\u001b[K\n",
            "Receiving objects:   0% (1/147)   \rReceiving objects:   1% (2/147)   \rReceiving objects:   2% (3/147)   \rReceiving objects:   3% (5/147)   \rReceiving objects:   4% (6/147)   \rReceiving objects:   5% (8/147)   \rReceiving objects:   6% (9/147)   \rReceiving objects:   7% (11/147)   \rReceiving objects:   8% (12/147)   \rReceiving objects:   9% (14/147)   \rReceiving objects:  10% (15/147)   \rReceiving objects:  11% (17/147)   \rReceiving objects:  12% (18/147)   \rReceiving objects:  13% (20/147)   \rReceiving objects:  14% (21/147)   \rReceiving objects:  15% (23/147)   \rReceiving objects:  16% (24/147)   \rReceiving objects:  17% (25/147)   \rReceiving objects:  18% (27/147)   \rReceiving objects:  19% (28/147)   \rReceiving objects:  20% (30/147)   \rReceiving objects:  21% (31/147)   \rReceiving objects:  22% (33/147)   \rReceiving objects:  23% (34/147)   \rReceiving objects:  24% (36/147)   \rReceiving objects:  25% (37/147)   \rReceiving objects:  26% (39/147)   \rReceiving objects:  27% (40/147)   \rReceiving objects:  28% (42/147)   \rReceiving objects:  29% (43/147)   \rReceiving objects:  30% (45/147)   \rReceiving objects:  31% (46/147)   \rReceiving objects:  32% (48/147)   \rReceiving objects:  33% (49/147)   \rReceiving objects:  34% (50/147)   \rremote: Total 147 (delta 12), reused 0 (delta 0), pack-reused 123\u001b[K\n",
            "Receiving objects:  35% (52/147)   \rReceiving objects:  36% (53/147)   \rReceiving objects:  37% (55/147)   \rReceiving objects:  38% (56/147)   \rReceiving objects:  39% (58/147)   \rReceiving objects:  40% (59/147)   \rReceiving objects:  41% (61/147)   \rReceiving objects:  42% (62/147)   \rReceiving objects:  43% (64/147)   \rReceiving objects:  44% (65/147)   \rReceiving objects:  45% (67/147)   \rReceiving objects:  46% (68/147)   \rReceiving objects:  47% (70/147)   \rReceiving objects:  48% (71/147)   \rReceiving objects:  49% (73/147)   \rReceiving objects:  50% (74/147)   \rReceiving objects:  51% (75/147)   \rReceiving objects:  52% (77/147)   \rReceiving objects:  53% (78/147)   \rReceiving objects:  54% (80/147)   \rReceiving objects:  55% (81/147)   \rReceiving objects:  56% (83/147)   \rReceiving objects:  57% (84/147)   \rReceiving objects:  58% (86/147)   \rReceiving objects:  59% (87/147)   \rReceiving objects:  60% (89/147)   \rReceiving objects:  61% (90/147)   \rReceiving objects:  62% (92/147)   \rReceiving objects:  63% (93/147)   \rReceiving objects:  64% (95/147)   \rReceiving objects:  65% (96/147)   \rReceiving objects:  66% (98/147)   \rReceiving objects:  67% (99/147)   \rReceiving objects:  68% (100/147)   \rReceiving objects:  69% (102/147)   \rReceiving objects:  70% (103/147)   \rReceiving objects:  71% (105/147)   \rReceiving objects:  72% (106/147)   \rReceiving objects:  73% (108/147)   \rReceiving objects:  74% (109/147)   \rReceiving objects:  75% (111/147)   \rReceiving objects:  76% (112/147)   \rReceiving objects:  77% (114/147)   \rReceiving objects:  78% (115/147)   \rReceiving objects:  79% (117/147)   \rReceiving objects:  80% (118/147)   \rReceiving objects:  81% (120/147)   \rReceiving objects:  82% (121/147)   \rReceiving objects:  83% (123/147)   \rReceiving objects:  84% (124/147)   \rReceiving objects:  85% (125/147)   \rReceiving objects:  86% (127/147)   \rReceiving objects:  87% (128/147)   \rReceiving objects:  88% (130/147)   \rReceiving objects:  89% (131/147)   \rReceiving objects:  90% (133/147)   \rReceiving objects:  91% (134/147)   \rReceiving objects:  92% (136/147)   \rReceiving objects:  93% (137/147)   \rReceiving objects:  94% (139/147)   \rReceiving objects:  95% (140/147)   \rReceiving objects:  96% (142/147)   \rReceiving objects:  97% (143/147)   \rReceiving objects:  98% (145/147)   \rReceiving objects:  99% (146/147)   \rReceiving objects: 100% (147/147)   \rReceiving objects: 100% (147/147), 204.22 KiB | 1.67 MiB/s, done.\n",
            "Resolving deltas:   0% (0/74)   \rResolving deltas:   8% (6/74)   \rResolving deltas:  54% (40/74)   \rResolving deltas:  67% (50/74)   \rResolving deltas:  71% (53/74)   \rResolving deltas:  72% (54/74)   \rResolving deltas:  86% (64/74)   \rResolving deltas:  95% (71/74)   \rResolving deltas:  97% (72/74)   \rResolving deltas:  98% (73/74)   \rResolving deltas: 100% (74/74)   \rResolving deltas: 100% (74/74), done.\n",
            "/content/Raianars_July_2020/ANN_read_matrix/Raianars_July_2020/Raianars_July_2020/ANN_read_matrix/Raianars_July_2020/ANN_read_matrix/Raianars_July_2020\n",
            "run= 0 total=50 Fobj= -8.825947185576394 Time= 0.05932783285776774\n",
            "run= 1 total=50 Fobj= -9.13422503452756 Time= 0.11804951826731364\n",
            "run= 2 total=50 Fobj= -9.0526150091014 Time= 0.1771087686220805\n",
            "run= 3 total=50 Fobj= -9.655218766090343 Time= 0.23577571709950765\n",
            "run= 4 total=50 Fobj= -9.271676420922951 Time= 0.2943204919497172\n",
            "run= 5 total=50 Fobj= -9.37070016220996 Time= 0.3547833800315857\n",
            "run= 6 total=50 Fobj= -9.102099625508119 Time= 0.41339869101842247\n",
            "run= 7 total=50 Fobj= -9.299785410779679 Time= 0.472115437189738\n",
            "run= 8 total=50 Fobj= -8.413394111427731 Time= 0.530890683333079\n",
            "run= 9 total=50 Fobj= -9.3038703459585 Time= 0.5904784798622131\n",
            "run= 10 total=50 Fobj= -9.414543672382788 Time= 0.649669619401296\n",
            "run= 11 total=50 Fobj= -9.006086701068076 Time= 0.7095258116722107\n",
            "run= 12 total=50 Fobj= -9.4298921984799 Time= 0.7682877620061238\n",
            "run= 13 total=50 Fobj= -9.053185457139648 Time= 0.8271437605222066\n",
            "run= 14 total=50 Fobj= -9.585118173282618 Time= 0.887385360399882\n",
            "run= 15 total=50 Fobj= -9.368308374169692 Time= 0.9480334758758545\n",
            "run= 16 total=50 Fobj= -9.353931508277862 Time= 1.008312737941742\n",
            "run= 17 total=50 Fobj= -9.20292880462248 Time= 1.067276660601298\n",
            "run= 18 total=50 Fobj= -9.51568606073443 Time= 1.1264726797739664\n",
            "run= 19 total=50 Fobj= -9.139005002734093 Time= 1.1864678184191386\n",
            "run= 20 total=50 Fobj= -8.758389920599544 Time= 1.2472806056340535\n",
            "run= 21 total=50 Fobj= -9.318295586134587 Time= 1.3071802576382956\n",
            "run= 22 total=50 Fobj= -9.204040984011929 Time= 1.3670238256454468\n",
            "run= 23 total=50 Fobj= -9.408478690126644 Time= 1.426270035902659\n",
            "run= 24 total=50 Fobj= -9.61315566736063 Time= 1.4850626985232036\n",
            "run= 25 total=50 Fobj= -8.856421292221654 Time= 1.5452524224917095\n",
            "run= 26 total=50 Fobj= -8.919897057671523 Time= 1.6045439879099528\n",
            "run= 27 total=50 Fobj= -9.20208918227627 Time= 1.6646223147710164\n",
            "run= 28 total=50 Fobj= -9.481671848555706 Time= 1.723112444082896\n",
            "run= 29 total=50 Fobj= -9.622540132451384 Time= 1.7821559151013693\n",
            "run= 30 total=50 Fobj= -9.57989903563579 Time= 1.8409956097602844\n",
            "run= 31 total=50 Fobj= -9.021946532844819 Time= 1.900060029824575\n",
            "run= 32 total=50 Fobj= -9.369851045230703 Time= 1.959739883740743\n",
            "run= 33 total=50 Fobj= -9.618883190400522 Time= 2.018897171815236\n",
            "run= 34 total=50 Fobj= -9.377628360813132 Time= 2.0778597156206766\n",
            "run= 35 total=50 Fobj= -8.817367394363727 Time= 2.13713485399882\n",
            "run= 36 total=50 Fobj= -9.622121026304333 Time= 2.1957204659779865\n",
            "run= 37 total=50 Fobj= -9.621529067235944 Time= 2.2548885146776834\n",
            "run= 38 total=50 Fobj= -9.195926522378173 Time= 2.313512388865153\n",
            "run= 39 total=50 Fobj= -9.536018994929876 Time= 2.3722700516382855\n",
            "run= 40 total=50 Fobj= -9.360816696727495 Time= 2.4311755776405333\n",
            "run= 41 total=50 Fobj= -9.613476733653156 Time= 2.4902775486310325\n",
            "run= 42 total=50 Fobj= -9.573630416193785 Time= 2.549157698949178\n",
            "run= 43 total=50 Fobj= -9.38257720472715 Time= 2.608001438776652\n",
            "run= 44 total=50 Fobj= -9.082842009951737 Time= 2.6666080514589945\n",
            "run= 45 total=50 Fobj= -9.16526961051171 Time= 2.7269660512606304\n",
            "run= 46 total=50 Fobj= -9.385875287912656 Time= 2.7859531958897907\n",
            "run= 47 total=50 Fobj= -9.622027355376643 Time= 2.84506862560908\n",
            "run= 48 total=50 Fobj= -9.095969304121821 Time= 2.9038638631502787\n",
            "run= 49 total=50 Fobj= -9.277228062711076 Time= 2.9627323547999063\n"
          ],
          "name": "stdout"
        }
      ]
    },
    {
      "cell_type": "code",
      "metadata": {
        "id": "3W8R6htAHO63",
        "colab_type": "code",
        "colab": {
          "base_uri": "https://localhost:8080/",
          "height": 230
        },
        "outputId": "4cb3bc56-3c32-4bff-fe2e-0c861e81764d"
      },
      "source": [
        "############################## Cálculo dos Parâmetros de Avaliação   \n",
        "TIME = (time.time() - start_time)/RUNS\n",
        "BEST_AGENTS=np.array(BEST_AGENTS)\n",
        "BEST_AGENTS_ST= BEST_AGENTS[BEST_AGENTS[:,-1].argsort()]\n",
        "BEST=BEST_AGENTS_ST[0]\n",
        "WORSE=BEST_AGENTS_ST[-1]\n",
        "MEAN=np.mean(BEST_AGENTS,axis=0)\n",
        "MAXFO=BEST_AGENTS[:,-1].max()\n",
        "MINFO=BEST_AGENTS[:,-1].min()\n",
        "STD=BEST_AGENTS[:,-1].std()\n",
        "\n",
        "nome='DE_STAT_Fo-'+str(mut)+'_CRo-'+str(crossp)+'_D-'+str(dim)+'_Interv-'+str(ITE)\n",
        "print('DE_','TOTAL=',TOTAL,'Iterações=',ITE*its,'Dim=', dim,\"Min/Max=\",MIN[0],\"/\",MAX[0],'_',Fun.__name__)\n",
        "print(nome, '\\n')\n",
        "#print('BEST: ',BEST)\n",
        "#print('MÉDIA: ',MEAN)\n",
        "print('MÉDIA: ',MEAN[-1])\n",
        "print('MIN __:',MINFO)\n",
        "print('MAX__: ',MAXFO)\n",
        "print('STD __:',STD)\n",
        "print(\"Tempo Médio= %.3f segundos ---\" % (TIME))\n",
        "print(RUNS,'Rodadas') \n",
        "print()\n",
        "print('BEST: ',BEST)"
      ],
      "execution_count": 39,
      "outputs": [
        {
          "output_type": "stream",
          "text": [
            "DE_ TOTAL= 100000 Iterações= 2000 Dim= 10 Min/Max= 0 / 3.141592653589793 _ Michalewicz\n",
            "DE_STAT_Fo-0.5_CRo-0.5_D-10_Interv-2000 \n",
            "\n",
            "MÉDIA:  -9.284081644768566\n",
            "MIN __: -9.655218766090343\n",
            "MAX__:  -8.413394111427731\n",
            "STD __: 0.27142692101801147\n",
            "Tempo Médio= 3.556 segundos ---\n",
            "50 Rodadas\n",
            "\n",
            "BEST:  [ 2.20290552  1.57079631  1.28511539  1.92305847  1.72046977  1.57079633\n",
            "  1.45441019  1.36078256  1.65571741  1.57079633 -9.65521877]\n"
          ],
          "name": "stdout"
        }
      ]
    }
  ]
}