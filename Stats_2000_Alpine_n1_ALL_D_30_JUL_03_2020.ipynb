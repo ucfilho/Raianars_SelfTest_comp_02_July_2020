{
  "nbformat": 4,
  "nbformat_minor": 0,
  "metadata": {
    "colab": {
      "name": "Stats_2000_Alpine_n1_ALL_D_30_JUL_03_2020.ipynb",
      "provenance": [],
      "collapsed_sections": [],
      "authorship_tag": "ABX9TyNrUzXER/xukjtJ1afXeQpN",
      "include_colab_link": true
    },
    "kernelspec": {
      "name": "python3",
      "display_name": "Python 3"
    }
  },
  "cells": [
    {
      "cell_type": "markdown",
      "metadata": {
        "id": "view-in-github",
        "colab_type": "text"
      },
      "source": [
        "<a href=\"https://colab.research.google.com/github/ucfilho/Raianars_SelfTest_comp_02_July_2020/blob/master/Stats_2000_Alpine_n1_ALL_D_30_JUL_03_2020.ipynb\" target=\"_parent\"><img src=\"https://colab.research.google.com/assets/colab-badge.svg\" alt=\"Open In Colab\"/></a>"
      ]
    },
    {
      "cell_type": "code",
      "metadata": {
        "id": "MC26Bm1UyUR5",
        "colab_type": "code",
        "colab": {
          "base_uri": "https://localhost:8080/",
          "height": 110
        },
        "outputId": "5cfb8b26-3a43-4e3d-b6c6-35785f289b2a"
      },
      "source": [
        "!pip install pyade-python"
      ],
      "execution_count": 1,
      "outputs": [
        {
          "output_type": "stream",
          "text": [
            "Collecting pyade-python\n",
            "  Downloading https://files.pythonhosted.org/packages/02/e7/aefff90c8de0ad3ff151d51507ec65a2988b7cce9126c342746f77615d9f/pyade_python-1.1-py3-none-any.whl\n",
            "Installing collected packages: pyade-python\n",
            "Successfully installed pyade-python-1.1\n"
          ],
          "name": "stdout"
        }
      ]
    },
    {
      "cell_type": "code",
      "metadata": {
        "id": "rRwqrtCmgzdZ",
        "colab_type": "code",
        "colab": {
          "base_uri": "https://localhost:8080/",
          "height": 237
        },
        "outputId": "76ccb7e9-fbe8-44cf-bd43-7120050c778b"
      },
      "source": [
        "!pip install PyFDE"
      ],
      "execution_count": 2,
      "outputs": [
        {
          "output_type": "stream",
          "text": [
            "Collecting PyFDE\n",
            "\u001b[?25l  Downloading https://files.pythonhosted.org/packages/72/f9/87f7279554d2682e3827d39c3d3a565b2fd42f7114a779e34a601c6c5079/PyFDE-1.3.0.tar.gz (397kB)\n",
            "\r\u001b[K     |▉                               | 10kB 5.3MB/s eta 0:00:01\r\u001b[K     |█▋                              | 20kB 1.4MB/s eta 0:00:01\r\u001b[K     |██▌                             | 30kB 1.9MB/s eta 0:00:01\r\u001b[K     |███▎                            | 40kB 1.5MB/s eta 0:00:01\r\u001b[K     |████▏                           | 51kB 1.8MB/s eta 0:00:01\r\u001b[K     |█████                           | 61kB 2.0MB/s eta 0:00:01\r\u001b[K     |█████▊                          | 71kB 2.2MB/s eta 0:00:01\r\u001b[K     |██████▋                         | 81kB 2.5MB/s eta 0:00:01\r\u001b[K     |███████▍                        | 92kB 2.6MB/s eta 0:00:01\r\u001b[K     |████████▎                       | 102kB 2.6MB/s eta 0:00:01\r\u001b[K     |█████████                       | 112kB 2.6MB/s eta 0:00:01\r\u001b[K     |██████████                      | 122kB 2.6MB/s eta 0:00:01\r\u001b[K     |██████████▊                     | 133kB 2.6MB/s eta 0:00:01\r\u001b[K     |███████████▌                    | 143kB 2.6MB/s eta 0:00:01\r\u001b[K     |████████████▍                   | 153kB 2.6MB/s eta 0:00:01\r\u001b[K     |█████████████▏                  | 163kB 2.6MB/s eta 0:00:01\r\u001b[K     |██████████████                  | 174kB 2.6MB/s eta 0:00:01\r\u001b[K     |██████████████▉                 | 184kB 2.6MB/s eta 0:00:01\r\u001b[K     |███████████████▊                | 194kB 2.6MB/s eta 0:00:01\r\u001b[K     |████████████████▌               | 204kB 2.6MB/s eta 0:00:01\r\u001b[K     |█████████████████▎              | 215kB 2.6MB/s eta 0:00:01\r\u001b[K     |██████████████████▏             | 225kB 2.6MB/s eta 0:00:01\r\u001b[K     |███████████████████             | 235kB 2.6MB/s eta 0:00:01\r\u001b[K     |███████████████████▉            | 245kB 2.6MB/s eta 0:00:01\r\u001b[K     |████████████████████▋           | 256kB 2.6MB/s eta 0:00:01\r\u001b[K     |█████████████████████▌          | 266kB 2.6MB/s eta 0:00:01\r\u001b[K     |██████████████████████▎         | 276kB 2.6MB/s eta 0:00:01\r\u001b[K     |███████████████████████         | 286kB 2.6MB/s eta 0:00:01\r\u001b[K     |████████████████████████        | 296kB 2.6MB/s eta 0:00:01\r\u001b[K     |████████████████████████▊       | 307kB 2.6MB/s eta 0:00:01\r\u001b[K     |█████████████████████████▋      | 317kB 2.6MB/s eta 0:00:01\r\u001b[K     |██████████████████████████▍     | 327kB 2.6MB/s eta 0:00:01\r\u001b[K     |███████████████████████████▎    | 337kB 2.6MB/s eta 0:00:01\r\u001b[K     |████████████████████████████    | 348kB 2.6MB/s eta 0:00:01\r\u001b[K     |████████████████████████████▉   | 358kB 2.6MB/s eta 0:00:01\r\u001b[K     |█████████████████████████████▊  | 368kB 2.6MB/s eta 0:00:01\r\u001b[K     |██████████████████████████████▌ | 378kB 2.6MB/s eta 0:00:01\r\u001b[K     |███████████████████████████████▍| 389kB 2.6MB/s eta 0:00:01\r\u001b[K     |████████████████████████████████| 399kB 2.6MB/s \n",
            "\u001b[?25hRequirement already satisfied: numpy in /usr/local/lib/python3.6/dist-packages (from PyFDE) (1.18.5)\n",
            "Building wheels for collected packages: PyFDE\n",
            "  Building wheel for PyFDE (setup.py) ... \u001b[?25l\u001b[?25hdone\n",
            "  Created wheel for PyFDE: filename=PyFDE-1.3.0-cp36-cp36m-linux_x86_64.whl size=969305 sha256=be5cef05ada27cd73c2eebb3f1ce89694f40ec00e4493d3f1a0bef7a114b9e78\n",
            "  Stored in directory: /root/.cache/pip/wheels/7d/42/ba/abf21db37934e576c74fc2c9504b5cd97eb6a99e3dec1743c0\n",
            "Successfully built PyFDE\n",
            "Installing collected packages: PyFDE\n",
            "Successfully installed PyFDE-1.3.0\n"
          ],
          "name": "stdout"
        }
      ]
    },
    {
      "cell_type": "code",
      "metadata": {
        "id": "anFukot-ypn6",
        "colab_type": "code",
        "colab": {}
      },
      "source": [
        "import pyade.ilshade \n",
        "import pyade.sade \n",
        "import pyade.jso\n",
        "import pyade.shade\n",
        "import pyade.jade \n",
        "import pyfde\n",
        "import numpy as np\n",
        "import pandas as pd\n",
        "import time"
      ],
      "execution_count": 3,
      "outputs": []
    },
    {
      "cell_type": "code",
      "metadata": {
        "id": "6Oh714_-z1Ia",
        "colab_type": "code",
        "colab": {
          "base_uri": "https://localhost:8080/",
          "height": 163
        },
        "outputId": "ac21f6c3-084f-4094-c8cc-4f3f326ea93f"
      },
      "source": [
        "!git clone https://github.com/ucfilho/Raianars_July_2020 #clonar do Github\n",
        "%cd Raianars_July_2020"
      ],
      "execution_count": 4,
      "outputs": [
        {
          "output_type": "stream",
          "text": [
            "Cloning into 'Raianars_July_2020'...\n",
            "remote: Enumerating objects: 3, done.\u001b[K\n",
            "remote: Counting objects: 100% (3/3), done.\u001b[K\n",
            "remote: Compressing objects: 100% (3/3), done.\u001b[K\n",
            "remote: Total 126 (delta 0), reused 0 (delta 0), pack-reused 123\u001b[K\n",
            "Receiving objects: 100% (126/126), 198.23 KiB | 551.00 KiB/s, done.\n",
            "Resolving deltas: 100% (62/62), done.\n",
            "/content/Raianars_July_2020\n"
          ],
          "name": "stdout"
        }
      ]
    },
    {
      "cell_type": "code",
      "metadata": {
        "id": "LnzftXkky78A",
        "colab_type": "code",
        "colab": {}
      },
      "source": [
        "import Go2Ann\n",
        "import de_soma_Insight\n",
        "import de_bounds_matriz\n",
        "from AvaliaX import AvaliaX\n",
        "from GeraIndices import GeraIndices"
      ],
      "execution_count": 5,
      "outputs": []
    },
    {
      "cell_type": "code",
      "metadata": {
        "id": "HNW92728z7fR",
        "colab_type": "code",
        "colab": {}
      },
      "source": [
        "import Function\n",
        "import Go2MinMax"
      ],
      "execution_count": 6,
      "outputs": []
    },
    {
      "cell_type": "code",
      "metadata": {
        "id": "T_C-e7aH0CZH",
        "colab_type": "code",
        "colab": {}
      },
      "source": [
        "ITE=2000 #10 # PONTOS quantas vezes vai alteral NPAR \n",
        "NPAR=100 # NUMBER OF PARTICLES\n",
        "dim=30\n",
        "RUNS=50\n",
        "fchoice='Alpine_n1'  #f2\n",
        "Fun=Function.Alpine_n1\n",
        "\n",
        "MIN,MAX=Go2MinMax.Intervalo(dim,fchoice)\n",
        "bounds = [(0,0)]*dim\n",
        "\n",
        "for i in range(dim):\n",
        "  bounds[i] = (MIN[i],MAX[i])"
      ],
      "execution_count": 7,
      "outputs": []
    },
    {
      "cell_type": "code",
      "metadata": {
        "id": "Nqv5qp9yzQEw",
        "colab_type": "code",
        "colab": {}
      },
      "source": [
        "############################### INPUT INFORMATION (FRANNK)\n",
        "Fc=0.1 # fator de correcao parametros da ANN\n",
        "its=1 #10 # quantas vezes vai usar o NPAR antes de alterar de novo\n",
        "mut=0.5\n",
        "crossp=0.5\n",
        "Fi=mut;CRi=crossp;# para impressão\n",
        "PAR=len(MAX) #NUM DE PARAMETROS A SER OTIMIZADOS"
      ],
      "execution_count": 8,
      "outputs": []
    },
    {
      "cell_type": "code",
      "metadata": {
        "id": "WkbM98uny0QY",
        "colab_type": "code",
        "colab": {
          "base_uri": "https://localhost:8080/",
          "height": 308
        },
        "outputId": "ad067269-5626-48ab-d26e-c5e67be5ba52"
      },
      "source": [
        "# IL-Shade\n",
        "\n",
        "BEST_AGENTS=[]\n",
        "start_time = time.time() \n",
        "for i in range(RUNS):\n",
        "  ANSWER_AGENTS=[]\n",
        "  algorithm = pyade.ilshade \n",
        "  params = algorithm.get_default_params(dim=dim) \n",
        "  params['bounds'] = np.array(bounds)\n",
        "  params['max_evals'] = ITE \n",
        "  params['func'] = Fun\n",
        "  params['max_evals'] = ITE\n",
        "  best, fit = algorithm.apply(**params)\n",
        "  for x in best:\n",
        "    ANSWER_AGENTS.append(x)\n",
        "  ANSWER_AGENTS.append(fit)\n",
        "  BEST_AGENTS.append(ANSWER_AGENTS)\n",
        "BEST_AGENTS=np.array(BEST_AGENTS)\n",
        "TIME = (time.time() - start_time)/RUNS\n",
        "BEST_AGENTS=np.array(BEST_AGENTS)\n",
        "BEST_AGENTS_ST= BEST_AGENTS[BEST_AGENTS[:,-1].argsort()]\n",
        "BEST=BEST_AGENTS_ST[0]\n",
        "WORSE=BEST_AGENTS_ST[-1]\n",
        "MEAN=np.mean(BEST_AGENTS,axis=0)\n",
        "MAXFO=BEST_AGENTS[:,-1].max()\n",
        "MINFO=BEST_AGENTS[:,-1].min()\n",
        "STD=BEST_AGENTS[:,-1].std()\n",
        "nome='IL-Shade_Fo-'+str(0)+'_CRo-'+str(0)\n",
        "print(nome,'NPAR',NPAR,'Iterações=',ITE,'Dim=',dim ,\"Min/Max=\",MIN[0],\"/\",MAX[0],'_',Fun.__name__)\n",
        "print( '\\n')\n",
        "print('MÉDIA: ',MEAN[-1])\n",
        "print('MIN __:',MINFO)\n",
        "print('MAX__: ',MAXFO)\n",
        "print('STD __:',STD)\n",
        "print(\"Tempo Médio= %.3f segundos ---\" % (TIME))\n",
        "print(RUNS,'Rodadas') \n",
        "print()\n",
        "print('BEST: ',BEST)"
      ],
      "execution_count": 9,
      "outputs": [
        {
          "output_type": "stream",
          "text": [
            "IL-Shade_Fo-0_CRo-0 NPAR 100 Iterações= 2000 Dim= 30 Min/Max= -10 / 10 _ Alpine_n1\n",
            "\n",
            "\n",
            "MÉDIA:  0.28448719549720763\n",
            "MIN __: 0.11015073755529353\n",
            "MAX__:  0.5272735949921032\n",
            "STD __: 0.08547216167078073\n",
            "Tempo Médio= 0.262 segundos ---\n",
            "50 Rodadas\n",
            "\n",
            "BEST:  [-0.09478632 -0.10691859 -0.04487032  0.00039919 -0.1154512   0.06453476\n",
            " -0.22844377 -0.14757932  0.04379064 -0.0543616  -0.03367298 -0.11106397\n",
            " -0.16038921 -0.00025433 -0.14958258 -0.10339863 -0.09756877 -0.08282337\n",
            " -0.07749861  0.07256198 -0.10605431 -0.11481861 -0.01685    -0.10963423\n",
            " -0.10810707 -0.0384697  -0.09962845 -0.0306892  -0.07560859 -0.10763082\n",
            "  0.11015074]\n"
          ],
          "name": "stdout"
        }
      ]
    },
    {
      "cell_type": "code",
      "metadata": {
        "id": "v4dbY4tSsFMb",
        "colab_type": "code",
        "colab": {
          "base_uri": "https://localhost:8080/",
          "height": 308
        },
        "outputId": "704ec18f-17ef-4b3c-8db6-8c09c8088fec"
      },
      "source": [
        "# Jso\n",
        "\n",
        "BEST_AGENTS=[]\n",
        "start_time = time.time() \n",
        "for i in range(RUNS):\n",
        "  ANSWER_AGENTS=[]\n",
        "  algorithm = pyade.jso\n",
        "  params = algorithm.get_default_params(dim=dim) \n",
        "  params['bounds'] = np.array(bounds)\n",
        "  params['max_evals'] = ITE \n",
        "  params['func'] = Fun\n",
        "  best, fit = algorithm.apply(**params)\n",
        "  for x in best:\n",
        "    ANSWER_AGENTS.append(x)\n",
        "  ANSWER_AGENTS.append(fit)\n",
        "  BEST_AGENTS.append(ANSWER_AGENTS)\n",
        "BEST_AGENTS=np.array(BEST_AGENTS)\n",
        "TIME = (time.time() - start_time)/RUNS\n",
        "BEST_AGENTS=np.array(BEST_AGENTS)\n",
        "BEST_AGENTS_ST= BEST_AGENTS[BEST_AGENTS[:,-1].argsort()]\n",
        "BEST=BEST_AGENTS_ST[0]\n",
        "WORSE=BEST_AGENTS_ST[-1]\n",
        "MEAN=np.mean(BEST_AGENTS,axis=0)\n",
        "MAXFO=BEST_AGENTS[:,-1].max()\n",
        "MINFO=BEST_AGENTS[:,-1].min()\n",
        "STD=BEST_AGENTS[:,-1].std()\n",
        "nome='Jso-'+str(0)+'_CRo-'+str(0)\n",
        "print(nome,'NPAR',NPAR,'Iterações=',ITE,'Dim=',dim ,\"Min/Max=\",MIN[0],\"/\",MAX[0],'_',Fun.__name__)\n",
        "print( '\\n')\n",
        "print('MÉDIA: ',MEAN[-1])\n",
        "print('MIN __:',MINFO)\n",
        "print('MAX__: ',MAXFO)\n",
        "print('STD __:',STD)\n",
        "print(\"Tempo Médio= %.3f segundos ---\" % (TIME))\n",
        "print(RUNS,'Rodadas') \n",
        "print()\n",
        "print('BEST: ',BEST)"
      ],
      "execution_count": 10,
      "outputs": [
        {
          "output_type": "stream",
          "text": [
            "Jso-0_CRo-0 NPAR 100 Iterações= 2000 Dim= 30 Min/Max= -10 / 10 _ Alpine_n1\n",
            "\n",
            "\n",
            "MÉDIA:  0.5151282885223435\n",
            "MIN __: 0.2657256877942788\n",
            "MAX__:  0.7911034883838491\n",
            "STD __: 0.11759587021120708\n",
            "Tempo Médio= 0.193 segundos ---\n",
            "50 Rodadas\n",
            "\n",
            "BEST:  [-0.10946593  0.11365545  0.02509627 -0.08489201  0.00141992 -0.02307134\n",
            "  0.04203519 -0.03899774 -0.10694189  0.04265428  0.01527757  0.17768738\n",
            " -0.03349572 -0.02806909 -0.09597297 -0.08260964  0.01246425 -0.2215858\n",
            " -0.09942156  0.06042041  0.12315867 -0.18519742  0.03518589 -0.14463068\n",
            "  0.06424632  0.02786172 -0.03263814 -0.26301375 -0.12040293 -0.15883908\n",
            "  0.26572569]\n"
          ],
          "name": "stdout"
        }
      ]
    },
    {
      "cell_type": "code",
      "metadata": {
        "id": "ZkV_dpDa14C8",
        "colab_type": "code",
        "colab": {
          "base_uri": "https://localhost:8080/",
          "height": 308
        },
        "outputId": "164f679d-7fa1-43ac-eb0d-871239849cf4"
      },
      "source": [
        "# Sade\n",
        "\n",
        "BEST_AGENTS=[]\n",
        "start_time = time.time() \n",
        "for i in range(RUNS):\n",
        "  ANSWER_AGENTS=[]\n",
        "  algorithm = pyade.sade\n",
        "  params = algorithm.get_default_params(dim=dim) \n",
        "  params['bounds'] = np.array(bounds)\n",
        "  params['max_evals'] = ITE \n",
        "  params['func'] = Fun\n",
        "  best, fit = algorithm.apply(**params)\n",
        "  for x in best:\n",
        "    ANSWER_AGENTS.append(x)\n",
        "  ANSWER_AGENTS.append(fit)\n",
        "  BEST_AGENTS.append(ANSWER_AGENTS)\n",
        "BEST_AGENTS=np.array(BEST_AGENTS)\n",
        "TIME = (time.time() - start_time)/RUNS\n",
        "BEST_AGENTS=np.array(BEST_AGENTS)\n",
        "BEST_AGENTS_ST= BEST_AGENTS[BEST_AGENTS[:,-1].argsort()]\n",
        "BEST=BEST_AGENTS_ST[0]\n",
        "WORSE=BEST_AGENTS_ST[-1]\n",
        "MEAN=np.mean(BEST_AGENTS,axis=0)\n",
        "MAXFO=BEST_AGENTS[:,-1].max()\n",
        "MINFO=BEST_AGENTS[:,-1].min()\n",
        "STD=BEST_AGENTS[:,-1].std()\n",
        "nome='Sade_Fo-'+str(0)+'_CRo-'+str(0)\n",
        "print(nome,'NPAR',NPAR,'Iterações=',ITE,'Dim=',dim ,\"Min/Max=\",MIN[0],\"/\",MAX[0],'_',Fun.__name__)\n",
        "print( '\\n')\n",
        "print('MÉDIA: ',MEAN[-1])\n",
        "print('MIN __:',MINFO)\n",
        "print('MAX__: ',MAXFO)\n",
        "print('STD __:',STD)\n",
        "print(\"Tempo Médio= %.3f segundos ---\" % (TIME))\n",
        "print(RUNS,'Rodadas') \n",
        "print()\n",
        "print('BEST: ',BEST)"
      ],
      "execution_count": 11,
      "outputs": [
        {
          "output_type": "stream",
          "text": [
            "Sade_Fo-0_CRo-0 NPAR 100 Iterações= 2000 Dim= 30 Min/Max= -10 / 10 _ Alpine_n1\n",
            "\n",
            "\n",
            "MÉDIA:  6.694159375957371\n",
            "MIN __: 5.146904852577808\n",
            "MAX__:  7.785302663501724\n",
            "STD __: 0.6733293267350757\n",
            "Tempo Médio= 0.178 segundos ---\n",
            "50 Rodadas\n",
            "\n",
            "BEST:  [-0.1201632  -0.39676438 -0.52197071  0.22691786 -0.07322902 -0.40364712\n",
            "  0.27747613 -0.56551424 -0.79925899 -0.12089417  0.92352343  0.82943297\n",
            "  0.27054282  0.0418727   0.17346107 -0.78961582  0.06163426  0.56475234\n",
            " -0.68523728 -0.02554184 -0.46205333  0.15404643 -0.24336839 -0.5885724\n",
            " -0.57325879 -0.22794777  0.25307546 -0.04701612 -0.05512022 -0.17269338\n",
            "  5.14690485]\n"
          ],
          "name": "stdout"
        }
      ]
    },
    {
      "cell_type": "code",
      "metadata": {
        "id": "q77YsFa82zFU",
        "colab_type": "code",
        "colab": {
          "base_uri": "https://localhost:8080/",
          "height": 345
        },
        "outputId": "b7ad3dac-e780-497d-fcd6-c81f75796b4a"
      },
      "source": [
        "# JADE\n",
        "algorithm = pyade.jso\n",
        "BEST_AGENTS=[]\n",
        "for i in range(RUNS):\n",
        "  ANSWER_AGENTS=[]\n",
        "  solver = pyfde.JADE(Fun, n_dim=dim, n_pop=NPAR, limits=bounds, minimize=True)\n",
        "  solver.p = 0.05\n",
        "  solver.c = 0.1\n",
        "  solver.cr = 0.5\n",
        "  solver.f = 0.5\n",
        "  best, fit = solver.run(n_it=ITE)\n",
        "  for x in best:\n",
        "    ANSWER_AGENTS.append(x)\n",
        "  ANSWER_AGENTS.append(fit)\n",
        "  BEST_AGENTS.append(ANSWER_AGENTS)\n",
        "BEST_AGENTS=np.array(BEST_AGENTS)\n",
        "TIME = (time.time() - start_time)/RUNS\n",
        "BEST_AGENTS=np.array(BEST_AGENTS)\n",
        "BEST_AGENTS_ST= BEST_AGENTS[BEST_AGENTS[:,-1].argsort()]\n",
        "BEST=BEST_AGENTS_ST[0]\n",
        "WORSE=BEST_AGENTS_ST[-1]\n",
        "MEAN=np.mean(BEST_AGENTS,axis=0)\n",
        "MAXFO=BEST_AGENTS[:,-1].max()\n",
        "MINFO=BEST_AGENTS[:,-1].min()\n",
        "STD=BEST_AGENTS[:,-1].std()\n",
        "nome='JADE_Fo-'+str(0)+'_CRo-'+str(0)\n",
        "print(nome,'NPAR',NPAR,'Iterações=',ITE,'Dim=',dim ,\"Min/Max=\",MIN[0],\"/\",MAX[0],'_',Fun.__name__)\n",
        "print( '\\n')\n",
        "print('MÉDIA: ',MEAN[-1])\n",
        "print('MIN __:',MINFO)\n",
        "print('MAX__: ',MAXFO)\n",
        "print('STD __:',STD)\n",
        "print(\"Tempo Médio= %.3f segundos ---\" % (TIME))\n",
        "print(RUNS,'Rodadas') \n",
        "print()\n",
        "print('BEST: ',BEST)"
      ],
      "execution_count": 12,
      "outputs": [
        {
          "output_type": "stream",
          "text": [
            "JADE_Fo-0_CRo-0 NPAR 100 Iterações= 2000 Dim= 30 Min/Max= -10 / 10 _ Alpine_n1\n",
            "\n",
            "\n",
            "MÉDIA:  -5.987621630984549e-06\n",
            "MIN __: -1.2405713198408684e-05\n",
            "MAX__:  -2.058235863381155e-07\n",
            "STD __: 2.7540454788794407e-06\n",
            "Tempo Médio= 10.183 segundos ---\n",
            "50 Rodadas\n",
            "\n",
            "BEST:  [-1.15754520e-07 -1.00152441e-01 -1.00169903e-01 -1.52873189e-07\n",
            "  9.13603139e-07 -1.00149699e-01 -1.00171084e-01 -1.00167123e-01\n",
            "  5.43105340e-06 -7.60042939e-06 -3.49369301e-06 -1.00166799e-01\n",
            " -1.00169799e-01 -1.00158807e-01 -1.22595073e-06 -1.00166272e-01\n",
            " -1.00168055e-01 -1.17584236e-05  1.28917548e-06 -1.00626504e-05\n",
            " -1.00162579e-01 -1.00169839e-01 -1.00178113e-01 -1.00166446e-01\n",
            " -9.09886309e-07  2.98382473e-06  2.40742696e-06  3.20974079e-06\n",
            "  7.78724694e-08 -1.00166215e-01 -1.24057132e-05]\n"
          ],
          "name": "stdout"
        }
      ]
    },
    {
      "cell_type": "code",
      "metadata": {
        "id": "gXdUgSStzppX",
        "colab_type": "code",
        "colab": {}
      },
      "source": [
        "# FRANNK START HERE !!!!!"
      ],
      "execution_count": 13,
      "outputs": []
    },
    {
      "cell_type": "code",
      "metadata": {
        "id": "raWOfeJBztuj",
        "colab_type": "code",
        "colab": {
          "base_uri": "https://localhost:8080/",
          "height": 145
        },
        "outputId": "0d1c7d93-4787-43d9-b0e6-73801703f23a"
      },
      "source": [
        "!git clone https://github.com/ucfilho/ANN_read_matrix #clonar do Github\n",
        "%cd ANN_read_matrix"
      ],
      "execution_count": 14,
      "outputs": [
        {
          "output_type": "stream",
          "text": [
            "Cloning into 'ANN_read_matrix'...\n",
            "remote: Enumerating objects: 20, done.\u001b[K\n",
            "remote: Counting objects: 100% (20/20), done.\u001b[K\n",
            "remote: Compressing objects: 100% (18/18), done.\u001b[K\n",
            "remote: Total 20 (delta 5), reused 0 (delta 0), pack-reused 0\u001b[K\n",
            "Unpacking objects: 100% (20/20), done.\n",
            "/content/Raianars_July_2020/ANN_read_matrix\n"
          ],
          "name": "stdout"
        }
      ]
    },
    {
      "cell_type": "code",
      "metadata": {
        "id": "N2lyPfivzwGv",
        "colab_type": "code",
        "colab": {
          "base_uri": "https://localhost:8080/",
          "height": 1000
        },
        "outputId": "a10b2ee7-3299-4699-a3ab-612ee40a4707"
      },
      "source": [
        "ANN_F=pd.read_csv('ANN_INSIGHT_Valor_F.csv')\n",
        "ANN_CR=pd.read_csv('ANN_INSIGHT_CR.csv')\n",
        "syn0_F,syn1_F,X_max_F,X_min_F=Go2Ann.GetMatriz(ANN_F)\n",
        "syn0_CR,syn1_CR,X_max_CR,X_min_CR=Go2Ann.GetMatriz(ANN_CR)\n",
        "fields = ['DI RELATIVO','FRAC Its','Fo','CRo']\n",
        "\n",
        "#TOTAL=7*dim*its*ITE\n",
        "TOTAL=10*dim*its*ITE\n",
        "TOTAL=int(TOTAL/2)   # CONFERIR SE ESTE EH O MELHOR LUGAR\n",
        "\n",
        "dimensions=len(MAX)\n",
        "start_time = time.time() #INICIALIZA CONTAGEM DO TEMPO\n",
        "\n",
        "MAX_P=np.zeros(ITE) # ATENCAO para variar F e Cr MAX_P passa a ser 3 vezes maior\n",
        "MIN_P=np.zeros(ITE) # ATENCAO para variar F e Cr MIN_P passa a ser 3 vezes maior\n",
        "\n",
        "for i in range(dim):\n",
        "  MAX_P[i]=MAX[i] \n",
        "  MIN_P[i]=MIN[i]\n",
        "\n",
        "rodadas=1\n",
        "for i in range(rodadas):\n",
        "  SOMA=0\n",
        "  pop = np.random.rand(NPAR, dimensions)\n",
        "  diff=np.zeros(PAR)\n",
        "  for ii in range(PAR):\n",
        "    diff[ii] = MAX[ii]-MIN[ii]\n",
        "  X = MIN + pop * diff\n",
        "    \n",
        "  PONTOS=ITE # DIVISOES DA POPULACAO\n",
        "start_time = time.time()\n",
        "BEST_AGENTS=[]\n",
        "MAT_stat=[]\n",
        "for i in range(RUNS):\n",
        "    MAT=[] \n",
        "    mut=Fi\n",
        "    crossp=CRi\n",
        "    SOMA=0\n",
        "    SOMAf=0\n",
        "    start_ite = time.time()\n",
        "    delta_time=(start_ite-start_time)/60\n",
        "    print('ite=',i,'total=50','time=',delta_time)\n",
        "    pop = np.random.rand(NPAR, dim)\n",
        "    diff=np.zeros(PAR)\n",
        "    for ii in range(PAR):\n",
        "      diff[ii] = MAX[ii]-MIN[ii]\n",
        "    X = MIN + pop * diff\n",
        "    Xf = MIN + pop * diff\n",
        "    \n",
        "    DIo=1e99\n",
        "  \n",
        "    CRo=crossp;Fo=mut;\n",
        "    Fitness = np.asarray([Fun(ind) for ind in X])\n",
        "\n",
        "    XY,BEST_XY,BESTo,FOBESTo=AvaliaX(X,Fitness)\n",
        "    nrow,ncol=X.shape\n",
        "\n",
        "    QUANT=17;MAT_INDo=np.zeros((1,QUANT)); # quantos indices esta fazendo\n",
        "    MAT_INDo[0,5]=nrow  # VALOR NP\n",
        "    MAT_INDo[0,6]=Fo    # VALOR Fo   \n",
        "    MAT_INDo[0,7]=CRo   # VALOR CRo\n",
        "  \n",
        "    MAT_INDo=GeraIndices(X,BESTo,FOBESTo,DIo,MAT_INDo,SOMA,TOTAL,syn0_F,\n",
        "                        syn1_F,X_max_F,X_min_F,syn0_CR,syn1_CR,X_max_CR,\n",
        "                        X_min_CR,Fc,fields,Fun)\n",
        "  \n",
        "    DIo=np.copy(MAT_INDo[0,0])\n",
        "    MAT_INDo[0,15]=Fo    # VALOR Fo   \n",
        "    MAT_INDo[0,16]=CRo   # VALOR CRo\n",
        "    #ind_crossp=ITE-1\n",
        "\n",
        "    \n",
        "    for k in range(ITE):\n",
        "      X,BEST,FOBEST,XY,BEST_XY,SOMA= de_soma_Insight.de(MAX,MIN, mut, crossp,NPAR,its,Fun,X,SOMA,TOTAL)\n",
        "      #Xf,BESTf,FOBESTf,XYf,BEST_XYf,SOMAf= de_soma_Insight.de(MAX,MIN, Fi, CRi, NPAR,its,Fun,Xf,SOMAf,TOTAL)\n",
        "\n",
        "      \n",
        "      MAT_IND=GeraIndices(X,BESTo,FOBESTo,DIo,MAT_INDo,SOMA,TOTAL,syn0_F,\n",
        "                          syn1_F,X_max_F,X_min_F,syn0_CR,syn1_CR,X_max_CR,\n",
        "                          X_min_CR,Fc,fields,Fun)\n",
        "    \n",
        "      BESTo=np.copy(BEST);FOBESTo=np.copy(FOBEST);\n",
        "      MAT.append(MAT_IND.ravel())\n",
        "    \n",
        "      MAT_INDo[0,6]=MAT_IND[0,15]   # VALOR Fo   \n",
        "      MAT_INDo[0,7]=MAT_IND[0,16]   # VALOR CRo\n",
        "      mut=MAT_IND[0,15]\n",
        "      crossp=MAT_IND[0,16]\n",
        "\n",
        "      Fitness = np.asarray([Fun(ind) for ind in X])\n",
        "      #Fitnessf = np.asarray([Fun(ind) for ind in Xf])\n",
        "      Maior=np.argmax(Fitness)\n",
        "      #Maiorf=np.argmax(Fitnessf)\n",
        "      Menor=np.argmin(Fitness)\n",
        "      #Menorf=np.argmin(Fitnessf)\n",
        "\n",
        "      #X[Maior,:]=np.copy(Xf[Menorf,:])\n",
        "      #Xf[Maiorf,:]=np.copy(X[Menor,:])\n",
        "      \n",
        "    BEST_AGENTS.append(BEST_XY)\n",
        "    MAT_stat.append(MAT)\n",
        "    #print(\"GlobalParam e Solucao:\", BEST,\"Funcao=\",FOBEST)\n",
        "    \n",
        "############################## Cálculo dos Parâmetros de Avaliação   \n",
        "TIME = (time.time() - start_time)/RUNS\n",
        "BEST_AGENTS=np.array(BEST_AGENTS)\n",
        "BEST_AGENTS_ST= BEST_AGENTS[BEST_AGENTS[:,-1].argsort()]\n",
        "BEST=BEST_AGENTS_ST[0]\n",
        "WORSE=BEST_AGENTS_ST[-1]\n",
        "MEAN=np.mean(BEST_AGENTS,axis=0)\n",
        "MAXFO=BEST_AGENTS[:,-1].max()\n",
        "MINFO=BEST_AGENTS[:,-1].min()\n",
        "STD=BEST_AGENTS[:,-1].std()\n",
        "\n",
        "nome='_ANN_Div3x4_Fo-'+str(Fi)+'_CRo-'+str(CRi)+'_D-'+str(dim)+'_Interv-'+str(ITE)\n",
        "print('DE_POP_VAR_F_CR','TOTAL=',TOTAL,'Iterações=',ITE*its,'Dim=', PAR,\"Min/Max=\",MIN[0],\"/\",MAX[0],'_',Fun.__name__)\n",
        "print(nome, '\\n')\n",
        "print('MÉDIA: ',MEAN[-1])\n",
        "print('MIN __:',MINFO)\n",
        "print('MAX__: ',MAXFO)\n",
        "print('STD __:',STD)\n",
        "print(\"Tempo Médio= %.3f segundos ---\" % (TIME))\n",
        "print(RUNS,'Rodadas') \n",
        "print()\n",
        "print('BEST: ',BEST)"
      ],
      "execution_count": 15,
      "outputs": [
        {
          "output_type": "stream",
          "text": [
            "ite= 0 total=50 time= 7.379055023193359e-06\n",
            "ite= 1 total=50 time= 2.8035749157269794\n",
            "ite= 2 total=50 time= 5.628111950556437\n",
            "ite= 3 total=50 time= 8.436106606324513\n",
            "ite= 4 total=50 time= 11.245465596516928\n",
            "ite= 5 total=50 time= 14.018606746196747\n",
            "ite= 6 total=50 time= 16.81572206020355\n",
            "ite= 7 total=50 time= 19.609859724839527\n",
            "ite= 8 total=50 time= 22.428800209363303\n",
            "ite= 9 total=50 time= 25.24282904068629\n",
            "ite= 10 total=50 time= 28.072499187787376\n",
            "ite= 11 total=50 time= 30.930228714148203\n",
            "ite= 12 total=50 time= 33.73023510376613\n",
            "ite= 13 total=50 time= 36.522773293654126\n",
            "ite= 14 total=50 time= 39.41183542410533\n",
            "ite= 15 total=50 time= 42.22286202907562\n",
            "ite= 16 total=50 time= 45.03331446647644\n",
            "ite= 17 total=50 time= 47.84541854461034\n",
            "ite= 18 total=50 time= 50.64153530200323\n",
            "ite= 19 total=50 time= 53.44167527755101\n",
            "ite= 20 total=50 time= 56.23818001349767\n",
            "ite= 21 total=50 time= 59.03004499673843\n",
            "ite= 22 total=50 time= 61.85202997922897\n",
            "ite= 23 total=50 time= 64.61890498399734\n",
            "ite= 24 total=50 time= 67.41775621970494\n",
            "ite= 25 total=50 time= 70.20972068309784\n",
            "ite= 26 total=50 time= 73.0848724047343\n",
            "ite= 27 total=50 time= 75.88795581658681\n",
            "ite= 28 total=50 time= 78.69609918196996\n",
            "ite= 29 total=50 time= 81.55651152928671\n",
            "ite= 30 total=50 time= 84.35259673198064\n",
            "ite= 31 total=50 time= 87.14955073992411\n",
            "ite= 32 total=50 time= 89.92320809364318\n",
            "ite= 33 total=50 time= 92.72311377127966\n",
            "ite= 34 total=50 time= 95.52527513504029\n",
            "ite= 35 total=50 time= 98.33003367582957\n",
            "ite= 36 total=50 time= 101.10431039730707\n",
            "ite= 37 total=50 time= 103.90080165068308\n",
            "ite= 38 total=50 time= 106.69960488478343\n",
            "ite= 39 total=50 time= 109.50958967208862\n",
            "ite= 40 total=50 time= 112.31371667385102\n",
            "ite= 41 total=50 time= 115.11094913880031\n",
            "ite= 42 total=50 time= 117.91985021432241\n",
            "ite= 43 total=50 time= 120.74740777413051\n",
            "ite= 44 total=50 time= 123.58700656890869\n",
            "ite= 45 total=50 time= 126.39712824821473\n",
            "ite= 46 total=50 time= 129.18999943733215\n",
            "ite= 47 total=50 time= 132.06288725932438\n",
            "ite= 48 total=50 time= 134.8724211772283\n",
            "ite= 49 total=50 time= 137.68487754662831\n",
            "DE_POP_VAR_F_CR TOTAL= 300000 Iterações= 2000 Dim= 30 Min/Max= -10 / 10 _ Alpine_n1\n",
            "_ANN_Div3x4_Fo-0.5_CRo-0.5_D-30_Interv-2000 \n",
            "\n",
            "MÉDIA:  1.7847026140431104e-06\n",
            "MIN __: 2.626748046975871e-12\n",
            "MAX__:  3.725950965541694e-05\n",
            "STD __: 6.7348205060737265e-06\n",
            "Tempo Médio= 168.588 segundos ---\n",
            "50 Rodadas\n",
            "\n",
            "BEST:  [ 6.05815912e-18 -1.00167421e-01 -1.00167421e-01 -1.00167421e-01\n",
            "  8.75129913e-17  1.32738828e-16 -1.00167421e-01 -1.00167421e-01\n",
            " -1.00167421e-01 -1.00167421e-01 -1.00167421e-01 -1.00167421e-01\n",
            " -1.00167421e-01 -1.00167421e-01 -2.06036351e-16 -1.00167421e-01\n",
            "  2.21458663e-16 -1.00167421e-01 -1.00167421e-01  9.89056468e-18\n",
            "  4.93066810e-18 -1.82344051e-12 -1.00167421e-01 -1.00167421e-01\n",
            " -1.00167421e-01 -1.00167421e-01 -1.00167421e-01 -4.50888725e-18\n",
            " -1.00167421e-01  6.42222930e-14  2.62674805e-12]\n"
          ],
          "name": "stdout"
        }
      ]
    }
  ]
}