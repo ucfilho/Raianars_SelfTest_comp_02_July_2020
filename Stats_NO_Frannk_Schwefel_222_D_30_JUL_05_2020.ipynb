{
  "nbformat": 4,
  "nbformat_minor": 0,
  "metadata": {
    "colab": {
      "name": "Stats_NO_Frannk_Schwefel_222_D_30_JUL_05_2020.ipynb",
      "provenance": [],
      "collapsed_sections": [],
      "authorship_tag": "ABX9TyNvOxVioYDEtXKCd/ytEqr2",
      "include_colab_link": true
    },
    "kernelspec": {
      "name": "python3",
      "display_name": "Python 3"
    }
  },
  "cells": [
    {
      "cell_type": "markdown",
      "metadata": {
        "id": "view-in-github",
        "colab_type": "text"
      },
      "source": [
        "<a href=\"https://colab.research.google.com/github/ucfilho/Raianars_SelfTest_comp_02_July_2020/blob/master/Stats_NO_Frannk_Schwefel_222_D_30_JUL_05_2020.ipynb\" target=\"_parent\"><img src=\"https://colab.research.google.com/assets/colab-badge.svg\" alt=\"Open In Colab\"/></a>"
      ]
    },
    {
      "cell_type": "code",
      "metadata": {
        "id": "MC26Bm1UyUR5",
        "colab_type": "code",
        "colab": {
          "base_uri": "https://localhost:8080/",
          "height": 110
        },
        "outputId": "8b4d157b-78fa-44b4-9a56-55e867d3e76b"
      },
      "source": [
        "!pip install pyade-python"
      ],
      "execution_count": 1,
      "outputs": [
        {
          "output_type": "stream",
          "text": [
            "Collecting pyade-python\n",
            "  Downloading https://files.pythonhosted.org/packages/02/e7/aefff90c8de0ad3ff151d51507ec65a2988b7cce9126c342746f77615d9f/pyade_python-1.1-py3-none-any.whl\n",
            "Installing collected packages: pyade-python\n",
            "Successfully installed pyade-python-1.1\n"
          ],
          "name": "stdout"
        }
      ]
    },
    {
      "cell_type": "code",
      "metadata": {
        "id": "rRwqrtCmgzdZ",
        "colab_type": "code",
        "colab": {
          "base_uri": "https://localhost:8080/",
          "height": 237
        },
        "outputId": "7ac3f297-79ac-4671-c89b-7357f1d5a7e0"
      },
      "source": [
        "!pip install PyFDE"
      ],
      "execution_count": 2,
      "outputs": [
        {
          "output_type": "stream",
          "text": [
            "Collecting PyFDE\n",
            "\u001b[?25l  Downloading https://files.pythonhosted.org/packages/72/f9/87f7279554d2682e3827d39c3d3a565b2fd42f7114a779e34a601c6c5079/PyFDE-1.3.0.tar.gz (397kB)\n",
            "\r\u001b[K     |▉                               | 10kB 14.2MB/s eta 0:00:01\r\u001b[K     |█▋                              | 20kB 3.0MB/s eta 0:00:01\r\u001b[K     |██▌                             | 30kB 3.5MB/s eta 0:00:01\r\u001b[K     |███▎                            | 40kB 4.0MB/s eta 0:00:01\r\u001b[K     |████▏                           | 51kB 3.3MB/s eta 0:00:01\r\u001b[K     |█████                           | 61kB 3.8MB/s eta 0:00:01\r\u001b[K     |█████▊                          | 71kB 4.0MB/s eta 0:00:01\r\u001b[K     |██████▋                         | 81kB 4.3MB/s eta 0:00:01\r\u001b[K     |███████▍                        | 92kB 4.7MB/s eta 0:00:01\r\u001b[K     |████████▎                       | 102kB 4.5MB/s eta 0:00:01\r\u001b[K     |█████████                       | 112kB 4.5MB/s eta 0:00:01\r\u001b[K     |██████████                      | 122kB 4.5MB/s eta 0:00:01\r\u001b[K     |██████████▊                     | 133kB 4.5MB/s eta 0:00:01\r\u001b[K     |███████████▌                    | 143kB 4.5MB/s eta 0:00:01\r\u001b[K     |████████████▍                   | 153kB 4.5MB/s eta 0:00:01\r\u001b[K     |█████████████▏                  | 163kB 4.5MB/s eta 0:00:01\r\u001b[K     |██████████████                  | 174kB 4.5MB/s eta 0:00:01\r\u001b[K     |██████████████▉                 | 184kB 4.5MB/s eta 0:00:01\r\u001b[K     |███████████████▊                | 194kB 4.5MB/s eta 0:00:01\r\u001b[K     |████████████████▌               | 204kB 4.5MB/s eta 0:00:01\r\u001b[K     |█████████████████▎              | 215kB 4.5MB/s eta 0:00:01\r\u001b[K     |██████████████████▏             | 225kB 4.5MB/s eta 0:00:01\r\u001b[K     |███████████████████             | 235kB 4.5MB/s eta 0:00:01\r\u001b[K     |███████████████████▉            | 245kB 4.5MB/s eta 0:00:01\r\u001b[K     |████████████████████▋           | 256kB 4.5MB/s eta 0:00:01\r\u001b[K     |█████████████████████▌          | 266kB 4.5MB/s eta 0:00:01\r\u001b[K     |██████████████████████▎         | 276kB 4.5MB/s eta 0:00:01\r\u001b[K     |███████████████████████         | 286kB 4.5MB/s eta 0:00:01\r\u001b[K     |████████████████████████        | 296kB 4.5MB/s eta 0:00:01\r\u001b[K     |████████████████████████▊       | 307kB 4.5MB/s eta 0:00:01\r\u001b[K     |█████████████████████████▋      | 317kB 4.5MB/s eta 0:00:01\r\u001b[K     |██████████████████████████▍     | 327kB 4.5MB/s eta 0:00:01\r\u001b[K     |███████████████████████████▎    | 337kB 4.5MB/s eta 0:00:01\r\u001b[K     |████████████████████████████    | 348kB 4.5MB/s eta 0:00:01\r\u001b[K     |████████████████████████████▉   | 358kB 4.5MB/s eta 0:00:01\r\u001b[K     |█████████████████████████████▊  | 368kB 4.5MB/s eta 0:00:01\r\u001b[K     |██████████████████████████████▌ | 378kB 4.5MB/s eta 0:00:01\r\u001b[K     |███████████████████████████████▍| 389kB 4.5MB/s eta 0:00:01\r\u001b[K     |████████████████████████████████| 399kB 4.5MB/s \n",
            "\u001b[?25hRequirement already satisfied: numpy in /usr/local/lib/python3.6/dist-packages (from PyFDE) (1.18.5)\n",
            "Building wheels for collected packages: PyFDE\n",
            "  Building wheel for PyFDE (setup.py) ... \u001b[?25l\u001b[?25hdone\n",
            "  Created wheel for PyFDE: filename=PyFDE-1.3.0-cp36-cp36m-linux_x86_64.whl size=969317 sha256=af93ef21a8c082599cc1d2c1636b5b78ae899aa0fdfc0cac61634d72a3d8e2dc\n",
            "  Stored in directory: /root/.cache/pip/wheels/7d/42/ba/abf21db37934e576c74fc2c9504b5cd97eb6a99e3dec1743c0\n",
            "Successfully built PyFDE\n",
            "Installing collected packages: PyFDE\n",
            "Successfully installed PyFDE-1.3.0\n"
          ],
          "name": "stdout"
        }
      ]
    },
    {
      "cell_type": "code",
      "metadata": {
        "id": "anFukot-ypn6",
        "colab_type": "code",
        "colab": {}
      },
      "source": [
        "import pyade.ilshade \n",
        "import pyade.sade \n",
        "import pyade.jso\n",
        "import pyade.shade\n",
        "import pyade.jade \n",
        "import pyfde\n",
        "import numpy as np\n",
        "import pandas as pd\n",
        "import time"
      ],
      "execution_count": 3,
      "outputs": []
    },
    {
      "cell_type": "code",
      "metadata": {
        "id": "6Oh714_-z1Ia",
        "colab_type": "code",
        "colab": {
          "base_uri": "https://localhost:8080/",
          "height": 163
        },
        "outputId": "3a6297be-4eca-4a6c-e811-3d94158ccb93"
      },
      "source": [
        "!git clone https://github.com/ucfilho/Raianars_July_2020 #clonar do Github\n",
        "%cd Raianars_July_2020"
      ],
      "execution_count": 4,
      "outputs": [
        {
          "output_type": "stream",
          "text": [
            "Cloning into 'Raianars_July_2020'...\n",
            "remote: Enumerating objects: 3, done.\u001b[K\n",
            "remote: Counting objects: 100% (3/3), done.\u001b[K\n",
            "remote: Compressing objects: 100% (3/3), done.\u001b[K\n",
            "remote: Total 126 (delta 0), reused 0 (delta 0), pack-reused 123\u001b[K\n",
            "Receiving objects: 100% (126/126), 198.23 KiB | 8.26 MiB/s, done.\n",
            "Resolving deltas: 100% (62/62), done.\n",
            "/content/Raianars_July_2020\n"
          ],
          "name": "stdout"
        }
      ]
    },
    {
      "cell_type": "code",
      "metadata": {
        "id": "LnzftXkky78A",
        "colab_type": "code",
        "colab": {}
      },
      "source": [
        "import Go2Ann\n",
        "import de_soma_Insight\n",
        "import de_bounds_matriz\n",
        "from AvaliaX import AvaliaX\n",
        "from GeraIndices import GeraIndices"
      ],
      "execution_count": 5,
      "outputs": []
    },
    {
      "cell_type": "code",
      "metadata": {
        "id": "HNW92728z7fR",
        "colab_type": "code",
        "colab": {}
      },
      "source": [
        "import Function\n",
        "import Go2MinMax"
      ],
      "execution_count": 6,
      "outputs": []
    },
    {
      "cell_type": "code",
      "metadata": {
        "id": "T_C-e7aH0CZH",
        "colab_type": "code",
        "colab": {}
      },
      "source": [
        "ITE=2000 #10 # PONTOS quantas vezes vai alteral NPAR \n",
        "NPAR=100 # NUMBER OF PARTICLES\n",
        "dim=30\n",
        "RUNS=50\n",
        "fchoice='Schwefel_222'  #f2\n",
        "Fun=Function.Schwefel_222\n",
        "\n",
        "MIN,MAX=Go2MinMax.Intervalo(dim,fchoice)\n",
        "bounds = [(0,0)]*dim\n",
        "\n",
        "for i in range(dim):\n",
        "  bounds[i] = (MIN[i],MAX[i])"
      ],
      "execution_count": 7,
      "outputs": []
    },
    {
      "cell_type": "code",
      "metadata": {
        "id": "Nqv5qp9yzQEw",
        "colab_type": "code",
        "colab": {}
      },
      "source": [
        "############################### INPUT INFORMATION (FRANNK)\n",
        "Fc=0.1 # fator de correcao parametros da ANN\n",
        "its=1 #10 # quantas vezes vai usar o NPAR antes de alterar de novo\n",
        "mut=0.5\n",
        "crossp=0.5\n",
        "Fi=mut;CRi=crossp;# para impressão\n",
        "PAR=len(MAX) #NUM DE PARAMETROS A SER OTIMIZADOS"
      ],
      "execution_count": 8,
      "outputs": []
    },
    {
      "cell_type": "code",
      "metadata": {
        "id": "WkbM98uny0QY",
        "colab_type": "code",
        "colab": {
          "base_uri": "https://localhost:8080/",
          "height": 345
        },
        "outputId": "e12b4a47-0595-40ca-8982-38abbc32e09e"
      },
      "source": [
        "# IL-Shade\n",
        "\n",
        "BEST_AGENTS=[]\n",
        "start_time = time.time() \n",
        "for i in range(RUNS):\n",
        "  ANSWER_AGENTS=[]\n",
        "  algorithm = pyade.ilshade \n",
        "  params = algorithm.get_default_params(dim=dim) \n",
        "  params['bounds'] = np.array(bounds)\n",
        "  params['max_evals'] = ITE \n",
        "  params['func'] = Fun\n",
        "  params['max_evals'] = ITE\n",
        "  best, fit = algorithm.apply(**params)\n",
        "  for x in best:\n",
        "    ANSWER_AGENTS.append(x)\n",
        "  ANSWER_AGENTS.append(fit)\n",
        "  BEST_AGENTS.append(ANSWER_AGENTS)\n",
        "BEST_AGENTS=np.array(BEST_AGENTS)\n",
        "TIME = (time.time() - start_time)/RUNS\n",
        "BEST_AGENTS=np.array(BEST_AGENTS)\n",
        "BEST_AGENTS_ST= BEST_AGENTS[BEST_AGENTS[:,-1].argsort()]\n",
        "BEST=BEST_AGENTS_ST[0]\n",
        "WORSE=BEST_AGENTS_ST[-1]\n",
        "MEAN=np.mean(BEST_AGENTS,axis=0)\n",
        "MAXFO=BEST_AGENTS[:,-1].max()\n",
        "MINFO=BEST_AGENTS[:,-1].min()\n",
        "STD=BEST_AGENTS[:,-1].std()\n",
        "nome='IL-Shade_Fo-'+str(0)+'_CRo-'+str(0)\n",
        "print(nome,'NPAR',NPAR,'Iterações=',ITE,'Dim=',dim ,\"Min/Max=\",MIN[0],\"/\",MAX[0],'_',Fun.__name__)\n",
        "print( '\\n')\n",
        "print('MÉDIA: ',MEAN[-1])\n",
        "print('MIN __:',MINFO)\n",
        "print('MAX__: ',MAXFO)\n",
        "print('STD __:',STD)\n",
        "print(\"Tempo Médio= %.3f segundos ---\" % (TIME))\n",
        "print(RUNS,'Rodadas') \n",
        "print()\n",
        "print('BEST: ',BEST)"
      ],
      "execution_count": 9,
      "outputs": [
        {
          "output_type": "stream",
          "text": [
            "IL-Shade_Fo-0_CRo-0 NPAR 100 Iterações= 2000 Dim= 30 Min/Max= -10 / 10 _ Schwefel_222\n",
            "\n",
            "\n",
            "MÉDIA:  2.4155733510162563\n",
            "MIN __: 1.7440693476312783\n",
            "MAX__:  3.1872103439536805\n",
            "STD __: 0.3391755296341731\n",
            "Tempo Médio= 0.166 segundos ---\n",
            "50 Rodadas\n",
            "\n",
            "BEST:  [-6.56891727e-02 -1.05123678e-01 -1.76350029e-02  1.70291014e-01\n",
            "  2.25980538e-02  4.65710820e-02  5.09657005e-02 -4.73590924e-02\n",
            "  1.34380767e-03 -1.90089233e-02  1.96046400e-02  1.07088368e-02\n",
            "  6.73899419e-02  1.55668082e-01 -2.72176303e-02  1.58980300e-01\n",
            "  1.04422184e-01  1.04400543e-02  3.81792926e-03 -5.61566370e-02\n",
            " -1.15656282e-01  6.72810427e-03 -1.68939496e-01  3.85405858e-02\n",
            " -1.22172079e-01 -1.55824216e-02  2.92308956e-02 -6.18091908e-02\n",
            "  8.63318547e-03 -1.57853438e-02  1.74406935e+00]\n"
          ],
          "name": "stdout"
        }
      ]
    },
    {
      "cell_type": "code",
      "metadata": {
        "id": "v4dbY4tSsFMb",
        "colab_type": "code",
        "colab": {
          "base_uri": "https://localhost:8080/",
          "height": 345
        },
        "outputId": "ef0ca672-89f8-4977-d89f-041936cec9f6"
      },
      "source": [
        "# Jso\n",
        "\n",
        "BEST_AGENTS=[]\n",
        "start_time = time.time() \n",
        "for i in range(RUNS):\n",
        "  ANSWER_AGENTS=[]\n",
        "  algorithm = pyade.jso\n",
        "  params = algorithm.get_default_params(dim=dim) \n",
        "  params['bounds'] = np.array(bounds)\n",
        "  params['max_evals'] = ITE \n",
        "  params['func'] = Fun\n",
        "  best, fit = algorithm.apply(**params)\n",
        "  for x in best:\n",
        "    ANSWER_AGENTS.append(x)\n",
        "  ANSWER_AGENTS.append(fit)\n",
        "  BEST_AGENTS.append(ANSWER_AGENTS)\n",
        "BEST_AGENTS=np.array(BEST_AGENTS)\n",
        "TIME = (time.time() - start_time)/RUNS\n",
        "BEST_AGENTS=np.array(BEST_AGENTS)\n",
        "BEST_AGENTS_ST= BEST_AGENTS[BEST_AGENTS[:,-1].argsort()]\n",
        "BEST=BEST_AGENTS_ST[0]\n",
        "WORSE=BEST_AGENTS_ST[-1]\n",
        "MEAN=np.mean(BEST_AGENTS,axis=0)\n",
        "MAXFO=BEST_AGENTS[:,-1].max()\n",
        "MINFO=BEST_AGENTS[:,-1].min()\n",
        "STD=BEST_AGENTS[:,-1].std()\n",
        "nome='Jso-'+str(0)+'_CRo-'+str(0)\n",
        "print(nome,'NPAR',NPAR,'Iterações=',ITE,'Dim=',dim ,\"Min/Max=\",MIN[0],\"/\",MAX[0],'_',Fun.__name__)\n",
        "print( '\\n')\n",
        "print('MÉDIA: ',MEAN[-1])\n",
        "print('MIN __:',MINFO)\n",
        "print('MAX__: ',MAXFO)\n",
        "print('STD __:',STD)\n",
        "print(\"Tempo Médio= %.3f segundos ---\" % (TIME))\n",
        "print(RUNS,'Rodadas') \n",
        "print()\n",
        "print('BEST: ',BEST)"
      ],
      "execution_count": 10,
      "outputs": [
        {
          "output_type": "stream",
          "text": [
            "Jso-0_CRo-0 NPAR 100 Iterações= 2000 Dim= 30 Min/Max= -10 / 10 _ Schwefel_222\n",
            "\n",
            "\n",
            "MÉDIA:  3.1628604906905853\n",
            "MIN __: 2.28414844165274\n",
            "MAX__:  4.020190674687599\n",
            "STD __: 0.34355223016129455\n",
            "Tempo Médio= 0.112 segundos ---\n",
            "50 Rodadas\n",
            "\n",
            "BEST:  [ 3.63275946e-02 -9.29077480e-03  2.08015793e-01 -8.34895066e-02\n",
            "  6.89751366e-02  4.29877646e-03  4.84902900e-02  6.57439704e-03\n",
            " -2.40219858e-01 -1.68178790e-02  2.55292193e-02  1.55908529e-01\n",
            "  8.38557558e-03  9.66991865e-02  3.28187333e-01  5.59680405e-03\n",
            "  2.17670544e-03  5.32662156e-02  6.93424483e-02  8.14449341e-02\n",
            " -3.76381424e-02 -6.98169472e-03  2.14167377e-02 -2.91849123e-02\n",
            " -7.76426859e-02 -8.66387356e-02 -9.22397917e-02  8.29538132e-02\n",
            "  1.37999258e-01 -1.62415713e-01  2.28414844e+00]\n"
          ],
          "name": "stdout"
        }
      ]
    },
    {
      "cell_type": "code",
      "metadata": {
        "id": "ZkV_dpDa14C8",
        "colab_type": "code",
        "colab": {
          "base_uri": "https://localhost:8080/",
          "height": 345
        },
        "outputId": "41a7c3cb-7bc9-4632-c2f5-67674489bbd0"
      },
      "source": [
        "# Sade\n",
        "\n",
        "BEST_AGENTS=[]\n",
        "start_time = time.time() \n",
        "for i in range(RUNS):\n",
        "  ANSWER_AGENTS=[]\n",
        "  algorithm = pyade.sade\n",
        "  params = algorithm.get_default_params(dim=dim) \n",
        "  params['bounds'] = np.array(bounds)\n",
        "  params['max_evals'] = ITE \n",
        "  params['func'] = Fun\n",
        "  best, fit = algorithm.apply(**params)\n",
        "  for x in best:\n",
        "    ANSWER_AGENTS.append(x)\n",
        "  ANSWER_AGENTS.append(fit)\n",
        "  BEST_AGENTS.append(ANSWER_AGENTS)\n",
        "BEST_AGENTS=np.array(BEST_AGENTS)\n",
        "TIME = (time.time() - start_time)/RUNS\n",
        "BEST_AGENTS=np.array(BEST_AGENTS)\n",
        "BEST_AGENTS_ST= BEST_AGENTS[BEST_AGENTS[:,-1].argsort()]\n",
        "BEST=BEST_AGENTS_ST[0]\n",
        "WORSE=BEST_AGENTS_ST[-1]\n",
        "MEAN=np.mean(BEST_AGENTS,axis=0)\n",
        "MAXFO=BEST_AGENTS[:,-1].max()\n",
        "MINFO=BEST_AGENTS[:,-1].min()\n",
        "STD=BEST_AGENTS[:,-1].std()\n",
        "nome='Sade_Fo-'+str(0)+'_CRo-'+str(0)\n",
        "print(nome,'NPAR',NPAR,'Iterações=',ITE,'Dim=',dim ,\"Min/Max=\",MIN[0],\"/\",MAX[0],'_',Fun.__name__)\n",
        "print( '\\n')\n",
        "print('MÉDIA: ',MEAN[-1])\n",
        "print('MIN __:',MINFO)\n",
        "print('MAX__: ',MAXFO)\n",
        "print('STD __:',STD)\n",
        "print(\"Tempo Médio= %.3f segundos ---\" % (TIME))\n",
        "print(RUNS,'Rodadas') \n",
        "print()\n",
        "print('BEST: ',BEST)"
      ],
      "execution_count": 11,
      "outputs": [
        {
          "output_type": "stream",
          "text": [
            "Sade_Fo-0_CRo-0 NPAR 100 Iterações= 2000 Dim= 30 Min/Max= -10 / 10 _ Schwefel_222\n",
            "\n",
            "\n",
            "MÉDIA:  12.005318004636\n",
            "MIN __: 10.770406117607203\n",
            "MAX__:  13.615336867572418\n",
            "STD __: 0.61404461706691\n",
            "Tempo Médio= 0.087 segundos ---\n",
            "50 Rodadas\n",
            "\n",
            "BEST:  [-5.87877702e-01 -4.76845623e-01  5.63230151e-01  4.83633254e-01\n",
            " -1.17850938e+00  3.48942293e-01 -1.75120027e-01 -2.71639622e-01\n",
            " -6.73541829e-01  1.67913807e-01  2.78276088e-01  1.02170419e-01\n",
            " -2.61066815e-01 -1.01062775e-01 -5.85989905e-01  1.37710624e-01\n",
            " -7.35409796e-01 -8.10634153e-01  3.60705417e-01 -2.04148938e-01\n",
            " -2.72396082e-01 -2.89802949e-01 -1.97405662e-01 -5.00306591e-01\n",
            "  1.80707356e-01 -4.72674036e-01  1.07463585e-01  3.68629183e-02\n",
            "  1.99517037e-01  8.84128831e-03  1.07704061e+01]\n"
          ],
          "name": "stdout"
        }
      ]
    },
    {
      "cell_type": "code",
      "metadata": {
        "id": "q77YsFa82zFU",
        "colab_type": "code",
        "colab": {
          "base_uri": "https://localhost:8080/",
          "height": 345
        },
        "outputId": "624aabfb-5d84-49ba-e745-7043c0f30f05"
      },
      "source": [
        "# JADE\n",
        "algorithm = pyade.jso\n",
        "BEST_AGENTS=[]\n",
        "for i in range(RUNS):\n",
        "  ANSWER_AGENTS=[]\n",
        "  solver = pyfde.JADE(Fun, n_dim=dim, n_pop=NPAR, limits=bounds, minimize=True)\n",
        "  solver.p = 0.05\n",
        "  solver.c = 0.1\n",
        "  solver.cr = 0.5\n",
        "  solver.f = 0.5\n",
        "  best, fit = solver.run(n_it=ITE)\n",
        "  fit=(-1)*fit\n",
        "  for x in best:\n",
        "    ANSWER_AGENTS.append(x)\n",
        "  ANSWER_AGENTS.append(fit)\n",
        "  BEST_AGENTS.append(ANSWER_AGENTS)\n",
        "BEST_AGENTS=np.array(BEST_AGENTS)\n",
        "TIME = (time.time() - start_time)/RUNS\n",
        "BEST_AGENTS=np.array(BEST_AGENTS)\n",
        "BEST_AGENTS_ST= BEST_AGENTS[BEST_AGENTS[:,-1].argsort()]\n",
        "BEST=BEST_AGENTS_ST[0]\n",
        "WORSE=BEST_AGENTS_ST[-1]\n",
        "MEAN=np.mean(BEST_AGENTS,axis=0)\n",
        "MAXFO=BEST_AGENTS[:,-1].max()\n",
        "MINFO=BEST_AGENTS[:,-1].min()\n",
        "STD=BEST_AGENTS[:,-1].std()\n",
        "nome='JADE_Fo-'+str(0)+'_CRo-'+str(0)\n",
        "print(nome,'NPAR',NPAR,'Iterações=',ITE,'Dim=',dim ,\"Min/Max=\",MIN[0],\"/\",MAX[0],'_',Fun.__name__)\n",
        "print( '\\n')\n",
        "print('MÉDIA: ',MEAN[-1])\n",
        "print('MIN __:',MINFO)\n",
        "print('MAX__: ',MAXFO)\n",
        "print('STD __:',STD)\n",
        "print(\"Tempo Médio= %.3f segundos ---\" % (TIME))\n",
        "print(RUNS,'Rodadas') \n",
        "print()\n",
        "print('BEST: ',BEST)"
      ],
      "execution_count": 12,
      "outputs": [
        {
          "output_type": "stream",
          "text": [
            "JADE_Fo-0_CRo-0 NPAR 100 Iterações= 2000 Dim= 30 Min/Max= -10 / 10 _ Schwefel_222\n",
            "\n",
            "\n",
            "MÉDIA:  1.2853511115284768e-26\n",
            "MIN __: 1.020052629614772e-48\n",
            "MAX__:  6.426456154212006e-25\n",
            "STD __: 8.997030069663091e-26\n",
            "Tempo Médio= 2.489 segundos ---\n",
            "50 Rodadas\n",
            "\n",
            "BEST:  [ 1.37872726e-50 -8.50284489e-51  4.66790230e-50  1.88226426e-50\n",
            "  8.60761919e-50 -1.74562789e-50  2.23845018e-50 -8.09413680e-50\n",
            "  3.95584472e-50  7.25365859e-51  2.54292509e-51  1.66812444e-50\n",
            " -9.73669547e-51  1.99868491e-50  3.75821904e-50  2.69611478e-50\n",
            " -1.25242658e-50 -1.68299269e-50 -3.53612942e-50  9.63503086e-52\n",
            "  4.51225742e-50 -1.17036080e-49 -4.13962821e-50 -1.28842245e-50\n",
            " -5.45382558e-50  3.99061725e-50  1.23868577e-50 -9.90106038e-50\n",
            "  1.28559433e-50  6.42833636e-50  1.02005263e-48]\n"
          ],
          "name": "stdout"
        }
      ]
    }
  ]
}