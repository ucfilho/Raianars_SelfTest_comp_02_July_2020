{
  "nbformat": 4,
  "nbformat_minor": 0,
  "metadata": {
    "colab": {
      "name": "Stats_Alpine_n1_ALL_D_30_JUL_03_2020.ipynb",
      "provenance": [],
      "collapsed_sections": [],
      "authorship_tag": "ABX9TyOWLnn5Fos73BV/zzLXlVpm",
      "include_colab_link": true
    },
    "kernelspec": {
      "name": "python3",
      "display_name": "Python 3"
    }
  },
  "cells": [
    {
      "cell_type": "markdown",
      "metadata": {
        "id": "view-in-github",
        "colab_type": "text"
      },
      "source": [
        "<a href=\"https://colab.research.google.com/github/ucfilho/Raianars_SelfTest_comp_02_July_2020/blob/master/Stats_Alpine_n1_ALL_D_30_JUL_03_2020.ipynb\" target=\"_parent\"><img src=\"https://colab.research.google.com/assets/colab-badge.svg\" alt=\"Open In Colab\"/></a>"
      ]
    },
    {
      "cell_type": "code",
      "metadata": {
        "id": "MC26Bm1UyUR5",
        "colab_type": "code",
        "colab": {
          "base_uri": "https://localhost:8080/",
          "height": 110
        },
        "outputId": "3f79b9fc-a116-4efe-e3c6-a469261a42d2"
      },
      "source": [
        "!pip install pyade-python"
      ],
      "execution_count": 1,
      "outputs": [
        {
          "output_type": "stream",
          "text": [
            "Collecting pyade-python\n",
            "  Downloading https://files.pythonhosted.org/packages/02/e7/aefff90c8de0ad3ff151d51507ec65a2988b7cce9126c342746f77615d9f/pyade_python-1.1-py3-none-any.whl\n",
            "Installing collected packages: pyade-python\n",
            "Successfully installed pyade-python-1.1\n"
          ],
          "name": "stdout"
        }
      ]
    },
    {
      "cell_type": "code",
      "metadata": {
        "id": "rRwqrtCmgzdZ",
        "colab_type": "code",
        "colab": {
          "base_uri": "https://localhost:8080/",
          "height": 237
        },
        "outputId": "f2dbf833-a8db-4114-807a-a989ca2ddbbf"
      },
      "source": [
        "!pip install PyFDE"
      ],
      "execution_count": 2,
      "outputs": [
        {
          "output_type": "stream",
          "text": [
            "Collecting PyFDE\n",
            "\u001b[?25l  Downloading https://files.pythonhosted.org/packages/72/f9/87f7279554d2682e3827d39c3d3a565b2fd42f7114a779e34a601c6c5079/PyFDE-1.3.0.tar.gz (397kB)\n",
            "\u001b[K     |████████████████████████████████| 399kB 2.7MB/s \n",
            "\u001b[?25hRequirement already satisfied: numpy in /usr/local/lib/python3.6/dist-packages (from PyFDE) (1.18.5)\n",
            "Building wheels for collected packages: PyFDE\n",
            "  Building wheel for PyFDE (setup.py) ... \u001b[?25l\u001b[?25hdone\n",
            "  Created wheel for PyFDE: filename=PyFDE-1.3.0-cp36-cp36m-linux_x86_64.whl size=969307 sha256=0911a314ad1d9ab1d1500d7ad0c4b03d43480050c471235358d2809c050ecfb9\n",
            "  Stored in directory: /root/.cache/pip/wheels/7d/42/ba/abf21db37934e576c74fc2c9504b5cd97eb6a99e3dec1743c0\n",
            "Successfully built PyFDE\n",
            "Installing collected packages: PyFDE\n",
            "Successfully installed PyFDE-1.3.0\n"
          ],
          "name": "stdout"
        }
      ]
    },
    {
      "cell_type": "code",
      "metadata": {
        "id": "anFukot-ypn6",
        "colab_type": "code",
        "colab": {}
      },
      "source": [
        "import pyade.ilshade \n",
        "import pyade.sade \n",
        "import pyade.jso\n",
        "import pyade.shade\n",
        "import pyade.jade \n",
        "import pyfde\n",
        "import numpy as np\n",
        "import pandas as pd\n",
        "import time"
      ],
      "execution_count": 3,
      "outputs": []
    },
    {
      "cell_type": "code",
      "metadata": {
        "id": "6Oh714_-z1Ia",
        "colab_type": "code",
        "colab": {
          "base_uri": "https://localhost:8080/",
          "height": 163
        },
        "outputId": "db0c4c01-98d0-4c50-9a97-ff71b71247af"
      },
      "source": [
        "!git clone https://github.com/ucfilho/Raianars_July_2020 #clonar do Github\n",
        "%cd Raianars_July_2020"
      ],
      "execution_count": 4,
      "outputs": [
        {
          "output_type": "stream",
          "text": [
            "Cloning into 'Raianars_July_2020'...\n",
            "remote: Enumerating objects: 117, done.\u001b[K\n",
            "remote: Counting objects:   0% (1/117)\u001b[K\rremote: Counting objects:   1% (2/117)\u001b[K\rremote: Counting objects:   2% (3/117)\u001b[K\rremote: Counting objects:   3% (4/117)\u001b[K\rremote: Counting objects:   4% (5/117)\u001b[K\rremote: Counting objects:   5% (6/117)\u001b[K\rremote: Counting objects:   6% (8/117)\u001b[K\rremote: Counting objects:   7% (9/117)\u001b[K\rremote: Counting objects:   8% (10/117)\u001b[K\rremote: Counting objects:   9% (11/117)\u001b[K\rremote: Counting objects:  10% (12/117)\u001b[K\rremote: Counting objects:  11% (13/117)\u001b[K\rremote: Counting objects:  12% (15/117)\u001b[K\rremote: Counting objects:  13% (16/117)\u001b[K\rremote: Counting objects:  14% (17/117)\u001b[K\rremote: Counting objects:  15% (18/117)\u001b[K\rremote: Counting objects:  16% (19/117)\u001b[K\rremote: Counting objects:  17% (20/117)\u001b[K\rremote: Counting objects:  18% (22/117)\u001b[K\rremote: Counting objects:  19% (23/117)\u001b[K\rremote: Counting objects:  20% (24/117)\u001b[K\rremote: Counting objects:  21% (25/117)\u001b[K\rremote: Counting objects:  22% (26/117)\u001b[K\rremote: Counting objects:  23% (27/117)\u001b[K\rremote: Counting objects:  24% (29/117)\u001b[K\rremote: Counting objects:  25% (30/117)\u001b[K\rremote: Counting objects:  26% (31/117)\u001b[K\rremote: Counting objects:  27% (32/117)\u001b[K\rremote: Counting objects:  28% (33/117)\u001b[K\rremote: Counting objects:  29% (34/117)\u001b[K\rremote: Counting objects:  30% (36/117)\u001b[K\rremote: Counting objects:  31% (37/117)\u001b[K\rremote: Counting objects:  32% (38/117)\u001b[K\rremote: Counting objects:  33% (39/117)\u001b[K\rremote: Counting objects:  34% (40/117)\u001b[K\rremote: Counting objects:  35% (41/117)\u001b[K\rremote: Counting objects:  36% (43/117)\u001b[K\rremote: Counting objects:  37% (44/117)\u001b[K\rremote: Counting objects:  38% (45/117)\u001b[K\rremote: Counting objects:  39% (46/117)\u001b[K\rremote: Counting objects:  40% (47/117)\u001b[K\rremote: Counting objects:  41% (48/117)\u001b[K\rremote: Counting objects:  42% (50/117)\u001b[K\rremote: Counting objects:  43% (51/117)\u001b[K\rremote: Counting objects:  44% (52/117)\u001b[K\rremote: Counting objects:  45% (53/117)\u001b[K\rremote: Counting objects:  46% (54/117)\u001b[K\rremote: Counting objects:  47% (55/117)\u001b[K\rremote: Counting objects:  48% (57/117)\u001b[K\rremote: Counting objects:  49% (58/117)\u001b[K\rremote: Counting objects:  50% (59/117)\u001b[K\rremote: Counting objects:  51% (60/117)\u001b[K\rremote: Counting objects:  52% (61/117)\u001b[K\rremote: Counting objects:  53% (63/117)\u001b[K\rremote: Counting objects:  54% (64/117)\u001b[K\rremote: Counting objects:  55% (65/117)\u001b[K\rremote: Counting objects:  56% (66/117)\u001b[K\rremote: Counting objects:  57% (67/117)\u001b[K\rremote: Counting objects:  58% (68/117)\u001b[K\rremote: Counting objects:  59% (70/117)\u001b[K\rremote: Counting objects:  60% (71/117)\u001b[K\rremote: Counting objects:  61% (72/117)\u001b[K\rremote: Counting objects:  62% (73/117)\u001b[K\rremote: Counting objects:  63% (74/117)\u001b[K\rremote: Counting objects:  64% (75/117)\u001b[K\rremote: Counting objects:  65% (77/117)\u001b[K\rremote: Counting objects:  66% (78/117)\u001b[K\rremote: Counting objects:  67% (79/117)\u001b[K\rremote: Counting objects:  68% (80/117)\u001b[K\rremote: Counting objects:  69% (81/117)\u001b[K\rremote: Counting objects:  70% (82/117)\u001b[K\rremote: Counting objects:  71% (84/117)\u001b[K\rremote: Counting objects:  72% (85/117)\u001b[K\rremote: Counting objects:  73% (86/117)\u001b[K\rremote: Counting objects:  74% (87/117)\u001b[K\rremote: Counting objects:  75% (88/117)\u001b[K\rremote: Counting objects:  76% (89/117)\u001b[K\rremote: Counting objects:  77% (91/117)\u001b[K\rremote: Counting objects:  78% (92/117)\u001b[K\rremote: Counting objects:  79% (93/117)\u001b[K\rremote: Counting objects:  80% (94/117)\u001b[K\rremote: Counting objects:  81% (95/117)\u001b[K\rremote: Counting objects:  82% (96/117)\u001b[K\rremote: Counting objects:  83% (98/117)\u001b[K\rremote: Counting objects:  84% (99/117)\u001b[K\rremote: Counting objects:  85% (100/117)\u001b[K\rremote: Counting objects:  86% (101/117)\u001b[K\rremote: Counting objects:  87% (102/117)\u001b[K\rremote: Counting objects:  88% (103/117)\u001b[K\rremote: Counting objects:  89% (105/117)\u001b[K\rremote: Counting objects:  90% (106/117)\u001b[K\rremote: Counting objects:  91% (107/117)\u001b[K\rremote: Counting objects:  92% (108/117)\u001b[K\rremote: Counting objects:  93% (109/117)\u001b[K\rremote: Counting objects:  94% (110/117)\u001b[K\rremote: Counting objects:  95% (112/117)\u001b[K\rremote: Counting objects:  96% (113/117)\u001b[K\rremote: Counting objects:  97% (114/117)\u001b[K\rremote: Counting objects:  98% (115/117)\u001b[K\rremote: Counting objects:  99% (116/117)\u001b[K\rremote: Counting objects: 100% (117/117)\u001b[K\rremote: Counting objects: 100% (117/117), done.\u001b[K\n",
            "remote: Compressing objects:   0% (1/115)\u001b[K\rremote: Compressing objects:   1% (2/115)\u001b[K\rremote: Compressing objects:   2% (3/115)\u001b[K\rremote: Compressing objects:   3% (4/115)\u001b[K\rremote: Compressing objects:   4% (5/115)\u001b[K\rremote: Compressing objects:   5% (6/115)\u001b[K\rremote: Compressing objects:   6% (7/115)\u001b[K\rremote: Compressing objects:   7% (9/115)\u001b[K\rremote: Compressing objects:   8% (10/115)\u001b[K\rremote: Compressing objects:   9% (11/115)\u001b[K\rremote: Compressing objects:  10% (12/115)\u001b[K\rremote: Compressing objects:  11% (13/115)\u001b[K\rremote: Compressing objects:  12% (14/115)\u001b[K\rremote: Compressing objects:  13% (15/115)\u001b[K\rremote: Compressing objects:  14% (17/115)\u001b[K\rremote: Compressing objects:  15% (18/115)\u001b[K\rremote: Compressing objects:  16% (19/115)\u001b[K\rremote: Compressing objects:  17% (20/115)\u001b[K\rremote: Compressing objects:  18% (21/115)\u001b[K\rremote: Compressing objects:  19% (22/115)\u001b[K\rremote: Compressing objects:  20% (23/115)\u001b[K\rremote: Compressing objects:  21% (25/115)\u001b[K\rremote: Compressing objects:  22% (26/115)\u001b[K\rremote: Compressing objects:  23% (27/115)\u001b[K\rremote: Compressing objects:  24% (28/115)\u001b[K\rremote: Compressing objects:  25% (29/115)\u001b[K\rremote: Compressing objects:  26% (30/115)\u001b[K\rremote: Compressing objects:  27% (32/115)\u001b[K\rremote: Compressing objects:  28% (33/115)\u001b[K\rremote: Compressing objects:  29% (34/115)\u001b[K\rremote: Compressing objects:  30% (35/115)\u001b[K\rremote: Compressing objects:  31% (36/115)\u001b[K\rremote: Compressing objects:  32% (37/115)\u001b[K\rremote: Compressing objects:  33% (38/115)\u001b[K\rremote: Compressing objects:  34% (40/115)\u001b[K\rremote: Compressing objects:  35% (41/115)\u001b[K\rremote: Compressing objects:  36% (42/115)\u001b[K\rremote: Compressing objects:  37% (43/115)\u001b[K\rremote: Compressing objects:  38% (44/115)\u001b[K\rremote: Compressing objects:  39% (45/115)\u001b[K\rremote: Compressing objects:  40% (46/115)\u001b[K\rremote: Compressing objects:  41% (48/115)\u001b[K\rremote: Compressing objects:  42% (49/115)\u001b[K\rremote: Compressing objects:  43% (50/115)\u001b[K\rremote: Compressing objects:  44% (51/115)\u001b[K\rremote: Compressing objects:  45% (52/115)\u001b[K\rremote: Compressing objects:  46% (53/115)\u001b[K\rremote: Compressing objects:  47% (55/115)\u001b[K\rremote: Compressing objects:  48% (56/115)\u001b[K\rremote: Compressing objects:  49% (57/115)\u001b[K\rremote: Compressing objects:  50% (58/115)\u001b[K\rremote: Compressing objects:  51% (59/115)\u001b[K\rremote: Compressing objects:  52% (60/115)\u001b[K\rremote: Compressing objects:  53% (61/115)\u001b[K\rremote: Compressing objects:  54% (63/115)\u001b[K\rremote: Compressing objects:  55% (64/115)\u001b[K\rremote: Compressing objects:  56% (65/115)\u001b[K\rremote: Compressing objects:  57% (66/115)\u001b[K\rremote: Compressing objects:  58% (67/115)\u001b[K\rremote: Compressing objects:  59% (68/115)\u001b[K\rremote: Compressing objects:  60% (69/115)\u001b[K\rremote: Compressing objects:  61% (71/115)\u001b[K\rremote: Compressing objects:  62% (72/115)\u001b[K\rremote: Compressing objects:  63% (73/115)\u001b[K\rremote: Compressing objects:  64% (74/115)\u001b[K\rremote: Compressing objects:  65% (75/115)\u001b[K\rremote: Compressing objects:  66% (76/115)\u001b[K\rremote: Compressing objects:  67% (78/115)\u001b[K\rremote: Compressing objects:  68% (79/115)\u001b[K\rremote: Compressing objects:  69% (80/115)\u001b[K\rremote: Compressing objects:  70% (81/115)\u001b[K\rremote: Compressing objects:  71% (82/115)\u001b[K\rremote: Compressing objects:  72% (83/115)\u001b[K\rremote: Compressing objects:  73% (84/115)\u001b[K\rremote: Compressing objects:  74% (86/115)\u001b[K\rremote: Compressing objects:  75% (87/115)\u001b[K\rremote: Compressing objects:  76% (88/115)\u001b[K\rremote: Compressing objects:  77% (89/115)\u001b[K\rremote: Compressing objects:  78% (90/115)\u001b[K\rremote: Compressing objects:  79% (91/115)\u001b[K\rremote: Compressing objects:  80% (92/115)\u001b[K\rremote: Compressing objects:  81% (94/115)\u001b[K\rremote: Compressing objects:  82% (95/115)\u001b[K\rremote: Compressing objects:  83% (96/115)\u001b[K\rremote: Compressing objects:  84% (97/115)\u001b[K\rremote: Compressing objects:  85% (98/115)\u001b[K\rremote: Compressing objects:  86% (99/115)\u001b[K\rremote: Compressing objects:  87% (101/115)\u001b[K\rremote: Compressing objects:  88% (102/115)\u001b[K\rremote: Compressing objects:  89% (103/115)\u001b[K\rremote: Compressing objects:  90% (104/115)\u001b[K\rremote: Compressing objects:  91% (105/115)\u001b[K\rremote: Compressing objects:  92% (106/115)\u001b[K\rremote: Compressing objects:  93% (107/115)\u001b[K\rremote: Compressing objects:  94% (109/115)\u001b[K\rremote: Compressing objects:  95% (110/115)\u001b[K\rremote: Compressing objects:  96% (111/115)\u001b[K\rremote: Compressing objects:  97% (112/115)\u001b[K\rremote: Compressing objects:  98% (113/115)\u001b[K\rremote: Compressing objects:  99% (114/115)\u001b[K\rremote: Compressing objects: 100% (115/115)\u001b[K\rremote: Compressing objects: 100% (115/115), done.\u001b[K\n",
            "Receiving objects:   0% (1/117)   \rReceiving objects:   1% (2/117)   \rReceiving objects:   2% (3/117)   \rReceiving objects:   3% (4/117)   \rReceiving objects:   4% (5/117)   \rReceiving objects:   5% (6/117)   \rReceiving objects:   6% (8/117)   \rReceiving objects:   7% (9/117)   \rReceiving objects:   8% (10/117)   \rReceiving objects:   9% (11/117)   \rReceiving objects:  10% (12/117)   \rReceiving objects:  11% (13/117)   \rReceiving objects:  12% (15/117)   \rReceiving objects:  13% (16/117)   \rReceiving objects:  14% (17/117)   \rReceiving objects:  15% (18/117)   \rReceiving objects:  16% (19/117)   \rReceiving objects:  17% (20/117)   \rReceiving objects:  18% (22/117)   \rReceiving objects:  19% (23/117)   \rReceiving objects:  20% (24/117)   \rReceiving objects:  21% (25/117)   \rReceiving objects:  22% (26/117)   \rReceiving objects:  23% (27/117)   \rReceiving objects:  24% (29/117)   \rReceiving objects:  25% (30/117)   \rReceiving objects:  26% (31/117)   \rReceiving objects:  27% (32/117)   \rReceiving objects:  28% (33/117)   \rReceiving objects:  29% (34/117)   \rReceiving objects:  30% (36/117)   \rReceiving objects:  31% (37/117)   \rReceiving objects:  32% (38/117)   \rReceiving objects:  33% (39/117)   \rReceiving objects:  34% (40/117)   \rReceiving objects:  35% (41/117)   \rReceiving objects:  36% (43/117)   \rReceiving objects:  37% (44/117)   \rReceiving objects:  38% (45/117)   \rReceiving objects:  39% (46/117)   \rReceiving objects:  40% (47/117)   \rReceiving objects:  41% (48/117)   \rremote: Total 117 (delta 58), reused 0 (delta 0), pack-reused 0\u001b[K\n",
            "Receiving objects:  42% (50/117)   \rReceiving objects:  43% (51/117)   \rReceiving objects:  44% (52/117)   \rReceiving objects:  45% (53/117)   \rReceiving objects:  46% (54/117)   \rReceiving objects:  47% (55/117)   \rReceiving objects:  48% (57/117)   \rReceiving objects:  49% (58/117)   \rReceiving objects:  50% (59/117)   \rReceiving objects:  51% (60/117)   \rReceiving objects:  52% (61/117)   \rReceiving objects:  53% (63/117)   \rReceiving objects:  54% (64/117)   \rReceiving objects:  55% (65/117)   \rReceiving objects:  56% (66/117)   \rReceiving objects:  57% (67/117)   \rReceiving objects:  58% (68/117)   \rReceiving objects:  59% (70/117)   \rReceiving objects:  60% (71/117)   \rReceiving objects:  61% (72/117)   \rReceiving objects:  62% (73/117)   \rReceiving objects:  63% (74/117)   \rReceiving objects:  64% (75/117)   \rReceiving objects:  65% (77/117)   \rReceiving objects:  66% (78/117)   \rReceiving objects:  67% (79/117)   \rReceiving objects:  68% (80/117)   \rReceiving objects:  69% (81/117)   \rReceiving objects:  70% (82/117)   \rReceiving objects:  71% (84/117)   \rReceiving objects:  72% (85/117)   \rReceiving objects:  73% (86/117)   \rReceiving objects:  74% (87/117)   \rReceiving objects:  75% (88/117)   \rReceiving objects:  76% (89/117)   \rReceiving objects:  77% (91/117)   \rReceiving objects:  78% (92/117)   \rReceiving objects:  79% (93/117)   \rReceiving objects:  80% (94/117)   \rReceiving objects:  81% (95/117)   \rReceiving objects:  82% (96/117)   \rReceiving objects:  83% (98/117)   \rReceiving objects:  84% (99/117)   \rReceiving objects:  85% (100/117)   \rReceiving objects:  86% (101/117)   \rReceiving objects:  87% (102/117)   \rReceiving objects:  88% (103/117)   \rReceiving objects:  89% (105/117)   \rReceiving objects:  90% (106/117)   \rReceiving objects:  91% (107/117)   \rReceiving objects:  92% (108/117)   \rReceiving objects:  93% (109/117)   \rReceiving objects:  94% (110/117)   \rReceiving objects:  95% (112/117)   \rReceiving objects:  96% (113/117)   \rReceiving objects:  97% (114/117)   \rReceiving objects:  98% (115/117)   \rReceiving objects:  99% (116/117)   \rReceiving objects: 100% (117/117)   \rReceiving objects: 100% (117/117), 193.62 KiB | 6.68 MiB/s, done.\n",
            "Resolving deltas:   0% (0/58)   \rResolving deltas:  63% (37/58)   \rResolving deltas:  77% (45/58)   \rResolving deltas:  81% (47/58)   \rResolving deltas:  87% (51/58)   \rResolving deltas:  93% (54/58)   \rResolving deltas: 100% (58/58)   \rResolving deltas: 100% (58/58), done.\n",
            "/content/Raianars_July_2020\n"
          ],
          "name": "stdout"
        }
      ]
    },
    {
      "cell_type": "code",
      "metadata": {
        "id": "LnzftXkky78A",
        "colab_type": "code",
        "colab": {}
      },
      "source": [
        "import Go2Ann\n",
        "import de_soma_Insight\n",
        "import de_bounds_matriz\n",
        "from AvaliaX import AvaliaX\n",
        "from GeraIndices import GeraIndices"
      ],
      "execution_count": 5,
      "outputs": []
    },
    {
      "cell_type": "code",
      "metadata": {
        "id": "HNW92728z7fR",
        "colab_type": "code",
        "colab": {}
      },
      "source": [
        "import Function\n",
        "import Go2MinMax"
      ],
      "execution_count": 6,
      "outputs": []
    },
    {
      "cell_type": "code",
      "metadata": {
        "id": "T_C-e7aH0CZH",
        "colab_type": "code",
        "colab": {}
      },
      "source": [
        "ITE=1000 #10 # PONTOS quantas vezes vai alteral NPAR \n",
        "NPAR=100 # NUMBER OF PARTICLES\n",
        "dim=30\n",
        "RUNS=50\n",
        "fchoice='Alpine_n1'  #f2\n",
        "Fun=Function.Alpine_n1\n",
        "\n",
        "MIN,MAX=Go2MinMax.Intervalo(dim,fchoice)\n",
        "bounds = [(0,0)]*dim\n",
        "\n",
        "for i in range(dim):\n",
        "  bounds[i] = (MIN[i],MAX[i])"
      ],
      "execution_count": 7,
      "outputs": []
    },
    {
      "cell_type": "code",
      "metadata": {
        "id": "Nqv5qp9yzQEw",
        "colab_type": "code",
        "colab": {}
      },
      "source": [
        "############################### INPUT INFORMATION (FRANNK)\n",
        "Fc=0.1 # fator de correcao parametros da ANN\n",
        "its=1 #10 # quantas vezes vai usar o NPAR antes de alterar de novo\n",
        "mut=0.5\n",
        "crossp=0.5\n",
        "Fi=mut;CRi=crossp;# para impressão\n",
        "PAR=len(MAX) #NUM DE PARAMETROS A SER OTIMIZADOS"
      ],
      "execution_count": 8,
      "outputs": []
    },
    {
      "cell_type": "code",
      "metadata": {
        "id": "WkbM98uny0QY",
        "colab_type": "code",
        "colab": {
          "base_uri": "https://localhost:8080/",
          "height": 308
        },
        "outputId": "37a33060-277c-4036-dd18-969dc36f5bcb"
      },
      "source": [
        "# IL-Shade\n",
        "\n",
        "BEST_AGENTS=[]\n",
        "start_time = time.time() \n",
        "for i in range(RUNS):\n",
        "  ANSWER_AGENTS=[]\n",
        "  algorithm = pyade.ilshade \n",
        "  params = algorithm.get_default_params(dim=dim) \n",
        "  params['bounds'] = np.array(bounds)\n",
        "  params['max_evals'] = ITE \n",
        "  params['func'] = Fun\n",
        "  params['max_evals'] = ITE\n",
        "  best, fit = algorithm.apply(**params)\n",
        "  for x in best:\n",
        "    ANSWER_AGENTS.append(x)\n",
        "  ANSWER_AGENTS.append(fit)\n",
        "  BEST_AGENTS.append(ANSWER_AGENTS)\n",
        "BEST_AGENTS=np.array(BEST_AGENTS)\n",
        "TIME = (time.time() - start_time)/RUNS\n",
        "BEST_AGENTS=np.array(BEST_AGENTS)\n",
        "BEST_AGENTS_ST= BEST_AGENTS[BEST_AGENTS[:,-1].argsort()]\n",
        "BEST=BEST_AGENTS_ST[0]\n",
        "WORSE=BEST_AGENTS_ST[-1]\n",
        "MEAN=np.mean(BEST_AGENTS,axis=0)\n",
        "MAXFO=BEST_AGENTS[:,-1].max()\n",
        "MINFO=BEST_AGENTS[:,-1].min()\n",
        "STD=BEST_AGENTS[:,-1].std()\n",
        "nome='IL-Shade_Fo-'+str(0)+'_CRo-'+str(0)\n",
        "print(nome,'NPAR',NPAR,'Iterações=',ITE,'Dim=',dim ,\"Min/Max=\",MIN[0],\"/\",MAX[0],'_',Fun.__name__)\n",
        "print( '\\n')\n",
        "print('MÉDIA: ',MEAN[-1])\n",
        "print('MIN __:',MINFO)\n",
        "print('MAX__: ',MAXFO)\n",
        "print('STD __:',STD)\n",
        "print(\"Tempo Médio= %.3f segundos ---\" % (TIME))\n",
        "print(RUNS,'Rodadas') \n",
        "print()\n",
        "print('BEST: ',BEST)"
      ],
      "execution_count": 9,
      "outputs": [
        {
          "output_type": "stream",
          "text": [
            "IL-Shade_Fo-0_CRo-0 NPAR 100 Iterações= 1000 Dim= 30 Min/Max= -10 / 10 _ Alpine_n1\n",
            "\n",
            "\n",
            "MÉDIA:  1.3830548085342078\n",
            "MIN __: 0.7564715050235444\n",
            "MAX__:  2.1446547909267775\n",
            "STD __: 0.33464008996813777\n",
            "Tempo Médio= 0.155 segundos ---\n",
            "50 Rodadas\n",
            "\n",
            "BEST:  [-0.31729573 -0.08107177  0.12147157 -0.03314869  0.19010113  0.15113785\n",
            " -0.17801741 -0.28873635 -0.06062626 -0.02165494 -0.10383779 -0.11202641\n",
            " -0.08057688 -0.29315282  0.12734368 -0.15534033 -0.11287584  0.12422657\n",
            "  0.16887434 -0.03489417 -0.16711018 -0.19556186 -0.1242416   0.06050075\n",
            "  0.1252558  -0.54357515 -0.09665691 -0.09312011  0.08251122 -0.15565552\n",
            "  0.75647151]\n"
          ],
          "name": "stdout"
        }
      ]
    },
    {
      "cell_type": "code",
      "metadata": {
        "id": "v4dbY4tSsFMb",
        "colab_type": "code",
        "colab": {
          "base_uri": "https://localhost:8080/",
          "height": 308
        },
        "outputId": "0994814b-6133-48f6-edc2-8e0bf18a953c"
      },
      "source": [
        "# Jso\n",
        "\n",
        "BEST_AGENTS=[]\n",
        "start_time = time.time() \n",
        "for i in range(RUNS):\n",
        "  ANSWER_AGENTS=[]\n",
        "  algorithm = pyade.jso\n",
        "  params = algorithm.get_default_params(dim=dim) \n",
        "  params['bounds'] = np.array(bounds)\n",
        "  params['max_evals'] = ITE \n",
        "  params['func'] = Fun\n",
        "  best, fit = algorithm.apply(**params)\n",
        "  for x in best:\n",
        "    ANSWER_AGENTS.append(x)\n",
        "  ANSWER_AGENTS.append(fit)\n",
        "  BEST_AGENTS.append(ANSWER_AGENTS)\n",
        "BEST_AGENTS=np.array(BEST_AGENTS)\n",
        "TIME = (time.time() - start_time)/RUNS\n",
        "BEST_AGENTS=np.array(BEST_AGENTS)\n",
        "BEST_AGENTS_ST= BEST_AGENTS[BEST_AGENTS[:,-1].argsort()]\n",
        "BEST=BEST_AGENTS_ST[0]\n",
        "WORSE=BEST_AGENTS_ST[-1]\n",
        "MEAN=np.mean(BEST_AGENTS,axis=0)\n",
        "MAXFO=BEST_AGENTS[:,-1].max()\n",
        "MINFO=BEST_AGENTS[:,-1].min()\n",
        "STD=BEST_AGENTS[:,-1].std()\n",
        "nome='Jso-'+str(0)+'_CRo-'+str(0)\n",
        "print(nome,'NPAR',NPAR,'Iterações=',ITE,'Dim=',dim ,\"Min/Max=\",MIN[0],\"/\",MAX[0],'_',Fun.__name__)\n",
        "print( '\\n')\n",
        "print('MÉDIA: ',MEAN[-1])\n",
        "print('MIN __:',MINFO)\n",
        "print('MAX__: ',MAXFO)\n",
        "print('STD __:',STD)\n",
        "print(\"Tempo Médio= %.3f segundos ---\" % (TIME))\n",
        "print(RUNS,'Rodadas') \n",
        "print()\n",
        "print('BEST: ',BEST)"
      ],
      "execution_count": 10,
      "outputs": [
        {
          "output_type": "stream",
          "text": [
            "Jso-0_CRo-0 NPAR 100 Iterações= 1000 Dim= 30 Min/Max= -10 / 10 _ Alpine_n1\n",
            "\n",
            "\n",
            "MÉDIA:  3.405837288906394\n",
            "MIN __: 1.568473209877794\n",
            "MAX__:  5.313457495810472\n",
            "STD __: 0.8833856491104933\n",
            "Tempo Médio= 0.095 segundos ---\n",
            "50 Rodadas\n",
            "\n",
            "BEST:  [-0.13116399 -0.21813113  0.05676554 -0.39631112 -0.34598808 -0.27277025\n",
            " -0.2313224   0.02654479 -0.32727301  0.12279251 -0.06055841  0.10617134\n",
            " -0.59705118  0.50592728  0.50734207 -0.00853812  0.1184939  -0.34541228\n",
            "  0.23912902 -0.10634302  0.15351135 -0.03446208 -0.01983911 -0.13405856\n",
            "  0.07226594 -0.04664474 -0.13735938  0.00223006 -0.11688547 -0.07349338\n",
            "  1.56847321]\n"
          ],
          "name": "stdout"
        }
      ]
    },
    {
      "cell_type": "code",
      "metadata": {
        "id": "ZkV_dpDa14C8",
        "colab_type": "code",
        "colab": {
          "base_uri": "https://localhost:8080/",
          "height": 308
        },
        "outputId": "50c82660-2647-4b7c-84f0-8c08d56cacb4"
      },
      "source": [
        "# Sade\n",
        "\n",
        "BEST_AGENTS=[]\n",
        "start_time = time.time() \n",
        "for i in range(RUNS):\n",
        "  ANSWER_AGENTS=[]\n",
        "  algorithm = pyade.sade\n",
        "  params = algorithm.get_default_params(dim=dim) \n",
        "  params['bounds'] = np.array(bounds)\n",
        "  params['max_evals'] = ITE \n",
        "  params['func'] = Fun\n",
        "  best, fit = algorithm.apply(**params)\n",
        "  for x in best:\n",
        "    ANSWER_AGENTS.append(x)\n",
        "  ANSWER_AGENTS.append(fit)\n",
        "  BEST_AGENTS.append(ANSWER_AGENTS)\n",
        "BEST_AGENTS=np.array(BEST_AGENTS)\n",
        "TIME = (time.time() - start_time)/RUNS\n",
        "BEST_AGENTS=np.array(BEST_AGENTS)\n",
        "BEST_AGENTS_ST= BEST_AGENTS[BEST_AGENTS[:,-1].argsort()]\n",
        "BEST=BEST_AGENTS_ST[0]\n",
        "WORSE=BEST_AGENTS_ST[-1]\n",
        "MEAN=np.mean(BEST_AGENTS,axis=0)\n",
        "MAXFO=BEST_AGENTS[:,-1].max()\n",
        "MINFO=BEST_AGENTS[:,-1].min()\n",
        "STD=BEST_AGENTS[:,-1].std()\n",
        "nome='Sade_Fo-'+str(0)+'_CRo-'+str(0)\n",
        "print(nome,'NPAR',NPAR,'Iterações=',ITE,'Dim=',dim ,\"Min/Max=\",MIN[0],\"/\",MAX[0],'_',Fun.__name__)\n",
        "print( '\\n')\n",
        "print('MÉDIA: ',MEAN[-1])\n",
        "print('MIN __:',MINFO)\n",
        "print('MAX__: ',MAXFO)\n",
        "print('STD __:',STD)\n",
        "print(\"Tempo Médio= %.3f segundos ---\" % (TIME))\n",
        "print(RUNS,'Rodadas') \n",
        "print()\n",
        "print('BEST: ',BEST)"
      ],
      "execution_count": 11,
      "outputs": [
        {
          "output_type": "stream",
          "text": [
            "Sade_Fo-0_CRo-0 NPAR 100 Iterações= 1000 Dim= 30 Min/Max= -10 / 10 _ Alpine_n1\n",
            "\n",
            "\n",
            "MÉDIA:  8.224930614222448\n",
            "MIN __: 6.084484818558643\n",
            "MAX__:  9.587753431939525\n",
            "STD __: 0.7316163086146261\n",
            "Tempo Médio= 0.107 segundos ---\n",
            "50 Rodadas\n",
            "\n",
            "BEST:  [ 0.17256046  0.01009143  0.12758993 -0.55592389  0.57042374  0.08333481\n",
            " -0.5489139  -0.28857516 -0.02304033  0.59267349  0.85958629 -1.05745433\n",
            "  0.39498829  0.5088862   0.25765593 -0.10416098  0.07767833 -0.71787284\n",
            " -0.50592618 -0.25933257 -0.1492027  -0.25008948 -1.05573222  0.13795194\n",
            "  0.14827374 -0.15594895 -0.28500885 -0.03397848 -0.25189436  0.97295162\n",
            "  6.08448482]\n"
          ],
          "name": "stdout"
        }
      ]
    },
    {
      "cell_type": "code",
      "metadata": {
        "id": "q77YsFa82zFU",
        "colab_type": "code",
        "colab": {
          "base_uri": "https://localhost:8080/",
          "height": 345
        },
        "outputId": "5ee306c5-934c-4b0a-bab0-c0fa2589987e"
      },
      "source": [
        "# JADE\n",
        "algorithm = pyade.jso\n",
        "BEST_AGENTS=[]\n",
        "for i in range(RUNS):\n",
        "  ANSWER_AGENTS=[]\n",
        "  solver = pyfde.JADE(Fun, n_dim=dim, n_pop=NPAR, limits=bounds, minimize=True)\n",
        "  solver.p = 0.05\n",
        "  solver.c = 0.1\n",
        "  solver.cr = 0.5\n",
        "  solver.f = 0.5\n",
        "  best, fit = solver.run(n_it=ITE)\n",
        "  for x in best:\n",
        "    ANSWER_AGENTS.append(x)\n",
        "  ANSWER_AGENTS.append(fit)\n",
        "  BEST_AGENTS.append(ANSWER_AGENTS)\n",
        "BEST_AGENTS=np.array(BEST_AGENTS)\n",
        "TIME = (time.time() - start_time)/RUNS\n",
        "BEST_AGENTS=np.array(BEST_AGENTS)\n",
        "BEST_AGENTS_ST= BEST_AGENTS[BEST_AGENTS[:,-1].argsort()]\n",
        "BEST=BEST_AGENTS_ST[0]\n",
        "WORSE=BEST_AGENTS_ST[-1]\n",
        "MEAN=np.mean(BEST_AGENTS,axis=0)\n",
        "MAXFO=BEST_AGENTS[:,-1].max()\n",
        "MINFO=BEST_AGENTS[:,-1].min()\n",
        "STD=BEST_AGENTS[:,-1].std()\n",
        "nome='JADE_Fo-'+str(0)+'_CRo-'+str(0)\n",
        "print(nome,'NPAR',NPAR,'Iterações=',ITE,'Dim=',dim ,\"Min/Max=\",MIN[0],\"/\",MAX[0],'_',Fun.__name__)\n",
        "print( '\\n')\n",
        "print('MÉDIA: ',MEAN[-1])\n",
        "print('MIN __:',MINFO)\n",
        "print('MAX__: ',MAXFO)\n",
        "print('STD __:',STD)\n",
        "print(\"Tempo Médio= %.3f segundos ---\" % (TIME))\n",
        "print(RUNS,'Rodadas') \n",
        "print()\n",
        "print('BEST: ',BEST)"
      ],
      "execution_count": 12,
      "outputs": [
        {
          "output_type": "stream",
          "text": [
            "JADE_Fo-0_CRo-0 NPAR 100 Iterações= 1000 Dim= 30 Min/Max= -10 / 10 _ Alpine_n1\n",
            "\n",
            "\n",
            "MÉDIA:  -0.0008252499035629735\n",
            "MIN __: -0.0013396299174561223\n",
            "MAX__:  -0.0003437805939406916\n",
            "STD __: 0.00026815194490063116\n",
            "Tempo Médio= 5.816 segundos ---\n",
            "50 Rodadas\n",
            "\n",
            "BEST:  [ 1.28294710e-04 -1.01550160e-01  8.30428153e-04 -9.91968055e-02\n",
            " -9.98193748e-02  9.79858339e-05 -9.93129369e-02 -1.00095115e-01\n",
            " -1.00223845e-01 -7.65954355e-04 -9.86382852e-02 -3.35168879e-04\n",
            " -1.00106451e-01  4.83894758e-05 -1.01761627e-01 -1.00253564e-01\n",
            "  1.33933876e-04 -1.00005267e-01 -7.35440680e-04  1.56696506e-05\n",
            "  4.95057222e-04 -1.00178896e-01 -7.86942138e-05 -8.59381581e-04\n",
            " -1.00680083e-01  3.28217003e-05 -1.00252623e-01 -1.00654665e-01\n",
            "  4.56710980e-04 -1.00363725e-01 -1.33962992e-03]\n"
          ],
          "name": "stdout"
        }
      ]
    },
    {
      "cell_type": "code",
      "metadata": {
        "id": "gXdUgSStzppX",
        "colab_type": "code",
        "colab": {}
      },
      "source": [
        "# FRANNK START HERE !!!!!"
      ],
      "execution_count": 13,
      "outputs": []
    },
    {
      "cell_type": "code",
      "metadata": {
        "id": "raWOfeJBztuj",
        "colab_type": "code",
        "colab": {
          "base_uri": "https://localhost:8080/",
          "height": 145
        },
        "outputId": "ace5ad3f-0fc8-4a8d-f5ab-ae66aef3a053"
      },
      "source": [
        "!git clone https://github.com/ucfilho/ANN_read_matrix #clonar do Github\n",
        "%cd ANN_read_matrix"
      ],
      "execution_count": 14,
      "outputs": [
        {
          "output_type": "stream",
          "text": [
            "Cloning into 'ANN_read_matrix'...\n",
            "remote: Enumerating objects: 20, done.\u001b[K\n",
            "remote: Counting objects:   5% (1/20)\u001b[K\rremote: Counting objects:  10% (2/20)\u001b[K\rremote: Counting objects:  15% (3/20)\u001b[K\rremote: Counting objects:  20% (4/20)\u001b[K\rremote: Counting objects:  25% (5/20)\u001b[K\rremote: Counting objects:  30% (6/20)\u001b[K\rremote: Counting objects:  35% (7/20)\u001b[K\rremote: Counting objects:  40% (8/20)\u001b[K\rremote: Counting objects:  45% (9/20)\u001b[K\rremote: Counting objects:  50% (10/20)\u001b[K\rremote: Counting objects:  55% (11/20)\u001b[K\rremote: Counting objects:  60% (12/20)\u001b[K\rremote: Counting objects:  65% (13/20)\u001b[K\rremote: Counting objects:  70% (14/20)\u001b[K\rremote: Counting objects:  75% (15/20)\u001b[K\rremote: Counting objects:  80% (16/20)\u001b[K\rremote: Counting objects:  85% (17/20)\u001b[K\rremote: Counting objects:  90% (18/20)\u001b[K\rremote: Counting objects:  95% (19/20)\u001b[K\rremote: Counting objects: 100% (20/20)\u001b[K\rremote: Counting objects: 100% (20/20), done.\u001b[K\n",
            "remote: Compressing objects:   5% (1/18)\u001b[K\rremote: Compressing objects:  11% (2/18)\u001b[K\rremote: Compressing objects:  16% (3/18)\u001b[K\rremote: Compressing objects:  22% (4/18)\u001b[K\rremote: Compressing objects:  27% (5/18)\u001b[K\rremote: Compressing objects:  33% (6/18)\u001b[K\rremote: Compressing objects:  38% (7/18)\u001b[K\rremote: Compressing objects:  44% (8/18)\u001b[K\rremote: Compressing objects:  50% (9/18)\u001b[K\rremote: Compressing objects:  55% (10/18)\u001b[K\rremote: Compressing objects:  61% (11/18)\u001b[K\rremote: Compressing objects:  66% (12/18)\u001b[K\rremote: Compressing objects:  72% (13/18)\u001b[K\rremote: Compressing objects:  77% (14/18)\u001b[K\rremote: Compressing objects:  83% (15/18)\u001b[K\rremote: Compressing objects:  88% (16/18)\u001b[K\rremote: Compressing objects:  94% (17/18)\u001b[K\rremote: Compressing objects: 100% (18/18)\u001b[K\rremote: Compressing objects: 100% (18/18), done.\u001b[K\n",
            "remote: Total 20 (delta 5), reused 0 (delta 0), pack-reused 0\u001b[K\n",
            "Unpacking objects:   5% (1/20)   \rUnpacking objects:  10% (2/20)   \rUnpacking objects:  15% (3/20)   \rUnpacking objects:  20% (4/20)   \rUnpacking objects:  25% (5/20)   \rUnpacking objects:  30% (6/20)   \rUnpacking objects:  35% (7/20)   \rUnpacking objects:  40% (8/20)   \rUnpacking objects:  45% (9/20)   \rUnpacking objects:  50% (10/20)   \rUnpacking objects:  55% (11/20)   \rUnpacking objects:  60% (12/20)   \rUnpacking objects:  65% (13/20)   \rUnpacking objects:  70% (14/20)   \rUnpacking objects:  75% (15/20)   \rUnpacking objects:  80% (16/20)   \rUnpacking objects:  85% (17/20)   \rUnpacking objects:  90% (18/20)   \rUnpacking objects:  95% (19/20)   \rUnpacking objects: 100% (20/20)   \rUnpacking objects: 100% (20/20), done.\n",
            "/content/Raianars_July_2020/ANN_read_matrix\n"
          ],
          "name": "stdout"
        }
      ]
    },
    {
      "cell_type": "code",
      "metadata": {
        "id": "N2lyPfivzwGv",
        "colab_type": "code",
        "colab": {
          "base_uri": "https://localhost:8080/",
          "height": 1000
        },
        "outputId": "f16bcf11-e4f8-477b-8e50-bbdfaaa43f00"
      },
      "source": [
        "ANN_F=pd.read_csv('ANN_INSIGHT_Valor_F.csv')\n",
        "ANN_CR=pd.read_csv('ANN_INSIGHT_CR.csv')\n",
        "syn0_F,syn1_F,X_max_F,X_min_F=Go2Ann.GetMatriz(ANN_F)\n",
        "syn0_CR,syn1_CR,X_max_CR,X_min_CR=Go2Ann.GetMatriz(ANN_CR)\n",
        "fields = ['DI RELATIVO','FRAC Its','Fo','CRo']\n",
        "\n",
        "#TOTAL=7*dim*its*ITE\n",
        "TOTAL=10*dim*its*ITE\n",
        "TOTAL=int(TOTAL/2)   # CONFERIR SE ESTE EH O MELHOR LUGAR\n",
        "\n",
        "dimensions=len(MAX)\n",
        "start_time = time.time() #INICIALIZA CONTAGEM DO TEMPO\n",
        "\n",
        "MAX_P=np.zeros(ITE) # ATENCAO para variar F e Cr MAX_P passa a ser 3 vezes maior\n",
        "MIN_P=np.zeros(ITE) # ATENCAO para variar F e Cr MIN_P passa a ser 3 vezes maior\n",
        "\n",
        "for i in range(dim):\n",
        "  MAX_P[i]=MAX[i] \n",
        "  MIN_P[i]=MIN[i]\n",
        "\n",
        "rodadas=1\n",
        "for i in range(rodadas):\n",
        "  SOMA=0\n",
        "  pop = np.random.rand(NPAR, dimensions)\n",
        "  diff=np.zeros(PAR)\n",
        "  for ii in range(PAR):\n",
        "    diff[ii] = MAX[ii]-MIN[ii]\n",
        "  X = MIN + pop * diff\n",
        "    \n",
        "  PONTOS=ITE # DIVISOES DA POPULACAO\n",
        "start_time = time.time()\n",
        "BEST_AGENTS=[]\n",
        "MAT_stat=[]\n",
        "for i in range(RUNS):\n",
        "    MAT=[] \n",
        "    mut=Fi\n",
        "    crossp=CRi\n",
        "    SOMA=0\n",
        "    SOMAf=0\n",
        "    start_ite = time.time()\n",
        "    delta_time=(start_ite-start_time)/60\n",
        "    print('ite=',i,'total=50','time=',delta_time)\n",
        "    pop = np.random.rand(NPAR, dim)\n",
        "    diff=np.zeros(PAR)\n",
        "    for ii in range(PAR):\n",
        "      diff[ii] = MAX[ii]-MIN[ii]\n",
        "    X = MIN + pop * diff\n",
        "    Xf = MIN + pop * diff\n",
        "    \n",
        "    DIo=1e99\n",
        "  \n",
        "    CRo=crossp;Fo=mut;\n",
        "    Fitness = np.asarray([Fun(ind) for ind in X])\n",
        "\n",
        "    XY,BEST_XY,BESTo,FOBESTo=AvaliaX(X,Fitness)\n",
        "    nrow,ncol=X.shape\n",
        "\n",
        "    QUANT=17;MAT_INDo=np.zeros((1,QUANT)); # quantos indices esta fazendo\n",
        "    MAT_INDo[0,5]=nrow  # VALOR NP\n",
        "    MAT_INDo[0,6]=Fo    # VALOR Fo   \n",
        "    MAT_INDo[0,7]=CRo   # VALOR CRo\n",
        "  \n",
        "    MAT_INDo=GeraIndices(X,BESTo,FOBESTo,DIo,MAT_INDo,SOMA,TOTAL,syn0_F,\n",
        "                        syn1_F,X_max_F,X_min_F,syn0_CR,syn1_CR,X_max_CR,\n",
        "                        X_min_CR,Fc,fields,Fun)\n",
        "  \n",
        "    DIo=np.copy(MAT_INDo[0,0])\n",
        "    MAT_INDo[0,15]=Fo    # VALOR Fo   \n",
        "    MAT_INDo[0,16]=CRo   # VALOR CRo\n",
        "    #ind_crossp=ITE-1\n",
        "\n",
        "    \n",
        "    for k in range(ITE):\n",
        "      X,BEST,FOBEST,XY,BEST_XY,SOMA= de_soma_Insight.de(MAX,MIN, mut, crossp,NPAR,its,Fun,X,SOMA,TOTAL)\n",
        "      #Xf,BESTf,FOBESTf,XYf,BEST_XYf,SOMAf= de_soma_Insight.de(MAX,MIN, Fi, CRi, NPAR,its,Fun,Xf,SOMAf,TOTAL)\n",
        "\n",
        "      \n",
        "      MAT_IND=GeraIndices(X,BESTo,FOBESTo,DIo,MAT_INDo,SOMA,TOTAL,syn0_F,\n",
        "                          syn1_F,X_max_F,X_min_F,syn0_CR,syn1_CR,X_max_CR,\n",
        "                          X_min_CR,Fc,fields,Fun)\n",
        "    \n",
        "      BESTo=np.copy(BEST);FOBESTo=np.copy(FOBEST);\n",
        "      MAT.append(MAT_IND.ravel())\n",
        "    \n",
        "      MAT_INDo[0,6]=MAT_IND[0,15]   # VALOR Fo   \n",
        "      MAT_INDo[0,7]=MAT_IND[0,16]   # VALOR CRo\n",
        "      mut=MAT_IND[0,15]\n",
        "      crossp=MAT_IND[0,16]\n",
        "\n",
        "      Fitness = np.asarray([Fun(ind) for ind in X])\n",
        "      #Fitnessf = np.asarray([Fun(ind) for ind in Xf])\n",
        "      Maior=np.argmax(Fitness)\n",
        "      #Maiorf=np.argmax(Fitnessf)\n",
        "      Menor=np.argmin(Fitness)\n",
        "      #Menorf=np.argmin(Fitnessf)\n",
        "\n",
        "      #X[Maior,:]=np.copy(Xf[Menorf,:])\n",
        "      #Xf[Maiorf,:]=np.copy(X[Menor,:])\n",
        "      \n",
        "    BEST_AGENTS.append(BEST_XY)\n",
        "    MAT_stat.append(MAT)\n",
        "    #print(\"GlobalParam e Solucao:\", BEST,\"Funcao=\",FOBEST)\n",
        "    \n",
        "############################## Cálculo dos Parâmetros de Avaliação   \n",
        "TIME = (time.time() - start_time)/RUNS\n",
        "BEST_AGENTS=np.array(BEST_AGENTS)\n",
        "BEST_AGENTS_ST= BEST_AGENTS[BEST_AGENTS[:,-1].argsort()]\n",
        "BEST=BEST_AGENTS_ST[0]\n",
        "WORSE=BEST_AGENTS_ST[-1]\n",
        "MEAN=np.mean(BEST_AGENTS,axis=0)\n",
        "MAXFO=BEST_AGENTS[:,-1].max()\n",
        "MINFO=BEST_AGENTS[:,-1].min()\n",
        "STD=BEST_AGENTS[:,-1].std()\n",
        "\n",
        "nome='_ANN_Div3x4_Fo-'+str(Fi)+'_CRo-'+str(CRi)+'_D-'+str(dim)+'_Interv-'+str(ITE)\n",
        "print('DE_POP_VAR_F_CR','TOTAL=',TOTAL,'Iterações=',ITE*its,'Dim=', PAR,\"Min/Max=\",MIN[0],\"/\",MAX[0],'_',Fun.__name__)\n",
        "print(nome, '\\n')\n",
        "print('MÉDIA: ',MEAN[-1])\n",
        "print('MIN __:',MINFO)\n",
        "print('MAX__: ',MAXFO)\n",
        "print('STD __:',STD)\n",
        "print(\"Tempo Médio= %.3f segundos ---\" % (TIME))\n",
        "print(RUNS,'Rodadas') \n",
        "print()\n",
        "print('BEST: ',BEST)"
      ],
      "execution_count": 15,
      "outputs": [
        {
          "output_type": "stream",
          "text": [
            "ite= 0 total=50 time= 8.074442545572917e-06\n",
            "ite= 1 total=50 time= 1.5076841473579408\n",
            "ite= 2 total=50 time= 3.041968894004822\n",
            "ite= 3 total=50 time= 4.558023929595947\n",
            "ite= 4 total=50 time= 6.096824979782104\n",
            "ite= 5 total=50 time= 7.624883103370666\n",
            "ite= 6 total=50 time= 9.138131539026896\n",
            "ite= 7 total=50 time= 10.69237323999405\n",
            "ite= 8 total=50 time= 12.230532908439637\n",
            "ite= 9 total=50 time= 13.752186397711435\n",
            "ite= 10 total=50 time= 15.297406629721324\n",
            "ite= 11 total=50 time= 16.840202232201893\n",
            "ite= 12 total=50 time= 18.35819491545359\n",
            "ite= 13 total=50 time= 19.89862574338913\n",
            "ite= 14 total=50 time= 21.429119129975636\n",
            "ite= 15 total=50 time= 22.96775027513504\n",
            "ite= 16 total=50 time= 24.492249592145285\n",
            "ite= 17 total=50 time= 26.014569640159607\n",
            "ite= 18 total=50 time= 27.560261503855386\n",
            "ite= 19 total=50 time= 29.088999609152477\n",
            "ite= 20 total=50 time= 30.607069794336955\n",
            "ite= 21 total=50 time= 32.14879326820373\n",
            "ite= 22 total=50 time= 33.65790177583695\n",
            "ite= 23 total=50 time= 35.18290131489436\n",
            "ite= 24 total=50 time= 36.72388433218002\n",
            "ite= 25 total=50 time= 38.24837659200033\n",
            "ite= 26 total=50 time= 39.786089944839475\n",
            "ite= 27 total=50 time= 41.32597581942876\n",
            "ite= 28 total=50 time= 42.89980839093526\n",
            "ite= 29 total=50 time= 44.43049830198288\n",
            "ite= 30 total=50 time= 45.9248723189036\n",
            "ite= 31 total=50 time= 47.46769703626633\n",
            "ite= 32 total=50 time= 49.00442800919215\n",
            "ite= 33 total=50 time= 50.52656499544779\n",
            "ite= 34 total=50 time= 52.16596181790034\n",
            "ite= 35 total=50 time= 53.705533182621004\n",
            "ite= 36 total=50 time= 55.215748544534044\n",
            "ite= 37 total=50 time= 56.74078547954559\n",
            "ite= 38 total=50 time= 58.258212272326155\n",
            "ite= 39 total=50 time= 59.775707197189334\n",
            "ite= 40 total=50 time= 61.29594129721324\n",
            "ite= 41 total=50 time= 62.898044510682425\n",
            "ite= 42 total=50 time= 64.43438565731049\n",
            "ite= 43 total=50 time= 65.95224191745122\n",
            "ite= 44 total=50 time= 67.45506366888682\n",
            "ite= 45 total=50 time= 68.98554042180379\n",
            "ite= 46 total=50 time= 70.4855314652125\n",
            "ite= 47 total=50 time= 72.07567254304885\n",
            "ite= 48 total=50 time= 73.5933721423149\n",
            "ite= 49 total=50 time= 75.11290536721548\n",
            "DE_POP_VAR_F_CR TOTAL= 150000 Iterações= 1000 Dim= 30 Min/Max= -10 / 10 _ Alpine_n1\n",
            "_ANN_Div3x4_Fo-0.5_CRo-0.5_D-30_Interv-1000 \n",
            "\n",
            "MÉDIA:  0.00013795768033587812\n",
            "MIN __: 2.06147878177662e-06\n",
            "MAX__:  0.002002519359075818\n",
            "STD __: 0.0004275630875257495\n",
            "Tempo Médio= 91.953 segundos ---\n",
            "50 Rodadas\n",
            "\n",
            "BEST:  [-6.58031931e-09 -1.00167424e-01 -1.00167442e-01 -3.13207664e-06\n",
            " -1.05481289e-08 -1.00169838e-01  1.51573709e-07  1.37064201e-07\n",
            " -1.00166953e-01 -1.00167348e-01  3.69571713e-07  5.12228783e-07\n",
            " -1.00171131e-01  5.74048624e-08 -1.00167463e-01 -1.00167490e-01\n",
            " -1.00166953e-01 -1.00167632e-01 -1.00166839e-01 -1.00168229e-01\n",
            " -1.00167370e-01 -1.00167481e-01 -1.62704185e-06 -3.26072157e-07\n",
            " -1.00167444e-01 -1.00168215e-01 -1.00167291e-01  1.05119096e-06\n",
            " -1.00165650e-01 -1.57115843e-06  2.06147878e-06]\n"
          ],
          "name": "stdout"
        }
      ]
    }
  ]
}