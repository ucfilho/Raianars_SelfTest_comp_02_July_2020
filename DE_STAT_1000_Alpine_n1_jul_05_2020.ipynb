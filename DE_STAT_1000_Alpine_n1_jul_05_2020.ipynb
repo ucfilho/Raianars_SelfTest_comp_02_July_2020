{
  "nbformat": 4,
  "nbformat_minor": 0,
  "metadata": {
    "accelerator": "GPU",
    "colab": {
      "name": "DE_STAT_1000_Alpine_n1_jul_05_2020.ipynb",
      "provenance": [],
      "collapsed_sections": [],
      "include_colab_link": true
    },
    "kernelspec": {
      "display_name": "Python 3",
      "language": "python",
      "name": "python3"
    },
    "language_info": {
      "codemirror_mode": {
        "name": "ipython",
        "version": 3
      },
      "file_extension": ".py",
      "mimetype": "text/x-python",
      "name": "python",
      "nbconvert_exporter": "python",
      "pygments_lexer": "ipython3",
      "version": "3.6.1"
    }
  },
  "cells": [
    {
      "cell_type": "markdown",
      "metadata": {
        "id": "view-in-github",
        "colab_type": "text"
      },
      "source": [
        "<a href=\"https://colab.research.google.com/github/ucfilho/Raianars_SelfTest_comp_02_July_2020/blob/master/DE_STAT_1000_Alpine_n1_jul_05_2020.ipynb\" target=\"_parent\"><img src=\"https://colab.research.google.com/assets/colab-badge.svg\" alt=\"Open In Colab\"/></a>"
      ]
    },
    {
      "cell_type": "code",
      "metadata": {
        "colab_type": "code",
        "id": "cG5nOUQ9Eucw",
        "colab": {}
      },
      "source": [
        "# Noisy_Quartic\n",
        "# In the paper Ngen=3000 NPAR=100 RUNS=50 dim=30\n",
        "# JADE: Adaptive Differential Evolution with Optional External Archive\n"
      ],
      "execution_count": 1,
      "outputs": []
    },
    {
      "cell_type": "code",
      "metadata": {
        "colab_type": "code",
        "id": "v1OxgXboBKoG",
        "colab": {}
      },
      "source": [
        "import time\n",
        "import matplotlib.pyplot as plt\n",
        "import numpy as np\n",
        "from random import randint"
      ],
      "execution_count": 2,
      "outputs": []
    },
    {
      "cell_type": "code",
      "metadata": {
        "id": "qMRpE0dGULCI",
        "colab_type": "code",
        "colab": {
          "base_uri": "https://localhost:8080/",
          "height": 52
        },
        "outputId": "3a3aa696-416a-4a75-a4eb-63541e97d184"
      },
      "source": [
        "!git clone https://github.com/ucfilho/Raianars_July_2020 #clonar do Github\n",
        "%cd Raianars_July_2020"
      ],
      "execution_count": 3,
      "outputs": [
        {
          "output_type": "stream",
          "text": [
            "fatal: destination path 'Raianars_July_2020' already exists and is not an empty directory.\n",
            "/content/Raianars_July_2020\n"
          ],
          "name": "stdout"
        }
      ]
    },
    {
      "cell_type": "code",
      "metadata": {
        "colab_type": "code",
        "id": "_E15mKFURR6O",
        "colab": {}
      },
      "source": [
        "import de_soma_Insight\n",
        "import de_bounds_matriz\n",
        "import Function\n",
        "import Go2MinMax\n",
        "from AvaliaX import AvaliaX\n",
        "\n",
        "\n",
        "############################### DADOS DE ENTRADA \n",
        "its=1 #10 # quantas vezes vai usar o NPAR antes de alterar de novo\n",
        "ITE=1000 #10 # PONTOS quantas vezes vai alteral NPAR \n",
        "NPAR=100 # NUMBER OF PARTICLES\n",
        "dim=30\n",
        "RUNS=50\n",
        "fchoice='Alpine_n1'  #f2\n",
        "Fun=Function.Alpine_n1\n",
        "mut=0.5\n",
        "crossp=0.5\n",
        "dim=30\n",
        "\n",
        "\n",
        "\n",
        "MIN,MAX=Go2MinMax.Intervalo(dim,fchoice)\n",
        "\n",
        "TOTAL=10*dim*its*ITE\n"
      ],
      "execution_count": 4,
      "outputs": []
    },
    {
      "cell_type": "code",
      "metadata": {
        "colab_type": "code",
        "id": "rnX8ttNopd1G",
        "colab": {
          "base_uri": "https://localhost:8080/",
          "height": 905
        },
        "outputId": "12a8533e-8870-493e-82e1-b0fd28a3e17f"
      },
      "source": [
        "start_time = time.time()\n",
        "BEST_AGENTS=[]\n",
        "MAT_stat=[]\n",
        "\n",
        "for i in range(RUNS):\n",
        "\n",
        "    pop = np.random.rand(NPAR, dim)\n",
        "    diff=np.zeros(dim)\n",
        "    for ii in range(dim):\n",
        "      diff[ii] = MAX[ii]-MIN[ii]\n",
        "    X = MIN + pop * diff\n",
        "    SOMA=0\n",
        "    for k in range(ITE):\n",
        "      X,BEST,FOBEST,XY,BEST_XY,SOMA= de_soma_Insight.de(MAX,MIN, mut, crossp,dim,its,Fun,X,SOMA,TOTAL)\n",
        "\n",
        "    start_run = (time.time()-start_time)/60\n",
        "    print('run=',i,'total=50','Fobj=',FOBEST,'Time=',start_run)  \n",
        "    BEST_AGENTS.append(BEST_XY)"
      ],
      "execution_count": 5,
      "outputs": [
        {
          "output_type": "stream",
          "text": [
            "run= 0 total=50 Fobj= 0.02365342575848612 Time= 0.23035327990849813\n",
            "run= 1 total=50 Fobj= 0.026378432575612846 Time= 0.4598582188288371\n",
            "run= 2 total=50 Fobj= 0.02183611691054469 Time= 0.6933115084966024\n",
            "run= 3 total=50 Fobj= 0.02340681449408341 Time= 0.924317741394043\n",
            "run= 4 total=50 Fobj= 0.018455198742291404 Time= 1.1556459983189902\n",
            "run= 5 total=50 Fobj= 0.016168275176470452 Time= 1.388834818204244\n",
            "run= 6 total=50 Fobj= 0.02113136278216454 Time= 1.6158513148625693\n",
            "run= 7 total=50 Fobj= 0.015202949983663956 Time= 1.845104451974233\n",
            "run= 8 total=50 Fobj= 0.01471158592338057 Time= 2.07711177666982\n",
            "run= 9 total=50 Fobj= 0.021961643707495603 Time= 2.3085743387540183\n",
            "run= 10 total=50 Fobj= 0.021915169419119487 Time= 2.539676543076833\n",
            "run= 11 total=50 Fobj= 0.018994367715048747 Time= 2.7676947593688963\n",
            "run= 12 total=50 Fobj= 0.020755205435169646 Time= 2.9977844317754108\n",
            "run= 13 total=50 Fobj= 0.024533940820424545 Time= 3.2289334019025167\n",
            "run= 14 total=50 Fobj= 0.014727842906038293 Time= 3.4601447939872743\n",
            "run= 15 total=50 Fobj= 0.01949178828958642 Time= 3.6882296601931253\n",
            "run= 16 total=50 Fobj= 0.02351166835803224 Time= 3.9156402826309202\n",
            "run= 17 total=50 Fobj= 0.020251250533321555 Time= 4.145947972933452\n",
            "run= 18 total=50 Fobj= 0.020414545085969637 Time= 4.375828266143799\n",
            "run= 19 total=50 Fobj= 0.019121984869837075 Time= 4.607261129220327\n",
            "run= 20 total=50 Fobj= 0.02416277982093306 Time= 4.838202170530955\n",
            "run= 21 total=50 Fobj= 0.024500496087770208 Time= 5.068256545066833\n",
            "run= 22 total=50 Fobj= 0.01820918902131729 Time= 5.299374290307363\n",
            "run= 23 total=50 Fobj= 0.02066367339669214 Time= 5.528104611237844\n",
            "run= 24 total=50 Fobj= 0.017117421587879125 Time= 5.757598237196604\n",
            "run= 25 total=50 Fobj= 0.02455233431047701 Time= 5.989660847187042\n",
            "run= 26 total=50 Fobj= 0.023617535052004448 Time= 6.21727234919866\n",
            "run= 27 total=50 Fobj= 0.02447464772992236 Time= 6.447022390365601\n",
            "run= 28 total=50 Fobj= 0.022076590430428648 Time= 6.678498387336731\n",
            "run= 29 total=50 Fobj= 0.021168264293583816 Time= 6.91038856903712\n",
            "run= 30 total=50 Fobj= 0.02019819668046689 Time= 7.139256592591604\n",
            "run= 31 total=50 Fobj= 0.022423679856817882 Time= 7.368319940567017\n",
            "run= 32 total=50 Fobj= 0.02029216894186424 Time= 7.59870665470759\n",
            "run= 33 total=50 Fobj= 0.022870388812063124 Time= 7.827687338987986\n",
            "run= 34 total=50 Fobj= 0.020109858241391554 Time= 8.057335718472798\n",
            "run= 35 total=50 Fobj= 0.02044309443660798 Time= 8.287828814983367\n",
            "run= 36 total=50 Fobj= 0.019629465829814757 Time= 8.519048686822256\n",
            "run= 37 total=50 Fobj= 0.020861096709563834 Time= 8.748656904697418\n",
            "run= 38 total=50 Fobj= 0.018403885697026112 Time= 8.979001533985137\n",
            "run= 39 total=50 Fobj= 0.01939841454097901 Time= 9.208359483877818\n",
            "run= 40 total=50 Fobj= 0.019128970674702685 Time= 9.439598329861958\n",
            "run= 41 total=50 Fobj= 0.021005841919253112 Time= 9.667987565199534\n",
            "run= 42 total=50 Fobj= 0.019416353400001883 Time= 9.897937862078349\n",
            "run= 43 total=50 Fobj= 0.024513797422352653 Time= 10.127576073010763\n",
            "run= 44 total=50 Fobj= 0.02662661946612165 Time= 10.359265093008677\n",
            "run= 45 total=50 Fobj= 0.020808838842141165 Time= 10.591751527786254\n",
            "run= 46 total=50 Fobj= 0.01597820898879726 Time= 10.821022216478983\n",
            "run= 47 total=50 Fobj= 0.02027933941262599 Time= 11.051073404153188\n",
            "run= 48 total=50 Fobj= 0.020812159089365775 Time= 11.281362700462342\n",
            "run= 49 total=50 Fobj= 0.02388565948102596 Time= 11.509932649135589\n"
          ],
          "name": "stdout"
        }
      ]
    },
    {
      "cell_type": "code",
      "metadata": {
        "id": "VAbHty3zbVND",
        "colab_type": "code",
        "colab": {}
      },
      "source": [
        ""
      ],
      "execution_count": 5,
      "outputs": []
    },
    {
      "cell_type": "code",
      "metadata": {
        "colab_type": "code",
        "id": "lNSN5X-wskcx",
        "colab": {
          "base_uri": "https://localhost:8080/",
          "height": 301
        },
        "outputId": "61b81f32-30b7-4628-8682-27fc1ba289ca"
      },
      "source": [
        "############################## Cálculo dos Parâmetros de Avaliação   \n",
        "TIME = (time.time() - start_time)/RUNS\n",
        "BEST_AGENTS=np.array(BEST_AGENTS)\n",
        "BEST_AGENTS_ST= BEST_AGENTS[BEST_AGENTS[:,-1].argsort()]\n",
        "BEST=BEST_AGENTS_ST[0]\n",
        "WORSE=BEST_AGENTS_ST[-1]\n",
        "MEAN=np.mean(BEST_AGENTS,axis=0)\n",
        "MAXFO=BEST_AGENTS[:,-1].max()\n",
        "MINFO=BEST_AGENTS[:,-1].min()\n",
        "STD=BEST_AGENTS[:,-1].std()\n",
        "\n",
        "nome='_DE_STAT_Fo-'+str(mut)+'_CRo-'+str(crossp)+'_D-'+str(dim)+'_Interv-'+str(ITE)\n",
        "print('DE_POP_VAR_F_CR','TOTAL=',TOTAL,'Iterações=',ITE*its,'Dim=', dim,\"Min/Max=\",MIN[0],\"/\",MAX[0],'_',Fun.__name__)\n",
        "print(nome, '\\n')\n",
        "#print('BEST: ',BEST)\n",
        "#print('MÉDIA: ',MEAN)\n",
        "print('MÉDIA: ',MEAN[-1])\n",
        "print('MIN __:',MINFO)\n",
        "print('MAX__: ',MAXFO)\n",
        "print('STD __:',STD)\n",
        "print(\"Tempo Médio= %.3f segundos ---\" % (TIME))\n",
        "print(RUNS,'Rodadas') \n",
        "print()\n",
        "print('BEST: ',BEST)\n",
        "# print('melhor=',BEST_AGENTS[BEST_INDEX])"
      ],
      "execution_count": 6,
      "outputs": [
        {
          "output_type": "stream",
          "text": [
            "DE_POP_VAR_F_CR TOTAL= 300000 Iterações= 1000 Dim= 30 Min/Max= -10 / 10 _ Alpine_n1\n",
            "_DE_STAT_Fo-0.5_CRo-0.5_D-30_Interv-1000 \n",
            "\n",
            "MÉDIA:  0.020885050793214656\n",
            "MIN __: 0.01471158592338057\n",
            "MAX__:  0.02662661946612165\n",
            "STD __: 0.0028162533787857843\n",
            "Tempo Médio= 13.813 segundos ---\n",
            "50 Rodadas\n",
            "\n",
            "BEST:  [-0.00233016  0.00052521 -0.00282348 -0.09865868 -0.00249719 -0.09591267\n",
            " -0.00318684 -0.10305708  0.00661706 -0.09871264 -0.01368181  0.00179298\n",
            " -0.00487736  0.00038877 -0.0057228  -0.09667758 -0.10217982 -0.10960554\n",
            "  0.01129918 -0.10505912 -0.00909539 -0.09711618 -0.00719836 -0.0014932\n",
            " -0.10171229 -0.10521813 -0.0968373  -0.00481788 -0.0905604  -0.02539532\n",
            "  0.01471159]\n"
          ],
          "name": "stdout"
        }
      ]
    }
  ]
}