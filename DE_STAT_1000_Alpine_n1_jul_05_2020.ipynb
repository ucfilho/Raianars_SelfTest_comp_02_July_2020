{
  "nbformat": 4,
  "nbformat_minor": 0,
  "metadata": {
    "accelerator": "GPU",
    "colab": {
      "name": "DE_STAT_1000_Alpine_n1_jul_05_2020.ipynb",
      "provenance": [],
      "collapsed_sections": [],
      "include_colab_link": true
    },
    "kernelspec": {
      "display_name": "Python 3",
      "language": "python",
      "name": "python3"
    },
    "language_info": {
      "codemirror_mode": {
        "name": "ipython",
        "version": 3
      },
      "file_extension": ".py",
      "mimetype": "text/x-python",
      "name": "python",
      "nbconvert_exporter": "python",
      "pygments_lexer": "ipython3",
      "version": "3.6.1"
    }
  },
  "cells": [
    {
      "cell_type": "markdown",
      "metadata": {
        "id": "view-in-github",
        "colab_type": "text"
      },
      "source": [
        "<a href=\"https://colab.research.google.com/github/ucfilho/Raianars_SelfTest_comp_02_July_2020/blob/master/DE_STAT_1000_Alpine_n1_jul_05_2020.ipynb\" target=\"_parent\"><img src=\"https://colab.research.google.com/assets/colab-badge.svg\" alt=\"Open In Colab\"/></a>"
      ]
    },
    {
      "cell_type": "code",
      "metadata": {
        "colab_type": "code",
        "id": "cG5nOUQ9Eucw",
        "colab": {}
      },
      "source": [
        "# Noisy_Quartic\n",
        "# In the paper Ngen=3000 NPAR=100 RUNS=50 dim=30\n",
        "# JADE: Adaptive Differential Evolution with Optional External Archive\n"
      ],
      "execution_count": 1,
      "outputs": []
    },
    {
      "cell_type": "code",
      "metadata": {
        "colab_type": "code",
        "id": "v1OxgXboBKoG",
        "colab": {}
      },
      "source": [
        "import time\n",
        "import matplotlib.pyplot as plt\n",
        "import numpy as np\n",
        "from random import randint"
      ],
      "execution_count": 2,
      "outputs": []
    },
    {
      "cell_type": "code",
      "metadata": {
        "id": "qMRpE0dGULCI",
        "colab_type": "code",
        "colab": {
          "base_uri": "https://localhost:8080/",
          "height": 54
        },
        "outputId": "3451d3f0-d6c5-42bf-b761-c080d08c9db0"
      },
      "source": [
        "!git clone https://github.com/ucfilho/Raianars_July_2020 #clonar do Github\n",
        "%cd Raianars_July_2020"
      ],
      "execution_count": 3,
      "outputs": [
        {
          "output_type": "stream",
          "text": [
            "fatal: destination path 'Raianars_July_2020' already exists and is not an empty directory.\n",
            "/content/Raianars_July_2020\n"
          ],
          "name": "stdout"
        }
      ]
    },
    {
      "cell_type": "code",
      "metadata": {
        "colab_type": "code",
        "id": "_E15mKFURR6O",
        "colab": {}
      },
      "source": [
        "import de_soma_Insight\n",
        "import de_bounds_matriz\n",
        "import Function\n",
        "import Go2MinMax\n",
        "from AvaliaX import AvaliaX\n",
        "\n",
        "\n",
        "############################### DADOS DE ENTRADA \n",
        "its=1 #10 # quantas vezes vai usar o NPAR antes de alterar de novo\n",
        "ITE=1000 #10 # PONTOS quantas vezes vai alteral NPAR \n",
        "NPAR=100 # NUMBER OF PARTICLES\n",
        "dim=30\n",
        "RUNS=50\n",
        "fchoice='Alpine_n1'  #f2\n",
        "Fun=Function.Alpine_n1\n",
        "\n",
        "mut=0.5\n",
        "crossp=0.5\n",
        "dim=30\n",
        "\n",
        "#fchoice='Rastrigin' #fchoice='Michalewicz' #fchoice='Schwefel'\n",
        "fchoice='Noisy_Quartic'\n",
        "Fun=Function.Noisy_Quartic\n",
        "\n",
        "MIN,MAX=Go2MinMax.Intervalo(dim,fchoice)\n",
        "\n",
        "TOTAL=10*dim*its*ITE\n",
        "SOMA=0"
      ],
      "execution_count": 4,
      "outputs": []
    },
    {
      "cell_type": "code",
      "metadata": {
        "colab_type": "code",
        "id": "rnX8ttNopd1G",
        "colab": {
          "base_uri": "https://localhost:8080/",
          "height": 926
        },
        "outputId": "0fd57f88-f882-42ad-b663-68dd9c1b539e"
      },
      "source": [
        "start_time = time.time()\n",
        "BEST_AGENTS=[]\n",
        "MAT_stat=[]\n",
        "\n",
        "for i in range(RUNS):\n",
        "\n",
        "    pop = np.random.rand(NPAR, dim)\n",
        "    diff=np.zeros(dim)\n",
        "    for ii in range(dim):\n",
        "      diff[ii] = MAX[ii]-MIN[ii]\n",
        "    X = MIN + pop * diff\n",
        "\n",
        "    for k in range(ITE):\n",
        "      X,BEST,FOBEST,XY,BEST_XY,SOMA= de_soma_Insight.de(MAX,MIN, mut, crossp,dim,its,Fun,X,SOMA,TOTAL)\n",
        "\n",
        "    start_run = (time.time()-start_time)/60\n",
        "    print('run=',i,'total=50','Fobj=',FOBEST,'Time=',start_run)  \n",
        "    BEST_AGENTS.append(BEST_XY)"
      ],
      "execution_count": 5,
      "outputs": [
        {
          "output_type": "stream",
          "text": [
            "run= 0 total=50 Fobj= 0.36607867712875286 Time= 0.14504107236862182\n",
            "run= 1 total=50 Fobj= 0.15716716151474236 Time= 0.28780070940653485\n",
            "run= 2 total=50 Fobj= 0.3200139933737164 Time= 0.4318277955055237\n",
            "run= 3 total=50 Fobj= 0.35783333684521984 Time= 0.5761337717374165\n",
            "run= 4 total=50 Fobj= 0.43233950695036066 Time= 0.7218124469121298\n",
            "run= 5 total=50 Fobj= 0.36822100395431745 Time= 0.8661596695582072\n",
            "run= 6 total=50 Fobj= 0.33618578372829444 Time= 1.0141267895698547\n",
            "run= 7 total=50 Fobj= 0.3079029609917171 Time= 1.1633186101913453\n",
            "run= 8 total=50 Fobj= 0.5037760322714406 Time= 1.3119325598080953\n",
            "run= 9 total=50 Fobj= 0.3554337395626694 Time= 1.457047979036967\n",
            "run= 10 total=50 Fobj= 148.9895496049469 Time= 1.5446900924046834\n",
            "run= 11 total=50 Fobj= 178.5944020568907 Time= 1.6304882248242696\n",
            "run= 12 total=50 Fobj= 123.00841135870871 Time= 1.716366203625997\n",
            "run= 13 total=50 Fobj= 121.34351393883814 Time= 1.8031449794769288\n",
            "run= 14 total=50 Fobj= 105.4645277254123 Time= 1.8886800289154053\n",
            "run= 15 total=50 Fobj= 135.0729212159577 Time= 1.9756240328152974\n",
            "run= 16 total=50 Fobj= 131.53644356789465 Time= 2.0624767859776814\n",
            "run= 17 total=50 Fobj= 136.50601891128596 Time= 2.1487000505129497\n",
            "run= 18 total=50 Fobj= 88.67832281436878 Time= 2.236182224750519\n",
            "run= 19 total=50 Fobj= 111.22341129489186 Time= 2.3238608956336977\n",
            "run= 20 total=50 Fobj= 61.915694617977486 Time= 2.4106377442677815\n",
            "run= 21 total=50 Fobj= 135.40222307521654 Time= 2.4982428868611652\n",
            "run= 22 total=50 Fobj= 126.09777514329538 Time= 2.584274208545685\n",
            "run= 23 total=50 Fobj= 103.91199340199047 Time= 2.6711297353108723\n",
            "run= 24 total=50 Fobj= 111.19919212671407 Time= 2.75947726170222\n",
            "run= 25 total=50 Fobj= 123.35998550798243 Time= 2.845034968852997\n",
            "run= 26 total=50 Fobj= 76.72003335151587 Time= 2.9317221721013387\n",
            "run= 27 total=50 Fobj= 130.4990392504462 Time= 3.0206187764803567\n",
            "run= 28 total=50 Fobj= 116.26422604722573 Time= 3.1070061246554057\n",
            "run= 29 total=50 Fobj= 75.81668793004489 Time= 3.195933787027995\n",
            "run= 30 total=50 Fobj= 116.86124237066548 Time= 3.281006360054016\n",
            "run= 31 total=50 Fobj= 91.9064785379478 Time= 3.367629094918569\n",
            "run= 32 total=50 Fobj= 123.96195559413233 Time= 3.454039478302002\n",
            "run= 33 total=50 Fobj= 140.58676921416154 Time= 3.543653603394826\n",
            "run= 34 total=50 Fobj= 70.73032590702634 Time= 3.6306745370229083\n",
            "run= 35 total=50 Fobj= 116.80987215451242 Time= 3.717612878481547\n",
            "run= 36 total=50 Fobj= 116.40854660293725 Time= 3.8057578007380166\n",
            "run= 37 total=50 Fobj= 143.53584962076079 Time= 3.8933207988739014\n",
            "run= 38 total=50 Fobj= 137.56520957197907 Time= 3.9796409289042156\n",
            "run= 39 total=50 Fobj= 121.78877473750387 Time= 4.067843163013459\n",
            "run= 40 total=50 Fobj= 157.12294071752865 Time= 4.153915198644002\n",
            "run= 41 total=50 Fobj= 139.67808979093286 Time= 4.2392489592234295\n",
            "run= 42 total=50 Fobj= 135.55794812642876 Time= 4.3249513904253645\n",
            "run= 43 total=50 Fobj= 135.30849410849157 Time= 4.412280583381653\n",
            "run= 44 total=50 Fobj= 112.27278330460067 Time= 4.497129797935486\n",
            "run= 45 total=50 Fobj= 108.4856758588703 Time= 4.583986496925354\n",
            "run= 46 total=50 Fobj= 128.20785222211927 Time= 4.671382538477579\n",
            "run= 47 total=50 Fobj= 138.87038877310567 Time= 4.760341489315033\n",
            "run= 48 total=50 Fobj= 142.44516838679039 Time= 4.85046501159668\n",
            "run= 49 total=50 Fobj= 172.18131964171522 Time= 4.9388375878334045\n"
          ],
          "name": "stdout"
        }
      ]
    },
    {
      "cell_type": "code",
      "metadata": {
        "id": "VAbHty3zbVND",
        "colab_type": "code",
        "colab": {}
      },
      "source": [
        ""
      ],
      "execution_count": 5,
      "outputs": []
    },
    {
      "cell_type": "code",
      "metadata": {
        "colab_type": "code",
        "id": "lNSN5X-wskcx",
        "colab": {
          "base_uri": "https://localhost:8080/",
          "height": 345
        },
        "outputId": "7343ea0b-8ea6-4a9a-d669-47c94c4f3ea2"
      },
      "source": [
        "############################## Cálculo dos Parâmetros de Avaliação   \n",
        "TIME = (time.time() - start_time)/RUNS\n",
        "BEST_AGENTS=np.array(BEST_AGENTS)\n",
        "BEST_AGENTS_ST= BEST_AGENTS[BEST_AGENTS[:,-1].argsort()]\n",
        "BEST=BEST_AGENTS_ST[0]\n",
        "WORSE=BEST_AGENTS_ST[-1]\n",
        "MEAN=np.mean(BEST_AGENTS,axis=0)\n",
        "MAXFO=BEST_AGENTS[:,-1].max()\n",
        "MINFO=BEST_AGENTS[:,-1].min()\n",
        "STD=BEST_AGENTS[:,-1].std()\n",
        "\n",
        "nome='_DE_STAT_Fo-'+str(mut)+'_CRo-'+str(crossp)+'_D-'+str(dim)+'_Interv-'+str(ITE)\n",
        "print('DE_POP_VAR_F_CR','TOTAL=',TOTAL,'Iterações=',ITE*its,'Dim=', dim,\"Min/Max=\",MIN[0],\"/\",MAX[0],'_',Fun.__name__)\n",
        "print(nome, '\\n')\n",
        "#print('BEST: ',BEST)\n",
        "#print('MÉDIA: ',MEAN)\n",
        "print('MÉDIA: ',MEAN[-1])\n",
        "print('MIN __:',MINFO)\n",
        "print('MAX__: ',MAXFO)\n",
        "print('STD __:',STD)\n",
        "print(\"Tempo Médio= %.3f segundos ---\" % (TIME))\n",
        "print(RUNS,'Rodadas') \n",
        "print()\n",
        "print('BEST: ',BEST)\n",
        "# print('melhor=',BEST_AGENTS[BEST_INDEX])"
      ],
      "execution_count": 8,
      "outputs": [
        {
          "output_type": "stream",
          "text": [
            "DE_POP_VAR_F_CR TOTAL= 300000 Iterações= 1000 Dim= 30 Min/Max= -1.28 / 1.28 _ Noisy_Quartic\n",
            "_DE_STAT_Fo-0.5_CRo-0.5_D-30_Interv-1000 \n",
            "\n",
            "MÉDIA:  97.90790020760272\n",
            "MIN __: 0.15716716151474236\n",
            "MAX__:  178.5944020568907\n",
            "STD __: 53.577608003992104\n",
            "Tempo Médio= 9.658 segundos ---\n",
            "50 Rodadas\n",
            "\n",
            "BEST:  [-3.68238253e-01  2.93938162e-01 -1.01616744e-01 -1.77295206e-03\n",
            " -9.25957169e-02  1.02528251e-02  3.42032965e-02  9.87202599e-02\n",
            "  1.22579219e-01 -5.41766064e-02 -1.87725357e-02 -1.54049408e-01\n",
            " -3.98835151e-02  9.32156707e-02  6.08652613e-02  1.80941058e-02\n",
            "  1.11293528e-01 -6.02416826e-03  9.74209600e-02  2.06817706e-01\n",
            " -1.14873237e-01 -1.09266655e-01 -1.17128964e-01  1.11713358e-04\n",
            " -1.60379015e-01  2.02390355e-02  2.98915861e-03 -5.85571974e-02\n",
            " -3.94252671e-02  1.14763661e-01  1.57167162e-01]\n"
          ],
          "name": "stdout"
        }
      ]
    }
  ]
}