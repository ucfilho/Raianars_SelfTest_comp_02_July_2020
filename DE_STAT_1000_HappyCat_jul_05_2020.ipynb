{
  "nbformat": 4,
  "nbformat_minor": 0,
  "metadata": {
    "accelerator": "GPU",
    "colab": {
      "name": "DE_STAT_1000_HappyCat_jul_05_2020.ipynb",
      "provenance": [],
      "collapsed_sections": [],
      "include_colab_link": true
    },
    "kernelspec": {
      "display_name": "Python 3",
      "language": "python",
      "name": "python3"
    },
    "language_info": {
      "codemirror_mode": {
        "name": "ipython",
        "version": 3
      },
      "file_extension": ".py",
      "mimetype": "text/x-python",
      "name": "python",
      "nbconvert_exporter": "python",
      "pygments_lexer": "ipython3",
      "version": "3.6.1"
    }
  },
  "cells": [
    {
      "cell_type": "markdown",
      "metadata": {
        "id": "view-in-github",
        "colab_type": "text"
      },
      "source": [
        "<a href=\"https://colab.research.google.com/github/ucfilho/Raianars_SelfTest_comp_02_July_2020/blob/master/DE_STAT_1000_HappyCat_jul_05_2020.ipynb\" target=\"_parent\"><img src=\"https://colab.research.google.com/assets/colab-badge.svg\" alt=\"Open In Colab\"/></a>"
      ]
    },
    {
      "cell_type": "code",
      "metadata": {
        "colab_type": "code",
        "id": "cG5nOUQ9Eucw",
        "colab": {}
      },
      "source": [
        "# Noisy_Quartic\n",
        "# In the paper Ngen=3000 NPAR=100 RUNS=50 dim=30\n",
        "# JADE: Adaptive Differential Evolution with Optional External Archive\n"
      ],
      "execution_count": 1,
      "outputs": []
    },
    {
      "cell_type": "code",
      "metadata": {
        "colab_type": "code",
        "id": "v1OxgXboBKoG",
        "colab": {}
      },
      "source": [
        "import time\n",
        "import matplotlib.pyplot as plt\n",
        "import numpy as np\n",
        "from random import randint"
      ],
      "execution_count": 2,
      "outputs": []
    },
    {
      "cell_type": "code",
      "metadata": {
        "id": "qMRpE0dGULCI",
        "colab_type": "code",
        "colab": {
          "base_uri": "https://localhost:8080/",
          "height": 158
        },
        "outputId": "d04d47c9-dee7-4825-8fd1-ea16e55ea892"
      },
      "source": [
        "!git clone https://github.com/ucfilho/Raianars_July_2020 #clonar do Github\n",
        "%cd Raianars_July_2020"
      ],
      "execution_count": 3,
      "outputs": [
        {
          "output_type": "stream",
          "text": [
            "Cloning into 'Raianars_July_2020'...\n",
            "remote: Enumerating objects: 9, done.\u001b[K\n",
            "remote: Counting objects: 100% (9/9), done.\u001b[K\n",
            "remote: Compressing objects: 100% (9/9), done.\u001b[K\n",
            "remote: Total 132 (delta 3), reused 0 (delta 0), pack-reused 123\n",
            "Receiving objects: 100% (132/132), 200.33 KiB | 8.35 MiB/s, done.\n",
            "Resolving deltas: 100% (65/65), done.\n",
            "/content/Raianars_July_2020\n"
          ],
          "name": "stdout"
        }
      ]
    },
    {
      "cell_type": "code",
      "metadata": {
        "colab_type": "code",
        "id": "_E15mKFURR6O",
        "colab": {}
      },
      "source": [
        "import de_soma_Insight\n",
        "import de_bounds_matriz\n",
        "import Function\n",
        "import Go2MinMax\n",
        "from AvaliaX import AvaliaX\n",
        "\n",
        "\n",
        "############################### DADOS DE ENTRADA \n",
        "its=1 #10 # quantas vezes vai usar o NPAR antes de alterar de novo\n",
        "ITE=1000 #10 # PONTOS quantas vezes vai alteral NPAR \n",
        "NPAR=100 # NUMBER OF PARTICLES\n",
        "dim=30\n",
        "RUNS=50\n",
        "fchoice='HappyCat'  \n",
        "Fun=Function.HappyCat\n",
        "\n",
        "mut=0.5\n",
        "crossp=0.5\n",
        "\n",
        "\n",
        "\n",
        "MIN,MAX=Go2MinMax.Intervalo(dim,fchoice)\n",
        "\n",
        "TOTAL=10*dim*its*ITE\n",
        "SOMA=0"
      ],
      "execution_count": 4,
      "outputs": []
    },
    {
      "cell_type": "code",
      "metadata": {
        "colab_type": "code",
        "id": "rnX8ttNopd1G",
        "colab": {
          "base_uri": "https://localhost:8080/",
          "height": 905
        },
        "outputId": "a5f1c6dc-bd43-4afa-cbac-a43f995c2012"
      },
      "source": [
        "start_time = time.time()\n",
        "BEST_AGENTS=[]\n",
        "MAT_stat=[]\n",
        "\n",
        "for i in range(RUNS):\n",
        "\n",
        "    pop = np.random.rand(NPAR, dim)\n",
        "    diff=np.zeros(dim)\n",
        "    for ii in range(dim):\n",
        "      diff[ii] = MAX[ii]-MIN[ii]\n",
        "    X = MIN + pop * diff\n",
        "\n",
        "    SOMA=0\n",
        "\n",
        "    for k in range(ITE):\n",
        "      X,BEST,FOBEST,XY,BEST_XY,SOMA= de_soma_Insight.de(MAX,MIN, mut, crossp,dim,its,Fun,X,SOMA,TOTAL)\n",
        "\n",
        "    start_run = (time.time()-start_time)/60\n",
        "    print('run=',i,'total=50','Fobj=',FOBEST,'Time=',start_run)  \n",
        "    BEST_AGENTS.append(BEST_XY)"
      ],
      "execution_count": 5,
      "outputs": [
        {
          "output_type": "stream",
          "text": [
            "run= 0 total=50 Fobj= 0.4256814752297382 Time= 0.15748100678126017\n",
            "run= 1 total=50 Fobj= 0.52920744534235 Time= 0.3152857820192973\n",
            "run= 2 total=50 Fobj= 0.4609766469958667 Time= 0.4725613196690877\n",
            "run= 3 total=50 Fobj= 0.4780886939523458 Time= 0.6295166850090027\n",
            "run= 4 total=50 Fobj= 0.5255814950389437 Time= 0.7885361035664876\n",
            "run= 5 total=50 Fobj= 0.4264915408343743 Time= 0.9462837219238281\n",
            "run= 6 total=50 Fobj= 0.4390321540837615 Time= 1.1100246588389078\n",
            "run= 7 total=50 Fobj= 0.5201271096390074 Time= 1.2722010850906371\n",
            "run= 8 total=50 Fobj= 0.4715993534454953 Time= 1.4322440465291342\n",
            "run= 9 total=50 Fobj= 0.5081591769940498 Time= 1.5885783950487773\n",
            "run= 10 total=50 Fobj= 0.4779078055006007 Time= 1.745325517654419\n",
            "run= 11 total=50 Fobj= 0.5481908485980782 Time= 1.9028403679529826\n",
            "run= 12 total=50 Fobj= 0.5371232007276314 Time= 2.0610779325167337\n",
            "run= 13 total=50 Fobj= 0.48231998108119434 Time= 2.217801094055176\n",
            "run= 14 total=50 Fobj= 0.5336007790111144 Time= 2.3758553584416706\n",
            "run= 15 total=50 Fobj= 0.5264119436951679 Time= 2.5334383726119993\n",
            "run= 16 total=50 Fobj= 0.3763832560889678 Time= 2.689776571591695\n",
            "run= 17 total=50 Fobj= 0.4491557748236781 Time= 2.8467976609865824\n",
            "run= 18 total=50 Fobj= 0.5476682022131759 Time= 3.004306689898173\n",
            "run= 19 total=50 Fobj= 0.4982281038670829 Time= 3.161666961510976\n",
            "run= 20 total=50 Fobj= 0.5203184638639091 Time= 3.31863165696462\n",
            "run= 21 total=50 Fobj= 0.47508079852162366 Time= 3.4753655155499774\n",
            "run= 22 total=50 Fobj= 0.5856909434622335 Time= 3.6320053696632386\n",
            "run= 23 total=50 Fobj= 0.5261511344288341 Time= 3.7894135753313702\n",
            "run= 24 total=50 Fobj= 0.5049349238223839 Time= 3.945930258433024\n",
            "run= 25 total=50 Fobj= 0.51151640786788 Time= 4.103250833352407\n",
            "run= 26 total=50 Fobj= 0.4761381223778501 Time= 4.264807109038035\n",
            "run= 27 total=50 Fobj= 0.4964765064719153 Time= 4.422954102357228\n",
            "run= 28 total=50 Fobj= 0.38667264196486906 Time= 4.579901746908823\n",
            "run= 29 total=50 Fobj= 0.48588821566658946 Time= 4.738080128033956\n",
            "run= 30 total=50 Fobj= 0.5207291259642219 Time= 4.895255593458812\n",
            "run= 31 total=50 Fobj= 0.4811545758474454 Time= 5.053268051147461\n",
            "run= 32 total=50 Fobj= 0.4433029542583371 Time= 5.210466615358988\n",
            "run= 33 total=50 Fobj= 0.4852191630085081 Time= 5.367584089438121\n",
            "run= 34 total=50 Fobj= 0.47248872450988244 Time= 5.525454286734263\n",
            "run= 35 total=50 Fobj= 0.4167582250846905 Time= 5.683021597067515\n",
            "run= 36 total=50 Fobj= 0.5125049119940488 Time= 5.839637847741445\n",
            "run= 37 total=50 Fobj= 0.3972383203769311 Time= 5.997834956645965\n",
            "run= 38 total=50 Fobj= 0.48493522778877196 Time= 6.15615260998408\n",
            "run= 39 total=50 Fobj= 0.3834460246191456 Time= 6.312831274668375\n",
            "run= 40 total=50 Fobj= 0.3322743565526592 Time= 6.4753762284914655\n",
            "run= 41 total=50 Fobj= 0.48535204735591997 Time= 6.637133344014486\n",
            "run= 42 total=50 Fobj= 0.5323702396250619 Time= 6.798349471886953\n",
            "run= 43 total=50 Fobj= 0.4470456619191411 Time= 6.956717399756114\n",
            "run= 44 total=50 Fobj= 0.6037604575826508 Time= 7.114934229850769\n",
            "run= 45 total=50 Fobj= 0.49657268793898957 Time= 7.271969532966613\n",
            "run= 46 total=50 Fobj= 0.5536816415473967 Time= 7.429732636610667\n",
            "run= 47 total=50 Fobj= 0.49292208533269927 Time= 7.587518258889516\n",
            "run= 48 total=50 Fobj= 0.4552662598336774 Time= 7.745398910840352\n",
            "run= 49 total=50 Fobj= 0.5323152749500936 Time= 7.90319637854894\n"
          ],
          "name": "stdout"
        }
      ]
    },
    {
      "cell_type": "code",
      "metadata": {
        "id": "VAbHty3zbVND",
        "colab_type": "code",
        "colab": {}
      },
      "source": [
        ""
      ],
      "execution_count": 5,
      "outputs": []
    },
    {
      "cell_type": "code",
      "metadata": {
        "colab_type": "code",
        "id": "lNSN5X-wskcx",
        "colab": {
          "base_uri": "https://localhost:8080/",
          "height": 301
        },
        "outputId": "9e446016-4e0d-4fee-91e7-03ebac6b64a5"
      },
      "source": [
        "############################## Cálculo dos Parâmetros de Avaliação   \n",
        "TIME = (time.time() - start_time)/RUNS\n",
        "BEST_AGENTS=np.array(BEST_AGENTS)\n",
        "BEST_AGENTS_ST= BEST_AGENTS[BEST_AGENTS[:,-1].argsort()]\n",
        "BEST=BEST_AGENTS_ST[0]\n",
        "WORSE=BEST_AGENTS_ST[-1]\n",
        "MEAN=np.mean(BEST_AGENTS,axis=0)\n",
        "MAXFO=BEST_AGENTS[:,-1].max()\n",
        "MINFO=BEST_AGENTS[:,-1].min()\n",
        "STD=BEST_AGENTS[:,-1].std()\n",
        "\n",
        "nome='_DE_STAT_Fo-'+str(mut)+'_CRo-'+str(crossp)+'_D-'+str(dim)+'_Interv-'+str(ITE)\n",
        "print('DE_POP_VAR_F_CR','TOTAL=',TOTAL,'Iterações=',ITE*its,'Dim=', dim,\"Min/Max=\",MIN[0],\"/\",MAX[0],'_',Fun.__name__)\n",
        "print(nome, '\\n')\n",
        "#print('BEST: ',BEST)\n",
        "#print('MÉDIA: ',MEAN)\n",
        "print('MÉDIA: ',MEAN[-1])\n",
        "print('MIN __:',MINFO)\n",
        "print('MAX__: ',MAXFO)\n",
        "print('STD __:',STD)\n",
        "print(\"Tempo Médio= %.3f segundos ---\" % (TIME))\n",
        "print(RUNS,'Rodadas') \n",
        "print()\n",
        "print('BEST: ',BEST)\n",
        "# print('melhor=',BEST_AGENTS[BEST_INDEX])"
      ],
      "execution_count": 6,
      "outputs": [
        {
          "output_type": "stream",
          "text": [
            "DE_POP_VAR_F_CR TOTAL= 300000 Iterações= 1000 Dim= 30 Min/Max= -2 / 2 _ HappyCat\n",
            "_DE_STAT_Fo-0.5_CRo-0.5_D-30_Interv-1000 \n",
            "\n",
            "MÉDIA:  0.4852028222340199\n",
            "MIN __: 0.3322743565526592\n",
            "MAX__:  0.6037604575826508\n",
            "STD __: 0.053512871482062845\n",
            "Tempo Médio= 9.484 segundos ---\n",
            "50 Rodadas\n",
            "\n",
            "BEST:  [-1.47836417 -0.39572008  0.09256059 -0.11097538 -0.62086058 -0.7820299\n",
            "  0.35186736 -0.34355625 -1.21373321 -0.23045586 -1.56986834  0.17365669\n",
            " -0.25973026 -0.01242713 -1.82617305 -2.         -0.57852498 -0.79310975\n",
            " -1.94266787 -0.61319088 -0.03717031 -1.45610098  0.05224041 -0.71120048\n",
            " -0.69124279 -0.61735434 -1.65485353 -1.34900628 -1.13604507 -0.72317366\n",
            "  0.33227436]\n"
          ],
          "name": "stdout"
        }
      ]
    }
  ]
}