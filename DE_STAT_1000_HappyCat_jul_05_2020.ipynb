{
  "nbformat": 4,
  "nbformat_minor": 0,
  "metadata": {
    "accelerator": "GPU",
    "colab": {
      "name": "DE_STAT_1000_HappyCat_jul_05_2020.ipynb",
      "provenance": [],
      "collapsed_sections": [],
      "include_colab_link": true
    },
    "kernelspec": {
      "display_name": "Python 3",
      "language": "python",
      "name": "python3"
    },
    "language_info": {
      "codemirror_mode": {
        "name": "ipython",
        "version": 3
      },
      "file_extension": ".py",
      "mimetype": "text/x-python",
      "name": "python",
      "nbconvert_exporter": "python",
      "pygments_lexer": "ipython3",
      "version": "3.6.1"
    }
  },
  "cells": [
    {
      "cell_type": "markdown",
      "metadata": {
        "id": "view-in-github",
        "colab_type": "text"
      },
      "source": [
        "<a href=\"https://colab.research.google.com/github/ucfilho/Raianars_SelfTest_comp_02_July_2020/blob/master/DE_STAT_1000_HappyCat_jul_05_2020.ipynb\" target=\"_parent\"><img src=\"https://colab.research.google.com/assets/colab-badge.svg\" alt=\"Open In Colab\"/></a>"
      ]
    },
    {
      "cell_type": "code",
      "metadata": {
        "colab_type": "code",
        "id": "cG5nOUQ9Eucw",
        "colab": {}
      },
      "source": [
        "# Noisy_Quartic\n",
        "# In the paper Ngen=3000 NPAR=100 RUNS=50 dim=30\n",
        "# JADE: Adaptive Differential Evolution with Optional External Archive\n"
      ],
      "execution_count": 1,
      "outputs": []
    },
    {
      "cell_type": "code",
      "metadata": {
        "colab_type": "code",
        "id": "v1OxgXboBKoG",
        "colab": {}
      },
      "source": [
        "import time\n",
        "import matplotlib.pyplot as plt\n",
        "import numpy as np\n",
        "from random import randint"
      ],
      "execution_count": 2,
      "outputs": []
    },
    {
      "cell_type": "code",
      "metadata": {
        "id": "qMRpE0dGULCI",
        "colab_type": "code",
        "colab": {
          "base_uri": "https://localhost:8080/",
          "height": 163
        },
        "outputId": "7eeba6d6-4629-4176-87d7-5fd74530aa26"
      },
      "source": [
        "!git clone https://github.com/ucfilho/Raianars_July_2020 #clonar do Github\n",
        "%cd Raianars_July_2020"
      ],
      "execution_count": 3,
      "outputs": [
        {
          "output_type": "stream",
          "text": [
            "Cloning into 'Raianars_July_2020'...\n",
            "remote: Enumerating objects: 3, done.\u001b[K\n",
            "remote: Counting objects:  33% (1/3)\u001b[K\rremote: Counting objects:  66% (2/3)\u001b[K\rremote: Counting objects: 100% (3/3)\u001b[K\rremote: Counting objects: 100% (3/3), done.\u001b[K\n",
            "remote: Compressing objects: 100% (3/3), done.\u001b[K\n",
            "remote: Total 126 (delta 0), reused 0 (delta 0), pack-reused 123\u001b[K\n",
            "Receiving objects: 100% (126/126), 198.23 KiB | 944.00 KiB/s, done.\n",
            "Resolving deltas: 100% (62/62), done.\n",
            "/content/Raianars_July_2020\n"
          ],
          "name": "stdout"
        }
      ]
    },
    {
      "cell_type": "code",
      "metadata": {
        "colab_type": "code",
        "id": "_E15mKFURR6O",
        "colab": {}
      },
      "source": [
        "import de_soma_Insight\n",
        "import de_bounds_matriz\n",
        "import Function\n",
        "import Go2MinMax\n",
        "from AvaliaX import AvaliaX\n",
        "\n",
        "\n",
        "############################### DADOS DE ENTRADA \n",
        "its=1 #10 # quantas vezes vai usar o NPAR antes de alterar de novo\n",
        "ITE=1000 #10 # PONTOS quantas vezes vai alteral NPAR \n",
        "NPAR=100 # NUMBER OF PARTICLES\n",
        "dim=30\n",
        "RUNS=50\n",
        "fchoice='HappyCat'  \n",
        "Fun=Function.HappyCat\n",
        "\n",
        "mut=0.5\n",
        "crossp=0.5\n",
        "\n",
        "\n",
        "#fchoice='Rastrigin' #fchoice='Michalewicz' #fchoice='Schwefel'\n",
        "fchoice='Noisy_Quartic'\n",
        "Fun=Function.Noisy_Quartic\n",
        "\n",
        "MIN,MAX=Go2MinMax.Intervalo(dim,fchoice)\n",
        "\n",
        "TOTAL=10*dim*its*ITE\n",
        "SOMA=0"
      ],
      "execution_count": 4,
      "outputs": []
    },
    {
      "cell_type": "code",
      "metadata": {
        "colab_type": "code",
        "id": "rnX8ttNopd1G",
        "colab": {
          "base_uri": "https://localhost:8080/",
          "height": 926
        },
        "outputId": "a8bcfe15-1d62-4399-dbf5-9e05515e42a5"
      },
      "source": [
        "start_time = time.time()\n",
        "BEST_AGENTS=[]\n",
        "MAT_stat=[]\n",
        "\n",
        "for i in range(RUNS):\n",
        "\n",
        "    pop = np.random.rand(NPAR, dim)\n",
        "    diff=np.zeros(dim)\n",
        "    for ii in range(dim):\n",
        "      diff[ii] = MAX[ii]-MIN[ii]\n",
        "    X = MIN + pop * diff\n",
        "\n",
        "    for k in range(ITE):\n",
        "      X,BEST,FOBEST,XY,BEST_XY,SOMA= de_soma_Insight.de(MAX,MIN, mut, crossp,dim,its,Fun,X,SOMA,TOTAL)\n",
        "\n",
        "    start_run = (time.time()-start_time)/60\n",
        "    print('run=',i,'total=50','Fobj=',FOBEST,'Time=',start_run)  \n",
        "    BEST_AGENTS.append(BEST_XY)"
      ],
      "execution_count": 5,
      "outputs": [
        {
          "output_type": "stream",
          "text": [
            "run= 0 total=50 Fobj= 0.3476855969981346 Time= 0.15353639125823976\n",
            "run= 1 total=50 Fobj= 0.3056530111989617 Time= 0.3055647889773051\n",
            "run= 2 total=50 Fobj= 0.2783301831797468 Time= 0.45704627434412637\n",
            "run= 3 total=50 Fobj= 0.27209102740265256 Time= 0.6106776118278503\n",
            "run= 4 total=50 Fobj= 0.40719557378651516 Time= 0.7612796187400818\n",
            "run= 5 total=50 Fobj= 0.4991534622240603 Time= 0.9116056164105734\n",
            "run= 6 total=50 Fobj= 0.4345084131105568 Time= 1.0615062872568766\n",
            "run= 7 total=50 Fobj= 0.34748453199122387 Time= 1.210460658868154\n",
            "run= 8 total=50 Fobj= 0.3836697484906533 Time= 1.3593803524971009\n",
            "run= 9 total=50 Fobj= 0.4706079758617201 Time= 1.5076670050621033\n",
            "run= 10 total=50 Fobj= 124.1907009924189 Time= 1.596630342801412\n",
            "run= 11 total=50 Fobj= 128.0772970034271 Time= 1.6848718007405599\n",
            "run= 12 total=50 Fobj= 118.4745167173776 Time= 1.7730632901191712\n",
            "run= 13 total=50 Fobj= 147.8176548260074 Time= 1.8627754727999368\n",
            "run= 14 total=50 Fobj= 124.34789421559651 Time= 1.952373166879018\n",
            "run= 15 total=50 Fobj= 145.61494705397465 Time= 2.0412389993667603\n",
            "run= 16 total=50 Fobj= 73.23067691068995 Time= 2.1303983410199483\n",
            "run= 17 total=50 Fobj= 118.396966145072 Time= 2.21898779074351\n",
            "run= 18 total=50 Fobj= 136.33420511179438 Time= 2.3072157859802247\n",
            "run= 19 total=50 Fobj= 125.24366262388271 Time= 2.3955636461575827\n",
            "run= 20 total=50 Fobj= 116.29867696955858 Time= 2.4846213261286416\n",
            "run= 21 total=50 Fobj= 96.16480867169014 Time= 2.5738797148068744\n",
            "run= 22 total=50 Fobj= 77.1164352018138 Time= 2.6626230239868165\n",
            "run= 23 total=50 Fobj= 141.9017222060543 Time= 2.7511805335680646\n",
            "run= 24 total=50 Fobj= 155.37518800402688 Time= 2.8394875446955363\n",
            "run= 25 total=50 Fobj= 114.50507449970205 Time= 2.9276910622914634\n",
            "run= 26 total=50 Fobj= 123.9131433312994 Time= 3.018330677350362\n",
            "run= 27 total=50 Fobj= 133.8221351742435 Time= 3.107986533641815\n",
            "run= 28 total=50 Fobj= 90.61848673955366 Time= 3.197741750876109\n",
            "run= 29 total=50 Fobj= 114.56246308001577 Time= 3.288894359270732\n",
            "run= 30 total=50 Fobj= 112.90120656622605 Time= 3.3789823055267334\n",
            "run= 31 total=50 Fobj= 132.73824832688305 Time= 3.4676921447118123\n",
            "run= 32 total=50 Fobj= 115.04552045719639 Time= 3.556261948744456\n",
            "run= 33 total=50 Fobj= 91.27799829670049 Time= 3.6438990354537966\n",
            "run= 34 total=50 Fobj= 118.47346158097386 Time= 3.732501701513926\n",
            "run= 35 total=50 Fobj= 132.48019296276036 Time= 3.8204588452974955\n",
            "run= 36 total=50 Fobj= 125.91118672407508 Time= 3.9084646781285604\n",
            "run= 37 total=50 Fobj= 162.88774640108903 Time= 3.9960559169451395\n",
            "run= 38 total=50 Fobj= 145.55776464212047 Time= 4.083923153082529\n",
            "run= 39 total=50 Fobj= 116.55354864073358 Time= 4.172389849026998\n",
            "run= 40 total=50 Fobj= 107.98690466870633 Time= 4.260465844472249\n",
            "run= 41 total=50 Fobj= 127.59469745569235 Time= 4.348644701639811\n",
            "run= 42 total=50 Fobj= 81.09160677067369 Time= 4.436198353767395\n",
            "run= 43 total=50 Fobj= 123.66463652272621 Time= 4.525142447153727\n",
            "run= 44 total=50 Fobj= 78.92643929758296 Time= 4.614360376199087\n",
            "run= 45 total=50 Fobj= 104.08177872985524 Time= 4.702948840459188\n",
            "run= 46 total=50 Fobj= 143.418911521851 Time= 4.791209320227305\n",
            "run= 47 total=50 Fobj= 97.47602037466538 Time= 4.8796732465426125\n",
            "run= 48 total=50 Fobj= 128.78625604616985 Time= 4.968119974931081\n",
            "run= 49 total=50 Fobj= 120.87456242582739 Time= 5.056540675957998\n"
          ],
          "name": "stdout"
        }
      ]
    },
    {
      "cell_type": "code",
      "metadata": {
        "id": "VAbHty3zbVND",
        "colab_type": "code",
        "colab": {}
      },
      "source": [
        ""
      ],
      "execution_count": 5,
      "outputs": []
    },
    {
      "cell_type": "code",
      "metadata": {
        "colab_type": "code",
        "id": "lNSN5X-wskcx",
        "colab": {
          "base_uri": "https://localhost:8080/",
          "height": 308
        },
        "outputId": "1eeb2e66-590d-42e9-8d53-11746bbfcfc9"
      },
      "source": [
        "############################## Cálculo dos Parâmetros de Avaliação   \n",
        "TIME = (time.time() - start_time)/RUNS\n",
        "BEST_AGENTS=np.array(BEST_AGENTS)\n",
        "BEST_AGENTS_ST= BEST_AGENTS[BEST_AGENTS[:,-1].argsort()]\n",
        "BEST=BEST_AGENTS_ST[0]\n",
        "WORSE=BEST_AGENTS_ST[-1]\n",
        "MEAN=np.mean(BEST_AGENTS,axis=0)\n",
        "MAXFO=BEST_AGENTS[:,-1].max()\n",
        "MINFO=BEST_AGENTS[:,-1].min()\n",
        "STD=BEST_AGENTS[:,-1].std()\n",
        "\n",
        "nome='_DE_STAT_Fo-'+str(mut)+'_CRo-'+str(crossp)+'_D-'+str(dim)+'_Interv-'+str(ITE)\n",
        "print('DE_POP_VAR_F_CR','TOTAL=',TOTAL,'Iterações=',ITE*its,'Dim=', dim,\"Min/Max=\",MIN[0],\"/\",MAX[0],'_',Fun.__name__)\n",
        "print(nome, '\\n')\n",
        "#print('BEST: ',BEST)\n",
        "#print('MÉDIA: ',MEAN)\n",
        "print('MÉDIA: ',MEAN[-1])\n",
        "print('MIN __:',MINFO)\n",
        "print('MAX__: ',MAXFO)\n",
        "print('STD __:',STD)\n",
        "print(\"Tempo Médio= %.3f segundos ---\" % (TIME))\n",
        "print(RUNS,'Rodadas') \n",
        "print()\n",
        "print('BEST: ',BEST)\n",
        "# print('melhor=',BEST_AGENTS[BEST_INDEX])"
      ],
      "execution_count": 6,
      "outputs": [
        {
          "output_type": "stream",
          "text": [
            "DE_POP_VAR_F_CR TOTAL= 300000 Iterações= 1000 Dim= 30 Min/Max= -1.28 / 1.28 _ Noisy_Quartic\n",
            "_DE_STAT_Fo-0.5_CRo-0.5_D-30_Interv-1000 \n",
            "\n",
            "MÉDIA:  95.54963446829903\n",
            "MIN __: 0.27209102740265256\n",
            "MAX__:  162.88774640108903\n",
            "STD __: 51.200373050501625\n",
            "Tempo Médio= 6.068 segundos ---\n",
            "50 Rodadas\n",
            "\n",
            "BEST:  [-0.11748654 -0.18318014 -0.25817029 -0.08396453  0.18913631  0.12762619\n",
            "  0.03259364  0.0713712  -0.19582937 -0.00380372 -0.02972766  0.07448039\n",
            " -0.01539018  0.0171654  -0.12460243 -0.05093513 -0.14133708  0.0485108\n",
            " -0.00072141 -0.06002714  0.2493505   0.1457911  -0.10027503  0.13727883\n",
            " -0.0991362   0.13361903 -0.14495791 -0.05841722  0.18028948  0.20088428\n",
            "  0.27209103]\n"
          ],
          "name": "stdout"
        }
      ]
    }
  ]
}