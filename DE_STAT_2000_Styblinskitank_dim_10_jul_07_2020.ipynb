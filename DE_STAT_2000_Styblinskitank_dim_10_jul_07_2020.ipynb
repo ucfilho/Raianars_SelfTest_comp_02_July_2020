{
  "nbformat": 4,
  "nbformat_minor": 0,
  "metadata": {
    "accelerator": "GPU",
    "colab": {
      "name": "DE_STAT_2000_Styblinskitank_dim_10_jul_07_2020.ipynb",
      "provenance": [],
      "collapsed_sections": [],
      "include_colab_link": true
    },
    "kernelspec": {
      "display_name": "Python 3",
      "language": "python",
      "name": "python3"
    },
    "language_info": {
      "codemirror_mode": {
        "name": "ipython",
        "version": 3
      },
      "file_extension": ".py",
      "mimetype": "text/x-python",
      "name": "python",
      "nbconvert_exporter": "python",
      "pygments_lexer": "ipython3",
      "version": "3.6.1"
    }
  },
  "cells": [
    {
      "cell_type": "markdown",
      "metadata": {
        "id": "view-in-github",
        "colab_type": "text"
      },
      "source": [
        "<a href=\"https://colab.research.google.com/github/ucfilho/Raianars_SelfTest_comp_02_July_2020/blob/master/DE_STAT_2000_Styblinskitank_dim_10_jul_07_2020.ipynb\" target=\"_parent\"><img src=\"https://colab.research.google.com/assets/colab-badge.svg\" alt=\"Open In Colab\"/></a>"
      ]
    },
    {
      "cell_type": "code",
      "metadata": {
        "colab_type": "code",
        "id": "cG5nOUQ9Eucw",
        "colab": {}
      },
      "source": [
        "# Noisy_Quartic\n",
        "# In the paper Ngen=3000 NPAR=100 RUNS=50 dim=30\n",
        "# JADE: Adaptive Differential Evolution with Optional External Archive\n"
      ],
      "execution_count": 1,
      "outputs": []
    },
    {
      "cell_type": "code",
      "metadata": {
        "colab_type": "code",
        "id": "v1OxgXboBKoG",
        "colab": {}
      },
      "source": [
        "import time\n",
        "import matplotlib.pyplot as plt\n",
        "import numpy as np\n",
        "from random import randint"
      ],
      "execution_count": 2,
      "outputs": []
    },
    {
      "cell_type": "code",
      "metadata": {
        "id": "qMRpE0dGULCI",
        "colab_type": "code",
        "colab": {
          "base_uri": "https://localhost:8080/",
          "height": 159
        },
        "outputId": "7a4f9198-b8ac-45f7-ddc4-1c06f47e08c3"
      },
      "source": [
        "!git clone https://github.com/ucfilho/Raianars_July_2020 #clonar do Github\n",
        "%cd Raianars_July_2020"
      ],
      "execution_count": 3,
      "outputs": [
        {
          "output_type": "stream",
          "text": [
            "Cloning into 'Raianars_July_2020'...\n",
            "remote: Enumerating objects: 9, done.\u001b[K\n",
            "remote: Counting objects: 100% (9/9), done.\u001b[K\n",
            "remote: Compressing objects: 100% (9/9), done.\u001b[K\n",
            "remote: Total 132 (delta 3), reused 0 (delta 0), pack-reused 123\u001b[K\n",
            "Receiving objects: 100% (132/132), 200.33 KiB | 3.85 MiB/s, done.\n",
            "Resolving deltas: 100% (65/65), done.\n",
            "/content/Raianars_July_2020\n"
          ],
          "name": "stdout"
        }
      ]
    },
    {
      "cell_type": "code",
      "metadata": {
        "colab_type": "code",
        "id": "_E15mKFURR6O",
        "colab": {}
      },
      "source": [
        "import de_soma_Insight\n",
        "import de_bounds_matriz\n",
        "import Function\n",
        "import Go2MinMax\n",
        "from AvaliaX import AvaliaX\n",
        "\n",
        "\n",
        "############################### DADOS DE ENTRADA \n",
        "RUNS=50 #NÚMERO DE RODADAS\n",
        "its=1 #10 # quantas vezes vai usar o NPAR antes de alterar de novo\n",
        "ITE=2000 #10 # PONTOS quantas vezes vai alteral NPAR \n",
        "NPAR=100\n",
        "\n",
        "mut=0.5\n",
        "crossp=0.5\n",
        "dim=10\n",
        "\n",
        "#fchoice='Rastrigin' #fchoice='Michalewicz' #fchoice='Schwefel'\n",
        "fchoice='Styblinskitank'  \n",
        "Fun=Function.Styblinskitank\n",
        "\n",
        "MIN,MAX=Go2MinMax.Intervalo(dim,fchoice)\n",
        "\n",
        "TOTAL=10*dim*its*ITE\n",
        "SOMA=0"
      ],
      "execution_count": 4,
      "outputs": []
    },
    {
      "cell_type": "code",
      "metadata": {
        "colab_type": "code",
        "id": "rnX8ttNopd1G",
        "colab": {
          "base_uri": "https://localhost:8080/",
          "height": 906
        },
        "outputId": "bb2472fa-7e50-4abd-8c7c-1b89e4b5fc78"
      },
      "source": [
        "start_time = time.time()\n",
        "BEST_AGENTS=[]\n",
        "MAT_stat=[]\n",
        "\n",
        "for i in range(RUNS):\n",
        "\n",
        "    pop = np.random.rand(NPAR, dim)\n",
        "    diff=np.zeros(dim)\n",
        "    for ii in range(dim):\n",
        "      diff[ii] = MAX[ii]-MIN[ii]\n",
        "    X = MIN + pop * diff\n",
        "\n",
        "    SOMA=0\n",
        "\n",
        "    for k in range(ITE):\n",
        "      X,BEST,FOBEST,XY,BEST_XY,SOMA= de_soma_Insight.de(MAX,MIN, mut, crossp,dim,its,Fun,X,SOMA,TOTAL)\n",
        "\n",
        "    start_run = (time.time()-start_time)/60\n",
        "    print('run=',i,'total=50','Fobj=',FOBEST,'Time=',start_run)  \n",
        "    BEST_AGENTS.append(BEST_XY)"
      ],
      "execution_count": 5,
      "outputs": [
        {
          "output_type": "stream",
          "text": [
            "run= 0 total=50 Fobj= -755.0498694250363 Time= 0.07216496070226033\n",
            "run= 1 total=50 Fobj= -781.7013988672943 Time= 0.14469274679819744\n",
            "run= 2 total=50 Fobj= -783.2745773088088 Time= 0.21827970345815023\n",
            "run= 3 total=50 Fobj= -754.2107311125584 Time= 0.2898808479309082\n",
            "run= 4 total=50 Fobj= -755.0404859737511 Time= 0.3627699136734009\n",
            "run= 5 total=50 Fobj= -712.6608777433281 Time= 0.43498027324676514\n",
            "run= 6 total=50 Fobj= -754.980802523903 Time= 0.507172691822052\n",
            "run= 7 total=50 Fobj= -783.3233140295521 Time= 0.5790054043134053\n",
            "run= 8 total=50 Fobj= -783.2735725692714 Time= 0.6509269555409749\n",
            "run= 9 total=50 Fobj= -755.0498759681204 Time= 0.7227480928103129\n",
            "run= 10 total=50 Fobj= -754.8426864047128 Time= 0.7945399800936381\n",
            "run= 11 total=50 Fobj= -726.7764378813473 Time= 0.8664231936136881\n",
            "run= 12 total=50 Fobj= -782.5418320454236 Time= 0.9381520668665568\n",
            "run= 13 total=50 Fobj= -783.318080567864 Time= 1.0102612018585204\n",
            "run= 14 total=50 Fobj= -781.2407233342788 Time= 1.0817985852559409\n",
            "run= 15 total=50 Fobj= -755.0498759783892 Time= 1.1530871113141379\n",
            "run= 16 total=50 Fobj= -755.0427918990874 Time= 1.225259296099345\n",
            "run= 17 total=50 Fobj= -754.7772954865964 Time= 1.297357428073883\n",
            "run= 18 total=50 Fobj= -755.047163423463 Time= 1.369659427801768\n",
            "run= 19 total=50 Fobj= -754.962290207292 Time= 1.4413842717806498\n",
            "run= 20 total=50 Fobj= -755.0444049428852 Time= 1.5131023208300272\n",
            "run= 21 total=50 Fobj= -755.049875978454 Time= 1.584218649069468\n",
            "run= 22 total=50 Fobj= -782.8255957932549 Time= 1.6557889699935913\n",
            "run= 23 total=50 Fobj= -755.0498759784537 Time= 1.7282314697901409\n",
            "run= 24 total=50 Fobj= -755.0498759165707 Time= 1.7999070048332215\n",
            "run= 25 total=50 Fobj= -783.2492378750201 Time= 1.8717374285062154\n",
            "run= 26 total=50 Fobj= -726.5804609550383 Time= 1.9432721614837647\n",
            "run= 27 total=50 Fobj= -754.739061302253 Time= 2.015694725513458\n",
            "run= 28 total=50 Fobj= -755.0497404319068 Time= 2.088058431943258\n",
            "run= 29 total=50 Fobj= -783.3233135741187 Time= 2.159916873772939\n",
            "run= 30 total=50 Fobj= -783.2966892967853 Time= 2.2319605986277264\n",
            "run= 31 total=50 Fobj= -783.3228962894491 Time= 2.302876341342926\n",
            "run= 32 total=50 Fobj= -783.323301865735 Time= 2.37494029601415\n",
            "run= 33 total=50 Fobj= -778.6504127093101 Time= 2.4472005367279053\n",
            "run= 34 total=50 Fobj= -697.5519260353094 Time= 2.519184104601542\n",
            "run= 35 total=50 Fobj= -755.0498756287069 Time= 2.5909276644388837\n",
            "run= 36 total=50 Fobj= -783.309532835478 Time= 2.6608057498931883\n",
            "run= 37 total=50 Fobj= -697.9409297481385 Time= 2.7330812374750773\n",
            "run= 38 total=50 Fobj= -755.048185532306 Time= 2.8037060340245565\n",
            "run= 39 total=50 Fobj= -755.0496380720315 Time= 2.8744120240211486\n",
            "run= 40 total=50 Fobj= -783.3229139388811 Time= 2.94578560590744\n",
            "run= 41 total=50 Fobj= -783.3233140754288 Time= 3.017066566149394\n",
            "run= 42 total=50 Fobj= -755.0498085451435 Time= 3.0884921113650003\n",
            "run= 43 total=50 Fobj= -755.0498759782516 Time= 3.158725361029307\n",
            "run= 44 total=50 Fobj= -780.682073850162 Time= 3.230878500143687\n",
            "run= 45 total=50 Fobj= -783.3233140754289 Time= 3.3022568583488465\n",
            "run= 46 total=50 Fobj= -751.5318950287783 Time= 3.3741418679555255\n",
            "run= 47 total=50 Fobj= -783.2711420880257 Time= 3.446815077463786\n",
            "run= 48 total=50 Fobj= -726.7762659929747 Time= 3.5169645587603253\n",
            "run= 49 total=50 Fobj= -754.9094920586941 Time= 3.5888227303822835\n"
          ],
          "name": "stdout"
        }
      ]
    },
    {
      "cell_type": "code",
      "metadata": {
        "colab_type": "code",
        "id": "lNSN5X-wskcx",
        "colab": {
          "base_uri": "https://localhost:8080/",
          "height": 248
        },
        "outputId": "b42df73a-6692-43ab-e38c-7bfa58a4101f"
      },
      "source": [
        "############################## Cálculo dos Parâmetros de Avaliação   \n",
        "TIME = (time.time() - start_time)/RUNS\n",
        "BEST_AGENTS=np.array(BEST_AGENTS)\n",
        "BEST_AGENTS_ST= BEST_AGENTS[BEST_AGENTS[:,-1].argsort()]\n",
        "BEST=BEST_AGENTS_ST[0]\n",
        "WORSE=BEST_AGENTS_ST[-1]\n",
        "MEAN=np.mean(BEST_AGENTS,axis=0)\n",
        "MAXFO=BEST_AGENTS[:,-1].max()\n",
        "MINFO=BEST_AGENTS[:,-1].min()\n",
        "STD=BEST_AGENTS[:,-1].std()\n",
        "\n",
        "nome='_DE_STAT_Fo-'+str(mut)+'_CRo-'+str(crossp)+'_D-'+str(dim)+'_Interv-'+str(ITE)\n",
        "print('DE_POP_VAR_F_CR','TOTAL=',TOTAL,'Iterações=',ITE*its,'Dim=', dim,\"Min/Max=\",MIN[0],\"/\",MAX[0],'_',Fun.__name__)\n",
        "print(nome, '\\n')\n",
        "#print('BEST: ',BEST)\n",
        "#print('MÉDIA: ',MEAN)\n",
        "print('MÉDIA: ',MEAN[-1])\n",
        "print('MIN __:',MINFO)\n",
        "print('MAX__: ',MAXFO)\n",
        "print('STD __:',STD)\n",
        "print(\"Tempo Médio= %.3f segundos ---\" % (TIME))\n",
        "print(RUNS,'Rodadas') \n",
        "print()\n",
        "print('BEST: ',BEST)\n",
        "# print('melhor=',BEST_AGENTS[BEST_INDEX])"
      ],
      "execution_count": 6,
      "outputs": [
        {
          "output_type": "stream",
          "text": [
            "DE_POP_VAR_F_CR TOTAL= 200000 Iterações= 2000 Dim= 10 Min/Max= -5 / 5 _ Styblinskitank\n",
            "_DE_STAT_Fo-0.5_CRo-0.5_D-10_Interv-2000 \n",
            "\n",
            "MÉDIA:  -761.1581921828611\n",
            "MIN __: -783.3233140754289\n",
            "MAX__:  -697.5519260353094\n",
            "STD __: 22.015891284499475\n",
            "Tempo Médio= 4.307 segundos ---\n",
            "50 Rodadas\n",
            "\n",
            "BEST:  [  -2.90353402   -2.90353399   -2.90353404   -2.90353401   -2.90353403\n",
            "   -2.90353403   -2.90353404   -2.90353402   -2.90353404   -2.90353404\n",
            " -783.32331408]\n"
          ],
          "name": "stdout"
        }
      ]
    }
  ]
}