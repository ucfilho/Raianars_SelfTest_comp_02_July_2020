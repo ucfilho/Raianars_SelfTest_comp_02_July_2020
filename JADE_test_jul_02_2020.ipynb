{
  "nbformat": 4,
  "nbformat_minor": 0,
  "metadata": {
    "colab": {
      "name": "JADE_test_jul_02_2020.ipynb",
      "provenance": [],
      "collapsed_sections": [],
      "authorship_tag": "ABX9TyOChBVEaGC1GvK0Y/wwOCCC",
      "include_colab_link": true
    },
    "kernelspec": {
      "name": "python3",
      "display_name": "Python 3"
    }
  },
  "cells": [
    {
      "cell_type": "markdown",
      "metadata": {
        "id": "view-in-github",
        "colab_type": "text"
      },
      "source": [
        "<a href=\"https://colab.research.google.com/github/ucfilho/Raianars_SelfTest_comp_02_July_2020/blob/master/JADE_test_jul_02_2020.ipynb\" target=\"_parent\"><img src=\"https://colab.research.google.com/assets/colab-badge.svg\" alt=\"Open In Colab\"/></a>"
      ]
    },
    {
      "cell_type": "code",
      "metadata": {
        "id": "Es8PhSUedYDe",
        "colab_type": "code",
        "colab": {}
      },
      "source": [
        "import numpy as np\n",
        "from scipy.optimize import differential_evolution"
      ],
      "execution_count": 1,
      "outputs": []
    },
    {
      "cell_type": "code",
      "metadata": {
        "id": "sYDP3gTiHrOg",
        "colab_type": "code",
        "colab": {}
      },
      "source": [
        "# paper Self-adaptive differential evolution 01.pdf\n",
        "# dim= 30, 50 and 100 based \n",
        "# f1 Sphere\n",
        "# f2 Step "
      ],
      "execution_count": 2,
      "outputs": []
    },
    {
      "cell_type": "code",
      "metadata": {
        "id": "FRAi1AGzdeYk",
        "colab_type": "code",
        "colab": {
          "base_uri": "https://localhost:8080/",
          "height": 52
        },
        "outputId": "7d0231f5-bebf-42f8-ea22-20d0c7637f6d"
      },
      "source": [
        "!git clone https://github.com/ucfilho/Raianars_July_2020 #clonar do Github\n",
        "%cd Raianars_July_2020"
      ],
      "execution_count": 3,
      "outputs": [
        {
          "output_type": "stream",
          "text": [
            "fatal: destination path 'Raianars_July_2020' already exists and is not an empty directory.\n",
            "/content/Raianars_July_2020\n"
          ],
          "name": "stdout"
        }
      ]
    },
    {
      "cell_type": "code",
      "metadata": {
        "id": "WPP0AwDbdk4p",
        "colab_type": "code",
        "colab": {}
      },
      "source": [
        "import Function\n",
        "import Go2MinMax"
      ],
      "execution_count": 4,
      "outputs": []
    },
    {
      "cell_type": "code",
      "metadata": {
        "id": "aainD4FVhQhu",
        "colab_type": "code",
        "colab": {}
      },
      "source": [
        "ITE=2000 #10 # PONTOS quantas vezes vai alteral NPAR \n",
        "NPAR=100 # NUMBER OF PARTICLES\n",
        "dim=30\n",
        "\n",
        "fchoice='Schwefel_222'  #f2\n",
        "Fun=Function.Schwefel_222\n",
        "\n",
        "MIN,MAX=Go2MinMax.Intervalo(dim,fchoice)\n",
        "bounds = [(0,0)]*dim\n",
        "\n",
        "for i in range(dim):\n",
        "  bounds[i] = (MIN[i],MAX[i])"
      ],
      "execution_count": 5,
      "outputs": []
    },
    {
      "cell_type": "code",
      "metadata": {
        "id": "4nlypEzsd8z4",
        "colab_type": "code",
        "colab": {}
      },
      "source": [
        "#print(bounds)"
      ],
      "execution_count": 6,
      "outputs": []
    },
    {
      "cell_type": "code",
      "metadata": {
        "id": "s8eOhF9tgGNn",
        "colab_type": "code",
        "colab": {
          "base_uri": "https://localhost:8080/",
          "height": 52
        },
        "outputId": "036e867c-a89f-43f3-e064-e664c79eb87b"
      },
      "source": [
        "!pip install PyFDE"
      ],
      "execution_count": 7,
      "outputs": [
        {
          "output_type": "stream",
          "text": [
            "Requirement already satisfied: PyFDE in /usr/local/lib/python3.6/dist-packages (1.3.0)\n",
            "Requirement already satisfied: numpy in /usr/local/lib/python3.6/dist-packages (from PyFDE) (1.18.5)\n"
          ],
          "name": "stdout"
        }
      ]
    },
    {
      "cell_type": "code",
      "metadata": {
        "id": "RSVcPxfcgHC_",
        "colab_type": "code",
        "colab": {}
      },
      "source": [
        "import pyfde\n",
        "solver = pyfde.JADE(Fun, n_dim=30, n_pop=NPAR, limits=bounds, minimize=True)\n",
        "solver.p = 0.05\n",
        "solver.c = 0.1\n",
        "best, fit = solver.run(n_it=ITE)"
      ],
      "execution_count": 8,
      "outputs": []
    },
    {
      "cell_type": "code",
      "metadata": {
        "id": "z4mYgxbKhqj1",
        "colab_type": "code",
        "colab": {
          "base_uri": "https://localhost:8080/",
          "height": 194
        },
        "outputId": "ebe090ce-eb53-4e23-eddd-96c05ae0e8ff"
      },
      "source": [
        "print(\"**Best solution found**\")\n",
        "print(\"x\",best)\n",
        "print(\"Fitness =\",fit)"
      ],
      "execution_count": 9,
      "outputs": [
        {
          "output_type": "stream",
          "text": [
            "**Best solution found**\n",
            "x [ 3.52649996e-41 -1.37160188e-41  1.71069035e-41 -2.43134831e-41\n",
            "  1.66271055e-41  5.01870303e-41  3.25255766e-41 -4.37413256e-41\n",
            " -2.52712181e-41 -4.70156373e-41  2.80927920e-41 -7.99146267e-42\n",
            " -4.10878025e-41 -7.33266825e-41 -5.93885896e-41 -8.55130947e-42\n",
            "  6.79977964e-41 -4.59823527e-42  6.80681699e-41 -1.24093716e-40\n",
            " -1.59103788e-41 -3.85217103e-41  2.29773432e-41  4.05646469e-41\n",
            " -6.47825137e-41 -9.73379940e-41  6.85411395e-41 -8.94264281e-41\n",
            "  2.59093006e-41  2.47954836e-41]\n",
            "Fitness = -1.2777327930168747e-39\n"
          ],
          "name": "stdout"
        }
      ]
    },
    {
      "cell_type": "code",
      "metadata": {
        "id": "9HptqkymeGLG",
        "colab_type": "code",
        "colab": {
          "base_uri": "https://localhost:8080/",
          "height": 105
        },
        "outputId": "861371e5-d58d-4c34-d708-7812447ba9c9"
      },
      "source": [
        "result = differential_evolution(Fun, bounds, maxiter=NPAR, popsize=NPAR)\n",
        "print(result.x, result.fun)"
      ],
      "execution_count": 10,
      "outputs": [
        {
          "output_type": "stream",
          "text": [
            "[ 0.09860451 -0.05115222 -0.0435954   0.03306539  0.00642918 -0.10416518\n",
            "  0.03782852 -0.09928183 -0.02466148  0.01462605  0.01109315  0.03284567\n",
            " -0.00498779  0.06180572  0.03163795 -0.0776609  -0.02397113  0.01405183\n",
            "  0.13849668 -0.0217986  -0.02809077  0.00120586  0.01396098  0.00790749\n",
            " -0.04712229  0.05045584  0.00597207  0.04721558 -0.02145753 -0.06286935] 1.2180169498141236\n"
          ],
          "name": "stdout"
        }
      ]
    }
  ]
}