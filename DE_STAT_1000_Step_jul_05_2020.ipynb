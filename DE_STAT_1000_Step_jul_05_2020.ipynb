{
  "nbformat": 4,
  "nbformat_minor": 0,
  "metadata": {
    "accelerator": "GPU",
    "colab": {
      "name": "DE_STAT_1000_Step_jul_05_2020.ipynb",
      "provenance": [],
      "collapsed_sections": [],
      "include_colab_link": true
    },
    "kernelspec": {
      "display_name": "Python 3",
      "language": "python",
      "name": "python3"
    },
    "language_info": {
      "codemirror_mode": {
        "name": "ipython",
        "version": 3
      },
      "file_extension": ".py",
      "mimetype": "text/x-python",
      "name": "python",
      "nbconvert_exporter": "python",
      "pygments_lexer": "ipython3",
      "version": "3.6.1"
    }
  },
  "cells": [
    {
      "cell_type": "markdown",
      "metadata": {
        "id": "view-in-github",
        "colab_type": "text"
      },
      "source": [
        "<a href=\"https://colab.research.google.com/github/ucfilho/Raianars_SelfTest_comp_02_July_2020/blob/master/DE_STAT_1000_Step_jul_05_2020.ipynb\" target=\"_parent\"><img src=\"https://colab.research.google.com/assets/colab-badge.svg\" alt=\"Open In Colab\"/></a>"
      ]
    },
    {
      "cell_type": "code",
      "metadata": {
        "colab_type": "code",
        "id": "cG5nOUQ9Eucw",
        "colab": {}
      },
      "source": [
        "# Noisy_Quartic\n",
        "# In the paper Ngen=3000 NPAR=100 RUNS=50 dim=30\n",
        "# JADE: Adaptive Differential Evolution with Optional External Archive\n"
      ],
      "execution_count": 1,
      "outputs": []
    },
    {
      "cell_type": "code",
      "metadata": {
        "colab_type": "code",
        "id": "v1OxgXboBKoG",
        "colab": {}
      },
      "source": [
        "import time\n",
        "import matplotlib.pyplot as plt\n",
        "import numpy as np\n",
        "from random import randint"
      ],
      "execution_count": 2,
      "outputs": []
    },
    {
      "cell_type": "code",
      "metadata": {
        "id": "qMRpE0dGULCI",
        "colab_type": "code",
        "colab": {
          "base_uri": "https://localhost:8080/",
          "height": 163
        },
        "outputId": "9d4aa55f-db04-4f59-fbe2-f3689fb37a1f"
      },
      "source": [
        "!git clone https://github.com/ucfilho/Raianars_July_2020 #clonar do Github\n",
        "%cd Raianars_July_2020"
      ],
      "execution_count": 3,
      "outputs": [
        {
          "output_type": "stream",
          "text": [
            "Cloning into 'Raianars_July_2020'...\n",
            "remote: Enumerating objects: 3, done.\u001b[K\n",
            "remote: Counting objects: 100% (3/3), done.\u001b[K\n",
            "remote: Compressing objects: 100% (3/3), done.\u001b[K\n",
            "remote: Total 126 (delta 0), reused 0 (delta 0), pack-reused 123\u001b[K\n",
            "Receiving objects: 100% (126/126), 198.23 KiB | 2.64 MiB/s, done.\n",
            "Resolving deltas: 100% (62/62), done.\n",
            "/content/Raianars_July_2020\n"
          ],
          "name": "stdout"
        }
      ]
    },
    {
      "cell_type": "code",
      "metadata": {
        "colab_type": "code",
        "id": "_E15mKFURR6O",
        "colab": {}
      },
      "source": [
        "import de_soma_Insight\n",
        "import de_bounds_matriz\n",
        "import Function\n",
        "import Go2MinMax\n",
        "from AvaliaX import AvaliaX\n",
        "\n",
        "\n",
        "############################### DADOS DE ENTRADA \n",
        "its=1 #10 # quantas vezes vai usar o NPAR antes de alterar de novo\n",
        "ITE=1000 #10 # PONTOS quantas vezes vai alteral NPAR \n",
        "NPAR=100 # NUMBER OF PARTICLES\n",
        "dim=30\n",
        "RUNS=50\n",
        "fchoice='Step' \n",
        "Fun=Function.Step\n",
        "\n",
        "mut=0.5\n",
        "crossp=0.5\n",
        "\n",
        "\n",
        "#fchoice='Rastrigin' #fchoice='Michalewicz' #fchoice='Schwefel'\n",
        "fchoice='Noisy_Quartic'\n",
        "Fun=Function.Noisy_Quartic\n",
        "\n",
        "MIN,MAX=Go2MinMax.Intervalo(dim,fchoice)\n",
        "\n",
        "TOTAL=10*dim*its*ITE\n",
        "SOMA=0"
      ],
      "execution_count": 4,
      "outputs": []
    },
    {
      "cell_type": "code",
      "metadata": {
        "colab_type": "code",
        "id": "rnX8ttNopd1G",
        "colab": {
          "base_uri": "https://localhost:8080/",
          "height": 926
        },
        "outputId": "c455a104-b6c3-4c87-f5a6-35b867c601ed"
      },
      "source": [
        "start_time = time.time()\n",
        "BEST_AGENTS=[]\n",
        "MAT_stat=[]\n",
        "\n",
        "for i in range(RUNS):\n",
        "\n",
        "    pop = np.random.rand(NPAR, dim)\n",
        "    diff=np.zeros(dim)\n",
        "    for ii in range(dim):\n",
        "      diff[ii] = MAX[ii]-MIN[ii]\n",
        "    X = MIN + pop * diff\n",
        "\n",
        "    for k in range(ITE):\n",
        "      X,BEST,FOBEST,XY,BEST_XY,SOMA= de_soma_Insight.de(MAX,MIN, mut, crossp,dim,its,Fun,X,SOMA,TOTAL)\n",
        "\n",
        "    start_run = (time.time()-start_time)/60\n",
        "    print('run=',i,'total=50','Fobj=',FOBEST,'Time=',start_run)  \n",
        "    BEST_AGENTS.append(BEST_XY)"
      ],
      "execution_count": 5,
      "outputs": [
        {
          "output_type": "stream",
          "text": [
            "run= 0 total=50 Fobj= 0.3672109209413078 Time= 0.18980792760849\n",
            "run= 1 total=50 Fobj= 0.47392671275271187 Time= 0.37778902451197305\n",
            "run= 2 total=50 Fobj= 0.34563428231600457 Time= 0.5651066462198894\n",
            "run= 3 total=50 Fobj= 0.502896242653496 Time= 0.7525975227355957\n",
            "run= 4 total=50 Fobj= 0.2980660118067584 Time= 0.9394049008687337\n",
            "run= 5 total=50 Fobj= 0.3968365464040045 Time= 1.1278429905573526\n",
            "run= 6 total=50 Fobj= 0.430997292012079 Time= 1.3167638341585794\n",
            "run= 7 total=50 Fobj= 0.4855766001989822 Time= 1.5044829567273459\n",
            "run= 8 total=50 Fobj= 0.4817182239771143 Time= 1.69178599913915\n",
            "run= 9 total=50 Fobj= 0.3073560657363661 Time= 1.879818574587504\n",
            "run= 10 total=50 Fobj= 155.55651125388732 Time= 1.9851519862810771\n",
            "run= 11 total=50 Fobj= 82.21292218082276 Time= 2.090611942609151\n",
            "run= 12 total=50 Fobj= 127.80033106176842 Time= 2.1966322660446167\n",
            "run= 13 total=50 Fobj= 131.9834028617918 Time= 2.3022438287734985\n",
            "run= 14 total=50 Fobj= 91.94580117559823 Time= 2.408263087272644\n",
            "run= 15 total=50 Fobj= 147.6533032345062 Time= 2.5144795536994935\n",
            "run= 16 total=50 Fobj= 133.12530668441747 Time= 2.621640479564667\n",
            "run= 17 total=50 Fobj= 122.73772357069382 Time= 2.7274094422658286\n",
            "run= 18 total=50 Fobj= 150.39574562382228 Time= 2.832741101582845\n",
            "run= 19 total=50 Fobj= 110.76658775120916 Time= 2.938870573043823\n",
            "run= 20 total=50 Fobj= 134.75353080666784 Time= 3.0453489979108173\n",
            "run= 21 total=50 Fobj= 105.00794098830461 Time= 3.150791823863983\n",
            "run= 22 total=50 Fobj= 129.49897537198345 Time= 3.2558537483215333\n",
            "run= 23 total=50 Fobj= 149.8522458040628 Time= 3.361720542112986\n",
            "run= 24 total=50 Fobj= 141.17406804688096 Time= 3.4677401860555013\n",
            "run= 25 total=50 Fobj= 119.03166831552443 Time= 3.5735652963320415\n",
            "run= 26 total=50 Fobj= 124.7206155369208 Time= 3.680063013235728\n",
            "run= 27 total=50 Fobj= 95.49334145260664 Time= 3.7854955514272053\n",
            "run= 28 total=50 Fobj= 124.99644567745058 Time= 3.891212010383606\n",
            "run= 29 total=50 Fobj= 141.3930077267369 Time= 3.996903121471405\n",
            "run= 30 total=50 Fobj= 132.82541020809342 Time= 4.104437669118245\n",
            "run= 31 total=50 Fobj= 103.98656137380586 Time= 4.2100093801816305\n",
            "run= 32 total=50 Fobj= 110.30371441065891 Time= 4.315656089782715\n",
            "run= 33 total=50 Fobj= 118.67116807242827 Time= 4.421573114395142\n",
            "run= 34 total=50 Fobj= 128.51748464403482 Time= 4.52806271314621\n",
            "run= 35 total=50 Fobj= 163.75955875246433 Time= 4.635121166706085\n",
            "run= 36 total=50 Fobj= 149.5491830134015 Time= 4.740741793314616\n",
            "run= 37 total=50 Fobj= 112.6894771744557 Time= 4.846159672737121\n",
            "run= 38 total=50 Fobj= 136.77233366094873 Time= 4.952157123883565\n",
            "run= 39 total=50 Fobj= 110.25383245269659 Time= 5.058219254016876\n",
            "run= 40 total=50 Fobj= 99.30391559996022 Time= 5.164974983533224\n",
            "run= 41 total=50 Fobj= 158.99386577609047 Time= 5.271181877454122\n",
            "run= 42 total=50 Fobj= 104.21922004360444 Time= 5.377248787879944\n",
            "run= 43 total=50 Fobj= 139.745871325673 Time= 5.483804857730865\n",
            "run= 44 total=50 Fobj= 102.41039788989325 Time= 5.589860796928406\n",
            "run= 45 total=50 Fobj= 130.70385987119712 Time= 5.695901914437612\n",
            "run= 46 total=50 Fobj= 130.17412766650614 Time= 5.801538646221161\n",
            "run= 47 total=50 Fobj= 116.06362222327968 Time= 5.907512974739075\n",
            "run= 48 total=50 Fobj= 107.4000943000969 Time= 6.013682440916697\n",
            "run= 49 total=50 Fobj= 138.2046102659988 Time= 6.1185684164365135\n"
          ],
          "name": "stdout"
        }
      ]
    },
    {
      "cell_type": "code",
      "metadata": {
        "id": "VAbHty3zbVND",
        "colab_type": "code",
        "colab": {}
      },
      "source": [
        ""
      ],
      "execution_count": 5,
      "outputs": []
    },
    {
      "cell_type": "code",
      "metadata": {
        "colab_type": "code",
        "id": "lNSN5X-wskcx",
        "colab": {
          "base_uri": "https://localhost:8080/",
          "height": 308
        },
        "outputId": "6e6fa06d-737f-4772-f14b-fa77dfedb0c6"
      },
      "source": [
        "############################## Cálculo dos Parâmetros de Avaliação   \n",
        "TIME = (time.time() - start_time)/RUNS\n",
        "BEST_AGENTS=np.array(BEST_AGENTS)\n",
        "BEST_AGENTS_ST= BEST_AGENTS[BEST_AGENTS[:,-1].argsort()]\n",
        "BEST=BEST_AGENTS_ST[0]\n",
        "WORSE=BEST_AGENTS_ST[-1]\n",
        "MEAN=np.mean(BEST_AGENTS,axis=0)\n",
        "MAXFO=BEST_AGENTS[:,-1].max()\n",
        "MINFO=BEST_AGENTS[:,-1].min()\n",
        "STD=BEST_AGENTS[:,-1].std()\n",
        "\n",
        "nome='_DE_STAT_Fo-'+str(mut)+'_CRo-'+str(crossp)+'_D-'+str(dim)+'_Interv-'+str(ITE)\n",
        "print('DE_POP_VAR_F_CR','TOTAL=',TOTAL,'Iterações=',ITE*its,'Dim=', dim,\"Min/Max=\",MIN[0],\"/\",MAX[0],'_',Fun.__name__)\n",
        "print(nome, '\\n')\n",
        "#print('BEST: ',BEST)\n",
        "#print('MÉDIA: ',MEAN)\n",
        "print('MÉDIA: ',MEAN[-1])\n",
        "print('MIN __:',MINFO)\n",
        "print('MAX__: ',MAXFO)\n",
        "print('STD __:',STD)\n",
        "print(\"Tempo Médio= %.3f segundos ---\" % (TIME))\n",
        "print(RUNS,'Rodadas') \n",
        "print()\n",
        "print('BEST: ',BEST)\n",
        "# print('melhor=',BEST_AGENTS[BEST_INDEX])"
      ],
      "execution_count": 6,
      "outputs": [
        {
          "output_type": "stream",
          "text": [
            "DE_POP_VAR_F_CR TOTAL= 300000 Iterações= 1000 Dim= 30 Min/Max= -1.28 / 1.28 _ Noisy_Quartic\n",
            "_DE_STAT_Fo-0.5_CRo-0.5_D-30_Interv-1000 \n",
            "\n",
            "MÉDIA:  100.37476005499484\n",
            "MIN __: 0.2980660118067584\n",
            "MAX__:  163.75955875246433\n",
            "STD __: 52.87842045818971\n",
            "Tempo Médio= 7.343 segundos ---\n",
            "50 Rodadas\n",
            "\n",
            "BEST:  [ 0.14836379  0.10392651  0.04139184  0.25087601  0.34499961  0.19801102\n",
            " -0.01365977  0.04583602 -0.02081433 -0.18528516  0.07355974 -0.20393813\n",
            "  0.19753201  0.01974447  0.06786187 -0.0319475  -0.00586872  0.16771352\n",
            " -0.14356481 -0.06255894  0.04457576  0.20380779 -0.04647775  0.06296808\n",
            "  0.138373    0.14921142  0.03534863  0.07059255  0.14960025 -0.1501218\n",
            "  0.29806601]\n"
          ],
          "name": "stdout"
        }
      ]
    }
  ]
}