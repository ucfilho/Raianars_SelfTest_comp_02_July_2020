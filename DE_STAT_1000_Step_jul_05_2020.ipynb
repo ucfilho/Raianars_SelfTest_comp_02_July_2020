{
  "nbformat": 4,
  "nbformat_minor": 0,
  "metadata": {
    "accelerator": "GPU",
    "colab": {
      "name": "DE_STAT_1000_Step_jul_05_2020.ipynb",
      "provenance": [],
      "collapsed_sections": [],
      "include_colab_link": true
    },
    "kernelspec": {
      "display_name": "Python 3",
      "language": "python",
      "name": "python3"
    },
    "language_info": {
      "codemirror_mode": {
        "name": "ipython",
        "version": 3
      },
      "file_extension": ".py",
      "mimetype": "text/x-python",
      "name": "python",
      "nbconvert_exporter": "python",
      "pygments_lexer": "ipython3",
      "version": "3.6.1"
    }
  },
  "cells": [
    {
      "cell_type": "markdown",
      "metadata": {
        "id": "view-in-github",
        "colab_type": "text"
      },
      "source": [
        "<a href=\"https://colab.research.google.com/github/ucfilho/Raianars_SelfTest_comp_02_July_2020/blob/master/DE_STAT_1000_Step_jul_05_2020.ipynb\" target=\"_parent\"><img src=\"https://colab.research.google.com/assets/colab-badge.svg\" alt=\"Open In Colab\"/></a>"
      ]
    },
    {
      "cell_type": "code",
      "metadata": {
        "colab_type": "code",
        "id": "cG5nOUQ9Eucw",
        "colab": {}
      },
      "source": [
        "# Noisy_Quartic\n",
        "# In the paper Ngen=3000 NPAR=100 RUNS=50 dim=30\n",
        "# JADE: Adaptive Differential Evolution with Optional External Archive\n"
      ],
      "execution_count": 1,
      "outputs": []
    },
    {
      "cell_type": "code",
      "metadata": {
        "colab_type": "code",
        "id": "v1OxgXboBKoG",
        "colab": {}
      },
      "source": [
        "import time\n",
        "import matplotlib.pyplot as plt\n",
        "import numpy as np\n",
        "from random import randint"
      ],
      "execution_count": 2,
      "outputs": []
    },
    {
      "cell_type": "code",
      "metadata": {
        "id": "qMRpE0dGULCI",
        "colab_type": "code",
        "colab": {
          "base_uri": "https://localhost:8080/",
          "height": 158
        },
        "outputId": "47cce244-4446-46ca-f2e9-bff616218537"
      },
      "source": [
        "!git clone https://github.com/ucfilho/Raianars_July_2020 #clonar do Github\n",
        "%cd Raianars_July_2020"
      ],
      "execution_count": 3,
      "outputs": [
        {
          "output_type": "stream",
          "text": [
            "Cloning into 'Raianars_July_2020'...\n",
            "remote: Enumerating objects: 9, done.\u001b[K\n",
            "remote: Counting objects: 100% (9/9), done.\u001b[K\n",
            "remote: Compressing objects: 100% (9/9), done.\u001b[K\n",
            "remote: Total 132 (delta 3), reused 0 (delta 0), pack-reused 123\u001b[K\n",
            "Receiving objects: 100% (132/132), 200.33 KiB | 4.01 MiB/s, done.\n",
            "Resolving deltas: 100% (65/65), done.\n",
            "/content/Raianars_July_2020\n"
          ],
          "name": "stdout"
        }
      ]
    },
    {
      "cell_type": "code",
      "metadata": {
        "colab_type": "code",
        "id": "_E15mKFURR6O",
        "colab": {}
      },
      "source": [
        "import de_soma_Insight\n",
        "import de_bounds_matriz\n",
        "import Function\n",
        "import Go2MinMax\n",
        "from AvaliaX import AvaliaX\n",
        "\n",
        "\n",
        "############################### DADOS DE ENTRADA \n",
        "its=1 #10 # quantas vezes vai usar o NPAR antes de alterar de novo\n",
        "ITE=1000 #10 # PONTOS quantas vezes vai alteral NPAR \n",
        "NPAR=100 # NUMBER OF PARTICLES\n",
        "dim=30\n",
        "RUNS=50\n",
        "fchoice='Step' \n",
        "Fun=Function.Step\n",
        "\n",
        "mut=0.5\n",
        "crossp=0.5\n",
        "\n",
        "\n",
        "MIN,MAX=Go2MinMax.Intervalo(dim,fchoice)\n",
        "\n",
        "TOTAL=10*dim*its*ITE\n",
        "SOMA=0"
      ],
      "execution_count": 4,
      "outputs": []
    },
    {
      "cell_type": "code",
      "metadata": {
        "colab_type": "code",
        "id": "rnX8ttNopd1G",
        "colab": {
          "base_uri": "https://localhost:8080/",
          "height": 905
        },
        "outputId": "ae8b2dc8-553f-483c-b426-cac7afc206a7"
      },
      "source": [
        "start_time = time.time()\n",
        "BEST_AGENTS=[]\n",
        "MAT_stat=[]\n",
        "\n",
        "for i in range(RUNS):\n",
        "\n",
        "    pop = np.random.rand(NPAR, dim)\n",
        "    diff=np.zeros(dim)\n",
        "    for ii in range(dim):\n",
        "      diff[ii] = MAX[ii]-MIN[ii]\n",
        "    X = MIN + pop * diff\n",
        "\n",
        "    SOMA=0\n",
        "\n",
        "    for k in range(ITE):\n",
        "      X,BEST,FOBEST,XY,BEST_XY,SOMA= de_soma_Insight.de(MAX,MIN, mut, crossp,dim,its,Fun,X,SOMA,TOTAL)\n",
        "\n",
        "    start_run = (time.time()-start_time)/60\n",
        "    print('run=',i,'total=50','Fobj=',FOBEST,'Time=',start_run)  \n",
        "    BEST_AGENTS.append(BEST_XY)"
      ],
      "execution_count": 5,
      "outputs": [
        {
          "output_type": "stream",
          "text": [
            "run= 0 total=50 Fobj= 3.1065194018739394e-13 Time= 0.154511825243632\n",
            "run= 1 total=50 Fobj= 1.6262242861440585e-12 Time= 0.30913493235905964\n",
            "run= 2 total=50 Fobj= 7.445225137149592e-13 Time= 0.46485477685928345\n",
            "run= 3 total=50 Fobj= 1.4439447721426186e-12 Time= 0.6202670653661092\n",
            "run= 4 total=50 Fobj= 1.2724396449148698e-12 Time= 0.7741925557454427\n",
            "run= 5 total=50 Fobj= 1.0987477578486033e-12 Time= 0.9276223699251811\n",
            "run= 6 total=50 Fobj= 5.511396496510216e-13 Time= 1.081744126478831\n",
            "run= 7 total=50 Fobj= 1.1513476026357306e-12 Time= 1.237145439783732\n",
            "run= 8 total=50 Fobj= 1.1945896226714624e-12 Time= 1.3916224280993144\n",
            "run= 9 total=50 Fobj= 1.2308366506828064e-12 Time= 1.545404577255249\n",
            "run= 10 total=50 Fobj= 7.711233226608968e-13 Time= 1.7010619680086771\n",
            "run= 11 total=50 Fobj= 3.2052027308902995e-12 Time= 1.8550025463104247\n",
            "run= 12 total=50 Fobj= 7.81830019240652e-13 Time= 2.0094525734583537\n",
            "run= 13 total=50 Fobj= 2.198816935655164e-12 Time= 2.163057557741801\n",
            "run= 14 total=50 Fobj= 2.263265161984334e-12 Time= 2.316627077261607\n",
            "run= 15 total=50 Fobj= 3.565322641717582e-12 Time= 2.4733142971992494\n",
            "run= 16 total=50 Fobj= 7.244295471585968e-13 Time= 2.6275938113530475\n",
            "run= 17 total=50 Fobj= 5.10441731232199e-13 Time= 2.781924589474996\n",
            "run= 18 total=50 Fobj= 2.116223499301316e-12 Time= 2.9391661445299784\n",
            "run= 19 total=50 Fobj= 2.0565208527970776e-12 Time= 3.0930362900098163\n",
            "run= 20 total=50 Fobj= 5.219322181092626e-13 Time= 3.2480175455411273\n",
            "run= 21 total=50 Fobj= 1.7687683984981906e-12 Time= 3.4016564965248106\n",
            "run= 22 total=50 Fobj= 4.211049410198717e-12 Time= 3.5562214573224384\n",
            "run= 23 total=50 Fobj= 4.252902763080149e-12 Time= 3.7111920793851216\n",
            "run= 24 total=50 Fobj= 2.4644809684682044e-12 Time= 3.8645262519518533\n",
            "run= 25 total=50 Fobj= 1.2419627057689872e-12 Time= 4.019225537776947\n",
            "run= 26 total=50 Fobj= 3.8316723337077016e-13 Time= 4.1727674086888635\n",
            "run= 27 total=50 Fobj= 9.915063761900982e-13 Time= 4.326913181940714\n",
            "run= 28 total=50 Fobj= 2.0186576914598264e-12 Time= 4.481485259532929\n",
            "run= 29 total=50 Fobj= 7.018218936716324e-13 Time= 4.634919174512228\n",
            "run= 30 total=50 Fobj= 5.336763098795772e-12 Time= 4.789127771059672\n",
            "run= 31 total=50 Fobj= 1.610248039586356e-12 Time= 4.942716320355733\n",
            "run= 32 total=50 Fobj= 1.195219141116392e-12 Time= 5.096607812245687\n",
            "run= 33 total=50 Fobj= 3.914306035558744e-13 Time= 5.24980141321818\n",
            "run= 34 total=50 Fobj= 3.582104705747247e-13 Time= 5.402941195170085\n",
            "run= 35 total=50 Fobj= 5.808117247347473e-13 Time= 5.5572906851768495\n",
            "run= 36 total=50 Fobj= 8.93352623498704e-13 Time= 5.711539653937022\n",
            "run= 37 total=50 Fobj= 4.66965065026915e-13 Time= 5.865879380702973\n",
            "run= 38 total=50 Fobj= 1.5169501998165123e-12 Time= 6.020562009016673\n",
            "run= 39 total=50 Fobj= 1.541177724467827e-12 Time= 6.175104109446208\n",
            "run= 40 total=50 Fobj= 1.3102862332357574e-12 Time= 6.32908034324646\n",
            "run= 41 total=50 Fobj= 4.224052668060565e-12 Time= 6.482336334387461\n",
            "run= 42 total=50 Fobj= 2.2702999359398316e-12 Time= 6.636160592238109\n",
            "run= 43 total=50 Fobj= 3.346427727262055e-12 Time= 6.790804441769918\n",
            "run= 44 total=50 Fobj= 6.024051743960712e-13 Time= 6.944002115726471\n",
            "run= 45 total=50 Fobj= 5.055072424937517e-13 Time= 7.098111232121785\n",
            "run= 46 total=50 Fobj= 4.2237331886824477e-13 Time= 7.252493945757548\n",
            "run= 47 total=50 Fobj= 6.4554802435785e-13 Time= 7.406459005673726\n",
            "run= 48 total=50 Fobj= 1.038746189081301e-12 Time= 7.562894248962403\n",
            "run= 49 total=50 Fobj= 4.7125786019697954e-12 Time= 7.717085687319438\n"
          ],
          "name": "stdout"
        }
      ]
    },
    {
      "cell_type": "code",
      "metadata": {
        "id": "VAbHty3zbVND",
        "colab_type": "code",
        "colab": {}
      },
      "source": [
        ""
      ],
      "execution_count": 5,
      "outputs": []
    },
    {
      "cell_type": "code",
      "metadata": {
        "colab_type": "code",
        "id": "lNSN5X-wskcx",
        "colab": {
          "base_uri": "https://localhost:8080/",
          "height": 336
        },
        "outputId": "5906f3db-39fa-4f39-80b2-596df90343cb"
      },
      "source": [
        "############################## Cálculo dos Parâmetros de Avaliação   \n",
        "TIME = (time.time() - start_time)/RUNS\n",
        "BEST_AGENTS=np.array(BEST_AGENTS)\n",
        "BEST_AGENTS_ST= BEST_AGENTS[BEST_AGENTS[:,-1].argsort()]\n",
        "BEST=BEST_AGENTS_ST[0]\n",
        "WORSE=BEST_AGENTS_ST[-1]\n",
        "MEAN=np.mean(BEST_AGENTS,axis=0)\n",
        "MAXFO=BEST_AGENTS[:,-1].max()\n",
        "MINFO=BEST_AGENTS[:,-1].min()\n",
        "STD=BEST_AGENTS[:,-1].std()\n",
        "\n",
        "nome='_DE_STAT_Fo-'+str(mut)+'_CRo-'+str(crossp)+'_D-'+str(dim)+'_Interv-'+str(ITE)\n",
        "print('DE_POP_VAR_F_CR','TOTAL=',TOTAL,'Iterações=',ITE*its,'Dim=', dim,\"Min/Max=\",MIN[0],\"/\",MAX[0],'_',Fun.__name__)\n",
        "print(nome, '\\n')\n",
        "#print('BEST: ',BEST)\n",
        "#print('MÉDIA: ',MEAN)\n",
        "print('MÉDIA: ',MEAN[-1])\n",
        "print('MIN __:',MINFO)\n",
        "print('MAX__: ',MAXFO)\n",
        "print('STD __:',STD)\n",
        "print(\"Tempo Médio= %.3f segundos ---\" % (TIME))\n",
        "print(RUNS,'Rodadas') \n",
        "print()\n",
        "print('BEST: ',BEST)\n",
        "# print('melhor=',BEST_AGENTS[BEST_INDEX])"
      ],
      "execution_count": 6,
      "outputs": [
        {
          "output_type": "stream",
          "text": [
            "DE_POP_VAR_F_CR TOTAL= 300000 Iterações= 1000 Dim= 30 Min/Max= -100 / 100 _ Step\n",
            "_DE_STAT_Fo-0.5_CRo-0.5_D-30_Interv-1000 \n",
            "\n",
            "MÉDIA:  1.6068644869777308e-12\n",
            "MIN __: 3.1065194018739394e-13\n",
            "MAX__:  5.336763098795772e-12\n",
            "STD __: 1.2576179304888459e-12\n",
            "Tempo Médio= 9.261 segundos ---\n",
            "50 Rodadas\n",
            "\n",
            "BEST:  [-4.99999908e-01 -4.99999868e-01 -5.00000244e-01 -5.00000239e-01\n",
            " -4.99999862e-01 -5.00000103e-01 -5.00000031e-01 -5.00000027e-01\n",
            " -4.99999980e-01 -4.99999897e-01 -5.00000002e-01 -4.99999939e-01\n",
            " -4.99999949e-01 -4.99999970e-01 -4.99999959e-01 -4.99999855e-01\n",
            " -5.00000039e-01 -5.00000047e-01 -5.00000000e-01 -5.00000121e-01\n",
            " -4.99999959e-01 -5.00000014e-01 -5.00000182e-01 -4.99999946e-01\n",
            " -4.99999990e-01 -5.00000007e-01 -5.00000133e-01 -4.99999855e-01\n",
            " -5.00000025e-01 -5.00000013e-01  3.10651940e-13]\n"
          ],
          "name": "stdout"
        }
      ]
    }
  ]
}