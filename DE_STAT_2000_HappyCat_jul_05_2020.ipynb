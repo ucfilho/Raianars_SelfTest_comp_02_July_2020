{
  "nbformat": 4,
  "nbformat_minor": 0,
  "metadata": {
    "accelerator": "GPU",
    "colab": {
      "name": "DE_STAT_2000_HappyCat_jul_05_2020.ipynb",
      "provenance": [],
      "collapsed_sections": [],
      "include_colab_link": true
    },
    "kernelspec": {
      "display_name": "Python 3",
      "language": "python",
      "name": "python3"
    },
    "language_info": {
      "codemirror_mode": {
        "name": "ipython",
        "version": 3
      },
      "file_extension": ".py",
      "mimetype": "text/x-python",
      "name": "python",
      "nbconvert_exporter": "python",
      "pygments_lexer": "ipython3",
      "version": "3.6.1"
    }
  },
  "cells": [
    {
      "cell_type": "markdown",
      "metadata": {
        "id": "view-in-github",
        "colab_type": "text"
      },
      "source": [
        "<a href=\"https://colab.research.google.com/github/ucfilho/Raianars_SelfTest_comp_02_July_2020/blob/master/DE_STAT_2000_HappyCat_jul_05_2020.ipynb\" target=\"_parent\"><img src=\"https://colab.research.google.com/assets/colab-badge.svg\" alt=\"Open In Colab\"/></a>"
      ]
    },
    {
      "cell_type": "code",
      "metadata": {
        "colab_type": "code",
        "id": "cG5nOUQ9Eucw",
        "colab": {}
      },
      "source": [
        "# Noisy_Quartic\n",
        "# In the paper Ngen=3000 NPAR=100 RUNS=50 dim=30\n",
        "# JADE: Adaptive Differential Evolution with Optional External Archive\n"
      ],
      "execution_count": 1,
      "outputs": []
    },
    {
      "cell_type": "code",
      "metadata": {
        "colab_type": "code",
        "id": "v1OxgXboBKoG",
        "colab": {}
      },
      "source": [
        "import time\n",
        "import matplotlib.pyplot as plt\n",
        "import numpy as np\n",
        "from random import randint"
      ],
      "execution_count": 2,
      "outputs": []
    },
    {
      "cell_type": "code",
      "metadata": {
        "id": "qMRpE0dGULCI",
        "colab_type": "code",
        "colab": {
          "base_uri": "https://localhost:8080/",
          "height": 158
        },
        "outputId": "5acf8f38-691b-406b-8ea1-3b35089ea4ed"
      },
      "source": [
        "!git clone https://github.com/ucfilho/Raianars_July_2020 #clonar do Github\n",
        "%cd Raianars_July_2020"
      ],
      "execution_count": 3,
      "outputs": [
        {
          "output_type": "stream",
          "text": [
            "Cloning into 'Raianars_July_2020'...\n",
            "remote: Enumerating objects: 9, done.\u001b[K\n",
            "remote: Counting objects: 100% (9/9), done.\u001b[K\n",
            "remote: Compressing objects: 100% (9/9), done.\u001b[K\n",
            "remote: Total 132 (delta 3), reused 0 (delta 0), pack-reused 123\u001b[K\n",
            "Receiving objects: 100% (132/132), 200.33 KiB | 377.00 KiB/s, done.\n",
            "Resolving deltas: 100% (65/65), done.\n",
            "/content/Raianars_July_2020\n"
          ],
          "name": "stdout"
        }
      ]
    },
    {
      "cell_type": "code",
      "metadata": {
        "colab_type": "code",
        "id": "_E15mKFURR6O",
        "colab": {}
      },
      "source": [
        "import de_soma_Insight\n",
        "import de_bounds_matriz\n",
        "import Function\n",
        "import Go2MinMax\n",
        "from AvaliaX import AvaliaX\n",
        "\n",
        "\n",
        "############################### DADOS DE ENTRADA \n",
        "RUNS=50 #NÚMERO DE RODADAS\n",
        "its=1 #10 # quantas vezes vai usar o NPAR antes de alterar de novo\n",
        "ITE=2000 #10 # PONTOS quantas vezes vai alteral NPAR \n",
        "NPAR=100\n",
        "\n",
        "mut=0.5\n",
        "crossp=0.5\n",
        "dim=30\n",
        "\n",
        "fchoice='HappyCat'  \n",
        "Fun=Function.HappyCat\n",
        "\n",
        "MIN,MAX=Go2MinMax.Intervalo(dim,fchoice)\n",
        "\n",
        "TOTAL=10*dim*its*ITE\n",
        "SOMA=0"
      ],
      "execution_count": 4,
      "outputs": []
    },
    {
      "cell_type": "code",
      "metadata": {
        "colab_type": "code",
        "id": "rnX8ttNopd1G",
        "colab": {
          "base_uri": "https://localhost:8080/",
          "height": 905
        },
        "outputId": "d31071fe-b344-4ae4-9a38-4f898393fd5d"
      },
      "source": [
        "start_time = time.time()\n",
        "BEST_AGENTS=[]\n",
        "MAT_stat=[]\n",
        "\n",
        "for i in range(RUNS):\n",
        "\n",
        "    pop = np.random.rand(NPAR, dim)\n",
        "    diff=np.zeros(dim)\n",
        "    for ii in range(dim):\n",
        "      diff[ii] = MAX[ii]-MIN[ii]\n",
        "    X = MIN + pop * diff\n",
        "\n",
        "    SOMA=0\n",
        "\n",
        "    for k in range(ITE):\n",
        "      X,BEST,FOBEST,XY,BEST_XY,SOMA= de_soma_Insight.de(MAX,MIN, mut, crossp,dim,its,Fun,X,SOMA,TOTAL)\n",
        "\n",
        "    start_run = (time.time()-start_time)/60\n",
        "    print('run=',i,'total=50','Fobj=',FOBEST,'Time=',start_run)  \n",
        "    BEST_AGENTS.append(BEST_XY)"
      ],
      "execution_count": 5,
      "outputs": [
        {
          "output_type": "stream",
          "text": [
            "run= 0 total=50 Fobj= 0.389851516347577 Time= 0.31362361113230386\n",
            "run= 1 total=50 Fobj= 0.3692341302222838 Time= 0.6293638865152995\n",
            "run= 2 total=50 Fobj= 0.3683532876708635 Time= 0.9412446777025859\n",
            "run= 3 total=50 Fobj= 0.36661410087243645 Time= 1.2538312156995137\n",
            "run= 4 total=50 Fobj= 0.33647225874350634 Time= 1.5656578024228414\n",
            "run= 5 total=50 Fobj= 0.390125857174512 Time= 1.8772864540417988\n",
            "run= 6 total=50 Fobj= 0.3895814356364813 Time= 2.188696273167928\n",
            "run= 7 total=50 Fobj= 0.45102883774963276 Time= 2.4991035064061484\n",
            "run= 8 total=50 Fobj= 0.437881603987652 Time= 2.8113988757133486\n",
            "run= 9 total=50 Fobj= 0.5303283630932742 Time= 3.122712500890096\n",
            "run= 10 total=50 Fobj= 0.3917780407041727 Time= 3.4338725248972577\n",
            "run= 11 total=50 Fobj= 0.3783258154151501 Time= 3.745249060789744\n",
            "run= 12 total=50 Fobj= 0.3160736281884713 Time= 4.057395537694295\n",
            "run= 13 total=50 Fobj= 0.438146715436459 Time= 4.370969021320343\n",
            "run= 14 total=50 Fobj= 0.47036553381248947 Time= 4.682098031044006\n",
            "run= 15 total=50 Fobj= 0.4365318322224614 Time= 4.9937019149462385\n",
            "run= 16 total=50 Fobj= 0.44982083056814004 Time= 5.306245688597361\n",
            "run= 17 total=50 Fobj= 0.43023069106078826 Time= 5.617916071414948\n",
            "run= 18 total=50 Fobj= 0.29908479074754507 Time= 5.932471891244252\n",
            "run= 19 total=50 Fobj= 0.5079781488537225 Time= 6.243477074305217\n",
            "run= 20 total=50 Fobj= 0.45445720587727423 Time= 6.554493510723114\n",
            "run= 21 total=50 Fobj= 0.4281556718919952 Time= 6.865598078568777\n",
            "run= 22 total=50 Fobj= 0.3598656863458355 Time= 7.177632009983062\n",
            "run= 23 total=50 Fobj= 0.36704551861025936 Time= 7.488454043865204\n",
            "run= 24 total=50 Fobj= 0.5367964776533439 Time= 7.80051261583964\n",
            "run= 25 total=50 Fobj= 0.2864915410841825 Time= 8.11283448934555\n",
            "run= 26 total=50 Fobj= 0.43576773093679244 Time= 8.423548086484272\n",
            "run= 27 total=50 Fobj= 0.3299645153982871 Time= 8.734231106440227\n",
            "run= 28 total=50 Fobj= 0.4968743213767794 Time= 9.045175536473591\n",
            "run= 29 total=50 Fobj= 0.47360047561002905 Time= 9.358551410833995\n",
            "run= 30 total=50 Fobj= 0.5048612664276257 Time= 9.752631103992462\n",
            "run= 31 total=50 Fobj= 0.3441857489533099 Time= 10.063167663415273\n",
            "run= 32 total=50 Fobj= 0.3960292522111829 Time= 10.374279685815175\n",
            "run= 33 total=50 Fobj= 0.3621215824607863 Time= 10.685399921735128\n",
            "run= 34 total=50 Fobj= 0.3447601891981015 Time= 10.99984675248464\n",
            "run= 35 total=50 Fobj= 0.47317249133234873 Time= 11.311057035128275\n",
            "run= 36 total=50 Fobj= 0.44558984834397786 Time= 11.621735072135925\n",
            "run= 37 total=50 Fobj= 0.30285262534046625 Time= 11.93177094856898\n",
            "run= 38 total=50 Fobj= 0.4421334212645983 Time= 12.24171223640442\n",
            "run= 39 total=50 Fobj= 0.3954144054811455 Time= 12.551392523447673\n",
            "run= 40 total=50 Fobj= 0.4992993078717921 Time= 12.86207784016927\n",
            "run= 41 total=50 Fobj= 0.4561953653200852 Time= 13.174804556369782\n",
            "run= 42 total=50 Fobj= 0.4396447950349536 Time= 13.486327648162842\n",
            "run= 43 total=50 Fobj= 0.4833124812179246 Time= 13.797777136166891\n",
            "run= 44 total=50 Fobj= 0.4915726038436887 Time= 14.109137694040934\n",
            "run= 45 total=50 Fobj= 0.4327354062329145 Time= 14.430321900049845\n",
            "run= 46 total=50 Fobj= 0.43662191243024717 Time= 14.742709835370382\n",
            "run= 47 total=50 Fobj= 0.46957679597445345 Time= 15.05481200615565\n",
            "run= 48 total=50 Fobj= 0.4060416730216849 Time= 15.366187437375386\n",
            "run= 49 total=50 Fobj= 0.40292021551261026 Time= 15.677745544910431\n"
          ],
          "name": "stdout"
        }
      ]
    },
    {
      "cell_type": "code",
      "metadata": {
        "colab_type": "code",
        "id": "lNSN5X-wskcx",
        "colab": {
          "base_uri": "https://localhost:8080/",
          "height": 301
        },
        "outputId": "c497ad99-09a4-4dd4-e2c3-f6f90b8ebc6f"
      },
      "source": [
        "############################## Cálculo dos Parâmetros de Avaliação   \n",
        "TIME = (time.time() - start_time)/RUNS\n",
        "BEST_AGENTS=np.array(BEST_AGENTS)\n",
        "BEST_AGENTS_ST= BEST_AGENTS[BEST_AGENTS[:,-1].argsort()]\n",
        "BEST=BEST_AGENTS_ST[0]\n",
        "WORSE=BEST_AGENTS_ST[-1]\n",
        "MEAN=np.mean(BEST_AGENTS,axis=0)\n",
        "MAXFO=BEST_AGENTS[:,-1].max()\n",
        "MINFO=BEST_AGENTS[:,-1].min()\n",
        "STD=BEST_AGENTS[:,-1].std()\n",
        "\n",
        "nome='_DE_STAT_Fo-'+str(mut)+'_CRo-'+str(crossp)+'_D-'+str(dim)+'_Interv-'+str(ITE)\n",
        "print('DE_POP_VAR_F_CR','TOTAL=',TOTAL,'Iterações=',ITE*its,'Dim=', dim,\"Min/Max=\",MIN[0],\"/\",MAX[0],'_',Fun.__name__)\n",
        "print(nome, '\\n')\n",
        "#print('BEST: ',BEST)\n",
        "#print('MÉDIA: ',MEAN)\n",
        "print('MÉDIA: ',MEAN[-1])\n",
        "print('MIN __:',MINFO)\n",
        "print('MAX__: ',MAXFO)\n",
        "print('STD __:',STD)\n",
        "print(\"Tempo Médio= %.3f segundos ---\" % (TIME))\n",
        "print(RUNS,'Rodadas') \n",
        "print()\n",
        "print('BEST: ',BEST)\n",
        "# print('melhor=',BEST_AGENTS[BEST_INDEX])"
      ],
      "execution_count": 6,
      "outputs": [
        {
          "output_type": "stream",
          "text": [
            "DE_POP_VAR_F_CR TOTAL= 600000 Iterações= 2000 Dim= 30 Min/Max= -2 / 2 _ HappyCat\n",
            "_DE_STAT_Fo-0.5_CRo-0.5_D-30_Interv-2000 \n",
            "\n",
            "MÉDIA:  0.41691735901532595\n",
            "MIN __: 0.2864915410841825\n",
            "MAX__:  0.5367964776533439\n",
            "STD __: 0.06135415779585675\n",
            "Tempo Médio= 18.814 segundos ---\n",
            "50 Rodadas\n",
            "\n",
            "BEST:  [-1.75253426  0.16266541 -2.         -0.71395966 -0.2997284  -0.14291371\n",
            " -0.46955502 -0.45370447 -0.65091314 -0.57867227 -0.4033916  -0.35681142\n",
            " -1.06451465 -1.76371456 -1.46997688 -1.4564703  -1.4003182  -0.06807526\n",
            " -1.2529564  -0.64471277 -0.38865125 -1.1191217  -0.87610391 -0.14999698\n",
            " -2.         -0.16458117 -0.91142688 -0.29110812 -0.54197773 -0.94889932\n",
            "  0.28649154]\n"
          ],
          "name": "stdout"
        }
      ]
    }
  ]
}