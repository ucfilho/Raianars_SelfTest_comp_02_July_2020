{
  "nbformat": 4,
  "nbformat_minor": 0,
  "metadata": {
    "accelerator": "GPU",
    "colab": {
      "name": "DE_STAT_2000_HappyCat_jul_05_2020.ipynb",
      "provenance": [],
      "collapsed_sections": [],
      "include_colab_link": true
    },
    "kernelspec": {
      "display_name": "Python 3",
      "language": "python",
      "name": "python3"
    },
    "language_info": {
      "codemirror_mode": {
        "name": "ipython",
        "version": 3
      },
      "file_extension": ".py",
      "mimetype": "text/x-python",
      "name": "python",
      "nbconvert_exporter": "python",
      "pygments_lexer": "ipython3",
      "version": "3.6.1"
    }
  },
  "cells": [
    {
      "cell_type": "markdown",
      "metadata": {
        "id": "view-in-github",
        "colab_type": "text"
      },
      "source": [
        "<a href=\"https://colab.research.google.com/github/ucfilho/Raianars_SelfTest_comp_02_July_2020/blob/master/DE_STAT_2000_HappyCat_jul_05_2020.ipynb\" target=\"_parent\"><img src=\"https://colab.research.google.com/assets/colab-badge.svg\" alt=\"Open In Colab\"/></a>"
      ]
    },
    {
      "cell_type": "code",
      "metadata": {
        "colab_type": "code",
        "id": "cG5nOUQ9Eucw",
        "colab": {}
      },
      "source": [
        "# Noisy_Quartic\n",
        "# In the paper Ngen=3000 NPAR=100 RUNS=50 dim=30\n",
        "# JADE: Adaptive Differential Evolution with Optional External Archive\n"
      ],
      "execution_count": 1,
      "outputs": []
    },
    {
      "cell_type": "code",
      "metadata": {
        "colab_type": "code",
        "id": "v1OxgXboBKoG",
        "colab": {}
      },
      "source": [
        "import time\n",
        "import matplotlib.pyplot as plt\n",
        "import numpy as np\n",
        "from random import randint"
      ],
      "execution_count": 2,
      "outputs": []
    },
    {
      "cell_type": "code",
      "metadata": {
        "id": "qMRpE0dGULCI",
        "colab_type": "code",
        "colab": {
          "base_uri": "https://localhost:8080/",
          "height": 54
        },
        "outputId": "29496a06-6236-4595-86b1-e00b01d0a4a4"
      },
      "source": [
        "!git clone https://github.com/ucfilho/Raianars_July_2020 #clonar do Github\n",
        "%cd Raianars_July_2020"
      ],
      "execution_count": 3,
      "outputs": [
        {
          "output_type": "stream",
          "text": [
            "fatal: destination path 'Raianars_July_2020' already exists and is not an empty directory.\n",
            "/content/Raianars_July_2020\n"
          ],
          "name": "stdout"
        }
      ]
    },
    {
      "cell_type": "code",
      "metadata": {
        "colab_type": "code",
        "id": "_E15mKFURR6O",
        "colab": {}
      },
      "source": [
        "import de_soma_Insight\n",
        "import de_bounds_matriz\n",
        "import Function\n",
        "import Go2MinMax\n",
        "from AvaliaX import AvaliaX\n",
        "\n",
        "\n",
        "############################### DADOS DE ENTRADA \n",
        "RUNS=50 #NÚMERO DE RODADAS\n",
        "its=1 #10 # quantas vezes vai usar o NPAR antes de alterar de novo\n",
        "ITE=2000 #10 # PONTOS quantas vezes vai alteral NPAR \n",
        "NPAR=100\n",
        "\n",
        "mut=0.5\n",
        "crossp=0.5\n",
        "dim=30\n",
        "\n",
        "fchoice='HappyCat'  \n",
        "Fun=Function.HappyCat\n",
        "\n",
        "MIN,MAX=Go2MinMax.Intervalo(dim,fchoice)\n",
        "\n",
        "TOTAL=10*dim*its*ITE\n",
        "SOMA=0"
      ],
      "execution_count": 4,
      "outputs": []
    },
    {
      "cell_type": "code",
      "metadata": {
        "colab_type": "code",
        "id": "rnX8ttNopd1G",
        "colab": {
          "base_uri": "https://localhost:8080/",
          "height": 926
        },
        "outputId": "fc8c2c3f-6a90-49c5-e26d-94642c5a17d5"
      },
      "source": [
        "start_time = time.time()\n",
        "BEST_AGENTS=[]\n",
        "MAT_stat=[]\n",
        "\n",
        "for i in range(RUNS):\n",
        "\n",
        "    pop = np.random.rand(NPAR, dim)\n",
        "    diff=np.zeros(dim)\n",
        "    for ii in range(dim):\n",
        "      diff[ii] = MAX[ii]-MIN[ii]\n",
        "    X = MIN + pop * diff\n",
        "\n",
        "    for k in range(ITE):\n",
        "      X,BEST,FOBEST,XY,BEST_XY,SOMA= de_soma_Insight.de(MAX,MIN, mut, crossp,dim,its,Fun,X,SOMA,TOTAL)\n",
        "\n",
        "    start_run = (time.time()-start_time)/60\n",
        "    print('run=',i,'total=50','Fobj=',FOBEST,'Time=',start_run)  \n",
        "    BEST_AGENTS.append(BEST_XY)"
      ],
      "execution_count": 5,
      "outputs": [
        {
          "output_type": "stream",
          "text": [
            "run= 0 total=50 Fobj= 0.3762012922834595 Time= 0.2654968976974487\n",
            "run= 1 total=50 Fobj= 0.3919390064071012 Time= 0.5287078142166137\n",
            "run= 2 total=50 Fobj= 0.3958646097219347 Time= 0.7939592162768047\n",
            "run= 3 total=50 Fobj= 0.4025328484565262 Time= 1.0577931801478069\n",
            "run= 4 total=50 Fobj= 0.3356635433121565 Time= 1.3239365180333456\n",
            "run= 5 total=50 Fobj= 0.35232124382139285 Time= 1.5928371826807657\n",
            "run= 6 total=50 Fobj= 0.45611424558658037 Time= 1.857967205842336\n",
            "run= 7 total=50 Fobj= 0.4030783909877792 Time= 2.122522517045339\n",
            "run= 8 total=50 Fobj= 0.44817330049147935 Time= 2.3899898648262026\n",
            "run= 9 total=50 Fobj= 0.4301849278656492 Time= 2.6579952359199526\n",
            "run= 10 total=50 Fobj= 2.1705190246042236 Time= 2.8187531510988872\n",
            "run= 11 total=50 Fobj= 1.5496544554589564 Time= 2.977372646331787\n",
            "run= 12 total=50 Fobj= 1.657704066962909 Time= 3.1358616789182028\n",
            "run= 13 total=50 Fobj= 1.8409063125023941 Time= 3.29379160006841\n",
            "run= 14 total=50 Fobj= 2.2024795923477716 Time= 3.453195587793986\n",
            "run= 15 total=50 Fobj= 2.0886686793457576 Time= 3.6121011853218077\n",
            "run= 16 total=50 Fobj= 1.8710099971908363 Time= 3.7704670270284018\n",
            "run= 17 total=50 Fobj= 1.993508697034335 Time= 3.92935133377711\n",
            "run= 18 total=50 Fobj= 1.922811829949461 Time= 4.0918696840604145\n",
            "run= 19 total=50 Fobj= 2.3476488844134193 Time= 4.251998353004455\n",
            "run= 20 total=50 Fobj= 1.6052995072907992 Time= 4.4093553225199384\n",
            "run= 21 total=50 Fobj= 1.8828406816935788 Time= 4.566896831989288\n",
            "run= 22 total=50 Fobj= 1.8102878594700733 Time= 4.724333401521047\n",
            "run= 23 total=50 Fobj= 2.2002498380911653 Time= 4.881896924972534\n",
            "run= 24 total=50 Fobj= 1.9263890650160465 Time= 5.03871256907781\n",
            "run= 25 total=50 Fobj= 1.869293960978848 Time= 5.195805184046427\n",
            "run= 26 total=50 Fobj= 1.5512364305857569 Time= 5.3534092227617895\n",
            "run= 27 total=50 Fobj= 2.0765470866837137 Time= 5.512909607092539\n",
            "run= 28 total=50 Fobj= 2.168565447885212 Time= 5.671652992566426\n",
            "run= 29 total=50 Fobj= 2.180371541069237 Time= 5.832331617673238\n",
            "run= 30 total=50 Fobj= 1.9923901266333048 Time= 5.988868749141693\n",
            "run= 31 total=50 Fobj= 2.122773106978384 Time= 6.146233669916788\n",
            "run= 32 total=50 Fobj= 1.6970477461092677 Time= 6.3038457552591955\n",
            "run= 33 total=50 Fobj= 2.1331901040718435 Time= 6.461671761671702\n",
            "run= 34 total=50 Fobj= 1.4765357618889832 Time= 6.618068754673004\n",
            "run= 35 total=50 Fobj= 1.901969208883568 Time= 6.7781598726908365\n",
            "run= 36 total=50 Fobj= 2.1566373971972514 Time= 6.9363443891207375\n",
            "run= 37 total=50 Fobj= 1.5766102001996183 Time= 7.09216582775116\n",
            "run= 38 total=50 Fobj= 2.1369829851324047 Time= 7.2501580556233725\n",
            "run= 39 total=50 Fobj= 1.8288366188913623 Time= 7.408939623832703\n",
            "run= 40 total=50 Fobj= 2.012177969090433 Time= 7.565828601519267\n",
            "run= 41 total=50 Fobj= 2.1356564754938936 Time= 7.722970966498057\n",
            "run= 42 total=50 Fobj= 1.8472081894125691 Time= 7.882200340429942\n",
            "run= 43 total=50 Fobj= 2.0814815661642943 Time= 8.040555953979492\n",
            "run= 44 total=50 Fobj= 2.103182455829497 Time= 8.200640781720479\n",
            "run= 45 total=50 Fobj= 2.15389877823105 Time= 8.357508210341136\n",
            "run= 46 total=50 Fobj= 2.144424890242804 Time= 8.51609787940979\n",
            "run= 47 total=50 Fobj= 1.7891714914248826 Time= 8.675590431690216\n",
            "run= 48 total=50 Fobj= 2.0835684489951083 Time= 8.834485268592834\n",
            "run= 49 total=50 Fobj= 2.2292713567899725 Time= 8.991951890786488\n"
          ],
          "name": "stdout"
        }
      ]
    },
    {
      "cell_type": "code",
      "metadata": {
        "colab_type": "code",
        "id": "lNSN5X-wskcx",
        "colab": {
          "base_uri": "https://localhost:8080/",
          "height": 308
        },
        "outputId": "c31d6b01-ec96-44a8-ea39-e9707b88898a"
      },
      "source": [
        "############################## Cálculo dos Parâmetros de Avaliação   \n",
        "TIME = (time.time() - start_time)/RUNS\n",
        "BEST_AGENTS=np.array(BEST_AGENTS)\n",
        "BEST_AGENTS_ST= BEST_AGENTS[BEST_AGENTS[:,-1].argsort()]\n",
        "BEST=BEST_AGENTS_ST[0]\n",
        "WORSE=BEST_AGENTS_ST[-1]\n",
        "MEAN=np.mean(BEST_AGENTS,axis=0)\n",
        "MAXFO=BEST_AGENTS[:,-1].max()\n",
        "MINFO=BEST_AGENTS[:,-1].min()\n",
        "STD=BEST_AGENTS[:,-1].std()\n",
        "\n",
        "nome='_DE_STAT_Fo-'+str(mut)+'_CRo-'+str(crossp)+'_D-'+str(dim)+'_Interv-'+str(ITE)\n",
        "print('DE_POP_VAR_F_CR','TOTAL=',TOTAL,'Iterações=',ITE*its,'Dim=', dim,\"Min/Max=\",MIN[0],\"/\",MAX[0],'_',Fun.__name__)\n",
        "print(nome, '\\n')\n",
        "#print('BEST: ',BEST)\n",
        "#print('MÉDIA: ',MEAN)\n",
        "print('MÉDIA: ',MEAN[-1])\n",
        "print('MIN __:',MINFO)\n",
        "print('MAX__: ',MAXFO)\n",
        "print('STD __:',STD)\n",
        "print(\"Tempo Médio= %.3f segundos ---\" % (TIME))\n",
        "print(RUNS,'Rodadas') \n",
        "print()\n",
        "print('BEST: ',BEST)\n",
        "# print('melhor=',BEST_AGENTS[BEST_INDEX])"
      ],
      "execution_count": 6,
      "outputs": [
        {
          "output_type": "stream",
          "text": [
            "DE_POP_VAR_F_CR TOTAL= 600000 Iterações= 2000 Dim= 30 Min/Max= -2 / 2 _ HappyCat\n",
            "_DE_STAT_Fo-0.5_CRo-0.5_D-30_Interv-2000 \n",
            "\n",
            "MÉDIA:  1.6502216249033814\n",
            "MIN __: 0.3356635433121565\n",
            "MAX__:  2.3476488844134193\n",
            "STD __: 0.6556288490674127\n",
            "Tempo Médio= 10.791 segundos ---\n",
            "50 Rodadas\n",
            "\n",
            "BEST:  [-0.39320142 -2.         -0.30041849 -1.60528582  0.56617304 -0.98578475\n",
            " -0.71953379  0.42069466 -0.50601906 -1.50651158 -1.08687436 -1.1704902\n",
            " -1.24586622 -1.08673622 -0.50738717 -0.9537231  -1.14579519 -0.66449992\n",
            " -0.86346951  0.15430025 -0.46289518 -0.47785678 -1.21171684 -1.0997376\n",
            "  0.31441196  0.04054722 -1.4197738  -1.46565549 -1.19605091 -0.93549349\n",
            "  0.33566354]\n"
          ],
          "name": "stdout"
        }
      ]
    }
  ]
}