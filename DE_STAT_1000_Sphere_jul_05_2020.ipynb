{
  "nbformat": 4,
  "nbformat_minor": 0,
  "metadata": {
    "accelerator": "GPU",
    "colab": {
      "name": "DE_STAT_1000_Sphere_jul_05_2020.ipynb",
      "provenance": [],
      "collapsed_sections": [],
      "include_colab_link": true
    },
    "kernelspec": {
      "display_name": "Python 3",
      "language": "python",
      "name": "python3"
    },
    "language_info": {
      "codemirror_mode": {
        "name": "ipython",
        "version": 3
      },
      "file_extension": ".py",
      "mimetype": "text/x-python",
      "name": "python",
      "nbconvert_exporter": "python",
      "pygments_lexer": "ipython3",
      "version": "3.6.1"
    }
  },
  "cells": [
    {
      "cell_type": "markdown",
      "metadata": {
        "id": "view-in-github",
        "colab_type": "text"
      },
      "source": [
        "<a href=\"https://colab.research.google.com/github/ucfilho/Raianars_SelfTest_comp_02_July_2020/blob/master/DE_STAT_1000_Sphere_jul_05_2020.ipynb\" target=\"_parent\"><img src=\"https://colab.research.google.com/assets/colab-badge.svg\" alt=\"Open In Colab\"/></a>"
      ]
    },
    {
      "cell_type": "code",
      "metadata": {
        "colab_type": "code",
        "id": "cG5nOUQ9Eucw",
        "colab": {}
      },
      "source": [
        "# Noisy_Quartic\n",
        "# In the paper Ngen=3000 NPAR=100 RUNS=50 dim=30\n",
        "# JADE: Adaptive Differential Evolution with Optional External Archive\n"
      ],
      "execution_count": 1,
      "outputs": []
    },
    {
      "cell_type": "code",
      "metadata": {
        "colab_type": "code",
        "id": "v1OxgXboBKoG",
        "colab": {}
      },
      "source": [
        "import time\n",
        "import matplotlib.pyplot as plt\n",
        "import numpy as np\n",
        "from random import randint"
      ],
      "execution_count": 2,
      "outputs": []
    },
    {
      "cell_type": "code",
      "metadata": {
        "id": "qMRpE0dGULCI",
        "colab_type": "code",
        "colab": {
          "base_uri": "https://localhost:8080/",
          "height": 158
        },
        "outputId": "6d4b8e8b-d894-4c77-84b9-3bcfb395671e"
      },
      "source": [
        "!git clone https://github.com/ucfilho/Raianars_July_2020 #clonar do Github\n",
        "%cd Raianars_July_2020"
      ],
      "execution_count": 3,
      "outputs": [
        {
          "output_type": "stream",
          "text": [
            "Cloning into 'Raianars_July_2020'...\n",
            "remote: Enumerating objects: 9, done.\u001b[K\n",
            "remote: Counting objects: 100% (9/9), done.\u001b[K\n",
            "remote: Compressing objects: 100% (9/9), done.\u001b[K\n",
            "remote: Total 132 (delta 3), reused 0 (delta 0), pack-reused 123\u001b[K\n",
            "Receiving objects: 100% (132/132), 200.33 KiB | 945.00 KiB/s, done.\n",
            "Resolving deltas: 100% (65/65), done.\n",
            "/content/Raianars_July_2020\n"
          ],
          "name": "stdout"
        }
      ]
    },
    {
      "cell_type": "code",
      "metadata": {
        "colab_type": "code",
        "id": "_E15mKFURR6O",
        "colab": {}
      },
      "source": [
        "import de_soma_Insight\n",
        "import de_bounds_matriz\n",
        "import Function\n",
        "import Go2MinMax\n",
        "from AvaliaX import AvaliaX\n",
        "\n",
        "\n",
        "############################### DADOS DE ENTRADA \n",
        "RUNS=50 #NÚMERO DE RODADAS\n",
        "its=1 #10 # quantas vezes vai usar o NPAR antes de alterar de novo\n",
        "ITE=1000 #10 # PONTOS quantas vezes vai alteral NPAR \n",
        "NPAR=100\n",
        "\n",
        "mut=0.5\n",
        "crossp=0.5\n",
        "dim=30\n",
        "\n",
        "#fchoice='Rastrigin' #fchoice='Michalewicz' #fchoice='Schwefel'\n",
        "fchoice='Sphere'  \n",
        "Fun=Function.Sphere\n",
        "\n",
        "MIN,MAX=Go2MinMax.Intervalo(dim,fchoice)\n",
        "\n",
        "TOTAL=10*dim*its*ITE\n",
        "SOMA=0"
      ],
      "execution_count": 4,
      "outputs": []
    },
    {
      "cell_type": "code",
      "metadata": {
        "colab_type": "code",
        "id": "rnX8ttNopd1G",
        "colab": {
          "base_uri": "https://localhost:8080/",
          "height": 905
        },
        "outputId": "e3c43b7f-8a54-4458-d64f-1d532c4b6298"
      },
      "source": [
        "start_time = time.time()\n",
        "BEST_AGENTS=[]\n",
        "MAT_stat=[]\n",
        "\n",
        "for i in range(RUNS):\n",
        "\n",
        "    pop = np.random.rand(NPAR, dim)\n",
        "    diff=np.zeros(dim)\n",
        "    for ii in range(dim):\n",
        "      diff[ii] = MAX[ii]-MIN[ii]\n",
        "    X = MIN + pop * diff\n",
        "\n",
        "    SOMA=0\n",
        "\n",
        "    for k in range(ITE):\n",
        "      X,BEST,FOBEST,XY,BEST_XY,SOMA= de_soma_Insight.de(MAX,MIN, mut, crossp,dim,its,Fun,X,SOMA,TOTAL)\n",
        "\n",
        "    start_run = (time.time()-start_time)/60\n",
        "    print('run=',i,'total=50','Fobj=',FOBEST,'Time=',start_run)  \n",
        "    BEST_AGENTS.append(BEST_XY)"
      ],
      "execution_count": 5,
      "outputs": [
        {
          "output_type": "stream",
          "text": [
            "run= 0 total=50 Fobj= 3.916002092725588e-15 Time= 0.15837226311365762\n",
            "run= 1 total=50 Fobj= 2.570317511594869e-15 Time= 0.31848361492156985\n",
            "run= 2 total=50 Fobj= 1.9332302107923974e-15 Time= 0.4783811608950297\n",
            "run= 3 total=50 Fobj= 2.2353897862220484e-15 Time= 0.6369976838429768\n",
            "run= 4 total=50 Fobj= 3.390612013629157e-15 Time= 0.7958683888117473\n",
            "run= 5 total=50 Fobj= 4.605538361051232e-15 Time= 0.9526641805966695\n",
            "run= 6 total=50 Fobj= 4.628669193864515e-15 Time= 1.1102646867434183\n",
            "run= 7 total=50 Fobj= 1.8760997095965934e-15 Time= 1.26784614721934\n",
            "run= 8 total=50 Fobj= 2.173418299749763e-15 Time= 1.4261912782986959\n",
            "run= 9 total=50 Fobj= 3.5245742285564926e-15 Time= 1.582948088645935\n",
            "run= 10 total=50 Fobj= 4.236708382095449e-15 Time= 1.740274695555369\n",
            "run= 11 total=50 Fobj= 1.0102520626393886e-15 Time= 1.8975789030392964\n",
            "run= 12 total=50 Fobj= 8.30402119145355e-15 Time= 2.055267031987508\n",
            "run= 13 total=50 Fobj= 1.0595457192941693e-15 Time= 2.212994996706645\n",
            "run= 14 total=50 Fobj= 2.9222304328889034e-15 Time= 2.3715295990308127\n",
            "run= 15 total=50 Fobj= 2.616494611805724e-15 Time= 2.528703737258911\n",
            "run= 16 total=50 Fobj= 1.399350324342198e-15 Time= 2.6860203742980957\n",
            "run= 17 total=50 Fobj= 2.9874093626710297e-15 Time= 2.8449019392331443\n",
            "run= 18 total=50 Fobj= 4.194446089021901e-15 Time= 3.0013634244600933\n",
            "run= 19 total=50 Fobj= 1.586949774814441e-15 Time= 3.157853416601817\n",
            "run= 20 total=50 Fobj= 8.966574886932197e-16 Time= 3.3150598724683125\n",
            "run= 21 total=50 Fobj= 2.689217791795156e-15 Time= 3.472769292195638\n",
            "run= 22 total=50 Fobj= 1.5888430527424866e-15 Time= 3.6290154178937275\n",
            "run= 23 total=50 Fobj= 6.573058081362276e-15 Time= 3.7866107702255247\n",
            "run= 24 total=50 Fobj= 2.4777378721954996e-15 Time= 3.9422728498776753\n",
            "run= 25 total=50 Fobj= 7.141141203158042e-15 Time= 4.0984444379806515\n",
            "run= 26 total=50 Fobj= 7.189276128128588e-16 Time= 4.254571783542633\n",
            "run= 27 total=50 Fobj= 2.2870815142721238e-15 Time= 4.40999135573705\n",
            "run= 28 total=50 Fobj= 3.178095351176e-15 Time= 4.565526187419891\n",
            "run= 29 total=50 Fobj= 9.062874378668412e-15 Time= 4.72070986032486\n",
            "run= 30 total=50 Fobj= 7.133194024962834e-15 Time= 4.876174318790436\n",
            "run= 31 total=50 Fobj= 3.286728383427951e-15 Time= 5.0316073020299275\n",
            "run= 32 total=50 Fobj= 1.3711402463047006e-15 Time= 5.184775952498118\n",
            "run= 33 total=50 Fobj= 2.5369699908042385e-15 Time= 5.33651682138443\n",
            "run= 34 total=50 Fobj= 1.4525950674290183e-14 Time= 5.490512470404307\n",
            "run= 35 total=50 Fobj= 1.521318668739515e-14 Time= 5.645416808128357\n",
            "run= 36 total=50 Fobj= 3.100600713128618e-15 Time= 5.798117637634277\n",
            "run= 37 total=50 Fobj= 1.9893019342705855e-15 Time= 5.952638665835063\n",
            "run= 38 total=50 Fobj= 4.943433330364834e-15 Time= 6.1064235607783\n",
            "run= 39 total=50 Fobj= 2.6207327792399418e-15 Time= 6.259669772783915\n",
            "run= 40 total=50 Fobj= 1.0692113549141741e-15 Time= 6.414651715755463\n",
            "run= 41 total=50 Fobj= 2.3524637180944064e-15 Time= 6.5684163530667625\n",
            "run= 42 total=50 Fobj= 9.515526682962156e-16 Time= 6.7223870873451235\n",
            "run= 43 total=50 Fobj= 2.7246120809458126e-15 Time= 6.875691684087117\n",
            "run= 44 total=50 Fobj= 8.095446990332397e-15 Time= 7.028809992472331\n",
            "run= 45 total=50 Fobj= 6.216892699883067e-16 Time= 7.183405423164368\n",
            "run= 46 total=50 Fobj= 1.4805421338867396e-15 Time= 7.337711413701375\n",
            "run= 47 total=50 Fobj= 9.284169936648041e-15 Time= 7.490497982501983\n",
            "run= 48 total=50 Fobj= 1.5509231297919078e-15 Time= 7.643893047173818\n",
            "run= 49 total=50 Fobj= 1.1793828289585286e-15 Time= 7.7964504837989805\n"
          ],
          "name": "stdout"
        }
      ]
    },
    {
      "cell_type": "code",
      "metadata": {
        "colab_type": "code",
        "id": "lNSN5X-wskcx",
        "colab": {
          "base_uri": "https://localhost:8080/",
          "height": 336
        },
        "outputId": "d0d91c64-65c6-4a12-9efc-be7fdadd3f64"
      },
      "source": [
        "############################## Cálculo dos Parâmetros de Avaliação   \n",
        "TIME = (time.time() - start_time)/RUNS\n",
        "BEST_AGENTS=np.array(BEST_AGENTS)\n",
        "BEST_AGENTS_ST= BEST_AGENTS[BEST_AGENTS[:,-1].argsort()]\n",
        "BEST=BEST_AGENTS_ST[0]\n",
        "WORSE=BEST_AGENTS_ST[-1]\n",
        "MEAN=np.mean(BEST_AGENTS,axis=0)\n",
        "MAXFO=BEST_AGENTS[:,-1].max()\n",
        "MINFO=BEST_AGENTS[:,-1].min()\n",
        "STD=BEST_AGENTS[:,-1].std()\n",
        "\n",
        "nome='_DE_STAT_Fo-'+str(mut)+'_CRo-'+str(crossp)+'_D-'+str(dim)+'_Interv-'+str(ITE)\n",
        "print('DE','TOTAL=',TOTAL,'Iterações=',ITE*its,'Dim=', dim,\"Min/Max=\",MIN[0],\"/\",MAX[0],'_',Fun.__name__)\n",
        "print(nome, '\\n')\n",
        "#print('BEST: ',BEST)\n",
        "#print('MÉDIA: ',MEAN)\n",
        "print('MÉDIA: ',MEAN[-1])\n",
        "print('MIN __:',MINFO)\n",
        "print('MAX__: ',MAXFO)\n",
        "print('STD __:',STD)\n",
        "print(\"Tempo Médio= %.3f segundos ---\" % (TIME))\n",
        "print(RUNS,'Rodadas') \n",
        "print()\n",
        "print('BEST: ',BEST)\n",
        "# print('melhor=',BEST_AGENTS[BEST_INDEX])"
      ],
      "execution_count": 6,
      "outputs": [
        {
          "output_type": "stream",
          "text": [
            "DE TOTAL= 300000 Iterações= 1000 Dim= 30 Min/Max= -5.12 / 5.12 _ Sphere\n",
            "_DE_STAT_Fo-0.5_CRo-0.5_D-30_Interv-1000 \n",
            "\n",
            "MÉDIA:  3.676322531634621e-15\n",
            "MIN __: 6.216892699883067e-16\n",
            "MAX__:  1.521318668739515e-14\n",
            "STD __: 3.1763371713590677e-15\n",
            "Tempo Médio= 9.356 segundos ---\n",
            "50 Rodadas\n",
            "\n",
            "BEST:  [ 6.08355391e-10 -3.17865584e-09  5.40380466e-09 -2.29767879e-09\n",
            "  2.87905250e-09  5.13292417e-09  2.36166461e-09 -2.16766685e-10\n",
            " -5.92530479e-09  9.54020021e-09 -3.08819211e-10 -4.99870202e-09\n",
            "  1.30733161e-09  8.01818832e-10  3.17289790e-09  2.04124141e-09\n",
            " -2.75002996e-09 -2.84911995e-09 -3.11314885e-09 -1.10831503e-08\n",
            "  5.02559674e-09 -2.18671573e-09  7.37554744e-09  1.08524110e-09\n",
            " -3.43710458e-10 -3.84536062e-09 -1.75152841e-09 -3.57398731e-09\n",
            " -7.14067960e-09  7.28856787e-09  6.21689270e-16]\n"
          ],
          "name": "stdout"
        }
      ]
    }
  ]
}