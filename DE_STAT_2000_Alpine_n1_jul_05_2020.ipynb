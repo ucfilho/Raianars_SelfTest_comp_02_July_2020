{
  "nbformat": 4,
  "nbformat_minor": 0,
  "metadata": {
    "accelerator": "GPU",
    "colab": {
      "name": "DE_STAT_2000_Alpine_n1_jul_05_2020.ipynb",
      "provenance": [],
      "collapsed_sections": [],
      "include_colab_link": true
    },
    "kernelspec": {
      "display_name": "Python 3",
      "language": "python",
      "name": "python3"
    },
    "language_info": {
      "codemirror_mode": {
        "name": "ipython",
        "version": 3
      },
      "file_extension": ".py",
      "mimetype": "text/x-python",
      "name": "python",
      "nbconvert_exporter": "python",
      "pygments_lexer": "ipython3",
      "version": "3.6.1"
    }
  },
  "cells": [
    {
      "cell_type": "markdown",
      "metadata": {
        "id": "view-in-github",
        "colab_type": "text"
      },
      "source": [
        "<a href=\"https://colab.research.google.com/github/ucfilho/Raianars_SelfTest_comp_02_July_2020/blob/master/DE_STAT_2000_Alpine_n1_jul_05_2020.ipynb\" target=\"_parent\"><img src=\"https://colab.research.google.com/assets/colab-badge.svg\" alt=\"Open In Colab\"/></a>"
      ]
    },
    {
      "cell_type": "code",
      "metadata": {
        "colab_type": "code",
        "id": "cG5nOUQ9Eucw",
        "colab": {}
      },
      "source": [
        "# Noisy_Quartic\n",
        "# In the paper Ngen=3000 NPAR=100 RUNS=50 dim=30\n",
        "# JADE: Adaptive Differential Evolution with Optional External Archive\n"
      ],
      "execution_count": 1,
      "outputs": []
    },
    {
      "cell_type": "code",
      "metadata": {
        "colab_type": "code",
        "id": "v1OxgXboBKoG",
        "colab": {}
      },
      "source": [
        "import time\n",
        "import matplotlib.pyplot as plt\n",
        "import numpy as np\n",
        "from random import randint"
      ],
      "execution_count": 2,
      "outputs": []
    },
    {
      "cell_type": "code",
      "metadata": {
        "id": "qMRpE0dGULCI",
        "colab_type": "code",
        "colab": {
          "base_uri": "https://localhost:8080/",
          "height": 158
        },
        "outputId": "d242fdc1-429f-433d-df96-23f44e726532"
      },
      "source": [
        "!git clone https://github.com/ucfilho/Raianars_July_2020 #clonar do Github\n",
        "%cd Raianars_July_2020"
      ],
      "execution_count": 3,
      "outputs": [
        {
          "output_type": "stream",
          "text": [
            "Cloning into 'Raianars_July_2020'...\n",
            "remote: Enumerating objects: 9, done.\u001b[K\n",
            "remote: Counting objects:  11% (1/9)\u001b[K\rremote: Counting objects:  22% (2/9)\u001b[K\rremote: Counting objects:  33% (3/9)\u001b[K\rremote: Counting objects:  44% (4/9)\u001b[K\rremote: Counting objects:  55% (5/9)\u001b[K\rremote: Counting objects:  66% (6/9)\u001b[K\rremote: Counting objects:  77% (7/9)\u001b[K\rremote: Counting objects:  88% (8/9)\u001b[K\rremote: Counting objects: 100% (9/9)\u001b[K\rremote: Counting objects: 100% (9/9), done.\u001b[K\n",
            "remote: Compressing objects:  11% (1/9)\u001b[K\rremote: Compressing objects:  22% (2/9)\u001b[K\rremote: Compressing objects:  33% (3/9)\u001b[K\rremote: Compressing objects:  44% (4/9)\u001b[K\rremote: Compressing objects:  55% (5/9)\u001b[K\rremote: Compressing objects:  66% (6/9)\u001b[K\rremote: Compressing objects:  77% (7/9)\u001b[K\rremote: Compressing objects:  88% (8/9)\u001b[K\rremote: Compressing objects: 100% (9/9)\u001b[K\rremote: Compressing objects: 100% (9/9), done.\u001b[K\n",
            "Receiving objects:   0% (1/132)   \rReceiving objects:   1% (2/132)   \rReceiving objects:   2% (3/132)   \rReceiving objects:   3% (4/132)   \rReceiving objects:   4% (6/132)   \rReceiving objects:   5% (7/132)   \rReceiving objects:   6% (8/132)   \rReceiving objects:   7% (10/132)   \rReceiving objects:   8% (11/132)   \rReceiving objects:   9% (12/132)   \rReceiving objects:  10% (14/132)   \rReceiving objects:  11% (15/132)   \rReceiving objects:  12% (16/132)   \rReceiving objects:  13% (18/132)   \rReceiving objects:  14% (19/132)   \rReceiving objects:  15% (20/132)   \rReceiving objects:  16% (22/132)   \rReceiving objects:  17% (23/132)   \rReceiving objects:  18% (24/132)   \rReceiving objects:  19% (26/132)   \rReceiving objects:  20% (27/132)   \rReceiving objects:  21% (28/132)   \rReceiving objects:  22% (30/132)   \rReceiving objects:  23% (31/132)   \rReceiving objects:  24% (32/132)   \rReceiving objects:  25% (33/132)   \rReceiving objects:  26% (35/132)   \rReceiving objects:  27% (36/132)   \rReceiving objects:  28% (37/132)   \rReceiving objects:  29% (39/132)   \rReceiving objects:  30% (40/132)   \rReceiving objects:  31% (41/132)   \rReceiving objects:  32% (43/132)   \rReceiving objects:  33% (44/132)   \rReceiving objects:  34% (45/132)   \rReceiving objects:  35% (47/132)   \rReceiving objects:  36% (48/132)   \rReceiving objects:  37% (49/132)   \rReceiving objects:  38% (51/132)   \rremote: Total 132 (delta 3), reused 0 (delta 0), pack-reused 123\u001b[K\n",
            "Receiving objects:  39% (52/132)   \rReceiving objects:  40% (53/132)   \rReceiving objects:  41% (55/132)   \rReceiving objects:  42% (56/132)   \rReceiving objects:  43% (57/132)   \rReceiving objects:  44% (59/132)   \rReceiving objects:  45% (60/132)   \rReceiving objects:  46% (61/132)   \rReceiving objects:  47% (63/132)   \rReceiving objects:  48% (64/132)   \rReceiving objects:  49% (65/132)   \rReceiving objects:  50% (66/132)   \rReceiving objects:  51% (68/132)   \rReceiving objects:  52% (69/132)   \rReceiving objects:  53% (70/132)   \rReceiving objects:  54% (72/132)   \rReceiving objects:  55% (73/132)   \rReceiving objects:  56% (74/132)   \rReceiving objects:  57% (76/132)   \rReceiving objects:  58% (77/132)   \rReceiving objects:  59% (78/132)   \rReceiving objects:  60% (80/132)   \rReceiving objects:  61% (81/132)   \rReceiving objects:  62% (82/132)   \rReceiving objects:  63% (84/132)   \rReceiving objects:  64% (85/132)   \rReceiving objects:  65% (86/132)   \rReceiving objects:  66% (88/132)   \rReceiving objects:  67% (89/132)   \rReceiving objects:  68% (90/132)   \rReceiving objects:  69% (92/132)   \rReceiving objects:  70% (93/132)   \rReceiving objects:  71% (94/132)   \rReceiving objects:  72% (96/132)   \rReceiving objects:  73% (97/132)   \rReceiving objects:  74% (98/132)   \rReceiving objects:  75% (99/132)   \rReceiving objects:  76% (101/132)   \rReceiving objects:  77% (102/132)   \rReceiving objects:  78% (103/132)   \rReceiving objects:  79% (105/132)   \rReceiving objects:  80% (106/132)   \rReceiving objects:  81% (107/132)   \rReceiving objects:  82% (109/132)   \rReceiving objects:  83% (110/132)   \rReceiving objects:  84% (111/132)   \rReceiving objects:  85% (113/132)   \rReceiving objects:  86% (114/132)   \rReceiving objects:  87% (115/132)   \rReceiving objects:  88% (117/132)   \rReceiving objects:  89% (118/132)   \rReceiving objects:  90% (119/132)   \rReceiving objects:  91% (121/132)   \rReceiving objects:  92% (122/132)   \rReceiving objects:  93% (123/132)   \rReceiving objects:  94% (125/132)   \rReceiving objects:  95% (126/132)   \rReceiving objects:  96% (127/132)   \rReceiving objects:  97% (129/132)   \rReceiving objects:  98% (130/132)   \rReceiving objects:  99% (131/132)   \rReceiving objects: 100% (132/132)   \rReceiving objects: 100% (132/132), 200.33 KiB | 6.26 MiB/s, done.\n",
            "Resolving deltas:   0% (0/65)   \rResolving deltas:   9% (6/65)   \rResolving deltas:  61% (40/65)   \rResolving deltas:  75% (49/65)   \rResolving deltas:  78% (51/65)   \rResolving deltas:  84% (55/65)   \rResolving deltas:  86% (56/65)   \rResolving deltas:  90% (59/65)   \rResolving deltas:  95% (62/65)   \rResolving deltas: 100% (65/65)   \rResolving deltas: 100% (65/65), done.\n",
            "/content/Raianars_July_2020\n"
          ],
          "name": "stdout"
        }
      ]
    },
    {
      "cell_type": "code",
      "metadata": {
        "colab_type": "code",
        "id": "_E15mKFURR6O",
        "colab": {}
      },
      "source": [
        "import de_soma_Insight\n",
        "import de_bounds_matriz\n",
        "import Function\n",
        "import Go2MinMax\n",
        "from AvaliaX import AvaliaX\n",
        "\n",
        "\n",
        "############################### DADOS DE ENTRADA \n",
        "RUNS=50 #NÚMERO DE RODADAS\n",
        "its=1 #10 # quantas vezes vai usar o NPAR antes de alterar de novo\n",
        "ITE=2000 #10 # PONTOS quantas vezes vai alteral NPAR \n",
        "NPAR=100\n",
        "\n",
        "mut=0.5\n",
        "crossp=0.5\n",
        "dim=30\n",
        "\n",
        "#fchoice='Rastrigin' #fchoice='Michalewicz' #fchoice='Schwefel'\n",
        "fchoice='Alpine_n1'  \n",
        "Fun=Function.Alpine_n1\n",
        "\n",
        "MIN,MAX=Go2MinMax.Intervalo(dim,fchoice)\n",
        "\n",
        "TOTAL=10*dim*its*ITE\n",
        "SOMA=0"
      ],
      "execution_count": 4,
      "outputs": []
    },
    {
      "cell_type": "code",
      "metadata": {
        "colab_type": "code",
        "id": "rnX8ttNopd1G",
        "colab": {
          "base_uri": "https://localhost:8080/",
          "height": 905
        },
        "outputId": "674ceaa9-eb4a-4398-9a9b-0525d08fb566"
      },
      "source": [
        "start_time = time.time()\n",
        "BEST_AGENTS=[]\n",
        "MAT_stat=[]\n",
        "\n",
        "for i in range(RUNS):\n",
        "\n",
        "    pop = np.random.rand(NPAR, dim)\n",
        "    diff=np.zeros(dim)\n",
        "    for ii in range(dim):\n",
        "      diff[ii] = MAX[ii]-MIN[ii]\n",
        "    X = MIN + pop * diff\n",
        "\n",
        "    SOMA=0\n",
        "\n",
        "    for k in range(ITE):\n",
        "      X,BEST,FOBEST,XY,BEST_XY,SOMA= de_soma_Insight.de(MAX,MIN, mut, crossp,dim,its,Fun,X,SOMA,TOTAL)\n",
        "\n",
        "    start_run = (time.time()-start_time)/60\n",
        "    print('run=',i,'total=50','Fobj=',FOBEST,'Time=',start_run)  \n",
        "    BEST_AGENTS.append(BEST_XY)"
      ],
      "execution_count": 5,
      "outputs": [
        {
          "output_type": "stream",
          "text": [
            "run= 0 total=50 Fobj= 0.016232471486449962 Time= 0.4759551763534546\n",
            "run= 1 total=50 Fobj= 0.011287883933686458 Time= 0.9526506106058756\n",
            "run= 2 total=50 Fobj= 0.009839681900188815 Time= 1.4284325003623963\n",
            "run= 3 total=50 Fobj= 0.016726989700884258 Time= 1.900097167491913\n",
            "run= 4 total=50 Fobj= 0.015383203162125084 Time= 2.3690077861150107\n",
            "run= 5 total=50 Fobj= 0.013463321101319021 Time= 2.8385218540827433\n",
            "run= 6 total=50 Fobj= 0.019066636362069143 Time= 3.308630283673604\n",
            "run= 7 total=50 Fobj= 0.007504212267293546 Time= 3.7791281898816425\n",
            "run= 8 total=50 Fobj= 0.0021563365915889254 Time= 4.250302032629649\n",
            "run= 9 total=50 Fobj= 0.011432960629190829 Time= 4.720170092582703\n",
            "run= 10 total=50 Fobj= 0.012943647855971638 Time= 5.190331145127614\n",
            "run= 11 total=50 Fobj= 0.01546103208194053 Time= 5.66242466767629\n",
            "run= 12 total=50 Fobj= 0.013546927601988668 Time= 6.1330574949582415\n",
            "run= 13 total=50 Fobj= 0.0046371748124758565 Time= 6.605976895491282\n",
            "run= 14 total=50 Fobj= 0.01350248705568008 Time= 7.0789452989896136\n",
            "run= 15 total=50 Fobj= 0.005353255573917981 Time= 7.548282905419668\n",
            "run= 16 total=50 Fobj= 0.008187098151546626 Time= 8.018505887190502\n",
            "run= 17 total=50 Fobj= 0.013483443389669008 Time= 8.486997683842977\n",
            "run= 18 total=50 Fobj= 0.016509478423436186 Time= 8.956484051545461\n",
            "run= 19 total=50 Fobj= 0.014716681763620475 Time= 9.425256268183391\n",
            "run= 20 total=50 Fobj= 0.00992416343200485 Time= 9.894804612795513\n",
            "run= 21 total=50 Fobj= 0.013376176094721923 Time= 10.364885087807973\n",
            "run= 22 total=50 Fobj= 0.00961164231152546 Time= 10.836864403883617\n",
            "run= 23 total=50 Fobj= 0.015564065042108865 Time= 11.309951686859131\n",
            "run= 24 total=50 Fobj= 0.0081707598041298 Time= 11.78190686305364\n",
            "run= 25 total=50 Fobj= 0.01715005927192402 Time= 12.25264007250468\n",
            "run= 26 total=50 Fobj= 0.00819381983930595 Time= 12.722098553180695\n",
            "run= 27 total=50 Fobj= 0.013295577153067395 Time= 13.192307798067729\n",
            "run= 28 total=50 Fobj= 0.01752937819480907 Time= 13.663056910037994\n",
            "run= 29 total=50 Fobj= 0.00622011501493418 Time= 14.133630295594534\n",
            "run= 30 total=50 Fobj= 0.013030053296855217 Time= 14.60218858718872\n",
            "run= 31 total=50 Fobj= 0.013929778326639978 Time= 15.073322327931722\n",
            "run= 32 total=50 Fobj= 0.011939976829543297 Time= 15.543721000353495\n",
            "run= 33 total=50 Fobj= 1.3322991546833352e-05 Time= 16.014493501186372\n",
            "run= 34 total=50 Fobj= 0.014237246187459161 Time= 16.484320414066314\n",
            "run= 35 total=50 Fobj= 0.0009093664659440638 Time= 16.955189267794292\n",
            "run= 36 total=50 Fobj= 0.006623165092925762 Time= 17.42376583814621\n",
            "run= 37 total=50 Fobj= 0.007369425513358467 Time= 17.89484099149704\n",
            "run= 38 total=50 Fobj= 0.01492319144061795 Time= 18.364575437704723\n",
            "run= 39 total=50 Fobj= 0.013366196226513152 Time= 18.836710453033447\n",
            "run= 40 total=50 Fobj= 0.009628274199264604 Time= 19.31006530125936\n",
            "run= 41 total=50 Fobj= 0.017507577657895103 Time= 19.780088265736897\n",
            "run= 42 total=50 Fobj= 0.008820054520980395 Time= 20.250801912943523\n",
            "run= 43 total=50 Fobj= 0.006554121591634513 Time= 20.71951692501704\n",
            "run= 44 total=50 Fobj= 0.015115770209972281 Time= 21.190509514013925\n",
            "run= 45 total=50 Fobj= 0.004887016607446418 Time= 21.659818275769553\n",
            "run= 46 total=50 Fobj= 0.0141092346337653 Time= 22.133509345849355\n",
            "run= 47 total=50 Fobj= 0.007180442559758103 Time= 22.60341410636902\n",
            "run= 48 total=50 Fobj= 0.009729409975113769 Time= 23.075548175970713\n",
            "run= 49 total=50 Fobj= 0.015420360897560553 Time= 23.546260412534078\n"
          ],
          "name": "stdout"
        }
      ]
    },
    {
      "cell_type": "code",
      "metadata": {
        "colab_type": "code",
        "id": "lNSN5X-wskcx",
        "colab": {
          "base_uri": "https://localhost:8080/",
          "height": 336
        },
        "outputId": "8761a6b1-7b92-46e0-bcd7-57071f8493eb"
      },
      "source": [
        "############################## Cálculo dos Parâmetros de Avaliação   \n",
        "TIME = (time.time() - start_time)/RUNS\n",
        "BEST_AGENTS=np.array(BEST_AGENTS)\n",
        "BEST_AGENTS_ST= BEST_AGENTS[BEST_AGENTS[:,-1].argsort()]\n",
        "BEST=BEST_AGENTS_ST[0]\n",
        "WORSE=BEST_AGENTS_ST[-1]\n",
        "MEAN=np.mean(BEST_AGENTS,axis=0)\n",
        "MAXFO=BEST_AGENTS[:,-1].max()\n",
        "MINFO=BEST_AGENTS[:,-1].min()\n",
        "STD=BEST_AGENTS[:,-1].std()\n",
        "\n",
        "nome='_DE_STAT_Fo-'+str(mut)+'_CRo-'+str(crossp)+'_D-'+str(dim)+'_Interv-'+str(ITE)\n",
        "print('DE_POP_VAR_F_CR','TOTAL=',TOTAL,'Iterações=',ITE*its,'Dim=', dim,\"Min/Max=\",MIN[0],\"/\",MAX[0],'_',Fun.__name__)\n",
        "print(nome, '\\n')\n",
        "#print('BEST: ',BEST)\n",
        "#print('MÉDIA: ',MEAN)\n",
        "print('MÉDIA: ',MEAN[-1])\n",
        "print('MIN __:',MINFO)\n",
        "print('MAX__: ',MAXFO)\n",
        "print('STD __:',STD)\n",
        "print(\"Tempo Médio= %.3f segundos ---\" % (TIME))\n",
        "print(RUNS,'Rodadas') \n",
        "print()\n",
        "print('BEST: ',BEST)\n",
        "# print('melhor=',BEST_AGENTS[BEST_INDEX])"
      ],
      "execution_count": 6,
      "outputs": [
        {
          "output_type": "stream",
          "text": [
            "DE_POP_VAR_F_CR TOTAL= 600000 Iterações= 2000 Dim= 30 Min/Max= -10 / 10 _ Alpine_n1\n",
            "_DE_STAT_Fo-0.5_CRo-0.5_D-30_Interv-2000 \n",
            "\n",
            "MÉDIA:  0.01131529330456739\n",
            "MIN __: 1.3322991546833352e-05\n",
            "MAX__:  0.019066636362069143\n",
            "STD __: 0.004532233981375997\n",
            "Tempo Médio= 28.256 segundos ---\n",
            "50 Rodadas\n",
            "\n",
            "BEST:  [-1.00169974e-01 -1.00168881e-01  2.15557581e-06 -1.00172524e-01\n",
            " -1.00173746e-01  1.56455352e-05  2.83908158e-06 -1.00164035e-01\n",
            " -1.00177863e-01  1.34634963e-06 -1.00171421e-01 -1.00169354e-01\n",
            " -5.92260675e-06 -1.00171201e-01  2.88095408e-06 -3.18580231e-06\n",
            " -1.00166711e-01 -1.00166412e-01 -1.00164645e-01 -4.94767529e-07\n",
            " -1.15895942e-05  1.85042260e-06 -1.00164814e-01 -1.00171058e-01\n",
            " -1.00154717e-01 -2.17845010e-06 -9.11322297e-06 -1.00171805e-01\n",
            " -1.00166038e-01 -1.00173506e-01  1.33229915e-05]\n"
          ],
          "name": "stdout"
        }
      ]
    }
  ]
}