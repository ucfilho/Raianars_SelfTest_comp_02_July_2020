{
  "nbformat": 4,
  "nbformat_minor": 0,
  "metadata": {
    "accelerator": "GPU",
    "colab": {
      "name": "DE_STAT_2000_Alpine_n1_jul_05_2020.ipynb",
      "provenance": [],
      "collapsed_sections": [],
      "include_colab_link": true
    },
    "kernelspec": {
      "display_name": "Python 3",
      "language": "python",
      "name": "python3"
    },
    "language_info": {
      "codemirror_mode": {
        "name": "ipython",
        "version": 3
      },
      "file_extension": ".py",
      "mimetype": "text/x-python",
      "name": "python",
      "nbconvert_exporter": "python",
      "pygments_lexer": "ipython3",
      "version": "3.6.1"
    }
  },
  "cells": [
    {
      "cell_type": "markdown",
      "metadata": {
        "id": "view-in-github",
        "colab_type": "text"
      },
      "source": [
        "<a href=\"https://colab.research.google.com/github/ucfilho/Raianars_SelfTest_comp_02_July_2020/blob/master/DE_STAT_2000_Alpine_n1_jul_05_2020.ipynb\" target=\"_parent\"><img src=\"https://colab.research.google.com/assets/colab-badge.svg\" alt=\"Open In Colab\"/></a>"
      ]
    },
    {
      "cell_type": "code",
      "metadata": {
        "colab_type": "code",
        "id": "cG5nOUQ9Eucw",
        "colab": {}
      },
      "source": [
        "# Noisy_Quartic\n",
        "# In the paper Ngen=3000 NPAR=100 RUNS=50 dim=30\n",
        "# JADE: Adaptive Differential Evolution with Optional External Archive\n"
      ],
      "execution_count": 1,
      "outputs": []
    },
    {
      "cell_type": "code",
      "metadata": {
        "colab_type": "code",
        "id": "v1OxgXboBKoG",
        "colab": {}
      },
      "source": [
        "import time\n",
        "import matplotlib.pyplot as plt\n",
        "import numpy as np\n",
        "from random import randint"
      ],
      "execution_count": 2,
      "outputs": []
    },
    {
      "cell_type": "code",
      "metadata": {
        "id": "qMRpE0dGULCI",
        "colab_type": "code",
        "colab": {
          "base_uri": "https://localhost:8080/",
          "height": 54
        },
        "outputId": "861869a9-e038-4b49-e1ab-0da3a8a73da3"
      },
      "source": [
        "!git clone https://github.com/ucfilho/Raianars_July_2020 #clonar do Github\n",
        "%cd Raianars_July_2020"
      ],
      "execution_count": 3,
      "outputs": [
        {
          "output_type": "stream",
          "text": [
            "fatal: destination path 'Raianars_July_2020' already exists and is not an empty directory.\n",
            "/content/Raianars_July_2020\n"
          ],
          "name": "stdout"
        }
      ]
    },
    {
      "cell_type": "code",
      "metadata": {
        "colab_type": "code",
        "id": "_E15mKFURR6O",
        "colab": {}
      },
      "source": [
        "import de_soma_Insight\n",
        "import de_bounds_matriz\n",
        "import Function\n",
        "import Go2MinMax\n",
        "from AvaliaX import AvaliaX\n",
        "\n",
        "\n",
        "############################### DADOS DE ENTRADA \n",
        "RUNS=50 #NÚMERO DE RODADAS\n",
        "its=1 #10 # quantas vezes vai usar o NPAR antes de alterar de novo\n",
        "ITE=2000 #10 # PONTOS quantas vezes vai alteral NPAR \n",
        "NPAR=100\n",
        "\n",
        "mut=0.5\n",
        "crossp=0.5\n",
        "dim=30\n",
        "\n",
        "#fchoice='Rastrigin' #fchoice='Michalewicz' #fchoice='Schwefel'\n",
        "fchoice='Alpine_n1'  \n",
        "Fun=Function.Alpine_n1\n",
        "\n",
        "MIN,MAX=Go2MinMax.Intervalo(dim,fchoice)\n",
        "\n",
        "TOTAL=10*dim*its*ITE\n",
        "SOMA=0"
      ],
      "execution_count": 4,
      "outputs": []
    },
    {
      "cell_type": "code",
      "metadata": {
        "colab_type": "code",
        "id": "rnX8ttNopd1G",
        "colab": {
          "base_uri": "https://localhost:8080/",
          "height": 926
        },
        "outputId": "7440f84d-0b39-48cc-ea4b-82868d23a77b"
      },
      "source": [
        "start_time = time.time()\n",
        "BEST_AGENTS=[]\n",
        "MAT_stat=[]\n",
        "\n",
        "for i in range(RUNS):\n",
        "\n",
        "    pop = np.random.rand(NPAR, dim)\n",
        "    diff=np.zeros(dim)\n",
        "    for ii in range(dim):\n",
        "      diff[ii] = MAX[ii]-MIN[ii]\n",
        "    X = MIN + pop * diff\n",
        "\n",
        "    for k in range(ITE):\n",
        "      X,BEST,FOBEST,XY,BEST_XY,SOMA= de_soma_Insight.de(MAX,MIN, mut, crossp,dim,its,Fun,X,SOMA,TOTAL)\n",
        "\n",
        "    start_run = (time.time()-start_time)/60\n",
        "    print('run=',i,'total=50','Fobj=',FOBEST,'Time=',start_run)  \n",
        "    BEST_AGENTS.append(BEST_XY)"
      ],
      "execution_count": 5,
      "outputs": [
        {
          "output_type": "stream",
          "text": [
            "run= 0 total=50 Fobj= 0.009687821469627548 Time= 0.42735318740208944\n",
            "run= 1 total=50 Fobj= 0.014312478390460697 Time= 0.8519939541816711\n",
            "run= 2 total=50 Fobj= 0.01761025907980023 Time= 1.2743993719418845\n",
            "run= 3 total=50 Fobj= 0.010078417656157445 Time= 1.6955899874369302\n",
            "run= 4 total=50 Fobj= 0.003833716191078339 Time= 2.1191409667332968\n",
            "run= 5 total=50 Fobj= 0.014149339772755653 Time= 2.5397631963094076\n",
            "run= 6 total=50 Fobj= 0.013288007309505924 Time= 2.95871026913325\n",
            "run= 7 total=50 Fobj= 0.011467075714638583 Time= 3.37989368836085\n",
            "run= 8 total=50 Fobj= 0.01428091522579639 Time= 3.803003474076589\n",
            "run= 9 total=50 Fobj= 0.0061642568408491905 Time= 4.225565099716187\n",
            "run= 10 total=50 Fobj= 71.36399837267192 Time= 4.46805350780487\n",
            "run= 11 total=50 Fobj= 66.97869153668763 Time= 4.7131767471631365\n",
            "run= 12 total=50 Fobj= 62.83022291786719 Time= 4.9573588569959\n",
            "run= 13 total=50 Fobj= 53.999582475697295 Time= 5.199689205487569\n",
            "run= 14 total=50 Fobj= 56.03128152388826 Time= 5.449404768149058\n",
            "run= 15 total=50 Fobj= 68.55418451448953 Time= 5.69553097486496\n",
            "run= 16 total=50 Fobj= 75.90811942342029 Time= 5.940896372000377\n",
            "run= 17 total=50 Fobj= 67.08632085518269 Time= 6.184929740428925\n",
            "run= 18 total=50 Fobj= 58.5028773580591 Time= 6.428557058175405\n",
            "run= 19 total=50 Fobj= 60.29489155605535 Time= 6.6717493613561\n",
            "run= 20 total=50 Fobj= 62.02054137096985 Time= 6.916714962323507\n",
            "run= 21 total=50 Fobj= 62.390174525657564 Time= 7.1598244706789655\n",
            "run= 22 total=50 Fobj= 61.31500209407955 Time= 7.405095259348552\n",
            "run= 23 total=50 Fobj= 67.79161408391097 Time= 7.64753391345342\n",
            "run= 24 total=50 Fobj= 68.68166318995046 Time= 7.891428768634796\n",
            "run= 25 total=50 Fobj= 66.39639795665116 Time= 8.132134854793549\n",
            "run= 26 total=50 Fobj= 64.74735866615707 Time= 8.374499527613322\n",
            "run= 27 total=50 Fobj= 58.80990731004497 Time= 8.616161453723908\n",
            "run= 28 total=50 Fobj= 73.87305926604758 Time= 8.860741206010182\n",
            "run= 29 total=50 Fobj= 59.63121317351942 Time= 9.104044075806936\n",
            "run= 30 total=50 Fobj= 58.22994933439839 Time= 9.347545007864634\n",
            "run= 31 total=50 Fobj= 73.5473212018879 Time= 9.589670582612355\n",
            "run= 32 total=50 Fobj= 74.73522819250866 Time= 9.830765676498412\n",
            "run= 33 total=50 Fobj= 60.91176863300095 Time= 10.075923752784728\n",
            "run= 34 total=50 Fobj= 56.148730269837195 Time= 10.320313048362731\n",
            "run= 35 total=50 Fobj= 60.68262650185062 Time= 10.566742090384166\n",
            "run= 36 total=50 Fobj= 60.85314468905349 Time= 10.814353370666504\n",
            "run= 37 total=50 Fobj= 75.3483722551784 Time= 11.058911879857382\n",
            "run= 38 total=50 Fobj= 56.44499085629823 Time= 11.30138209660848\n",
            "run= 39 total=50 Fobj= 61.72547456247673 Time= 11.547162342071534\n",
            "run= 40 total=50 Fobj= 62.78929034008416 Time= 11.788907877604167\n",
            "run= 41 total=50 Fobj= 55.781320887211066 Time= 12.03315727710724\n",
            "run= 42 total=50 Fobj= 60.26240831921306 Time= 12.27572611172994\n",
            "run= 43 total=50 Fobj= 57.13324367268061 Time= 12.521211822827658\n",
            "run= 44 total=50 Fobj= 64.89250599636061 Time= 12.767992583910624\n",
            "run= 45 total=50 Fobj= 61.28641260154105 Time= 13.010048464934032\n",
            "run= 46 total=50 Fobj= 51.95569797419606 Time= 13.253916450341542\n",
            "run= 47 total=50 Fobj= 63.28422667009413 Time= 13.494980716705323\n",
            "run= 48 total=50 Fobj= 71.4885412956366 Time= 13.735915354887645\n",
            "run= 49 total=50 Fobj= 64.45363029422977 Time= 13.977051691214244\n"
          ],
          "name": "stdout"
        }
      ]
    },
    {
      "cell_type": "code",
      "metadata": {
        "colab_type": "code",
        "id": "lNSN5X-wskcx",
        "colab": {
          "base_uri": "https://localhost:8080/",
          "height": 308
        },
        "outputId": "5acc583c-cd5f-440e-a270-63cfa219e53f"
      },
      "source": [
        "############################## Cálculo dos Parâmetros de Avaliação   \n",
        "TIME = (time.time() - start_time)/RUNS\n",
        "BEST_AGENTS=np.array(BEST_AGENTS)\n",
        "BEST_AGENTS_ST= BEST_AGENTS[BEST_AGENTS[:,-1].argsort()]\n",
        "BEST=BEST_AGENTS_ST[0]\n",
        "WORSE=BEST_AGENTS_ST[-1]\n",
        "MEAN=np.mean(BEST_AGENTS,axis=0)\n",
        "MAXFO=BEST_AGENTS[:,-1].max()\n",
        "MINFO=BEST_AGENTS[:,-1].min()\n",
        "STD=BEST_AGENTS[:,-1].std()\n",
        "\n",
        "nome='_DE_STAT_Fo-'+str(mut)+'_CRo-'+str(crossp)+'_D-'+str(dim)+'_Interv-'+str(ITE)\n",
        "print('DE_POP_VAR_F_CR','TOTAL=',TOTAL,'Iterações=',ITE*its,'Dim=', dim,\"Min/Max=\",MIN[0],\"/\",MAX[0],'_',Fun.__name__)\n",
        "print(nome, '\\n')\n",
        "#print('BEST: ',BEST)\n",
        "#print('MÉDIA: ',MEAN)\n",
        "print('MÉDIA: ',MEAN[-1])\n",
        "print('MIN __:',MINFO)\n",
        "print('MAX__: ',MAXFO)\n",
        "print('STD __:',STD)\n",
        "print(\"Tempo Médio= %.3f segundos ---\" % (TIME))\n",
        "print(RUNS,'Rodadas') \n",
        "print()\n",
        "print('BEST: ',BEST)\n",
        "# print('melhor=',BEST_AGENTS[BEST_INDEX])"
      ],
      "execution_count": 6,
      "outputs": [
        {
          "output_type": "stream",
          "text": [
            "DE_POP_VAR_F_CR TOTAL= 600000 Iterações= 2000 Dim= 30 Min/Max= -10 / 10 _ Alpine_n1\n",
            "_DE_STAT_Fo-0.5_CRo-0.5_D-30_Interv-2000 \n",
            "\n",
            "MÉDIA:  50.785537180127925\n",
            "MIN __: 0.003833716191078339\n",
            "MAX__:  75.90811942342029\n",
            "STD __: 25.969588358112855\n",
            "Tempo Médio= 16.773 segundos ---\n",
            "50 Rodadas\n",
            "\n",
            "BEST:  [ 0.00213042 -0.10002579 -0.0009451  -0.09931656 -0.09566682 -0.09628046\n",
            " -0.10262568 -0.09992778 -0.00281605 -0.00267515  0.00054243  0.0003276\n",
            " -0.10220028 -0.10057943 -0.00234655 -0.00236888 -0.0994487  -0.10056118\n",
            " -0.10067362  0.00194803 -0.00043412 -0.10118732 -0.09973872 -0.10226132\n",
            " -0.10043246 -0.10007391 -0.10034853 -0.10075003  0.00035624 -0.00110707\n",
            "  0.00383372]\n"
          ],
          "name": "stdout"
        }
      ]
    }
  ]
}