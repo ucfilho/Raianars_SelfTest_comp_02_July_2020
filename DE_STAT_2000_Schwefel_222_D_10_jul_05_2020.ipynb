{
  "nbformat": 4,
  "nbformat_minor": 0,
  "metadata": {
    "accelerator": "GPU",
    "colab": {
      "name": "DE_STAT_2000_Schwefel_222_D_10_jul_05_2020.ipynb",
      "provenance": [],
      "collapsed_sections": [],
      "include_colab_link": true
    },
    "kernelspec": {
      "display_name": "Python 3",
      "language": "python",
      "name": "python3"
    },
    "language_info": {
      "codemirror_mode": {
        "name": "ipython",
        "version": 3
      },
      "file_extension": ".py",
      "mimetype": "text/x-python",
      "name": "python",
      "nbconvert_exporter": "python",
      "pygments_lexer": "ipython3",
      "version": "3.6.1"
    }
  },
  "cells": [
    {
      "cell_type": "markdown",
      "metadata": {
        "id": "view-in-github",
        "colab_type": "text"
      },
      "source": [
        "<a href=\"https://colab.research.google.com/github/ucfilho/Raianars_SelfTest_comp_02_July_2020/blob/master/DE_STAT_2000_Schwefel_222_D_10_jul_05_2020.ipynb\" target=\"_parent\"><img src=\"https://colab.research.google.com/assets/colab-badge.svg\" alt=\"Open In Colab\"/></a>"
      ]
    },
    {
      "cell_type": "code",
      "metadata": {
        "colab_type": "code",
        "id": "cG5nOUQ9Eucw",
        "colab": {}
      },
      "source": [
        "# Noisy_Quartic\n",
        "# In the paper Ngen=3000 NPAR=100 RUNS=50 dim=30\n",
        "# JADE: Adaptive Differential Evolution with Optional External Archive\n"
      ],
      "execution_count": 1,
      "outputs": []
    },
    {
      "cell_type": "code",
      "metadata": {
        "colab_type": "code",
        "id": "v1OxgXboBKoG",
        "colab": {}
      },
      "source": [
        "import time\n",
        "import matplotlib.pyplot as plt\n",
        "import numpy as np\n",
        "from random import randint"
      ],
      "execution_count": 2,
      "outputs": []
    },
    {
      "cell_type": "code",
      "metadata": {
        "id": "qMRpE0dGULCI",
        "colab_type": "code",
        "colab": {
          "base_uri": "https://localhost:8080/",
          "height": 158
        },
        "outputId": "96810aea-b594-4700-977b-77b2f7c61b82"
      },
      "source": [
        "!git clone https://github.com/ucfilho/Raianars_July_2020 #clonar do Github\n",
        "%cd Raianars_July_2020"
      ],
      "execution_count": 3,
      "outputs": [
        {
          "output_type": "stream",
          "text": [
            "Cloning into 'Raianars_July_2020'...\n",
            "remote: Enumerating objects: 15, done.\u001b[K\n",
            "remote: Counting objects: 100% (15/15), done.\u001b[K\n",
            "remote: Compressing objects: 100% (15/15), done.\u001b[K\n",
            "remote: Total 138 (delta 7), reused 0 (delta 0), pack-reused 123\u001b[K\n",
            "Receiving objects: 100% (138/138), 201.58 KiB | 969.00 KiB/s, done.\n",
            "Resolving deltas: 100% (69/69), done.\n",
            "/content/Raianars_July_2020\n"
          ],
          "name": "stdout"
        }
      ]
    },
    {
      "cell_type": "code",
      "metadata": {
        "colab_type": "code",
        "id": "_E15mKFURR6O",
        "colab": {}
      },
      "source": [
        "import de_soma_Insight\n",
        "import de_bounds_matriz\n",
        "import Function\n",
        "import Go2MinMax\n",
        "from AvaliaX import AvaliaX\n",
        "\n",
        "\n",
        "############################### DADOS DE ENTRADA \n",
        "RUNS=50 #NÚMERO DE RODADAS\n",
        "its=1 #10 # quantas vezes vai usar o NPAR antes de alterar de novo\n",
        "ITE=2000 #10 # PONTOS quantas vezes vai alteral NPAR \n",
        "NPAR=100\n",
        "\n",
        "mut=0.5\n",
        "crossp=0.5\n",
        "dim=10\n",
        "\n",
        "#fchoice='Rastrigin' #fchoice='Michalewicz' #fchoice='Schwefel'\n",
        "fchoice='Schwefel_222'  \n",
        "Fun=Function.Schwefel_222\n",
        "\n",
        "MIN,MAX=Go2MinMax.Intervalo(dim,fchoice)\n",
        "\n",
        "TOTAL=10*dim*its*ITE\n",
        "SOMA=0"
      ],
      "execution_count": 4,
      "outputs": []
    },
    {
      "cell_type": "code",
      "metadata": {
        "colab_type": "code",
        "id": "rnX8ttNopd1G",
        "colab": {
          "base_uri": "https://localhost:8080/",
          "height": 905
        },
        "outputId": "d0cf6310-2851-4ddb-e339-5662f85c1d33"
      },
      "source": [
        "start_time = time.time()\n",
        "BEST_AGENTS=[]\n",
        "MAT_stat=[]\n",
        "\n",
        "for i in range(RUNS):\n",
        "\n",
        "    pop = np.random.rand(NPAR, dim)\n",
        "    diff=np.zeros(dim)\n",
        "    for ii in range(dim):\n",
        "      diff[ii] = MAX[ii]-MIN[ii]\n",
        "    X = MIN + pop * diff\n",
        "\n",
        "    SOMA=0\n",
        "\n",
        "    for k in range(ITE):\n",
        "      X,BEST,FOBEST,XY,BEST_XY,SOMA= de_soma_Insight.de(MAX,MIN, mut, crossp,dim,its,Fun,X,SOMA,TOTAL)\n",
        "\n",
        "    start_run = (time.time()-start_time)/60\n",
        "    print('run=',i,'total=50','Fobj=',FOBEST,'Time=',start_run)  \n",
        "    BEST_AGENTS.append(BEST_XY)"
      ],
      "execution_count": 5,
      "outputs": [
        {
          "output_type": "stream",
          "text": [
            "run= 0 total=50 Fobj= 3.119972622070274e-12 Time= 0.04651574293772379\n",
            "run= 1 total=50 Fobj= 8.382304712670422e-08 Time= 0.09149772723515828\n",
            "run= 2 total=50 Fobj= 1.674060822533001e-05 Time= 0.1363539457321167\n",
            "run= 3 total=50 Fobj= 4.3621225868857714e-17 Time= 0.18184683322906495\n",
            "run= 4 total=50 Fobj= 0.08647236858827474 Time= 0.2267910083134969\n",
            "run= 5 total=50 Fobj= 9.40821245311882e-08 Time= 0.27124629020690916\n",
            "run= 6 total=50 Fobj= 6.862249647653865e-06 Time= 0.3160143891970317\n",
            "run= 7 total=50 Fobj= 0.2624109818336478 Time= 0.3611565073331197\n",
            "run= 8 total=50 Fobj= 3.177469576585632e-05 Time= 0.4055852731068929\n",
            "run= 9 total=50 Fobj= 0.15974943820686563 Time= 0.4499933401743571\n",
            "run= 10 total=50 Fobj= 0.025232278759549854 Time= 0.4950844407081604\n",
            "run= 11 total=50 Fobj= 0.009343825933394577 Time= 0.5394623041152954\n",
            "run= 12 total=50 Fobj= 3.0881754636308047e-09 Time= 0.5837980667750041\n",
            "run= 13 total=50 Fobj= 9.647186227738531e-08 Time= 0.6279732783635458\n",
            "run= 14 total=50 Fobj= 8.611468500477319e-09 Time= 0.6727497339248657\n",
            "run= 15 total=50 Fobj= 0.18270526116844885 Time= 0.7171823859214783\n",
            "run= 16 total=50 Fobj= 0.0005239786604314565 Time= 0.7613762299219767\n",
            "run= 17 total=50 Fobj= 0.001755048886615967 Time= 0.8059081236521403\n",
            "run= 18 total=50 Fobj= 0.00027445543395398516 Time= 0.8504374702771504\n",
            "run= 19 total=50 Fobj= 6.223700606507626e-07 Time= 0.8950396378835043\n",
            "run= 20 total=50 Fobj= 0.07780513203018866 Time= 0.9392608920733134\n",
            "run= 21 total=50 Fobj= 3.2506699083540774e-09 Time= 0.9836080233256023\n",
            "run= 22 total=50 Fobj= 1.3393909046249192e-09 Time= 1.028085203965505\n",
            "run= 23 total=50 Fobj= 0.0002186518307291374 Time= 1.072796678543091\n",
            "run= 24 total=50 Fobj= 4.477353944169596e-17 Time= 1.1170506040255228\n",
            "run= 25 total=50 Fobj= 0.0009929746638321726 Time= 1.1613029837608337\n",
            "run= 26 total=50 Fobj= 3.1975652228032577e-13 Time= 1.2060331424077353\n",
            "run= 27 total=50 Fobj= 0.001031541371918465 Time= 1.2498552004496257\n",
            "run= 28 total=50 Fobj= 0.1879911421289853 Time= 1.2939250787099204\n",
            "run= 29 total=50 Fobj= 7.234460491027983e-06 Time= 1.338721760114034\n",
            "run= 30 total=50 Fobj= 1.6048496340209127e-09 Time= 1.3833756844202678\n",
            "run= 31 total=50 Fobj= 1.1312654749804787e-14 Time= 1.4277997732162475\n",
            "run= 32 total=50 Fobj= 0.021372372217159912 Time= 1.472129754225413\n",
            "run= 33 total=50 Fobj= 0.019030024628335394 Time= 1.5174317876497905\n",
            "run= 34 total=50 Fobj= 4.1158245278212523e-08 Time= 1.5620513995488485\n",
            "run= 35 total=50 Fobj= 1.4711355493795861e-34 Time= 1.6066096067428588\n",
            "run= 36 total=50 Fobj= 0.0003105066156009265 Time= 1.6513801296552022\n",
            "run= 37 total=50 Fobj= 1.1098446767271304e-11 Time= 1.6961844921112061\n",
            "run= 38 total=50 Fobj= 6.5737034258799385 Time= 1.740665109952291\n",
            "run= 39 total=50 Fobj= 0.0011141853102487047 Time= 1.7852991898854573\n",
            "run= 40 total=50 Fobj= 0.0037921080746254987 Time= 1.8293107509613038\n",
            "run= 41 total=50 Fobj= 8.917024750860658e-05 Time= 1.8737975557645161\n",
            "run= 42 total=50 Fobj= 0.07354914739011306 Time= 1.9175912261009216\n",
            "run= 43 total=50 Fobj= 1.7753794856888605e-05 Time= 1.9615362445513407\n",
            "run= 44 total=50 Fobj= 0.0001608481949422959 Time= 2.006094435850779\n",
            "run= 45 total=50 Fobj= 3.898124415897416e-14 Time= 2.051911211013794\n",
            "run= 46 total=50 Fobj= 0.009433101087771727 Time= 2.096357762813568\n",
            "run= 47 total=50 Fobj= 0.013131475307937086 Time= 2.1404810229937237\n",
            "run= 48 total=50 Fobj= 0.0688927927834089 Time= 2.1839548269907634\n",
            "run= 49 total=50 Fobj= 2.685978190150121e-07 Time= 2.22829448779424\n"
          ],
          "name": "stdout"
        }
      ]
    },
    {
      "cell_type": "code",
      "metadata": {
        "colab_type": "code",
        "id": "lNSN5X-wskcx",
        "colab": {
          "base_uri": "https://localhost:8080/",
          "height": 247
        },
        "outputId": "22947ec9-5d60-4e95-ca60-c7e1ff8490aa"
      },
      "source": [
        "############################## Cálculo dos Parâmetros de Avaliação   \n",
        "TIME = (time.time() - start_time)/RUNS\n",
        "BEST_AGENTS=np.array(BEST_AGENTS)\n",
        "BEST_AGENTS_ST= BEST_AGENTS[BEST_AGENTS[:,-1].argsort()]\n",
        "BEST=BEST_AGENTS_ST[0]\n",
        "WORSE=BEST_AGENTS_ST[-1]\n",
        "MEAN=np.mean(BEST_AGENTS,axis=0)\n",
        "MAXFO=BEST_AGENTS[:,-1].max()\n",
        "MINFO=BEST_AGENTS[:,-1].min()\n",
        "STD=BEST_AGENTS[:,-1].std()\n",
        "\n",
        "nome='_DE_STAT_Fo-'+str(mut)+'_CRo-'+str(crossp)+'_D-'+str(dim)+'_Interv-'+str(ITE)\n",
        "print('DE_F_CR','TOTAL=',TOTAL,'Iterações=',ITE*its,'Dim=', dim,\"Min/Max=\",MIN[0],\"/\",MAX[0],'_',Fun.__name__)\n",
        "print(nome, '\\n')\n",
        "#print('BEST: ',BEST)\n",
        "#print('MÉDIA: ',MEAN)\n",
        "print('MÉDIA: ',MEAN[-1])\n",
        "print('MIN __:',MINFO)\n",
        "print('MAX__: ',MAXFO)\n",
        "print('STD __:',STD)\n",
        "print(\"Tempo Médio= %.3f segundos ---\" % (TIME))\n",
        "print(RUNS,'Rodadas') \n",
        "print()\n",
        "print('BEST: ',BEST)\n",
        "# print('melhor=',BEST_AGENTS[BEST_INDEX])"
      ],
      "execution_count": 6,
      "outputs": [
        {
          "output_type": "stream",
          "text": [
            "DE_POP_VAR_F_CR TOTAL= 200000 Iterações= 2000 Dim= 10 Min/Max= -10 / 10 _ Schwefel_222\n",
            "_DE_STAT_Fo-0.5_CRo-0.5_D-10_Interv-2000 \n",
            "\n",
            "MÉDIA:  0.1556233565491143\n",
            "MIN __: 1.4711355493795861e-34\n",
            "MAX__:  6.5737034258799385\n",
            "STD __: 0.9185995750405934\n",
            "Tempo Médio= 2.675 segundos ---\n",
            "50 Rodadas\n",
            "\n",
            "BEST:  [ 3.48512790e-49 -1.78432626e-51  5.08682990e-51  2.98070546e-51\n",
            "  2.67948456e-52 -3.04127465e-51 -1.47112086e-34 -1.46920542e-39\n",
            "  2.66408001e-51  2.06088477e-49  1.47113555e-34]\n"
          ],
          "name": "stdout"
        }
      ]
    }
  ]
}